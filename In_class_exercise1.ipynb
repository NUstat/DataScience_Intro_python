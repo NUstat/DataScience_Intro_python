{
 "cells": [
  {
   "cell_type": "markdown",
   "id": "e577b534",
   "metadata": {},
   "source": [
    "# First HTML file"
   ]
  },
  {
   "cell_type": "markdown",
   "id": "45a8a084",
   "metadata": {},
   "source": [
    "Today is day 1 of class"
   ]
  },
  {
   "cell_type": "code",
   "execution_count": 2,
   "id": "54317d39",
   "metadata": {},
   "outputs": [
    {
     "name": "stdout",
     "output_type": "stream",
     "text": [
      "Number of hours of this course in the quarter =  26.6\n"
     ]
    }
   ],
   "source": [
    "print(\"Number of hours of this course in the quarter = \",10*1.33*2)"
   ]
  }
 ],
 "metadata": {
  "kernelspec": {
   "display_name": "Python 3",
   "language": "python",
   "name": "python3"
  },
  "language_info": {
   "codemirror_mode": {
    "name": "ipython",
    "version": 3
   },
   "file_extension": ".py",
   "mimetype": "text/x-python",
   "name": "python",
   "nbconvert_exporter": "python",
   "pygments_lexer": "ipython3",
   "version": "3.8.8"
  }
 },
 "nbformat": 4,
 "nbformat_minor": 5
}
