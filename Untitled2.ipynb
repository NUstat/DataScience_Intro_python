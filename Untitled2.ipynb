{
 "cells": [
  {
   "cell_type": "code",
   "execution_count": 21,
   "id": "f6339bc6",
   "metadata": {},
   "outputs": [],
   "source": [
    "class Parent:\n",
    "    \n",
    "    def __init__(self, aa):\n",
    "        self.aa = aa\n",
    "        #self.value = 2\n",
    "        \n",
    "    def method1(self):\n",
    "        return self.a+' should study!'\n",
    "    \n",
    "    def method2(self):\n",
    "        return self.a+' does not study enough '\n",
    "    value = 2\n",
    "    \n",
    "\n",
    "class Child(Parent):\n",
    "    \n",
    "    def __init__(self, a,b):\n",
    "        self.a = a\n",
    "        self.b = b\n",
    "        self.c = Parent.value\n",
    "        \n",
    "    def method1(self):\n",
    "        return self.a+' should play with ' + self.b\n",
    "    \n",
    "    def method3(self):\n",
    "        return self.a + ' does not play enough'"
   ]
  },
  {
   "cell_type": "code",
   "execution_count": 22,
   "id": "c1973644",
   "metadata": {},
   "outputs": [],
   "source": [
    "ch = Child('3','4')"
   ]
  },
  {
   "cell_type": "code",
   "execution_count": 27,
   "id": "251666c7",
   "metadata": {},
   "outputs": [],
   "source": [
    "a = Parent('5')"
   ]
  },
  {
   "cell_type": "code",
   "execution_count": 28,
   "id": "b7f618fb",
   "metadata": {},
   "outputs": [
    {
     "data": {
      "text/plain": [
       "{'aa': '5'}"
      ]
     },
     "execution_count": 28,
     "metadata": {},
     "output_type": "execute_result"
    }
   ],
   "source": [
    "a.__dict__"
   ]
  },
  {
   "cell_type": "code",
   "execution_count": 25,
   "id": "979a12ec",
   "metadata": {},
   "outputs": [
    {
     "data": {
      "text/plain": [
       "mappingproxy({'__module__': '__main__',\n",
       "              '__init__': <function __main__.Parent.__init__(self, aa)>,\n",
       "              'method1': <function __main__.Parent.method1(self)>,\n",
       "              'method2': <function __main__.Parent.method2(self)>,\n",
       "              'value': 2,\n",
       "              '__dict__': <attribute '__dict__' of 'Parent' objects>,\n",
       "              '__weakref__': <attribute '__weakref__' of 'Parent' objects>,\n",
       "              '__doc__': None})"
      ]
     },
     "execution_count": 25,
     "metadata": {},
     "output_type": "execute_result"
    }
   ],
   "source": [
    "Parent.__dict__"
   ]
  },
  {
   "cell_type": "code",
   "execution_count": 5,
   "id": "99c460fd",
   "metadata": {},
   "outputs": [],
   "source": [
    "class Unit(object):\n",
    "    value = 10\n",
    "\n",
    "class Archer(Unit):\n",
    "    pass\n",
    "\n"
   ]
  },
  {
   "cell_type": "code",
   "execution_count": 6,
   "id": "e6625076",
   "metadata": {},
   "outputs": [
    {
     "data": {
      "text/plain": [
       "10"
      ]
     },
     "execution_count": 6,
     "metadata": {},
     "output_type": "execute_result"
    }
   ],
   "source": [
    "Unit.value"
   ]
  },
  {
   "cell_type": "code",
   "execution_count": 7,
   "id": "156222fc",
   "metadata": {},
   "outputs": [
    {
     "data": {
      "text/plain": [
       "10"
      ]
     },
     "execution_count": 7,
     "metadata": {},
     "output_type": "execute_result"
    }
   ],
   "source": [
    "Archer.value"
   ]
  }
 ],
 "metadata": {
  "kernelspec": {
   "display_name": "Python 3",
   "language": "python",
   "name": "python3"
  },
  "language_info": {
   "codemirror_mode": {
    "name": "ipython",
    "version": 3
   },
   "file_extension": ".py",
   "mimetype": "text/x-python",
   "name": "python",
   "nbconvert_exporter": "python",
   "pygments_lexer": "ipython3",
   "version": "3.8.8"
  }
 },
 "nbformat": 4,
 "nbformat_minor": 5
}
