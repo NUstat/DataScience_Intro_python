{
 "cells": [
  {
   "cell_type": "code",
   "execution_count": 2,
   "id": "793631da",
   "metadata": {},
   "outputs": [],
   "source": [
    "deck = [{'value':i, 'suit':c}\n",
    "for c in ['spades', 'clubs', 'hearts', 'diamonds']\n",
    "for i in range(2,15)]"
   ]
  },
  {
   "cell_type": "code",
   "execution_count": 3,
   "id": "e746bb1a",
   "metadata": {},
   "outputs": [
    {
     "data": {
      "text/plain": [
       "[{'value': 2, 'suit': 'spades'},\n",
       " {'value': 3, 'suit': 'spades'},\n",
       " {'value': 4, 'suit': 'spades'},\n",
       " {'value': 5, 'suit': 'spades'},\n",
       " {'value': 6, 'suit': 'spades'},\n",
       " {'value': 7, 'suit': 'spades'},\n",
       " {'value': 8, 'suit': 'spades'},\n",
       " {'value': 9, 'suit': 'spades'},\n",
       " {'value': 10, 'suit': 'spades'},\n",
       " {'value': 11, 'suit': 'spades'},\n",
       " {'value': 12, 'suit': 'spades'},\n",
       " {'value': 13, 'suit': 'spades'},\n",
       " {'value': 14, 'suit': 'spades'},\n",
       " {'value': 2, 'suit': 'clubs'},\n",
       " {'value': 3, 'suit': 'clubs'},\n",
       " {'value': 4, 'suit': 'clubs'},\n",
       " {'value': 5, 'suit': 'clubs'},\n",
       " {'value': 6, 'suit': 'clubs'},\n",
       " {'value': 7, 'suit': 'clubs'},\n",
       " {'value': 8, 'suit': 'clubs'},\n",
       " {'value': 9, 'suit': 'clubs'},\n",
       " {'value': 10, 'suit': 'clubs'},\n",
       " {'value': 11, 'suit': 'clubs'},\n",
       " {'value': 12, 'suit': 'clubs'},\n",
       " {'value': 13, 'suit': 'clubs'},\n",
       " {'value': 14, 'suit': 'clubs'},\n",
       " {'value': 2, 'suit': 'hearts'},\n",
       " {'value': 3, 'suit': 'hearts'},\n",
       " {'value': 4, 'suit': 'hearts'},\n",
       " {'value': 5, 'suit': 'hearts'},\n",
       " {'value': 6, 'suit': 'hearts'},\n",
       " {'value': 7, 'suit': 'hearts'},\n",
       " {'value': 8, 'suit': 'hearts'},\n",
       " {'value': 9, 'suit': 'hearts'},\n",
       " {'value': 10, 'suit': 'hearts'},\n",
       " {'value': 11, 'suit': 'hearts'},\n",
       " {'value': 12, 'suit': 'hearts'},\n",
       " {'value': 13, 'suit': 'hearts'},\n",
       " {'value': 14, 'suit': 'hearts'},\n",
       " {'value': 2, 'suit': 'diamonds'},\n",
       " {'value': 3, 'suit': 'diamonds'},\n",
       " {'value': 4, 'suit': 'diamonds'},\n",
       " {'value': 5, 'suit': 'diamonds'},\n",
       " {'value': 6, 'suit': 'diamonds'},\n",
       " {'value': 7, 'suit': 'diamonds'},\n",
       " {'value': 8, 'suit': 'diamonds'},\n",
       " {'value': 9, 'suit': 'diamonds'},\n",
       " {'value': 10, 'suit': 'diamonds'},\n",
       " {'value': 11, 'suit': 'diamonds'},\n",
       " {'value': 12, 'suit': 'diamonds'},\n",
       " {'value': 13, 'suit': 'diamonds'},\n",
       " {'value': 14, 'suit': 'diamonds'}]"
      ]
     },
     "execution_count": 3,
     "metadata": {},
     "output_type": "execute_result"
    }
   ],
   "source": [
    "deck"
   ]
  }
 ],
 "metadata": {
  "kernelspec": {
   "display_name": "Python 3",
   "language": "python",
   "name": "python3"
  },
  "language_info": {
   "codemirror_mode": {
    "name": "ipython",
    "version": 3
   },
   "file_extension": ".py",
   "mimetype": "text/x-python",
   "name": "python",
   "nbconvert_exporter": "python",
   "pygments_lexer": "ipython3",
   "version": "3.8.8"
  }
 },
 "nbformat": 4,
 "nbformat_minor": 5
}
