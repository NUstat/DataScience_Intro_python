{
 "cells": [
  {
   "cell_type": "raw",
   "id": "6407ea8e",
   "metadata": {},
   "source": [
    "---\n",
    "title: \"Introduction to Python and Jupyter Notebooks\"\n",
    "format: \n",
    "  html:\n",
    "    code-fold: false\n",
    "    toc-depth: 4\n",
    "jupyter: python3\n",
    "---"
   ]
  },
  {
   "cell_type": "markdown",
   "id": "2c2ec33d",
   "metadata": {},
   "source": [
    "This chapter is a very brief introduction to python and Jupyter notebooks. If you have not taken STAT201 (Introduction to programming for data science), which is now a pre-requisite for the data science major / minor program, please review the python programming section (chapters 1-6) from the [STAT201 book](https://nustat.github.io/Intro_to_programming_for_data_sci/Introduction%20to%20Jupyter%20Notebooks%20and%20programming%20in%20python.html). It is assumed that you are already comfortable with this content. Some of the content of these chapters is reviewed briefly in the first two chapters of this book."
   ]
  },
  {
   "cell_type": "markdown",
   "id": "98f283a8",
   "metadata": {},
   "source": [
    "## Installation"
   ]
  },
  {
   "cell_type": "markdown",
   "id": "278536c0",
   "metadata": {},
   "source": [
    "**Anaconda:** If you are new to python, we recommend downloading the [Anaconda installer](https://docs.anaconda.com/anaconda/install/) and following the instructions for installation. Once installed, we'll use the Jupyter Notebook interface to write code.\n",
    "\n",
    "**Quarto:** We'll use Quarto to publish the *.ipynb* file containing text, python code, and the output. Download and install Quarto from [here](https://quarto.org/docs/get-started/)."
   ]
  },
  {
   "cell_type": "markdown",
   "id": "3669a619",
   "metadata": {},
   "source": [
    "## Jupyter notebook"
   ]
  },
  {
   "cell_type": "markdown",
   "id": "add89b06",
   "metadata": {},
   "source": [
    "### Introduction"
   ]
  },
  {
   "cell_type": "markdown",
   "id": "6b85a544",
   "metadata": {},
   "source": [
    "Jupyter notebook is an interactive platform, where you can write code and text, and make visualizations. Jupyter is a loose acronym meaning Julia, Python, and R. However, now it supports Ruby, Haskell, Scala, Go, etc, besides Julia, Python, and R. You can access Jupyter notebook from the Anaconda Navigator, or directly open the Jupyter Notebook application itself. It should automatically open up in your default browser. The figure below shows a Jupyter Notebook opened with Google Chrome. This page is called the *landing page* of the notebook."
   ]
  },
  {
   "cell_type": "code",
   "execution_count": 3,
   "id": "2dd4a20a",
   "metadata": {},
   "outputs": [
    {
     "data": {
      "text/html": [
       "<img src=\"./Datasets/jupyter.jpg\" width=\"700\" height=\"400\"/>"
      ],
      "text/plain": [
       "<IPython.core.display.Image object>"
      ]
     },
     "execution_count": 3,
     "metadata": {},
     "output_type": "execute_result"
    }
   ],
   "source": [
    "#| echo: false\n",
    "\n",
    "# import image module\n",
    "from IPython.display import Image\n",
    "\n",
    "# get the image\n",
    "Image(url=\"./Datasets/jupyter.jpg\")"
   ]
  },
  {
   "cell_type": "markdown",
   "id": "830726a0",
   "metadata": {},
   "source": [
    "To create a new notebook, click on the `New` button and select the `Python 3` option. You should see a blank notebook as in the figure below."
   ]
  },
  {
   "cell_type": "code",
   "execution_count": 22,
   "id": "e7ab843d",
   "metadata": {},
   "outputs": [
    {
     "data": {
      "text/html": [
       "<img src=\"./Datasets/jupyter_newbook.jpg\" width=\"600\" height=\"150\"/>"
      ],
      "text/plain": [
       "<IPython.core.display.Image object>"
      ]
     },
     "execution_count": 22,
     "metadata": {},
     "output_type": "execute_result"
    }
   ],
   "source": [
    "#| echo: false\n",
    "\n",
    "# import image module\n",
    "from IPython.display import Image\n",
    "\n",
    "# get the image\n",
    "Image(url=\"./Datasets/jupyter_newbook.jpg\", width=600, height=150)"
   ]
  },
  {
   "cell_type": "markdown",
   "id": "afa1f40d",
   "metadata": {},
   "source": [
    "### Writing and executing code"
   ]
  },
  {
   "cell_type": "markdown",
   "id": "80ee6db6",
   "metadata": {},
   "source": [
    "**Code cell:**\n",
    "By default, a cell is of type *Code*, i.e., for typing code, as seen as the default choice in the dropdown menu below the *Widgets* tab. Try typing a line of python code (say, `2+3`) in an empty code cell and execute it by pressing *Shift+Enter*. This should execute the code, and create an new code cell. Pressing *Ctlr+Enter for Windows (or Cmd+Enter for Mac)* will execute the code without creating a new cell. "
   ]
  },
  {
   "cell_type": "markdown",
   "id": "5e90bc42",
   "metadata": {},
   "source": [
    "**Commenting code in a code cell:** Comments should be made while writing the code to explain the purpose of the code or a brief explanation of the tasks being performed by the code. A comment can be added in a code cell by preceding it with a # sign. For example, see the comment in the code below.\n",
    "\n",
    "Writing comments will help other users understand your code. It is also useful for the coder to keep track of the tasks being performed by their code. "
   ]
  },
  {
   "cell_type": "code",
   "execution_count": 51,
   "id": "37302504",
   "metadata": {},
   "outputs": [
    {
     "data": {
      "text/plain": [
       "8"
      ]
     },
     "execution_count": 51,
     "metadata": {},
     "output_type": "execute_result"
    }
   ],
   "source": [
    "#This code adds 3 and 5\n",
    "3+5"
   ]
  },
  {
   "cell_type": "markdown",
   "id": "c858e36a",
   "metadata": {},
   "source": [
    "**Markdown cell:** Although a comment can be written in a code cell, a code cell cannot be used for writing headings/sub-headings, and is not appropriate for writing lengthy chunks of text. In such cases, change the cell type to *Markdown* from the dropdown menu below the *Widgets* tab. Use any markdown cheat sheet found online, for example, [this one](https://www.markdownguide.org/cheat-sheet/) to format text in the markdown cells."
   ]
  },
  {
   "cell_type": "markdown",
   "id": "a3532afd",
   "metadata": {},
   "source": [
    "Give a name to the notebook by clicking on the text, which says 'Untitled'. "
   ]
  },
  {
   "cell_type": "markdown",
   "id": "398c16fa",
   "metadata": {},
   "source": [
    "### Saving and loading notebooks"
   ]
  },
  {
   "cell_type": "markdown",
   "id": "1eacedfb",
   "metadata": {},
   "source": [
    "Save the notebook by clicking on `File`, and selecting `Save as`, or clicking on the `Save and Checkpoint` icon (below the `File` tab). Your notebook will be saved as a file with an extension *ipynb*. This file will contain all the code as well as the outputs, and can be loaded and edited by a Jupyter user. To load an existing Jupyter notebook, navigate to the folder of the notebook on the *landing page*, and then click on the file to open it."
   ]
  },
  {
   "cell_type": "markdown",
   "id": "8a4ed575",
   "metadata": {},
   "source": [
    "### Rendering notebook as HTML"
   ]
  },
  {
   "cell_type": "markdown",
   "id": "7962b6a7",
   "metadata": {},
   "source": [
    "We'll use Quarto to print the **.ipynb* file as HTML. Check the procedure for rendering a notebook as HTML [here](https://quarto.org/docs/output-formats/html-basics.html). You have several options to format the file.\n",
    "\n",
    "You will need to open the command prompt, navigate to the directory containing the file, and use the command: `quarto render filename.ipynb --to html`.\n"
   ]
  },
  {
   "cell_type": "markdown",
   "id": "fae34c74",
   "metadata": {},
   "source": [
    "## In-class exercise {-}"
   ]
  },
  {
   "cell_type": "markdown",
   "id": "90dd7984",
   "metadata": {},
   "source": [
    "1. Create a new notebook. \n",
    "2. Save the file as `In_class_exercise1`. \n",
    "3. Give a heading to the file - `First HTML file`.\n",
    "4. Print `Today is day 1 of class`. \n",
    "5. Compute and print the number of hours of this course in the quarter (that will be 10 weeks x 2 classes per week x 1.33 hours per class).\n",
    "\n",
    "\n",
    "The HTML file should look like the picture below."
   ]
  },
  {
   "cell_type": "code",
   "execution_count": 12,
   "id": "ac8036dc",
   "metadata": {},
   "outputs": [
    {
     "data": {
      "text/html": [
       "<img src=\"./Datasets/first_html.jpg\" width=\"800\" height=\"200\"/>"
      ],
      "text/plain": [
       "<IPython.core.display.Image object>"
      ]
     },
     "execution_count": 12,
     "metadata": {},
     "output_type": "execute_result"
    }
   ],
   "source": [
    "#| echo: false\n",
    "\n",
    "# get the image\n",
    "Image(url=\"./Datasets/first_html.jpg\", width=750, height=200)"
   ]
  },
  {
   "cell_type": "markdown",
   "id": "3bb77626",
   "metadata": {},
   "source": [
    "## Python language basics"
   ]
  },
  {
   "cell_type": "markdown",
   "id": "59930b1a",
   "metadata": {},
   "source": [
    "### Object Oriented Programming"
   ]
  },
  {
   "cell_type": "markdown",
   "id": "b6ee10da",
   "metadata": {},
   "source": [
    "Python is an object-oriented programming language. In layman terms, it means that every number, string, data structure, function, class, module, etc., exists in the python interpreter as a python object. An object may have attributes and methods associated with it. For example, let us define a variable that stores an integer:"
   ]
  },
  {
   "cell_type": "code",
   "execution_count": 52,
   "id": "c563f7a5",
   "metadata": {},
   "outputs": [],
   "source": [
    "var = 2"
   ]
  },
  {
   "cell_type": "markdown",
   "id": "b283f963",
   "metadata": {},
   "source": [
    "The variable `var` is an object that has attributes and methods associated with it. For example a couple of its attributes are `real` and `imag`, which store the real and imaginary parts respectively, of the object `var`:"
   ]
  },
  {
   "cell_type": "code",
   "execution_count": 57,
   "id": "40ef60f7",
   "metadata": {},
   "outputs": [
    {
     "name": "stdout",
     "output_type": "stream",
     "text": [
      "Real part of 'var':  2\n",
      "Real part of 'var':  0\n"
     ]
    }
   ],
   "source": [
    "print(\"Real part of 'var': \",var.real)\n",
    "print(\"Real part of 'var': \",var.imag)"
   ]
  },
  {
   "cell_type": "markdown",
   "id": "0f9a7590",
   "metadata": {},
   "source": [
    "**Attribute:** An attribute is a value associated with an object, defined within the class of the object. \n",
    "\n",
    "**Method:** A method is a function associated with an object, defined within the class of the object, and has access to the attributes associated with the object.\n",
    "\n",
    "For looking at attributes and methods associated with an object, say `obj`, press tab key after typing `obj.`."
   ]
  },
  {
   "cell_type": "markdown",
   "id": "8522c29c",
   "metadata": {},
   "source": [
    "Consider the example below of a class *example_class*:"
   ]
  },
  {
   "cell_type": "code",
   "execution_count": 1,
   "id": "76994e15",
   "metadata": {},
   "outputs": [],
   "source": [
    "class example_class:\n",
    "    class_name = 'My Class'\n",
    "    def my_method(self):\n",
    "        print('Hello World!')\n",
    "\n",
    "e = example_class()"
   ]
  },
  {
   "cell_type": "markdown",
   "id": "d512f6d6",
   "metadata": {},
   "source": [
    "In the above class, `class_name` is an attribute, while `my_method` is a method."
   ]
  },
  {
   "cell_type": "markdown",
   "id": "e9e9e5f9",
   "metadata": {},
   "source": [
    "### Assigning variable name to object"
   ]
  },
  {
   "cell_type": "markdown",
   "id": "28e13b5e",
   "metadata": {},
   "source": [
    "#### Call by reference"
   ]
  },
  {
   "cell_type": "markdown",
   "id": "9a6d2ba8",
   "metadata": {},
   "source": [
    "Python utilizes a system, which is known as *Call by Object Reference*. When an object is assigned to a variable name, the variable name serves as a reference to the object. For example, consider the following assignment:"
   ]
  },
  {
   "cell_type": "code",
   "execution_count": 57,
   "id": "bd97adc0",
   "metadata": {},
   "outputs": [],
   "source": [
    "x = [5,3]"
   ]
  },
  {
   "cell_type": "markdown",
   "id": "848d099c",
   "metadata": {},
   "source": [
    "The variable name `x` is a reference to the memory location where the object `[5, 3]` is stored. Now, suppose we assign `x` to a new variable `y`:"
   ]
  },
  {
   "cell_type": "code",
   "execution_count": 58,
   "id": "72952036",
   "metadata": {},
   "outputs": [],
   "source": [
    "y = x"
   ]
  },
  {
   "cell_type": "markdown",
   "id": "8cd5dd6f",
   "metadata": {},
   "source": [
    "In the above statement the variable name `y` now refers to the same object `[5,3]`. The object `[5,3]` does **not** get copied to a new memory location referred by `y`. To prove this, let us add an element to `y`:"
   ]
  },
  {
   "cell_type": "code",
   "execution_count": 59,
   "id": "96fbe234",
   "metadata": {},
   "outputs": [
    {
     "name": "stdout",
     "output_type": "stream",
     "text": [
      "[5, 3, 4]\n"
     ]
    }
   ],
   "source": [
    "y.append(4)\n",
    "print(y)"
   ]
  },
  {
   "cell_type": "code",
   "execution_count": 60,
   "id": "8341c5e8",
   "metadata": {},
   "outputs": [
    {
     "name": "stdout",
     "output_type": "stream",
     "text": [
      "[5, 3, 4]\n"
     ]
    }
   ],
   "source": [
    "print(x)"
   ]
  },
  {
   "cell_type": "markdown",
   "id": "48c24e8c",
   "metadata": {},
   "source": [
    "When we changed `y`, note that `x` also changed to the same object, showing that `x` and `y` refer to the same object, instead of referring to different copies of the same object."
   ]
  },
  {
   "cell_type": "markdown",
   "id": "db4cf0fb",
   "metadata": {},
   "source": [
    "#### Assigning multiple variable names"
   ]
  },
  {
   "cell_type": "markdown",
   "id": "46f06d4c",
   "metadata": {},
   "source": [
    "Values can be assigned to multiple variables in a single statement by separating the variable names and values with commas."
   ]
  },
  {
   "cell_type": "code",
   "execution_count": 1,
   "id": "e609259f",
   "metadata": {},
   "outputs": [],
   "source": [
    "color1, color2, color3 = \"red\", \"green\", \"blue\""
   ]
  },
  {
   "cell_type": "code",
   "execution_count": 2,
   "id": "4fdd12f8",
   "metadata": {},
   "outputs": [
    {
     "data": {
      "text/plain": [
       "'red'"
      ]
     },
     "execution_count": 2,
     "metadata": {},
     "output_type": "execute_result"
    }
   ],
   "source": [
    "color1"
   ]
  },
  {
   "cell_type": "code",
   "execution_count": 3,
   "id": "5fd9d511",
   "metadata": {},
   "outputs": [
    {
     "data": {
      "text/plain": [
       "'blue'"
      ]
     },
     "execution_count": 3,
     "metadata": {},
     "output_type": "execute_result"
    }
   ],
   "source": [
    "color3"
   ]
  },
  {
   "cell_type": "markdown",
   "id": "5e481511",
   "metadata": {},
   "source": [
    "The same value can be assigned to multiple variables by chaining multiple assignment operations within a single statement."
   ]
  },
  {
   "cell_type": "code",
   "execution_count": 4,
   "id": "be275d4f",
   "metadata": {},
   "outputs": [],
   "source": [
    "color4 = color5 = color6 = \"magenta\""
   ]
  },
  {
   "cell_type": "markdown",
   "id": "c880b9e5",
   "metadata": {},
   "source": [
    "#### Rules for variable names"
   ]
  },
  {
   "cell_type": "markdown",
   "id": "e2bcfee2",
   "metadata": {},
   "source": [
    "Variable names can be short (`a`, `x`, `y`, etc.) or descriptive ( `my_favorite_color`, `profit_margin`, `the_3_musketeers`, etc.). However, we recommend that you use descriptive variable names as it makes it easier to understand the code.\n",
    "\n",
    "The rules below must be followed while naming Python variables:\n",
    "\n",
    "* A variable's name must start with a letter or the underscore character `_`. It cannot begin with a number.\n",
    "* A variable name can only contain lowercase (small) or uppercase (capital) letters, digits, or underscores (`a`-`z`, `A`-`Z`, `0`-`9`, and `_`).\n",
    "* Variable names are case-sensitive, i.e., `a_variable`, `A_Variable`, and `A_VARIABLE` are all different variables.\n",
    "\n",
    "Here are some valid variable names:"
   ]
  },
  {
   "cell_type": "code",
   "execution_count": 6,
   "id": "2df1a751",
   "metadata": {},
   "outputs": [],
   "source": [
    "a_variable = 23\n",
    "is_today_Saturday = False\n",
    "my_favorite_car = \"Delorean\"\n",
    "the_3_musketeers = [\"Athos\", \"Porthos\", \"Aramis\"] "
   ]
  },
  {
   "cell_type": "markdown",
   "id": "e5cfcad5",
   "metadata": {},
   "source": [
    "Let's try creating some variables with invalid names. Python prints a syntax error if the variable's name is invalid.\n",
    "\n",
    "> **Syntax**: The syntax of a programming language refers to the rules that govern the structure of a valid instruction or *statement*. If a statement does not follow these rules, Python stops execution and informs you that there is a *syntax error*. Syntax can be thought of as the rules of grammar for a programming language."
   ]
  },
  {
   "cell_type": "code",
   "execution_count": null,
   "id": "b5362ef0",
   "metadata": {},
   "outputs": [],
   "source": [
    "a variable = 23"
   ]
  },
  {
   "cell_type": "code",
   "execution_count": null,
   "id": "86c3775f",
   "metadata": {},
   "outputs": [],
   "source": [
    "is_today_$aturday = False"
   ]
  },
  {
   "cell_type": "code",
   "execution_count": null,
   "id": "67697f9a",
   "metadata": {},
   "outputs": [],
   "source": [
    "my-favorite-car = \"Delorean\""
   ]
  },
  {
   "cell_type": "code",
   "execution_count": null,
   "id": "cd306224",
   "metadata": {},
   "outputs": [],
   "source": [
    "3_musketeers = [\"Athos\", \"Porthos\", \"Aramis\"]"
   ]
  },
  {
   "cell_type": "markdown",
   "id": "c9228df2",
   "metadata": {},
   "source": [
    "### Built-in objects"
   ]
  },
  {
   "cell_type": "markdown",
   "id": "a662bf86",
   "metadata": {},
   "source": [
    "#### Built-in data types\n",
    "\n",
    "Variable is created as soon as a value is assigned to it. We don't have to define the type of variable explicitly as in other programming languages because Python can automatically guess the type of data entered **(dynamically typed)**.\n",
    "\n",
    "Any data or information stored within a Python variable has a *type*. We can view the type of data stored within a variable using the `type` function."
   ]
  },
  {
   "cell_type": "code",
   "execution_count": 7,
   "id": "9b582c23",
   "metadata": {},
   "outputs": [
    {
     "data": {
      "text/plain": [
       "23"
      ]
     },
     "execution_count": 7,
     "metadata": {},
     "output_type": "execute_result"
    }
   ],
   "source": [
    "a_variable"
   ]
  },
  {
   "cell_type": "code",
   "execution_count": 8,
   "id": "49e20b7d",
   "metadata": {},
   "outputs": [
    {
     "data": {
      "text/plain": [
       "int"
      ]
     },
     "execution_count": 8,
     "metadata": {},
     "output_type": "execute_result"
    }
   ],
   "source": [
    "type(a_variable)"
   ]
  },
  {
   "cell_type": "code",
   "execution_count": 9,
   "id": "aa2ae8e8",
   "metadata": {},
   "outputs": [
    {
     "data": {
      "text/plain": [
       "False"
      ]
     },
     "execution_count": 9,
     "metadata": {},
     "output_type": "execute_result"
    }
   ],
   "source": [
    "is_today_Saturday"
   ]
  },
  {
   "cell_type": "code",
   "execution_count": 10,
   "id": "29ba77fc",
   "metadata": {},
   "outputs": [
    {
     "data": {
      "text/plain": [
       "bool"
      ]
     },
     "execution_count": 10,
     "metadata": {},
     "output_type": "execute_result"
    }
   ],
   "source": [
    "type(is_today_Saturday)"
   ]
  },
  {
   "cell_type": "code",
   "execution_count": 11,
   "id": "a32dbc50",
   "metadata": {},
   "outputs": [
    {
     "data": {
      "text/plain": [
       "'Delorean'"
      ]
     },
     "execution_count": 11,
     "metadata": {},
     "output_type": "execute_result"
    }
   ],
   "source": [
    "my_favorite_car"
   ]
  },
  {
   "cell_type": "code",
   "execution_count": 12,
   "id": "10660747",
   "metadata": {},
   "outputs": [
    {
     "data": {
      "text/plain": [
       "str"
      ]
     },
     "execution_count": 12,
     "metadata": {},
     "output_type": "execute_result"
    }
   ],
   "source": [
    "type(my_favorite_car)"
   ]
  },
  {
   "cell_type": "code",
   "execution_count": 13,
   "id": "05b99a51",
   "metadata": {},
   "outputs": [
    {
     "data": {
      "text/plain": [
       "['Athos', 'Porthos', 'Aramis']"
      ]
     },
     "execution_count": 13,
     "metadata": {},
     "output_type": "execute_result"
    }
   ],
   "source": [
    "the_3_musketeers"
   ]
  },
  {
   "cell_type": "code",
   "execution_count": 14,
   "id": "e53aaf6d",
   "metadata": {},
   "outputs": [
    {
     "data": {
      "text/plain": [
       "list"
      ]
     },
     "execution_count": 14,
     "metadata": {},
     "output_type": "execute_result"
    }
   ],
   "source": [
    "type(the_3_musketeers)"
   ]
  },
  {
   "cell_type": "markdown",
   "id": "510d0ff2",
   "metadata": {},
   "source": [
    "Python has several built-in data types for storing different kinds of information in variables."
   ]
  },
  {
   "cell_type": "code",
   "execution_count": 15,
   "id": "54332cbb",
   "metadata": {},
   "outputs": [
    {
     "data": {
      "text/html": [
       "<img src=\"datatypes.png\" width=\"700\" height=\"400\"/>"
      ],
      "text/plain": [
       "<IPython.core.display.Image object>"
      ]
     },
     "execution_count": 15,
     "metadata": {},
     "output_type": "execute_result"
    }
   ],
   "source": [
    "#| echo: false\n",
    "\n",
    "# import image module\n",
    "from IPython.display import Image\n",
    "\n",
    "# get the image\n",
    "Image(url=\"datatypes.png\", width=700, height=400)"
   ]
  },
  {
   "cell_type": "markdown",
   "id": "76542a92",
   "metadata": {},
   "source": [
    "**Primitive:**\n",
    "Integer, float, boolean, None, and string are *primitive data types* because they represent a single value.\n",
    "\n",
    "**Containers:**\n",
    "Other data types like list, tuple, and dictionary are often called *data structures* or *containers* because they hold multiple pieces of data together. We'll discuss these datatypes in chapter 2.\n",
    "\n",
    "The data type of the object can be identified using the in-built python function `type()`. For example, see the following objects and their types:"
   ]
  },
  {
   "cell_type": "code",
   "execution_count": 1,
   "id": "9ba52e1a",
   "metadata": {},
   "outputs": [
    {
     "data": {
      "text/plain": [
       "int"
      ]
     },
     "execution_count": 1,
     "metadata": {},
     "output_type": "execute_result"
    }
   ],
   "source": [
    "type(4)"
   ]
  },
  {
   "cell_type": "code",
   "execution_count": 36,
   "id": "240cc76c",
   "metadata": {},
   "outputs": [
    {
     "data": {
      "text/plain": [
       "float"
      ]
     },
     "execution_count": 36,
     "metadata": {},
     "output_type": "execute_result"
    }
   ],
   "source": [
    "type(4.4)"
   ]
  },
  {
   "cell_type": "code",
   "execution_count": 37,
   "id": "8bf2d5ac",
   "metadata": {},
   "outputs": [
    {
     "data": {
      "text/plain": [
       "str"
      ]
     },
     "execution_count": 37,
     "metadata": {},
     "output_type": "execute_result"
    }
   ],
   "source": [
    "type('4')"
   ]
  },
  {
   "cell_type": "code",
   "execution_count": 38,
   "id": "d92acd98",
   "metadata": {},
   "outputs": [
    {
     "data": {
      "text/plain": [
       "bool"
      ]
     },
     "execution_count": 38,
     "metadata": {},
     "output_type": "execute_result"
    }
   ],
   "source": [
    "type(True)"
   ]
  },
  {
   "cell_type": "markdown",
   "id": "6b69dd81",
   "metadata": {},
   "source": [
    "#### Built-in modules and functions\n",
    "\n",
    "Built-in functions in Python are a set of predefined functions that are available for use without the need to import any additional libraries or modules. The [Python Standard Library](https://docs.python.org/3/library/) is very extensive. Besides built-in functions, it also contains many Python scripts (with the . py extension) containing useful utilities and modules written in Python that provide standardized solutions for many problems that occur in everyday programming.\n",
    "\n",
    "Below are a couple of examples:"
   ]
  },
  {
   "cell_type": "markdown",
   "id": "7508ff77",
   "metadata": {},
   "source": [
    "**range():** The `range()` function returns a sequence of evenly-spaced integer values. It is commonly used in `for` loops to define the sequence of elements over which the iterations are performed."
   ]
  },
  {
   "cell_type": "markdown",
   "id": "5418d6a2",
   "metadata": {},
   "source": [
    "Below is an example where the `range()` function is used to create a sequence of whole numbers upto 10:"
   ]
  },
  {
   "cell_type": "code",
   "execution_count": 108,
   "id": "9820ed31",
   "metadata": {},
   "outputs": [
    {
     "name": "stdout",
     "output_type": "stream",
     "text": [
      "[1, 2, 3, 4, 5, 6, 7, 8, 9]\n"
     ]
    }
   ],
   "source": [
    "print(list(range(1,10)))"
   ]
  },
  {
   "cell_type": "markdown",
   "id": "bb2c00b2",
   "metadata": {},
   "source": [
    "The advantage of the range type over a regular list or tuple is that a range object will always take the same (small) amount of memory, no matter the size of the range it represents (as it only stores the start, stop and step values, calculating individual items and subranges as needed)."
   ]
  },
  {
   "cell_type": "markdown",
   "id": "e5603d1b",
   "metadata": {},
   "source": [
    "**Date time:** Python as a built-in [datetime](https://docs.python.org/3/library/datetime.html) module for handling date/time objects:"
   ]
  },
  {
   "cell_type": "code",
   "execution_count": 70,
   "id": "38e2456a",
   "metadata": {},
   "outputs": [],
   "source": [
    "import datetime as dt"
   ]
  },
  {
   "cell_type": "code",
   "execution_count": 72,
   "id": "963b22f5",
   "metadata": {},
   "outputs": [],
   "source": [
    "#Defining a date-time object \n",
    "dt_object = dt.datetime(2022, 9, 20, 11,30,0)"
   ]
  },
  {
   "cell_type": "markdown",
   "id": "7752641f",
   "metadata": {},
   "source": [
    "Information about date and time can be accessed with the relevant attribute of the `datetime` object."
   ]
  },
  {
   "cell_type": "code",
   "execution_count": 74,
   "id": "98f6ae72",
   "metadata": {},
   "outputs": [
    {
     "data": {
      "text/plain": [
       "20"
      ]
     },
     "execution_count": 74,
     "metadata": {},
     "output_type": "execute_result"
    }
   ],
   "source": [
    "dt_object.day"
   ]
  },
  {
   "cell_type": "code",
   "execution_count": 79,
   "id": "376e251c",
   "metadata": {},
   "outputs": [
    {
     "data": {
      "text/plain": [
       "2022"
      ]
     },
     "execution_count": 79,
     "metadata": {},
     "output_type": "execute_result"
    }
   ],
   "source": [
    "dt_object.year"
   ]
  },
  {
   "cell_type": "markdown",
   "id": "ec88c302",
   "metadata": {},
   "source": [
    "The `strftime` method of the `datetime` module formats a `datetime` object as a string. There are several types of formats for representing date as a string:"
   ]
  },
  {
   "cell_type": "code",
   "execution_count": 80,
   "id": "b7d53210",
   "metadata": {},
   "outputs": [
    {
     "data": {
      "text/plain": [
       "'09/20/2022'"
      ]
     },
     "execution_count": 80,
     "metadata": {},
     "output_type": "execute_result"
    }
   ],
   "source": [
    "dt_object.strftime('%m/%d/%Y')"
   ]
  },
  {
   "cell_type": "code",
   "execution_count": 100,
   "id": "b441d63d",
   "metadata": {},
   "outputs": [
    {
     "data": {
      "text/plain": [
       "'09/20/22 11:30'"
      ]
     },
     "execution_count": 100,
     "metadata": {},
     "output_type": "execute_result"
    }
   ],
   "source": [
    "dt_object.strftime('%m/%d/%y %H:%M')"
   ]
  },
  {
   "cell_type": "code",
   "execution_count": 99,
   "id": "a18c3b67",
   "metadata": {},
   "outputs": [
    {
     "data": {
      "text/plain": [
       "'Sep-20-2022'"
      ]
     },
     "execution_count": 99,
     "metadata": {},
     "output_type": "execute_result"
    }
   ],
   "source": [
    "dt_object.strftime('%h-%d-%Y')"
   ]
  },
  {
   "cell_type": "markdown",
   "id": "53708375",
   "metadata": {},
   "source": [
    "### Importing libraries"
   ]
  },
  {
   "cell_type": "markdown",
   "id": "b3b46ec3",
   "metadata": {},
   "source": [
    "There are several [built-in functions](https://docs.python.org/3/library/functions.html) in python like `print()`, `abs()`, `max()`, `sum()` etc., which do not require importing any library. However, these functions will typically be insufficient for a analyzing data. Some of the popular libraries and their primary purposes are as follows:\n",
    "\n",
    "1. **NumPy**: NumPy is a fundamental library for numerical computing in Python. It provides support for arrays, matrices, and mathematical functions, making it essential for scientific and data analysis tasks.. It is mostly used for performing numerical operations and efficiently storing numerical data.\n",
    "\n",
    "2. **Pandas**: Pandas is a powerful data manipulation and analysis library. It offers data structures like DataFrames and Series, which facilitate data reading, cleaning, transformation, and analysis, making it indispensable in data science projects.\n",
    "\n",
    "3. **Matplotlib, Seaborn**: Matplotlib is a comprehensive library for creating static, animated, or interactive plots and visualizations. It is commonly used for data visualization and exploration in data science. Seaborn is a Python data visualization library based on matplotlib. It provides a high-level interface for drawing attractive and informative statistical graphics.\n",
    "\n",
    "4. **SciPy**: SciPy is used for performing scientific computing such as solving differential equations, optimization, statistical tests, etc.\n",
    "\n",
    "5. **Scikit-learn**: Scikit-learn is a machine learning library that provides a wide range of tools for data pre-procesing, classification, regression, clustering, dimensionality reduction, and more. It simplifies the implementation of machine learning algorithms and model evaluation.\n",
    "\n",
    "6. **Statsmodels**: Statsmodels is used for developing statistical models with a focus on inference *(in contrast to focus on prediction as in scikit-learn)*.\n",
    "\n",
    "To use libraries like NumPy, pandas, Matplotlib, and scikit-learn in Python, you typically need to follow these steps:\n",
    "\n",
    "1. Install the libraries (Anaconda already does this)\n",
    "\n",
    "2. Import the libraries in the python script or jupyter notebook\n",
    "\n",
    "3. Use the Library Functions and Classes:\n",
    "After importing the libraries, you can use their functions, classes, and methods in your code. For instance, you can create NumPy arrays, manipulate data with pandas, create plots with Matplotlib, or train machine learning models with scikit-learn."
   ]
  },
  {
   "cell_type": "markdown",
   "id": "679115f5",
   "metadata": {},
   "source": [
    "A library can be imported using the `import` keyword. For example, a NumPy library can be imported as:"
   ]
  },
  {
   "cell_type": "code",
   "execution_count": 62,
   "id": "d7dedec0",
   "metadata": {},
   "outputs": [],
   "source": [
    "import numpy as np"
   ]
  },
  {
   "cell_type": "markdown",
   "id": "187571d9",
   "metadata": {},
   "source": [
    "Using the `as` keyboard, the NumPy library has been given the name `np`. All the functions and attributes of the library can be called using the *'np.'* prefix. For example, let us generate a sequence of whole numbers upto `10` using the NumPy function [arange()](https://numpy.org/doc/stable/reference/generated/numpy.arange.html):"
   ]
  },
  {
   "cell_type": "code",
   "execution_count": 64,
   "id": "bc40d77a",
   "metadata": {},
   "outputs": [
    {
     "data": {
      "text/plain": [
       "array([0, 1, 2, 3, 4, 5, 6, 7])"
      ]
     },
     "execution_count": 64,
     "metadata": {},
     "output_type": "execute_result"
    }
   ],
   "source": [
    "np.arange(8)"
   ]
  },
  {
   "cell_type": "markdown",
   "id": "e8888e4c",
   "metadata": {},
   "source": [
    "**There's  different ways to import:**\n",
    "\n",
    "* Import the whole module using its original name: <br>\n",
    "   `import math, os`\n",
    "   \n",
    "* Import specific things from the module: <br>\n",
    "   `from random import randint` <br>\n",
    "    `from math import pi`\n",
    "* Import the whole library and rename it, usually using a shorter variable name: <br>\n",
    "    `import pandas as pd`\n",
    "* Import a specific method from the module and rename it as it is imported: <br>\n",
    "    `from os.path import join as join_path`"
   ]
  },
  {
   "cell_type": "markdown",
   "id": "498e47f5",
   "metadata": {},
   "source": [
    "### User-defined functions\n",
    "\n",
    "A function is a reusable set of instructions that takes one or more inputs, performs some operations, and often returns an output. **Indeed, while python's standard library and ecosystem libraries offer a wealth of pre-defined functions for a wide range of tasks, there are situations where defining your own functions is not just beneficial but necessary.**\n",
    "<img src=https://www.scientecheasy.com/wp-content/uploads/2022/11/python-function-definition.png width=\"500\">"
   ]
  },
  {
   "cell_type": "markdown",
   "id": "ea2c865f",
   "metadata": {},
   "source": [
    "#### Creating and using functions\n",
    "You can define a new function using the def keyword."
   ]
  },
  {
   "cell_type": "code",
   "execution_count": 16,
   "id": "d0973d95",
   "metadata": {},
   "outputs": [],
   "source": [
    "def say_hello():\n",
    "    print('Hello there!')\n",
    "    print('How are you?')"
   ]
  },
  {
   "cell_type": "markdown",
   "id": "cece9ada",
   "metadata": {},
   "source": [
    "Note the round brackets or parentheses `()` and colon `:` after the function's name. Both are essential parts of the syntax. The function's *body* contains an indented block of statements. The statements inside a function's body are not executed when the function is defined. To execute the statements, we need to *call* or *invoke* the function."
   ]
  },
  {
   "cell_type": "code",
   "execution_count": 17,
   "id": "e7e7ed69",
   "metadata": {
    "scrolled": false
   },
   "outputs": [
    {
     "name": "stdout",
     "output_type": "stream",
     "text": [
      "Hello there!\n",
      "How are you?\n"
     ]
    }
   ],
   "source": [
    "say_hello()"
   ]
  },
  {
   "cell_type": "code",
   "execution_count": 18,
   "id": "e3e3f934",
   "metadata": {},
   "outputs": [],
   "source": [
    "def say_hello_to(name):\n",
    "    print('Hello ', name)\n",
    "    print('How are you?')"
   ]
  },
  {
   "cell_type": "code",
   "execution_count": 19,
   "id": "4b7039c6",
   "metadata": {
    "scrolled": true
   },
   "outputs": [
    {
     "name": "stdout",
     "output_type": "stream",
     "text": [
      "Hello  Lizhen\n",
      "How are you?\n"
     ]
    }
   ],
   "source": [
    "say_hello_to('Lizhen')"
   ]
  },
  {
   "cell_type": "code",
   "execution_count": 20,
   "id": "d0d3043a",
   "metadata": {},
   "outputs": [
    {
     "name": "stdout",
     "output_type": "stream",
     "text": [
      "Please enter your name: George\n",
      "Hello  George\n",
      "How are you?\n"
     ]
    }
   ],
   "source": [
    "name = input ('Please enter your name: ')\n",
    "say_hello_to(name)"
   ]
  },
  {
   "cell_type": "markdown",
   "id": "47c31575",
   "metadata": {},
   "source": [
    "#### Variable scope: Local and global Variables\n",
    "**Local variable:**\n",
    "When we declare variables inside a function, these variables will have a local scope (within the function). We cannot access them outside the function. These types of variables are called local variables. For example,"
   ]
  },
  {
   "cell_type": "code",
   "execution_count": 22,
   "id": "90ede4ad",
   "metadata": {
    "scrolled": true
   },
   "outputs": [
    {
     "name": "stdout",
     "output_type": "stream",
     "text": [
      "Local Hello\n"
     ]
    }
   ],
   "source": [
    "def greet(): \n",
    "    message = 'Hello'  # local variable\n",
    "    print('Local', message)\n",
    "greet()"
   ]
  },
  {
   "cell_type": "code",
   "execution_count": 23,
   "id": "38d46f27",
   "metadata": {},
   "outputs": [
    {
     "ename": "NameError",
     "evalue": "name 'message' is not defined",
     "output_type": "error",
     "traceback": [
      "\u001b[1;31m---------------------------------------------------------------------------\u001b[0m",
      "\u001b[1;31mNameError\u001b[0m                                 Traceback (most recent call last)",
      "Cell \u001b[1;32mIn[23], line 1\u001b[0m\n\u001b[1;32m----> 1\u001b[0m \u001b[38;5;28mprint\u001b[39m(\u001b[43mmessage\u001b[49m)\n",
      "\u001b[1;31mNameError\u001b[0m: name 'message' is not defined"
     ]
    }
   ],
   "source": [
    "print(message) # try to access message variable outside greet() function"
   ]
  },
  {
   "cell_type": "markdown",
   "id": "a420a502",
   "metadata": {},
   "source": [
    "As `message` was defined within the function `greet()`, it is local to the function, and cannot be called outside the function."
   ]
  },
  {
   "cell_type": "markdown",
   "id": "cb50f253",
   "metadata": {},
   "source": [
    "**Global variable:**\n",
    "Aa variable declared outside of the function or in global scope is known as a global variable. This means that a global variable can be accessed inside or outside of the function.\n",
    "\n",
    "Let's see an example of how a global variable is created."
   ]
  },
  {
   "cell_type": "code",
   "execution_count": 24,
   "id": "a5dab0bb",
   "metadata": {},
   "outputs": [
    {
     "name": "stdout",
     "output_type": "stream",
     "text": [
      "Local Hello\n",
      "Global Hello\n"
     ]
    }
   ],
   "source": [
    "message = 'Hello'  # declare global variable\n",
    "\n",
    "def greet():\n",
    "    print('Local', message)  # declare local variable\n",
    "\n",
    "greet()\n",
    "print('Global', message)"
   ]
  },
  {
   "cell_type": "markdown",
   "id": "af51874d",
   "metadata": {},
   "source": [
    "#### Named arguments\n",
    "Invoking a function with many arguments can often get confusing and is prone to human errors. Python provides the option of invoking functions with *named* arguments for better clarity. You can also split function invocation into multiple lines."
   ]
  },
  {
   "cell_type": "code",
   "execution_count": 25,
   "id": "e079c2e1",
   "metadata": {},
   "outputs": [],
   "source": [
    "def loan_emi(amount, duration, rate, down_payment=0):\n",
    "    loan_amount = amount - down_payment\n",
    "    emi = loan_amount * rate * ((1+rate)**duration) / (((1+rate)**duration)-1)\n",
    "    return emi"
   ]
  },
  {
   "cell_type": "code",
   "execution_count": 26,
   "id": "3c84bf01",
   "metadata": {},
   "outputs": [],
   "source": [
    "emi1 = loan_emi(\n",
    "    amount=1260000, \n",
    "    duration=8*12, \n",
    "    rate=0.1/12, \n",
    "    down_payment=3e5\n",
    ")"
   ]
  },
  {
   "cell_type": "code",
   "execution_count": 27,
   "id": "d86fbeed",
   "metadata": {
    "scrolled": true
   },
   "outputs": [
    {
     "data": {
      "text/plain": [
       "14567.19753389219"
      ]
     },
     "execution_count": 27,
     "metadata": {},
     "output_type": "execute_result"
    }
   ],
   "source": [
    "emi1"
   ]
  },
  {
   "cell_type": "markdown",
   "id": "46bfc144",
   "metadata": {},
   "source": [
    "#### Optional Arguments\n",
    "Functions with optional arguments offer more flexibility in how you can use them. You can call the function with or without the argument, and if there is no argument in the function call, then a default value is used."
   ]
  },
  {
   "cell_type": "code",
   "execution_count": 29,
   "id": "a91e7d0c",
   "metadata": {},
   "outputs": [
    {
     "data": {
      "text/plain": [
       "19119.4467632335"
      ]
     },
     "execution_count": 29,
     "metadata": {},
     "output_type": "execute_result"
    }
   ],
   "source": [
    "emi2 = loan_emi(\n",
    "    amount=1260000, \n",
    "    duration=8*12, \n",
    "    rate=0.1/12)\n",
    "\n",
    "emi2"
   ]
  },
  {
   "cell_type": "markdown",
   "id": "766e206c",
   "metadata": {},
   "source": [
    "####  \\*args and \\**kwargs\n",
    "We can pass a variable number of arguments to a function using special symbols. There are two special symbols:"
   ]
  },
  {
   "cell_type": "markdown",
   "id": "910efc14",
   "metadata": {},
   "source": [
    "<img src=https://miro.medium.com/v2/resize:fit:689/1*qON1tnv1i7hSfs9vtBBQ8g.png width=\"500\">\n",
    "\n",
    "Special Symbols Used for passing arguments:\n",
    "1. \\*args (Non-Keyword Arguments)\n",
    "2. \\**kwargs (Keyword Arguments)\n",
    "> Note: “We use the “wildcard” or “*” notation like this – *args OR **kwargs – as our function’s argument when we have doubts about the number of  arguments we should pass in a function.” "
   ]
  },
  {
   "cell_type": "code",
   "execution_count": 41,
   "id": "53121e9a",
   "metadata": {},
   "outputs": [
    {
     "name": "stdout",
     "output_type": "stream",
     "text": [
      "args:  ('John', 22, 'cs')\n",
      "kwargs:  {'name': 'John', 'age': 22, 'major': 'cs'}\n"
     ]
    }
   ],
   "source": [
    "def myFun(*args,**kwargs):\n",
    "    print(\"args: \", args)\n",
    "    print(\"kwargs: \", kwargs)\n",
    " \n",
    " \n",
    "# Now we can use both *args ,**kwargs\n",
    "# to pass arguments to this function :\n",
    "myFun('John',22,'cs',name=\"John\",age=22,major=\"cs\")"
   ]
  },
  {
   "cell_type": "markdown",
   "id": "b7e029b4",
   "metadata": {},
   "source": [
    "### Branching and looping (control flow)\n",
    "<img src=https://i.imgur.com/7RfcHV0.png width=\"700\">"
   ]
  },
  {
   "cell_type": "markdown",
   "id": "cda54a3c",
   "metadata": {},
   "source": [
    "As in other languages, python has [built-in keywords](https://docs.python.org/3/tutorial/controlflow.html) that provide conditional flow of control in the code. "
   ]
  },
  {
   "cell_type": "markdown",
   "id": "341d6281",
   "metadata": {},
   "source": [
    "#### Branching with `if`, `else` and `elif`\n",
    "\n",
    "One of the most powerful features of programming languages is *branching*: the ability to make decisions and execute a different set of statements based on whether one or more conditions are true.\n",
    "\n",
    "**The `if` statement**\n",
    "\n",
    "In Python, branching is implemented using the `if` statement, which is written as follows:\n",
    "\n",
    "```\n",
    "if condition:\n",
    "    statement1\n",
    "    statement2\n",
    "```\n",
    "\n",
    "The `condition` can be a value, variable or expression. If the condition evaluates to `True`, then the statements within the *`if` block* are executed. Notice the four spaces before `statement1`, `statement2`, etc. The spaces inform Python that these statements are associated with the `if` statement above. This technique of structuring code by adding spaces is called *indentation*.\n",
    "\n",
    "> **Indentation**: Python relies heavily on *indentation* (white space before a statement) to define code structure. This makes Python code easy to read and understand. You can run into problems if you don't use indentation properly. Indent your code by placing the cursor at the start of the line and pressing the `Tab` key once to add 4 spaces. Pressing `Tab` again will indent the code further by 4 more spaces, and press `Shift+Tab` will reduce the indentation by 4 spaces. \n",
    "\n",
    "\n",
    "For example, let's write some code to check and print a message if a given number is even."
   ]
  },
  {
   "cell_type": "code",
   "execution_count": 43,
   "id": "a5184cad",
   "metadata": {},
   "outputs": [],
   "source": [
    "a_number = 34"
   ]
  },
  {
   "cell_type": "code",
   "execution_count": 44,
   "id": "dd79f945",
   "metadata": {},
   "outputs": [
    {
     "name": "stdout",
     "output_type": "stream",
     "text": [
      "We're inside an if block\n",
      "The given number 34 is even.\n"
     ]
    }
   ],
   "source": [
    "if a_number % 2 == 0:\n",
    "    print(\"We're inside an if block\")\n",
    "    print('The given number {} is even.'.format(a_number))"
   ]
  },
  {
   "cell_type": "markdown",
   "id": "a73e5d56",
   "metadata": {},
   "source": [
    "**The `else` statement**\n",
    "\n",
    "We may want to print a different message if the number is not even in the above example. This can be done by adding the `else` statement. It is written as follows:\n",
    "\n",
    "```\n",
    "if condition:\n",
    "    statement1\n",
    "    statement2\n",
    "else:\n",
    "    statement4\n",
    "    statement5\n",
    "\n",
    "```\n",
    "\n",
    "If `condition` evaluates to `True`, the statements in the `if` block are executed. If it evaluates to `False`, the statements in the `else` block are executed."
   ]
  },
  {
   "cell_type": "code",
   "execution_count": 45,
   "id": "3f159ca7",
   "metadata": {},
   "outputs": [
    {
     "name": "stdout",
     "output_type": "stream",
     "text": [
      "The given number 34 is even.\n"
     ]
    }
   ],
   "source": [
    "if a_number % 2 == 0:\n",
    "    print('The given number {} is even.'.format(a_number))\n",
    "else:\n",
    "    print('The given number {} is odd.'.format(a_number))"
   ]
  },
  {
   "cell_type": "markdown",
   "id": "1242fe45",
   "metadata": {},
   "source": [
    "**The `elif` statement**\n",
    "\n",
    "Python also provides an `elif` statement (short for \"else if\") to chain a series of conditional blocks. The conditions are evaluated one by one. For the first condition that evaluates to `True`, the block of statements below it is executed. The remaining conditions and statements are not evaluated. So, in an `if`, `elif`, `elif`... chain, at most one block of statements is executed, the one corresponding to the first condition that evaluates to `True`. "
   ]
  },
  {
   "cell_type": "code",
   "execution_count": 46,
   "id": "4bdd37e0",
   "metadata": {},
   "outputs": [],
   "source": [
    "today = 'Wednesday'"
   ]
  },
  {
   "cell_type": "code",
   "execution_count": 47,
   "id": "5640f0a8",
   "metadata": {},
   "outputs": [
    {
     "name": "stdout",
     "output_type": "stream",
     "text": [
      "Today is the day of Odin, the supreme diety.\n"
     ]
    }
   ],
   "source": [
    "if today == 'Sunday':\n",
    "    print(\"Today is the day of the sun.\")\n",
    "elif today == 'Monday':\n",
    "    print(\"Today is the day of the moon.\")\n",
    "elif today == 'Tuesday':\n",
    "    print(\"Today is the day of Tyr, the god of war.\")\n",
    "elif today == 'Wednesday':\n",
    "    print(\"Today is the day of Odin, the supreme diety.\")\n",
    "elif today == 'Thursday':\n",
    "    print(\"Today is the day of Thor, the god of thunder.\")\n",
    "elif today == 'Friday':\n",
    "    print(\"Today is the day of Frigga, the goddess of beauty.\")\n",
    "elif today == 'Saturday':\n",
    "    print(\"Today is the day of Saturn, the god of fun and feasting.\")"
   ]
  },
  {
   "cell_type": "markdown",
   "id": "00425e67",
   "metadata": {},
   "source": [
    "In the above example, the first 3 conditions evaluate to `False`, so none of the first 3 messages are printed. The fourth condition evaluates to `True`, so the corresponding message is printed. The remaining conditions are skipped. Try changing the value of `today` above and re-executing the cells to print all the different messages."
   ]
  },
  {
   "cell_type": "markdown",
   "id": "3b080cd2",
   "metadata": {},
   "source": [
    "**Using `if`, `elif`, and `else` together**\n",
    "\n",
    "You can also include an `else` statement at the end of a chain of `if`, `elif`... statements. This code within the `else` block is evaluated when none of the conditions hold true."
   ]
  },
  {
   "cell_type": "code",
   "execution_count": 48,
   "id": "0a63b850",
   "metadata": {},
   "outputs": [],
   "source": [
    "a_number = 49"
   ]
  },
  {
   "cell_type": "code",
   "execution_count": 49,
   "id": "095ee877",
   "metadata": {},
   "outputs": [
    {
     "name": "stdout",
     "output_type": "stream",
     "text": [
      "All checks failed!\n",
      "49 is not divisible by 2, 3 or 5\n"
     ]
    }
   ],
   "source": [
    "if a_number % 2 == 0:\n",
    "    print('{} is divisible by 2'.format(a_number))\n",
    "elif a_number % 3 == 0:\n",
    "    print('{} is divisible by 3'.format(a_number))\n",
    "elif a_number % 5 == 0:\n",
    "    print('{} is divisible by 5'.format(a_number))\n",
    "else:\n",
    "    print('All checks failed!')\n",
    "    print('{} is not divisible by 2, 3 or 5'.format(a_number))"
   ]
  },
  {
   "cell_type": "markdown",
   "id": "0c1076a1",
   "metadata": {},
   "source": [
    "**Non-Boolean Conditions**\n",
    "\n",
    "Note that conditions do not necessarily have to be booleans. In fact, a condition can be any value. The value is converted into a boolean automatically using the `bool` operator. \n",
    "Any value in Python can be converted to a Boolean using the `bool` function. \n",
    "\n",
    "Only the following values evaluate to `False` (they are often called *falsy* values):\n",
    "\n",
    "1. The value `False` itself\n",
    "2. The integer `0`\n",
    "3. The float `0.0`\n",
    "4. The empty value `None`\n",
    "5. The empty text `\"\"`\n",
    "6. The empty list `[]`\n",
    "7. The empty tuple `()`\n",
    "8. The empty dictionary `{}`\n",
    "9. The empty set `set()`\n",
    "10. The empty range `range(0)`\n",
    "\n",
    "Everything else evaluates to `True` (a value that evaluates to `True` is often called a *truthy* value)."
   ]
  },
  {
   "cell_type": "code",
   "execution_count": 50,
   "id": "7fc7083e",
   "metadata": {},
   "outputs": [
    {
     "name": "stdout",
     "output_type": "stream",
     "text": [
      "The condition evaluted to False\n"
     ]
    }
   ],
   "source": [
    "if '':\n",
    "    print('The condition evaluted to True')\n",
    "else:\n",
    "    print('The condition evaluted to False')"
   ]
  },
  {
   "cell_type": "code",
   "execution_count": 51,
   "id": "14c29622",
   "metadata": {},
   "outputs": [
    {
     "name": "stdout",
     "output_type": "stream",
     "text": [
      "The condition evaluted to True\n"
     ]
    }
   ],
   "source": [
    "if 'Hello':\n",
    "    print('The condition evaluted to True')\n",
    "else:\n",
    "    print('The condition evaluted to False')"
   ]
  },
  {
   "cell_type": "code",
   "execution_count": 52,
   "id": "97352996",
   "metadata": {},
   "outputs": [
    {
     "name": "stdout",
     "output_type": "stream",
     "text": [
      "The condition evaluted to True\n"
     ]
    }
   ],
   "source": [
    "if { 'a': 34 }:\n",
    "    print('The condition evaluted to True')\n",
    "else:\n",
    "    print('The condition evaluted to False')"
   ]
  },
  {
   "cell_type": "code",
   "execution_count": 53,
   "id": "873bda98",
   "metadata": {},
   "outputs": [
    {
     "name": "stdout",
     "output_type": "stream",
     "text": [
      "The condition evaluted to False\n"
     ]
    }
   ],
   "source": [
    "if None:\n",
    "    print('The condition evaluted to True')\n",
    "else:\n",
    "    print('The condition evaluted to False')"
   ]
  },
  {
   "cell_type": "markdown",
   "id": "8b59e8b7",
   "metadata": {},
   "source": [
    "**Nested conditional statements**\n",
    "\n",
    "The code inside an `if` block can also include an `if` statement inside it. This pattern is called `nesting` and is used to check for another condition after a particular condition holds true."
   ]
  },
  {
   "cell_type": "code",
   "execution_count": 54,
   "id": "debaa56d",
   "metadata": {},
   "outputs": [],
   "source": [
    "a_number = 15"
   ]
  },
  {
   "cell_type": "code",
   "execution_count": 58,
   "id": "83eb90be",
   "metadata": {},
   "outputs": [
    {
     "name": "stdout",
     "output_type": "stream",
     "text": [
      "15 is odd\n",
      "15 is also divisible by 5\n"
     ]
    }
   ],
   "source": [
    "if a_number % 2 == 0:\n",
    "    print(\"{} is even\".format(a_number))\n",
    "    if a_number % 3 == 0:\n",
    "        print(\"{} is also divisible by 3\".format(a_number))\n",
    "    else:\n",
    "        print(\"{} is not divisibule by 3\".format(a_number))\n",
    "else:\n",
    "    print(\"{} is odd\".format(a_number))\n",
    "    if a_number % 5 == 0:\n",
    "        print(\"{} is also divisible by 5\".format(a_number))\n",
    "    else:\n",
    "        print(\"{} is not divisibule by 5\".format(a_number))"
   ]
  },
  {
   "cell_type": "markdown",
   "id": "87f6bfde",
   "metadata": {},
   "source": [
    "Notice how the `print` statements are indented by 8 spaces to indicate that they are part of the inner `if`/`else` blocks.\n",
    "\n",
    "> Nested `if`, `else` statements are often confusing to read and prone to human error. It's good to avoid nesting whenever possible, or limit the nesting to 1 or 2 levels."
   ]
  },
  {
   "cell_type": "markdown",
   "id": "ecf28575",
   "metadata": {},
   "source": [
    "**Shorthand `if` conditional expression**\n",
    "\n",
    "A frequent use case of the `if` statement involves testing a condition and setting a variable's value based on the condition.\n",
    "\n",
    "Python provides a shorter syntax, which allows writing such conditions in a single line of code. It is known as a *conditional expression*, sometimes also referred to as a *ternary operator*. It has the following syntax:\n",
    "\n",
    "```\n",
    "x = true_value if condition else false_value\n",
    "```\n",
    "\n",
    "It has the same behavior as the following `if`-`else` block:\n",
    "\n",
    "```\n",
    "if condition:\n",
    "    x = true_value\n",
    "else:\n",
    "    x = false_value\n",
    "```\n",
    "\n",
    "Let's try it out for the example above."
   ]
  },
  {
   "cell_type": "code",
   "execution_count": 59,
   "id": "111a90b9",
   "metadata": {},
   "outputs": [],
   "source": [
    "parity = 'even' if a_number % 2 == 0 else 'odd'"
   ]
  },
  {
   "cell_type": "code",
   "execution_count": 60,
   "id": "68018126",
   "metadata": {},
   "outputs": [
    {
     "name": "stdout",
     "output_type": "stream",
     "text": [
      "The number 15 is odd.\n"
     ]
    }
   ],
   "source": [
    "print('The number {} is {}.'.format(a_number, parity))"
   ]
  },
  {
   "cell_type": "markdown",
   "id": "dad58590",
   "metadata": {},
   "source": [
    "**The `pass` statement**\n",
    "\n",
    "`if` statements cannot be empty, there must be at least one statement in every `if` and `elif` block. We can use the `pass` statement to do nothing and avoid getting an error."
   ]
  },
  {
   "cell_type": "code",
   "execution_count": 61,
   "id": "e0d86a76",
   "metadata": {},
   "outputs": [],
   "source": [
    "a_number = 9"
   ]
  },
  {
   "cell_type": "code",
   "execution_count": 62,
   "id": "2c04f9dd",
   "metadata": {},
   "outputs": [
    {
     "ename": "IndentationError",
     "evalue": "expected an indented block (1562158884.py, line 3)",
     "output_type": "error",
     "traceback": [
      "\u001b[1;36m  Cell \u001b[1;32mIn[62], line 3\u001b[1;36m\u001b[0m\n\u001b[1;33m    elif a_number % 3 == 0:\u001b[0m\n\u001b[1;37m    ^\u001b[0m\n\u001b[1;31mIndentationError\u001b[0m\u001b[1;31m:\u001b[0m expected an indented block\n"
     ]
    }
   ],
   "source": [
    "if a_number % 2 == 0:\n",
    "    \n",
    "elif a_number % 3 == 0:\n",
    "    print('{} is divisible by 3 but not divisible by 2')"
   ]
  },
  {
   "cell_type": "markdown",
   "id": "4b0dacc2",
   "metadata": {},
   "source": [
    "As there must be at least one statement withihng the `if` block, the above code throws an error."
   ]
  },
  {
   "cell_type": "code",
   "execution_count": 63,
   "id": "2d809588",
   "metadata": {},
   "outputs": [
    {
     "name": "stdout",
     "output_type": "stream",
     "text": [
      "9 is divisible by 3 but not divisible by 2\n"
     ]
    }
   ],
   "source": [
    "if a_number % 2 == 0:\n",
    "    pass\n",
    "elif a_number % 3 == 0:\n",
    "    print('{} is divisible by 3 but not divisible by 2'.format(a_number))"
   ]
  },
  {
   "cell_type": "markdown",
   "id": "214f4af0",
   "metadata": {},
   "source": [
    "#### Iteration with `while` loops\n",
    "\n",
    "Another powerful feature of programming languages, closely related to branching, is running one or more statements multiple times. This feature is often referred to as *iteration* on *looping*, and there are two ways to do this in Python: using `while` loops and `for` loops. \n",
    "\n",
    "`while` loops have the following syntax:\n",
    "\n",
    "```\n",
    "while condition:\n",
    "    statement(s)\n",
    "```\n",
    "\n",
    "Statements in the code block under `while` are executed repeatedly as long as the `condition` evaluates to `True`. Generally, one of the statements under `while` makes some change to a variable that causes the condition to evaluate to `False` after a certain number of iterations.\n",
    "\n",
    "Let's try to calculate the factorial of `100` using a `while` loop. The factorial of a number `n` is the product (multiplication) of all the numbers from `1` to `n`, i.e., `1*2*3*...*(n-2)*(n-1)*n`."
   ]
  },
  {
   "cell_type": "code",
   "execution_count": 65,
   "id": "adc913a0",
   "metadata": {},
   "outputs": [
    {
     "name": "stdout",
     "output_type": "stream",
     "text": [
      "The factorial of 100 is: 3628800\n"
     ]
    }
   ],
   "source": [
    "result = 1\n",
    "i = 1\n",
    "\n",
    "while i <= 10:\n",
    "    result = result * i\n",
    "    i = i+1\n",
    "\n",
    "print('The factorial of 100 is: {}'.format(result))"
   ]
  },
  {
   "cell_type": "markdown",
   "id": "87abe782",
   "metadata": {},
   "source": [
    "#### Infinite Loops\n",
    "\n",
    "Suppose the condition in a `while` loop always holds true. In that case, Python repeatedly executes the code within the loop forever, and the execution of the code never completes. This situation is called an infinite loop. It generally indicates that you've made a mistake in your code. For example, you may have provided the wrong condition or forgotten to update a variable within the loop, eventually falsifying the condition.\n",
    "\n",
    "If your code is *stuck* in an infinite loop during execution, just press the \"Stop\" button on the toolbar (next to \"Run\") or select \"Kernel > Interrupt\" from the menu bar. This will *interrupt* the execution of the code. The following two cells both lead to infinite loops and need to be interrupted."
   ]
  },
  {
   "cell_type": "code",
   "execution_count": null,
   "id": "bd1e5f94",
   "metadata": {},
   "outputs": [],
   "source": [
    "# INFINITE LOOP - INTERRUPT THIS CELL\n",
    "\n",
    "result = 1\n",
    "i = 1\n",
    "\n",
    "while i <= 100:\n",
    "    result = result * i\n",
    "    # forgot to increment i"
   ]
  },
  {
   "cell_type": "code",
   "execution_count": null,
   "id": "6f773eca",
   "metadata": {},
   "outputs": [],
   "source": [
    "# INFINITE LOOP - INTERRUPT THIS CELL\n",
    "\n",
    "result = 1\n",
    "i = 1\n",
    "\n",
    "while i > 0 : # wrong condition\n",
    "    result *= i\n",
    "    i += 1"
   ]
  },
  {
   "cell_type": "markdown",
   "id": "19cd7dba",
   "metadata": {},
   "source": [
    "#### `break` and `continue` statements\n",
    "\n",
    "In Python, `break` and `continue` statements can alter the flow of a normal loop.\n",
    "<img src=https://files.realpython.com/media/t.899f357dd948.png width=\"300\">\n",
    "\n",
    "We can use the `break` statement within the loop's body to immediately stop the execution and *break* out of the loop.\n",
    "with the continue statement. If the condition evaluates to `True`, then the loop will move to the next iteration."
   ]
  },
  {
   "cell_type": "code",
   "execution_count": 69,
   "id": "541aa33a",
   "metadata": {},
   "outputs": [
    {
     "name": "stdout",
     "output_type": "stream",
     "text": [
      "Magic number 42 reached! Stopping execution..\n",
      "i: 42\n",
      "result: 1405006117752879898543142606244511569936384000000000\n"
     ]
    }
   ],
   "source": [
    "i = 1\n",
    "result = 1\n",
    "\n",
    "while i <= 100:\n",
    "    result *= i\n",
    "    if i == 42:\n",
    "        print('Magic number 42 reached! Stopping execution..')\n",
    "        break\n",
    "    i += 1\n",
    "    \n",
    "print('i:', i)\n",
    "print('result:', result)"
   ]
  },
  {
   "cell_type": "code",
   "execution_count": 71,
   "id": "6da1b423",
   "metadata": {},
   "outputs": [
    {
     "name": "stdout",
     "output_type": "stream",
     "text": [
      "Skipping 2\n",
      "Multiplying with 3\n",
      "Skipping 4\n",
      "Multiplying with 5\n",
      "Skipping 6\n",
      "Multiplying with 7\n",
      "Skipping 8\n",
      "i: 8\n",
      "result: 105\n"
     ]
    }
   ],
   "source": [
    "i = 1\n",
    "result = 1\n",
    "\n",
    "while i < 8:\n",
    "    i += 1\n",
    "    if i % 2 == 0:\n",
    "        print('Skipping {}'.format(i))\n",
    "        continue\n",
    "    print('Multiplying with {}'.format(i))\n",
    "    result = result * i\n",
    "    \n",
    "print('i:', i)\n",
    "print('result:', result)"
   ]
  },
  {
   "cell_type": "markdown",
   "id": "861a2110",
   "metadata": {},
   "source": [
    "In the example above, the statement `result = result * i` inside the loop is skipped when `i` is even, as indicated by the messages printed during execution.\n",
    "\n",
    "> **Logging**: The process of adding `print` statements at different points in the code *(often within loops and conditional statements)* for inspecting the values of variables at various stages of execution is called logging. As our programs get larger, they naturally become prone to human errors. Logging can help in verifying the program is working as expected. In many cases, `print` statements are added while writing & testing some code and are removed later."
   ]
  },
  {
   "cell_type": "markdown",
   "id": "1dfedae8",
   "metadata": {},
   "source": [
    "Task: Guess the output and explain it."
   ]
  },
  {
   "cell_type": "code",
   "execution_count": 72,
   "id": "e2945e9e",
   "metadata": {},
   "outputs": [
    {
     "name": "stdout",
     "output_type": "stream",
     "text": [
      "s\n",
      "t\n",
      "r\n",
      "The end\n"
     ]
    }
   ],
   "source": [
    "# Use of break statement inside the loop\n",
    "\n",
    "for val in \"string\":\n",
    "    if val == \"i\":\n",
    "        break\n",
    "    print(val)\n",
    "\n",
    "print(\"The end\")"
   ]
  },
  {
   "cell_type": "code",
   "execution_count": 73,
   "id": "62c1c61b",
   "metadata": {},
   "outputs": [
    {
     "name": "stdout",
     "output_type": "stream",
     "text": [
      "s\n",
      "t\n",
      "r\n",
      "n\n",
      "g\n",
      "The end\n"
     ]
    }
   ],
   "source": [
    "# Program to show the use of continue statement inside loops\n",
    "\n",
    "for val in \"string\":\n",
    "    if val == \"i\":\n",
    "        continue\n",
    "    print(val)\n",
    "\n",
    "print(\"The end\")"
   ]
  },
  {
   "cell_type": "markdown",
   "id": "315dd0b4",
   "metadata": {},
   "source": [
    "#### Iteration with `for` loops\n",
    "\n",
    "A `for` loop is used for iterating or looping over sequences, i.e., lists, tuples, dictionaries, strings, and *ranges*. For loops have the following syntax:\n",
    "\n",
    "```\n",
    "for value in sequence:\n",
    "    statement(s)\n",
    "```\n",
    "\n",
    "The statements within the loop are executed once for each element in `sequence`. Here's an example that prints all the element of a list."
   ]
  },
  {
   "cell_type": "code",
   "execution_count": 74,
   "id": "ac564612",
   "metadata": {},
   "outputs": [
    {
     "name": "stdout",
     "output_type": "stream",
     "text": [
      "Monday\n",
      "Tuesday\n",
      "Wednesday\n",
      "Thursday\n",
      "Friday\n"
     ]
    }
   ],
   "source": [
    "days = ['Monday', 'Tuesday', 'Wednesday', 'Thursday', 'Friday']\n",
    "\n",
    "for day in days:\n",
    "    print(day)"
   ]
  },
  {
   "cell_type": "code",
   "execution_count": 75,
   "id": "e00d9711",
   "metadata": {},
   "outputs": [
    {
     "name": "stdout",
     "output_type": "stream",
     "text": [
      "M\n",
      "o\n",
      "n\n",
      "d\n",
      "a\n",
      "y\n"
     ]
    }
   ],
   "source": [
    "# Looping over a string\n",
    "for char in 'Monday':\n",
    "    print(char)"
   ]
  },
  {
   "cell_type": "code",
   "execution_count": 76,
   "id": "055490ae",
   "metadata": {},
   "outputs": [
    {
     "name": "stdout",
     "output_type": "stream",
     "text": [
      "Key: name , Value: John Doe\n",
      "Key: sex , Value: Male\n",
      "Key: age , Value: 32\n",
      "Key: married , Value: True\n"
     ]
    }
   ],
   "source": [
    "# Looping over a dictionary\n",
    "person = {\n",
    "    'name': 'John Doe',\n",
    "    'sex': 'Male',\n",
    "    'age': 32,\n",
    "    'married': True\n",
    "}\n",
    "\n",
    "for key, value in person.items():\n",
    "    print(\"Key:\", key, \",\", \"Value:\", value)"
   ]
  },
  {
   "cell_type": "markdown",
   "id": "9bac4b8d",
   "metadata": {},
   "source": [
    "### Iterating using `range` and `enumerate`\n",
    "\n",
    "The `range` function is used to create a sequence of numbers that can be iterated over using a `for` loop. It can be used in 3 ways:\n",
    " \n",
    "* `range(n)` - Creates a sequence of numbers from `0` to `n-1`\n",
    "* `range(a, b)` - Creates a sequence of numbers from `a` to `b-1`\n",
    "* `range(a, b, step)` - Creates a sequence of numbers from `a` to `b-1` with increments of `step`\n",
    "\n",
    "Let's try it out."
   ]
  },
  {
   "cell_type": "code",
   "execution_count": 78,
   "id": "71a53f7a",
   "metadata": {},
   "outputs": [
    {
     "name": "stdout",
     "output_type": "stream",
     "text": [
      "0\n",
      "1\n",
      "2\n",
      "3\n"
     ]
    }
   ],
   "source": [
    "for i in range(4):\n",
    "    print(i)"
   ]
  },
  {
   "cell_type": "code",
   "execution_count": 79,
   "id": "7eab2d2b",
   "metadata": {},
   "outputs": [
    {
     "name": "stdout",
     "output_type": "stream",
     "text": [
      "3\n",
      "4\n",
      "5\n",
      "6\n",
      "7\n"
     ]
    }
   ],
   "source": [
    "for i in range(3, 8):\n",
    "    print(i)"
   ]
  },
  {
   "cell_type": "code",
   "execution_count": 80,
   "id": "752f458b",
   "metadata": {},
   "outputs": [
    {
     "name": "stdout",
     "output_type": "stream",
     "text": [
      "3\n",
      "7\n",
      "11\n"
     ]
    }
   ],
   "source": [
    "for i in range(3, 14, 4):\n",
    "    print(i)"
   ]
  },
  {
   "cell_type": "markdown",
   "id": "cb25b550",
   "metadata": {},
   "source": [
    "Ranges are used for iterating over lists when you need to track the index of elements while iterating."
   ]
  },
  {
   "cell_type": "code",
   "execution_count": 81,
   "id": "a2c40786",
   "metadata": {},
   "outputs": [
    {
     "name": "stdout",
     "output_type": "stream",
     "text": [
      "The value at position 0 is Monday.\n",
      "The value at position 1 is Tuesday.\n",
      "The value at position 2 is Wednesday.\n",
      "The value at position 3 is Thursday.\n",
      "The value at position 4 is Friday.\n"
     ]
    }
   ],
   "source": [
    "a_list = ['Monday', 'Tuesday', 'Wednesday', 'Thursday', 'Friday']\n",
    "\n",
    "for i in range(len(a_list)):\n",
    "    print('The value at position {} is {}.'.format(i, a_list[i]))"
   ]
  },
  {
   "cell_type": "markdown",
   "id": "fbcbcaf2",
   "metadata": {},
   "source": [
    "Another way to achieve the same result is by using the `enumerate` function with `a_list` as an input, which returns a tuple containing the index and the corresponding element."
   ]
  },
  {
   "cell_type": "code",
   "execution_count": 82,
   "id": "7734cd7c",
   "metadata": {},
   "outputs": [
    {
     "name": "stdout",
     "output_type": "stream",
     "text": [
      "The value at position 0 is Monday.\n",
      "The value at position 1 is Tuesday.\n",
      "The value at position 2 is Wednesday.\n",
      "The value at position 3 is Thursday.\n",
      "The value at position 4 is Friday.\n"
     ]
    }
   ],
   "source": [
    "for i, val in enumerate(a_list):\n",
    "    print('The value at position {} is {}.'.format(i, val))"
   ]
  }
 ],
 "metadata": {
  "kernelspec": {
   "display_name": "Python 3.9.6 64-bit",
   "language": "python",
   "name": "python3"
  },
  "language_info": {
   "codemirror_mode": {
    "name": "ipython",
    "version": 3
   },
   "file_extension": ".py",
   "mimetype": "text/x-python",
   "name": "python",
   "nbconvert_exporter": "python",
   "pygments_lexer": "ipython3",
   "version": "3.9.6"
  },
  "vscode": {
   "interpreter": {
    "hash": "31f2aee4e71d21fbe5cf8b01ff0e069b9275f58929596ceb00d14d90e3e16cd6"
   }
  }
 },
 "nbformat": 4,
 "nbformat_minor": 5
}
