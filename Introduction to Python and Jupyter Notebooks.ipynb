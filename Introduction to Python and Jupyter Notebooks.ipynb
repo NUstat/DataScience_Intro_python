{
 "cells": [
  {
   "cell_type": "raw",
   "id": "6407ea8e",
   "metadata": {},
   "source": [
    "---\n",
    "title: \"Introduction to Python and Jupyter Notebooks\"\n",
    "format: \n",
    "  html:\n",
    "    code-fold: false\n",
    "jupyter: python3\n",
    "---"
   ]
  },
  {
   "cell_type": "markdown",
   "id": "2c2ec33d",
   "metadata": {},
   "source": [
    "This chapter is a very brief introduction to python and Jupyter notebooks. We only discuss the content relevant for applying python to analyze data."
   ]
  },
  {
   "cell_type": "markdown",
   "id": "98f283a8",
   "metadata": {},
   "source": [
    "## Installation"
   ]
  },
  {
   "cell_type": "markdown",
   "id": "278536c0",
   "metadata": {},
   "source": [
    "If you are new to python, we recommend downloading the [Anaconda installer](https://docs.anaconda.com/anaconda/install/) and following the instructions for installation. Once installed, we'll use the Jupyter Notebook interface to write code."
   ]
  },
  {
   "cell_type": "markdown",
   "id": "3669a619",
   "metadata": {},
   "source": [
    "## Jupyter notebook"
   ]
  },
  {
   "cell_type": "markdown",
   "id": "add89b06",
   "metadata": {},
   "source": [
    "### Introduction"
   ]
  },
  {
   "cell_type": "markdown",
   "id": "6b85a544",
   "metadata": {},
   "source": [
    "Jupyter notebook is an interactive platform, where you can write code and text, and make visualizations. You can access Jupyter notebook from the Anaconda Navigator, or directly open the Jupyter Notebook application itself. It should automatically open up in your default browser. The figure below shows a Jupyter Notebook opened with Google Chrome. This page is called the *landing page* of the notebook."
   ]
  },
  {
   "cell_type": "code",
   "execution_count": 16,
   "id": "2dd4a20a",
   "metadata": {},
   "outputs": [
    {
     "data": {
      "text/html": [
       "<img src=\"./Datasets/jupyter.jpg\" width=\"700\" height=\"400\"/>"
      ],
      "text/plain": [
       "<IPython.core.display.Image object>"
      ]
     },
     "execution_count": 16,
     "metadata": {},
     "output_type": "execute_result"
    }
   ],
   "source": [
    "#| echo: false\n",
    "\n",
    "# import image module\n",
    "from IPython.display import Image\n",
    "\n",
    "# get the image\n",
    "Image(url=\"./Datasets/jupyter.jpg\", width=700, height=400)"
   ]
  },
  {
   "cell_type": "markdown",
   "id": "830726a0",
   "metadata": {},
   "source": [
    "To create a new notebook, click on the `New` button and select the `Python 3` option. You should see a blank notebook as in the figure below."
   ]
  },
  {
   "cell_type": "code",
   "execution_count": 22,
   "id": "e7ab843d",
   "metadata": {},
   "outputs": [
    {
     "data": {
      "text/html": [
       "<img src=\"./Datasets/jupyter_newbook.jpg\" width=\"600\" height=\"150\"/>"
      ],
      "text/plain": [
       "<IPython.core.display.Image object>"
      ]
     },
     "execution_count": 22,
     "metadata": {},
     "output_type": "execute_result"
    }
   ],
   "source": [
    "#| echo: false\n",
    "\n",
    "# import image module\n",
    "from IPython.display import Image\n",
    "\n",
    "# get the image\n",
    "Image(url=\"./Datasets/jupyter_newbook.jpg\", width=600, height=150)"
   ]
  },
  {
   "cell_type": "markdown",
   "id": "afa1f40d",
   "metadata": {},
   "source": [
    "### Writing and executing code"
   ]
  },
  {
   "cell_type": "markdown",
   "id": "80ee6db6",
   "metadata": {},
   "source": [
    "**Code cell:**\n",
    "By default, a cell is of type *Code*, i.e., for typing code, as seen as the default choice in the dropdown menu below the *Widgets* tab. Try typing a line of python code (say, `2+3`) in an empty code cell and execute it by pressing *Shift+Enter*. This should execute the code, and create an new code cell. Pressing *Ctlr+Enter for Windows (or Cmd+Enter for Mac)* will execute the code without creating a new cell. "
   ]
  },
  {
   "cell_type": "markdown",
   "id": "5e90bc42",
   "metadata": {},
   "source": [
    "**Commenting code in a code cell:** Comments should be made while writing the code to explain the purpose of the code or a brief explanation of the tasks being performed by the code. A comment can be added in a code cell by preceding it with a # sign. For example, see the comment in the code below.\n",
    "\n",
    "Writing comments will help other users understand your code. It is also useful for the coder to keep track of the tasks being performed by their code. "
   ]
  },
  {
   "cell_type": "code",
   "execution_count": 51,
   "id": "37302504",
   "metadata": {},
   "outputs": [
    {
     "data": {
      "text/plain": [
       "8"
      ]
     },
     "execution_count": 51,
     "metadata": {},
     "output_type": "execute_result"
    }
   ],
   "source": [
    "#This code adds 3 and 5\n",
    "3+5"
   ]
  },
  {
   "cell_type": "markdown",
   "id": "c858e36a",
   "metadata": {},
   "source": [
    "**Markdown cell:** Although a comment can be written in a code cell, a code cell cannot be used for writing headings/sub-headings, and is not appropriate for writing lengthy chunks of text. In such cases, change the cell type to *Markdown* from the dropdown menu below the *Widgets* tab. Use any markdown cheat sheet found online, for example, [this one](https://www.markdownguide.org/cheat-sheet/) to format text in the markdown cells."
   ]
  },
  {
   "cell_type": "markdown",
   "id": "a3532afd",
   "metadata": {},
   "source": [
    "Give a name to te notebook by clicking on the text, which says 'Untitled'. "
   ]
  },
  {
   "cell_type": "markdown",
   "id": "398c16fa",
   "metadata": {},
   "source": [
    "### Saving and loading notebooks"
   ]
  },
  {
   "cell_type": "markdown",
   "id": "1eacedfb",
   "metadata": {},
   "source": [
    "Save the notebook by clicking on `File`, and selecting `Save as`, or clicking on the `Save and Checkpoint` icon (below the `File` tab). Your notebook will be saved as a file with an exptension *ipynb*. This file will contain all the code as well as the outputs, and can be loaded and edited by a Jupyter user. To load an existing Jupyter notebook, navigate to the folder of the notebook on the *landing page*, and then click on the file to open it."
   ]
  },
  {
   "cell_type": "markdown",
   "id": "79713354",
   "metadata": {},
   "source": [
    "## Python language basics"
   ]
  },
  {
   "cell_type": "markdown",
   "id": "59930b1a",
   "metadata": {},
   "source": [
    "### Object Oriented Programming"
   ]
  },
  {
   "cell_type": "markdown",
   "id": "b6ee10da",
   "metadata": {},
   "source": [
    "Python is an object-oriented programming language. In layman terms, it means that every number, string, data structure, function, class, module, etc., exists in the python interpreter as a python object. An object may have attributes and methods associated with it. For example, let us define a variable that stores an integer:"
   ]
  },
  {
   "cell_type": "code",
   "execution_count": 52,
   "id": "c563f7a5",
   "metadata": {},
   "outputs": [],
   "source": [
    "var = 2"
   ]
  },
  {
   "cell_type": "markdown",
   "id": "b283f963",
   "metadata": {},
   "source": [
    "The variable `var` is an object that has attributed and methods associated with it. For example a couple of its attributes are `real` and `imag`, which store the real and imaginary parts respectively, of the object `var`:"
   ]
  },
  {
   "cell_type": "code",
   "execution_count": 57,
   "id": "40ef60f7",
   "metadata": {},
   "outputs": [
    {
     "name": "stdout",
     "output_type": "stream",
     "text": [
      "Real part of 'var':  2\n",
      "Real part of 'var':  0\n"
     ]
    }
   ],
   "source": [
    "print(\"Real part of 'var': \",var.real)\n",
    "print(\"Real part of 'var': \",var.imag)"
   ]
  },
  {
   "cell_type": "markdown",
   "id": "0f9a7590",
   "metadata": {},
   "source": [
    "**Attribute:** An attribute is a value associated with an object, defined within the class of the object. \n",
    "\n",
    "**Method:** A method is a function associated with an object, defined within the class of the object, and has access to the attributes associated with the object.\n",
    "\n",
    "For looking at attributes and methods associated with an object, say `obj`, press tab key after typing `obj.`."
   ]
  },
  {
   "cell_type": "markdown",
   "id": "8522c29c",
   "metadata": {},
   "source": [
    "Consider the example below of a class *example_class*:"
   ]
  },
  {
   "cell_type": "code",
   "execution_count": 1,
   "id": "76994e15",
   "metadata": {},
   "outputs": [],
   "source": [
    "class example_class:\n",
    "    class_name = 'My Class'\n",
    "    def my_method(self):\n",
    "        print('Hello World!')\n",
    "\n",
    "e = example_class()"
   ]
  },
  {
   "cell_type": "markdown",
   "id": "d512f6d6",
   "metadata": {},
   "source": [
    "In the above class, `class_name` is an attribute, while `my_method` is a method."
   ]
  },
  {
   "cell_type": "markdown",
   "id": "c8099fc2",
   "metadata": {},
   "source": [
    "### Assigning variable name to object"
   ]
  },
  {
   "cell_type": "markdown",
   "id": "d35046b2",
   "metadata": {},
   "source": [
    "When an object is assigned to a variable name, the variable name serves as a reference to the object. For example, consider the following assignment:"
   ]
  },
  {
   "cell_type": "code",
   "execution_count": 57,
   "id": "5f263087",
   "metadata": {},
   "outputs": [],
   "source": [
    "x = [5,3]"
   ]
  },
  {
   "cell_type": "markdown",
   "id": "9f630f80",
   "metadata": {},
   "source": [
    "The variable name `x` is a reference to the memory location where the object `[5, 3]` is stored. Now, suppose assign `x` to a new variable `y`:"
   ]
  },
  {
   "cell_type": "code",
   "execution_count": 58,
   "id": "7c91f4e2",
   "metadata": {},
   "outputs": [],
   "source": [
    "y = x"
   ]
  },
  {
   "cell_type": "markdown",
   "id": "88816bb2",
   "metadata": {},
   "source": [
    "In the above statement the variable name `y` now refers to the same object `[5,3]`. The object `[5,3]` does **not** get copied to a new memory location referred by `y`. To prove this, let us add an element to `y`:"
   ]
  },
  {
   "cell_type": "code",
   "execution_count": 59,
   "id": "eec34438",
   "metadata": {},
   "outputs": [
    {
     "name": "stdout",
     "output_type": "stream",
     "text": [
      "[5, 3, 4]\n"
     ]
    }
   ],
   "source": [
    "y.append(4)\n",
    "print(y)"
   ]
  },
  {
   "cell_type": "code",
   "execution_count": 60,
   "id": "a56055d8",
   "metadata": {},
   "outputs": [
    {
     "name": "stdout",
     "output_type": "stream",
     "text": [
      "[5, 3, 4]\n"
     ]
    }
   ],
   "source": [
    "print(x)"
   ]
  },
  {
   "cell_type": "markdown",
   "id": "98818dd5",
   "metadata": {},
   "source": [
    "When we changed `y`, note that `x` also changed to the same object, showing that `x` and `y` refer to the same object, instead of referring to different copies of the same object."
   ]
  },
  {
   "cell_type": "markdown",
   "id": "38dcf3d6",
   "metadata": {},
   "source": []
  }
 ],
 "metadata": {
  "kernelspec": {
   "display_name": "Python 3",
   "language": "python",
   "name": "python3"
  },
  "language_info": {
   "codemirror_mode": {
    "name": "ipython",
    "version": 3
   },
   "file_extension": ".py",
   "mimetype": "text/x-python",
   "name": "python",
   "nbconvert_exporter": "python",
   "pygments_lexer": "ipython3",
   "version": "3.8.8"
  }
 },
 "nbformat": 4,
 "nbformat_minor": 5
}
