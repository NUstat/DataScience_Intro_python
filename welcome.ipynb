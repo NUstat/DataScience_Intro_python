{
 "cells": [
  {
   "cell_type": "raw",
   "id": "a0bbf289",
   "metadata": {},
   "source": [
    "# Welcome {.unnumbered}"
   ]
  },
  {
   "cell_type": "code",
   "execution_count": 11,
   "id": "84a496e1",
   "metadata": {},
   "outputs": [
    {
     "data": {
      "text/html": [
       "<img src=\"ds_image.jpg\" width=\"740\"/>"
      ],
      "text/plain": [
       "<IPython.core.display.Image object>"
      ]
     },
     "execution_count": 11,
     "metadata": {},
     "output_type": "execute_result"
    }
   ],
   "source": [
    "#| echo: false\n",
    "\n",
    "# import image module\n",
    "from IPython.display import Image\n",
    "\n",
    "# get the image\n",
    "Image(url=\"ds_image.jpg\",width=740)"
   ]
  },
  {
   "cell_type": "code",
   "execution_count": 18,
   "id": "de366d06",
   "metadata": {},
   "outputs": [
    {
     "data": {
      "text/html": [
       "<img src=\"authors.jpg\" width=\"740\"/>"
      ],
      "text/plain": [
       "<IPython.core.display.Image object>"
      ]
     },
     "execution_count": 18,
     "metadata": {},
     "output_type": "execute_result"
    }
   ],
   "source": [
    "#| echo: false\n",
    "\n",
    "# import image module\n",
    "from IPython.display import Image\n",
    "\n",
    "# get the image\n",
    "Image(url=\"authors.jpg\",width=740)"
   ]
  }
 ],
 "metadata": {
  "kernelspec": {
   "display_name": "Python 3",
   "language": "python",
   "name": "python3"
  },
  "language_info": {
   "codemirror_mode": {
    "name": "ipython",
    "version": 3
   },
   "file_extension": ".py",
   "mimetype": "text/x-python",
   "name": "python",
   "nbconvert_exporter": "python",
   "pygments_lexer": "ipython3",
   "version": "3.8.8"
  }
 },
 "nbformat": 4,
 "nbformat_minor": 5
}
