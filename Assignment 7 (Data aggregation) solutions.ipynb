{
 "cells": [
  {
   "cell_type": "raw",
   "id": "21d73ed4",
   "metadata": {},
   "source": [
    "---\n",
    "title: \"Assignment 7 (Data aggregation)\"\n",
    "format: \n",
    "  html:\n",
    "    toc: true\n",
    "    toc-title: Contents\n",
    "    toc-depth: 4\n",
    "    code-fold: show\n",
    "    self-contained: true\n",
    "jupyter: python3\n",
    "---"
   ]
  },
  {
   "cell_type": "markdown",
   "id": "d8072b13",
   "metadata": {},
   "source": [
    "## Instructions {-}\n",
    "\n",
    "1. You may talk to a friend, discuss the questions and potential directions for solving them. However, you need to write your own solutions and code separately, and not as a group activity. \n",
    "\n",
    "2. Do not write your name on the assignment.\n",
    "\n",
    "3. Write your code in the *Code* cells and your answer in the *Markdown* cells of the Jupyter notebook. Ensure that the solution is written neatly enough to understand and grade.\n",
    "\n",
    "4. Use [Quarto](https://quarto.org/docs/output-formats/html-basics.html) to print the *.ipynb* file as HTML. You will need to open the command prompt, navigate to the directory containing the file, and use the command: `quarto render filename.ipynb --to html`. Submit the HTML file.\n",
    "\n",
    "5. The assignment is worth 100 points, and is due on **5th December 2022 at 11:59 pm**. No extention is available on this assignment due to tight grading deadlines. That's why this is an optional assignment.\n",
    "\n",
    "6. You are **not allowed to use a `for` loop in this assignment**.\n",
    "\n",
    "7. There is a **bonus** question worth 10 points.\n",
    "\n",
    "8. There are hints provided in a couple of questions. For each of those questions, if you can propose a solution that is shorter than the one proposed in the hint, you will get 20 **ultra-bonus** points. Email your solution to *krish@northwestern.edu* to claim the ultra-bonus points. A solution may be shorter in terms of number of computations. If it is shorter with respect to any other criterion, then the number of ultra-bonus points awarded will be a subjective decision.\n",
    "\n",
    "9.  The maximum possible score in the assigment is 100 + 10 (bonus question) + 40 (two ultra-bonus questions) = 150 out of 100. There is no partial credit for bonus / ultra-bonus questions.\n",
    "\n",
    "10. If you are updating a dataset (imputing missing values / creating new variables), then use the updated dataset in a subsequent question."
   ]
  },
  {
   "cell_type": "markdown",
   "id": "93d691ac",
   "metadata": {},
   "source": [
    "## Spotify"
   ]
  },
  {
   "cell_type": "markdown",
   "id": "76ef6e03",
   "metadata": {},
   "source": [
    "Read the spotify dataset from the file *spotify_data.csv*. \n",
    "\n",
    "What percentage of all the unique tracks are contributed by the top 3 artists of each genre, where the top artists are based on `artist_popularity`, and the unique tracks are based on unique values of `track_name`? If there are multiple values of `artist_popularity` for an `artist_name`-`genres` combination, then consider the maximum value of `artist_popularity`.\n",
    "\n",
    "The following approach will **not** work: If you group the data by `genres`, and filter the top 3 rows by `artist_popularity`, then you may not get 3 unique artists, as one artist can have multiple tracks.\n",
    "\n",
    "*(12 points)*\n",
    "\n",
    "**Hint:**\n",
    "\n",
    "1. Group the data by `genres`, and `artist_name`. Find the number of unique tracks (by `track_name`) and maximum `artist_popularity` for each group. \n",
    "\n",
    "2. The dataset obtained in (1) is at artist-genre level, i.e., each row corresponds to a unique `artist_name`-`genres` combination. Group that dataset by `genres`, and filter the top 3 rows of each group based on `artist_popularity`. \n",
    "\n",
    "3. Sum up the number of unique tracks of the dataset obtained in (2) and divide it by the total number of unique tracks in the original dataset.\n",
    "\n",
    "\n",
    "**Note:** The functions `nunique()`, and `agg()` may be useful. "
   ]
  },
  {
   "cell_type": "code",
   "execution_count": 138,
   "id": "f50a3783",
   "metadata": {},
   "outputs": [],
   "source": [
    "import pandas as pd\n",
    "import numpy as np\n",
    "import matplotlib.pyplot as plt\n",
    "import seaborn as sns"
   ]
  },
  {
   "cell_type": "code",
   "execution_count": 139,
   "id": "85ce8385",
   "metadata": {
    "scrolled": true
   },
   "outputs": [
    {
     "data": {
      "text/html": [
       "<div>\n",
       "<style scoped>\n",
       "    .dataframe tbody tr th:only-of-type {\n",
       "        vertical-align: middle;\n",
       "    }\n",
       "\n",
       "    .dataframe tbody tr th {\n",
       "        vertical-align: top;\n",
       "    }\n",
       "\n",
       "    .dataframe thead th {\n",
       "        text-align: right;\n",
       "    }\n",
       "</style>\n",
       "<table border=\"1\" class=\"dataframe\">\n",
       "  <thead>\n",
       "    <tr style=\"text-align: right;\">\n",
       "      <th></th>\n",
       "      <th>genres</th>\n",
       "      <th>artist_name</th>\n",
       "      <th>track_name</th>\n",
       "      <th>artist_popularity</th>\n",
       "    </tr>\n",
       "  </thead>\n",
       "  <tbody>\n",
       "    <tr>\n",
       "      <th>0</th>\n",
       "      <td>country</td>\n",
       "      <td>Alan Jackson</td>\n",
       "      <td>61</td>\n",
       "      <td>76</td>\n",
       "    </tr>\n",
       "    <tr>\n",
       "      <th>1</th>\n",
       "      <td>country</td>\n",
       "      <td>Blake Shelton</td>\n",
       "      <td>16</td>\n",
       "      <td>77</td>\n",
       "    </tr>\n",
       "    <tr>\n",
       "      <th>2</th>\n",
       "      <td>country</td>\n",
       "      <td>Brad Paisley</td>\n",
       "      <td>16</td>\n",
       "      <td>71</td>\n",
       "    </tr>\n",
       "    <tr>\n",
       "      <th>3</th>\n",
       "      <td>country</td>\n",
       "      <td>Brett Young</td>\n",
       "      <td>5</td>\n",
       "      <td>73</td>\n",
       "    </tr>\n",
       "    <tr>\n",
       "      <th>4</th>\n",
       "      <td>country</td>\n",
       "      <td>Casey Donahew</td>\n",
       "      <td>3</td>\n",
       "      <td>60</td>\n",
       "    </tr>\n",
       "  </tbody>\n",
       "</table>\n",
       "</div>"
      ],
      "text/plain": [
       "    genres    artist_name  track_name  artist_popularity\n",
       "0  country   Alan Jackson          61                 76\n",
       "1  country  Blake Shelton          16                 77\n",
       "2  country   Brad Paisley          16                 71\n",
       "3  country    Brett Young           5                 73\n",
       "4  country  Casey Donahew           3                 60"
      ]
     },
     "execution_count": 139,
     "metadata": {},
     "output_type": "execute_result"
    }
   ],
   "source": [
    "spotify_data = pd.read_csv('./Datasets/spotify_data.csv')\n",
    "grouped = spotify_data.groupby(['genres','artist_name'])\n",
    "artist_genre_lvl=grouped.agg({'track_name':'nunique','artist_popularity':'max'}).reset_index()\n",
    "artist_genre_lvl.head()"
   ]
  },
  {
   "cell_type": "code",
   "execution_count": 140,
   "id": "a78588e2",
   "metadata": {},
   "outputs": [
    {
     "data": {
      "text/plain": [
       "0.047680082030248656"
      ]
     },
     "execution_count": 140,
     "metadata": {},
     "output_type": "execute_result"
    }
   ],
   "source": [
    "top3_artists_data = artist_genre_lvl.groupby('genres').apply(lambda x:x.sort_values(by = 'artist_popularity',ascending = False)[0:3])\n",
    "top3_artists_data.track_name.sum()/(spotify_data.track_name.nunique())"
   ]
  },
  {
   "cell_type": "markdown",
   "id": "359f18c4",
   "metadata": {},
   "source": [
    "The top 3 artisits of each genre contribute to 5% of the total number of tracks."
   ]
  },
  {
   "cell_type": "markdown",
   "id": "4393cced-a26a-47a9-a23d-cba029eeaf27",
   "metadata": {},
   "source": [
    "## Canadian Fish Biodiversity\n",
    "\n",
    "Read data from the file \"Canadian_Fish_Biodiversity.csv\" on Canvas. Each row records a unique fishing event from a 2013 sample of fish populations in Ontario, Canada. To analyze the results of these fishing surveys, we need to understand the dynamics of projects, sites, and geographic locations."
   ]
  },
  {
   "cell_type": "code",
   "execution_count": 71,
   "id": "8044c83f-62fb-46da-8517-605256ebb7bf",
   "metadata": {},
   "outputs": [],
   "source": [
    "cfbdata = pd.read_csv(\"./Datasets/Canadian_Fish_Biodiversity.csv\")"
   ]
  },
  {
   "cell_type": "markdown",
   "id": "2270390b-eb12-458d-a5fd-68a0b13be9bc",
   "metadata": {},
   "source": [
    "### Top 3 projects\n",
    "Each site (identified by the column `SITEID`) represents a time and place at which fishing events occurred. Sites are grouped into broader projects (identified by the column `Project Name`). We want to understand the scope of these projects.\n",
    "\n",
    "Using `groupby()`, find the top three projects by number of unique sites.\n",
    "\n",
    "*(4 points)*"
   ]
  },
  {
   "cell_type": "code",
   "execution_count": 72,
   "id": "8ac382e8-d35d-44af-a2af-56a8ebfaa856",
   "metadata": {},
   "outputs": [
    {
     "data": {
      "text/plain": [
       "Project Name\n",
       "2013 GLAP Survey of Detroit River           220\n",
       "2013 Crown Marsh Survey                     146\n",
       "2013 Spotted Gar Critical Habitat Survey    131\n",
       "Name: SITEID, dtype: int64"
      ]
     },
     "execution_count": 72,
     "metadata": {},
     "output_type": "execute_result"
    }
   ],
   "source": [
    "cfbdata.groupby(\"Project Name\")[\"SITEID\"].nunique().sort_values(ascending=False).head(3)"
   ]
  },
  {
   "cell_type": "markdown",
   "id": "89596046",
   "metadata": {},
   "source": [
    "### Missing value imputation with `groupby()`"
   ]
  },
  {
   "cell_type": "markdown",
   "id": "553611e8-04b7-4247-bd97-f7f0401d572f",
   "metadata": {},
   "source": [
    "#### Number of missing values\n",
    "How many values are missing for the air temperature column (`Air Temperature (C)`)? \n",
    "\n",
    "*(1 point)*"
   ]
  },
  {
   "cell_type": "code",
   "execution_count": 141,
   "id": "8d017667",
   "metadata": {},
   "outputs": [
    {
     "data": {
      "text/plain": [
       "808"
      ]
     },
     "execution_count": 141,
     "metadata": {},
     "output_type": "execute_result"
    }
   ],
   "source": [
    "cfbdata['Air Temperature (C)'].isnull().sum()"
   ]
  },
  {
   "cell_type": "markdown",
   "id": "4720adde",
   "metadata": {},
   "source": [
    "808 values are missing for the air temperature column."
   ]
  },
  {
   "cell_type": "markdown",
   "id": "c5301b62",
   "metadata": {},
   "source": [
    "#### Missing value imputation: attempt 1\n",
    "Using `groupby()`, impute the missing values of air temperature with the median air temperature of the corresponding water body (`Waterbody Name`) and `Month`. \n",
    "\n",
    "*(4 points)*"
   ]
  },
  {
   "cell_type": "code",
   "execution_count": 142,
   "id": "3feb6b27",
   "metadata": {},
   "outputs": [],
   "source": [
    "cfbdata[\"Air Temperature (C)\"] = cfbdata.groupby([\"Waterbody Name\",'Month'])[\"Air Temperature (C)\"].apply(lambda x:x.fillna(x.median()))"
   ]
  },
  {
   "cell_type": "markdown",
   "id": "cbb888ae",
   "metadata": {},
   "source": [
    "#### Missing values remaining after attempt 1\n",
    "How many missing values still remain for the air temperature column after the imputation in the previous question? \n",
    "\n",
    "*(1 point)*"
   ]
  },
  {
   "cell_type": "code",
   "execution_count": 143,
   "id": "3f4bf751",
   "metadata": {},
   "outputs": [
    {
     "data": {
      "text/plain": [
       "113"
      ]
     },
     "execution_count": 143,
     "metadata": {},
     "output_type": "execute_result"
    }
   ],
   "source": [
    "cfbdata[\"Air Temperature (C)\"].isnull().sum()"
   ]
  },
  {
   "cell_type": "markdown",
   "id": "6b328ceb",
   "metadata": {},
   "source": [
    "113 missing values still remain after the imputation in the previous question."
   ]
  },
  {
   "cell_type": "markdown",
   "id": "209e59df",
   "metadata": {},
   "source": [
    "#### Missing value imputation: attempt 2\n",
    "We will try to impute the remaining missing values for air temperature. Try impute the remaining missing values of air temperature with the median air temperature of the corresponding project (`Project Name`) and `Month`. \n",
    "\n",
    "*(4 points)*"
   ]
  },
  {
   "cell_type": "code",
   "execution_count": 144,
   "id": "8d4f2585",
   "metadata": {},
   "outputs": [],
   "source": [
    "cfbdata[\"Air Temperature (C)\"] = cfbdata.groupby([\"Project Name\",'Month'])[\"Air Temperature (C)\"].apply(lambda x:x.fillna(x.median()))"
   ]
  },
  {
   "cell_type": "markdown",
   "id": "b1462d05",
   "metadata": {},
   "source": [
    "#### Missing values remaining after attempt 2\n",
    "How many missing values still remain for the air temperature column after the imputation in the previous question? \n",
    "\n",
    "*(1 point)*"
   ]
  },
  {
   "cell_type": "code",
   "execution_count": 145,
   "id": "73c4861e",
   "metadata": {},
   "outputs": [
    {
     "data": {
      "text/plain": [
       "62"
      ]
     },
     "execution_count": 145,
     "metadata": {},
     "output_type": "execute_result"
    }
   ],
   "source": [
    "cfbdata[\"Air Temperature (C)\"].isnull().sum()"
   ]
  },
  {
   "cell_type": "markdown",
   "id": "7505ae77",
   "metadata": {},
   "source": [
    "62 missing values still remain after the imputation in the previous question."
   ]
  },
  {
   "cell_type": "markdown",
   "id": "28848794",
   "metadata": {},
   "source": [
    "#### Air-water temperatures correlation\n",
    "Find the correlation between air temperature and water temperature. \n",
    "\n",
    "*(1 point)*"
   ]
  },
  {
   "cell_type": "code",
   "execution_count": 45,
   "id": "1932f4b8",
   "metadata": {},
   "outputs": [
    {
     "data": {
      "text/plain": [
       "0.7681845726335175"
      ]
     },
     "execution_count": 45,
     "metadata": {},
     "output_type": "execute_result"
    }
   ],
   "source": [
    "cfbdata[\"Air Temperature (C)\"].corr(cfbdata[\"Water Temperature (C)\"])"
   ]
  },
  {
   "cell_type": "markdown",
   "id": "ba834308",
   "metadata": {},
   "source": [
    "Correlation = 77%"
   ]
  },
  {
   "cell_type": "markdown",
   "id": "511a4e53",
   "metadata": {},
   "source": [
    "#### Missing values remaning after hypothetical attempt 3\n",
    "As you found a high correlation between air temperature and water temperature, you can use water temperature to estimate the air temperature (using the trendline, like you did in assignment 5). Assuming you already did that, how many missing values will still remain for the air temperature column? \n",
    "\n",
    "**Note:** Do not impute the missing values using the trendline, just assume you already did that.\n",
    "\n",
    "*(3 points)*"
   ]
  },
  {
   "cell_type": "markdown",
   "id": "e63c25e7",
   "metadata": {},
   "source": [
    "The values for air temperature will remain missing for those observations that have missing values of water temperature."
   ]
  },
  {
   "cell_type": "code",
   "execution_count": 46,
   "id": "3ff3bebc",
   "metadata": {},
   "outputs": [
    {
     "data": {
      "text/plain": [
       "11"
      ]
     },
     "execution_count": 46,
     "metadata": {},
     "output_type": "execute_result"
    }
   ],
   "source": [
    "(cfbdata['Air Temperature (C)'].isnull() & cfbdata['Water Temperature (C)'].isnull()).sum()"
   ]
  },
  {
   "cell_type": "markdown",
   "id": "34d0ec70",
   "metadata": {},
   "source": [
    "11 missing values will still remain after imputing the missing values using the trendline."
   ]
  },
  {
   "cell_type": "markdown",
   "id": "7d6fbea7",
   "metadata": {},
   "source": [
    "#### Visualizing missing value imputation\n",
    "Make a scatterplot of air temperature against water temperature. Higlight the points for which the air temperature was imputed in attempts 1 and 2 with a different color. \n",
    "\n",
    "*(8 points)*"
   ]
  },
  {
   "cell_type": "code",
   "execution_count": 148,
   "id": "4921574d",
   "metadata": {},
   "outputs": [],
   "source": [
    "cfbdata_orig = pd.read_csv(\"./Datasets/Canadian_Fish_Biodiversity.csv\")"
   ]
  },
  {
   "cell_type": "code",
   "execution_count": 149,
   "id": "4dcb9627",
   "metadata": {},
   "outputs": [
    {
     "data": {
      "text/plain": [
       "<matplotlib.legend.Legend at 0x1b85ebb5610>"
      ]
     },
     "execution_count": 149,
     "metadata": {},
     "output_type": "execute_result"
    },
    {
     "data": {
      "image/png": "[encoded data removed]",
      "text/plain": [
       "<Figure size 432x288 with 1 Axes>"
      ]
     },
     "metadata": {
      "needs_background": "light"
     },
     "output_type": "display_data"
    }
   ],
   "source": [
    "ind_imputed = np.where(cfbdata_orig['Air Temperature (C)'].isnull() & ~cfbdata['Air Temperature (C)'].isnull())[0]\n",
    "sns.scatterplot(data = cfbdata_orig, x = 'Air Temperature (C)', y = 'Water Temperature (C)')\n",
    "sns.scatterplot(data = cfbdata.iloc[ind_imputed,:], x = 'Air Temperature (C)', y = 'Water Temperature (C)',color = 'red')\n",
    "plt.legend(labels = ['Non missing data','imputed values'])"
   ]
  },
  {
   "cell_type": "markdown",
   "id": "a5f6b09a-1a1f-4ac9-a405-a3834e0c9d54",
   "metadata": {},
   "source": [
    "### Living conditions\n",
    "This section begins to investigate the living conditions of fish at different locations and time periods. Continue using the updated dataset with the imputed missing values in attempts 1 and 2 of the previous section."
   ]
  },
  {
   "cell_type": "markdown",
   "id": "b9a8a8d2-e9ea-4df4-a92f-ed53da3d126d",
   "metadata": {},
   "source": [
    "#### Air-water temperatures: Summary statistics\n",
    "Use a single `groupby` statement to view the minimum, mean, standard deviation, and maximum air temperature and water temperature for each project during the month of August (use the `Month` column). \n",
    "\n",
    "*(5 points)*"
   ]
  },
  {
   "cell_type": "code",
   "execution_count": 75,
   "id": "ed35a1b2-3b7f-4419-9b1e-d4e41fe5802a",
   "metadata": {},
   "outputs": [
    {
     "data": {
      "text/html": [
       "<div>\n",
       "<style scoped>\n",
       "    .dataframe tbody tr th:only-of-type {\n",
       "        vertical-align: middle;\n",
       "    }\n",
       "\n",
       "    .dataframe tbody tr th {\n",
       "        vertical-align: top;\n",
       "    }\n",
       "\n",
       "    .dataframe thead tr th {\n",
       "        text-align: left;\n",
       "    }\n",
       "\n",
       "    .dataframe thead tr:last-of-type th {\n",
       "        text-align: right;\n",
       "    }\n",
       "</style>\n",
       "<table border=\"1\" class=\"dataframe\">\n",
       "  <thead>\n",
       "    <tr>\n",
       "      <th></th>\n",
       "      <th colspan=\"4\" halign=\"left\">Air Temperature (C)</th>\n",
       "      <th colspan=\"4\" halign=\"left\">Water Temperature (C)</th>\n",
       "    </tr>\n",
       "    <tr>\n",
       "      <th></th>\n",
       "      <th>min</th>\n",
       "      <th>mean</th>\n",
       "      <th>std</th>\n",
       "      <th>max</th>\n",
       "      <th>min</th>\n",
       "      <th>mean</th>\n",
       "      <th>std</th>\n",
       "      <th>max</th>\n",
       "    </tr>\n",
       "    <tr>\n",
       "      <th>Project Name</th>\n",
       "      <th></th>\n",
       "      <th></th>\n",
       "      <th></th>\n",
       "      <th></th>\n",
       "      <th></th>\n",
       "      <th></th>\n",
       "      <th></th>\n",
       "      <th></th>\n",
       "    </tr>\n",
       "  </thead>\n",
       "  <tbody>\n",
       "    <tr>\n",
       "      <th>2013 Bridle Shiner Critical Habitat Survey</th>\n",
       "      <td>20.7</td>\n",
       "      <td>24.609091</td>\n",
       "      <td>2.588098</td>\n",
       "      <td>26.5</td>\n",
       "      <td>20.630</td>\n",
       "      <td>22.052182</td>\n",
       "      <td>0.503887</td>\n",
       "      <td>22.44</td>\n",
       "    </tr>\n",
       "    <tr>\n",
       "      <th>2013 Crown Marsh Survey</th>\n",
       "      <td>16.4</td>\n",
       "      <td>21.667872</td>\n",
       "      <td>2.057387</td>\n",
       "      <td>26.2</td>\n",
       "      <td>17.430</td>\n",
       "      <td>22.007084</td>\n",
       "      <td>1.240151</td>\n",
       "      <td>23.24</td>\n",
       "    </tr>\n",
       "    <tr>\n",
       "      <th>2013 GLAP Survey of Detroit River</th>\n",
       "      <td>21.1</td>\n",
       "      <td>24.406220</td>\n",
       "      <td>2.652812</td>\n",
       "      <td>28.3</td>\n",
       "      <td>21.646</td>\n",
       "      <td>22.028226</td>\n",
       "      <td>0.392402</td>\n",
       "      <td>23.11</td>\n",
       "    </tr>\n",
       "    <tr>\n",
       "      <th>2013 Grass Pickerel Niagara Drains</th>\n",
       "      <td>20.8</td>\n",
       "      <td>25.246154</td>\n",
       "      <td>2.498615</td>\n",
       "      <td>28.2</td>\n",
       "      <td>17.150</td>\n",
       "      <td>20.105641</td>\n",
       "      <td>2.426792</td>\n",
       "      <td>23.96</td>\n",
       "    </tr>\n",
       "    <tr>\n",
       "      <th>2013 Grass Pickerel Twenty Mile Creek</th>\n",
       "      <td>22.5</td>\n",
       "      <td>25.340107</td>\n",
       "      <td>2.395997</td>\n",
       "      <td>29.4</td>\n",
       "      <td>18.990</td>\n",
       "      <td>22.380238</td>\n",
       "      <td>2.533686</td>\n",
       "      <td>26.87</td>\n",
       "    </tr>\n",
       "    <tr>\n",
       "      <th>2013 Lake Chubsucker Critical Habitat Survey</th>\n",
       "      <td>14.3</td>\n",
       "      <td>20.814612</td>\n",
       "      <td>3.968119</td>\n",
       "      <td>32.6</td>\n",
       "      <td>19.300</td>\n",
       "      <td>21.671746</td>\n",
       "      <td>1.619878</td>\n",
       "      <td>25.13</td>\n",
       "    </tr>\n",
       "    <tr>\n",
       "      <th>2013 Mussel Fish Community Assessment</th>\n",
       "      <td>23.0</td>\n",
       "      <td>24.535887</td>\n",
       "      <td>1.203286</td>\n",
       "      <td>26.1</td>\n",
       "      <td>21.800</td>\n",
       "      <td>23.155645</td>\n",
       "      <td>1.156345</td>\n",
       "      <td>24.60</td>\n",
       "    </tr>\n",
       "    <tr>\n",
       "      <th>2013 Pugnose Minnow Lake St Clair Drains</th>\n",
       "      <td>22.2</td>\n",
       "      <td>25.303061</td>\n",
       "      <td>1.961982</td>\n",
       "      <td>29.0</td>\n",
       "      <td>18.970</td>\n",
       "      <td>20.713163</td>\n",
       "      <td>1.676571</td>\n",
       "      <td>24.22</td>\n",
       "    </tr>\n",
       "    <tr>\n",
       "      <th>2013 Species at Risk Assessment</th>\n",
       "      <td>23.3</td>\n",
       "      <td>24.456000</td>\n",
       "      <td>0.809362</td>\n",
       "      <td>25.0</td>\n",
       "      <td>21.960</td>\n",
       "      <td>22.075600</td>\n",
       "      <td>0.080936</td>\n",
       "      <td>22.13</td>\n",
       "    </tr>\n",
       "    <tr>\n",
       "      <th>2013 Spotted Gar Critical Habitat Survey</th>\n",
       "      <td>18.6</td>\n",
       "      <td>22.706481</td>\n",
       "      <td>2.590503</td>\n",
       "      <td>27.7</td>\n",
       "      <td>18.639</td>\n",
       "      <td>21.349769</td>\n",
       "      <td>1.978877</td>\n",
       "      <td>24.30</td>\n",
       "    </tr>\n",
       "  </tbody>\n",
       "</table>\n",
       "</div>"
      ],
      "text/plain": [
       "                                             Air Temperature (C)             \\\n",
       "                                                             min       mean   \n",
       "Project Name                                                                  \n",
       "2013 Bridle Shiner Critical Habitat Survey                  20.7  24.609091   \n",
       "2013 Crown Marsh Survey                                     16.4  21.667872   \n",
       "2013 GLAP Survey of Detroit River                           21.1  24.406220   \n",
       "2013 Grass Pickerel Niagara Drains                          20.8  25.246154   \n",
       "2013 Grass Pickerel Twenty Mile Creek                       22.5  25.340107   \n",
       "2013 Lake Chubsucker Critical Habitat Survey                14.3  20.814612   \n",
       "2013 Mussel Fish Community Assessment                       23.0  24.535887   \n",
       "2013 Pugnose Minnow Lake St Clair Drains                    22.2  25.303061   \n",
       "2013 Species at Risk Assessment                             23.3  24.456000   \n",
       "2013 Spotted Gar Critical Habitat Survey                    18.6  22.706481   \n",
       "\n",
       "                                                              \\\n",
       "                                                   std   max   \n",
       "Project Name                                                   \n",
       "2013 Bridle Shiner Critical Habitat Survey    2.588098  26.5   \n",
       "2013 Crown Marsh Survey                       2.057387  26.2   \n",
       "2013 GLAP Survey of Detroit River             2.652812  28.3   \n",
       "2013 Grass Pickerel Niagara Drains            2.498615  28.2   \n",
       "2013 Grass Pickerel Twenty Mile Creek         2.395997  29.4   \n",
       "2013 Lake Chubsucker Critical Habitat Survey  3.968119  32.6   \n",
       "2013 Mussel Fish Community Assessment         1.203286  26.1   \n",
       "2013 Pugnose Minnow Lake St Clair Drains      1.961982  29.0   \n",
       "2013 Species at Risk Assessment               0.809362  25.0   \n",
       "2013 Spotted Gar Critical Habitat Survey      2.590503  27.7   \n",
       "\n",
       "                                             Water Temperature (C)             \\\n",
       "                                                               min       mean   \n",
       "Project Name                                                                    \n",
       "2013 Bridle Shiner Critical Habitat Survey                  20.630  22.052182   \n",
       "2013 Crown Marsh Survey                                     17.430  22.007084   \n",
       "2013 GLAP Survey of Detroit River                           21.646  22.028226   \n",
       "2013 Grass Pickerel Niagara Drains                          17.150  20.105641   \n",
       "2013 Grass Pickerel Twenty Mile Creek                       18.990  22.380238   \n",
       "2013 Lake Chubsucker Critical Habitat Survey                19.300  21.671746   \n",
       "2013 Mussel Fish Community Assessment                       21.800  23.155645   \n",
       "2013 Pugnose Minnow Lake St Clair Drains                    18.970  20.713163   \n",
       "2013 Species at Risk Assessment                             21.960  22.075600   \n",
       "2013 Spotted Gar Critical Habitat Survey                    18.639  21.349769   \n",
       "\n",
       "                                                               \n",
       "                                                   std    max  \n",
       "Project Name                                                   \n",
       "2013 Bridle Shiner Critical Habitat Survey    0.503887  22.44  \n",
       "2013 Crown Marsh Survey                       1.240151  23.24  \n",
       "2013 GLAP Survey of Detroit River             0.392402  23.11  \n",
       "2013 Grass Pickerel Niagara Drains            2.426792  23.96  \n",
       "2013 Grass Pickerel Twenty Mile Creek         2.533686  26.87  \n",
       "2013 Lake Chubsucker Critical Habitat Survey  1.619878  25.13  \n",
       "2013 Mussel Fish Community Assessment         1.156345  24.60  \n",
       "2013 Pugnose Minnow Lake St Clair Drains      1.676571  24.22  \n",
       "2013 Species at Risk Assessment               0.080936  22.13  \n",
       "2013 Spotted Gar Critical Habitat Survey      1.978877  24.30  "
      ]
     },
     "execution_count": 75,
     "metadata": {},
     "output_type": "execute_result"
    }
   ],
   "source": [
    "cfb_month = cfbdata[cfbdata[\"Month\"]==8]\n",
    "cfb_month.groupby(\"Project Name\")[[\"Air Temperature (C)\",\"Water Temperature (C)\"]].agg(['min','mean','std','max'])"
   ]
  },
  {
   "cell_type": "markdown",
   "id": "790bf61d-8285-447a-afef-7d7dff1e4b0d",
   "metadata": {},
   "source": [
    "#### Air-water temperatures: visualizing yearly trend\n",
    "Make lineplots showing maximum air temperature and water temperature by `Month` and `Region`. To construct `Region`, use the Pandas function `cut()` to satisfy the following conditions:\n",
    "\n",
    "- Rows with a latitude lower than 42.4 should have *Southern* in the `Region` column \n",
    "- Rows with a latitude between 42.4 and 42.8 should have *Central* in the `Region` column \n",
    "- Rows with a latitude higher than 42.8 should have *Northern* in the `Region` column \n",
    "\n",
    "You can have the month on the horizontal axis, the temperature on the vertical axis, different colors for different regions, and different styles (solid line / dotted line) to indicate air/water temperature.\n",
    "\n",
    "Does anything in the visualization surprise you? Why or why not? \n",
    "\n",
    "*(14 points)*"
   ]
  },
  {
   "cell_type": "code",
   "execution_count": 76,
   "id": "f98a20a7-749f-4af7-9a5a-e9bd6d43cbb0",
   "metadata": {},
   "outputs": [],
   "source": [
    "lat_bins = [40,42.4,42.8,46]\n",
    "lat_names = [\"Southern\",\"Central\",\"Northern\"]\n",
    "\n",
    "cfbdata[\"Region\"] = pd.cut(cfbdata[\"Start Latitude\"],lat_bins,labels=lat_names)"
   ]
  },
  {
   "cell_type": "code",
   "execution_count": 77,
   "id": "67fa2ff5-2378-4b88-ae3b-cf337dee486c",
   "metadata": {},
   "outputs": [
    {
     "data": {
      "text/plain": [
       "<matplotlib.legend.Legend at 0x1b85fd9d5e0>"
      ]
     },
     "execution_count": 77,
     "metadata": {},
     "output_type": "execute_result"
    },
    {
     "data": {
      "image/png": "[encoded data removed]",
      "text/plain": [
       "<Figure size 432x288 with 1 Axes>"
      ]
     },
     "metadata": {
      "needs_background": "light"
     },
     "output_type": "display_data"
    }
   ],
   "source": [
    "datag = cfbdata.groupby(['Region','Month'],as_index = False)[['Air Temperature (C)','Water Temperature (C)']].max()\n",
    "data_melt = pd.melt(datag, id_vars = ['Region','Month'],var_name = 'Temperature type',value_name = 'Temperature measurement')\n",
    "sns.lineplot(data = data_melt, x = 'Month',y = 'Temperature measurement', hue = 'Region',style = 'Temperature type')\n",
    "plt.legend(bbox_to_anchor = (1,1))"
   ]
  },
  {
   "cell_type": "markdown",
   "id": "69f1e580-f425-4fd6-a5ce-8becedc67857",
   "metadata": {},
   "source": [
    "*(Sample answer -- any reasonable interpretation is acceptable)*\n",
    "\n",
    "I'm surprised that both water and air maximum temperatures in the Northern region are higher than other regions' in June and July—I would've expected bodies of water further north to be generally colder. I'm also surprised that maximum temperatures in the Central region increase from September to October."
   ]
  },
  {
   "cell_type": "markdown",
   "id": "5bacf62d-a27d-43c5-bfce-47f554bd5f7a",
   "metadata": {},
   "source": [
    "### Fish diversity\n",
    "\n",
    "Finally let's focus on the stars of this survey—the fish, of course."
   ]
  },
  {
   "cell_type": "markdown",
   "id": "735493cf-12ed-404b-9ee5-2d7587007d7e",
   "metadata": {},
   "source": [
    "#### Top 3 species by `Region`\n",
    "Let's continue using our `Region` categorization. Find the top three fish `Species` in each region by `Number Captured`. \n",
    "\n",
    "*(12 points)*"
   ]
  },
  {
   "cell_type": "code",
   "execution_count": 90,
   "id": "fcce9902",
   "metadata": {},
   "outputs": [
    {
     "data": {
      "text/html": [
       "<div>\n",
       "<style scoped>\n",
       "    .dataframe tbody tr th:only-of-type {\n",
       "        vertical-align: middle;\n",
       "    }\n",
       "\n",
       "    .dataframe tbody tr th {\n",
       "        vertical-align: top;\n",
       "    }\n",
       "\n",
       "    .dataframe thead th {\n",
       "        text-align: right;\n",
       "    }\n",
       "</style>\n",
       "<table border=\"1\" class=\"dataframe\">\n",
       "  <thead>\n",
       "    <tr style=\"text-align: right;\">\n",
       "      <th></th>\n",
       "      <th></th>\n",
       "      <th>Species</th>\n",
       "      <th>Region</th>\n",
       "      <th>Number Captured</th>\n",
       "    </tr>\n",
       "    <tr>\n",
       "      <th>Region</th>\n",
       "      <th></th>\n",
       "      <th></th>\n",
       "      <th></th>\n",
       "      <th></th>\n",
       "    </tr>\n",
       "  </thead>\n",
       "  <tbody>\n",
       "    <tr>\n",
       "      <th rowspan=\"3\" valign=\"top\">Southern</th>\n",
       "      <th>189</th>\n",
       "      <td>Lepomis macrochirus</td>\n",
       "      <td>Southern</td>\n",
       "      <td>5072.0</td>\n",
       "    </tr>\n",
       "    <tr>\n",
       "      <th>78</th>\n",
       "      <td>Dorosoma cepedianum</td>\n",
       "      <td>Southern</td>\n",
       "      <td>3559.0</td>\n",
       "    </tr>\n",
       "    <tr>\n",
       "      <th>246</th>\n",
       "      <td>Neogobius melanostomus</td>\n",
       "      <td>Southern</td>\n",
       "      <td>2265.0</td>\n",
       "    </tr>\n",
       "    <tr>\n",
       "      <th rowspan=\"3\" valign=\"top\">Central</th>\n",
       "      <th>190</th>\n",
       "      <td>Lepomis macrochirus</td>\n",
       "      <td>Central</td>\n",
       "      <td>2126.0</td>\n",
       "    </tr>\n",
       "    <tr>\n",
       "      <th>163</th>\n",
       "      <td>Labidesthes sicculus</td>\n",
       "      <td>Central</td>\n",
       "      <td>2029.0</td>\n",
       "    </tr>\n",
       "    <tr>\n",
       "      <th>274</th>\n",
       "      <td>Notropis heterodon</td>\n",
       "      <td>Central</td>\n",
       "      <td>1562.0</td>\n",
       "    </tr>\n",
       "    <tr>\n",
       "      <th rowspan=\"3\" valign=\"top\">Northern</th>\n",
       "      <th>248</th>\n",
       "      <td>Neogobius melanostomus</td>\n",
       "      <td>Northern</td>\n",
       "      <td>2522.0</td>\n",
       "    </tr>\n",
       "    <tr>\n",
       "      <th>296</th>\n",
       "      <td>Notropis volucellus</td>\n",
       "      <td>Northern</td>\n",
       "      <td>2104.0</td>\n",
       "    </tr>\n",
       "    <tr>\n",
       "      <th>191</th>\n",
       "      <td>Lepomis macrochirus</td>\n",
       "      <td>Northern</td>\n",
       "      <td>1841.0</td>\n",
       "    </tr>\n",
       "  </tbody>\n",
       "</table>\n",
       "</div>"
      ],
      "text/plain": [
       "                             Species    Region  Number Captured\n",
       "Region                                                         \n",
       "Southern 189     Lepomis macrochirus  Southern           5072.0\n",
       "         78      Dorosoma cepedianum  Southern           3559.0\n",
       "         246  Neogobius melanostomus  Southern           2265.0\n",
       "Central  190     Lepomis macrochirus   Central           2126.0\n",
       "         163    Labidesthes sicculus   Central           2029.0\n",
       "         274      Notropis heterodon   Central           1562.0\n",
       "Northern 248  Neogobius melanostomus  Northern           2522.0\n",
       "         296     Notropis volucellus  Northern           2104.0\n",
       "         191     Lepomis macrochirus  Northern           1841.0"
      ]
     },
     "execution_count": 90,
     "metadata": {},
     "output_type": "execute_result"
    }
   ],
   "source": [
    "cfbdata.groupby(['Species','Region'])['Number Captured'].sum().reset_index().\\\n",
    "groupby('Region').apply(lambda x:x.sort_values(by = 'Number Captured',ascending = False).head(3))"
   ]
  },
  {
   "cell_type": "markdown",
   "id": "112eee58-3587-40df-8197-7bbe210053cf",
   "metadata": {},
   "source": [
    "#### Species spread across `Region`\n",
    "Are certain fish only found in some regions? Visualize how many species are in all three regions, how many are in two of three, and how many were only captured in one region. \n",
    "\n",
    "*(10 points)*"
   ]
  },
  {
   "cell_type": "code",
   "execution_count": 104,
   "id": "dae62724",
   "metadata": {},
   "outputs": [
    {
     "data": {
      "text/html": [
       "<div>\n",
       "<style scoped>\n",
       "    .dataframe tbody tr th:only-of-type {\n",
       "        vertical-align: middle;\n",
       "    }\n",
       "\n",
       "    .dataframe tbody tr th {\n",
       "        vertical-align: top;\n",
       "    }\n",
       "\n",
       "    .dataframe thead th {\n",
       "        text-align: right;\n",
       "    }\n",
       "</style>\n",
       "<table border=\"1\" class=\"dataframe\">\n",
       "  <thead>\n",
       "    <tr style=\"text-align: right;\">\n",
       "      <th></th>\n",
       "      <th>Region</th>\n",
       "      <th>Species</th>\n",
       "    </tr>\n",
       "  </thead>\n",
       "  <tbody>\n",
       "    <tr>\n",
       "      <th>0</th>\n",
       "      <td>1</td>\n",
       "      <td>51</td>\n",
       "    </tr>\n",
       "    <tr>\n",
       "      <th>1</th>\n",
       "      <td>2</td>\n",
       "      <td>30</td>\n",
       "    </tr>\n",
       "    <tr>\n",
       "      <th>2</th>\n",
       "      <td>3</td>\n",
       "      <td>51</td>\n",
       "    </tr>\n",
       "  </tbody>\n",
       "</table>\n",
       "</div>"
      ],
      "text/plain": [
       "   Region  Species\n",
       "0       1       51\n",
       "1       2       30\n",
       "2       3       51"
      ]
     },
     "execution_count": 104,
     "metadata": {},
     "output_type": "execute_result"
    }
   ],
   "source": [
    "region_num=cfbdata.groupby('Species',as_index=False)['Region'].nunique().groupby('Region',as_index=False).nunique()\n",
    "region_num"
   ]
  },
  {
   "cell_type": "code",
   "execution_count": 107,
   "id": "32a91fdf-c8b4-4525-acb8-9300982dd6a9",
   "metadata": {},
   "outputs": [
    {
     "data": {
      "text/plain": [
       "Text(0, 0.5, 'Number of species')"
      ]
     },
     "execution_count": 107,
     "metadata": {},
     "output_type": "execute_result"
    },
    {
     "data": {
      "image/png": "[encoded data removed]",
      "text/plain": [
       "<Figure size 432x288 with 1 Axes>"
      ]
     },
     "metadata": {
      "needs_background": "light"
     },
     "output_type": "display_data"
    }
   ],
   "source": [
    "sns.barplot(x='Region',y=\"Species\",data=region_num)\n",
    "plt.xlabel('Number of regions')\n",
    "plt.ylabel('Number of species')"
   ]
  },
  {
   "cell_type": "markdown",
   "id": "0dfa7dc4-c111-4d1a-b5e3-d71ab0cb7437",
   "metadata": {},
   "source": [
    "#### Exclusive fishes by region\n",
    "What percentage of all species are exclusively captured in the Southern region? How about the Northern Region? And the Central region? \n",
    "\n",
    "*(12 points)*\n",
    "\n",
    "**Hint:**\n",
    "\n",
    "1. Find the number of distinct regions in which each species is found.\n",
    "2. Filter the species that are found in only one region.\n",
    "3. Group the data, containing only the species found in (2), by region, count the number of unique species in each group, and divide by the total number of distinct species."
   ]
  },
  {
   "cell_type": "code",
   "execution_count": 124,
   "id": "1595c7a3",
   "metadata": {},
   "outputs": [
    {
     "data": {
      "text/plain": [
       "Region\n",
       "Southern    0.090909\n",
       "Central     0.045455\n",
       "Northern    0.250000\n",
       "Name: Species, dtype: float64"
      ]
     },
     "execution_count": 124,
     "metadata": {},
     "output_type": "execute_result"
    }
   ],
   "source": [
    "regions_by_species=cfbdata.groupby(['Species'],as_index=False)['Region'].nunique()\n",
    "one_region_species=regions_by_species.loc[regions_by_species.Region==1,'Species']\n",
    "cfbdata.loc[cfbdata.Species.isin(one_region_species),:].groupby('Region')['Species'].nunique()/cfbdata[\"Species\"].nunique()"
   ]
  },
  {
   "cell_type": "markdown",
   "id": "e28eb2ae-4aa4-4caa-84dd-f4b3bde7d840",
   "metadata": {},
   "source": [
    "#### Turbidity\n",
    "Turbidity (`Turbidity (ntu)`) quantifies the level of cloudiness in liquid. For fish in each of the three regions, is there a linear association between turbidity and number of fish caught? You may consider a correlation higher than 50% in magnitude as presence of a linear association.\n",
    "\n",
    "*(4 points)*"
   ]
  },
  {
   "cell_type": "code",
   "execution_count": 68,
   "id": "06922736-cc90-4084-9384-3fb5b4bdac3d",
   "metadata": {},
   "outputs": [
    {
     "data": {
      "text/plain": [
       "Region\n",
       "Southern   -0.019202\n",
       "Central    -0.016327\n",
       "Northern    0.063456\n",
       "dtype: float64"
      ]
     },
     "execution_count": 68,
     "metadata": {},
     "output_type": "execute_result"
    }
   ],
   "source": [
    "cfbdata.groupby('Region').apply(lambda x:x['Turbidity (ntu)'].corr(x['Number Captured']))"
   ]
  },
  {
   "cell_type": "markdown",
   "id": "6237905d-75e1-454b-9a14-9980ab6c2a44",
   "metadata": {},
   "source": [
    "No, there does not appear to be a linear association."
   ]
  },
  {
   "cell_type": "markdown",
   "id": "3dfb3724-38f6-4428-911d-b3c234227d25",
   "metadata": {},
   "source": [
    "#### Fish dimensions\n",
    "Now let's turn to the length of fish captured, given by *Maximum (mm)* and *Minimum (mm)*. Find the overall maximum and minimum lengths of all fish in each region. Which region has the largest range in captured fish length? \n",
    "\n",
    "*(4 points)*"
   ]
  },
  {
   "cell_type": "code",
   "execution_count": 72,
   "id": "02f3f85a-742a-4c0d-9596-bbe449506b59",
   "metadata": {},
   "outputs": [
    {
     "data": {
      "text/html": [
       "<div>\n",
       "<style scoped>\n",
       "    .dataframe tbody tr th:only-of-type {\n",
       "        vertical-align: middle;\n",
       "    }\n",
       "\n",
       "    .dataframe tbody tr th {\n",
       "        vertical-align: top;\n",
       "    }\n",
       "\n",
       "    .dataframe thead th {\n",
       "        text-align: right;\n",
       "    }\n",
       "</style>\n",
       "<table border=\"1\" class=\"dataframe\">\n",
       "  <thead>\n",
       "    <tr style=\"text-align: right;\">\n",
       "      <th></th>\n",
       "      <th>Maximum (mm)</th>\n",
       "      <th>Minimum (mm)</th>\n",
       "    </tr>\n",
       "    <tr>\n",
       "      <th>Region</th>\n",
       "      <th></th>\n",
       "      <th></th>\n",
       "    </tr>\n",
       "  </thead>\n",
       "  <tbody>\n",
       "    <tr>\n",
       "      <th>Southern</th>\n",
       "      <td>1130.0</td>\n",
       "      <td>8.0</td>\n",
       "    </tr>\n",
       "    <tr>\n",
       "      <th>Central</th>\n",
       "      <td>785.0</td>\n",
       "      <td>9.0</td>\n",
       "    </tr>\n",
       "    <tr>\n",
       "      <th>Northern</th>\n",
       "      <td>760.0</td>\n",
       "      <td>10.0</td>\n",
       "    </tr>\n",
       "  </tbody>\n",
       "</table>\n",
       "</div>"
      ],
      "text/plain": [
       "          Maximum (mm)  Minimum (mm)\n",
       "Region                              \n",
       "Southern        1130.0           8.0\n",
       "Central          785.0           9.0\n",
       "Northern         760.0          10.0"
      ]
     },
     "execution_count": 72,
     "metadata": {},
     "output_type": "execute_result"
    }
   ],
   "source": [
    "cfbdata.groupby(\"Region\").agg({\"Maximum (mm)\": 'max', \"Minimum (mm)\" : 'min'})"
   ]
  },
  {
   "cell_type": "markdown",
   "id": "ff0d7dbd-d77b-4835-9091-11b6fafc8609",
   "metadata": {},
   "source": [
    "The Southern region has the largest range in captured fish length."
   ]
  },
  {
   "cell_type": "markdown",
   "id": "f5152b24-3807-4130-883f-cacacfc2b6b8",
   "metadata": {},
   "source": [
    "#### **Bonus question:** Inverse Simpson index\n",
    "\n",
    "Find the inverse Simpson index of species counts for each waterbody type (`WaterbodyType`) within each region. Which combination of waterbody type and region has the greatest diversity of fish species? Which has the least?\n",
    "\n",
    "The inverse Simpson index $(\\frac{1}{\\lambda})$ is a measure of ecological diversity, for which a larger index number indicates a greater diversity of species. The index is calculated as:\n",
    "\n",
    "$\\frac{1}{\\lambda} = 1/(\\sum^R_{i=1} p_i^2)$\n",
    "\n",
    "where $R$ is the number of unique species and $p_i$ is the proportion of fish belonging to species $i$. \n",
    "\n",
    "*(10 points - no partial credit)*"
   ]
  },
  {
   "cell_type": "code",
   "execution_count": 137,
   "id": "ed2d3660",
   "metadata": {},
   "outputs": [
    {
     "data": {
      "text/plain": [
       "WaterbodyType  Region  \n",
       "Lake           Southern     4.094649\n",
       "               Central      3.854458\n",
       "               Northern     4.896119\n",
       "Stream         Southern    13.800772\n",
       "               Central     12.070477\n",
       "               Northern    20.306997\n",
       "Wetland        Southern          NaN\n",
       "               Central      8.954213\n",
       "               Northern          NaN\n",
       "Name: Number Captured, dtype: float64"
      ]
     },
     "execution_count": 137,
     "metadata": {},
     "output_type": "execute_result"
    }
   ],
   "source": [
    "wrs_captured = cfbdata.groupby([\"WaterbodyType\",\"Region\",\"Species\"],as_index=False)[\"Number Captured\"].sum()\n",
    "wrs_captured = wrs_captured[wrs_captured[\"Number Captured\"]>0]\n",
    "wrs_captured.groupby([\"WaterbodyType\",\"Region\"])[\"Number Captured\"].apply(lambda x:((x/x.sum())**2).sum()**-1)"
   ]
  },
  {
   "cell_type": "markdown",
   "id": "42a9a56e-149d-4098-81d1-e2eb0322b068",
   "metadata": {},
   "source": [
    "According to the inverse Simpson index, Northern streams have the greatest diversity in fish species and Central lakes have the least. The survey didn't include any fish in Southern or Northern wetlands, so we can't describe these bodies of water in terms of fish diversity. "
   ]
  }
 ],
 "metadata": {
  "kernelspec": {
   "display_name": "Python 3",
   "language": "python",
   "name": "python3"
  },
  "language_info": {
   "codemirror_mode": {
    "name": "ipython",
    "version": 3
   },
   "file_extension": ".py",
   "mimetype": "text/x-python",
   "name": "python",
   "nbconvert_exporter": "python",
   "pygments_lexer": "ipython3",
   "version": "3.8.8"
  }
 },
 "nbformat": 4,
 "nbformat_minor": 5
}
