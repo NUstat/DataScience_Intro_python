{
 "cells": [
  {
   "cell_type": "raw",
   "id": "33dd6c4c",
   "metadata": {},
   "source": [
    "---\n",
    "title: \"Assignment 6 (Data wrangling)\"\n",
    "format: \n",
    "  html:\n",
    "    toc: true\n",
    "    toc-title: Contents\n",
    "    toc-depth: 4\n",
    "    code-fold: show\n",
    "    self-contained: true\n",
    "jupyter: python3\n",
    "---"
   ]
  },
  {
   "cell_type": "markdown",
   "id": "0116f49b",
   "metadata": {},
   "source": [
    "## Instructions {-}\n",
    "\n",
    "1. You may talk to a friend, discuss the questions and potential directions for solving them. However, you need to write your own solutions and code separately, and not as a group activity. \n",
    "\n",
    "2. Do not write your name on the assignment.\n",
    "\n",
    "3. Write your code in the *Code* cells and your answer in the *Markdown* cells of the Jupyter notebook. Ensure that the solution is written neatly enough to understand and grade.\n",
    "\n",
    "4. Use [Quarto](https://quarto.org/docs/output-formats/html-basics.html) to print the *.ipynb* file as HTML. You will need to open the command prompt, navigate to the directory containing the file, and use the command: `quarto render filename.ipynb --to html`. Submit the HTML file.\n",
    "\n",
    "5. The assignment is worth 100 points, and is due on **22nd November 2022 at 11:59 pm**. \n",
    "\n",
    "6. You are **not allowed to use a `for` loop in this assignment**."
   ]
  },
  {
   "cell_type": "markdown",
   "id": "0c4035ef",
   "metadata": {},
   "source": [
    "## Fifa world cup\n",
    "Read FIFA world cup attendance data from the page: https://en.wikipedia.org/wiki/FIFA_World_Cup . Use 'attendance' as the matching string to find the table. \n",
    "\n",
    "### \n",
    "Find the number of levels of column labels and row labels in the data \n",
    "\n",
    "*(2 points)*"
   ]
  },
  {
   "cell_type": "code",
   "execution_count": 282,
   "id": "74cf59bb",
   "metadata": {},
   "outputs": [],
   "source": [
    "import numpy as np\n",
    "import pandas as pd\n",
    "import seaborn as sns\n",
    "import matplotlib.pyplot as plt\n",
    "import re"
   ]
  },
  {
   "cell_type": "code",
   "execution_count": 313,
   "id": "b9b9d5d5",
   "metadata": {},
   "outputs": [
    {
     "name": "stdout",
     "output_type": "stream",
     "text": [
      "2\n",
      "1\n"
     ]
    }
   ],
   "source": [
    "data = pd.read_html('https://en.wikipedia.org/wiki/FIFA_World_Cup',match='attendance')[0]\n",
    "print(data.columns.nlevels)\n",
    "print(data.index.nlevels)"
   ]
  },
  {
   "cell_type": "markdown",
   "id": "27aa0b4c",
   "metadata": {},
   "source": [
    "Number of levels of column labels = 2, and number of levels of row labels = 1."
   ]
  },
  {
   "cell_type": "markdown",
   "id": "a7827336",
   "metadata": {},
   "source": [
    "### \n",
    "Reduce the multiple levels of column labels to a single level as follows. If the column names at all the levels are different, then concatenate the names together. Otherwise, keep the name at the outer level. For example, if the column name is ('Hosts','Hosts'), it should change to 'Host'. If the column name is ('Highest attendances †','Number'), it should change to 'Highest attendances †Number'. Do not rename each column manually. Use a method that will work efficiently if there were a large number of columns, say $10,000$ columns. \n",
    "\n",
    "**Reminder: Do not use a `for` loop.**\n",
    "\n",
    "*(10 points)*"
   ]
  },
  {
   "cell_type": "code",
   "execution_count": 311,
   "id": "8c6d5395",
   "metadata": {},
   "outputs": [
    {
     "data": {
      "text/html": [
       "<div>\n",
       "<style scoped>\n",
       "    .dataframe tbody tr th:only-of-type {\n",
       "        vertical-align: middle;\n",
       "    }\n",
       "\n",
       "    .dataframe tbody tr th {\n",
       "        vertical-align: top;\n",
       "    }\n",
       "\n",
       "    .dataframe thead th {\n",
       "        text-align: right;\n",
       "    }\n",
       "</style>\n",
       "<table border=\"1\" class=\"dataframe\">\n",
       "  <thead>\n",
       "    <tr style=\"text-align: right;\">\n",
       "      <th></th>\n",
       "      <th>Year</th>\n",
       "      <th>Hosts</th>\n",
       "      <th>Venues/Cities</th>\n",
       "      <th>Totalattendance †</th>\n",
       "      <th>Matches</th>\n",
       "      <th>Averageattendance</th>\n",
       "      <th>Highest attendances ‡Number</th>\n",
       "      <th>Highest attendances ‡Venue</th>\n",
       "      <th>Highest attendances ‡Game(s)</th>\n",
       "    </tr>\n",
       "  </thead>\n",
       "  <tbody>\n",
       "    <tr>\n",
       "      <th>0</th>\n",
       "      <td>1930</td>\n",
       "      <td>Uruguay</td>\n",
       "      <td>3/1</td>\n",
       "      <td>590549</td>\n",
       "      <td>18</td>\n",
       "      <td>32808</td>\n",
       "      <td>93000</td>\n",
       "      <td>Estadio Centenario, Montevideo</td>\n",
       "      <td>Uruguay 6–1 Yugoslavia, Semi-final</td>\n",
       "    </tr>\n",
       "    <tr>\n",
       "      <th>1</th>\n",
       "      <td>1934</td>\n",
       "      <td>Italy</td>\n",
       "      <td>8/8</td>\n",
       "      <td>363000</td>\n",
       "      <td>17</td>\n",
       "      <td>21353</td>\n",
       "      <td>55000</td>\n",
       "      <td>Stadio Nazionale PNF, Rome</td>\n",
       "      <td>Italy 2–1 Czechoslovakia, Final</td>\n",
       "    </tr>\n",
       "    <tr>\n",
       "      <th>2</th>\n",
       "      <td>1938</td>\n",
       "      <td>France</td>\n",
       "      <td>10/9</td>\n",
       "      <td>375700</td>\n",
       "      <td>18</td>\n",
       "      <td>20872</td>\n",
       "      <td>58455</td>\n",
       "      <td>Olympique de Colombes, Paris</td>\n",
       "      <td>France 1–3 Italy, Quarter-final</td>\n",
       "    </tr>\n",
       "    <tr>\n",
       "      <th>3</th>\n",
       "      <td>1950</td>\n",
       "      <td>Brazil</td>\n",
       "      <td>6/6</td>\n",
       "      <td>1045246</td>\n",
       "      <td>22</td>\n",
       "      <td>47511</td>\n",
       "      <td>173,850[86]</td>\n",
       "      <td>Maracanã Stadium, Rio de Janeiro</td>\n",
       "      <td>Brazil 1–2 Uruguay, Deciding match</td>\n",
       "    </tr>\n",
       "    <tr>\n",
       "      <th>4</th>\n",
       "      <td>1954</td>\n",
       "      <td>Switzerland</td>\n",
       "      <td>6/6</td>\n",
       "      <td>768607</td>\n",
       "      <td>26</td>\n",
       "      <td>29562</td>\n",
       "      <td>63000</td>\n",
       "      <td>Wankdorf Stadium, Bern</td>\n",
       "      <td>West Germany 3–2 Hungary, Final</td>\n",
       "    </tr>\n",
       "  </tbody>\n",
       "</table>\n",
       "</div>"
      ],
      "text/plain": [
       "   Year        Hosts Venues/Cities  Totalattendance †  Matches  \\\n",
       "0  1930      Uruguay           3/1             590549       18   \n",
       "1  1934        Italy           8/8             363000       17   \n",
       "2  1938       France          10/9             375700       18   \n",
       "3  1950       Brazil           6/6            1045246       22   \n",
       "4  1954  Switzerland           6/6             768607       26   \n",
       "\n",
       "   Averageattendance Highest attendances ‡Number  \\\n",
       "0              32808                       93000   \n",
       "1              21353                       55000   \n",
       "2              20872                       58455   \n",
       "3              47511                 173,850[86]   \n",
       "4              29562                       63000   \n",
       "\n",
       "         Highest attendances ‡Venue        Highest attendances ‡Game(s)  \n",
       "0    Estadio Centenario, Montevideo  Uruguay 6–1 Yugoslavia, Semi-final  \n",
       "1        Stadio Nazionale PNF, Rome     Italy 2–1 Czechoslovakia, Final  \n",
       "2      Olympique de Colombes, Paris     France 1–3 Italy, Quarter-final  \n",
       "3  Maracanã Stadium, Rio de Janeiro  Brazil 1–2 Uruguay, Deciding match  \n",
       "4            Wankdorf Stadium, Bern     West Germany 3–2 Hungary, Final  "
      ]
     },
     "execution_count": 311,
     "metadata": {},
     "output_type": "execute_result"
    }
   ],
   "source": [
    "#Get a boolean vector indicating the column positions on which the labels need to concatenated\n",
    "a = ~(data.columns.get_level_values(0)==data.columns.get_level_values(1))\n",
    "\n",
    "#Creating an array of column names based on level 0\n",
    "col_names = np.array(data.columns.get_level_values(0))\n",
    "\n",
    "#Appending column names from the 2 levels where they differ at the 2 levels\n",
    "col_names[np.where(a)] = data.columns.get_level_values(0)[np.where(a)] + data.columns.get_level_values(1)[np.where(a)]\n",
    "\n",
    "data.columns = col_names\n",
    "\n",
    "data.head()"
   ]
  },
  {
   "cell_type": "markdown",
   "id": "97301ade",
   "metadata": {},
   "source": [
    "## GDP per capita and population"
   ]
  },
  {
   "cell_type": "markdown",
   "id": "b38f4912",
   "metadata": {},
   "source": [
    "Read the GDP per capita data from https://en.wikipedia.org/wiki/List_of_countries_by_GDP_(nominal)_per_capita\n",
    "\n",
    "### Preparing GDP per capita data\n",
    "\n",
    "#### \n",
    "Drop all the `Year` columns. Use the [`drop()`](https://pandas.pydata.org/docs/reference/api/pandas.DataFrame.drop.html) method with the `columns`, `level` and `inplace` arguments. Print the first 2 rows of the updated DataFrame.\n",
    "\n",
    "*(4 points)*"
   ]
  },
  {
   "cell_type": "code",
   "execution_count": 283,
   "id": "768631b6",
   "metadata": {},
   "outputs": [
    {
     "data": {
      "text/html": [
       "<div>\n",
       "<style scoped>\n",
       "    .dataframe tbody tr th:only-of-type {\n",
       "        vertical-align: middle;\n",
       "    }\n",
       "\n",
       "    .dataframe tbody tr th {\n",
       "        vertical-align: top;\n",
       "    }\n",
       "\n",
       "    .dataframe thead tr th {\n",
       "        text-align: left;\n",
       "    }\n",
       "</style>\n",
       "<table border=\"1\" class=\"dataframe\">\n",
       "  <thead>\n",
       "    <tr>\n",
       "      <th></th>\n",
       "      <th>Country/Territory</th>\n",
       "      <th>UN Region</th>\n",
       "      <th>IMF[4]</th>\n",
       "      <th>World Bank[5]</th>\n",
       "      <th>United Nations[6]</th>\n",
       "    </tr>\n",
       "    <tr>\n",
       "      <th></th>\n",
       "      <th>Country/Territory</th>\n",
       "      <th>UN Region</th>\n",
       "      <th>Estimate</th>\n",
       "      <th>Estimate</th>\n",
       "      <th>Estimate</th>\n",
       "    </tr>\n",
       "  </thead>\n",
       "  <tbody>\n",
       "    <tr>\n",
       "      <th>0</th>\n",
       "      <td>Liechtenstein *</td>\n",
       "      <td>Europe</td>\n",
       "      <td>—</td>\n",
       "      <td>169049</td>\n",
       "      <td>180227</td>\n",
       "    </tr>\n",
       "    <tr>\n",
       "      <th>1</th>\n",
       "      <td>Monaco *</td>\n",
       "      <td>Europe</td>\n",
       "      <td>—</td>\n",
       "      <td>173688</td>\n",
       "      <td>173696</td>\n",
       "    </tr>\n",
       "  </tbody>\n",
       "</table>\n",
       "</div>"
      ],
      "text/plain": [
       "  Country/Territory UN Region   IMF[4] World Bank[5] United Nations[6]\n",
       "  Country/Territory UN Region Estimate      Estimate          Estimate\n",
       "0   Liechtenstein *    Europe        —        169049            180227\n",
       "1          Monaco *    Europe        —        173688            173696"
      ]
     },
     "execution_count": 283,
     "metadata": {},
     "output_type": "execute_result"
    }
   ],
   "source": [
    "# Read GDP per capita data from the webpage: https://en.wikipedia.org/wiki/List_of_countries_by_GDP_(nominal)_per_capita\n",
    "gdp_per_capita_data = pd.read_html('https://en.wikipedia.org/wiki/List_of_countries_by_GDP_(nominal)_per_capita', match = 'Country')[0]\n",
    "gdp_per_capita_data.drop(columns = 'Year',level=1,inplace=True)\n",
    "gdp_per_capita_data.head(2)"
   ]
  },
  {
   "cell_type": "markdown",
   "id": "b86c30b6",
   "metadata": {},
   "source": [
    "#### \n",
    "Drop the inner level of column labels. Use the `droplevel()` method. Print the first 2 rows of the updated DataFrame.\n",
    "\n",
    "*(4 points)*"
   ]
  },
  {
   "cell_type": "code",
   "execution_count": 284,
   "id": "fa735928",
   "metadata": {},
   "outputs": [
    {
     "data": {
      "text/html": [
       "<div>\n",
       "<style scoped>\n",
       "    .dataframe tbody tr th:only-of-type {\n",
       "        vertical-align: middle;\n",
       "    }\n",
       "\n",
       "    .dataframe tbody tr th {\n",
       "        vertical-align: top;\n",
       "    }\n",
       "\n",
       "    .dataframe thead th {\n",
       "        text-align: right;\n",
       "    }\n",
       "</style>\n",
       "<table border=\"1\" class=\"dataframe\">\n",
       "  <thead>\n",
       "    <tr style=\"text-align: right;\">\n",
       "      <th></th>\n",
       "      <th>Country/Territory</th>\n",
       "      <th>UN Region</th>\n",
       "      <th>IMF[4]</th>\n",
       "      <th>World Bank[5]</th>\n",
       "      <th>United Nations[6]</th>\n",
       "    </tr>\n",
       "  </thead>\n",
       "  <tbody>\n",
       "    <tr>\n",
       "      <th>0</th>\n",
       "      <td>Liechtenstein *</td>\n",
       "      <td>Europe</td>\n",
       "      <td>—</td>\n",
       "      <td>169049</td>\n",
       "      <td>180227</td>\n",
       "    </tr>\n",
       "    <tr>\n",
       "      <th>1</th>\n",
       "      <td>Monaco *</td>\n",
       "      <td>Europe</td>\n",
       "      <td>—</td>\n",
       "      <td>173688</td>\n",
       "      <td>173696</td>\n",
       "    </tr>\n",
       "  </tbody>\n",
       "</table>\n",
       "</div>"
      ],
      "text/plain": [
       "  Country/Territory UN Region IMF[4] World Bank[5] United Nations[6]\n",
       "0   Liechtenstein *    Europe      —        169049            180227\n",
       "1          Monaco *    Europe      —        173688            173696"
      ]
     },
     "execution_count": 284,
     "metadata": {},
     "output_type": "execute_result"
    }
   ],
   "source": [
    "gdp_per_capita_data=gdp_per_capita_data.droplevel(1,axis=1)\n",
    "gdp_per_capita_data.head(2)"
   ]
  },
  {
   "cell_type": "markdown",
   "id": "89e4b920",
   "metadata": {},
   "source": [
    "#### \n",
    "Convert the columns consisting of GDP per capita by *IMF, World Bank*, and the *United Nations* to numeric. Apply a lambda function on these columns to convert them to numeric. Print the number of missing values in each column of the updated DataFrame.\n",
    "\n",
    "Note: *Do not apply the function 3 times. Apply it once on a DataFrame consisting of these 3 columns.*\n",
    "\n",
    "*(4 points)*"
   ]
  },
  {
   "cell_type": "code",
   "execution_count": 285,
   "id": "d7d3fa15",
   "metadata": {},
   "outputs": [
    {
     "data": {
      "text/plain": [
       "Country/Territory     0\n",
       "UN Region             0\n",
       "IMF[4]               28\n",
       "World Bank[5]         7\n",
       "United Nations[6]     8\n",
       "dtype: int64"
      ]
     },
     "execution_count": 285,
     "metadata": {},
     "output_type": "execute_result"
    }
   ],
   "source": [
    "gdp_per_capita_data.iloc[:,2:] = gdp_per_capita_data.iloc[:,2:].apply(lambda x: pd.to_numeric(x,errors='coerce'))\n",
    "gdp_per_capita_data.isnull().sum()"
   ]
  },
  {
   "cell_type": "markdown",
   "id": "ee581bc9",
   "metadata": {},
   "source": [
    "#### \n",
    "Apply the lambda function below on all the column names of the dataset obtained in the previous question to clean the column names.\n",
    "\n",
    "`import re`\n",
    "\n",
    "`column_name_cleaner = lambda x:re.split(r'\\[|/', x)[0]`\n",
    "\n",
    "*Note: You will need to edit the parameter of the function, i.e., `x` in the above function to make sure it is applied on column names and not columns.*\n",
    "\n",
    "Print the first 2 rows of the updated DataFrame.\n",
    "\n",
    "*(5 points)*"
   ]
  },
  {
   "cell_type": "code",
   "execution_count": 286,
   "id": "c941ec8e",
   "metadata": {},
   "outputs": [
    {
     "data": {
      "text/html": [
       "<div>\n",
       "<style scoped>\n",
       "    .dataframe tbody tr th:only-of-type {\n",
       "        vertical-align: middle;\n",
       "    }\n",
       "\n",
       "    .dataframe tbody tr th {\n",
       "        vertical-align: top;\n",
       "    }\n",
       "\n",
       "    .dataframe thead th {\n",
       "        text-align: right;\n",
       "    }\n",
       "</style>\n",
       "<table border=\"1\" class=\"dataframe\">\n",
       "  <thead>\n",
       "    <tr style=\"text-align: right;\">\n",
       "      <th></th>\n",
       "      <th>Country</th>\n",
       "      <th>UN Region</th>\n",
       "      <th>IMF</th>\n",
       "      <th>World Bank</th>\n",
       "      <th>United Nations</th>\n",
       "    </tr>\n",
       "  </thead>\n",
       "  <tbody>\n",
       "    <tr>\n",
       "      <th>0</th>\n",
       "      <td>Liechtenstein *</td>\n",
       "      <td>Europe</td>\n",
       "      <td>NaN</td>\n",
       "      <td>169049.0</td>\n",
       "      <td>180227.0</td>\n",
       "    </tr>\n",
       "    <tr>\n",
       "      <th>1</th>\n",
       "      <td>Monaco *</td>\n",
       "      <td>Europe</td>\n",
       "      <td>NaN</td>\n",
       "      <td>173688.0</td>\n",
       "      <td>173696.0</td>\n",
       "    </tr>\n",
       "  </tbody>\n",
       "</table>\n",
       "</div>"
      ],
      "text/plain": [
       "           Country UN Region  IMF World Bank United Nations\n",
       "0  Liechtenstein *    Europe  NaN   169049.0       180227.0\n",
       "1         Monaco *    Europe  NaN   173688.0       173696.0"
      ]
     },
     "execution_count": 286,
     "metadata": {},
     "output_type": "execute_result"
    }
   ],
   "source": [
    "gdp_per_capita_data.columns = gdp_per_capita_data.apply(lambda x:re.split(r'\\[|/', x.name)[0])\n",
    "gdp_per_capita_data.head(2)"
   ]
  },
  {
   "cell_type": "markdown",
   "id": "444426ef",
   "metadata": {},
   "source": [
    "#### \n",
    "Create a new column `GDP_per_capita` that copies the GDP per capita values of the `United Nations`. If the GDP per capita is missing in the `United Nations` column, then copy it from the `World Bank` column. \n",
    "\n",
    "Print the number of missing values in the `GDP_per_capita` column.\n",
    "\n",
    "*(4 points)*"
   ]
  },
  {
   "cell_type": "code",
   "execution_count": 287,
   "id": "929c506c",
   "metadata": {},
   "outputs": [
    {
     "data": {
      "text/plain": [
       "0"
      ]
     },
     "execution_count": 287,
     "metadata": {},
     "output_type": "execute_result"
    }
   ],
   "source": [
    "gdp_per_capita_data['GDP_per_capita'] = gdp_per_capita_data['United Nations']\n",
    "gdp_per_capita_data.loc[gdp_per_capita_data['GDP_per_capita'].isnull(),'GDP_per_capita'] = \\\n",
    "gdp_per_capita_data.loc[gdp_per_capita_data['GDP_per_capita'].isnull(),'World Bank']\n",
    "gdp_per_capita_data.GDP_per_capita.isnull().sum()"
   ]
  },
  {
   "cell_type": "markdown",
   "id": "473e5f4e",
   "metadata": {},
   "source": [
    "### \n",
    "Drop all the columns except `Country` and `GDP_per_capita`. Print the first 2 rows of the updated DataFrame. \n",
    "\n",
    "*(4 points)*"
   ]
  },
  {
   "cell_type": "code",
   "execution_count": 288,
   "id": "23fdaacf",
   "metadata": {},
   "outputs": [
    {
     "data": {
      "text/html": [
       "<div>\n",
       "<style scoped>\n",
       "    .dataframe tbody tr th:only-of-type {\n",
       "        vertical-align: middle;\n",
       "    }\n",
       "\n",
       "    .dataframe tbody tr th {\n",
       "        vertical-align: top;\n",
       "    }\n",
       "\n",
       "    .dataframe thead th {\n",
       "        text-align: right;\n",
       "    }\n",
       "</style>\n",
       "<table border=\"1\" class=\"dataframe\">\n",
       "  <thead>\n",
       "    <tr style=\"text-align: right;\">\n",
       "      <th></th>\n",
       "      <th>Country</th>\n",
       "      <th>GDP_per_capita</th>\n",
       "    </tr>\n",
       "  </thead>\n",
       "  <tbody>\n",
       "    <tr>\n",
       "      <th>0</th>\n",
       "      <td>Liechtenstein *</td>\n",
       "      <td>180227.0</td>\n",
       "    </tr>\n",
       "    <tr>\n",
       "      <th>1</th>\n",
       "      <td>Monaco *</td>\n",
       "      <td>173696.0</td>\n",
       "    </tr>\n",
       "  </tbody>\n",
       "</table>\n",
       "</div>"
      ],
      "text/plain": [
       "           Country GDP_per_capita\n",
       "0  Liechtenstein *       180227.0\n",
       "1         Monaco *       173696.0"
      ]
     },
     "execution_count": 288,
     "metadata": {},
     "output_type": "execute_result"
    }
   ],
   "source": [
    "gdp_per_capita_data=gdp_per_capita_data[['Country','GDP_per_capita']]\n",
    "gdp_per_capita_data.head(2)"
   ]
  },
  {
   "cell_type": "markdown",
   "id": "46634662",
   "metadata": {},
   "source": [
    "#### \n",
    "The country names contain some special characters (characters other than letters) and need to be cleaned. The following function can help clean country names:\n",
    "\n",
    "```import re```\n",
    "\n",
    "\n",
    "```country_names_clean_gdp_data = lambda x: re.sub(r'[^\\w\\s]', '', x).strip()```\n",
    "\n",
    "Apply the above lambda function on the country column to clean country names. Save the cleaned dataset as `gdp_per_capita_data`. Print the first 2 rows of the updated DataFrame.\n",
    "\n",
    "*(3 points)*"
   ]
  },
  {
   "cell_type": "code",
   "execution_count": 289,
   "id": "48fda0f2",
   "metadata": {},
   "outputs": [
    {
     "data": {
      "text/html": [
       "<div>\n",
       "<style scoped>\n",
       "    .dataframe tbody tr th:only-of-type {\n",
       "        vertical-align: middle;\n",
       "    }\n",
       "\n",
       "    .dataframe tbody tr th {\n",
       "        vertical-align: top;\n",
       "    }\n",
       "\n",
       "    .dataframe thead th {\n",
       "        text-align: right;\n",
       "    }\n",
       "</style>\n",
       "<table border=\"1\" class=\"dataframe\">\n",
       "  <thead>\n",
       "    <tr style=\"text-align: right;\">\n",
       "      <th></th>\n",
       "      <th>Country</th>\n",
       "      <th>GDP_per_capita</th>\n",
       "    </tr>\n",
       "  </thead>\n",
       "  <tbody>\n",
       "    <tr>\n",
       "      <th>0</th>\n",
       "      <td>Liechtenstein</td>\n",
       "      <td>180227.0</td>\n",
       "    </tr>\n",
       "    <tr>\n",
       "      <th>1</th>\n",
       "      <td>Monaco</td>\n",
       "      <td>173696.0</td>\n",
       "    </tr>\n",
       "  </tbody>\n",
       "</table>\n",
       "</div>"
      ],
      "text/plain": [
       "         Country GDP_per_capita\n",
       "0  Liechtenstein       180227.0\n",
       "1         Monaco       173696.0"
      ]
     },
     "execution_count": 289,
     "metadata": {},
     "output_type": "execute_result"
    }
   ],
   "source": [
    "country_names_clean_gdp_data = lambda x: re.sub(r'[^\\w\\s]', '', x).strip()\n",
    "gdp_per_capita_data.loc[:,'Country'] = gdp_per_capita_data.loc[:,'Country'].apply(country_names_clean_gdp_data)\n",
    "gdp_per_capita_data.head(2)"
   ]
  },
  {
   "cell_type": "markdown",
   "id": "803b3d38",
   "metadata": {},
   "source": [
    "### Preparing population data\n",
    "\n",
    "#### \n",
    "Read the population data from https://en.wikipedia.org/wiki/List_of_countries_by_population_(United_Nations)\n",
    "Drop all columns except `Country / Area` and `Population (1 July 2019)`.\n",
    "\n",
    "*(2 points)*"
   ]
  },
  {
   "cell_type": "code",
   "execution_count": 290,
   "id": "8ff8a5a2",
   "metadata": {},
   "outputs": [
    {
     "data": {
      "text/html": [
       "<div>\n",
       "<style scoped>\n",
       "    .dataframe tbody tr th:only-of-type {\n",
       "        vertical-align: middle;\n",
       "    }\n",
       "\n",
       "    .dataframe tbody tr th {\n",
       "        vertical-align: top;\n",
       "    }\n",
       "\n",
       "    .dataframe thead th {\n",
       "        text-align: right;\n",
       "    }\n",
       "</style>\n",
       "<table border=\"1\" class=\"dataframe\">\n",
       "  <thead>\n",
       "    <tr style=\"text-align: right;\">\n",
       "      <th></th>\n",
       "      <th>Country / Area</th>\n",
       "      <th>Population(1 July 2019)</th>\n",
       "    </tr>\n",
       "  </thead>\n",
       "  <tbody>\n",
       "    <tr>\n",
       "      <th>0</th>\n",
       "      <td>China[a]</td>\n",
       "      <td>1433783686</td>\n",
       "    </tr>\n",
       "    <tr>\n",
       "      <th>1</th>\n",
       "      <td>India</td>\n",
       "      <td>1366417754</td>\n",
       "    </tr>\n",
       "  </tbody>\n",
       "</table>\n",
       "</div>"
      ],
      "text/plain": [
       "  Country / Area  Population(1 July 2019)\n",
       "0       China[a]               1433783686\n",
       "1          India               1366417754"
      ]
     },
     "execution_count": 290,
     "metadata": {},
     "output_type": "execute_result"
    }
   ],
   "source": [
    "# Read GDP per capita data from the webpage: https://en.wikipedia.org/wiki/List_of_countries_by_GDP_(nominal)_per_capita\n",
    "population_data = pd.read_html('https://en.wikipedia.org/wiki/List_of_countries_by_population_(United_Nations)', match = 'Country')[0]\n",
    "population_data = population_data.loc[:,['Country / Area','Population(1 July 2019)']]\n",
    "population_data.head(2)"
   ]
  },
  {
   "cell_type": "markdown",
   "id": "744c45c0",
   "metadata": {},
   "source": [
    "#### \n",
    "Apply the lambda function below on all the column names of the dataset obtained in the previous question to clean the column names.\n",
    "\n",
    "`import re`\n",
    "\n",
    "`column_name_cleaner = (lambda x:re.split(r'\\[|/|\\(| ', x.name)[0]`\n",
    "\n",
    "*Note: You will need to edit the parameter of the function, i.e., `x` in the above function to make sure it is applied on column names and not columns.*\n",
    "\n",
    "Print the first 2 rows of the updated DataFrame.\n",
    "\n",
    "*(5 points)*"
   ]
  },
  {
   "cell_type": "code",
   "execution_count": 291,
   "id": "7741c503",
   "metadata": {},
   "outputs": [
    {
     "data": {
      "text/html": [
       "<div>\n",
       "<style scoped>\n",
       "    .dataframe tbody tr th:only-of-type {\n",
       "        vertical-align: middle;\n",
       "    }\n",
       "\n",
       "    .dataframe tbody tr th {\n",
       "        vertical-align: top;\n",
       "    }\n",
       "\n",
       "    .dataframe thead th {\n",
       "        text-align: right;\n",
       "    }\n",
       "</style>\n",
       "<table border=\"1\" class=\"dataframe\">\n",
       "  <thead>\n",
       "    <tr style=\"text-align: right;\">\n",
       "      <th></th>\n",
       "      <th>Country</th>\n",
       "      <th>Population</th>\n",
       "    </tr>\n",
       "  </thead>\n",
       "  <tbody>\n",
       "    <tr>\n",
       "      <th>0</th>\n",
       "      <td>China[a]</td>\n",
       "      <td>1433783686</td>\n",
       "    </tr>\n",
       "    <tr>\n",
       "      <th>1</th>\n",
       "      <td>India</td>\n",
       "      <td>1366417754</td>\n",
       "    </tr>\n",
       "  </tbody>\n",
       "</table>\n",
       "</div>"
      ],
      "text/plain": [
       "    Country  Population\n",
       "0  China[a]  1433783686\n",
       "1     India  1366417754"
      ]
     },
     "execution_count": 291,
     "metadata": {},
     "output_type": "execute_result"
    }
   ],
   "source": [
    "column_name_cleaner = lambda x:re.split(r'\\[|/|\\(| ', x.name)[0]\n",
    "population_data.columns = population_data.apply(column_name_cleaner)\n",
    "population_data.head(2)"
   ]
  },
  {
   "cell_type": "markdown",
   "id": "8da32940",
   "metadata": {},
   "source": [
    "####  \n",
    "The country names contain some special characters (characters other than letters) and need to be cleaned. The following function can help clean country names:\n",
    "\n",
    "```import re```\n",
    "\n",
    "```country_names_clean_population_data = lambda x: re.sub(\"[\\(\\[].*?[\\)\\]]\", \"\", x).strip()```\n",
    "\n",
    "Apply the above lambda function on the country column to clean country names. Save the cleaned dataset as `population_data`.\n",
    "\n",
    "*(3 points)*"
   ]
  },
  {
   "cell_type": "code",
   "execution_count": 292,
   "id": "72415599",
   "metadata": {},
   "outputs": [
    {
     "data": {
      "text/html": [
       "<div>\n",
       "<style scoped>\n",
       "    .dataframe tbody tr th:only-of-type {\n",
       "        vertical-align: middle;\n",
       "    }\n",
       "\n",
       "    .dataframe tbody tr th {\n",
       "        vertical-align: top;\n",
       "    }\n",
       "\n",
       "    .dataframe thead th {\n",
       "        text-align: right;\n",
       "    }\n",
       "</style>\n",
       "<table border=\"1\" class=\"dataframe\">\n",
       "  <thead>\n",
       "    <tr style=\"text-align: right;\">\n",
       "      <th></th>\n",
       "      <th>Country</th>\n",
       "      <th>Population</th>\n",
       "    </tr>\n",
       "  </thead>\n",
       "  <tbody>\n",
       "    <tr>\n",
       "      <th>0</th>\n",
       "      <td>China</td>\n",
       "      <td>1433783686</td>\n",
       "    </tr>\n",
       "    <tr>\n",
       "      <th>1</th>\n",
       "      <td>India</td>\n",
       "      <td>1366417754</td>\n",
       "    </tr>\n",
       "    <tr>\n",
       "      <th>2</th>\n",
       "      <td>United States</td>\n",
       "      <td>329064917</td>\n",
       "    </tr>\n",
       "    <tr>\n",
       "      <th>3</th>\n",
       "      <td>Indonesia</td>\n",
       "      <td>270625568</td>\n",
       "    </tr>\n",
       "    <tr>\n",
       "      <th>4</th>\n",
       "      <td>Pakistan</td>\n",
       "      <td>216565318</td>\n",
       "    </tr>\n",
       "  </tbody>\n",
       "</table>\n",
       "</div>"
      ],
      "text/plain": [
       "         Country  Population\n",
       "0          China  1433783686\n",
       "1          India  1366417754\n",
       "2  United States   329064917\n",
       "3      Indonesia   270625568\n",
       "4       Pakistan   216565318"
      ]
     },
     "execution_count": 292,
     "metadata": {},
     "output_type": "execute_result"
    }
   ],
   "source": [
    "country_names_clean_population_data = lambda x: re.sub(\"[\\(\\[].*?[\\)\\]]\", \"\", x).strip()\n",
    "population_data.loc[:,'Country']=population_data.loc[:,'Country'].apply(country_names_clean_population_data)\n",
    "population_data.head()"
   ]
  },
  {
   "cell_type": "markdown",
   "id": "7a1b463b",
   "metadata": {},
   "source": [
    "### Merging GDP per capita and population datasets\n",
    "Merge `gdp_per_capita_data` with `population_data` to get the population and GDP per capita of countries in a single dataset. Print the first two rows of the merged DataFrame.\n",
    "\n",
    "Assume that:\n",
    "\n",
    "1. We want to keep the GDP per capita of all countries in the merged dataset, even if their population in unavailable in the population dataset. For countries whose population in unavailable, their `Population` column will show `NA`.\n",
    "\n",
    "2. We want to discard an observation of a country if its GDP per capita is unavailable.\n",
    "\n",
    "*(4 points)*"
   ]
  },
  {
   "cell_type": "code",
   "execution_count": 293,
   "id": "f86bf7e7",
   "metadata": {},
   "outputs": [
    {
     "data": {
      "text/html": [
       "<div>\n",
       "<style scoped>\n",
       "    .dataframe tbody tr th:only-of-type {\n",
       "        vertical-align: middle;\n",
       "    }\n",
       "\n",
       "    .dataframe tbody tr th {\n",
       "        vertical-align: top;\n",
       "    }\n",
       "\n",
       "    .dataframe thead th {\n",
       "        text-align: right;\n",
       "    }\n",
       "</style>\n",
       "<table border=\"1\" class=\"dataframe\">\n",
       "  <thead>\n",
       "    <tr style=\"text-align: right;\">\n",
       "      <th></th>\n",
       "      <th>Country</th>\n",
       "      <th>GDP_per_capita</th>\n",
       "      <th>Population</th>\n",
       "    </tr>\n",
       "  </thead>\n",
       "  <tbody>\n",
       "    <tr>\n",
       "      <th>0</th>\n",
       "      <td>Liechtenstein</td>\n",
       "      <td>180227.0</td>\n",
       "      <td>38019.0</td>\n",
       "    </tr>\n",
       "    <tr>\n",
       "      <th>1</th>\n",
       "      <td>Monaco</td>\n",
       "      <td>173696.0</td>\n",
       "      <td>38964.0</td>\n",
       "    </tr>\n",
       "  </tbody>\n",
       "</table>\n",
       "</div>"
      ],
      "text/plain": [
       "         Country GDP_per_capita  Population\n",
       "0  Liechtenstein       180227.0     38019.0\n",
       "1         Monaco       173696.0     38964.0"
      ]
     },
     "execution_count": 293,
     "metadata": {},
     "output_type": "execute_result"
    }
   ],
   "source": [
    "gdp_per_capita_population = pd.merge(gdp_per_capita_data,population_data,how = 'left')\n",
    "gdp_per_capita_population.head(2)"
   ]
  },
  {
   "cell_type": "markdown",
   "id": "f70a0ac3",
   "metadata": {},
   "source": [
    "### \n",
    "For how many countries in `gdp_per_capita_data` does the population seem to be unavailable in `population_data`? Note that you don't need to clean country names any further than cleaned by the functions provided.\n",
    "\n",
    "Print the observations of `gdp_per_capita_data` with missing population.\n",
    "\n",
    "*(3 points)*"
   ]
  },
  {
   "cell_type": "code",
   "execution_count": 294,
   "id": "461bd85c",
   "metadata": {},
   "outputs": [
    {
     "data": {
      "text/plain": [
       "Country           0\n",
       "GDP_per_capita    0\n",
       "Population        8\n",
       "dtype: int64"
      ]
     },
     "execution_count": 294,
     "metadata": {},
     "output_type": "execute_result"
    }
   ],
   "source": [
    "gdp_per_capita_population.isnull().sum()"
   ]
  },
  {
   "cell_type": "markdown",
   "id": "b5345dad",
   "metadata": {},
   "source": [
    "For 8 countries in the `gdp_per_capita_data`, the population seems unavailable in the `population_data`."
   ]
  },
  {
   "cell_type": "code",
   "execution_count": 295,
   "id": "6887a682",
   "metadata": {},
   "outputs": [
    {
     "data": {
      "text/html": [
       "<div>\n",
       "<style scoped>\n",
       "    .dataframe tbody tr th:only-of-type {\n",
       "        vertical-align: middle;\n",
       "    }\n",
       "\n",
       "    .dataframe tbody tr th {\n",
       "        vertical-align: top;\n",
       "    }\n",
       "\n",
       "    .dataframe thead th {\n",
       "        text-align: right;\n",
       "    }\n",
       "</style>\n",
       "<table border=\"1\" class=\"dataframe\">\n",
       "  <thead>\n",
       "    <tr style=\"text-align: right;\">\n",
       "      <th></th>\n",
       "      <th>Country</th>\n",
       "      <th>GDP_per_capita</th>\n",
       "      <th>Population</th>\n",
       "    </tr>\n",
       "  </thead>\n",
       "  <tbody>\n",
       "    <tr>\n",
       "      <th>35</th>\n",
       "      <td>US Virgin Islands</td>\n",
       "      <td>39552.0</td>\n",
       "      <td>NaN</td>\n",
       "    </tr>\n",
       "    <tr>\n",
       "      <th>43</th>\n",
       "      <td>Macau</td>\n",
       "      <td>37474.0</td>\n",
       "      <td>NaN</td>\n",
       "    </tr>\n",
       "    <tr>\n",
       "      <th>61</th>\n",
       "      <td>Saint Martin French part</td>\n",
       "      <td>21459.0</td>\n",
       "      <td>NaN</td>\n",
       "    </tr>\n",
       "    <tr>\n",
       "      <th>70</th>\n",
       "      <td>Sint Maarten Dutch part</td>\n",
       "      <td>20000.0</td>\n",
       "      <td>NaN</td>\n",
       "    </tr>\n",
       "    <tr>\n",
       "      <th>110</th>\n",
       "      <td>Saint Vincent and theGrenadines</td>\n",
       "      <td>7298.0</td>\n",
       "      <td>NaN</td>\n",
       "    </tr>\n",
       "    <tr>\n",
       "      <th>132</th>\n",
       "      <td>Kosovo</td>\n",
       "      <td>4368.0</td>\n",
       "      <td>NaN</td>\n",
       "    </tr>\n",
       "    <tr>\n",
       "      <th>196</th>\n",
       "      <td>Zanzibar</td>\n",
       "      <td>1031.0</td>\n",
       "      <td>NaN</td>\n",
       "    </tr>\n",
       "    <tr>\n",
       "      <th>204</th>\n",
       "      <td>GuineaBissau</td>\n",
       "      <td>668.0</td>\n",
       "      <td>NaN</td>\n",
       "    </tr>\n",
       "  </tbody>\n",
       "</table>\n",
       "</div>"
      ],
      "text/plain": [
       "                             Country GDP_per_capita  Population\n",
       "35                 US Virgin Islands        39552.0         NaN\n",
       "43                             Macau        37474.0         NaN\n",
       "61          Saint Martin French part        21459.0         NaN\n",
       "70           Sint Maarten Dutch part        20000.0         NaN\n",
       "110  Saint Vincent and theGrenadines         7298.0         NaN\n",
       "132                           Kosovo         4368.0         NaN\n",
       "196                         Zanzibar         1031.0         NaN\n",
       "204                     GuineaBissau          668.0         NaN"
      ]
     },
     "execution_count": 295,
     "metadata": {},
     "output_type": "execute_result"
    }
   ],
   "source": [
    "gdp_per_capita_population.loc[gdp_per_capita_population['Population'].isnull(),:]"
   ]
  },
  {
   "cell_type": "markdown",
   "id": "0d8ee161",
   "metadata": {},
   "source": [
    "### Merging datasets with *similar* values in the *key* column\n",
    "\n",
    "We suspect that population of more countries may be available in `population_data`. However, due to unclean country names, the observations could not merge. For example, the country *Saint Vincent and the Grenadines* is mentioned as *Saint Vincent and theGrenadines* in `gdp_per_capita_data` and *Saint Vincent and the Grenadines* in `population_data`. To resolve this issue, we'll use a different approach to merge datasts. We'll merge the population of a country to an observation in the GDP per capita dataset, whose name in `population_data` is the most *'similar'* to the name of the country in `gdp_per_capita_data`. \n",
    "\n",
    "#### \n",
    "Proceed as follows:\n",
    "\n",
    "1. For each country in `gdp_per_capita_data`, find the `country` with the most *similar* name in `population_data`, based on the similarity score *(use the function provided below to compute the similarity score between two strings. The higher the score, the more similar are the strings. The similarity score is $1.0$ if two strings are exactly the same).*\n",
    "\n",
    "\n",
    "2. Merge the population of the most *'similar'* country to the country in `gdp_per_capita_data`. The merged dataset must include 5 columns - the country name as it appears in `gdp_per_capita_data`, the GDP per capita, the country name of the most *similar* country as it appears in `population_data`, the population of that country, and the similarity score between the country names. \n",
    "\n",
    "\n",
    "3. After creating the merged dataset, **print** the rows of the dataset that have similarity scores less than 1.\n",
    "\n",
    "Use the function below to compute the similarity score between the `Country` values of the two datasets:\n",
    "\n",
    "`from difflib import SequenceMatcher`\n",
    "\n",
    "`similar = lambda a,b: SequenceMatcher(None, a, b).ratio()`\n",
    "\n",
    "\n",
    "**Reminder: Do not use a `for` loop**\n",
    "\n",
    "*(18 points)*\n",
    "\n",
    "**Hint:**\n",
    "\n",
    "1. Define a function that computes the index of the observation having the most *similar* country name in `population_data` for an observation in `gdp_per_capita_data`. The function returns a Series consisting of the most similar country name, its population, and its similarity score *(This function can be written with only one line in its body, excluding the return statement and the definition statement. However, you may use as many lines as you wish)*.\n",
    "\n",
    "\n",
    "2. Apply the function on the `Country` column of `gdp_per_capita_data`. A DataFrame will be obtained.\n",
    "\n",
    "\n",
    "3. Concatenate the DataFrame obtained in (2) with `gdp_per_capita_data` with the pandas `concat()` function."
   ]
  },
  {
   "cell_type": "code",
   "execution_count": 298,
   "id": "d0c37236",
   "metadata": {},
   "outputs": [],
   "source": [
    "from difflib import SequenceMatcher\n",
    "\n",
    "similar= lambda a,b: SequenceMatcher(None, a, b).ratio()\n",
    "\n",
    "def merge_country(x):    \n",
    "    sim_scores = population_data.loc[:,'Country'].apply(similar,b=x)\n",
    "    return population_data.loc[sim_scores.idxmax(),['Country','Population']].append(pd.Series(max(sim_scores),index=['Similarity_score']))"
   ]
  },
  {
   "cell_type": "code",
   "execution_count": 299,
   "id": "3c2546f2",
   "metadata": {},
   "outputs": [
    {
     "data": {
      "text/html": [
       "<div>\n",
       "<style scoped>\n",
       "    .dataframe tbody tr th:only-of-type {\n",
       "        vertical-align: middle;\n",
       "    }\n",
       "\n",
       "    .dataframe tbody tr th {\n",
       "        vertical-align: top;\n",
       "    }\n",
       "\n",
       "    .dataframe thead th {\n",
       "        text-align: right;\n",
       "    }\n",
       "</style>\n",
       "<table border=\"1\" class=\"dataframe\">\n",
       "  <thead>\n",
       "    <tr style=\"text-align: right;\">\n",
       "      <th></th>\n",
       "      <th>Country</th>\n",
       "      <th>GDP_per_capita</th>\n",
       "      <th>Country</th>\n",
       "      <th>Population</th>\n",
       "      <th>Similarity_score</th>\n",
       "    </tr>\n",
       "  </thead>\n",
       "  <tbody>\n",
       "    <tr>\n",
       "      <th>35</th>\n",
       "      <td>US Virgin Islands</td>\n",
       "      <td>39552.0</td>\n",
       "      <td>U.S. Virgin Islands</td>\n",
       "      <td>104578</td>\n",
       "      <td>0.944444</td>\n",
       "    </tr>\n",
       "    <tr>\n",
       "      <th>43</th>\n",
       "      <td>Macau</td>\n",
       "      <td>37474.0</td>\n",
       "      <td>Macao</td>\n",
       "      <td>640445</td>\n",
       "      <td>0.800000</td>\n",
       "    </tr>\n",
       "    <tr>\n",
       "      <th>61</th>\n",
       "      <td>Saint Martin French part</td>\n",
       "      <td>21459.0</td>\n",
       "      <td>Sint Maarten</td>\n",
       "      <td>42388</td>\n",
       "      <td>0.555556</td>\n",
       "    </tr>\n",
       "    <tr>\n",
       "      <th>70</th>\n",
       "      <td>Sint Maarten Dutch part</td>\n",
       "      <td>20000.0</td>\n",
       "      <td>Sint Maarten</td>\n",
       "      <td>42388</td>\n",
       "      <td>0.685714</td>\n",
       "    </tr>\n",
       "    <tr>\n",
       "      <th>110</th>\n",
       "      <td>Saint Vincent and theGrenadines</td>\n",
       "      <td>7298.0</td>\n",
       "      <td>Saint Vincent and the Grenadines</td>\n",
       "      <td>110589</td>\n",
       "      <td>0.984127</td>\n",
       "    </tr>\n",
       "    <tr>\n",
       "      <th>132</th>\n",
       "      <td>Kosovo</td>\n",
       "      <td>4368.0</td>\n",
       "      <td>Morocco</td>\n",
       "      <td>36471769</td>\n",
       "      <td>0.461538</td>\n",
       "    </tr>\n",
       "    <tr>\n",
       "      <th>196</th>\n",
       "      <td>Zanzibar</td>\n",
       "      <td>1031.0</td>\n",
       "      <td>Zambia</td>\n",
       "      <td>17861030</td>\n",
       "      <td>0.571429</td>\n",
       "    </tr>\n",
       "    <tr>\n",
       "      <th>204</th>\n",
       "      <td>GuineaBissau</td>\n",
       "      <td>668.0</td>\n",
       "      <td>Guinea-Bissau</td>\n",
       "      <td>1920922</td>\n",
       "      <td>0.960000</td>\n",
       "    </tr>\n",
       "  </tbody>\n",
       "</table>\n",
       "</div>"
      ],
      "text/plain": [
       "                             Country GDP_per_capita  \\\n",
       "35                 US Virgin Islands        39552.0   \n",
       "43                             Macau        37474.0   \n",
       "61          Saint Martin French part        21459.0   \n",
       "70           Sint Maarten Dutch part        20000.0   \n",
       "110  Saint Vincent and theGrenadines         7298.0   \n",
       "132                           Kosovo         4368.0   \n",
       "196                         Zanzibar         1031.0   \n",
       "204                     GuineaBissau          668.0   \n",
       "\n",
       "                              Country  Population  Similarity_score  \n",
       "35                U.S. Virgin Islands      104578          0.944444  \n",
       "43                              Macao      640445          0.800000  \n",
       "61                       Sint Maarten       42388          0.555556  \n",
       "70                       Sint Maarten       42388          0.685714  \n",
       "110  Saint Vincent and the Grenadines      110589          0.984127  \n",
       "132                           Morocco    36471769          0.461538  \n",
       "196                            Zambia    17861030          0.571429  \n",
       "204                     Guinea-Bissau     1920922          0.960000  "
      ]
     },
     "execution_count": 299,
     "metadata": {},
     "output_type": "execute_result"
    }
   ],
   "source": [
    "similar_population_data=gdp_per_capita_data.Country.apply(merge_country)\n",
    "gdp_per_capita_data_population=pd.concat([gdp_per_capita_data,similar_population_data],axis=1)\n",
    "gdp_per_capita_data_population.loc[gdp_per_capita_data_population['Similarity_score']<1,:]"
   ]
  },
  {
   "cell_type": "markdown",
   "id": "3ac9fb76",
   "metadata": {},
   "source": [
    "#### \n",
    "In the dataset obtained in the previous question, for all observations where similarity score is less than 0.6, replace the population with `Nan`.\n",
    "\n",
    "Print the observations of the dataset having missing values of population.\n",
    "\n",
    "*(2 points)*"
   ]
  },
  {
   "cell_type": "code",
   "execution_count": 300,
   "id": "26b3235c",
   "metadata": {},
   "outputs": [
    {
     "data": {
      "text/html": [
       "<div>\n",
       "<style scoped>\n",
       "    .dataframe tbody tr th:only-of-type {\n",
       "        vertical-align: middle;\n",
       "    }\n",
       "\n",
       "    .dataframe tbody tr th {\n",
       "        vertical-align: top;\n",
       "    }\n",
       "\n",
       "    .dataframe thead th {\n",
       "        text-align: right;\n",
       "    }\n",
       "</style>\n",
       "<table border=\"1\" class=\"dataframe\">\n",
       "  <thead>\n",
       "    <tr style=\"text-align: right;\">\n",
       "      <th></th>\n",
       "      <th>Country</th>\n",
       "      <th>GDP_per_capita</th>\n",
       "      <th>Country</th>\n",
       "      <th>Population</th>\n",
       "      <th>Similarity_score</th>\n",
       "    </tr>\n",
       "  </thead>\n",
       "  <tbody>\n",
       "    <tr>\n",
       "      <th>61</th>\n",
       "      <td>Saint Martin French part</td>\n",
       "      <td>21459.0</td>\n",
       "      <td>Sint Maarten</td>\n",
       "      <td>NaN</td>\n",
       "      <td>0.555556</td>\n",
       "    </tr>\n",
       "    <tr>\n",
       "      <th>132</th>\n",
       "      <td>Kosovo</td>\n",
       "      <td>4368.0</td>\n",
       "      <td>Morocco</td>\n",
       "      <td>NaN</td>\n",
       "      <td>0.461538</td>\n",
       "    </tr>\n",
       "    <tr>\n",
       "      <th>196</th>\n",
       "      <td>Zanzibar</td>\n",
       "      <td>1031.0</td>\n",
       "      <td>Zambia</td>\n",
       "      <td>NaN</td>\n",
       "      <td>0.571429</td>\n",
       "    </tr>\n",
       "  </tbody>\n",
       "</table>\n",
       "</div>"
      ],
      "text/plain": [
       "                      Country GDP_per_capita       Country  Population  \\\n",
       "61   Saint Martin French part        21459.0  Sint Maarten         NaN   \n",
       "132                    Kosovo         4368.0       Morocco         NaN   \n",
       "196                  Zanzibar         1031.0        Zambia         NaN   \n",
       "\n",
       "     Similarity_score  \n",
       "61           0.555556  \n",
       "132          0.461538  \n",
       "196          0.571429  "
      ]
     },
     "execution_count": 300,
     "metadata": {},
     "output_type": "execute_result"
    }
   ],
   "source": [
    "gdp_per_capita_data_population.loc[gdp_per_capita_data_population['Similarity_score']<0.6,'Population']=np.nan\n",
    "gdp_per_capita_data_population.loc[gdp_per_capita_data_population.Population.isnull(),:]"
   ]
  },
  {
   "cell_type": "code",
   "execution_count": 205,
   "id": "a8510b10",
   "metadata": {},
   "outputs": [],
   "source": [
    "#'for' loop solution - just for understanding. A 'for' loop solution will not be accepted for this assignment.\n",
    "gdp_per_capita_data['Similar_country'] = ''\n",
    "gdp_per_capita_data['Similarity_score'] = ''\n",
    "gdp_per_capita_data['Population'] = 0\n",
    "i=0\n",
    "for x in gdp_per_capita_data.loc[:,'Country']:\n",
    "    sim_scores = population_data.loc[:,'Country'].apply(similar,b=x)\n",
    "    gdp_per_capita_data.loc[gdp_per_capita_data.Country==x,'Similar_country'] = population_data.loc[sim_scores.idxmax(),'Country']\n",
    "    gdp_per_capita_data.loc[gdp_per_capita_data.Country==x,'Similarity_score'] = max(sim_scores)\n",
    "    gdp_per_capita_data.loc[gdp_per_capita_data.Country==x,'Population'] = population_data.loc[sim_scores.idxmax(),'Population(1 July 2019)']\n",
    "    i=i+1"
   ]
  },
  {
   "cell_type": "markdown",
   "id": "7c017cae",
   "metadata": {},
   "source": [
    "## GDP, surplus, and compensation"
   ]
  },
  {
   "cell_type": "markdown",
   "id": "10e928bf",
   "metadata": {},
   "source": [
    "The dataset *Real GDP.csv* contains the GDP of each US State for all years starting from 1997 until 2020. The data is at *State* level, i.e., each observation corresponds to a unique State.\n",
    "\n",
    "The dataset *Surplus.csv* contains the surplus of each US State for all years starting from 1997 until 2020. The data is at *year* level, i.e., each observation corresponds to a unique year.\n",
    "\n",
    "The dataset *Compensation.csv* contains *Compensation* and *Chain-type quantity indexes for real GDP* for each US State and year starting from 1997 to 2020. The dataset is at *Year-State-Description* level, i.e., each observation corresponds to a unique `Year`-`State`-`Description` combination where `Description` refers to either *Compensation* or *Chain-type quantity indexes for real GDP*. "
   ]
  },
  {
   "cell_type": "markdown",
   "id": "14833835",
   "metadata": {},
   "source": [
    "### Combining datasets\n",
    "Combine all these datasets to obtain a dataset at *State-Year* level, i.e., each observation corresponds to a unique `State`-`Year` combination. The combined dataset must contain the GDP, surplus, *Compensation*, and *Chain-type quantity indexes for real GDP* for each US State and all years starting from 1997 until 2020. *Note that each observation must contain the name of the US State, year, and the four values (GDP, surplus, compensation, and Chain-type quantity indexes for real GDP).*\n",
    "\n",
    "**Hint**: Here is one way to do it:\n",
    "\n",
    "1. Melt the GDP dataset to year-State level \n",
    "\n",
    "2. Melt the Surplus dataset to year-State level \n",
    "\n",
    "3. Pivot the compensation dataset to year-State level\n",
    "\n",
    "4. Now that all the datasets are at the year-State level, merge them!\n",
    "\n",
    "*(4 + 4 + 4 + 2 = 14 points)*"
   ]
  },
  {
   "cell_type": "code",
   "execution_count": 232,
   "id": "2ece2955",
   "metadata": {},
   "outputs": [],
   "source": [
    "compensation = pd.read_csv('./Datasets/Compensation.csv')\n",
    "surplus = pd.read_csv('./Datasets/Surplus.csv')\n",
    "GDP = pd.read_csv('./Datasets/Real GDP.csv')"
   ]
  },
  {
   "cell_type": "code",
   "execution_count": 216,
   "id": "a3f63122",
   "metadata": {},
   "outputs": [
    {
     "data": {
      "text/html": [
       "<div>\n",
       "<style scoped>\n",
       "    .dataframe tbody tr th:only-of-type {\n",
       "        vertical-align: middle;\n",
       "    }\n",
       "\n",
       "    .dataframe tbody tr th {\n",
       "        vertical-align: top;\n",
       "    }\n",
       "\n",
       "    .dataframe thead th {\n",
       "        text-align: right;\n",
       "    }\n",
       "</style>\n",
       "<table border=\"1\" class=\"dataframe\">\n",
       "  <thead>\n",
       "    <tr style=\"text-align: right;\">\n",
       "      <th></th>\n",
       "      <th>State</th>\n",
       "      <th>Year</th>\n",
       "      <th>Real GDP</th>\n",
       "    </tr>\n",
       "  </thead>\n",
       "  <tbody>\n",
       "    <tr>\n",
       "      <th>0</th>\n",
       "      <td>Alabama</td>\n",
       "      <td>1997</td>\n",
       "      <td>144501.2</td>\n",
       "    </tr>\n",
       "    <tr>\n",
       "      <th>1</th>\n",
       "      <td>Alaska</td>\n",
       "      <td>1997</td>\n",
       "      <td>42211.3</td>\n",
       "    </tr>\n",
       "    <tr>\n",
       "      <th>2</th>\n",
       "      <td>Arizona</td>\n",
       "      <td>1997</td>\n",
       "      <td>168408.8</td>\n",
       "    </tr>\n",
       "    <tr>\n",
       "      <th>3</th>\n",
       "      <td>Arkansas</td>\n",
       "      <td>1997</td>\n",
       "      <td>82571.3</td>\n",
       "    </tr>\n",
       "    <tr>\n",
       "      <th>4</th>\n",
       "      <td>California</td>\n",
       "      <td>1997</td>\n",
       "      <td>1378276.5</td>\n",
       "    </tr>\n",
       "  </tbody>\n",
       "</table>\n",
       "</div>"
      ],
      "text/plain": [
       "        State  Year   Real GDP\n",
       "0     Alabama  1997   144501.2\n",
       "1      Alaska  1997    42211.3\n",
       "2     Arizona  1997   168408.8\n",
       "3    Arkansas  1997    82571.3\n",
       "4  California  1997  1378276.5"
      ]
     },
     "execution_count": 216,
     "metadata": {},
     "output_type": "execute_result"
    }
   ],
   "source": [
    "#Melting GDP dataset\n",
    "GDP.drop(columns = 'Description',inplace = True)#Dropping the unncessary column 'Description'\n",
    "GDP_melted = pd.melt(GDP,id_vars = 'State',var_name = 'Year',value_name = 'Real GDP')\n",
    "GDP_melted.head()"
   ]
  },
  {
   "cell_type": "code",
   "execution_count": 218,
   "id": "db3e0ee4",
   "metadata": {},
   "outputs": [
    {
     "data": {
      "text/html": [
       "<div>\n",
       "<style scoped>\n",
       "    .dataframe tbody tr th:only-of-type {\n",
       "        vertical-align: middle;\n",
       "    }\n",
       "\n",
       "    .dataframe tbody tr th {\n",
       "        vertical-align: top;\n",
       "    }\n",
       "\n",
       "    .dataframe thead th {\n",
       "        text-align: right;\n",
       "    }\n",
       "</style>\n",
       "<table border=\"1\" class=\"dataframe\">\n",
       "  <thead>\n",
       "    <tr style=\"text-align: right;\">\n",
       "      <th></th>\n",
       "      <th>Year</th>\n",
       "      <th>State</th>\n",
       "      <th>Surplus</th>\n",
       "    </tr>\n",
       "  </thead>\n",
       "  <tbody>\n",
       "    <tr>\n",
       "      <th>0</th>\n",
       "      <td>1997</td>\n",
       "      <td>Alabama</td>\n",
       "      <td>37247.9</td>\n",
       "    </tr>\n",
       "    <tr>\n",
       "      <th>1</th>\n",
       "      <td>1998</td>\n",
       "      <td>Alabama</td>\n",
       "      <td>39368.1</td>\n",
       "    </tr>\n",
       "    <tr>\n",
       "      <th>2</th>\n",
       "      <td>1999</td>\n",
       "      <td>Alabama</td>\n",
       "      <td>41513.7</td>\n",
       "    </tr>\n",
       "    <tr>\n",
       "      <th>3</th>\n",
       "      <td>2000</td>\n",
       "      <td>Alabama</td>\n",
       "      <td>42583.4</td>\n",
       "    </tr>\n",
       "    <tr>\n",
       "      <th>4</th>\n",
       "      <td>2001</td>\n",
       "      <td>Alabama</td>\n",
       "      <td>43348.6</td>\n",
       "    </tr>\n",
       "  </tbody>\n",
       "</table>\n",
       "</div>"
      ],
      "text/plain": [
       "   Year    State  Surplus\n",
       "0  1997  Alabama  37247.9\n",
       "1  1998  Alabama  39368.1\n",
       "2  1999  Alabama  41513.7\n",
       "3  2000  Alabama  42583.4\n",
       "4  2001  Alabama  43348.6"
      ]
     },
     "execution_count": 218,
     "metadata": {},
     "output_type": "execute_result"
    }
   ],
   "source": [
    "#Melting Surplus dataset\n",
    "surplus_melted = surplus.melt('Year',var_name = 'State',value_name = 'Surplus')\n",
    "surplus_melted.head()"
   ]
  },
  {
   "cell_type": "code",
   "execution_count": 221,
   "id": "9b44db36",
   "metadata": {},
   "outputs": [
    {
     "data": {
      "text/html": [
       "<div>\n",
       "<style scoped>\n",
       "    .dataframe tbody tr th:only-of-type {\n",
       "        vertical-align: middle;\n",
       "    }\n",
       "\n",
       "    .dataframe tbody tr th {\n",
       "        vertical-align: top;\n",
       "    }\n",
       "\n",
       "    .dataframe thead th {\n",
       "        text-align: right;\n",
       "    }\n",
       "</style>\n",
       "<table border=\"1\" class=\"dataframe\">\n",
       "  <thead>\n",
       "    <tr style=\"text-align: right;\">\n",
       "      <th>Description</th>\n",
       "      <th>Year</th>\n",
       "      <th>State</th>\n",
       "      <th>Chain-type quantity indexes for real GDP</th>\n",
       "      <th>Compensation (millions of dollars)</th>\n",
       "    </tr>\n",
       "  </thead>\n",
       "  <tbody>\n",
       "    <tr>\n",
       "      <th>0</th>\n",
       "      <td>1997</td>\n",
       "      <td>Alabama</td>\n",
       "      <td>76.356</td>\n",
       "      <td>61083.8</td>\n",
       "    </tr>\n",
       "    <tr>\n",
       "      <th>1</th>\n",
       "      <td>1997</td>\n",
       "      <td>Alaska</td>\n",
       "      <td>72.424</td>\n",
       "      <td>12347.8</td>\n",
       "    </tr>\n",
       "    <tr>\n",
       "      <th>2</th>\n",
       "      <td>1997</td>\n",
       "      <td>Arizona</td>\n",
       "      <td>62.043</td>\n",
       "      <td>69876.9</td>\n",
       "    </tr>\n",
       "    <tr>\n",
       "      <th>3</th>\n",
       "      <td>1997</td>\n",
       "      <td>Arkansas</td>\n",
       "      <td>76.108</td>\n",
       "      <td>32715.5</td>\n",
       "    </tr>\n",
       "    <tr>\n",
       "      <th>4</th>\n",
       "      <td>1997</td>\n",
       "      <td>California</td>\n",
       "      <td>65.225</td>\n",
       "      <td>574432.9</td>\n",
       "    </tr>\n",
       "  </tbody>\n",
       "</table>\n",
       "</div>"
      ],
      "text/plain": [
       "Description  Year       State  Chain-type quantity indexes for real GDP  \\\n",
       "0            1997     Alabama                                    76.356   \n",
       "1            1997      Alaska                                    72.424   \n",
       "2            1997     Arizona                                    62.043   \n",
       "3            1997    Arkansas                                    76.108   \n",
       "4            1997  California                                    65.225   \n",
       "\n",
       "Description  Compensation (millions of dollars)  \n",
       "0                                       61083.8  \n",
       "1                                       12347.8  \n",
       "2                                       69876.9  \n",
       "3                                       32715.5  \n",
       "4                                      574432.9  "
      ]
     },
     "execution_count": 221,
     "metadata": {},
     "output_type": "execute_result"
    }
   ],
   "source": [
    "#Pivoting compensation data to Year-State level\n",
    "compensation_pivoted = compensation.pivot(['Year','State'],'Description','value').reset_index()\n",
    "compensation_pivoted.head()"
   ]
  },
  {
   "cell_type": "code",
   "execution_count": 233,
   "id": "14683575",
   "metadata": {},
   "outputs": [
    {
     "data": {
      "text/html": [
       "<div>\n",
       "<style scoped>\n",
       "    .dataframe tbody tr th:only-of-type {\n",
       "        vertical-align: middle;\n",
       "    }\n",
       "\n",
       "    .dataframe tbody tr th {\n",
       "        vertical-align: top;\n",
       "    }\n",
       "\n",
       "    .dataframe thead th {\n",
       "        text-align: right;\n",
       "    }\n",
       "</style>\n",
       "<table border=\"1\" class=\"dataframe\">\n",
       "  <thead>\n",
       "    <tr style=\"text-align: right;\">\n",
       "      <th></th>\n",
       "      <th>State</th>\n",
       "      <th>Year</th>\n",
       "      <th>Real GDP</th>\n",
       "      <th>Surplus</th>\n",
       "      <th>Chain-type quantity indexes for real GDP</th>\n",
       "      <th>Compensation (millions of dollars)</th>\n",
       "    </tr>\n",
       "  </thead>\n",
       "  <tbody>\n",
       "    <tr>\n",
       "      <th>0</th>\n",
       "      <td>Alabama</td>\n",
       "      <td>1997</td>\n",
       "      <td>144501.2</td>\n",
       "      <td>37247.9</td>\n",
       "      <td>76.356</td>\n",
       "      <td>61083.8</td>\n",
       "    </tr>\n",
       "    <tr>\n",
       "      <th>1</th>\n",
       "      <td>Alaska</td>\n",
       "      <td>1997</td>\n",
       "      <td>42211.3</td>\n",
       "      <td>11061.3</td>\n",
       "      <td>72.424</td>\n",
       "      <td>12347.8</td>\n",
       "    </tr>\n",
       "    <tr>\n",
       "      <th>2</th>\n",
       "      <td>Arizona</td>\n",
       "      <td>1997</td>\n",
       "      <td>168408.8</td>\n",
       "      <td>53776.0</td>\n",
       "      <td>62.043</td>\n",
       "      <td>69876.9</td>\n",
       "    </tr>\n",
       "    <tr>\n",
       "      <th>3</th>\n",
       "      <td>Arkansas</td>\n",
       "      <td>1997</td>\n",
       "      <td>82571.3</td>\n",
       "      <td>23316.0</td>\n",
       "      <td>76.108</td>\n",
       "      <td>32715.5</td>\n",
       "    </tr>\n",
       "    <tr>\n",
       "      <th>4</th>\n",
       "      <td>California</td>\n",
       "      <td>1997</td>\n",
       "      <td>1378276.5</td>\n",
       "      <td>431069.4</td>\n",
       "      <td>65.225</td>\n",
       "      <td>574432.9</td>\n",
       "    </tr>\n",
       "  </tbody>\n",
       "</table>\n",
       "</div>"
      ],
      "text/plain": [
       "        State  Year   Real GDP   Surplus  \\\n",
       "0     Alabama  1997   144501.2   37247.9   \n",
       "1      Alaska  1997    42211.3   11061.3   \n",
       "2     Arizona  1997   168408.8   53776.0   \n",
       "3    Arkansas  1997    82571.3   23316.0   \n",
       "4  California  1997  1378276.5  431069.4   \n",
       "\n",
       "   Chain-type quantity indexes for real GDP  \\\n",
       "0                                    76.356   \n",
       "1                                    72.424   \n",
       "2                                    62.043   \n",
       "3                                    76.108   \n",
       "4                                    65.225   \n",
       "\n",
       "   Compensation (millions of dollars)  \n",
       "0                             61083.8  \n",
       "1                             12347.8  \n",
       "2                             69876.9  \n",
       "3                             32715.5  \n",
       "4                            574432.9  "
      ]
     },
     "execution_count": 233,
     "metadata": {},
     "output_type": "execute_result"
    }
   ],
   "source": [
    "#Method 1: Using merge()\n",
    "GDP_melted.Year = GDP_melted.Year.astype(int) #Changing the datatype to match it with the dataset being merged\n",
    "GDP_surplus_compensation = pd.merge(pd.merge(GDP_melted,surplus_melted),compensation_pivoted)\n",
    "GDP_surplus_compensation.head()"
   ]
  },
  {
   "cell_type": "code",
   "execution_count": 252,
   "id": "bb4f0b96",
   "metadata": {},
   "outputs": [
    {
     "data": {
      "text/html": [
       "<div>\n",
       "<style scoped>\n",
       "    .dataframe tbody tr th:only-of-type {\n",
       "        vertical-align: middle;\n",
       "    }\n",
       "\n",
       "    .dataframe tbody tr th {\n",
       "        vertical-align: top;\n",
       "    }\n",
       "\n",
       "    .dataframe thead th {\n",
       "        text-align: right;\n",
       "    }\n",
       "</style>\n",
       "<table border=\"1\" class=\"dataframe\">\n",
       "  <thead>\n",
       "    <tr style=\"text-align: right;\">\n",
       "      <th></th>\n",
       "      <th>State</th>\n",
       "      <th>Year</th>\n",
       "      <th>Real GDP</th>\n",
       "      <th>Surplus</th>\n",
       "      <th>Chain-type quantity indexes for real GDP</th>\n",
       "      <th>Compensation (millions of dollars)</th>\n",
       "    </tr>\n",
       "  </thead>\n",
       "  <tbody>\n",
       "    <tr>\n",
       "      <th>0</th>\n",
       "      <td>Alabama</td>\n",
       "      <td>1997</td>\n",
       "      <td>144501.2</td>\n",
       "      <td>37247.9</td>\n",
       "      <td>76.356</td>\n",
       "      <td>61083.8</td>\n",
       "    </tr>\n",
       "    <tr>\n",
       "      <th>1</th>\n",
       "      <td>Alaska</td>\n",
       "      <td>1997</td>\n",
       "      <td>42211.3</td>\n",
       "      <td>11061.3</td>\n",
       "      <td>72.424</td>\n",
       "      <td>12347.8</td>\n",
       "    </tr>\n",
       "    <tr>\n",
       "      <th>2</th>\n",
       "      <td>Arizona</td>\n",
       "      <td>1997</td>\n",
       "      <td>168408.8</td>\n",
       "      <td>53776.0</td>\n",
       "      <td>62.043</td>\n",
       "      <td>69876.9</td>\n",
       "    </tr>\n",
       "    <tr>\n",
       "      <th>3</th>\n",
       "      <td>Arkansas</td>\n",
       "      <td>1997</td>\n",
       "      <td>82571.3</td>\n",
       "      <td>23316.0</td>\n",
       "      <td>76.108</td>\n",
       "      <td>32715.5</td>\n",
       "    </tr>\n",
       "    <tr>\n",
       "      <th>4</th>\n",
       "      <td>California</td>\n",
       "      <td>1997</td>\n",
       "      <td>1378276.5</td>\n",
       "      <td>431069.4</td>\n",
       "      <td>65.225</td>\n",
       "      <td>574432.9</td>\n",
       "    </tr>\n",
       "  </tbody>\n",
       "</table>\n",
       "</div>"
      ],
      "text/plain": [
       "        State  Year   Real GDP   Surplus  \\\n",
       "0     Alabama  1997   144501.2   37247.9   \n",
       "1      Alaska  1997    42211.3   11061.3   \n",
       "2     Arizona  1997   168408.8   53776.0   \n",
       "3    Arkansas  1997    82571.3   23316.0   \n",
       "4  California  1997  1378276.5  431069.4   \n",
       "\n",
       "   Chain-type quantity indexes for real GDP  \\\n",
       "0                                    76.356   \n",
       "1                                    72.424   \n",
       "2                                    62.043   \n",
       "3                                    76.108   \n",
       "4                                    65.225   \n",
       "\n",
       "   Compensation (millions of dollars)  \n",
       "0                             61083.8  \n",
       "1                             12347.8  \n",
       "2                             69876.9  \n",
       "3                             32715.5  \n",
       "4                            574432.9  "
      ]
     },
     "execution_count": 252,
     "metadata": {},
     "output_type": "execute_result"
    }
   ],
   "source": [
    "#Method 2: Using concat()\n",
    "\n",
    "#Sorting the surplus dataset so that its observations are in the same order as in the other two datasets\n",
    "surplus_melted.sort_values(by = ['Year','State'],inplace=True)\n",
    "surplus_melted.reset_index(drop=True,inplace = True)\n",
    "GDP_surplus_compensation_region = pd.concat([GDP_melted,surplus_melted,compensation_pivoted],axis=1)\n",
    "\n",
    "#Removing duplicate columns\n",
    "GDP_surplus_compensation_region = GDP_surplus_compensation_region.loc[:,~GDP_surplus_compensation_region.columns.duplicated()]\n",
    "GDP_surplus_compensation_region.head()"
   ]
  },
  {
   "cell_type": "markdown",
   "id": "c21658c9",
   "metadata": {},
   "source": [
    "### Time trend: GDP, surplus, and compensation\n",
    "Use a single plot to answer all three questions below by visualizing: \n",
    "\n",
    "1. How does the mean GDP (mean over all States) change with year? *(1 point for visualization)* \n",
    "\n",
    "2. How does the mean compensation (mean over all States) change with year? *(1 point for visualization)* \n",
    "\n",
    "3. How does the mean surplus (mean over all States) change with year? *(1 point for visualization)*\n",
    "\n",
    "Also show the 95% confidence interval for the mean GDP, mean compensation, and mean surplus in the plot.\n",
    "\n",
    "**Hint:** Use the *seaborn* function *lineplot()* . No calculations are needed. Just use *lineplot()* three times. \n",
    "\n",
    "*(4 points)*"
   ]
  },
  {
   "cell_type": "code",
   "execution_count": 253,
   "id": "253f65b8",
   "metadata": {},
   "outputs": [
    {
     "data": {
      "text/plain": [
       "<matplotlib.legend.Legend at 0x21bb14fba60>"
      ]
     },
     "execution_count": 253,
     "metadata": {},
     "output_type": "execute_result"
    },
    {
     "data": {
      "image/png": "[encoded data removed]",
      "text/plain": [
       "<Figure size 432x288 with 1 Axes>"
      ]
     },
     "metadata": {
      "needs_background": "light"
     },
     "output_type": "display_data"
    }
   ],
   "source": [
    "sns.lineplot(data = GDP_surplus_compensation, x = 'Year', y = 'Real GDP',label='GDP')\n",
    "sns.lineplot(data = GDP_surplus_compensation, x = 'Year', y = 'Compensation (millions of dollars)',label = 'compensation')\n",
    "sns.lineplot(data = GDP_surplus_compensation, x = 'Year', y = 'Surplus',label='surplus')\n",
    "plt.legend(loc='upper left')"
   ]
  },
  {
   "cell_type": "markdown",
   "id": "93d105a2",
   "metadata": {},
   "source": [
    "### Time trend: GDP with region\n",
    "Merge the file *State_region_mapping.csv* with the dataset obtained in the previous question. Make a lineplot showing the mean GDP for each of the five regions with year. Do not display the confidence interval. Which two regions seems to have the least growth in GDP over the past 24 years? \n",
    "\n",
    "*(5 points)*"
   ]
  },
  {
   "cell_type": "code",
   "execution_count": 244,
   "id": "c507bb4b",
   "metadata": {},
   "outputs": [
    {
     "data": {
      "text/html": [
       "<div>\n",
       "<style scoped>\n",
       "    .dataframe tbody tr th:only-of-type {\n",
       "        vertical-align: middle;\n",
       "    }\n",
       "\n",
       "    .dataframe tbody tr th {\n",
       "        vertical-align: top;\n",
       "    }\n",
       "\n",
       "    .dataframe thead th {\n",
       "        text-align: right;\n",
       "    }\n",
       "</style>\n",
       "<table border=\"1\" class=\"dataframe\">\n",
       "  <thead>\n",
       "    <tr style=\"text-align: right;\">\n",
       "      <th></th>\n",
       "      <th>State</th>\n",
       "      <th>Year</th>\n",
       "      <th>Real GDP</th>\n",
       "      <th>Surplus</th>\n",
       "      <th>Chain-type quantity indexes for real GDP</th>\n",
       "      <th>Compensation (millions of dollars)</th>\n",
       "      <th>Region</th>\n",
       "    </tr>\n",
       "  </thead>\n",
       "  <tbody>\n",
       "    <tr>\n",
       "      <th>0</th>\n",
       "      <td>Alabama</td>\n",
       "      <td>1997</td>\n",
       "      <td>144501.2</td>\n",
       "      <td>37247.9</td>\n",
       "      <td>76.356</td>\n",
       "      <td>61083.8</td>\n",
       "      <td>South</td>\n",
       "    </tr>\n",
       "    <tr>\n",
       "      <th>1</th>\n",
       "      <td>Alabama</td>\n",
       "      <td>1998</td>\n",
       "      <td>149568.2</td>\n",
       "      <td>39368.1</td>\n",
       "      <td>79.034</td>\n",
       "      <td>64168.6</td>\n",
       "      <td>South</td>\n",
       "    </tr>\n",
       "    <tr>\n",
       "      <th>2</th>\n",
       "      <td>Alabama</td>\n",
       "      <td>1999</td>\n",
       "      <td>154900.2</td>\n",
       "      <td>41513.7</td>\n",
       "      <td>81.851</td>\n",
       "      <td>67225.1</td>\n",
       "      <td>South</td>\n",
       "    </tr>\n",
       "    <tr>\n",
       "      <th>3</th>\n",
       "      <td>Alabama</td>\n",
       "      <td>2000</td>\n",
       "      <td>157221.3</td>\n",
       "      <td>42583.4</td>\n",
       "      <td>83.078</td>\n",
       "      <td>69764.4</td>\n",
       "      <td>South</td>\n",
       "    </tr>\n",
       "    <tr>\n",
       "      <th>4</th>\n",
       "      <td>Alabama</td>\n",
       "      <td>2001</td>\n",
       "      <td>156853.2</td>\n",
       "      <td>43348.6</td>\n",
       "      <td>82.883</td>\n",
       "      <td>72038.4</td>\n",
       "      <td>South</td>\n",
       "    </tr>\n",
       "  </tbody>\n",
       "</table>\n",
       "</div>"
      ],
      "text/plain": [
       "     State  Year  Real GDP  Surplus  Chain-type quantity indexes for real GDP  \\\n",
       "0  Alabama  1997  144501.2  37247.9                                    76.356   \n",
       "1  Alabama  1998  149568.2  39368.1                                    79.034   \n",
       "2  Alabama  1999  154900.2  41513.7                                    81.851   \n",
       "3  Alabama  2000  157221.3  42583.4                                    83.078   \n",
       "4  Alabama  2001  156853.2  43348.6                                    82.883   \n",
       "\n",
       "   Compensation (millions of dollars) Region  \n",
       "0                             61083.8  South  \n",
       "1                             64168.6  South  \n",
       "2                             67225.1  South  \n",
       "3                             69764.4  South  \n",
       "4                             72038.4  South  "
      ]
     },
     "execution_count": 244,
     "metadata": {},
     "output_type": "execute_result"
    }
   ],
   "source": [
    "state_region = pd.read_csv('./Datasets/State_region_mapping.csv')\n",
    "GDP_surplus_compensation_region=pd.merge(GDP_surplus_compensation,state_region)\n",
    "GDP_surplus_compensation_region.head()"
   ]
  },
  {
   "cell_type": "code",
   "execution_count": 250,
   "id": "8f9d96a5",
   "metadata": {},
   "outputs": [
    {
     "data": {
      "text/plain": [
       "<matplotlib.legend.Legend at 0x21bb12db430>"
      ]
     },
     "execution_count": 250,
     "metadata": {},
     "output_type": "execute_result"
    },
    {
     "data": {
      "image/png": "[encoded data removed]",
      "text/plain": [
       "<Figure size 432x288 with 1 Axes>"
      ]
     },
     "metadata": {
      "needs_background": "light"
     },
     "output_type": "display_data"
    }
   ],
   "source": [
    "a=sns.lineplot(data = GDP_surplus_compensation_region, x = 'Year', y = 'Real GDP',hue = 'Region',ci=None)\n",
    "a.legend(bbox_to_anchor=(1, 1))"
   ]
  },
  {
   "cell_type": "markdown",
   "id": "eb4e486b",
   "metadata": {},
   "source": [
    "Pacific and Midwest have the least growth in GDP over the past 24 years."
   ]
  }
 ],
 "metadata": {
  "kernelspec": {
   "display_name": "Python 3",
   "language": "python",
   "name": "python3"
  },
  "language_info": {
   "codemirror_mode": {
    "name": "ipython",
    "version": 3
   },
   "file_extension": ".py",
   "mimetype": "text/x-python",
   "name": "python",
   "nbconvert_exporter": "python",
   "pygments_lexer": "ipython3",
   "version": "3.8.8"
  }
 },
 "nbformat": 4,
 "nbformat_minor": 5
}
