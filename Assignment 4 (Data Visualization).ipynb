{
 "cells": [
  {
   "cell_type": "raw",
   "id": "33dd6c4c",
   "metadata": {},
   "source": [
    "---\n",
    "title: \"Assignment 4\"\n",
    "format: \n",
    "  html:\n",
    "    toc: true\n",
    "    toc-title: Contents\n",
    "    code-fold: show\n",
    "    self-contained: true\n",
    "jupyter: python3\n",
    "---"
   ]
  },
  {
   "cell_type": "markdown",
   "id": "0116f49b",
   "metadata": {},
   "source": [
    "## Instructions {-}\n",
    "\n",
    "1. You may talk to a friend, discuss the questions and potential directions for solving them. However, you need to write your own solutions and code separately, and not as a group activity. \n",
    "\n",
    "2. Do not write your name on the assignment.\n",
    "\n",
    "3. Write your code in the *Code* cells and your answer in the *Markdown* cells of the Jupyter notebook. Ensure that the solution is written neatly enough to understand and grade.\n",
    "\n",
    "4. Use [Quarto](https://quarto.org/docs/output-formats/html-basics.html) to print the *.ipynb* file as HTML. You will need to open the command prompt, navigate to the directory containing the file, and use the command: `quarto render filename.ipynb --to html`. Submit the HTML file.\n",
    "\n",
    "5. The assignment is worth 100 points, and is due on **4th November 2022 at 11:59 pm**. \n",
    "\n",
    "6. Some questions in this assignment do not have a single correct answer. As data visualization is subject to interpretation, any logically sound answer / explanation is acceptable.\n",
    "\n",
    "7. There is a bonus question worth 30 points. However, there is no partial credit for the bonus question. You will get 30 or 0. If everything is correct, you can score 130 out of 100 in the assignment."
   ]
  },
  {
   "cell_type": "markdown",
   "id": "fe7ea9bb",
   "metadata": {},
   "source": [
    "# Exploring factors associated with profitability of a movie {-}\n",
    "In this assignment we'll attempt to find the factors (or variables) that make a movie profitable.\n",
    "\n",
    "Read the movies data from [here](https://raw.githubusercontent.com/vega/vega-datasets/master/data/movies.json), in a Pandas DataFrame named as `movies_data`. The profit of movie is defined as:\n",
    "\n",
    "$$profit = Worldwide \\ Gross - Production \\ Budget$$"
   ]
  },
  {
   "cell_type": "markdown",
   "id": "fd553c27",
   "metadata": {},
   "source": [
    "## Time trend\n",
    "Let us analyze if the profitability of a movie is associated with the time of its release.\n",
    "\n",
    "### Month of release\n",
    "#### \n",
    "Make an appropriate plot to visualize the mean profit of movies released each month.\n",
    "\n",
    "**Hint:** \n",
    "\n",
    "1. Use the Pandas function [to_datetime()](https://pandas.pydata.org/docs/reference/api/pandas.to_datetime.html) to convert *Release Date* to a `datetime` datatype.\n",
    "\n",
    "2. Use the library [`datetime`](https://docs.python.org/3/library/datetime.html) to extract the month from *Release Date*.\n",
    "\n",
    "*(6 points)*"
   ]
  },
  {
   "cell_type": "markdown",
   "id": "0d7ea8c1",
   "metadata": {},
   "source": [
    "####  \n",
    "\n",
    "Based on the plot, which seasons have been the most and least profitable (on an average) for a movie release. Don't worry about the exact start and end date of seasons. Don't perform any computations. Just make comments based on the plot. You can use seasons such as *early summer, late spring* etc. \n",
    "\n",
    "*(2 points)*"
   ]
  },
  {
   "cell_type": "markdown",
   "id": "db4094ec",
   "metadata": {},
   "source": [
    "### Month of release with number of movies in each genre\n",
    "\n",
    "####  \n",
    "Now that we know the most profitable season for releasing movies, let us visualize if some `genre`s are more popular during certain seasons.\n",
    "\n",
    "Use the code below to create a new column called `genre`."
   ]
  },
  {
   "cell_type": "code",
   "execution_count": 4,
   "id": "96833834",
   "metadata": {},
   "outputs": [],
   "source": [
    "#Combining Major Genre\n",
    "movies_data['genre'] = movies_data['Major Genre'].apply(lambda x:'Comedy' if x!=None and 'Comedy' in x else 'Horror' if x!=None and 'Thriller' in x else 'Action/Adventure' if x!=None and ('Action' in x or 'Adventure' in x) else 'Musical/Western' if x!=None and ('Musical' in x or 'Western' in x or 'Concert' in x) else x)"
   ]
  },
  {
   "cell_type": "markdown",
   "id": "9d41a3e7",
   "metadata": {},
   "source": [
    "Make an appropriate plot to visualize the number of movies released for each `genre` in each calendar month.\n",
    "\n",
    "*(8 points)*"
   ]
  },
  {
   "cell_type": "markdown",
   "id": "8000f365",
   "metadata": {},
   "source": [
    "**Hint:** \n",
    "\n",
    "1. Use [barplot()](https://seaborn.pydata.org/generated/seaborn.barplot.html) with *estimator* as `len`\n",
    "\n",
    "2. Use the *hue* argument"
   ]
  },
  {
   "cell_type": "markdown",
   "id": "63808207",
   "metadata": {},
   "source": [
    "####  \n",
    "Based on the above plot, which `genre` is the most popular during the most profitable season of release? And which genre is the most popular during the least profitable season of release?\n",
    "\n",
    "*(2 points)*"
   ]
  },
  {
   "cell_type": "markdown",
   "id": "77e8729b",
   "metadata": {},
   "source": [
    "### Month of release with proportion of movies in each genre\n",
    "#### \n",
    "Visualize the proportion of movies in each `genre` for each month of release.\n",
    "\n",
    "Use the code below to re-arrange your data that will help with creating the visualization"
   ]
  },
  {
   "cell_type": "code",
   "execution_count": 5,
   "id": "bfe3743c",
   "metadata": {},
   "outputs": [],
   "source": [
    "genre_proportion_release_month = pd.crosstab(index=movies_data['release_month'],\n",
    "                             columns=movies_data['genre'],\n",
    "                             normalize=\"index\")\n",
    "genre_proportion_release_month.head()"
   ]
  },
  {
   "cell_type": "markdown",
   "id": "60af6dae",
   "metadata": {},
   "source": [
    "**Hint:** \n",
    "\n",
    "1. Make a 100% stacked barplot with the Pandas [plot()](https://pandas.pydata.org/docs/reference/api/pandas.DataFrame.plot.html) function\n",
    "\n",
    "2. Use the argument `bbox_to_anchor` with the Matplotlib function [legend()](https://matplotlib.org/stable/api/_as_gen/matplotlib.pyplot.legend.html) to place the legend outside the plot area.\n",
    "\n",
    "*(8 points)*"
   ]
  },
  {
   "cell_type": "markdown",
   "id": "4f579cbe",
   "metadata": {},
   "source": [
    "### \n",
    "Which `genre` is the most popular during the month of May, and which one is the most popular during December?\n",
    "\n",
    "*(2 points)*"
   ]
  },
  {
   "cell_type": "markdown",
   "id": "2782a12c",
   "metadata": {},
   "source": [
    "### Year of release with genre\n",
    "#### \n",
    "Make an appropriate figure to visualize the average profit of movies of each `genre` for each year. Consider only the movies released from 1991 to 2010. Also show the 95% confidence interval in the average profit.\n",
    "\n",
    "**Hint:**\n",
    "\n",
    "1. Use the library `datetime` to extract year from `Release Date`.\n",
    "\n",
    "2. Use the Seaborn [Facetgrid()](https://seaborn.pydata.org/generated/seaborn.FacetGrid.html) object.\n",
    "\n",
    "3. A figure can have multiple subplots. Put the figure for each genre in a separate subplot.\n",
    "\n",
    "*(6 points)*"
   ]
  },
  {
   "cell_type": "markdown",
   "id": "b79bb81c",
   "metadata": {},
   "source": [
    "### \n",
    "Based on the figure above, which `genre`'s profitabiltiy seems to be increasing over the years, and which `genre` has the least uncertainty in profit for most of the years.\n",
    "\n",
    "\n",
    "*(2 points)*"
   ]
  },
  {
   "cell_type": "markdown",
   "id": "038dc3a7",
   "metadata": {},
   "source": [
    "## Associations\n",
    "\n",
    "### Pairplot / heatmap\n",
    "\n",
    "#### \n",
    "Make a pairplot and heatmap of all the continuous variables in the data.\n",
    "\n",
    "*(8 points)*"
   ]
  },
  {
   "cell_type": "markdown",
   "id": "95839394",
   "metadata": {},
   "source": [
    "####  \n",
    "Are there any trends that you can see in the pairplot, but not in the heatmap?\n",
    "\n",
    "*(2 points)*"
   ]
  },
  {
   "cell_type": "markdown",
   "id": "8a7b9338",
   "metadata": {},
   "source": [
    "#### \n",
    "Based on the plots in 2(a)(i), which variables are associated with profit?\n",
    "\n",
    "*(2 points)*"
   ]
  },
  {
   "cell_type": "markdown",
   "id": "8919c3cf",
   "metadata": {},
   "source": [
    "#### \n",
    "Among the variables listed in 2(a)(iii), select a subset of variables such that none of them are highly associated with each other. The rest of the variables identified in 2(a)(iii) are redundant with regard to association with profit.\n",
    "\n",
    "*(2 points)*"
   ]
  },
  {
   "cell_type": "markdown",
   "id": "9aaf0fd2",
   "metadata": {},
   "source": [
    "### Nested associations\n"
   ]
  },
  {
   "cell_type": "markdown",
   "id": "dc47a613",
   "metadata": {},
   "source": [
    "#### \n",
    "Use the code below to create some new columns."
   ]
  },
  {
   "cell_type": "code",
   "execution_count": 7,
   "id": "2d97ee65",
   "metadata": {},
   "outputs": [],
   "source": [
    "movies_data['screenplay'] = movies_data.Source.apply(lambda x:'Non-original' if x!='Original Screenplay' else x)\n",
    "movies_data['rating'] = movies_data['MPAA Rating'].apply(lambda x:'R rated' if x=='R' else 'Not R rated')\n",
    "movies_data['fiction'] = movies_data['Creative Type'].apply(lambda x:'Contemporary' if x=='Contemporary Fiction' else 'other')"
   ]
  },
  {
   "cell_type": "markdown",
   "id": "e3f0e8f8",
   "metadata": {},
   "source": [
    "Make an appropriate figure to visualize the association of the number of IMDB votes with profit for each genre (use the variable `genre`). Which genre has the highest association between profit and IMDB votes?\n",
    "\n",
    "*(8 points)*"
   ]
  },
  {
   "cell_type": "markdown",
   "id": "7db49247",
   "metadata": {},
   "source": [
    "#### \n",
    "Make an appropriate figure to visualize the association between the number of IMDB votes and profit, for each combination of the fiction type (use the variable `fiction`) and the movie rating (use the variable `rating`).\n",
    "\n",
    "For which combination of `fiction` and `rating` categories do you observe the highest association between IMDB votes and profit?\n",
    "\n",
    "*(8 points)*\n",
    "\n",
    "**Hint:** Use *row* and *col* attributes of the Seaborn [Facetgrid()](https://seaborn.pydata.org/generated/seaborn.FacetGrid.html) object."
   ]
  },
  {
   "cell_type": "markdown",
   "id": "b351dd02",
   "metadata": {},
   "source": [
    "### Profit based on movie director"
   ]
  },
  {
   "cell_type": "markdown",
   "id": "997de488",
   "metadata": {},
   "source": [
    "#### \n",
    "Consider the directors who have directed more than 10 movies (based on the dataset). Make a horizontal barplot that shows the mean profit of the movies of these directors along with the 95% confidence interval. Sort the bars of the barplot such that the  director with the highest mean profit is at the top.\n",
    "\n",
    "If the dataset `director_with_more_than_10_movies` has only those movies that correspond to directors with more than 10 movies, then the following code will give you the order in which the names of the directors must appear in the barplot:\n",
    "\n",
    "*(8 points)*"
   ]
  },
  {
   "cell_type": "code",
   "execution_count": null,
   "id": "53101641",
   "metadata": {},
   "outputs": [],
   "source": [
    "director_with_more_than_10_movies[['Director','profit']].groupby('Director').mean().sort_values(by = 'profit',\n",
    "                                            ascending= False).index.to_list()"
   ]
  },
  {
   "cell_type": "markdown",
   "id": "87ed4a63",
   "metadata": {},
   "source": [
    "#### \n",
    "Based on the above plot, which director has the highest mean profitability, and which one has the highest variation in profitability?\n",
    "\n",
    "*(2 points)*"
   ]
  },
  {
   "cell_type": "markdown",
   "id": "35d6fbeb",
   "metadata": {},
   "source": [
    "## Distributions"
   ]
  },
  {
   "cell_type": "markdown",
   "id": "8e7855c9",
   "metadata": {},
   "source": [
    "\n",
    "### Distribution of profit based on genre (boxplots)\n",
    "#### \n",
    "Make boxplots to visualize the distribution of `profit` based on `genre`. Based on the plot, which genre has the most profitable movies?\n",
    "\n",
    "*(6 points)*"
   ]
  },
  {
   "cell_type": "markdown",
   "id": "c0f0bb44",
   "metadata": {},
   "source": [
    "#### \n",
    "Which genre has the most variation in profit, and which one has the least?\n",
    "\n",
    "*(2 points)*"
   ]
  },
  {
   "cell_type": "markdown",
   "id": "4de7bdd6",
   "metadata": {},
   "source": [
    "### Distribution of profit based on genre (density plots)\n",
    "#### \n",
    "Make density plots of `profit` based on `genre`. Adjust the limit on the horizonal axis, so that the plots are clearly visible.\n",
    "\n",
    "*(6 points)*"
   ]
  },
  {
   "cell_type": "markdown",
   "id": "5085b8ec",
   "metadata": {},
   "source": [
    "#### \n",
    "What additional insight / trend can you seen in the above plot that you cannot see in 3(a)(i)?\n",
    "\n",
    "*(2 points)*"
   ]
  },
  {
   "cell_type": "markdown",
   "id": "8942e3f3",
   "metadata": {},
   "source": [
    "## Insights"
   ]
  },
  {
   "cell_type": "markdown",
   "id": "3ecc940e",
   "metadata": {},
   "source": [
    "From the visualizations in (1), (2), and (3), describe the insights you get about the factors associated with the profitability of a movie. \n",
    "\n",
    "Also, elaborate on the extent to which these trends can be generalized. For example, comment on whether these trends be generalized to the current time and all the Hollywood movies? If not, is there any time period or type of movie to which these trends can be applicable?\n",
    "\n",
    "*(4+ 4 points)*"
   ]
  },
  {
   "cell_type": "markdown",
   "id": "c6f86b60",
   "metadata": {},
   "source": [
    "## Bonus question\n",
    "\n",
    "This question is worth 30 points. However, there is no partial credit. It will be 30 or 0."
   ]
  },
  {
   "cell_type": "markdown",
   "id": "01b55a96",
   "metadata": {},
   "source": [
    "The stock market is made up of exchanges, such as the New York Stock Exchange and the Nasdaq. Stocks are listed on a specific exchange, which brings buyers and sellers together and acts as a market for the shares of those stocks. The exchange tracks the supply and demand — and directly related, the price — of each stock.\n",
    "\n",
    "A market index tracks the performance of a group of stocks, which either represents the market as a whole or a specific sector of the market, like technology or retail companies. You’re likely to hear most about the S&P 500, the Nasdaq composite and the Dow Jones Industrial Average; they are often used as proxies for the performance of the overall market.\n",
    "\n",
    "There are two types of investment stratigies: active and passive.\n",
    "\n",
    "### Active investing {-}\n",
    "An active investment strategy involves using the information acquired by expert stock analysts to actively buy and sell stocks with specific characteristics. The goal is to beat the results of the indices and general stock market with higher returns and/or lower risk.\n",
    "\n",
    "### Passive Investing {-}\n",
    "Passive investors have a buy-and-hold mentality that focuses on benefitting from the overall increase in market prices over time. One of the major benefits of passive investing is that it minimizes the mistakes investors can make when they react emotionally to every move of the stock market.\n",
    "\n",
    "The easiest way to implement a passive approach is to buy and hold an index fund that follows one of the major indices like the S&P 500, Dow Jones, or Russell 2000 (small-cap stocks). These funds pool money from multiple investors to buy the individual stocks, bonds, or securities that make up their market index. When the index changes its components, the index funds that follow it also switch up their holdings to match."
   ]
  },
  {
   "cell_type": "markdown",
   "id": "74c03525",
   "metadata": {},
   "source": [
    "### Tasks {-}\n",
    "In this exercise, we use S&P 500 index as an example to explore the gains/returns for passive invesement. \n",
    "\n",
    "### Return {-}\n",
    "\n",
    "The data is provided in a csv file, with dates roughly from 2000 to 2022. And we use the column **Close** as the **price** on a specific day. \n",
    "\n",
    "If we buy the index on $t_1$ and sell it on $t_2$, the **return** is defined as\n",
    "$$r_{t_1,t_2} = (P_{t_2}-P_{t_1})/P_{t_1}$$.\n",
    "\n",
    "Sometimes we are interested on the return on holding the index for a specific period $T$, the return is\n",
    "$$r_{t,T} = (P_{t+T}-P_{t})/P_{t}$$\n",
    "where $t$ is the date we buy the stock and $T$ is the holding period. \n",
    "Since the stock is not traded on every day, when calculating ${t+T}$ we simply skip the non-trading dates. \n",
    "\n",
    "### Risk {-}\n",
    "\n",
    "If we take the return as a random variable, we could use standard deviation as its risk. A risk-averse investor expects a stable (low volatility) return. \n",
    "\n",
    "### Sharpe Ratio {-}\n",
    "\n",
    "People like high return and low risk investment. But on the other hand, in the market high return always associates high risk (e.g. stock) and low risk means low return (e.g. treasury bonds). \n",
    "\n",
    "The Sharpe ratio compares the excess return of an investment with its risk to make a single measure:\n",
    "$$SR=(R-R_f)/\\sigma$$\n",
    "where $R$ and $\\sigma$ are the expected return and stddev for the investment and $R_f$ is the risk free rate. \n",
    "\n",
    "Risk free rate is the rate of return offered by an investment that carries zero risk. In reality there is no truly risk free rate, but we usually take something like three-month U.S. Treasury bill as a proxy as risk free rate.\n",
    "To be simple, in this exercise we just **take risk free rate as 0**. \n"
   ]
  },
  {
   "cell_type": "markdown",
   "id": "74a9ea1e",
   "metadata": {},
   "source": [
    "Read the data from sp500.csv."
   ]
  },
  {
   "cell_type": "code",
   "execution_count": 154,
   "id": "71a6f753",
   "metadata": {},
   "outputs": [],
   "source": [
    "df = pd.read_csv(\"sp500.csv\", parse_dates=['Date'])"
   ]
  },
  {
   "cell_type": "markdown",
   "id": "8484ac93",
   "metadata": {},
   "source": [
    "### Impatient investor (daily)\n",
    "\n",
    "Suppose there is an investor who only holds the index for a single day (buy yesterday sell today). \n",
    "\n",
    "Based on the data we have, \n",
    "\n",
    "#### \n",
    "Show the histogram graph for all the possible returns. \n",
    "\n",
    "#### \n",
    "What is the expected return, risk and sharpe ratio? \n",
    "\n",
    "#### \n",
    "Is the return significantly greater than zero (a.k.a positive return) (use a threshold 0.01 for $p$-value) ?\n",
    "\n",
    "**HINT**: use `scipy.stats.ttest_1samp` to do one-sided mean test. (We ignore the fact that *T-test* requires the data are sampled from a population of normal distribution, which might not be true in this exercise) \n",
    "\n",
    "\n",
    "*(6 points)*"
   ]
  },
  {
   "cell_type": "markdown",
   "id": "3c6fe66b",
   "metadata": {},
   "source": [
    "### Patient Investor (yearly)\n",
    "\n",
    "Suppose there is an investor who will hold the index for a year (suppose there are 250 trading days in a year). \n",
    "Do the same analysis as the above, i.e., 5(a): (i), (ii) and (iii).\n",
    "\n",
    "*(6 points)*"
   ]
  },
  {
   "cell_type": "markdown",
   "id": "24ab7c2d",
   "metadata": {},
   "source": [
    "### From daily to yearly \n",
    "\n",
    "Explore how the expected return/risk/shape ratio change as we increase our holding period from 1 day to 1 year(250 days).\n",
    "\n",
    "Show/answer:\n",
    "\n",
    "\n",
    "- At least how many days do you need to hold the index in order to make a significant positive return (threshold 0.01)?\n",
    "\n",
    "- How are the returns associated with the risks for different investment strategies?\n",
    "\n",
    "Make a graph as shown below:\n",
    "\n",
    "*(18 points)*"
   ]
  },
  {
   "cell_type": "markdown",
   "id": "cf74d76f",
   "metadata": {},
   "source": [
    "![download (1).png](data:image/png;base64,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)"
   ]
  }
 ],
 "metadata": {
  "kernelspec": {
   "display_name": "Python 3",
   "language": "python",
   "name": "python3"
  },
  "language_info": {
   "codemirror_mode": {
    "name": "ipython",
    "version": 3
   },
   "file_extension": ".py",
   "mimetype": "text/x-python",
   "name": "python",
   "nbconvert_exporter": "python",
   "pygments_lexer": "ipython3",
   "version": "3.8.8"
  }
 },
 "nbformat": 4,
 "nbformat_minor": 5
}
