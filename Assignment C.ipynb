{
 "cells": [
  {
   "cell_type": "raw",
   "id": "33dd6c4c",
   "metadata": {},
   "source": [
    "---\n",
    "title: \"Assignment C\"\n",
    "subtitle: \"Pandas\"\n",
    "format: \n",
    "  html:\n",
    "    toc: true\n",
    "    toc-title: Contents\n",
    "    code-fold: show\n",
    "    self-contained: true\n",
    "jupyter: python3\n",
    "---"
   ]
  },
  {
   "cell_type": "markdown",
   "id": "0116f49b",
   "metadata": {},
   "source": [
    "## Instructions {-}\n",
    "\n",
    "1. You may talk to a friend, discuss the questions and potential directions for solving them. However, you need to write your own solutions and code separately, and not as a group activity. \n",
    "\n",
    "2. Do not write your name on the assignment.\n",
    "\n",
    "3. Write your code in the *Code* cells and your answer in the *Markdown* cells of the Jupyter notebook. Ensure that the solution is written neatly enough to understand and grade.\n",
    "\n",
    "4. Use [Quarto](https://quarto.org/docs/output-formats/html-basics.html) to print the *.ipynb* file as HTML. You will need to open the command prompt, navigate to the directory containing the file, and use the command: `quarto render filename.ipynb --to html`. Submit the HTML file.\n",
    "\n",
    "5. The assignment is worth 100 points, and is due on **22nd October 2023 at 11:59 pm**. There is an optional bonus question worth 10 points. You can score a maximum of 110 (out of 100) points.\n",
    "\n",
    "6. You are **not allowed to use a `for` loop** or any other kind of loop in this assignment."
   ]
  },
  {
   "cell_type": "markdown",
   "id": "fe7ea9bb",
   "metadata": {},
   "source": [
    "## GDP per capita & social indicators\n",
    "Read the file *social_indicator.txt* with python. Set the first column as the index when reading the file. How many observations and variables are there in the data?\n",
    "\n",
    "*(4 points)*"
   ]
  },
  {
   "cell_type": "markdown",
   "id": "16c1a490",
   "metadata": {},
   "source": [
    "### \n",
    "Which variables have the strongest and weakest correlations with GDP per capita? Note that `lifeFemale` and `lifeMale` are the female and male life expectancies respectively.\n",
    "\n",
    "Note that only when the magnitude of the correlation is considered when judging a correlation as strong or weak.\n",
    "\n",
    "*(4 points)*"
   ]
  },
  {
   "cell_type": "markdown",
   "id": "3b9b32b3",
   "metadata": {},
   "source": [
    "### \n",
    "Does the male economic activity *(in the column `economicActivityMale`)* have a positive or negative correlation with GDP per capita? Did you expect the positive/negative correlation? If not, why do you think you are observing that correlation?\n",
    "\n",
    "*(4 points)*"
   ]
  },
  {
   "cell_type": "markdown",
   "id": "3eb2d4f2",
   "metadata": {},
   "source": [
    "### \n",
    "\n",
    "What is the rank of the US amongst all countries in terms of GDP per capita? Which countries lie immediately above, and immediately below the US in the ranking in terms of GDP per capita? The country having the highest GDP per capita ranks 1.\n",
    "\n",
    "Note that:\n",
    "\n",
    "1. The US is mentioned as *United States* in the data. \n",
    "\n",
    "2. The country with the highest GDP per capita will have rank 1, the country with the second highest GDP per capita will have rank 2, and so on.\n",
    "\n",
    "**Hint:** [rank()](https://pandas.pydata.org/docs/reference/api/pandas.Series.rank.html)\n",
    "\n",
    "*(4 points)*"
   ]
  },
  {
   "cell_type": "markdown",
   "id": "b87778de",
   "metadata": {},
   "source": [
    "### \n",
    "\n",
    "Which country or countries rank among the top 20 in terms of each of these social indicators - `economicActivityFemale`, `economicActivityMale`, `gdpPerCapita`, `lifeFemale`, `lifeMale`? For each of these social indicators, the country having the largest value ranks 1 for that indicator.\n",
    "\n",
    "*(6 points)*\n",
    "\n",
    "**Hint:** \n",
    "\n",
    "1. Use [rank()](https://pandas.pydata.org/docs/reference/api/pandas.DataFrame.rank.html). Note that this method is different from the method given in the hint of the previous question. This method is of the DataFrame class, while the one in the previous question is of the Series class. *This part of the hint is just for your understanding. You don't need to write any code in this part.*\n",
    "\n",
    "2. Using `rank()`, get the DataFrame consisting of the ranks of countries on each of the relevant social indicators *(one line of code)*.\n",
    "\n",
    "3. In the DataFrame obtained in (2), filter the rows for which the maximum rank is less than or equal to 20 *(one line of code)*."
   ]
  },
  {
   "cell_type": "markdown",
   "id": "0957416b",
   "metadata": {},
   "source": [
    "### \n",
    "\n",
    "On which social indicator among `economicActivityFemale`, `economicActivityMale`, `gdpPerCapita`, `lifeFemale`, `lifeMale`, `illiteracyFemale`, `illiteracyMale`, `infantMortality`, and `totalfertilityrate` does the US have its worst ranking, and what is the rank? Note that for `illiteracyFemale`, `illiteracyMale`, and `infantMortality`, the country having the lowest value will rank 1, in contrast to the other social indicators.\n",
    "\n",
    "*(8 points)*"
   ]
  },
  {
   "cell_type": "markdown",
   "id": "4d946683",
   "metadata": {},
   "source": [
    "### \n",
    "\n",
    "Find all the countries that have a lower GDP per capita than the US, despite having lower illiteracy rates (for both genders), higher economic activity (for both genders), higher life expectancy (for both genders), and lower infant mortality rate than the US?\n",
    "\n",
    "*(6 points)*"
   ]
  },
  {
   "cell_type": "markdown",
   "id": "cb8a845f",
   "metadata": {},
   "source": [
    "## GDP vs social indicators\n",
    "We'll use the same data as in in the previous question. For the questions below, assume that all numeric columns, **except GDP per capita**, are social indicators."
   ]
  },
  {
   "cell_type": "markdown",
   "id": "3b5f5b12",
   "metadata": {},
   "source": [
    "###  \n",
    "Use the column `geographic_location` to create a new column called `continent`. Merge the values of the `geographic_location` column appropriately to obtain 6 distinct values for the `continent` column – *Asia, Africa, North America, South America, Europe* and *Oceania*. Drop the column `geographic_location`. Print the first 5 observations of the updated DataFrame.\n",
    "\n",
    "*(8 points)*\n",
    "\n",
    "**Hint:**\n",
    "\n",
    "1. Use `value_counts()` to see the values of `geographic_location`. The code `if 'Asia' in 'something'` will return `True` if '*something*' contains the string '*Asia*', for example, if '*something*' is '*North Asia*', the code with return True. *This part of the hint is just for your understanding. You don't need to write any code in this part.*\n",
    "\n",
    "2. Apply a lambda function on the Series `geographic_location` to replace a string that contains '*Asia*' with '*Asia*', replace a string that contains '*Europe*' with '*Europe*', and replace a string that contains '*Africa*' with '*Africa*'. *This will be a single line of code.*\n",
    "\n",
    "3. Rename the column `georgaphic_location` to `continent`."
   ]
  },
  {
   "cell_type": "markdown",
   "id": "2a672db6",
   "metadata": {},
   "source": [
    "### \n",
    "Sort the column labels lexicographically. Drop the columns `region` and `contraception`. Print the first 5 observations of the updated DataFrame.\n",
    "\n",
    "**Hint:** [sort_index()](https://pandas.pydata.org/docs/reference/api/pandas.DataFrame.sort_index.html)\n",
    "\n",
    "*(4 points)*"
   ]
  },
  {
   "cell_type": "markdown",
   "id": "7a7423d0",
   "metadata": {},
   "source": [
    "### \n",
    "\n",
    "Find the percentage of the total countries in each continent.\n",
    "\n",
    "**Hint:** One line of code with `value_counts()` and `shape`\n",
    "\n",
    "*(4 points)*"
   ]
  },
  {
   "cell_type": "markdown",
   "id": "57e41b2a",
   "metadata": {},
   "source": [
    "### \n",
    "\n",
    "Which country has the highest GDP per capita? Let us call it country $G$.\n",
    "\n",
    "*(4 points)*"
   ]
  },
  {
   "cell_type": "markdown",
   "id": "bfc4579e",
   "metadata": {},
   "source": [
    "### \n",
    "We need to find the African country that is the closest to country $G$ with regard to social indicators. Perform the following steps:\n",
    "\n",
    "#### \t\n",
    "Standardize each of the social indicators to a standard normal distribution so that all of them are on the same scale (remember to exclude *GDP per capita* from social indicators).\n",
    "\n",
    "**Hint:**\n",
    "\n",
    "1. For scaling a random variable to standard normal, subtract the mean from each value of the variable, and divide by its standard deviation.\n",
    "\n",
    "2. Use the apply method with a lambda function to scale all the social indicators to standard normal.\n",
    "\n",
    "3. The above (1) and (2) together is a single line of code.\n",
    "\n",
    "*(6 points)*"
   ]
  },
  {
   "cell_type": "markdown",
   "id": "7e215e6d",
   "metadata": {},
   "source": [
    "#### \n",
    "Compute the [Manhattan distance](https://en.wikipedia.org/wiki/Taxicab_geometry) between country $G$ and each of the African countries, based on the scaled social indicators.\n",
    "\n",
    "**Hint:** \n",
    "\n",
    "1. Broadcast a Series to a DataFrame\n",
    "\n",
    "2. The Manhattan distance between two points $(x_1, x_2, ..., x_p)$ and $(y_1, y_2, ..., y_p)$ is $|x_1 - y_1| + |x_2 - y_2| + ... + |x_p-y_p|$, where $|.|$ stands for absolute value (for example, $|-2| = 2;  |3| = 3$).\n",
    "\n",
    "*(8 points)*"
   ]
  },
  {
   "cell_type": "markdown",
   "id": "dabff2f9",
   "metadata": {},
   "source": [
    "#### \n",
    "Identify the African country, say country $A$, with the least Manhattan distance to country $G$.\n",
    "\n",
    "*(8 points)*"
   ]
  },
  {
   "cell_type": "markdown",
   "id": "1e21fcf2",
   "metadata": {},
   "source": [
    "### \n",
    "Find the correlation between the Manhattan distance from country $G$ and GDP per capita for African countries.\n",
    "\n",
    "*(6 points)*"
   ]
  },
  {
   "cell_type": "markdown",
   "id": "578eab22",
   "metadata": {},
   "source": [
    "### \n",
    "Based on the correlation coefficient in $2(f)$, do you think African countries should try to emulate the social characteristics of country $G$? Justify your answer.\n",
    "\n",
    "*(4 points)*"
   ]
  },
  {
   "cell_type": "markdown",
   "id": "61e85404",
   "metadata": {},
   "source": [
    "## Medical data"
   ]
  },
  {
   "cell_type": "markdown",
   "id": "498b0a1c",
   "metadata": {},
   "source": [
    "Read the data sets *conditions.csv and patients.csv*. Suppose we are interested in studying patients with prediabetes condition. Do not drop or compute any missing values. In *condition.csv*, the patient IDs are stored in column `PATIENT`, and the medical conditions are stored in column `DESCRIPTION`. In *patient.csv*, the patient IDs are stored in column *Id*."
   ]
  },
  {
   "cell_type": "markdown",
   "id": "a1f97a03",
   "metadata": {},
   "source": [
    "### \n",
    "Print the patient IDs of all the patients with prediabetes condition.\n",
    "\n",
    "*(4 points)*"
   ]
  },
  {
   "cell_type": "markdown",
   "id": "759b7401",
   "metadata": {},
   "source": [
    "### \n",
    "Make a subset of the data with only prediabetes patients. How many prediabetes patients are there?\n",
    "\n",
    "*(4 points)*\n",
    "\n",
    "**Hint:** `.isin()`"
   ]
  },
  {
   "cell_type": "markdown",
   "id": "7e4f600f",
   "metadata": {},
   "source": [
    "### \n",
    "What proportion of the total `HEALTHCARE_EXPENSES` of all the patients correspond to the `HEALTHCARE_EXPENSES` of prediabetes patients.\n",
    "\n",
    "*(4 points)*"
   ]
  },
  {
   "cell_type": "markdown",
   "id": "5292e23c",
   "metadata": {},
   "source": [
    "## Bonus question\n",
    "This is an optional question with no partial credit. You will get points only if your solution is completely correct. We advise you to attempt it only when you are done with the rest of the assignment.\n",
    "\n",
    "*(10 points)*"
   ]
  },
  {
   "cell_type": "markdown",
   "id": "a783fc80",
   "metadata": {},
   "source": [
    "Read the file *STAT303-1 survey for data analysis.csv*. In this question, we'll work to clean this data a bit. As with every question, you are **not** allowed to use a `for` loop or any other loop."
   ]
  },
  {
   "cell_type": "markdown",
   "id": "2bfe92a4",
   "metadata": {},
   "source": [
    "Execute the following code to read the data and clean the column names."
   ]
  },
  {
   "cell_type": "code",
   "execution_count": 2,
   "id": "cb1eb89a",
   "metadata": {},
   "outputs": [],
   "source": [
    "survey_data = pd.read_csv('STAT303-1 survey for data analysis.csv')\n",
    "new_col_names = ['parties_per_month', 'smoke', 'weed', 'introvert_extrovert', 'love_first_sight', 'learning_style', 'left_right_brained', 'personality_type', 'social_media', 'num_insta_followers', 'streaming_platforms', 'expected_marriage_age', 'expected_starting_salary', 'fav_sport', 'minutes_ex_per_week', 'sleep_hours_per_day', 'how_happy', 'farthest_distance_travelled', 'fav_number', 'fav_letter', 'internet_hours_per_day', 'only_child', 'birthdate_odd_even', 'birth_month', 'fav_season', 'living_location_on_campus', 'major', 'num_majors_minors', 'high_school_GPA', 'NU_GPA', 'age', 'height', 'height_father', 'height_mother', 'school_year', 'procrastinator', 'num_clubs', 'student_athlete', 'AP_stats', 'used_python_before', 'dominant_hand', 'childhood_in_US', 'gender', 'region_of_residence', 'political_affliation', 'cant_change_math_ability', 'can_change_math_ability', 'math_is_genetic', 'much_effort_is_lack_of_talent']\n",
    "survey_data.columns = list(survey_data.columns[0:2])+new_col_names"
   ]
  },
  {
   "cell_type": "markdown",
   "id": "0fa95282",
   "metadata": {},
   "source": [
    "Check the datatype of the variables using the `dtypes` attribute of the Pandas DataFrame object. You will notice that only two variables are numeric. However, if you check the first few observations of the data with the function `head()` you will find the there are several more variables that seem to have numeric values."
   ]
  },
  {
   "cell_type": "markdown",
   "id": "770751c6",
   "metadata": {},
   "source": [
    "Write a function that accepts a Pandas Series *(or a column of a Pandas DataFrame object)* as argument, and if the datatype of the Series is non-numeric, does the following:\n",
    "\n",
    "1. Checks if at least 10 values of the Series contain a digit in them.\n",
    "\n",
    "2. If at least 10 values are found to contain a digit, then:\n",
    "\n",
    "    A. Eliminate the characters `~`, `+`, and `,` from all the values of the Series.\n",
    "    \n",
    "    B. Convert the Series to numeric (with coercion if needed).\n",
    "    \n",
    "3. If at least 10 values are NOT found to contain a digit, then:\n",
    "\n",
    "    A. If the values of the Series are *'Yes'* and *'No'*, then replace *'Yes'* with *1* and *'No'* with *0*. The Series datatype must change to numeric as well.\n",
    "    \n",
    "    B. If the values of the Series are *'Agree'* and *'Disagree'*, then replace *'Agree'* with *1* and *'Disagree'* with *0*. The Series datatype must change to numeric as well.\n",
    "    \n",
    "Apply the function to each column of `survey_data` using the *apply()* method. Save the updated DataFrame as `survey_data_clean`. Then, execute the following code."
   ]
  },
  {
   "cell_type": "code",
   "execution_count": null,
   "id": "0ad3102a",
   "metadata": {},
   "outputs": [],
   "source": [
    "survey_data_clean.describe().loc['mean',:]"
   ]
  },
  {
   "cell_type": "markdown",
   "id": "b76ed062",
   "metadata": {},
   "source": [
    " The above code should print out the mean values of 28 numeric columns in the data `survey_data_clean`."
   ]
  },
  {
   "cell_type": "markdown",
   "id": "a407516e",
   "metadata": {},
   "source": [
    "The variables that you should see as numeric in `survey_data_clean` are given in the list `numeric_columns` below *(this is just to check your work)*:"
   ]
  },
  {
   "cell_type": "code",
   "execution_count": 5,
   "id": "213ff23b",
   "metadata": {},
   "outputs": [],
   "source": [
    "numeric_columns = ['parties_per_month', 'love_first_sight', 'num_insta_followers',\n",
    "       'expected_marriage_age', 'expected_starting_salary',\n",
    "       'minutes_ex_per_week', 'sleep_hours_per_day',\n",
    "       'farthest_distance_travelled', 'fav_number', 'internet_hours_per_day',\n",
    "       'only_child', 'num_majors_minors', 'high_school_GPA', 'NU_GPA', 'age',\n",
    "       'height', 'height_father', 'height_mother', 'procrastinator',\n",
    "       'num_clubs', 'student_athlete', 'AP_stats', 'used_python_before',\n",
    "       'childhood_in_US', 'cant_change_math_ability',\n",
    "       'can_change_math_ability', 'math_is_genetic',\n",
    "       'much_effort_is_lack_of_talent']"
   ]
  },
  {
   "cell_type": "markdown",
   "id": "ed265339",
   "metadata": {},
   "source": [
    "Note that your **function must be general**, i.e., it must work for any other dataset as well. This means, you cannot hard code a column name, or anything specific to `survey_data` in the function."
   ]
  }
 ],
 "metadata": {
  "kernelspec": {
   "display_name": "Python 3 (ipykernel)",
   "language": "python",
   "name": "python3"
  },
  "language_info": {
   "codemirror_mode": {
    "name": "ipython",
    "version": 3
   },
   "file_extension": ".py",
   "mimetype": "text/x-python",
   "name": "python",
   "nbconvert_exporter": "python",
   "pygments_lexer": "ipython3",
   "version": "3.8.17"
  }
 },
 "nbformat": 4,
 "nbformat_minor": 5
}
