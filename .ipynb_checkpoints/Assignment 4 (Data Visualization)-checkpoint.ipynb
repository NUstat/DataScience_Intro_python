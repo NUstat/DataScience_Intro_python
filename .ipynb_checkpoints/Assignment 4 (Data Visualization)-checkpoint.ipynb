{
 "cells": [
  {
   "cell_type": "raw",
   "id": "33dd6c4c",
   "metadata": {},
   "source": [
    "---\n",
    "title: \"Assignment 4 (Data Visualization)\"\n",
    "format: \n",
    "  html:\n",
    "    toc: true\n",
    "    toc-title: Contents\n",
    "    code-fold: show\n",
    "    self-contained: true\n",
    "    toc-depth: 4\n",
    "jupyter: python3\n",
    "---"
   ]
  },
  {
   "cell_type": "markdown",
   "id": "0116f49b",
   "metadata": {},
   "source": [
    "## Instructions {-}\n",
    "\n",
    "1. You may talk to a friend, discuss the questions and potential directions for solving them. However, you need to write your own solutions and code separately, and not as a group activity. \n",
    "\n",
    "2. Do not write your name on the assignment.\n",
    "\n",
    "3. Write your code in the *Code* cells and your answer in the *Markdown* cells of the Jupyter notebook. Ensure that the solution is written neatly enough to understand and grade.\n",
    "\n",
    "4. Use [Quarto](https://quarto.org/docs/output-formats/html-basics.html) to print the *.ipynb* file as HTML. You will need to open the command prompt, navigate to the directory containing the file, and use the command: `quarto render filename.ipynb --to html`. Submit the HTML file.\n",
    "\n",
    "5. The assignment is worth 100 points, and is due on **4th November 2022 at 11:59 pm**. \n",
    "\n",
    "6. Some questions in this assignment do not have a single correct answer. As data visualization is subject to interpretation, any logically sound answer / explanation is acceptable.\n",
    "\n",
    "7. There is a bonus question worth 30 points. However, there is no partial credit for the bonus question. You will get 30 or 0. If everything is correct, you can score 130 out of 100 in the assignment."
   ]
  },
  {
   "cell_type": "markdown",
   "id": "fe7ea9bb",
   "metadata": {},
   "source": [
    "# Exploring factors associated with profitability of a movie {-}\n",
    "In this assignment we'll attempt to find the factors (or variables) that make a movie profitable.\n",
    "\n",
    "Read the movies data from [here](https://raw.githubusercontent.com/vega/vega-datasets/master/data/movies.json), in a Pandas DataFrame named as `movies_data`. The profit of movie is defined as:\n",
    "\n",
    "$$profit = Worldwide \\ Gross - Production \\ Budget$$"
   ]
  },
  {
   "cell_type": "markdown",
   "id": "fd553c27",
   "metadata": {},
   "source": [
    "## Time trend\n",
    "Let us analyze if the profitability of a movie is associated with the time of its release.\n",
    "\n",
    "### Month of release\n",
    "#### \n",
    "Make an appropriate plot to visualize the mean profit of movies released each month.\n",
    "\n",
    "**Hint:** \n",
    "\n",
    "1. Use the Pandas function [to_datetime()](https://pandas.pydata.org/docs/reference/api/pandas.to_datetime.html) to convert *Release Date* to a `datetime` datatype.\n",
    "\n",
    "2. Use the library [`datetime`](https://docs.python.org/3/library/datetime.html) to extract the month from *Release Date*.\n",
    "\n",
    "*(6 points)*"
   ]
  },
  {
   "cell_type": "markdown",
   "id": "0d7ea8c1",
   "metadata": {},
   "source": [
    "####  \n",
    "\n",
    "Based on the plot, which seasons have been the most and least profitable (on an average) for a movie release. Don't worry about the exact start and end date of seasons. Don't perform any computations. Just make comments based on the plot. You can use seasons such as *early summer, late spring* etc. \n",
    "\n",
    "*(2 points)*"
   ]
  },
  {
   "cell_type": "markdown",
   "id": "db4094ec",
   "metadata": {},
   "source": [
    "### Month of release with number of movies in each genre\n",
    "\n",
    "####  \n",
    "Now that we know the most profitable season for releasing movies, let us visualize if some `genre`s are more popular during certain seasons.\n",
    "\n",
    "Use the code below to create a new column called `genre`."
   ]
  },
  {
   "cell_type": "code",
   "execution_count": 4,
   "id": "96833834",
   "metadata": {},
   "outputs": [],
   "source": [
    "#Combining Major Genre\n",
    "movies_data['genre'] = movies_data['Major Genre'].apply(lambda x:'Comedy' if x!=None and 'Comedy' in x else 'Horror' if x!=None and 'Thriller' in x else 'Action/Adventure' if x!=None and ('Action' in x or 'Adventure' in x) else 'Musical/Western' if x!=None and ('Musical' in x or 'Western' in x or 'Concert' in x) else x)"
   ]
  },
  {
   "cell_type": "markdown",
   "id": "9d41a3e7",
   "metadata": {},
   "source": [
    "Make an appropriate plot to visualize the number of movies released for each `genre` in each calendar month.\n",
    "\n",
    "*(8 points)*"
   ]
  },
  {
   "cell_type": "markdown",
   "id": "8000f365",
   "metadata": {},
   "source": [
    "**Hint:** \n",
    "\n",
    "1. Use [barplot()](https://seaborn.pydata.org/generated/seaborn.barplot.html) with *estimator* as `len`\n",
    "\n",
    "2. Use the *hue* argument"
   ]
  },
  {
   "cell_type": "markdown",
   "id": "63808207",
   "metadata": {},
   "source": [
    "####  \n",
    "Based on the above plot, which `genre` is the most popular during the most profitable season of release? And which genre is the most popular during the least profitable season of release?\n",
    "\n",
    "*(2 points)*"
   ]
  },
  {
   "cell_type": "markdown",
   "id": "77e8729b",
   "metadata": {},
   "source": [
    "### Month of release with proportion of movies in each genre\n",
    "#### \n",
    "Visualize the proportion of movies in each `genre` for each month of release.\n",
    "\n",
    "Use the code below to re-arrange your data that will help with creating the visualization"
   ]
  },
  {
   "cell_type": "code",
   "execution_count": 5,
   "id": "bfe3743c",
   "metadata": {},
   "outputs": [],
   "source": [
    "genre_proportion_release_month = pd.crosstab(index=movies_data['release_month'],\n",
    "                             columns=movies_data['genre'],\n",
    "                             normalize=\"index\")\n",
    "genre_proportion_release_month.head()"
   ]
  },
  {
   "cell_type": "markdown",
   "id": "60af6dae",
   "metadata": {},
   "source": [
    "**Hint:** \n",
    "\n",
    "1. Make a 100% stacked barplot with the Pandas [plot()](https://pandas.pydata.org/docs/reference/api/pandas.DataFrame.plot.html) function\n",
    "\n",
    "2. Use the argument `bbox_to_anchor` with the Matplotlib function [legend()](https://matplotlib.org/stable/api/_as_gen/matplotlib.pyplot.legend.html) to place the legend outside the plot area.\n",
    "\n",
    "*(8 points)*"
   ]
  },
  {
   "cell_type": "markdown",
   "id": "4f579cbe",
   "metadata": {},
   "source": [
    "#### \n",
    "Which `genre` is the most popular during the month of May, and which one is the most popular during December?\n",
    "\n",
    "*(2 points)*"
   ]
  },
  {
   "cell_type": "markdown",
   "id": "2782a12c",
   "metadata": {},
   "source": [
    "### Year of release with genre\n",
    "#### \n",
    "Make an appropriate figure to visualize the average profit of movies of each `genre` for each year. Consider only the movies released from 1991 to 2010. Also show the 95% confidence interval in the average profit.\n",
    "\n",
    "**Hint:**\n",
    "\n",
    "1. Use the library `datetime` to extract year from `Release Date`.\n",
    "\n",
    "2. Use the Seaborn [Facetgrid()](https://seaborn.pydata.org/generated/seaborn.FacetGrid.html) object.\n",
    "\n",
    "3. A figure can have multiple subplots. Put the figure for each genre in a separate subplot.\n",
    "\n",
    "*(6 points)*"
   ]
  },
  {
   "cell_type": "markdown",
   "id": "b79bb81c",
   "metadata": {},
   "source": [
    "#### \n",
    "Based on the figure above, which `genre`'s profitabiltiy seems to be increasing over the years, and which `genre` has the least uncertainty in profit for most of the years.\n",
    "\n",
    "\n",
    "*(2 points)*"
   ]
  },
  {
   "cell_type": "markdown",
   "id": "038dc3a7",
   "metadata": {},
   "source": [
    "## Associations\n",
    "\n",
    "### Pairplot / heatmap\n",
    "\n",
    "#### \n",
    "Make a pairplot and heatmap of all the continuous variables in the data.\n",
    "\n",
    "*(8 points)*"
   ]
  },
  {
   "cell_type": "markdown",
   "id": "95839394",
   "metadata": {},
   "source": [
    "####  \n",
    "Are there any trends that you can see in the pairplot, but not in the heatmap?\n",
    "\n",
    "*(2 points)*"
   ]
  },
  {
   "cell_type": "markdown",
   "id": "8a7b9338",
   "metadata": {},
   "source": [
    "#### \n",
    "Based on the plots in 2(a)(i), which variables are associated with profit?\n",
    "\n",
    "*(2 points)*"
   ]
  },
  {
   "cell_type": "markdown",
   "id": "8919c3cf",
   "metadata": {},
   "source": [
    "#### \n",
    "Among the variables listed in 2(a)(iii), select a subset of variables such that none of them are highly associated with each other. The rest of the variables identified in 2(a)(iii) are redundant with regard to association with profit.\n",
    "\n",
    "*(2 points)*"
   ]
  },
  {
   "cell_type": "markdown",
   "id": "9aaf0fd2",
   "metadata": {},
   "source": [
    "### Nested associations\n"
   ]
  },
  {
   "cell_type": "markdown",
   "id": "dc47a613",
   "metadata": {},
   "source": [
    "#### \n",
    "Use the code below to create some new columns."
   ]
  },
  {
   "cell_type": "code",
   "execution_count": 7,
   "id": "2d97ee65",
   "metadata": {},
   "outputs": [],
   "source": [
    "movies_data['screenplay'] = movies_data.Source.apply(lambda x:'Non-original' if x!='Original Screenplay' else x)\n",
    "movies_data['rating'] = movies_data['MPAA Rating'].apply(lambda x:'R rated' if x=='R' else 'Not R rated')\n",
    "movies_data['fiction'] = movies_data['Creative Type'].apply(lambda x:'Contemporary' if x=='Contemporary Fiction' else 'other')"
   ]
  },
  {
   "cell_type": "markdown",
   "id": "e3f0e8f8",
   "metadata": {},
   "source": [
    "Make an appropriate figure to visualize the association of the number of IMDB votes with profit for each genre (use the variable `genre`). Which genre has the highest association between profit and IMDB votes?\n",
    "\n",
    "*(8 points)*"
   ]
  },
  {
   "cell_type": "markdown",
   "id": "7db49247",
   "metadata": {},
   "source": [
    "#### \n",
    "Make an appropriate figure to visualize the association between the number of IMDB votes and profit, for each combination of the fiction type (use the variable `fiction`) and the movie rating (use the variable `rating`).\n",
    "\n",
    "For which combination of `fiction` and `rating` categories do you observe the highest association between IMDB votes and profit?\n",
    "\n",
    "*(8 points)*\n",
    "\n",
    "**Hint:** Use *row* and *col* attributes of the Seaborn [Facetgrid()](https://seaborn.pydata.org/generated/seaborn.FacetGrid.html) object."
   ]
  },
  {
   "cell_type": "markdown",
   "id": "b351dd02",
   "metadata": {},
   "source": [
    "### Profit based on movie director"
   ]
  },
  {
   "cell_type": "markdown",
   "id": "997de488",
   "metadata": {},
   "source": [
    "#### \n",
    "Consider the directors who have directed more than 10 movies (based on the dataset). Make a horizontal barplot that shows the mean profit of the movies of these directors along with the 95% confidence interval. Sort the bars of the barplot such that the  director with the highest mean profit is at the top.\n",
    "\n",
    "If the dataset `director_with_more_than_10_movies` has only those movies that correspond to directors with more than 10 movies, then the following code will give you the order in which the names of the directors must appear in the barplot:\n",
    "\n",
    "*(8 points)*"
   ]
  },
  {
   "cell_type": "code",
   "execution_count": null,
   "id": "53101641",
   "metadata": {},
   "outputs": [],
   "source": [
    "director_with_more_than_10_movies[['Director','profit']].groupby('Director').mean().sort_values(by = 'profit',\n",
    "                                            ascending= False).index.to_list()"
   ]
  },
  {
   "cell_type": "markdown",
   "id": "87ed4a63",
   "metadata": {},
   "source": [
    "#### \n",
    "Based on the above plot, which director has the highest mean profitability, and which one has the highest variation in profitability?\n",
    "\n",
    "*(2 points)*"
   ]
  },
  {
   "cell_type": "markdown",
   "id": "35d6fbeb",
   "metadata": {},
   "source": [
    "## Distributions"
   ]
  },
  {
   "cell_type": "markdown",
   "id": "8e7855c9",
   "metadata": {},
   "source": [
    "### Distribution of profit based on genre (boxplots)\n",
    "#### \n",
    "Make boxplots to visualize the distribution of `profit` based on `genre`. Based on the plot, which genre has the most profitable movies?\n",
    "\n",
    "*(6 points)*"
   ]
  },
  {
   "cell_type": "markdown",
   "id": "c0f0bb44",
   "metadata": {},
   "source": [
    "#### \n",
    "Which genre has the most variation in profit, and which one has the least?\n",
    "\n",
    "*(2 points)*"
   ]
  },
  {
   "cell_type": "markdown",
   "id": "4de7bdd6",
   "metadata": {},
   "source": [
    "### Distribution of profit based on genre (density plots)\n",
    "#### \n",
    "Make density plots of `profit` based on `genre`. Adjust the limit on the horizonal axis, so that the plots are clearly visible.\n",
    "\n",
    "*(6 points)*"
   ]
  },
  {
   "cell_type": "markdown",
   "id": "5085b8ec",
   "metadata": {},
   "source": [
    "#### \n",
    "What additional insight / trend can you seen in the above plot that you cannot see with the boxplots?\n",
    "\n",
    "*(2 points)*"
   ]
  },
  {
   "cell_type": "markdown",
   "id": "8942e3f3",
   "metadata": {},
   "source": [
    "## Insights"
   ]
  },
  {
   "cell_type": "markdown",
   "id": "3ecc940e",
   "metadata": {},
   "source": [
    "From all the visualizations above, describe the insights you get about the factors associated with the profitability of a movie. \n",
    "\n",
    "Also, elaborate on the extent to which these trends can be generalized. For example, comment on whether these trends be generalized to the current time and all the Hollywood movies? If not, is there any time period or type of movie to which these trends can be applicable?\n",
    "\n",
    "*(4+ 4 points)*"
   ]
  },
  {
   "cell_type": "markdown",
   "id": "c6f86b60",
   "metadata": {},
   "source": [
    "# Bonus question: Stock Market {-}\n",
    "\n",
    "This question is worth 30 points. However, there is no partial credit. It will be 30 or 0."
   ]
  },
  {
   "cell_type": "markdown",
   "id": "01b55a96",
   "metadata": {},
   "source": [
    "The stock market is made up of exchanges, such as the New York Stock Exchange and the Nasdaq. Stocks are listed on a specific exchange, which brings buyers and sellers together and acts as a market for the shares of those stocks. The exchange tracks the supply and demand — and directly related, the price — of each stock.\n",
    "\n",
    "A market index tracks the performance of a group of stocks, which either represents the market as a whole or a specific sector of the market, like technology or retail companies. You’re likely to hear most about the S&P 500, the Nasdaq composite and the Dow Jones Industrial Average; they are often used as proxies for the performance of the overall market.\n",
    "\n",
    "There are two types of investment stratigies: active and passive.\n",
    "\n",
    "### Active investing {-}\n",
    "An active investment strategy involves using the information acquired by expert stock analysts to actively buy and sell stocks with specific characteristics. The goal is to beat the results of the indices and general stock market with higher returns and/or lower risk.\n",
    "\n",
    "### Passive Investing {-}\n",
    "Passive investors have a buy-and-hold mentality that focuses on benefitting from the overall increase in market prices over time. One of the major benefits of passive investing is that it minimizes the mistakes investors can make when they react emotionally to every move of the stock market.\n",
    "\n",
    "The easiest way to implement a passive approach is to buy and hold an index fund that follows one of the major indices like the S&P 500, Dow Jones, or Russell 2000 (small-cap stocks). These funds pool money from multiple investors to buy the individual stocks, bonds, or securities that make up their market index. When the index changes its components, the index funds that follow it also switch up their holdings to match."
   ]
  },
  {
   "cell_type": "markdown",
   "id": "74c03525",
   "metadata": {},
   "source": [
    "### Tasks {-}\n",
    "In this exercise, we use S&P 500 index as an example to explore the gains/returns for passive invesement. \n",
    "\n",
    "### Return {-}\n",
    "\n",
    "The data is provided in a csv file, with dates roughly from 2000 to 2022. And we use the column **Close** as the **price** on a specific day. \n",
    "\n",
    "If we buy the index on $t_1$ and sell it on $t_2$, the **return** is defined as\n",
    "$$r_{t_1,t_2} = (P_{t_2}-P_{t_1})/P_{t_1}$$.\n",
    "\n",
    "Sometimes we are interested on the return on holding the index for a specific period $T$, the return is\n",
    "$$r_{t,T} = (P_{t+T}-P_{t})/P_{t}$$\n",
    "where $t$ is the date we buy the stock and $T$ is the holding period. \n",
    "Since the stock is not traded on every day, when calculating ${t+T}$ we simply skip the non-trading dates. \n",
    "\n",
    "### Risk {-}\n",
    "\n",
    "If we take the return as a random variable, we could use standard deviation as its risk. A risk-averse investor expects a stable (low volatility) return. \n",
    "\n",
    "### Sharpe Ratio {-}\n",
    "\n",
    "People like high return and low risk investment. But on the other hand, in the market high return always associates high risk (e.g. stock) and low risk means low return (e.g. treasury bonds). \n",
    "\n",
    "The Sharpe ratio compares the excess return of an investment with its risk to make a single measure:\n",
    "$$SR=(R-R_f)/\\sigma$$\n",
    "where $R$ and $\\sigma$ are the expected return and stddev for the investment and $R_f$ is the risk free rate. \n",
    "\n",
    "Risk free rate is the rate of return offered by an investment that carries zero risk. In reality there is no truly risk free rate, but we usually take something like three-month U.S. Treasury bill as a proxy as risk free rate.\n",
    "To be simple, in this exercise we just **take risk free rate as 0**. \n"
   ]
  },
  {
   "cell_type": "markdown",
   "id": "74a9ea1e",
   "metadata": {},
   "source": [
    "Read the data from sp500.csv."
   ]
  },
  {
   "cell_type": "markdown",
   "id": "8484ac93",
   "metadata": {},
   "source": [
    "## Return on investment\n",
    "\n",
    "### Impatient investor (daily)\n",
    "\n",
    "Suppose there is an investor who only holds the index for a single day (buy yesterday sell today). \n",
    "\n",
    "Based on the data, \n",
    "\n",
    "#### \n",
    "Show the histogram graph for all the possible returns. \n",
    "\n",
    "#### \n",
    "What is the expected return, risk and sharpe ratio? \n",
    "\n",
    "#### \n",
    "Is the return significantly greater than zero (a.k.a positive return) (use a threshold 0.01 for $p$-value) ?\n",
    "\n",
    "**HINT**: use `scipy.stats.ttest_1samp` to do one-sided mean test. (We ignore the fact that *T-test* requires the data are sampled from a population of normal distribution, which might not be true in this exercise) \n",
    "\n",
    "\n",
    "*(6 points)*"
   ]
  },
  {
   "cell_type": "markdown",
   "id": "3c6fe66b",
   "metadata": {},
   "source": [
    "### Patient Investor (yearly)\n",
    "\n",
    "Suppose there is an investor who will hold the index for a year (suppose there are 250 trading days in a year). \n",
    "Do the same analysis as the above:\n",
    "\n",
    "#### \n",
    "Show the histogram graph for all the possible returns. \n",
    "\n",
    "#### \n",
    "What is the expected return, risk and sharpe ratio? \n",
    "\n",
    "#### \n",
    "Is the return significantly greater than zero (a.k.a positive return) (use a threshold 0.01 for $p$-value) ?\n",
    "\n",
    "*(6 points)*"
   ]
  },
  {
   "cell_type": "markdown",
   "id": "24ab7c2d",
   "metadata": {},
   "source": [
    "### From daily to yearly \n",
    "\n",
    "Explore how the expected return/risk/shape ratio change as we increase our holding period from 1 day to 1 year(250 days).\n",
    "\n",
    "Show/answer:\n",
    "\n",
    "\n",
    "- At least how many days do you need to hold the index in order to make a significant positive return (threshold 0.01)?\n",
    "\n",
    "- How are the returns associated with the risks for different investment strategies?\n",
    "\n",
    "Make a graph as shown below:\n",
    "\n",
    "*(18 points)*"
   ]
  },
  {
   "cell_type": "code",
   "execution_count": 2,
   "id": "83af8e9c",
   "metadata": {},
   "outputs": [
    {
     "data": {
      "text/html": [
       "<img src=\"./Datasets/bonus.jpg\" width=\"675\"/>"
      ],
      "text/plain": [
       "<IPython.core.display.Image object>"
      ]
     },
     "execution_count": 2,
     "metadata": {},
     "output_type": "execute_result"
    }
   ],
   "source": [
    "#| echo: false\n",
    "\n",
    "# import image module\n",
    "from IPython.display import Image\n",
    "\n",
    "# get the image\n",
    "Image(url=\"./Datasets/bonus.jpg\",width=675)"
   ]
  }
 ],
 "metadata": {
  "kernelspec": {
   "display_name": "Python 3",
   "language": "python",
   "name": "python3"
  },
  "language_info": {
   "codemirror_mode": {
    "name": "ipython",
    "version": 3
   },
   "file_extension": ".py",
   "mimetype": "text/x-python",
   "name": "python",
   "nbconvert_exporter": "python",
   "pygments_lexer": "ipython3",
   "version": "3.8.8"
  }
 },
 "nbformat": 4,
 "nbformat_minor": 5
}
