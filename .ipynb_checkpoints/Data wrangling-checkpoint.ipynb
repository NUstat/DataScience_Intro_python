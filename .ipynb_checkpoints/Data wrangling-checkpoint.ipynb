{
 "cells": [
  {
   "cell_type": "raw",
   "id": "beb29e48",
   "metadata": {},
   "source": [
    "---\n",
    "title: \"Data wrangling\"\n",
    "format: \n",
    "  html:\n",
    "    code-fold: false\n",
    "    toc-depth: 4\n",
    "jupyter: python3\n",
    "---"
   ]
  },
  {
   "cell_type": "markdown",
   "id": "f7e64396",
   "metadata": {},
   "source": [
    "Data wrangling refers to combining, transforming, and / or re-arranging data to make it suitable for further analysis. We'll use Pandas for all data wrangling operations."
   ]
  },
  {
   "cell_type": "code",
   "execution_count": 2,
   "id": "64fa1172",
   "metadata": {},
   "outputs": [],
   "source": [
    "import pandas as pd"
   ]
  },
  {
   "cell_type": "markdown",
   "id": "a62dc209",
   "metadata": {},
   "source": [
    "## Hierarchical indexing"
   ]
  },
  {
   "cell_type": "markdown",
   "id": "9fbc0269",
   "metadata": {},
   "source": [
    "Until now we have seen only a single level of indexing in the rows and columns of a Pandas DataFrame. Hierarchical indexing refers to having multiple index levels on an axis (row / column) of a Pandas DataFrame. It helps us to work with a higher dimensional data in a lower dimensional form. "
   ]
  },
  {
   "cell_type": "markdown",
   "id": "fbd703f4",
   "metadata": {},
   "source": [
    "Let use define Pandas Series as we defined in Chapter 5:"
   ]
  },
  {
   "cell_type": "code",
   "execution_count": 43,
   "id": "e4e3afa8",
   "metadata": {},
   "outputs": [
    {
     "data": {
      "text/plain": [
       "0        these\n",
       "1          are\n",
       "2      english\n",
       "3        words\n",
       "4        estas\n",
       "5          son\n",
       "6     palabras\n",
       "7           en\n",
       "8      español\n",
       "9           ce\n",
       "10        sont\n",
       "11         des\n",
       "12     françai\n",
       "13        mots\n",
       "dtype: object"
      ]
     },
     "execution_count": 43,
     "metadata": {},
     "output_type": "execute_result"
    }
   ],
   "source": [
    "#Defining a Pandas Series\n",
    "series_example = pd.Series(['these','are','english','words','estas','son','palabras','en','español',\n",
    "                            'ce','sont','des','françai','mots'])\n",
    "series_example"
   ]
  },
  {
   "cell_type": "markdown",
   "id": "57780ad2",
   "metadata": {},
   "source": [
    "Let us use the attribute `nlevels` to find the number of levels of the row indices of this Series:"
   ]
  },
  {
   "cell_type": "code",
   "execution_count": 5,
   "id": "8d81cfe2",
   "metadata": {},
   "outputs": [
    {
     "data": {
      "text/plain": [
       "1"
      ]
     },
     "execution_count": 5,
     "metadata": {},
     "output_type": "execute_result"
    }
   ],
   "source": [
    "series_example.index.nlevels"
   ]
  },
  {
   "cell_type": "markdown",
   "id": "e424c2f2",
   "metadata": {},
   "source": [
    "The Series `series_example` has only one level of row indices."
   ]
  },
  {
   "cell_type": "markdown",
   "id": "986c42d1",
   "metadata": {},
   "source": [
    "Let us introduce another level of row indices while defining the Series:"
   ]
  },
  {
   "cell_type": "code",
   "execution_count": 45,
   "id": "f9cf1076",
   "metadata": {},
   "outputs": [
    {
     "data": {
      "text/plain": [
       "English  1       these\n",
       "         2         are\n",
       "         3     english\n",
       "         4       words\n",
       "Spanish  1       estas\n",
       "         2         son\n",
       "         3    palabras\n",
       "         4          en\n",
       "         5     español\n",
       "French   1          ce\n",
       "         2        sont\n",
       "         3         des\n",
       "         4     françai\n",
       "         5        mots\n",
       "dtype: object"
      ]
     },
     "execution_count": 45,
     "metadata": {},
     "output_type": "execute_result"
    }
   ],
   "source": [
    "#Defining a Pandas Series with multiple levels of row indices\n",
    "series_example = pd.Series(['these','are','english','words','estas','son','palabras','en','español',\n",
    "                           'ce','sont','des','françai','mots'], \n",
    "                          index=[['English']*4+['Spanish']*5+['French']*5,list(range(1,5))+list(range(1,6))*2])\n",
    "series_example"
   ]
  },
  {
   "cell_type": "markdown",
   "id": "2f0bfb77",
   "metadata": {},
   "source": [
    "In the above Series, there are two levels of row indices:"
   ]
  },
  {
   "cell_type": "code",
   "execution_count": 46,
   "id": "acb5a163",
   "metadata": {},
   "outputs": [
    {
     "data": {
      "text/plain": [
       "2"
      ]
     },
     "execution_count": 46,
     "metadata": {},
     "output_type": "execute_result"
    }
   ],
   "source": [
    "series_example.index.nlevels"
   ]
  },
  {
   "cell_type": "markdown",
   "id": "979075eb",
   "metadata": {},
   "source": [
    "The first four observations of the Series correspond to the outer row index `English`, while the last 5 rows correspond to the outer row index `Spanish`. We can use the indices at the outler level to concisely subset the Series. For example, let us subset all the observation corresponding to the outer row index `English`:"
   ]
  },
  {
   "cell_type": "code",
   "execution_count": 47,
   "id": "9e4b896a",
   "metadata": {},
   "outputs": [
    {
     "data": {
      "text/plain": [
       "1      these\n",
       "2        are\n",
       "3    english\n",
       "4      words\n",
       "dtype: object"
      ]
     },
     "execution_count": 47,
     "metadata": {},
     "output_type": "execute_result"
    }
   ],
   "source": [
    "#Subsetting data by row-index\n",
    "series_example['English']"
   ]
  },
  {
   "cell_type": "markdown",
   "id": "58dc9915",
   "metadata": {},
   "source": [
    "Just like in the case of single level indices, if we wish to subset corresponding to multiple outer-level indices, we put the indices within an additional box bracket `[]`. For example, let us subset all the observations corresponding to the row-indices `English` and `French`:"
   ]
  },
  {
   "cell_type": "code",
   "execution_count": 48,
   "id": "3286250d",
   "metadata": {},
   "outputs": [
    {
     "data": {
      "text/plain": [
       "English  1      these\n",
       "         2        are\n",
       "         3    english\n",
       "         4      words\n",
       "French   1         ce\n",
       "         2       sont\n",
       "         3        des\n",
       "         4    françai\n",
       "         5       mots\n",
       "dtype: object"
      ]
     },
     "execution_count": 48,
     "metadata": {},
     "output_type": "execute_result"
    }
   ],
   "source": [
    "#Subsetting data by multiple row-indices\n",
    "series_example[['English','French']]"
   ]
  },
  {
   "cell_type": "markdown",
   "id": "ff3d9d23",
   "metadata": {},
   "source": [
    "We can also subset data using the inner row index:"
   ]
  },
  {
   "cell_type": "code",
   "execution_count": 49,
   "id": "eecd9d0a",
   "metadata": {},
   "outputs": [
    {
     "data": {
      "text/plain": [
       "English     are\n",
       "Spanish     son\n",
       "French     sont\n",
       "dtype: object"
      ]
     },
     "execution_count": 49,
     "metadata": {},
     "output_type": "execute_result"
    }
   ],
   "source": [
    "#Subsetting data by row-index\n",
    "series_example.loc[:,2]"
   ]
  },
  {
   "cell_type": "code",
   "execution_count": 50,
   "id": "8a7d1bfc",
   "metadata": {},
   "outputs": [
    {
     "data": {
      "text/plain": [
       "English  1    these\n",
       "Spanish  1    estas\n",
       "French   1       ce\n",
       "English  2      are\n",
       "Spanish  2      son\n",
       "French   2     sont\n",
       "dtype: object"
      ]
     },
     "execution_count": 50,
     "metadata": {},
     "output_type": "execute_result"
    }
   ],
   "source": [
    "#Subsetting data by mutiple row-indices\n",
    "series_example.loc[:,[1,2]]"
   ]
  },
  {
   "cell_type": "markdown",
   "id": "e6d63e4d",
   "metadata": {},
   "source": [
    "Apart from ease in subsetting data, hierarchical indexing also plays a role in reshaping data. For example, the Pandas Series [`unstack()`](https://pandas.pydata.org/docs/reference/api/pandas.Series.unstack.html) method pivots the inner-most level of row indices to columns, thereby creating a DataFrame:"
   ]
  },
  {
   "cell_type": "code",
   "execution_count": 52,
   "id": "7ac7be5e",
   "metadata": {},
   "outputs": [
    {
     "data": {
      "text/html": [
       "<div>\n",
       "<style scoped>\n",
       "    .dataframe tbody tr th:only-of-type {\n",
       "        vertical-align: middle;\n",
       "    }\n",
       "\n",
       "    .dataframe tbody tr th {\n",
       "        vertical-align: top;\n",
       "    }\n",
       "\n",
       "    .dataframe thead th {\n",
       "        text-align: right;\n",
       "    }\n",
       "</style>\n",
       "<table border=\"1\" class=\"dataframe\">\n",
       "  <thead>\n",
       "    <tr style=\"text-align: right;\">\n",
       "      <th></th>\n",
       "      <th>1</th>\n",
       "      <th>2</th>\n",
       "      <th>3</th>\n",
       "      <th>4</th>\n",
       "      <th>5</th>\n",
       "    </tr>\n",
       "  </thead>\n",
       "  <tbody>\n",
       "    <tr>\n",
       "      <th>English</th>\n",
       "      <td>these</td>\n",
       "      <td>are</td>\n",
       "      <td>english</td>\n",
       "      <td>words</td>\n",
       "      <td>NaN</td>\n",
       "    </tr>\n",
       "    <tr>\n",
       "      <th>French</th>\n",
       "      <td>ce</td>\n",
       "      <td>sont</td>\n",
       "      <td>des</td>\n",
       "      <td>françai</td>\n",
       "      <td>mots</td>\n",
       "    </tr>\n",
       "    <tr>\n",
       "      <th>Spanish</th>\n",
       "      <td>estas</td>\n",
       "      <td>son</td>\n",
       "      <td>palabras</td>\n",
       "      <td>en</td>\n",
       "      <td>español</td>\n",
       "    </tr>\n",
       "  </tbody>\n",
       "</table>\n",
       "</div>"
      ],
      "text/plain": [
       "             1     2         3        4        5\n",
       "English  these   are   english    words      NaN\n",
       "French      ce  sont       des  françai     mots\n",
       "Spanish  estas   son  palabras       en  español"
      ]
     },
     "execution_count": 52,
     "metadata": {},
     "output_type": "execute_result"
    }
   ],
   "source": [
    "#Pivoting the innermost Series row index to column labels\n",
    "series_example_unstack = series_example.unstack()\n",
    "series_example_unstack"
   ]
  },
  {
   "cell_type": "markdown",
   "id": "444c2da8",
   "metadata": {},
   "source": [
    "Also, check out the [`unstack()`](https://pandas.pydata.org/docs/reference/api/pandas.DataFrame.unstack.html) method of the Pandas DataFrame class."
   ]
  },
  {
   "cell_type": "markdown",
   "id": "29bd12e0",
   "metadata": {},
   "source": [
    "The inverse of `unstack()` is the [`stack()`](https://pandas.pydata.org/pandas-docs/stable/reference/api/pandas.DataFrame.stack.html) method, which creates the inner-most level of row indices by pivoting the column labels of the prescribed level. Note that in this case the column labels have only one level, so we don't need to specify a level. "
   ]
  },
  {
   "cell_type": "code",
   "execution_count": 66,
   "id": "9e29c138",
   "metadata": {},
   "outputs": [
    {
     "data": {
      "text/plain": [
       "English  1       these\n",
       "         2         are\n",
       "         3     english\n",
       "         4       words\n",
       "French   1          ce\n",
       "         2        sont\n",
       "         3         des\n",
       "         4     françai\n",
       "         5        mots\n",
       "Spanish  1       estas\n",
       "         2         son\n",
       "         3    palabras\n",
       "         4          en\n",
       "         5     español\n",
       "dtype: object"
      ]
     },
     "execution_count": 66,
     "metadata": {},
     "output_type": "execute_result"
    }
   ],
   "source": [
    "series_example_unstack.stack()"
   ]
  }
 ],
 "metadata": {
  "kernelspec": {
   "display_name": "Python 3",
   "language": "python",
   "name": "python3"
  },
  "language_info": {
   "codemirror_mode": {
    "name": "ipython",
    "version": 3
   },
   "file_extension": ".py",
   "mimetype": "text/x-python",
   "name": "python",
   "nbconvert_exporter": "python",
   "pygments_lexer": "ipython3",
   "version": "3.8.8"
  }
 },
 "nbformat": 4,
 "nbformat_minor": 5
}
