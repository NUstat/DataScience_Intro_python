{
 "cells": [
  {
   "cell_type": "raw",
   "id": "beb29e48",
   "metadata": {},
   "source": [
    "---\n",
    "title: \"Data wrangling\"\n",
    "format: \n",
    "  html:\n",
    "    code-fold: false\n",
    "    toc-depth: 4\n",
    "jupyter: python3\n",
    "---"
   ]
  },
  {
   "cell_type": "markdown",
   "id": "0e0db17d",
   "metadata": {},
   "source": [
    "Data wrangling refers to combining, transforming, and re-arranging data to make it suitable for further analysis. We'll use Pandas for all data wrangling operations."
   ]
  },
  {
   "cell_type": "code",
   "execution_count": 73,
   "id": "ea081727",
   "metadata": {},
   "outputs": [],
   "source": [
    "import pandas as pd\n",
    "import numpy as np"
   ]
  },
  {
   "cell_type": "markdown",
   "id": "a62dc209",
   "metadata": {},
   "source": [
    "## Hierarchical indexing"
   ]
  },
  {
   "cell_type": "markdown",
   "id": "cdc02f28",
   "metadata": {},
   "source": [
    "Until now we have seen only a single level of indexing in the rows and columns of a Pandas DataFrame. Hierarchical indexing refers to having multiple index levels on an axis (row / column) of a Pandas DataFrame. It helps us to work with a higher dimensional data in a lower dimensional form. "
   ]
  },
  {
   "cell_type": "markdown",
   "id": "f002629a",
   "metadata": {},
   "source": [
    "### Hierarchical indexing in Pandas Series"
   ]
  },
  {
   "cell_type": "markdown",
   "id": "2342ff08",
   "metadata": {},
   "source": [
    "Let use define Pandas Series as we defined in Chapter 5:"
   ]
  },
  {
   "cell_type": "code",
   "execution_count": 43,
   "id": "8af6494e",
   "metadata": {},
   "outputs": [
    {
     "data": {
      "text/plain": [
       "0        these\n",
       "1          are\n",
       "2      english\n",
       "3        words\n",
       "4        estas\n",
       "5          son\n",
       "6     palabras\n",
       "7           en\n",
       "8      español\n",
       "9           ce\n",
       "10        sont\n",
       "11         des\n",
       "12     françai\n",
       "13        mots\n",
       "dtype: object"
      ]
     },
     "execution_count": 43,
     "metadata": {},
     "output_type": "execute_result"
    }
   ],
   "source": [
    "#Defining a Pandas Series\n",
    "series_example = pd.Series(['these','are','english','words','estas','son','palabras','en','español',\n",
    "                            'ce','sont','des','françai','mots'])\n",
    "series_example"
   ]
  },
  {
   "cell_type": "markdown",
   "id": "0a66b10a",
   "metadata": {},
   "source": [
    "Let us use the attribute `nlevels` to find the number of levels of the row indices of this Series:"
   ]
  },
  {
   "cell_type": "code",
   "execution_count": 5,
   "id": "d676ff0a",
   "metadata": {},
   "outputs": [
    {
     "data": {
      "text/plain": [
       "1"
      ]
     },
     "execution_count": 5,
     "metadata": {},
     "output_type": "execute_result"
    }
   ],
   "source": [
    "series_example.index.nlevels"
   ]
  },
  {
   "cell_type": "markdown",
   "id": "c10ac83a",
   "metadata": {},
   "source": [
    "The Series `series_example` has only one level of row indices."
   ]
  },
  {
   "cell_type": "markdown",
   "id": "73037ae3",
   "metadata": {},
   "source": [
    "Let us introduce another level of row indices while defining the Series:"
   ]
  },
  {
   "cell_type": "code",
   "execution_count": 45,
   "id": "7674634b",
   "metadata": {},
   "outputs": [
    {
     "data": {
      "text/plain": [
       "English  1       these\n",
       "         2         are\n",
       "         3     english\n",
       "         4       words\n",
       "Spanish  1       estas\n",
       "         2         son\n",
       "         3    palabras\n",
       "         4          en\n",
       "         5     español\n",
       "French   1          ce\n",
       "         2        sont\n",
       "         3         des\n",
       "         4     françai\n",
       "         5        mots\n",
       "dtype: object"
      ]
     },
     "execution_count": 45,
     "metadata": {},
     "output_type": "execute_result"
    }
   ],
   "source": [
    "#Defining a Pandas Series with multiple levels of row indices\n",
    "series_example = pd.Series(['these','are','english','words','estas','son','palabras','en','español',\n",
    "                           'ce','sont','des','françai','mots'], \n",
    "                          index=[['English']*4+['Spanish']*5+['French']*5,list(range(1,5))+list(range(1,6))*2])\n",
    "series_example"
   ]
  },
  {
   "cell_type": "markdown",
   "id": "8bd0c1b8",
   "metadata": {},
   "source": [
    "In the above Series, there are two levels of row indices:"
   ]
  },
  {
   "cell_type": "code",
   "execution_count": 46,
   "id": "878a3f63",
   "metadata": {},
   "outputs": [
    {
     "data": {
      "text/plain": [
       "2"
      ]
     },
     "execution_count": 46,
     "metadata": {},
     "output_type": "execute_result"
    }
   ],
   "source": [
    "series_example.index.nlevels"
   ]
  },
  {
   "cell_type": "markdown",
   "id": "58410b1d",
   "metadata": {},
   "source": [
    "### Hierarchical indexing in Pandas DataFrame"
   ]
  },
  {
   "cell_type": "markdown",
   "id": "2b97275c",
   "metadata": {},
   "source": [
    "In a Pandas DataFrame, both the row and the columns can have hierarchical indexing. For example, consider the DataFrame below:"
   ]
  },
  {
   "cell_type": "code",
   "execution_count": 134,
   "id": "9828cf41",
   "metadata": {},
   "outputs": [
    {
     "data": {
      "text/html": [
       "<div>\n",
       "<style scoped>\n",
       "    .dataframe tbody tr th:only-of-type {\n",
       "        vertical-align: middle;\n",
       "    }\n",
       "\n",
       "    .dataframe tbody tr th {\n",
       "        vertical-align: top;\n",
       "    }\n",
       "\n",
       "    .dataframe thead tr th {\n",
       "        text-align: left;\n",
       "    }\n",
       "</style>\n",
       "<table border=\"1\" class=\"dataframe\">\n",
       "  <thead>\n",
       "    <tr>\n",
       "      <th></th>\n",
       "      <th></th>\n",
       "      <th colspan=\"2\" halign=\"left\">Illinois</th>\n",
       "      <th colspan=\"2\" halign=\"left\">California</th>\n",
       "    </tr>\n",
       "    <tr>\n",
       "      <th></th>\n",
       "      <th></th>\n",
       "      <th>Evanston</th>\n",
       "      <th>Chicago</th>\n",
       "      <th>San Francisco</th>\n",
       "      <th>Los Angeles</th>\n",
       "    </tr>\n",
       "  </thead>\n",
       "  <tbody>\n",
       "    <tr>\n",
       "      <th rowspan=\"2\" valign=\"top\">Demographics</th>\n",
       "      <th>Population</th>\n",
       "      <td>771517.0</td>\n",
       "      <td>2697000.0</td>\n",
       "      <td>815201.0</td>\n",
       "      <td>3849000.0</td>\n",
       "    </tr>\n",
       "    <tr>\n",
       "      <th>Unemployement (%)</th>\n",
       "      <td>4.2</td>\n",
       "      <td>5.6</td>\n",
       "      <td>2.8</td>\n",
       "      <td>4.6</td>\n",
       "    </tr>\n",
       "    <tr>\n",
       "      <th rowspan=\"2\" valign=\"top\">Geography</th>\n",
       "      <th>Area (mile-sq)</th>\n",
       "      <td>7.8</td>\n",
       "      <td>234.5</td>\n",
       "      <td>46.9</td>\n",
       "      <td>502.0</td>\n",
       "    </tr>\n",
       "    <tr>\n",
       "      <th>Elevation (feet)</th>\n",
       "      <td>6749.0</td>\n",
       "      <td>597.0</td>\n",
       "      <td>52.0</td>\n",
       "      <td>305.0</td>\n",
       "    </tr>\n",
       "  </tbody>\n",
       "</table>\n",
       "</div>"
      ],
      "text/plain": [
       "                                Illinois               California            \n",
       "                                Evanston    Chicago San Francisco Los Angeles\n",
       "Demographics Population         771517.0  2697000.0      815201.0   3849000.0\n",
       "             Unemployement (%)       4.2        5.6           2.8         4.6\n",
       "Geography    Area (mile-sq)          7.8      234.5          46.9       502.0\n",
       "             Elevation (feet)     6749.0      597.0          52.0       305.0"
      ]
     },
     "execution_count": 134,
     "metadata": {},
     "output_type": "execute_result"
    }
   ],
   "source": [
    "data=np.array([[771517,2697000,815201,3849000],[4.2,5.6,2.8,4.6],\n",
    "             [7.8,234.5,46.9,502],[6749, 597, 52, 305]])\n",
    "df_example = pd.DataFrame(data,index = [['Demographics']*2+['Geography']*2,\n",
    "                                      ['Population','Unemployement (%)','Area (mile-sq)','Elevation (feet)']],\n",
    "                    columns = [['Illinois']*2+['California']*2,['Evanston','Chicago','San Francisco','Los Angeles']])\n",
    "df_example"
   ]
  },
  {
   "cell_type": "markdown",
   "id": "c18ca630",
   "metadata": {},
   "source": [
    "In the above DataFrame, both the rows and columns have 2 levels of indexing. The number of levels of column indices can be found using the attribute `nlevels`:"
   ]
  },
  {
   "cell_type": "code",
   "execution_count": 135,
   "id": "67bd60f0",
   "metadata": {},
   "outputs": [
    {
     "data": {
      "text/plain": [
       "2"
      ]
     },
     "execution_count": 135,
     "metadata": {},
     "output_type": "execute_result"
    }
   ],
   "source": [
    "df_example.columns.nlevels"
   ]
  },
  {
   "cell_type": "markdown",
   "id": "7e527272",
   "metadata": {},
   "source": [
    "The `columns` attribute will now have a *MultiIndex* datatype in contrast to the *Index* datatype with single level of indexing. The same holds for row indices."
   ]
  },
  {
   "cell_type": "code",
   "execution_count": 141,
   "id": "498287a9",
   "metadata": {},
   "outputs": [
    {
     "data": {
      "text/plain": [
       "pandas.core.indexes.multi.MultiIndex"
      ]
     },
     "execution_count": 141,
     "metadata": {},
     "output_type": "execute_result"
    }
   ],
   "source": [
    "type(df_example.columns)"
   ]
  },
  {
   "cell_type": "code",
   "execution_count": 140,
   "id": "027e6c2d",
   "metadata": {},
   "outputs": [
    {
     "data": {
      "text/plain": [
       "MultiIndex([(  'Illinois',      'Evanston'),\n",
       "            (  'Illinois',       'Chicago'),\n",
       "            ('California', 'San Francisco'),\n",
       "            ('California',   'Los Angeles')],\n",
       "           )"
      ]
     },
     "execution_count": 140,
     "metadata": {},
     "output_type": "execute_result"
    }
   ],
   "source": [
    "df_example.columns"
   ]
  },
  {
   "cell_type": "markdown",
   "id": "81e2cca0",
   "metadata": {},
   "source": [
    "The hierarchical levels can have names. Let us assign names to the each level of the row and column labels:"
   ]
  },
  {
   "cell_type": "code",
   "execution_count": 173,
   "id": "6445643b",
   "metadata": {},
   "outputs": [
    {
     "data": {
      "text/html": [
       "<div>\n",
       "<style scoped>\n",
       "    .dataframe tbody tr th:only-of-type {\n",
       "        vertical-align: middle;\n",
       "    }\n",
       "\n",
       "    .dataframe tbody tr th {\n",
       "        vertical-align: top;\n",
       "    }\n",
       "\n",
       "    .dataframe thead tr th {\n",
       "        text-align: left;\n",
       "    }\n",
       "\n",
       "    .dataframe thead tr:last-of-type th {\n",
       "        text-align: right;\n",
       "    }\n",
       "</style>\n",
       "<table border=\"1\" class=\"dataframe\">\n",
       "  <thead>\n",
       "    <tr>\n",
       "      <th></th>\n",
       "      <th>State</th>\n",
       "      <th colspan=\"2\" halign=\"left\">Illinois</th>\n",
       "      <th colspan=\"2\" halign=\"left\">California</th>\n",
       "    </tr>\n",
       "    <tr>\n",
       "      <th></th>\n",
       "      <th>City</th>\n",
       "      <th>Evanston</th>\n",
       "      <th>Chicago</th>\n",
       "      <th>San Francisco</th>\n",
       "      <th>Los Angeles</th>\n",
       "    </tr>\n",
       "    <tr>\n",
       "      <th>Information type</th>\n",
       "      <th>Statistic</th>\n",
       "      <th></th>\n",
       "      <th></th>\n",
       "      <th></th>\n",
       "      <th></th>\n",
       "    </tr>\n",
       "  </thead>\n",
       "  <tbody>\n",
       "    <tr>\n",
       "      <th rowspan=\"2\" valign=\"top\">Demographics</th>\n",
       "      <th>Population</th>\n",
       "      <td>771517.0</td>\n",
       "      <td>2697000.0</td>\n",
       "      <td>815201.0</td>\n",
       "      <td>3849000.0</td>\n",
       "    </tr>\n",
       "    <tr>\n",
       "      <th>Unemployement (%)</th>\n",
       "      <td>4.2</td>\n",
       "      <td>5.6</td>\n",
       "      <td>2.8</td>\n",
       "      <td>4.6</td>\n",
       "    </tr>\n",
       "    <tr>\n",
       "      <th rowspan=\"2\" valign=\"top\">Geography</th>\n",
       "      <th>Area (mile-sq)</th>\n",
       "      <td>7.8</td>\n",
       "      <td>234.5</td>\n",
       "      <td>46.9</td>\n",
       "      <td>502.0</td>\n",
       "    </tr>\n",
       "    <tr>\n",
       "      <th>Elevation (feet)</th>\n",
       "      <td>6749.0</td>\n",
       "      <td>597.0</td>\n",
       "      <td>52.0</td>\n",
       "      <td>305.0</td>\n",
       "    </tr>\n",
       "  </tbody>\n",
       "</table>\n",
       "</div>"
      ],
      "text/plain": [
       "State                               Illinois               California  \\\n",
       "City                                Evanston    Chicago San Francisco   \n",
       "Information type Statistic                                              \n",
       "Demographics     Population         771517.0  2697000.0      815201.0   \n",
       "                 Unemployement (%)       4.2        5.6           2.8   \n",
       "Geography        Area (mile-sq)          7.8      234.5          46.9   \n",
       "                 Elevation (feet)     6749.0      597.0          52.0   \n",
       "\n",
       "State                                           \n",
       "City                               Los Angeles  \n",
       "Information type Statistic                      \n",
       "Demographics     Population          3849000.0  \n",
       "                 Unemployement (%)         4.6  \n",
       "Geography        Area (mile-sq)          502.0  \n",
       "                 Elevation (feet)        305.0  "
      ]
     },
     "execution_count": 173,
     "metadata": {},
     "output_type": "execute_result"
    }
   ],
   "source": [
    "#Naming the row indices levels\n",
    "df_example.index.names=['Information type', 'Statistic']\n",
    "\n",
    "#Naming the column indices levels\n",
    "df_example.columns.names=['State', 'City']\n",
    "\n",
    "#Viewing the DataFrame\n",
    "df_example"
   ]
  },
  {
   "cell_type": "markdown",
   "id": "c1f57408",
   "metadata": {},
   "source": [
    "Observe that the names of the row and column labels appear when we view the DataFrame."
   ]
  },
  {
   "cell_type": "markdown",
   "id": "7de501e8",
   "metadata": {},
   "source": [
    "#### [`get_level_values()`](https://pandas.pydata.org/docs/reference/api/pandas.Index.get_level_values.html)\n",
    "\n",
    "The names of the column levels can be obained using the function `get_level_values()`. The outer-most level corresponds to the *level = 0*, and it increses as we go to the inner levels."
   ]
  },
  {
   "cell_type": "code",
   "execution_count": 217,
   "id": "3c61a458",
   "metadata": {},
   "outputs": [
    {
     "data": {
      "text/plain": [
       "Index(['Illinois', 'Illinois', 'California', 'California'], dtype='object', name='State')"
      ]
     },
     "execution_count": 217,
     "metadata": {},
     "output_type": "execute_result"
    }
   ],
   "source": [
    "#Column levels at level 0 (the outer level)\n",
    "df_example.columns.get_level_values(0)"
   ]
  },
  {
   "cell_type": "code",
   "execution_count": 218,
   "id": "9ec716cc",
   "metadata": {},
   "outputs": [
    {
     "data": {
      "text/plain": [
       "Index(['Evanston', 'Chicago', 'San Francisco', 'Los Angeles'], dtype='object', name='City')"
      ]
     },
     "execution_count": 218,
     "metadata": {},
     "output_type": "execute_result"
    }
   ],
   "source": [
    "#Column levels at level 1 (the inner level)\n",
    "df_example.columns.get_level_values(1)"
   ]
  },
  {
   "cell_type": "markdown",
   "id": "86354221",
   "metadata": {},
   "source": [
    "### Subsetting data"
   ]
  },
  {
   "cell_type": "markdown",
   "id": "97984ad7",
   "metadata": {},
   "source": [
    "We can use the indices at the outer levels to concisely subset a Series / DataFrame."
   ]
  },
  {
   "cell_type": "markdown",
   "id": "7df5cee6",
   "metadata": {},
   "source": [
    "The first four observations of the Series `series_example` correspond to the outer row index `English`, while the last 5 rows correspond to the outer row index `Spanish`. Let us subset all the observation corresponding to the outer row index `English`:"
   ]
  },
  {
   "cell_type": "code",
   "execution_count": 47,
   "id": "b3636387",
   "metadata": {},
   "outputs": [
    {
     "data": {
      "text/plain": [
       "1      these\n",
       "2        are\n",
       "3    english\n",
       "4      words\n",
       "dtype: object"
      ]
     },
     "execution_count": 47,
     "metadata": {},
     "output_type": "execute_result"
    }
   ],
   "source": [
    "#Subsetting data by row-index\n",
    "series_example['English']"
   ]
  },
  {
   "cell_type": "markdown",
   "id": "25361ee1",
   "metadata": {},
   "source": [
    "Just like in the case of single level indices, if we wish to subset corresponding to multiple outer-level indices, we put the indices within an additional box bracket `[]`. For example, let us subset all the observations corresponding to the row-indices `English` and `French`:"
   ]
  },
  {
   "cell_type": "code",
   "execution_count": 48,
   "id": "6295d5de",
   "metadata": {},
   "outputs": [
    {
     "data": {
      "text/plain": [
       "English  1      these\n",
       "         2        are\n",
       "         3    english\n",
       "         4      words\n",
       "French   1         ce\n",
       "         2       sont\n",
       "         3        des\n",
       "         4    françai\n",
       "         5       mots\n",
       "dtype: object"
      ]
     },
     "execution_count": 48,
     "metadata": {},
     "output_type": "execute_result"
    }
   ],
   "source": [
    "#Subsetting data by multiple row-indices\n",
    "series_example[['English','French']]"
   ]
  },
  {
   "cell_type": "markdown",
   "id": "f52e41b2",
   "metadata": {},
   "source": [
    "We can also subset data using the inner row index. However, we will need to put a `:` sign to indicate that the row label at the inner level is being used."
   ]
  },
  {
   "cell_type": "code",
   "execution_count": 161,
   "id": "0ee964fd",
   "metadata": {},
   "outputs": [
    {
     "data": {
      "text/plain": [
       "English     are\n",
       "Spanish     son\n",
       "French     sont\n",
       "dtype: object"
      ]
     },
     "execution_count": 161,
     "metadata": {},
     "output_type": "execute_result"
    }
   ],
   "source": [
    "#Subsetting data by row-index\n",
    "series_example[:,2]"
   ]
  },
  {
   "cell_type": "code",
   "execution_count": 50,
   "id": "9b791090",
   "metadata": {},
   "outputs": [
    {
     "data": {
      "text/plain": [
       "English  1    these\n",
       "Spanish  1    estas\n",
       "French   1       ce\n",
       "English  2      are\n",
       "Spanish  2      son\n",
       "French   2     sont\n",
       "dtype: object"
      ]
     },
     "execution_count": 50,
     "metadata": {},
     "output_type": "execute_result"
    }
   ],
   "source": [
    "#Subsetting data by mutiple row-indices\n",
    "series_example.loc[:,[1,2]]"
   ]
  },
  {
   "cell_type": "markdown",
   "id": "11375b40",
   "metadata": {},
   "source": [
    "As in Series, we can concisely subset rows / columns in a DataFrame based on the index at the outer levels."
   ]
  },
  {
   "cell_type": "code",
   "execution_count": 170,
   "id": "ecaccf24",
   "metadata": {},
   "outputs": [
    {
     "data": {
      "text/html": [
       "<div>\n",
       "<style scoped>\n",
       "    .dataframe tbody tr th:only-of-type {\n",
       "        vertical-align: middle;\n",
       "    }\n",
       "\n",
       "    .dataframe tbody tr th {\n",
       "        vertical-align: top;\n",
       "    }\n",
       "\n",
       "    .dataframe thead th {\n",
       "        text-align: right;\n",
       "    }\n",
       "</style>\n",
       "<table border=\"1\" class=\"dataframe\">\n",
       "  <thead>\n",
       "    <tr style=\"text-align: right;\">\n",
       "      <th></th>\n",
       "      <th></th>\n",
       "      <th>Evanston</th>\n",
       "      <th>Chicago</th>\n",
       "    </tr>\n",
       "  </thead>\n",
       "  <tbody>\n",
       "    <tr>\n",
       "      <th rowspan=\"2\" valign=\"top\">Demographics</th>\n",
       "      <th>Population</th>\n",
       "      <td>771517.0</td>\n",
       "      <td>2697000.0</td>\n",
       "    </tr>\n",
       "    <tr>\n",
       "      <th>Unemployement (%)</th>\n",
       "      <td>4.2</td>\n",
       "      <td>5.6</td>\n",
       "    </tr>\n",
       "    <tr>\n",
       "      <th rowspan=\"2\" valign=\"top\">Geography</th>\n",
       "      <th>Area (mile-sq)</th>\n",
       "      <td>7.8</td>\n",
       "      <td>234.5</td>\n",
       "    </tr>\n",
       "    <tr>\n",
       "      <th>Elevation (feet)</th>\n",
       "      <td>6749.0</td>\n",
       "      <td>597.0</td>\n",
       "    </tr>\n",
       "  </tbody>\n",
       "</table>\n",
       "</div>"
      ],
      "text/plain": [
       "                                Evanston    Chicago\n",
       "Demographics Population         771517.0  2697000.0\n",
       "             Unemployement (%)       4.2        5.6\n",
       "Geography    Area (mile-sq)          7.8      234.5\n",
       "             Elevation (feet)     6749.0      597.0"
      ]
     },
     "execution_count": 170,
     "metadata": {},
     "output_type": "execute_result"
    }
   ],
   "source": [
    "df_example['Illinois']"
   ]
  },
  {
   "cell_type": "markdown",
   "id": "5fe83574",
   "metadata": {},
   "source": [
    "Note that the dataype of each column name is a tuple. For example, let us find the datatype of the $1^{st}$ column name:"
   ]
  },
  {
   "cell_type": "code",
   "execution_count": 223,
   "id": "fbbe02d5",
   "metadata": {},
   "outputs": [
    {
     "data": {
      "text/plain": [
       "('Illinois', 'Evanston')"
      ]
     },
     "execution_count": 223,
     "metadata": {},
     "output_type": "execute_result"
    }
   ],
   "source": [
    "#First column name\n",
    "df_example.columns[0]"
   ]
  },
  {
   "cell_type": "code",
   "execution_count": 220,
   "id": "a2dc067e",
   "metadata": {},
   "outputs": [
    {
     "data": {
      "text/plain": [
       "tuple"
      ]
     },
     "execution_count": 220,
     "metadata": {},
     "output_type": "execute_result"
    }
   ],
   "source": [
    "#Datatype of first column name\n",
    "type(df_example.columns[0])"
   ]
  },
  {
   "cell_type": "markdown",
   "id": "6e119fe8",
   "metadata": {},
   "source": [
    "Thus columns at the inner levels can be accessed by specifying the name as a tuple. For example, let us subset the column `Evanston`:"
   ]
  },
  {
   "cell_type": "code",
   "execution_count": 225,
   "id": "d14b81e6",
   "metadata": {},
   "outputs": [
    {
     "data": {
      "text/plain": [
       "Information type  Statistic        \n",
       "Demographics      Population           771517.0\n",
       "                  Unemployement (%)         4.2\n",
       "Geography         Area (mile-sq)            7.8\n",
       "                  Elevation (feet)       6749.0\n",
       "Name: (Illinois, Evanston), dtype: float64"
      ]
     },
     "execution_count": 225,
     "metadata": {},
     "output_type": "execute_result"
    }
   ],
   "source": [
    "#Subsetting the column 'Evanston'\n",
    "df_example[('Illinois','Evanston')]"
   ]
  },
  {
   "cell_type": "code",
   "execution_count": 254,
   "id": "1a86bf31",
   "metadata": {},
   "outputs": [
    {
     "data": {
      "text/html": [
       "<div>\n",
       "<style scoped>\n",
       "    .dataframe tbody tr th:only-of-type {\n",
       "        vertical-align: middle;\n",
       "    }\n",
       "\n",
       "    .dataframe tbody tr th {\n",
       "        vertical-align: top;\n",
       "    }\n",
       "\n",
       "    .dataframe thead tr th {\n",
       "        text-align: left;\n",
       "    }\n",
       "\n",
       "    .dataframe thead tr:last-of-type th {\n",
       "        text-align: right;\n",
       "    }\n",
       "</style>\n",
       "<table border=\"1\" class=\"dataframe\">\n",
       "  <thead>\n",
       "    <tr>\n",
       "      <th></th>\n",
       "      <th>State</th>\n",
       "      <th colspan=\"2\" halign=\"left\">Illinois</th>\n",
       "    </tr>\n",
       "    <tr>\n",
       "      <th></th>\n",
       "      <th>City</th>\n",
       "      <th>Evanston</th>\n",
       "      <th>Chicago</th>\n",
       "    </tr>\n",
       "    <tr>\n",
       "      <th>Information type</th>\n",
       "      <th>Statistic</th>\n",
       "      <th></th>\n",
       "      <th></th>\n",
       "    </tr>\n",
       "  </thead>\n",
       "  <tbody>\n",
       "    <tr>\n",
       "      <th rowspan=\"2\" valign=\"top\">Demographics</th>\n",
       "      <th>Population</th>\n",
       "      <td>771517.0</td>\n",
       "      <td>2697000.0</td>\n",
       "    </tr>\n",
       "    <tr>\n",
       "      <th>Unemployement (%)</th>\n",
       "      <td>4.2</td>\n",
       "      <td>5.6</td>\n",
       "    </tr>\n",
       "    <tr>\n",
       "      <th rowspan=\"2\" valign=\"top\">Geography</th>\n",
       "      <th>Area (mile-sq)</th>\n",
       "      <td>7.8</td>\n",
       "      <td>234.5</td>\n",
       "    </tr>\n",
       "    <tr>\n",
       "      <th>Elevation (feet)</th>\n",
       "      <td>6749.0</td>\n",
       "      <td>597.0</td>\n",
       "    </tr>\n",
       "  </tbody>\n",
       "</table>\n",
       "</div>"
      ],
      "text/plain": [
       "State                               Illinois           \n",
       "City                                Evanston    Chicago\n",
       "Information type Statistic                             \n",
       "Demographics     Population         771517.0  2697000.0\n",
       "                 Unemployement (%)       4.2        5.6\n",
       "Geography        Area (mile-sq)          7.8      234.5\n",
       "                 Elevation (feet)     6749.0      597.0"
      ]
     },
     "execution_count": 254,
     "metadata": {},
     "output_type": "execute_result"
    }
   ],
   "source": [
    "#Subsetting the columns 'Evanston' and 'Chicago' of the outer column level 'Illinois'\n",
    "df_example.loc[:,('Illinois',['Evanston','Chicago'])]"
   ]
  },
  {
   "cell_type": "markdown",
   "id": "599ab207",
   "metadata": {},
   "source": [
    "### Practice exercise 1"
   ]
  },
  {
   "cell_type": "markdown",
   "id": "e48eefa6",
   "metadata": {},
   "source": [
    "Read the table consisting of GDP per capita of countries from the webpage: https://en.wikipedia.org/wiki/List_of_countries_by_GDP_(nominal)_per_capita . \n",
    "\n",
    "To only read the relevant table, read the tables that contain the word *'Country'*. \n",
    "\n",
    "#### \n",
    "How many levels of indexing are there in the rows and columns?"
   ]
  },
  {
   "cell_type": "code",
   "execution_count": null,
   "id": "431ed1b3",
   "metadata": {},
   "outputs": [],
   "source": [
    "#| echo: false\n",
    "#| eval: false\n",
    "\n",
    "dfs = pd.read_html('https://en.wikipedia.org/wiki/List_of_countries_by_GDP_(nominal)_per_capita', match = 'Country')\n",
    "gdp_per_capita = dfs[0]\n",
    "gdp_per_capita"
   ]
  },
  {
   "cell_type": "markdown",
   "id": "e796366a",
   "metadata": {},
   "source": [
    "#### \n",
    "Subset a DataFrame that select the country, and the United Nations estimates of GDP per capita with the corresponding year."
   ]
  },
  {
   "cell_type": "code",
   "execution_count": null,
   "id": "2e7710f5",
   "metadata": {},
   "outputs": [],
   "source": [
    "#| echo: false\n",
    "#| eval: false\n",
    "gdp_per_capita.loc[:,['Country/Territory','United Nations[6]']]"
   ]
  },
  {
   "cell_type": "markdown",
   "id": "4c80467f",
   "metadata": {},
   "source": [
    "#### \n",
    "Subset a DataFrame that select only the World Bank and United Nations estimates of GDP per capita without the corresponding year or country."
   ]
  },
  {
   "cell_type": "code",
   "execution_count": null,
   "id": "727c01e7",
   "metadata": {},
   "outputs": [],
   "source": [
    "#| echo: false\n",
    "#| eval: false\n",
    "gdp_per_capita.loc[:,(['World Bank[5]','United Nations[6]'],'Estimate')]"
   ]
  },
  {
   "cell_type": "markdown",
   "id": "69d0008b",
   "metadata": {},
   "source": [
    "#### \n",
    "Subset a DataFrame that select the country and only the World Bank and United Nations estimates of GDP per capita without the corresponding year or country."
   ]
  },
  {
   "cell_type": "code",
   "execution_count": null,
   "id": "d28632bb",
   "metadata": {},
   "outputs": [],
   "source": [
    "#| echo: false\n",
    "#| eval: false\n",
    "gdp_per_capita.loc[:,[('Country/Territory','Country/Territory'),('United Nations[6]','Estimate'),('World Bank[5]','Estimate')]]"
   ]
  },
  {
   "cell_type": "markdown",
   "id": "f06deddc",
   "metadata": {},
   "source": [
    "#### \n",
    "Drop all columns consisting of years. Use the `level` argument of the `drop()` method."
   ]
  },
  {
   "cell_type": "code",
   "execution_count": null,
   "id": "1c4acb26",
   "metadata": {},
   "outputs": [],
   "source": [
    "#| echo: false\n",
    "#| eval: false\n",
    "gdp_per_capita = gdp_per_capita.drop(columns='Year',level=1)\n",
    "gdp_per_capita"
   ]
  },
  {
   "cell_type": "markdown",
   "id": "55a47ec7",
   "metadata": {},
   "source": [
    "#### \n",
    "In the dataset obtained above, drop the outer level of the column labels. Use the [`droplevel()`](https://pandas.pydata.org/docs/reference/api/pandas.DataFrame.droplevel.html) method."
   ]
  },
  {
   "cell_type": "code",
   "execution_count": null,
   "id": "003913fb",
   "metadata": {},
   "outputs": [],
   "source": [
    "#| echo: false\n",
    "#| eval: false\n",
    "gdp_per_capita.droplevel(1,axis=1)"
   ]
  },
  {
   "cell_type": "markdown",
   "id": "29025e00",
   "metadata": {},
   "source": [
    "### Practice exercise 2"
   ]
  },
  {
   "cell_type": "markdown",
   "id": "2b392951",
   "metadata": {},
   "source": [
    "Let us try to find the areas where NU students lack in diversity. Read *survey_data_clean.csv*. Use hierarchical indexing to classify the columns as follows:"
   ]
  },
  {
   "cell_type": "markdown",
   "id": "43b457ec",
   "metadata": {},
   "source": [
    "Classify the following variables as *lifestyle*:"
   ]
  },
  {
   "cell_type": "code",
   "execution_count": 213,
   "id": "9e8e3582",
   "metadata": {},
   "outputs": [],
   "source": [
    "lifestyle = ['fav_alcohol', 'parties_per_month', 'smoke', 'weed','streaming_platforms', 'minutes_ex_per_week',\n",
    "       'sleep_hours_per_day', 'internet_hours_per_day', 'procrastinator', 'num_clubs','student_athlete','social_media']"
   ]
  },
  {
   "cell_type": "markdown",
   "id": "de9cfda9",
   "metadata": {},
   "source": [
    "Classify the following variables as *personality*:"
   ]
  },
  {
   "cell_type": "code",
   "execution_count": null,
   "id": "9a6109cc",
   "metadata": {},
   "outputs": [],
   "source": [
    "personality = ['introvert_extrovert', 'left_right_brained', 'personality_type', \n",
    "       'num_insta_followers', 'fav_sport','learning_style','dominant_hand']"
   ]
  },
  {
   "cell_type": "markdown",
   "id": "6395d837",
   "metadata": {},
   "source": [
    "Classify the following variables as *opinion*:"
   ]
  },
  {
   "cell_type": "code",
   "execution_count": null,
   "id": "e7969c2f",
   "metadata": {},
   "outputs": [],
   "source": [
    "opinion = ['love_first_sight', 'expected_marriage_age',  'expected_starting_salary', 'how_happy', \n",
    "       'fav_number', 'fav_letter', 'fav_season',   'political_affliation', 'cant_change_math_ability',\n",
    "       'can_change_math_ability', 'math_is_genetic', 'much_effort_is_lack_of_talent']"
   ]
  },
  {
   "cell_type": "markdown",
   "id": "c84372e7",
   "metadata": {},
   "source": [
    "Classify the following variables as *academic information*:"
   ]
  },
  {
   "cell_type": "code",
   "execution_count": null,
   "id": "ce79bd2f",
   "metadata": {},
   "outputs": [],
   "source": [
    "academic_info = ['major', 'num_majors_minors',\n",
    "       'high_school_GPA', 'NU_GPA', 'school_year','AP_stats', 'used_python_before']"
   ]
  },
  {
   "cell_type": "markdown",
   "id": "8afd056a",
   "metadata": {},
   "source": [
    "Classify the following variables as *demographics*:"
   ]
  },
  {
   "cell_type": "code",
   "execution_count": 214,
   "id": "e201c773",
   "metadata": {},
   "outputs": [],
   "source": [
    "demographics = [ 'only_child','birth_month', \n",
    "       'living_location_on_campus', 'age', 'height', 'height_father',\n",
    "       'height_mother',  'childhood_in_US', 'gender', 'region_of_residence']"
   ]
  },
  {
   "cell_type": "markdown",
   "id": "252c916e",
   "metadata": {},
   "source": [
    "Write a function that finds the number of variables having outliers in a dataset. Apply the function on each of the 5 categories of variables in the dataset. Our hypothesis is that the category that has the maximum number of variables with outliers has the least amount of diversity."
   ]
  },
  {
   "cell_type": "markdown",
   "id": "c971a9e0",
   "metadata": {},
   "source": [
    "### Reshaping data"
   ]
  },
  {
   "cell_type": "markdown",
   "id": "5719ca34",
   "metadata": {},
   "source": [
    "Apart from ease in subsetting data, hierarchical indexing also plays a role in reshaping data."
   ]
  },
  {
   "cell_type": "markdown",
   "id": "4918c47f",
   "metadata": {},
   "source": [
    "#### [`unstack()`](https://pandas.pydata.org/docs/reference/api/pandas.Series.unstack.html) (Pandas Series method)\n",
    "The Pandas Series method `unstack()` pivots the desired level of row indices to columns, thereby creating a DataFrame. By default, the inner-most level of the row labels is pivoed."
   ]
  },
  {
   "cell_type": "code",
   "execution_count": 52,
   "id": "ef55ac13",
   "metadata": {},
   "outputs": [
    {
     "data": {
      "text/html": [
       "<div>\n",
       "<style scoped>\n",
       "    .dataframe tbody tr th:only-of-type {\n",
       "        vertical-align: middle;\n",
       "    }\n",
       "\n",
       "    .dataframe tbody tr th {\n",
       "        vertical-align: top;\n",
       "    }\n",
       "\n",
       "    .dataframe thead th {\n",
       "        text-align: right;\n",
       "    }\n",
       "</style>\n",
       "<table border=\"1\" class=\"dataframe\">\n",
       "  <thead>\n",
       "    <tr style=\"text-align: right;\">\n",
       "      <th></th>\n",
       "      <th>1</th>\n",
       "      <th>2</th>\n",
       "      <th>3</th>\n",
       "      <th>4</th>\n",
       "      <th>5</th>\n",
       "    </tr>\n",
       "  </thead>\n",
       "  <tbody>\n",
       "    <tr>\n",
       "      <th>English</th>\n",
       "      <td>these</td>\n",
       "      <td>are</td>\n",
       "      <td>english</td>\n",
       "      <td>words</td>\n",
       "      <td>NaN</td>\n",
       "    </tr>\n",
       "    <tr>\n",
       "      <th>French</th>\n",
       "      <td>ce</td>\n",
       "      <td>sont</td>\n",
       "      <td>des</td>\n",
       "      <td>françai</td>\n",
       "      <td>mots</td>\n",
       "    </tr>\n",
       "    <tr>\n",
       "      <th>Spanish</th>\n",
       "      <td>estas</td>\n",
       "      <td>son</td>\n",
       "      <td>palabras</td>\n",
       "      <td>en</td>\n",
       "      <td>español</td>\n",
       "    </tr>\n",
       "  </tbody>\n",
       "</table>\n",
       "</div>"
      ],
      "text/plain": [
       "             1     2         3        4        5\n",
       "English  these   are   english    words      NaN\n",
       "French      ce  sont       des  françai     mots\n",
       "Spanish  estas   son  palabras       en  español"
      ]
     },
     "execution_count": 52,
     "metadata": {},
     "output_type": "execute_result"
    }
   ],
   "source": [
    "#Pivoting the inner-most Series row index to column labels\n",
    "series_example_unstack = series_example.unstack()\n",
    "series_example_unstack"
   ]
  },
  {
   "cell_type": "markdown",
   "id": "ea759b3b",
   "metadata": {},
   "source": [
    "We can pivot the outer level of the row labels by specifying it in the `level` argument:"
   ]
  },
  {
   "cell_type": "code",
   "execution_count": 192,
   "id": "c31156f9",
   "metadata": {},
   "outputs": [
    {
     "data": {
      "text/html": [
       "<div>\n",
       "<style scoped>\n",
       "    .dataframe tbody tr th:only-of-type {\n",
       "        vertical-align: middle;\n",
       "    }\n",
       "\n",
       "    .dataframe tbody tr th {\n",
       "        vertical-align: top;\n",
       "    }\n",
       "\n",
       "    .dataframe thead th {\n",
       "        text-align: right;\n",
       "    }\n",
       "</style>\n",
       "<table border=\"1\" class=\"dataframe\">\n",
       "  <thead>\n",
       "    <tr style=\"text-align: right;\">\n",
       "      <th></th>\n",
       "      <th>English</th>\n",
       "      <th>French</th>\n",
       "      <th>Spanish</th>\n",
       "    </tr>\n",
       "  </thead>\n",
       "  <tbody>\n",
       "    <tr>\n",
       "      <th>1</th>\n",
       "      <td>these</td>\n",
       "      <td>ce</td>\n",
       "      <td>estas</td>\n",
       "    </tr>\n",
       "    <tr>\n",
       "      <th>2</th>\n",
       "      <td>are</td>\n",
       "      <td>sont</td>\n",
       "      <td>son</td>\n",
       "    </tr>\n",
       "    <tr>\n",
       "      <th>3</th>\n",
       "      <td>english</td>\n",
       "      <td>des</td>\n",
       "      <td>palabras</td>\n",
       "    </tr>\n",
       "    <tr>\n",
       "      <th>4</th>\n",
       "      <td>words</td>\n",
       "      <td>françai</td>\n",
       "      <td>en</td>\n",
       "    </tr>\n",
       "    <tr>\n",
       "      <th>5</th>\n",
       "      <td>NaN</td>\n",
       "      <td>mots</td>\n",
       "      <td>español</td>\n",
       "    </tr>\n",
       "  </tbody>\n",
       "</table>\n",
       "</div>"
      ],
      "text/plain": [
       "   English   French   Spanish\n",
       "1    these       ce     estas\n",
       "2      are     sont       son\n",
       "3  english      des  palabras\n",
       "4    words  françai        en\n",
       "5      NaN     mots   español"
      ]
     },
     "execution_count": 192,
     "metadata": {},
     "output_type": "execute_result"
    }
   ],
   "source": [
    "#Pivoting the outer row indices to column labels\n",
    "series_example_unstack = series_example.unstack(level=0)\n",
    "series_example_unstack"
   ]
  },
  {
   "cell_type": "markdown",
   "id": "0ccdb1e3",
   "metadata": {},
   "source": [
    "#### [`unstack()`](https://pandas.pydata.org/docs/reference/api/pandas.DataFrame.unstack.html) (Pandas DataFrame method)\n",
    "The Pandas DataFrame method `unstack()` pivots the specifid level of row indices to the new innemost level of column labels. By-default, the inner-most level of the row labels is pivoted."
   ]
  },
  {
   "cell_type": "code",
   "execution_count": 181,
   "id": "20e6c9e4",
   "metadata": {},
   "outputs": [
    {
     "data": {
      "text/html": [
       "<div>\n",
       "<style scoped>\n",
       "    .dataframe tbody tr th:only-of-type {\n",
       "        vertical-align: middle;\n",
       "    }\n",
       "\n",
       "    .dataframe tbody tr th {\n",
       "        vertical-align: top;\n",
       "    }\n",
       "\n",
       "    .dataframe thead tr th {\n",
       "        text-align: left;\n",
       "    }\n",
       "\n",
       "    .dataframe thead tr:last-of-type th {\n",
       "        text-align: right;\n",
       "    }\n",
       "</style>\n",
       "<table border=\"1\" class=\"dataframe\">\n",
       "  <thead>\n",
       "    <tr>\n",
       "      <th>State</th>\n",
       "      <th colspan=\"8\" halign=\"left\">Illinois</th>\n",
       "      <th colspan=\"8\" halign=\"left\">California</th>\n",
       "    </tr>\n",
       "    <tr>\n",
       "      <th>City</th>\n",
       "      <th colspan=\"4\" halign=\"left\">Evanston</th>\n",
       "      <th colspan=\"4\" halign=\"left\">Chicago</th>\n",
       "      <th colspan=\"4\" halign=\"left\">San Francisco</th>\n",
       "      <th colspan=\"4\" halign=\"left\">Los Angeles</th>\n",
       "    </tr>\n",
       "    <tr>\n",
       "      <th>Statistic</th>\n",
       "      <th>Area (mile-sq)</th>\n",
       "      <th>Elevation (feet)</th>\n",
       "      <th>Population</th>\n",
       "      <th>Unemployement (%)</th>\n",
       "      <th>Area (mile-sq)</th>\n",
       "      <th>Elevation (feet)</th>\n",
       "      <th>Population</th>\n",
       "      <th>Unemployement (%)</th>\n",
       "      <th>Area (mile-sq)</th>\n",
       "      <th>Elevation (feet)</th>\n",
       "      <th>Population</th>\n",
       "      <th>Unemployement (%)</th>\n",
       "      <th>Area (mile-sq)</th>\n",
       "      <th>Elevation (feet)</th>\n",
       "      <th>Population</th>\n",
       "      <th>Unemployement (%)</th>\n",
       "    </tr>\n",
       "    <tr>\n",
       "      <th>Information type</th>\n",
       "      <th></th>\n",
       "      <th></th>\n",
       "      <th></th>\n",
       "      <th></th>\n",
       "      <th></th>\n",
       "      <th></th>\n",
       "      <th></th>\n",
       "      <th></th>\n",
       "      <th></th>\n",
       "      <th></th>\n",
       "      <th></th>\n",
       "      <th></th>\n",
       "      <th></th>\n",
       "      <th></th>\n",
       "      <th></th>\n",
       "      <th></th>\n",
       "    </tr>\n",
       "  </thead>\n",
       "  <tbody>\n",
       "    <tr>\n",
       "      <th>Demographics</th>\n",
       "      <td>NaN</td>\n",
       "      <td>NaN</td>\n",
       "      <td>771517.0</td>\n",
       "      <td>4.2</td>\n",
       "      <td>NaN</td>\n",
       "      <td>NaN</td>\n",
       "      <td>2697000.0</td>\n",
       "      <td>5.6</td>\n",
       "      <td>NaN</td>\n",
       "      <td>NaN</td>\n",
       "      <td>815201.0</td>\n",
       "      <td>2.8</td>\n",
       "      <td>NaN</td>\n",
       "      <td>NaN</td>\n",
       "      <td>3849000.0</td>\n",
       "      <td>4.6</td>\n",
       "    </tr>\n",
       "    <tr>\n",
       "      <th>Geography</th>\n",
       "      <td>7.8</td>\n",
       "      <td>6749.0</td>\n",
       "      <td>NaN</td>\n",
       "      <td>NaN</td>\n",
       "      <td>234.5</td>\n",
       "      <td>597.0</td>\n",
       "      <td>NaN</td>\n",
       "      <td>NaN</td>\n",
       "      <td>46.9</td>\n",
       "      <td>52.0</td>\n",
       "      <td>NaN</td>\n",
       "      <td>NaN</td>\n",
       "      <td>502.0</td>\n",
       "      <td>305.0</td>\n",
       "      <td>NaN</td>\n",
       "      <td>NaN</td>\n",
       "    </tr>\n",
       "  </tbody>\n",
       "</table>\n",
       "</div>"
      ],
      "text/plain": [
       "State                  Illinois                                                \\\n",
       "City                   Evanston                                                 \n",
       "Statistic        Area (mile-sq) Elevation (feet) Population Unemployement (%)   \n",
       "Information type                                                                \n",
       "Demographics                NaN              NaN   771517.0               4.2   \n",
       "Geography                   7.8           6749.0        NaN               NaN   \n",
       "\n",
       "State                                                                          \\\n",
       "City                    Chicago                                                 \n",
       "Statistic        Area (mile-sq) Elevation (feet) Population Unemployement (%)   \n",
       "Information type                                                                \n",
       "Demographics                NaN              NaN  2697000.0               5.6   \n",
       "Geography                 234.5            597.0        NaN               NaN   \n",
       "\n",
       "State                California                                                \\\n",
       "City              San Francisco                                                 \n",
       "Statistic        Area (mile-sq) Elevation (feet) Population Unemployement (%)   \n",
       "Information type                                                                \n",
       "Demographics                NaN              NaN   815201.0               2.8   \n",
       "Geography                  46.9             52.0        NaN               NaN   \n",
       "\n",
       "State                                                                          \n",
       "City                Los Angeles                                                \n",
       "Statistic        Area (mile-sq) Elevation (feet) Population Unemployement (%)  \n",
       "Information type                                                               \n",
       "Demographics                NaN              NaN  3849000.0               4.6  \n",
       "Geography                 502.0            305.0        NaN               NaN  "
      ]
     },
     "execution_count": 181,
     "metadata": {},
     "output_type": "execute_result"
    }
   ],
   "source": [
    "#Pivoting the inner level of row labels to the inner-most level of column labels\n",
    "df_example.unstack()"
   ]
  },
  {
   "cell_type": "markdown",
   "id": "f9bdc8a5",
   "metadata": {},
   "source": [
    "As with Series, we can pivot the outer level of the row labels by specifying it in the `level` argument:"
   ]
  },
  {
   "cell_type": "code",
   "execution_count": 188,
   "id": "ca092af7",
   "metadata": {},
   "outputs": [
    {
     "data": {
      "text/html": [
       "<div>\n",
       "<style scoped>\n",
       "    .dataframe tbody tr th:only-of-type {\n",
       "        vertical-align: middle;\n",
       "    }\n",
       "\n",
       "    .dataframe tbody tr th {\n",
       "        vertical-align: top;\n",
       "    }\n",
       "\n",
       "    .dataframe thead tr th {\n",
       "        text-align: left;\n",
       "    }\n",
       "\n",
       "    .dataframe thead tr:last-of-type th {\n",
       "        text-align: right;\n",
       "    }\n",
       "</style>\n",
       "<table border=\"1\" class=\"dataframe\">\n",
       "  <thead>\n",
       "    <tr>\n",
       "      <th>State</th>\n",
       "      <th colspan=\"4\" halign=\"left\">Illinois</th>\n",
       "      <th colspan=\"4\" halign=\"left\">California</th>\n",
       "    </tr>\n",
       "    <tr>\n",
       "      <th>City</th>\n",
       "      <th colspan=\"2\" halign=\"left\">Evanston</th>\n",
       "      <th colspan=\"2\" halign=\"left\">Chicago</th>\n",
       "      <th colspan=\"2\" halign=\"left\">San Francisco</th>\n",
       "      <th colspan=\"2\" halign=\"left\">Los Angeles</th>\n",
       "    </tr>\n",
       "    <tr>\n",
       "      <th>Information type</th>\n",
       "      <th>Demographics</th>\n",
       "      <th>Geography</th>\n",
       "      <th>Demographics</th>\n",
       "      <th>Geography</th>\n",
       "      <th>Demographics</th>\n",
       "      <th>Geography</th>\n",
       "      <th>Demographics</th>\n",
       "      <th>Geography</th>\n",
       "    </tr>\n",
       "    <tr>\n",
       "      <th>Statistic</th>\n",
       "      <th></th>\n",
       "      <th></th>\n",
       "      <th></th>\n",
       "      <th></th>\n",
       "      <th></th>\n",
       "      <th></th>\n",
       "      <th></th>\n",
       "      <th></th>\n",
       "    </tr>\n",
       "  </thead>\n",
       "  <tbody>\n",
       "    <tr>\n",
       "      <th>Area (mile-sq)</th>\n",
       "      <td>NaN</td>\n",
       "      <td>7.8</td>\n",
       "      <td>NaN</td>\n",
       "      <td>234.5</td>\n",
       "      <td>NaN</td>\n",
       "      <td>46.9</td>\n",
       "      <td>NaN</td>\n",
       "      <td>502.0</td>\n",
       "    </tr>\n",
       "    <tr>\n",
       "      <th>Elevation (feet)</th>\n",
       "      <td>NaN</td>\n",
       "      <td>6749.0</td>\n",
       "      <td>NaN</td>\n",
       "      <td>597.0</td>\n",
       "      <td>NaN</td>\n",
       "      <td>52.0</td>\n",
       "      <td>NaN</td>\n",
       "      <td>305.0</td>\n",
       "    </tr>\n",
       "    <tr>\n",
       "      <th>Population</th>\n",
       "      <td>771517.0</td>\n",
       "      <td>NaN</td>\n",
       "      <td>2697000.0</td>\n",
       "      <td>NaN</td>\n",
       "      <td>815201.0</td>\n",
       "      <td>NaN</td>\n",
       "      <td>3849000.0</td>\n",
       "      <td>NaN</td>\n",
       "    </tr>\n",
       "    <tr>\n",
       "      <th>Unemployement (%)</th>\n",
       "      <td>4.2</td>\n",
       "      <td>NaN</td>\n",
       "      <td>5.6</td>\n",
       "      <td>NaN</td>\n",
       "      <td>2.8</td>\n",
       "      <td>NaN</td>\n",
       "      <td>4.6</td>\n",
       "      <td>NaN</td>\n",
       "    </tr>\n",
       "  </tbody>\n",
       "</table>\n",
       "</div>"
      ],
      "text/plain": [
       "State                 Illinois                                     California  \\\n",
       "City                  Evanston                Chicago           San Francisco   \n",
       "Information type  Demographics Geography Demographics Geography  Demographics   \n",
       "Statistic                                                                       \n",
       "Area (mile-sq)             NaN       7.8          NaN     234.5           NaN   \n",
       "Elevation (feet)           NaN    6749.0          NaN     597.0           NaN   \n",
       "Population            771517.0       NaN    2697000.0       NaN      815201.0   \n",
       "Unemployement (%)          4.2       NaN          5.6       NaN           2.8   \n",
       "\n",
       "State                                               \n",
       "City                         Los Angeles            \n",
       "Information type  Geography Demographics Geography  \n",
       "Statistic                                           \n",
       "Area (mile-sq)         46.9          NaN     502.0  \n",
       "Elevation (feet)       52.0          NaN     305.0  \n",
       "Population              NaN    3849000.0       NaN  \n",
       "Unemployement (%)       NaN          4.6       NaN  "
      ]
     },
     "execution_count": 188,
     "metadata": {},
     "output_type": "execute_result"
    }
   ],
   "source": [
    "#Pivoting the outer level (level = 0) of row labels to the inner-most level of column labels\n",
    "df_example.unstack(level=0)"
   ]
  },
  {
   "cell_type": "markdown",
   "id": "454a1893",
   "metadata": {},
   "source": [
    "#### `stack()`\n",
    "\n",
    "The inverse of `unstack()` is the [`stack()`](https://pandas.pydata.org/pandas-docs/stable/reference/api/pandas.DataFrame.stack.html) method, which creates the inner-most level of row indices by pivoting the column labels of the prescribed level."
   ]
  },
  {
   "cell_type": "markdown",
   "id": "21f5de98",
   "metadata": {},
   "source": [
    "Note that if the column labels have only one level, so we don't need to specify a level. "
   ]
  },
  {
   "cell_type": "code",
   "execution_count": 66,
   "id": "9c41c3f7",
   "metadata": {},
   "outputs": [
    {
     "data": {
      "text/plain": [
       "English  1       these\n",
       "         2         are\n",
       "         3     english\n",
       "         4       words\n",
       "French   1          ce\n",
       "         2        sont\n",
       "         3         des\n",
       "         4     françai\n",
       "         5        mots\n",
       "Spanish  1       estas\n",
       "         2         son\n",
       "         3    palabras\n",
       "         4          en\n",
       "         5     español\n",
       "dtype: object"
      ]
     },
     "execution_count": 66,
     "metadata": {},
     "output_type": "execute_result"
    }
   ],
   "source": [
    "#Stacking the columns of a DataFrame\n",
    "series_example_unstack.stack()"
   ]
  },
  {
   "cell_type": "markdown",
   "id": "a2aea7b9",
   "metadata": {},
   "source": [
    "However, if the columns have multiple levels, we can specify the level to stack as the inner-most row level. By default, inner-most column level is stacked."
   ]
  },
  {
   "cell_type": "code",
   "execution_count": 195,
   "id": "09e5117b",
   "metadata": {},
   "outputs": [
    {
     "data": {
      "text/html": [
       "<div>\n",
       "<style scoped>\n",
       "    .dataframe tbody tr th:only-of-type {\n",
       "        vertical-align: middle;\n",
       "    }\n",
       "\n",
       "    .dataframe tbody tr th {\n",
       "        vertical-align: top;\n",
       "    }\n",
       "\n",
       "    .dataframe thead th {\n",
       "        text-align: right;\n",
       "    }\n",
       "</style>\n",
       "<table border=\"1\" class=\"dataframe\">\n",
       "  <thead>\n",
       "    <tr style=\"text-align: right;\">\n",
       "      <th></th>\n",
       "      <th></th>\n",
       "      <th>State</th>\n",
       "      <th>California</th>\n",
       "      <th>Illinois</th>\n",
       "    </tr>\n",
       "    <tr>\n",
       "      <th>Information type</th>\n",
       "      <th>Statistic</th>\n",
       "      <th>City</th>\n",
       "      <th></th>\n",
       "      <th></th>\n",
       "    </tr>\n",
       "  </thead>\n",
       "  <tbody>\n",
       "    <tr>\n",
       "      <th rowspan=\"8\" valign=\"top\">Demographics</th>\n",
       "      <th rowspan=\"4\" valign=\"top\">Population</th>\n",
       "      <th>Chicago</th>\n",
       "      <td>NaN</td>\n",
       "      <td>2697000.0</td>\n",
       "    </tr>\n",
       "    <tr>\n",
       "      <th>Evanston</th>\n",
       "      <td>NaN</td>\n",
       "      <td>771517.0</td>\n",
       "    </tr>\n",
       "    <tr>\n",
       "      <th>Los Angeles</th>\n",
       "      <td>3849000.0</td>\n",
       "      <td>NaN</td>\n",
       "    </tr>\n",
       "    <tr>\n",
       "      <th>San Francisco</th>\n",
       "      <td>815201.0</td>\n",
       "      <td>NaN</td>\n",
       "    </tr>\n",
       "    <tr>\n",
       "      <th rowspan=\"4\" valign=\"top\">Unemployement (%)</th>\n",
       "      <th>Chicago</th>\n",
       "      <td>NaN</td>\n",
       "      <td>5.6</td>\n",
       "    </tr>\n",
       "    <tr>\n",
       "      <th>Evanston</th>\n",
       "      <td>NaN</td>\n",
       "      <td>4.2</td>\n",
       "    </tr>\n",
       "    <tr>\n",
       "      <th>Los Angeles</th>\n",
       "      <td>4.6</td>\n",
       "      <td>NaN</td>\n",
       "    </tr>\n",
       "    <tr>\n",
       "      <th>San Francisco</th>\n",
       "      <td>2.8</td>\n",
       "      <td>NaN</td>\n",
       "    </tr>\n",
       "    <tr>\n",
       "      <th rowspan=\"8\" valign=\"top\">Geography</th>\n",
       "      <th rowspan=\"4\" valign=\"top\">Area (mile-sq)</th>\n",
       "      <th>Chicago</th>\n",
       "      <td>NaN</td>\n",
       "      <td>234.5</td>\n",
       "    </tr>\n",
       "    <tr>\n",
       "      <th>Evanston</th>\n",
       "      <td>NaN</td>\n",
       "      <td>7.8</td>\n",
       "    </tr>\n",
       "    <tr>\n",
       "      <th>Los Angeles</th>\n",
       "      <td>502.0</td>\n",
       "      <td>NaN</td>\n",
       "    </tr>\n",
       "    <tr>\n",
       "      <th>San Francisco</th>\n",
       "      <td>46.9</td>\n",
       "      <td>NaN</td>\n",
       "    </tr>\n",
       "    <tr>\n",
       "      <th rowspan=\"4\" valign=\"top\">Elevation (feet)</th>\n",
       "      <th>Chicago</th>\n",
       "      <td>NaN</td>\n",
       "      <td>597.0</td>\n",
       "    </tr>\n",
       "    <tr>\n",
       "      <th>Evanston</th>\n",
       "      <td>NaN</td>\n",
       "      <td>6749.0</td>\n",
       "    </tr>\n",
       "    <tr>\n",
       "      <th>Los Angeles</th>\n",
       "      <td>305.0</td>\n",
       "      <td>NaN</td>\n",
       "    </tr>\n",
       "    <tr>\n",
       "      <th>San Francisco</th>\n",
       "      <td>52.0</td>\n",
       "      <td>NaN</td>\n",
       "    </tr>\n",
       "  </tbody>\n",
       "</table>\n",
       "</div>"
      ],
      "text/plain": [
       "State                                             California   Illinois\n",
       "Information type Statistic         City                                \n",
       "Demographics     Population        Chicago               NaN  2697000.0\n",
       "                                   Evanston              NaN   771517.0\n",
       "                                   Los Angeles     3849000.0        NaN\n",
       "                                   San Francisco    815201.0        NaN\n",
       "                 Unemployement (%) Chicago               NaN        5.6\n",
       "                                   Evanston              NaN        4.2\n",
       "                                   Los Angeles           4.6        NaN\n",
       "                                   San Francisco         2.8        NaN\n",
       "Geography        Area (mile-sq)    Chicago               NaN      234.5\n",
       "                                   Evanston              NaN        7.8\n",
       "                                   Los Angeles         502.0        NaN\n",
       "                                   San Francisco        46.9        NaN\n",
       "                 Elevation (feet)  Chicago               NaN      597.0\n",
       "                                   Evanston              NaN     6749.0\n",
       "                                   Los Angeles         305.0        NaN\n",
       "                                   San Francisco        52.0        NaN"
      ]
     },
     "execution_count": 195,
     "metadata": {},
     "output_type": "execute_result"
    }
   ],
   "source": [
    "#Stacking the inner-most column labels inner-most row indices\n",
    "df_example.stack()"
   ]
  },
  {
   "cell_type": "code",
   "execution_count": 196,
   "id": "7126e778",
   "metadata": {},
   "outputs": [
    {
     "data": {
      "text/html": [
       "<div>\n",
       "<style scoped>\n",
       "    .dataframe tbody tr th:only-of-type {\n",
       "        vertical-align: middle;\n",
       "    }\n",
       "\n",
       "    .dataframe tbody tr th {\n",
       "        vertical-align: top;\n",
       "    }\n",
       "\n",
       "    .dataframe thead th {\n",
       "        text-align: right;\n",
       "    }\n",
       "</style>\n",
       "<table border=\"1\" class=\"dataframe\">\n",
       "  <thead>\n",
       "    <tr style=\"text-align: right;\">\n",
       "      <th></th>\n",
       "      <th></th>\n",
       "      <th>City</th>\n",
       "      <th>Chicago</th>\n",
       "      <th>Evanston</th>\n",
       "      <th>Los Angeles</th>\n",
       "      <th>San Francisco</th>\n",
       "    </tr>\n",
       "    <tr>\n",
       "      <th>Information type</th>\n",
       "      <th>Statistic</th>\n",
       "      <th>State</th>\n",
       "      <th></th>\n",
       "      <th></th>\n",
       "      <th></th>\n",
       "      <th></th>\n",
       "    </tr>\n",
       "  </thead>\n",
       "  <tbody>\n",
       "    <tr>\n",
       "      <th rowspan=\"4\" valign=\"top\">Demographics</th>\n",
       "      <th rowspan=\"2\" valign=\"top\">Population</th>\n",
       "      <th>California</th>\n",
       "      <td>NaN</td>\n",
       "      <td>NaN</td>\n",
       "      <td>3849000.0</td>\n",
       "      <td>815201.0</td>\n",
       "    </tr>\n",
       "    <tr>\n",
       "      <th>Illinois</th>\n",
       "      <td>2697000.0</td>\n",
       "      <td>771517.0</td>\n",
       "      <td>NaN</td>\n",
       "      <td>NaN</td>\n",
       "    </tr>\n",
       "    <tr>\n",
       "      <th rowspan=\"2\" valign=\"top\">Unemployement (%)</th>\n",
       "      <th>California</th>\n",
       "      <td>NaN</td>\n",
       "      <td>NaN</td>\n",
       "      <td>4.6</td>\n",
       "      <td>2.8</td>\n",
       "    </tr>\n",
       "    <tr>\n",
       "      <th>Illinois</th>\n",
       "      <td>5.6</td>\n",
       "      <td>4.2</td>\n",
       "      <td>NaN</td>\n",
       "      <td>NaN</td>\n",
       "    </tr>\n",
       "    <tr>\n",
       "      <th rowspan=\"4\" valign=\"top\">Geography</th>\n",
       "      <th rowspan=\"2\" valign=\"top\">Area (mile-sq)</th>\n",
       "      <th>California</th>\n",
       "      <td>NaN</td>\n",
       "      <td>NaN</td>\n",
       "      <td>502.0</td>\n",
       "      <td>46.9</td>\n",
       "    </tr>\n",
       "    <tr>\n",
       "      <th>Illinois</th>\n",
       "      <td>234.5</td>\n",
       "      <td>7.8</td>\n",
       "      <td>NaN</td>\n",
       "      <td>NaN</td>\n",
       "    </tr>\n",
       "    <tr>\n",
       "      <th rowspan=\"2\" valign=\"top\">Elevation (feet)</th>\n",
       "      <th>California</th>\n",
       "      <td>NaN</td>\n",
       "      <td>NaN</td>\n",
       "      <td>305.0</td>\n",
       "      <td>52.0</td>\n",
       "    </tr>\n",
       "    <tr>\n",
       "      <th>Illinois</th>\n",
       "      <td>597.0</td>\n",
       "      <td>6749.0</td>\n",
       "      <td>NaN</td>\n",
       "      <td>NaN</td>\n",
       "    </tr>\n",
       "  </tbody>\n",
       "</table>\n",
       "</div>"
      ],
      "text/plain": [
       "City                                             Chicago  Evanston  \\\n",
       "Information type Statistic         State                             \n",
       "Demographics     Population        California        NaN       NaN   \n",
       "                                   Illinois    2697000.0  771517.0   \n",
       "                 Unemployement (%) California        NaN       NaN   \n",
       "                                   Illinois          5.6       4.2   \n",
       "Geography        Area (mile-sq)    California        NaN       NaN   \n",
       "                                   Illinois        234.5       7.8   \n",
       "                 Elevation (feet)  California        NaN       NaN   \n",
       "                                   Illinois        597.0    6749.0   \n",
       "\n",
       "City                                           Los Angeles  San Francisco  \n",
       "Information type Statistic         State                                   \n",
       "Demographics     Population        California    3849000.0       815201.0  \n",
       "                                   Illinois            NaN            NaN  \n",
       "                 Unemployement (%) California          4.6            2.8  \n",
       "                                   Illinois            NaN            NaN  \n",
       "Geography        Area (mile-sq)    California        502.0           46.9  \n",
       "                                   Illinois            NaN            NaN  \n",
       "                 Elevation (feet)  California        305.0           52.0  \n",
       "                                   Illinois            NaN            NaN  "
      ]
     },
     "execution_count": 196,
     "metadata": {},
     "output_type": "execute_result"
    }
   ],
   "source": [
    "#Stacking the outer column labels inner-most row indices\n",
    "df_example.stack(level=0)"
   ]
  }
 ],
 "metadata": {
  "kernelspec": {
   "display_name": "Python 3",
   "language": "python",
   "name": "python3"
  },
  "language_info": {
   "codemirror_mode": {
    "name": "ipython",
    "version": 3
   },
   "file_extension": ".py",
   "mimetype": "text/x-python",
   "name": "python",
   "nbconvert_exporter": "python",
   "pygments_lexer": "ipython3",
   "version": "3.8.8"
  }
 },
 "nbformat": 4,
 "nbformat_minor": 5
}
