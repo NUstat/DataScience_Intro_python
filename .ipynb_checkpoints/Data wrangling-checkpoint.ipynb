{
 "cells": [
  {
   "cell_type": "raw",
   "id": "beb29e48",
   "metadata": {},
   "source": [
    "---\n",
    "title: \"Data wrangling\"\n",
    "format: \n",
    "  html:\n",
    "    code-fold: false\n",
    "    toc-depth: 4\n",
    "jupyter: python3\n",
    "---"
   ]
  },
  {
   "cell_type": "markdown",
   "id": "ddf59e33",
   "metadata": {},
   "source": [
    "Data wrangling refers to combining, transforming, and re-arranging data to make it suitable for further analysis. We'll use Pandas for all data wrangling operations."
   ]
  },
  {
   "cell_type": "code",
   "execution_count": 73,
   "id": "39c5554d",
   "metadata": {},
   "outputs": [],
   "source": [
    "import pandas as pd\n",
    "import numpy as np"
   ]
  },
  {
   "cell_type": "markdown",
   "id": "a62dc209",
   "metadata": {},
   "source": [
    "## Hierarchical indexing"
   ]
  },
  {
   "cell_type": "markdown",
   "id": "cc56cfd8",
   "metadata": {},
   "source": [
    "Until now we have seen only a single level of indexing in the rows and columns of a Pandas DataFrame. Hierarchical indexing refers to having multiple index levels on an axis (row / column) of a Pandas DataFrame. It helps us to work with a higher dimensional data in a lower dimensional form. "
   ]
  },
  {
   "cell_type": "markdown",
   "id": "4eba411b",
   "metadata": {},
   "source": [
    "### Hierarchical indexing in Pandas Series"
   ]
  },
  {
   "cell_type": "markdown",
   "id": "fea7bab1",
   "metadata": {},
   "source": [
    "Let use define Pandas Series as we defined in Chapter 5:"
   ]
  },
  {
   "cell_type": "code",
   "execution_count": 43,
   "id": "9cbcfd0a",
   "metadata": {},
   "outputs": [
    {
     "data": {
      "text/plain": [
       "0        these\n",
       "1          are\n",
       "2      english\n",
       "3        words\n",
       "4        estas\n",
       "5          son\n",
       "6     palabras\n",
       "7           en\n",
       "8      español\n",
       "9           ce\n",
       "10        sont\n",
       "11         des\n",
       "12     françai\n",
       "13        mots\n",
       "dtype: object"
      ]
     },
     "execution_count": 43,
     "metadata": {},
     "output_type": "execute_result"
    }
   ],
   "source": [
    "#Defining a Pandas Series\n",
    "series_example = pd.Series(['these','are','english','words','estas','son','palabras','en','español',\n",
    "                            'ce','sont','des','françai','mots'])\n",
    "series_example"
   ]
  },
  {
   "cell_type": "markdown",
   "id": "46a67d17",
   "metadata": {},
   "source": [
    "Let us use the attribute `nlevels` to find the number of levels of the row indices of this Series:"
   ]
  },
  {
   "cell_type": "code",
   "execution_count": 5,
   "id": "9ed07577",
   "metadata": {},
   "outputs": [
    {
     "data": {
      "text/plain": [
       "1"
      ]
     },
     "execution_count": 5,
     "metadata": {},
     "output_type": "execute_result"
    }
   ],
   "source": [
    "series_example.index.nlevels"
   ]
  },
  {
   "cell_type": "markdown",
   "id": "4720b03f",
   "metadata": {},
   "source": [
    "The Series `series_example` has only one level of row indices."
   ]
  },
  {
   "cell_type": "markdown",
   "id": "da57874c",
   "metadata": {},
   "source": [
    "Let us introduce another level of row indices while defining the Series:"
   ]
  },
  {
   "cell_type": "code",
   "execution_count": 45,
   "id": "d943ad70",
   "metadata": {},
   "outputs": [
    {
     "data": {
      "text/plain": [
       "English  1       these\n",
       "         2         are\n",
       "         3     english\n",
       "         4       words\n",
       "Spanish  1       estas\n",
       "         2         son\n",
       "         3    palabras\n",
       "         4          en\n",
       "         5     español\n",
       "French   1          ce\n",
       "         2        sont\n",
       "         3         des\n",
       "         4     françai\n",
       "         5        mots\n",
       "dtype: object"
      ]
     },
     "execution_count": 45,
     "metadata": {},
     "output_type": "execute_result"
    }
   ],
   "source": [
    "#Defining a Pandas Series with multiple levels of row indices\n",
    "series_example = pd.Series(['these','are','english','words','estas','son','palabras','en','español',\n",
    "                           'ce','sont','des','françai','mots'], \n",
    "                          index=[['English']*4+['Spanish']*5+['French']*5,list(range(1,5))+list(range(1,6))*2])\n",
    "series_example"
   ]
  },
  {
   "cell_type": "markdown",
   "id": "576b0ca2",
   "metadata": {},
   "source": [
    "In the above Series, there are two levels of row indices:"
   ]
  },
  {
   "cell_type": "code",
   "execution_count": 46,
   "id": "81096a1e",
   "metadata": {},
   "outputs": [
    {
     "data": {
      "text/plain": [
       "2"
      ]
     },
     "execution_count": 46,
     "metadata": {},
     "output_type": "execute_result"
    }
   ],
   "source": [
    "series_example.index.nlevels"
   ]
  },
  {
   "cell_type": "markdown",
   "id": "8e5d27b4",
   "metadata": {},
   "source": [
    "### Hierarchical indexing in Pandas DataFrame"
   ]
  },
  {
   "cell_type": "markdown",
   "id": "bfa8c51f",
   "metadata": {},
   "source": [
    "In a Pandas DataFrame, both the row and the columns can have hierarchical indexing. For example, consider the DataFrame below:"
   ]
  },
  {
   "cell_type": "code",
   "execution_count": 134,
   "id": "e7b355f2",
   "metadata": {},
   "outputs": [
    {
     "data": {
      "text/html": [
       "<div>\n",
       "<style scoped>\n",
       "    .dataframe tbody tr th:only-of-type {\n",
       "        vertical-align: middle;\n",
       "    }\n",
       "\n",
       "    .dataframe tbody tr th {\n",
       "        vertical-align: top;\n",
       "    }\n",
       "\n",
       "    .dataframe thead tr th {\n",
       "        text-align: left;\n",
       "    }\n",
       "</style>\n",
       "<table border=\"1\" class=\"dataframe\">\n",
       "  <thead>\n",
       "    <tr>\n",
       "      <th></th>\n",
       "      <th></th>\n",
       "      <th colspan=\"2\" halign=\"left\">Illinois</th>\n",
       "      <th colspan=\"2\" halign=\"left\">California</th>\n",
       "    </tr>\n",
       "    <tr>\n",
       "      <th></th>\n",
       "      <th></th>\n",
       "      <th>Evanston</th>\n",
       "      <th>Chicago</th>\n",
       "      <th>San Francisco</th>\n",
       "      <th>Los Angeles</th>\n",
       "    </tr>\n",
       "  </thead>\n",
       "  <tbody>\n",
       "    <tr>\n",
       "      <th rowspan=\"2\" valign=\"top\">Demographics</th>\n",
       "      <th>Population</th>\n",
       "      <td>771517.0</td>\n",
       "      <td>2697000.0</td>\n",
       "      <td>815201.0</td>\n",
       "      <td>3849000.0</td>\n",
       "    </tr>\n",
       "    <tr>\n",
       "      <th>Unemployement (%)</th>\n",
       "      <td>4.2</td>\n",
       "      <td>5.6</td>\n",
       "      <td>2.8</td>\n",
       "      <td>4.6</td>\n",
       "    </tr>\n",
       "    <tr>\n",
       "      <th rowspan=\"2\" valign=\"top\">Geography</th>\n",
       "      <th>Area (mile-sq)</th>\n",
       "      <td>7.8</td>\n",
       "      <td>234.5</td>\n",
       "      <td>46.9</td>\n",
       "      <td>502.0</td>\n",
       "    </tr>\n",
       "    <tr>\n",
       "      <th>Elevation (feet)</th>\n",
       "      <td>6749.0</td>\n",
       "      <td>597.0</td>\n",
       "      <td>52.0</td>\n",
       "      <td>305.0</td>\n",
       "    </tr>\n",
       "  </tbody>\n",
       "</table>\n",
       "</div>"
      ],
      "text/plain": [
       "                                Illinois               California            \n",
       "                                Evanston    Chicago San Francisco Los Angeles\n",
       "Demographics Population         771517.0  2697000.0      815201.0   3849000.0\n",
       "             Unemployement (%)       4.2        5.6           2.8         4.6\n",
       "Geography    Area (mile-sq)          7.8      234.5          46.9       502.0\n",
       "             Elevation (feet)     6749.0      597.0          52.0       305.0"
      ]
     },
     "execution_count": 134,
     "metadata": {},
     "output_type": "execute_result"
    }
   ],
   "source": [
    "data=np.array([[771517,2697000,815201,3849000],[4.2,5.6,2.8,4.6],\n",
    "             [7.8,234.5,46.9,502],[6749, 597, 52, 305]])\n",
    "df_example = pd.DataFrame(data,index = [['Demographics']*2+['Geography']*2,\n",
    "                                      ['Population','Unemployement (%)','Area (mile-sq)','Elevation (feet)']],\n",
    "                    columns = [['Illinois']*2+['California']*2,['Evanston','Chicago','San Francisco','Los Angeles']])\n",
    "df_example"
   ]
  },
  {
   "cell_type": "markdown",
   "id": "d00ab81d",
   "metadata": {},
   "source": [
    "In the above DataFrame, both the rows and columns have 2 levels of indexing. The number of levels of column indices can be found using the attribute `nlevels`:"
   ]
  },
  {
   "cell_type": "code",
   "execution_count": 135,
   "id": "abdda079",
   "metadata": {},
   "outputs": [
    {
     "data": {
      "text/plain": [
       "2"
      ]
     },
     "execution_count": 135,
     "metadata": {},
     "output_type": "execute_result"
    }
   ],
   "source": [
    "df_example.columns.nlevels"
   ]
  },
  {
   "cell_type": "markdown",
   "id": "ff592673",
   "metadata": {},
   "source": [
    "The `columns` attribute will now have a *MultiIndex* datatype in contrast to the *Index* datatype with single level of indexing. The same holds for row indices."
   ]
  },
  {
   "cell_type": "code",
   "execution_count": 141,
   "id": "c9075b63",
   "metadata": {},
   "outputs": [
    {
     "data": {
      "text/plain": [
       "pandas.core.indexes.multi.MultiIndex"
      ]
     },
     "execution_count": 141,
     "metadata": {},
     "output_type": "execute_result"
    }
   ],
   "source": [
    "type(df_example.columns)"
   ]
  },
  {
   "cell_type": "code",
   "execution_count": 140,
   "id": "71dd0d36",
   "metadata": {},
   "outputs": [
    {
     "data": {
      "text/plain": [
       "MultiIndex([(  'Illinois',      'Evanston'),\n",
       "            (  'Illinois',       'Chicago'),\n",
       "            ('California', 'San Francisco'),\n",
       "            ('California',   'Los Angeles')],\n",
       "           )"
      ]
     },
     "execution_count": 140,
     "metadata": {},
     "output_type": "execute_result"
    }
   ],
   "source": [
    "df_example.columns"
   ]
  },
  {
   "cell_type": "markdown",
   "id": "e0d536ed",
   "metadata": {},
   "source": [
    "The hierarchical levels can have names. Let us assign names to the each level of the row and column labels:"
   ]
  },
  {
   "cell_type": "code",
   "execution_count": 173,
   "id": "ea9cac1d",
   "metadata": {},
   "outputs": [
    {
     "data": {
      "text/html": [
       "<div>\n",
       "<style scoped>\n",
       "    .dataframe tbody tr th:only-of-type {\n",
       "        vertical-align: middle;\n",
       "    }\n",
       "\n",
       "    .dataframe tbody tr th {\n",
       "        vertical-align: top;\n",
       "    }\n",
       "\n",
       "    .dataframe thead tr th {\n",
       "        text-align: left;\n",
       "    }\n",
       "\n",
       "    .dataframe thead tr:last-of-type th {\n",
       "        text-align: right;\n",
       "    }\n",
       "</style>\n",
       "<table border=\"1\" class=\"dataframe\">\n",
       "  <thead>\n",
       "    <tr>\n",
       "      <th></th>\n",
       "      <th>State</th>\n",
       "      <th colspan=\"2\" halign=\"left\">Illinois</th>\n",
       "      <th colspan=\"2\" halign=\"left\">California</th>\n",
       "    </tr>\n",
       "    <tr>\n",
       "      <th></th>\n",
       "      <th>City</th>\n",
       "      <th>Evanston</th>\n",
       "      <th>Chicago</th>\n",
       "      <th>San Francisco</th>\n",
       "      <th>Los Angeles</th>\n",
       "    </tr>\n",
       "    <tr>\n",
       "      <th>Information type</th>\n",
       "      <th>Statistic</th>\n",
       "      <th></th>\n",
       "      <th></th>\n",
       "      <th></th>\n",
       "      <th></th>\n",
       "    </tr>\n",
       "  </thead>\n",
       "  <tbody>\n",
       "    <tr>\n",
       "      <th rowspan=\"2\" valign=\"top\">Demographics</th>\n",
       "      <th>Population</th>\n",
       "      <td>771517.0</td>\n",
       "      <td>2697000.0</td>\n",
       "      <td>815201.0</td>\n",
       "      <td>3849000.0</td>\n",
       "    </tr>\n",
       "    <tr>\n",
       "      <th>Unemployement (%)</th>\n",
       "      <td>4.2</td>\n",
       "      <td>5.6</td>\n",
       "      <td>2.8</td>\n",
       "      <td>4.6</td>\n",
       "    </tr>\n",
       "    <tr>\n",
       "      <th rowspan=\"2\" valign=\"top\">Geography</th>\n",
       "      <th>Area (mile-sq)</th>\n",
       "      <td>7.8</td>\n",
       "      <td>234.5</td>\n",
       "      <td>46.9</td>\n",
       "      <td>502.0</td>\n",
       "    </tr>\n",
       "    <tr>\n",
       "      <th>Elevation (feet)</th>\n",
       "      <td>6749.0</td>\n",
       "      <td>597.0</td>\n",
       "      <td>52.0</td>\n",
       "      <td>305.0</td>\n",
       "    </tr>\n",
       "  </tbody>\n",
       "</table>\n",
       "</div>"
      ],
      "text/plain": [
       "State                               Illinois               California  \\\n",
       "City                                Evanston    Chicago San Francisco   \n",
       "Information type Statistic                                              \n",
       "Demographics     Population         771517.0  2697000.0      815201.0   \n",
       "                 Unemployement (%)       4.2        5.6           2.8   \n",
       "Geography        Area (mile-sq)          7.8      234.5          46.9   \n",
       "                 Elevation (feet)     6749.0      597.0          52.0   \n",
       "\n",
       "State                                           \n",
       "City                               Los Angeles  \n",
       "Information type Statistic                      \n",
       "Demographics     Population          3849000.0  \n",
       "                 Unemployement (%)         4.6  \n",
       "Geography        Area (mile-sq)          502.0  \n",
       "                 Elevation (feet)        305.0  "
      ]
     },
     "execution_count": 173,
     "metadata": {},
     "output_type": "execute_result"
    }
   ],
   "source": [
    "#Naming the row indices levels\n",
    "df_example.index.names=['Information type', 'Statistic']\n",
    "\n",
    "#Naming the column indices levels\n",
    "df_example.columns.names=['State', 'City']\n",
    "\n",
    "#Viewing the DataFrame\n",
    "df_example"
   ]
  },
  {
   "cell_type": "markdown",
   "id": "28c4a35d",
   "metadata": {},
   "source": [
    "Observe that the names of the row and column labels appear when we view the DataFrame."
   ]
  },
  {
   "cell_type": "markdown",
   "id": "651dc33e",
   "metadata": {},
   "source": [
    "### Subsetting data"
   ]
  },
  {
   "cell_type": "markdown",
   "id": "ede1b703",
   "metadata": {},
   "source": [
    "We can use the indices at the outer levels to concisely subset a Series / DataFrame."
   ]
  },
  {
   "cell_type": "markdown",
   "id": "27d7972f",
   "metadata": {},
   "source": [
    "The first four observations of the Series `series_example` correspond to the outer row index `English`, while the last 5 rows correspond to the outer row index `Spanish`. Let us subset all the observation corresponding to the outer row index `English`:"
   ]
  },
  {
   "cell_type": "code",
   "execution_count": 47,
   "id": "654c3562",
   "metadata": {},
   "outputs": [
    {
     "data": {
      "text/plain": [
       "1      these\n",
       "2        are\n",
       "3    english\n",
       "4      words\n",
       "dtype: object"
      ]
     },
     "execution_count": 47,
     "metadata": {},
     "output_type": "execute_result"
    }
   ],
   "source": [
    "#Subsetting data by row-index\n",
    "series_example['English']"
   ]
  },
  {
   "cell_type": "markdown",
   "id": "f98f30a8",
   "metadata": {},
   "source": [
    "Just like in the case of single level indices, if we wish to subset corresponding to multiple outer-level indices, we put the indices within an additional box bracket `[]`. For example, let us subset all the observations corresponding to the row-indices `English` and `French`:"
   ]
  },
  {
   "cell_type": "code",
   "execution_count": 48,
   "id": "f67a42b7",
   "metadata": {},
   "outputs": [
    {
     "data": {
      "text/plain": [
       "English  1      these\n",
       "         2        are\n",
       "         3    english\n",
       "         4      words\n",
       "French   1         ce\n",
       "         2       sont\n",
       "         3        des\n",
       "         4    françai\n",
       "         5       mots\n",
       "dtype: object"
      ]
     },
     "execution_count": 48,
     "metadata": {},
     "output_type": "execute_result"
    }
   ],
   "source": [
    "#Subsetting data by multiple row-indices\n",
    "series_example[['English','French']]"
   ]
  },
  {
   "cell_type": "markdown",
   "id": "132bb1c5",
   "metadata": {},
   "source": [
    "We can also subset data using the inner row index. However, we will need to put a `:` sign to indicate that the row label at the inner level is being used."
   ]
  },
  {
   "cell_type": "code",
   "execution_count": 161,
   "id": "15282194",
   "metadata": {},
   "outputs": [
    {
     "data": {
      "text/plain": [
       "English     are\n",
       "Spanish     son\n",
       "French     sont\n",
       "dtype: object"
      ]
     },
     "execution_count": 161,
     "metadata": {},
     "output_type": "execute_result"
    }
   ],
   "source": [
    "#Subsetting data by row-index\n",
    "series_example[:,2]"
   ]
  },
  {
   "cell_type": "code",
   "execution_count": 50,
   "id": "b6c63c15",
   "metadata": {},
   "outputs": [
    {
     "data": {
      "text/plain": [
       "English  1    these\n",
       "Spanish  1    estas\n",
       "French   1       ce\n",
       "English  2      are\n",
       "Spanish  2      son\n",
       "French   2     sont\n",
       "dtype: object"
      ]
     },
     "execution_count": 50,
     "metadata": {},
     "output_type": "execute_result"
    }
   ],
   "source": [
    "#Subsetting data by mutiple row-indices\n",
    "series_example.loc[:,[1,2]]"
   ]
  },
  {
   "cell_type": "markdown",
   "id": "4075095d",
   "metadata": {},
   "source": [
    "As in Series, we can concisely subset rows / columns in a DataFrame based on the index at the outer levels."
   ]
  },
  {
   "cell_type": "code",
   "execution_count": 170,
   "id": "2ae60b94",
   "metadata": {},
   "outputs": [
    {
     "data": {
      "text/html": [
       "<div>\n",
       "<style scoped>\n",
       "    .dataframe tbody tr th:only-of-type {\n",
       "        vertical-align: middle;\n",
       "    }\n",
       "\n",
       "    .dataframe tbody tr th {\n",
       "        vertical-align: top;\n",
       "    }\n",
       "\n",
       "    .dataframe thead th {\n",
       "        text-align: right;\n",
       "    }\n",
       "</style>\n",
       "<table border=\"1\" class=\"dataframe\">\n",
       "  <thead>\n",
       "    <tr style=\"text-align: right;\">\n",
       "      <th></th>\n",
       "      <th></th>\n",
       "      <th>Evanston</th>\n",
       "      <th>Chicago</th>\n",
       "    </tr>\n",
       "  </thead>\n",
       "  <tbody>\n",
       "    <tr>\n",
       "      <th rowspan=\"2\" valign=\"top\">Demographics</th>\n",
       "      <th>Population</th>\n",
       "      <td>771517.0</td>\n",
       "      <td>2697000.0</td>\n",
       "    </tr>\n",
       "    <tr>\n",
       "      <th>Unemployement (%)</th>\n",
       "      <td>4.2</td>\n",
       "      <td>5.6</td>\n",
       "    </tr>\n",
       "    <tr>\n",
       "      <th rowspan=\"2\" valign=\"top\">Geography</th>\n",
       "      <th>Area (mile-sq)</th>\n",
       "      <td>7.8</td>\n",
       "      <td>234.5</td>\n",
       "    </tr>\n",
       "    <tr>\n",
       "      <th>Elevation (feet)</th>\n",
       "      <td>6749.0</td>\n",
       "      <td>597.0</td>\n",
       "    </tr>\n",
       "  </tbody>\n",
       "</table>\n",
       "</div>"
      ],
      "text/plain": [
       "                                Evanston    Chicago\n",
       "Demographics Population         771517.0  2697000.0\n",
       "             Unemployement (%)       4.2        5.6\n",
       "Geography    Area (mile-sq)          7.8      234.5\n",
       "             Elevation (feet)     6749.0      597.0"
      ]
     },
     "execution_count": 170,
     "metadata": {},
     "output_type": "execute_result"
    }
   ],
   "source": [
    "df_example['Illinois']"
   ]
  },
  {
   "cell_type": "markdown",
   "id": "cfb6107f",
   "metadata": {},
   "source": [
    "### Reshaping data"
   ]
  },
  {
   "cell_type": "markdown",
   "id": "a1f79977",
   "metadata": {},
   "source": [
    "Apart from ease in subsetting data, hierarchical indexing also plays a role in reshaping data."
   ]
  },
  {
   "cell_type": "markdown",
   "id": "2117b87b",
   "metadata": {},
   "source": [
    "#### [`unstack()`](https://pandas.pydata.org/docs/reference/api/pandas.Series.unstack.html) (Pandas Series method)\n",
    "The Pandas Series method `unstack()` pivots the desired level of row indices to columns, thereby creating a DataFrame. By default, the inner-most level of the row labels is pivoed."
   ]
  },
  {
   "cell_type": "code",
   "execution_count": 52,
   "id": "af95c649",
   "metadata": {},
   "outputs": [
    {
     "data": {
      "text/html": [
       "<div>\n",
       "<style scoped>\n",
       "    .dataframe tbody tr th:only-of-type {\n",
       "        vertical-align: middle;\n",
       "    }\n",
       "\n",
       "    .dataframe tbody tr th {\n",
       "        vertical-align: top;\n",
       "    }\n",
       "\n",
       "    .dataframe thead th {\n",
       "        text-align: right;\n",
       "    }\n",
       "</style>\n",
       "<table border=\"1\" class=\"dataframe\">\n",
       "  <thead>\n",
       "    <tr style=\"text-align: right;\">\n",
       "      <th></th>\n",
       "      <th>1</th>\n",
       "      <th>2</th>\n",
       "      <th>3</th>\n",
       "      <th>4</th>\n",
       "      <th>5</th>\n",
       "    </tr>\n",
       "  </thead>\n",
       "  <tbody>\n",
       "    <tr>\n",
       "      <th>English</th>\n",
       "      <td>these</td>\n",
       "      <td>are</td>\n",
       "      <td>english</td>\n",
       "      <td>words</td>\n",
       "      <td>NaN</td>\n",
       "    </tr>\n",
       "    <tr>\n",
       "      <th>French</th>\n",
       "      <td>ce</td>\n",
       "      <td>sont</td>\n",
       "      <td>des</td>\n",
       "      <td>françai</td>\n",
       "      <td>mots</td>\n",
       "    </tr>\n",
       "    <tr>\n",
       "      <th>Spanish</th>\n",
       "      <td>estas</td>\n",
       "      <td>son</td>\n",
       "      <td>palabras</td>\n",
       "      <td>en</td>\n",
       "      <td>español</td>\n",
       "    </tr>\n",
       "  </tbody>\n",
       "</table>\n",
       "</div>"
      ],
      "text/plain": [
       "             1     2         3        4        5\n",
       "English  these   are   english    words      NaN\n",
       "French      ce  sont       des  françai     mots\n",
       "Spanish  estas   son  palabras       en  español"
      ]
     },
     "execution_count": 52,
     "metadata": {},
     "output_type": "execute_result"
    }
   ],
   "source": [
    "#Pivoting the inner-most Series row index to column labels\n",
    "series_example_unstack = series_example.unstack()\n",
    "series_example_unstack"
   ]
  },
  {
   "cell_type": "markdown",
   "id": "a7a846a1",
   "metadata": {},
   "source": [
    "We can pivot the outer level of the row labels by specifying it in the `level` argument:"
   ]
  },
  {
   "cell_type": "code",
   "execution_count": 192,
   "id": "c049fcd9",
   "metadata": {},
   "outputs": [
    {
     "data": {
      "text/html": [
       "<div>\n",
       "<style scoped>\n",
       "    .dataframe tbody tr th:only-of-type {\n",
       "        vertical-align: middle;\n",
       "    }\n",
       "\n",
       "    .dataframe tbody tr th {\n",
       "        vertical-align: top;\n",
       "    }\n",
       "\n",
       "    .dataframe thead th {\n",
       "        text-align: right;\n",
       "    }\n",
       "</style>\n",
       "<table border=\"1\" class=\"dataframe\">\n",
       "  <thead>\n",
       "    <tr style=\"text-align: right;\">\n",
       "      <th></th>\n",
       "      <th>English</th>\n",
       "      <th>French</th>\n",
       "      <th>Spanish</th>\n",
       "    </tr>\n",
       "  </thead>\n",
       "  <tbody>\n",
       "    <tr>\n",
       "      <th>1</th>\n",
       "      <td>these</td>\n",
       "      <td>ce</td>\n",
       "      <td>estas</td>\n",
       "    </tr>\n",
       "    <tr>\n",
       "      <th>2</th>\n",
       "      <td>are</td>\n",
       "      <td>sont</td>\n",
       "      <td>son</td>\n",
       "    </tr>\n",
       "    <tr>\n",
       "      <th>3</th>\n",
       "      <td>english</td>\n",
       "      <td>des</td>\n",
       "      <td>palabras</td>\n",
       "    </tr>\n",
       "    <tr>\n",
       "      <th>4</th>\n",
       "      <td>words</td>\n",
       "      <td>françai</td>\n",
       "      <td>en</td>\n",
       "    </tr>\n",
       "    <tr>\n",
       "      <th>5</th>\n",
       "      <td>NaN</td>\n",
       "      <td>mots</td>\n",
       "      <td>español</td>\n",
       "    </tr>\n",
       "  </tbody>\n",
       "</table>\n",
       "</div>"
      ],
      "text/plain": [
       "   English   French   Spanish\n",
       "1    these       ce     estas\n",
       "2      are     sont       son\n",
       "3  english      des  palabras\n",
       "4    words  françai        en\n",
       "5      NaN     mots   español"
      ]
     },
     "execution_count": 192,
     "metadata": {},
     "output_type": "execute_result"
    }
   ],
   "source": [
    "#Pivoting the outer row indices to column labels\n",
    "series_example_unstack = series_example.unstack(level=0)\n",
    "series_example_unstack"
   ]
  },
  {
   "cell_type": "markdown",
   "id": "30a62777",
   "metadata": {},
   "source": [
    "#### [`unstack()`](https://pandas.pydata.org/docs/reference/api/pandas.DataFrame.unstack.html) (Pandas DataFrame method)\n",
    "The Pandas DataFrame method `unstack()` pivots the specifid level of row indices to the new innemost level of column labels. By-default, the inner-most level of the row labels is pivoted."
   ]
  },
  {
   "cell_type": "code",
   "execution_count": 181,
   "id": "73c36936",
   "metadata": {},
   "outputs": [
    {
     "data": {
      "text/html": [
       "<div>\n",
       "<style scoped>\n",
       "    .dataframe tbody tr th:only-of-type {\n",
       "        vertical-align: middle;\n",
       "    }\n",
       "\n",
       "    .dataframe tbody tr th {\n",
       "        vertical-align: top;\n",
       "    }\n",
       "\n",
       "    .dataframe thead tr th {\n",
       "        text-align: left;\n",
       "    }\n",
       "\n",
       "    .dataframe thead tr:last-of-type th {\n",
       "        text-align: right;\n",
       "    }\n",
       "</style>\n",
       "<table border=\"1\" class=\"dataframe\">\n",
       "  <thead>\n",
       "    <tr>\n",
       "      <th>State</th>\n",
       "      <th colspan=\"8\" halign=\"left\">Illinois</th>\n",
       "      <th colspan=\"8\" halign=\"left\">California</th>\n",
       "    </tr>\n",
       "    <tr>\n",
       "      <th>City</th>\n",
       "      <th colspan=\"4\" halign=\"left\">Evanston</th>\n",
       "      <th colspan=\"4\" halign=\"left\">Chicago</th>\n",
       "      <th colspan=\"4\" halign=\"left\">San Francisco</th>\n",
       "      <th colspan=\"4\" halign=\"left\">Los Angeles</th>\n",
       "    </tr>\n",
       "    <tr>\n",
       "      <th>Statistic</th>\n",
       "      <th>Area (mile-sq)</th>\n",
       "      <th>Elevation (feet)</th>\n",
       "      <th>Population</th>\n",
       "      <th>Unemployement (%)</th>\n",
       "      <th>Area (mile-sq)</th>\n",
       "      <th>Elevation (feet)</th>\n",
       "      <th>Population</th>\n",
       "      <th>Unemployement (%)</th>\n",
       "      <th>Area (mile-sq)</th>\n",
       "      <th>Elevation (feet)</th>\n",
       "      <th>Population</th>\n",
       "      <th>Unemployement (%)</th>\n",
       "      <th>Area (mile-sq)</th>\n",
       "      <th>Elevation (feet)</th>\n",
       "      <th>Population</th>\n",
       "      <th>Unemployement (%)</th>\n",
       "    </tr>\n",
       "    <tr>\n",
       "      <th>Information type</th>\n",
       "      <th></th>\n",
       "      <th></th>\n",
       "      <th></th>\n",
       "      <th></th>\n",
       "      <th></th>\n",
       "      <th></th>\n",
       "      <th></th>\n",
       "      <th></th>\n",
       "      <th></th>\n",
       "      <th></th>\n",
       "      <th></th>\n",
       "      <th></th>\n",
       "      <th></th>\n",
       "      <th></th>\n",
       "      <th></th>\n",
       "      <th></th>\n",
       "    </tr>\n",
       "  </thead>\n",
       "  <tbody>\n",
       "    <tr>\n",
       "      <th>Demographics</th>\n",
       "      <td>NaN</td>\n",
       "      <td>NaN</td>\n",
       "      <td>771517.0</td>\n",
       "      <td>4.2</td>\n",
       "      <td>NaN</td>\n",
       "      <td>NaN</td>\n",
       "      <td>2697000.0</td>\n",
       "      <td>5.6</td>\n",
       "      <td>NaN</td>\n",
       "      <td>NaN</td>\n",
       "      <td>815201.0</td>\n",
       "      <td>2.8</td>\n",
       "      <td>NaN</td>\n",
       "      <td>NaN</td>\n",
       "      <td>3849000.0</td>\n",
       "      <td>4.6</td>\n",
       "    </tr>\n",
       "    <tr>\n",
       "      <th>Geography</th>\n",
       "      <td>7.8</td>\n",
       "      <td>6749.0</td>\n",
       "      <td>NaN</td>\n",
       "      <td>NaN</td>\n",
       "      <td>234.5</td>\n",
       "      <td>597.0</td>\n",
       "      <td>NaN</td>\n",
       "      <td>NaN</td>\n",
       "      <td>46.9</td>\n",
       "      <td>52.0</td>\n",
       "      <td>NaN</td>\n",
       "      <td>NaN</td>\n",
       "      <td>502.0</td>\n",
       "      <td>305.0</td>\n",
       "      <td>NaN</td>\n",
       "      <td>NaN</td>\n",
       "    </tr>\n",
       "  </tbody>\n",
       "</table>\n",
       "</div>"
      ],
      "text/plain": [
       "State                  Illinois                                                \\\n",
       "City                   Evanston                                                 \n",
       "Statistic        Area (mile-sq) Elevation (feet) Population Unemployement (%)   \n",
       "Information type                                                                \n",
       "Demographics                NaN              NaN   771517.0               4.2   \n",
       "Geography                   7.8           6749.0        NaN               NaN   \n",
       "\n",
       "State                                                                          \\\n",
       "City                    Chicago                                                 \n",
       "Statistic        Area (mile-sq) Elevation (feet) Population Unemployement (%)   \n",
       "Information type                                                                \n",
       "Demographics                NaN              NaN  2697000.0               5.6   \n",
       "Geography                 234.5            597.0        NaN               NaN   \n",
       "\n",
       "State                California                                                \\\n",
       "City              San Francisco                                                 \n",
       "Statistic        Area (mile-sq) Elevation (feet) Population Unemployement (%)   \n",
       "Information type                                                                \n",
       "Demographics                NaN              NaN   815201.0               2.8   \n",
       "Geography                  46.9             52.0        NaN               NaN   \n",
       "\n",
       "State                                                                          \n",
       "City                Los Angeles                                                \n",
       "Statistic        Area (mile-sq) Elevation (feet) Population Unemployement (%)  \n",
       "Information type                                                               \n",
       "Demographics                NaN              NaN  3849000.0               4.6  \n",
       "Geography                 502.0            305.0        NaN               NaN  "
      ]
     },
     "execution_count": 181,
     "metadata": {},
     "output_type": "execute_result"
    }
   ],
   "source": [
    "#Pivoting the inner level of row labels to the inner-most level of column labels\n",
    "df_example.unstack()"
   ]
  },
  {
   "cell_type": "markdown",
   "id": "52c60c13",
   "metadata": {},
   "source": [
    "As with Series, we can pivot the outer level of the row labels by specifying it in the `level` argument:"
   ]
  },
  {
   "cell_type": "code",
   "execution_count": 188,
   "id": "41323afe",
   "metadata": {},
   "outputs": [
    {
     "data": {
      "text/html": [
       "<div>\n",
       "<style scoped>\n",
       "    .dataframe tbody tr th:only-of-type {\n",
       "        vertical-align: middle;\n",
       "    }\n",
       "\n",
       "    .dataframe tbody tr th {\n",
       "        vertical-align: top;\n",
       "    }\n",
       "\n",
       "    .dataframe thead tr th {\n",
       "        text-align: left;\n",
       "    }\n",
       "\n",
       "    .dataframe thead tr:last-of-type th {\n",
       "        text-align: right;\n",
       "    }\n",
       "</style>\n",
       "<table border=\"1\" class=\"dataframe\">\n",
       "  <thead>\n",
       "    <tr>\n",
       "      <th>State</th>\n",
       "      <th colspan=\"4\" halign=\"left\">Illinois</th>\n",
       "      <th colspan=\"4\" halign=\"left\">California</th>\n",
       "    </tr>\n",
       "    <tr>\n",
       "      <th>City</th>\n",
       "      <th colspan=\"2\" halign=\"left\">Evanston</th>\n",
       "      <th colspan=\"2\" halign=\"left\">Chicago</th>\n",
       "      <th colspan=\"2\" halign=\"left\">San Francisco</th>\n",
       "      <th colspan=\"2\" halign=\"left\">Los Angeles</th>\n",
       "    </tr>\n",
       "    <tr>\n",
       "      <th>Information type</th>\n",
       "      <th>Demographics</th>\n",
       "      <th>Geography</th>\n",
       "      <th>Demographics</th>\n",
       "      <th>Geography</th>\n",
       "      <th>Demographics</th>\n",
       "      <th>Geography</th>\n",
       "      <th>Demographics</th>\n",
       "      <th>Geography</th>\n",
       "    </tr>\n",
       "    <tr>\n",
       "      <th>Statistic</th>\n",
       "      <th></th>\n",
       "      <th></th>\n",
       "      <th></th>\n",
       "      <th></th>\n",
       "      <th></th>\n",
       "      <th></th>\n",
       "      <th></th>\n",
       "      <th></th>\n",
       "    </tr>\n",
       "  </thead>\n",
       "  <tbody>\n",
       "    <tr>\n",
       "      <th>Area (mile-sq)</th>\n",
       "      <td>NaN</td>\n",
       "      <td>7.8</td>\n",
       "      <td>NaN</td>\n",
       "      <td>234.5</td>\n",
       "      <td>NaN</td>\n",
       "      <td>46.9</td>\n",
       "      <td>NaN</td>\n",
       "      <td>502.0</td>\n",
       "    </tr>\n",
       "    <tr>\n",
       "      <th>Elevation (feet)</th>\n",
       "      <td>NaN</td>\n",
       "      <td>6749.0</td>\n",
       "      <td>NaN</td>\n",
       "      <td>597.0</td>\n",
       "      <td>NaN</td>\n",
       "      <td>52.0</td>\n",
       "      <td>NaN</td>\n",
       "      <td>305.0</td>\n",
       "    </tr>\n",
       "    <tr>\n",
       "      <th>Population</th>\n",
       "      <td>771517.0</td>\n",
       "      <td>NaN</td>\n",
       "      <td>2697000.0</td>\n",
       "      <td>NaN</td>\n",
       "      <td>815201.0</td>\n",
       "      <td>NaN</td>\n",
       "      <td>3849000.0</td>\n",
       "      <td>NaN</td>\n",
       "    </tr>\n",
       "    <tr>\n",
       "      <th>Unemployement (%)</th>\n",
       "      <td>4.2</td>\n",
       "      <td>NaN</td>\n",
       "      <td>5.6</td>\n",
       "      <td>NaN</td>\n",
       "      <td>2.8</td>\n",
       "      <td>NaN</td>\n",
       "      <td>4.6</td>\n",
       "      <td>NaN</td>\n",
       "    </tr>\n",
       "  </tbody>\n",
       "</table>\n",
       "</div>"
      ],
      "text/plain": [
       "State                 Illinois                                     California  \\\n",
       "City                  Evanston                Chicago           San Francisco   \n",
       "Information type  Demographics Geography Demographics Geography  Demographics   \n",
       "Statistic                                                                       \n",
       "Area (mile-sq)             NaN       7.8          NaN     234.5           NaN   \n",
       "Elevation (feet)           NaN    6749.0          NaN     597.0           NaN   \n",
       "Population            771517.0       NaN    2697000.0       NaN      815201.0   \n",
       "Unemployement (%)          4.2       NaN          5.6       NaN           2.8   \n",
       "\n",
       "State                                               \n",
       "City                         Los Angeles            \n",
       "Information type  Geography Demographics Geography  \n",
       "Statistic                                           \n",
       "Area (mile-sq)         46.9          NaN     502.0  \n",
       "Elevation (feet)       52.0          NaN     305.0  \n",
       "Population              NaN    3849000.0       NaN  \n",
       "Unemployement (%)       NaN          4.6       NaN  "
      ]
     },
     "execution_count": 188,
     "metadata": {},
     "output_type": "execute_result"
    }
   ],
   "source": [
    "#Pivoting the outer level (level = 0) of row labels to the inner-most level of column labels\n",
    "df_example.unstack(level=0)"
   ]
  },
  {
   "cell_type": "markdown",
   "id": "510582b7",
   "metadata": {},
   "source": [
    "#### `stack()`\n",
    "\n",
    "The inverse of `unstack()` is the [`stack()`](https://pandas.pydata.org/pandas-docs/stable/reference/api/pandas.DataFrame.stack.html) method, which creates the inner-most level of row indices by pivoting the column labels of the prescribed level."
   ]
  },
  {
   "cell_type": "markdown",
   "id": "7990e733",
   "metadata": {},
   "source": [
    "Note that if the column labels have only one level, so we don't need to specify a level. "
   ]
  },
  {
   "cell_type": "code",
   "execution_count": 66,
   "id": "9d677231",
   "metadata": {},
   "outputs": [
    {
     "data": {
      "text/plain": [
       "English  1       these\n",
       "         2         are\n",
       "         3     english\n",
       "         4       words\n",
       "French   1          ce\n",
       "         2        sont\n",
       "         3         des\n",
       "         4     françai\n",
       "         5        mots\n",
       "Spanish  1       estas\n",
       "         2         son\n",
       "         3    palabras\n",
       "         4          en\n",
       "         5     español\n",
       "dtype: object"
      ]
     },
     "execution_count": 66,
     "metadata": {},
     "output_type": "execute_result"
    }
   ],
   "source": [
    "#Stacking the columns of a DataFrame\n",
    "series_example_unstack.stack()"
   ]
  },
  {
   "cell_type": "markdown",
   "id": "2262bef5",
   "metadata": {},
   "source": [
    "However, if the columns have multiple levels, we can specify the level to stack as the inner-most row level. By default, inner-most column level is stacked."
   ]
  },
  {
   "cell_type": "code",
   "execution_count": 195,
   "id": "33d7a8bf",
   "metadata": {},
   "outputs": [
    {
     "data": {
      "text/html": [
       "<div>\n",
       "<style scoped>\n",
       "    .dataframe tbody tr th:only-of-type {\n",
       "        vertical-align: middle;\n",
       "    }\n",
       "\n",
       "    .dataframe tbody tr th {\n",
       "        vertical-align: top;\n",
       "    }\n",
       "\n",
       "    .dataframe thead th {\n",
       "        text-align: right;\n",
       "    }\n",
       "</style>\n",
       "<table border=\"1\" class=\"dataframe\">\n",
       "  <thead>\n",
       "    <tr style=\"text-align: right;\">\n",
       "      <th></th>\n",
       "      <th></th>\n",
       "      <th>State</th>\n",
       "      <th>California</th>\n",
       "      <th>Illinois</th>\n",
       "    </tr>\n",
       "    <tr>\n",
       "      <th>Information type</th>\n",
       "      <th>Statistic</th>\n",
       "      <th>City</th>\n",
       "      <th></th>\n",
       "      <th></th>\n",
       "    </tr>\n",
       "  </thead>\n",
       "  <tbody>\n",
       "    <tr>\n",
       "      <th rowspan=\"8\" valign=\"top\">Demographics</th>\n",
       "      <th rowspan=\"4\" valign=\"top\">Population</th>\n",
       "      <th>Chicago</th>\n",
       "      <td>NaN</td>\n",
       "      <td>2697000.0</td>\n",
       "    </tr>\n",
       "    <tr>\n",
       "      <th>Evanston</th>\n",
       "      <td>NaN</td>\n",
       "      <td>771517.0</td>\n",
       "    </tr>\n",
       "    <tr>\n",
       "      <th>Los Angeles</th>\n",
       "      <td>3849000.0</td>\n",
       "      <td>NaN</td>\n",
       "    </tr>\n",
       "    <tr>\n",
       "      <th>San Francisco</th>\n",
       "      <td>815201.0</td>\n",
       "      <td>NaN</td>\n",
       "    </tr>\n",
       "    <tr>\n",
       "      <th rowspan=\"4\" valign=\"top\">Unemployement (%)</th>\n",
       "      <th>Chicago</th>\n",
       "      <td>NaN</td>\n",
       "      <td>5.6</td>\n",
       "    </tr>\n",
       "    <tr>\n",
       "      <th>Evanston</th>\n",
       "      <td>NaN</td>\n",
       "      <td>4.2</td>\n",
       "    </tr>\n",
       "    <tr>\n",
       "      <th>Los Angeles</th>\n",
       "      <td>4.6</td>\n",
       "      <td>NaN</td>\n",
       "    </tr>\n",
       "    <tr>\n",
       "      <th>San Francisco</th>\n",
       "      <td>2.8</td>\n",
       "      <td>NaN</td>\n",
       "    </tr>\n",
       "    <tr>\n",
       "      <th rowspan=\"8\" valign=\"top\">Geography</th>\n",
       "      <th rowspan=\"4\" valign=\"top\">Area (mile-sq)</th>\n",
       "      <th>Chicago</th>\n",
       "      <td>NaN</td>\n",
       "      <td>234.5</td>\n",
       "    </tr>\n",
       "    <tr>\n",
       "      <th>Evanston</th>\n",
       "      <td>NaN</td>\n",
       "      <td>7.8</td>\n",
       "    </tr>\n",
       "    <tr>\n",
       "      <th>Los Angeles</th>\n",
       "      <td>502.0</td>\n",
       "      <td>NaN</td>\n",
       "    </tr>\n",
       "    <tr>\n",
       "      <th>San Francisco</th>\n",
       "      <td>46.9</td>\n",
       "      <td>NaN</td>\n",
       "    </tr>\n",
       "    <tr>\n",
       "      <th rowspan=\"4\" valign=\"top\">Elevation (feet)</th>\n",
       "      <th>Chicago</th>\n",
       "      <td>NaN</td>\n",
       "      <td>597.0</td>\n",
       "    </tr>\n",
       "    <tr>\n",
       "      <th>Evanston</th>\n",
       "      <td>NaN</td>\n",
       "      <td>6749.0</td>\n",
       "    </tr>\n",
       "    <tr>\n",
       "      <th>Los Angeles</th>\n",
       "      <td>305.0</td>\n",
       "      <td>NaN</td>\n",
       "    </tr>\n",
       "    <tr>\n",
       "      <th>San Francisco</th>\n",
       "      <td>52.0</td>\n",
       "      <td>NaN</td>\n",
       "    </tr>\n",
       "  </tbody>\n",
       "</table>\n",
       "</div>"
      ],
      "text/plain": [
       "State                                             California   Illinois\n",
       "Information type Statistic         City                                \n",
       "Demographics     Population        Chicago               NaN  2697000.0\n",
       "                                   Evanston              NaN   771517.0\n",
       "                                   Los Angeles     3849000.0        NaN\n",
       "                                   San Francisco    815201.0        NaN\n",
       "                 Unemployement (%) Chicago               NaN        5.6\n",
       "                                   Evanston              NaN        4.2\n",
       "                                   Los Angeles           4.6        NaN\n",
       "                                   San Francisco         2.8        NaN\n",
       "Geography        Area (mile-sq)    Chicago               NaN      234.5\n",
       "                                   Evanston              NaN        7.8\n",
       "                                   Los Angeles         502.0        NaN\n",
       "                                   San Francisco        46.9        NaN\n",
       "                 Elevation (feet)  Chicago               NaN      597.0\n",
       "                                   Evanston              NaN     6749.0\n",
       "                                   Los Angeles         305.0        NaN\n",
       "                                   San Francisco        52.0        NaN"
      ]
     },
     "execution_count": 195,
     "metadata": {},
     "output_type": "execute_result"
    }
   ],
   "source": [
    "#Stacking the inner-most column labels inner-most row indices\n",
    "df_example.stack()"
   ]
  },
  {
   "cell_type": "code",
   "execution_count": 196,
   "id": "5bf2269b",
   "metadata": {},
   "outputs": [
    {
     "data": {
      "text/html": [
       "<div>\n",
       "<style scoped>\n",
       "    .dataframe tbody tr th:only-of-type {\n",
       "        vertical-align: middle;\n",
       "    }\n",
       "\n",
       "    .dataframe tbody tr th {\n",
       "        vertical-align: top;\n",
       "    }\n",
       "\n",
       "    .dataframe thead th {\n",
       "        text-align: right;\n",
       "    }\n",
       "</style>\n",
       "<table border=\"1\" class=\"dataframe\">\n",
       "  <thead>\n",
       "    <tr style=\"text-align: right;\">\n",
       "      <th></th>\n",
       "      <th></th>\n",
       "      <th>City</th>\n",
       "      <th>Chicago</th>\n",
       "      <th>Evanston</th>\n",
       "      <th>Los Angeles</th>\n",
       "      <th>San Francisco</th>\n",
       "    </tr>\n",
       "    <tr>\n",
       "      <th>Information type</th>\n",
       "      <th>Statistic</th>\n",
       "      <th>State</th>\n",
       "      <th></th>\n",
       "      <th></th>\n",
       "      <th></th>\n",
       "      <th></th>\n",
       "    </tr>\n",
       "  </thead>\n",
       "  <tbody>\n",
       "    <tr>\n",
       "      <th rowspan=\"4\" valign=\"top\">Demographics</th>\n",
       "      <th rowspan=\"2\" valign=\"top\">Population</th>\n",
       "      <th>California</th>\n",
       "      <td>NaN</td>\n",
       "      <td>NaN</td>\n",
       "      <td>3849000.0</td>\n",
       "      <td>815201.0</td>\n",
       "    </tr>\n",
       "    <tr>\n",
       "      <th>Illinois</th>\n",
       "      <td>2697000.0</td>\n",
       "      <td>771517.0</td>\n",
       "      <td>NaN</td>\n",
       "      <td>NaN</td>\n",
       "    </tr>\n",
       "    <tr>\n",
       "      <th rowspan=\"2\" valign=\"top\">Unemployement (%)</th>\n",
       "      <th>California</th>\n",
       "      <td>NaN</td>\n",
       "      <td>NaN</td>\n",
       "      <td>4.6</td>\n",
       "      <td>2.8</td>\n",
       "    </tr>\n",
       "    <tr>\n",
       "      <th>Illinois</th>\n",
       "      <td>5.6</td>\n",
       "      <td>4.2</td>\n",
       "      <td>NaN</td>\n",
       "      <td>NaN</td>\n",
       "    </tr>\n",
       "    <tr>\n",
       "      <th rowspan=\"4\" valign=\"top\">Geography</th>\n",
       "      <th rowspan=\"2\" valign=\"top\">Area (mile-sq)</th>\n",
       "      <th>California</th>\n",
       "      <td>NaN</td>\n",
       "      <td>NaN</td>\n",
       "      <td>502.0</td>\n",
       "      <td>46.9</td>\n",
       "    </tr>\n",
       "    <tr>\n",
       "      <th>Illinois</th>\n",
       "      <td>234.5</td>\n",
       "      <td>7.8</td>\n",
       "      <td>NaN</td>\n",
       "      <td>NaN</td>\n",
       "    </tr>\n",
       "    <tr>\n",
       "      <th rowspan=\"2\" valign=\"top\">Elevation (feet)</th>\n",
       "      <th>California</th>\n",
       "      <td>NaN</td>\n",
       "      <td>NaN</td>\n",
       "      <td>305.0</td>\n",
       "      <td>52.0</td>\n",
       "    </tr>\n",
       "    <tr>\n",
       "      <th>Illinois</th>\n",
       "      <td>597.0</td>\n",
       "      <td>6749.0</td>\n",
       "      <td>NaN</td>\n",
       "      <td>NaN</td>\n",
       "    </tr>\n",
       "  </tbody>\n",
       "</table>\n",
       "</div>"
      ],
      "text/plain": [
       "City                                             Chicago  Evanston  \\\n",
       "Information type Statistic         State                             \n",
       "Demographics     Population        California        NaN       NaN   \n",
       "                                   Illinois    2697000.0  771517.0   \n",
       "                 Unemployement (%) California        NaN       NaN   \n",
       "                                   Illinois          5.6       4.2   \n",
       "Geography        Area (mile-sq)    California        NaN       NaN   \n",
       "                                   Illinois        234.5       7.8   \n",
       "                 Elevation (feet)  California        NaN       NaN   \n",
       "                                   Illinois        597.0    6749.0   \n",
       "\n",
       "City                                           Los Angeles  San Francisco  \n",
       "Information type Statistic         State                                   \n",
       "Demographics     Population        California    3849000.0       815201.0  \n",
       "                                   Illinois            NaN            NaN  \n",
       "                 Unemployement (%) California          4.6            2.8  \n",
       "                                   Illinois            NaN            NaN  \n",
       "Geography        Area (mile-sq)    California        502.0           46.9  \n",
       "                                   Illinois            NaN            NaN  \n",
       "                 Elevation (feet)  California        305.0           52.0  \n",
       "                                   Illinois            NaN            NaN  "
      ]
     },
     "execution_count": 196,
     "metadata": {},
     "output_type": "execute_result"
    }
   ],
   "source": [
    "#Stacking the outer column labels inner-most row indices\n",
    "df_example.stack(level=0)"
   ]
  }
 ],
 "metadata": {
  "kernelspec": {
   "display_name": "Python 3",
   "language": "python",
   "name": "python3"
  },
  "language_info": {
   "codemirror_mode": {
    "name": "ipython",
    "version": 3
   },
   "file_extension": ".py",
   "mimetype": "text/x-python",
   "name": "python",
   "nbconvert_exporter": "python",
   "pygments_lexer": "ipython3",
   "version": "3.8.8"
  }
 },
 "nbformat": 4,
 "nbformat_minor": 5
}
