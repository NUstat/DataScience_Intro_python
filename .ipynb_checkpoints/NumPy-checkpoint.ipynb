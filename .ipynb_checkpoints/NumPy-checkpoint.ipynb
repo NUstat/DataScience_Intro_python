{
 "cells": [
  {
   "cell_type": "raw",
   "id": "43442d44",
   "metadata": {},
   "source": [
    "---\n",
    "title: \"NumPy\"\n",
    "format: \n",
    "  html:\n",
    "    code-fold: false\n",
    "jupyter: python3\n",
    "---"
   ]
  },
  {
   "cell_type": "markdown",
   "id": "689fae0f",
   "metadata": {},
   "source": [
    "NumPy, short for Numerical Python is used to analyze numeric data with Python. Although numeric operations may be performed without NumPy, NumPy is preferred for its efficiency, especially when working with large arrays of data. A couple of reasons that make NumPy more efficient are:\n",
    "\n",
    "1. NumPy arrays use much less memory than other built-in Python data structures. This is because a NumPy array is densenly packed due to the homogenous nature of data stored in it. This helps retrieve the data faster as well, thereby making computations faster.\n",
    "2. With NumPy, vectorized computations can replace the relatively more expensive python `for` loops."
   ]
  },
  {
   "cell_type": "markdown",
   "id": "86a16ecd",
   "metadata": {},
   "source": [
    "We'll see the above two advantages of NumPy with the examples below."
   ]
  },
  {
   "cell_type": "markdown",
   "id": "acc006b1",
   "metadata": {},
   "source": [
    "Let us import the NumPy library to use its methods and functions."
   ]
  },
  {
   "cell_type": "code",
   "execution_count": 5,
   "id": "13d4cbaf",
   "metadata": {},
   "outputs": [],
   "source": [
    "import numpy as np"
   ]
  },
  {
   "cell_type": "markdown",
   "id": "472541b8",
   "metadata": {},
   "source": [
    "**Example 1:** This example shows that computations using NumPy arrays are typically much faster than computations with other data structures such as a list.\n",
    "\n",
    "**Q:** Multiply whole numbers upto 1 million by an integer, say 2. Compare the time taken for the computation if the numbers are stored in a NumPy array vs a list.\n",
    "\n",
    "Use the numpy function [arange()](https://numpy.org/doc/stable/reference/generated/numpy.arange.html) to define a one-dimensional NumPy array."
   ]
  },
  {
   "cell_type": "code",
   "execution_count": 25,
   "id": "1dbde4fe",
   "metadata": {},
   "outputs": [
    {
     "name": "stdout",
     "output_type": "stream",
     "text": [
      "Time take to multiply numbers in a list =  0.04031014442443848\n",
      "Time take to multiply numbers in a tuple =  0.03827619552612305\n",
      "Time take to multiply numbers in a NumPy array =  0.0\n"
     ]
    }
   ],
   "source": [
    "#Examples showing NumPy arrays are more efficient for numerical computation\n",
    "import time as tm\n",
    "start_time = tm.time()\n",
    "list_ex = list(range(1000000)) #List containinig whole numbers upto 1 million\n",
    "a=(list_ex*2)\n",
    "print(\"Time take to multiply numbers in a list = \", tm.time()-start_time)\n",
    "\n",
    "start_time = tm.time()\n",
    "tuple_ex = tuple(range(1000000)) #List containinig whole numbers upto 1 million\n",
    "a=(tuple_ex*2)\n",
    "print(\"Time take to multiply numbers in a tuple = \", tm.time()-start_time)\n",
    "\n",
    "start_time = tm.time()\n",
    "numpy_ex = np.arange(1000000) #tuple containinig whole numbers upto 1 million\n",
    "a=(numpy_ex*2)\n",
    "print(\"Time take to multiply numbers in a NumPy array = \", tm.time()-start_time)"
   ]
  },
  {
   "cell_type": "markdown",
   "id": "81badd9d",
   "metadata": {},
   "source": [
    "## Vectorized computation with NumPy"
   ]
  },
  {
   "cell_type": "markdown",
   "id": "5164d8a6",
   "metadata": {},
   "source": [
    "Several matrix algebra operations such as multiplications, decompositions, determinants, etc. can be performed convenienetly with NumPy. However, we'll focus on matrix multiplication as it is very commonly used to avoid python `for` loops and make computations faster. The [dot](https://numpy.org/doc/stable/reference/generated/numpy.dot.html) function is used to multiply matrices:"
   ]
  },
  {
   "cell_type": "code",
   "execution_count": 98,
   "id": "a2819848",
   "metadata": {},
   "outputs": [
    {
     "data": {
      "text/plain": [
       "array([[0, 1],\n",
       "       [3, 4]])"
      ]
     },
     "execution_count": 98,
     "metadata": {},
     "output_type": "execute_result"
    }
   ],
   "source": [
    "#Defining a 2x3 matrix\n",
    "a = np.array([[0,1],[3,4]])\n",
    "a"
   ]
  },
  {
   "cell_type": "code",
   "execution_count": 99,
   "id": "b446d72f",
   "metadata": {},
   "outputs": [
    {
     "data": {
      "text/plain": [
       "array([[ 6, -1],\n",
       "       [ 2,  1]])"
      ]
     },
     "execution_count": 99,
     "metadata": {},
     "output_type": "execute_result"
    }
   ],
   "source": [
    "#Defining a 3x2 matrix\n",
    "b = np.array([[6,-1],[2,1]])\n",
    "b"
   ]
  },
  {
   "cell_type": "code",
   "execution_count": 100,
   "id": "eb71eddc",
   "metadata": {},
   "outputs": [
    {
     "data": {
      "text/plain": [
       "array([[ 2,  1],\n",
       "       [26,  1]])"
      ]
     },
     "execution_count": 100,
     "metadata": {},
     "output_type": "execute_result"
    }
   ],
   "source": [
    "#Multiplying matrices 'a' and 'b' using the dot function\n",
    "a.dot(b)"
   ]
  },
  {
   "cell_type": "code",
   "execution_count": 101,
   "id": "ee3a07ab",
   "metadata": {},
   "outputs": [
    {
     "data": {
      "text/plain": [
       "array([[ 0, -1],\n",
       "       [ 6,  4]])"
      ]
     },
     "execution_count": 101,
     "metadata": {},
     "output_type": "execute_result"
    }
   ],
   "source": [
    "#Note that * results in element-wise multiplication\n",
    "a*b"
   ]
  },
  {
   "cell_type": "markdown",
   "id": "8c6a2555",
   "metadata": {},
   "source": [
    "**Example 2:** This example will show vectorized computations with NumPy. Vectorized computations help perform computations more efficiently, and also make the code concise.\n",
    "\n",
    "**Q:** Read the (1) quantities of roll, bun, cake and bread required by 3 people - Ben, Barbara & Beth, from *food_quantity.csv*, (2) price of these food items in two shops - Target and Kroger, from *price.csv*. Find out which shop should each person go to minimize their expenses."
   ]
  },
  {
   "cell_type": "code",
   "execution_count": 32,
   "id": "fe23bb25",
   "metadata": {},
   "outputs": [],
   "source": [
    "#Reading the datasets on food quantity and price\n",
    "import pandas as pd\n",
    "food_qty = pd.read_csv('./Datasets/food_quantity.csv')\n",
    "price = pd.read_csv('./Datasets/price.csv')"
   ]
  },
  {
   "cell_type": "code",
   "execution_count": 33,
   "id": "ff5d77cd",
   "metadata": {},
   "outputs": [
    {
     "data": {
      "text/html": [
       "<div>\n",
       "<style scoped>\n",
       "    .dataframe tbody tr th:only-of-type {\n",
       "        vertical-align: middle;\n",
       "    }\n",
       "\n",
       "    .dataframe tbody tr th {\n",
       "        vertical-align: top;\n",
       "    }\n",
       "\n",
       "    .dataframe thead th {\n",
       "        text-align: right;\n",
       "    }\n",
       "</style>\n",
       "<table border=\"1\" class=\"dataframe\">\n",
       "  <thead>\n",
       "    <tr style=\"text-align: right;\">\n",
       "      <th></th>\n",
       "      <th>Person</th>\n",
       "      <th>roll</th>\n",
       "      <th>bun</th>\n",
       "      <th>cake</th>\n",
       "      <th>bread</th>\n",
       "    </tr>\n",
       "  </thead>\n",
       "  <tbody>\n",
       "    <tr>\n",
       "      <th>0</th>\n",
       "      <td>Ben</td>\n",
       "      <td>6</td>\n",
       "      <td>5</td>\n",
       "      <td>3</td>\n",
       "      <td>1</td>\n",
       "    </tr>\n",
       "    <tr>\n",
       "      <th>1</th>\n",
       "      <td>Barbara</td>\n",
       "      <td>3</td>\n",
       "      <td>6</td>\n",
       "      <td>2</td>\n",
       "      <td>2</td>\n",
       "    </tr>\n",
       "    <tr>\n",
       "      <th>2</th>\n",
       "      <td>Beth</td>\n",
       "      <td>3</td>\n",
       "      <td>4</td>\n",
       "      <td>3</td>\n",
       "      <td>1</td>\n",
       "    </tr>\n",
       "  </tbody>\n",
       "</table>\n",
       "</div>"
      ],
      "text/plain": [
       "    Person  roll  bun  cake  bread\n",
       "0      Ben     6    5     3      1\n",
       "1  Barbara     3    6     2      2\n",
       "2     Beth     3    4     3      1"
      ]
     },
     "execution_count": 33,
     "metadata": {},
     "output_type": "execute_result"
    }
   ],
   "source": [
    "food_qty"
   ]
  },
  {
   "cell_type": "code",
   "execution_count": 34,
   "id": "c618f543",
   "metadata": {},
   "outputs": [
    {
     "data": {
      "text/html": [
       "<div>\n",
       "<style scoped>\n",
       "    .dataframe tbody tr th:only-of-type {\n",
       "        vertical-align: middle;\n",
       "    }\n",
       "\n",
       "    .dataframe tbody tr th {\n",
       "        vertical-align: top;\n",
       "    }\n",
       "\n",
       "    .dataframe thead th {\n",
       "        text-align: right;\n",
       "    }\n",
       "</style>\n",
       "<table border=\"1\" class=\"dataframe\">\n",
       "  <thead>\n",
       "    <tr style=\"text-align: right;\">\n",
       "      <th></th>\n",
       "      <th>Item</th>\n",
       "      <th>Target</th>\n",
       "      <th>Kroger</th>\n",
       "    </tr>\n",
       "  </thead>\n",
       "  <tbody>\n",
       "    <tr>\n",
       "      <th>0</th>\n",
       "      <td>roll</td>\n",
       "      <td>1.5</td>\n",
       "      <td>1.0</td>\n",
       "    </tr>\n",
       "    <tr>\n",
       "      <th>1</th>\n",
       "      <td>bun</td>\n",
       "      <td>2.0</td>\n",
       "      <td>2.5</td>\n",
       "    </tr>\n",
       "    <tr>\n",
       "      <th>2</th>\n",
       "      <td>cake</td>\n",
       "      <td>5.0</td>\n",
       "      <td>4.5</td>\n",
       "    </tr>\n",
       "    <tr>\n",
       "      <th>3</th>\n",
       "      <td>bread</td>\n",
       "      <td>16.0</td>\n",
       "      <td>17.0</td>\n",
       "    </tr>\n",
       "  </tbody>\n",
       "</table>\n",
       "</div>"
      ],
      "text/plain": [
       "    Item  Target  Kroger\n",
       "0   roll     1.5     1.0\n",
       "1    bun     2.0     2.5\n",
       "2   cake     5.0     4.5\n",
       "3  bread    16.0    17.0"
      ]
     },
     "execution_count": 34,
     "metadata": {},
     "output_type": "execute_result"
    }
   ],
   "source": [
    "price"
   ]
  },
  {
   "cell_type": "markdown",
   "id": "24a4ee1b",
   "metadata": {},
   "source": [
    "First, let's start from a simple problem. We'll compute the expenses of Ben if he prefers to buy all food items from Target"
   ]
  },
  {
   "cell_type": "code",
   "execution_count": 36,
   "id": "f35a8a58",
   "metadata": {},
   "outputs": [
    {
     "data": {
      "text/plain": [
       "50.0"
      ]
     },
     "execution_count": 36,
     "metadata": {},
     "output_type": "execute_result"
    }
   ],
   "source": [
    "#Method 1: Using loop\n",
    "bens_target_expense = 0 #Initializing Ben's expenses to 0\n",
    "for k in range(4):   #Iterating over all the four desired food items\n",
    "    bens_target_expense += food_qty.iloc[0,k+1]*price.iloc[k,1] #Total expenses on the kth item\n",
    "bens_target_expense    #Total expenses for Ben if he goes to Target"
   ]
  },
  {
   "cell_type": "code",
   "execution_count": 37,
   "id": "62ef09bb",
   "metadata": {},
   "outputs": [
    {
     "data": {
      "text/plain": [
       "50.0"
      ]
     },
     "execution_count": 37,
     "metadata": {},
     "output_type": "execute_result"
    }
   ],
   "source": [
    "#Method 2: Using NumPy array\n",
    "food_num = food_qty.iloc[0,1:].to_numpy()  #Converting food quantity (for Ben) dataframe to NumPy array\n",
    "price_num = price.iloc[:,1].to_numpy()     #Converting price (for Target) dataframe to NumPy array\n",
    "food_num.dot(price_num)   #Matrix multiplication of the quantity vector with the price vector directly yields the result"
   ]
  },
  {
   "cell_type": "markdown",
   "id": "814f4dfb",
   "metadata": {},
   "source": [
    "Ben will spend $50 if he goes to Target"
   ]
  },
  {
   "cell_type": "markdown",
   "id": "12b6a800",
   "metadata": {},
   "source": [
    "Now, let's add another layer of complication. We'll compute Ben's expenses for both stores - Target and Kroger"
   ]
  },
  {
   "cell_type": "code",
   "execution_count": 38,
   "id": "0b578411",
   "metadata": {},
   "outputs": [
    {
     "data": {
      "text/plain": [
       "Target    50.0\n",
       "Kroger    49.0\n",
       "dtype: float64"
      ]
     },
     "execution_count": 38,
     "metadata": {},
     "output_type": "execute_result"
    }
   ],
   "source": [
    "#Method 1: Using loops\n",
    "\n",
    "#Initializing a Series of length two to store the expenses in Target and Kroger for Ben\n",
    "bens_store_expense = pd.Series(0.0,index=price.columns[1:3])\n",
    "for j in range(2):      #Iterating over both the stores - Target and Kroger\n",
    "    for k in range(4):        #Iterating over all the four desired food items\n",
    "        bens_store_expense[j] += food_qty.iloc[0,k+1]*price.iloc[k,j+1]\n",
    "bens_store_expense"
   ]
  },
  {
   "cell_type": "code",
   "execution_count": 39,
   "id": "4aaf0371",
   "metadata": {},
   "outputs": [
    {
     "data": {
      "text/plain": [
       "array([50.0, 49.0], dtype=object)"
      ]
     },
     "execution_count": 39,
     "metadata": {},
     "output_type": "execute_result"
    }
   ],
   "source": [
    "#Method 2: Using NumPy array\n",
    "food_num = food_qty.iloc[0,1:].to_numpy()  #Converting food quantity (for Ben) dataframe to NumPy array\n",
    "price_num = price.iloc[:,1:].to_numpy()    #Converting price dataframe to NumPy array\n",
    "food_num.dot(price_num)      #Matrix multiplication of the quantity vector with the price matrix directly yields the result"
   ]
  },
  {
   "cell_type": "markdown",
   "id": "b5b0f461",
   "metadata": {},
   "source": [
    "Ben will spend \\\\$50 if he goes to Target, and $49 if he goes to Kroger. Thus, he should choose Kroger."
   ]
  },
  {
   "cell_type": "markdown",
   "id": "0a2bf0d6",
   "metadata": {},
   "source": [
    "Now, let's add the final layer of complication, and solve the problem. We'll compute everyone's expenses for both stores - Target and Kroger"
   ]
  },
  {
   "cell_type": "code",
   "execution_count": 40,
   "id": "ea2864d1",
   "metadata": {},
   "outputs": [
    {
     "data": {
      "text/html": [
       "<div>\n",
       "<style scoped>\n",
       "    .dataframe tbody tr th:only-of-type {\n",
       "        vertical-align: middle;\n",
       "    }\n",
       "\n",
       "    .dataframe tbody tr th {\n",
       "        vertical-align: top;\n",
       "    }\n",
       "\n",
       "    .dataframe thead th {\n",
       "        text-align: right;\n",
       "    }\n",
       "</style>\n",
       "<table border=\"1\" class=\"dataframe\">\n",
       "  <thead>\n",
       "    <tr style=\"text-align: right;\">\n",
       "      <th>Person</th>\n",
       "      <th>Ben</th>\n",
       "      <th>Barbara</th>\n",
       "      <th>Beth</th>\n",
       "    </tr>\n",
       "  </thead>\n",
       "  <tbody>\n",
       "    <tr>\n",
       "      <th>Target</th>\n",
       "      <td>50.0</td>\n",
       "      <td>58.5</td>\n",
       "      <td>43.5</td>\n",
       "    </tr>\n",
       "    <tr>\n",
       "      <th>Kroger</th>\n",
       "      <td>49.0</td>\n",
       "      <td>61.0</td>\n",
       "      <td>43.5</td>\n",
       "    </tr>\n",
       "  </tbody>\n",
       "</table>\n",
       "</div>"
      ],
      "text/plain": [
       "Person   Ben  Barbara  Beth\n",
       "Target  50.0     58.5  43.5\n",
       "Kroger  49.0     61.0  43.5"
      ]
     },
     "execution_count": 40,
     "metadata": {},
     "output_type": "execute_result"
    }
   ],
   "source": [
    "#Method 1: Using loops\n",
    "store_expense = pd.DataFrame(0.0,index=price.columns[1:3],columns = food_qty['Person'])\n",
    "for i in range(3):    #Iterating over all the three people - Ben, Barbara, and Beth\n",
    "    for j in range(2):     #Iterating over both the stores - Target and Kroger\n",
    "        for k in range(4):        #Iterating over all the four desired food items\n",
    "            store_expense.iloc[j,i] += food_qty.iloc[i,k+1]*price.iloc[k,j+1]\n",
    "store_expense"
   ]
  },
  {
   "cell_type": "code",
   "execution_count": 41,
   "id": "a6b22162",
   "metadata": {},
   "outputs": [
    {
     "data": {
      "text/plain": [
       "array([[50. , 49. ],\n",
       "       [58.5, 61. ],\n",
       "       [43.5, 43.5]])"
      ]
     },
     "execution_count": 41,
     "metadata": {},
     "output_type": "execute_result"
    }
   ],
   "source": [
    "#Method 2: Using NumPy array\n",
    "food_num = food_qty.iloc[:,1:].to_numpy() #Converting food quantity dataframe to NumPy array\n",
    "price_num = price.iloc[:,1:].to_numpy()  #Converting price dataframe to NumPy array\n",
    "food_num.dot(price_num)  #Matrix multiplication of the quantity matrix with the price matrix directly yields the result"
   ]
  },
  {
   "cell_type": "markdown",
   "id": "4b41dd9b",
   "metadata": {},
   "source": [
    "Based on the above table, Ben should go to Kroger, Barbara to Target and Beth can go to either store.  \\\n",
    "Note that, with each layer of complication, the number of for loops keep increasing, thereby increasing the complexity of Method 1, while the method with NumPy array does not change much. Vectorized computations with arrays are much more efficient."
   ]
  },
  {
   "cell_type": "markdown",
   "id": "42fc9c17",
   "metadata": {},
   "source": [
    "### In-class exercise {-}\n",
    "\n",
    "Use matrix multiplication to find the average IMDB rating and average Rotten tomatoes rating for each genre - comedy, action, drama and horror. Use the data: *movies_cleaned.csv*. Which is the most preferred genre for IMDB users, and which is the least preferred genre for Rotten Tomatoes users?\n",
    "\n",
    "**Hint:** \n",
    "1. Create two matrices - one containing the IMDB and Rotten Tomatoes ratings, and the other containing the genre flags (comedy/action/drama/horror). \n",
    "2. Multiply the two matrices created in 1.\n",
    "3. Divide each row/column of the resulting matrix by a vector having the number of ratings in each genre to get the average rating for the genre."
   ]
  },
  {
   "cell_type": "code",
   "execution_count": 78,
   "id": "0b1f5c96",
   "metadata": {},
   "outputs": [
    {
     "data": {
      "text/html": [
       "<div>\n",
       "<style scoped>\n",
       "    .dataframe tbody tr th:only-of-type {\n",
       "        vertical-align: middle;\n",
       "    }\n",
       "\n",
       "    .dataframe tbody tr th {\n",
       "        vertical-align: top;\n",
       "    }\n",
       "\n",
       "    .dataframe thead th {\n",
       "        text-align: right;\n",
       "    }\n",
       "</style>\n",
       "<table border=\"1\" class=\"dataframe\">\n",
       "  <thead>\n",
       "    <tr style=\"text-align: right;\">\n",
       "      <th></th>\n",
       "      <th>Title</th>\n",
       "      <th>IMDB Rating</th>\n",
       "      <th>Rotten Tomatoes Rating</th>\n",
       "      <th>Running Time min</th>\n",
       "      <th>Release Date</th>\n",
       "      <th>US Gross</th>\n",
       "      <th>Worldwide Gross</th>\n",
       "      <th>Production Budget</th>\n",
       "      <th>comedy</th>\n",
       "      <th>Action</th>\n",
       "      <th>drama</th>\n",
       "      <th>horror</th>\n",
       "    </tr>\n",
       "  </thead>\n",
       "  <tbody>\n",
       "    <tr>\n",
       "      <th>0</th>\n",
       "      <td>Broken Arrow</td>\n",
       "      <td>5.8</td>\n",
       "      <td>55</td>\n",
       "      <td>108</td>\n",
       "      <td>Feb 09 1996</td>\n",
       "      <td>70645997</td>\n",
       "      <td>148345997</td>\n",
       "      <td>65000000</td>\n",
       "      <td>0</td>\n",
       "      <td>1</td>\n",
       "      <td>0</td>\n",
       "      <td>0</td>\n",
       "    </tr>\n",
       "    <tr>\n",
       "      <th>1</th>\n",
       "      <td>Brazil</td>\n",
       "      <td>8.0</td>\n",
       "      <td>98</td>\n",
       "      <td>136</td>\n",
       "      <td>Dec 18 1985</td>\n",
       "      <td>9929135</td>\n",
       "      <td>9929135</td>\n",
       "      <td>15000000</td>\n",
       "      <td>1</td>\n",
       "      <td>0</td>\n",
       "      <td>0</td>\n",
       "      <td>0</td>\n",
       "    </tr>\n",
       "    <tr>\n",
       "      <th>2</th>\n",
       "      <td>The Cable Guy</td>\n",
       "      <td>5.8</td>\n",
       "      <td>52</td>\n",
       "      <td>95</td>\n",
       "      <td>Jun 14 1996</td>\n",
       "      <td>60240295</td>\n",
       "      <td>102825796</td>\n",
       "      <td>47000000</td>\n",
       "      <td>1</td>\n",
       "      <td>0</td>\n",
       "      <td>0</td>\n",
       "      <td>0</td>\n",
       "    </tr>\n",
       "    <tr>\n",
       "      <th>3</th>\n",
       "      <td>Chain Reaction</td>\n",
       "      <td>5.2</td>\n",
       "      <td>13</td>\n",
       "      <td>106</td>\n",
       "      <td>Aug 02 1996</td>\n",
       "      <td>21226204</td>\n",
       "      <td>60209334</td>\n",
       "      <td>55000000</td>\n",
       "      <td>0</td>\n",
       "      <td>1</td>\n",
       "      <td>0</td>\n",
       "      <td>0</td>\n",
       "    </tr>\n",
       "    <tr>\n",
       "      <th>4</th>\n",
       "      <td>Clash of the Titans</td>\n",
       "      <td>5.9</td>\n",
       "      <td>65</td>\n",
       "      <td>108</td>\n",
       "      <td>Jun 12 1981</td>\n",
       "      <td>30000000</td>\n",
       "      <td>30000000</td>\n",
       "      <td>15000000</td>\n",
       "      <td>0</td>\n",
       "      <td>1</td>\n",
       "      <td>0</td>\n",
       "      <td>0</td>\n",
       "    </tr>\n",
       "  </tbody>\n",
       "</table>\n",
       "</div>"
      ],
      "text/plain": [
       "                 Title  IMDB Rating  Rotten Tomatoes Rating  Running Time min  \\\n",
       "0         Broken Arrow          5.8                      55               108   \n",
       "1               Brazil          8.0                      98               136   \n",
       "2        The Cable Guy          5.8                      52                95   \n",
       "3       Chain Reaction          5.2                      13               106   \n",
       "4  Clash of the Titans          5.9                      65               108   \n",
       "\n",
       "  Release Date  US Gross  Worldwide Gross  Production Budget  comedy  Action  \\\n",
       "0  Feb 09 1996  70645997        148345997           65000000       0       1   \n",
       "1  Dec 18 1985   9929135          9929135           15000000       1       0   \n",
       "2  Jun 14 1996  60240295        102825796           47000000       1       0   \n",
       "3  Aug 02 1996  21226204         60209334           55000000       0       1   \n",
       "4  Jun 12 1981  30000000         30000000           15000000       0       1   \n",
       "\n",
       "   drama  horror  \n",
       "0      0       0  \n",
       "1      0       0  \n",
       "2      0       0  \n",
       "3      0       0  \n",
       "4      0       0  "
      ]
     },
     "execution_count": 78,
     "metadata": {},
     "output_type": "execute_result"
    }
   ],
   "source": [
    "#| echo: false\n",
    "#| output: false\n",
    "\n",
    "data = pd.read_csv('./Datasets/movies_cleaned.csv')\n",
    "data.head()"
   ]
  },
  {
   "cell_type": "code",
   "execution_count": 63,
   "id": "47710e17",
   "metadata": {},
   "outputs": [],
   "source": [
    "#| echo: false\n",
    "#| output: false\n",
    "\n",
    "# Getting ratings of all movies\n",
    "drating = data[['IMDB Rating','Rotten Tomatoes Rating']]\n",
    "drating_num = drating.to_numpy() #Converting the data to NumPy array\n",
    "\n",
    "# Getting genres of all movies\n",
    "dgenre = data.iloc[:,8:12]\n",
    "dgenre_num = dgenre.to_numpy() #Converting the data to NumPy array"
   ]
  },
  {
   "cell_type": "code",
   "execution_count": 64,
   "id": "33c243e9",
   "metadata": {},
   "outputs": [
    {
     "data": {
      "text/plain": [
       "array([[0, 1, 0, 0],\n",
       "       [1, 0, 0, 0],\n",
       "       [1, 0, 0, 0],\n",
       "       ...,\n",
       "       [1, 0, 0, 0],\n",
       "       [0, 1, 0, 0],\n",
       "       [0, 1, 0, 0]], dtype=int64)"
      ]
     },
     "execution_count": 64,
     "metadata": {},
     "output_type": "execute_result"
    }
   ],
   "source": [
    "#| echo: false\n",
    "#| output: false\n",
    "\n",
    "dgenre_num"
   ]
  },
  {
   "cell_type": "code",
   "execution_count": 65,
   "id": "29c9f347",
   "metadata": {},
   "outputs": [
    {
     "data": {
      "text/plain": [
       "array([[ 1785.6,  1673.1,  1630.3,   946.2],\n",
       "       [14119. , 13725. , 14535. ,  6533. ]])"
      ]
     },
     "execution_count": 65,
     "metadata": {},
     "output_type": "execute_result"
    }
   ],
   "source": [
    "#| echo: false\n",
    "#| output: false\n",
    "\n",
    "#Total IMDB and Rotten tomatoes ratings for each genre\n",
    "ratings_sum_genre = drating_num.T.dot(dgenre_num)\n",
    "ratings_sum_genre"
   ]
  },
  {
   "cell_type": "code",
   "execution_count": 66,
   "id": "38d4ee04",
   "metadata": {},
   "outputs": [],
   "source": [
    "#| echo: false\n",
    "#| output: false\n",
    "\n",
    "#Number of movies in the data will be stored in 'rows', and number of columns stored in 'cols'\n",
    "rows, cols = data.shape"
   ]
  },
  {
   "cell_type": "code",
   "execution_count": 67,
   "id": "a93df8cd",
   "metadata": {},
   "outputs": [
    {
     "data": {
      "text/plain": [
       "array([302., 264., 239., 154.])"
      ]
     },
     "execution_count": 67,
     "metadata": {},
     "output_type": "execute_result"
    }
   ],
   "source": [
    "#| echo: false\n",
    "#| output: false\n",
    "\n",
    "#Getting number of movies in each genre\n",
    "movies_count_genre = dgenre_num.T.dot(np.ones(rows))\n",
    "movies_count_genre"
   ]
  },
  {
   "cell_type": "code",
   "execution_count": 68,
   "id": "cb066251",
   "metadata": {},
   "outputs": [
    {
     "data": {
      "text/plain": [
       "array([[ 5.91258278,  6.3375    ,  6.82133891,  6.14415584],\n",
       "       [46.75165563, 51.98863636, 60.81589958, 42.42207792]])"
      ]
     },
     "execution_count": 68,
     "metadata": {},
     "output_type": "execute_result"
    }
   ],
   "source": [
    "#| echo: false\n",
    "#| output: false\n",
    "\n",
    "#Finding the average IMDB and average Rotten tomatoes ratings for each genre\n",
    "ratings_sum_genre/movies_count_genre"
   ]
  },
  {
   "cell_type": "code",
   "execution_count": 71,
   "id": "06ae04ec",
   "metadata": {},
   "outputs": [
    {
     "data": {
      "text/html": [
       "<div>\n",
       "<style scoped>\n",
       "    .dataframe tbody tr th:only-of-type {\n",
       "        vertical-align: middle;\n",
       "    }\n",
       "\n",
       "    .dataframe tbody tr th {\n",
       "        vertical-align: top;\n",
       "    }\n",
       "\n",
       "    .dataframe thead th {\n",
       "        text-align: right;\n",
       "    }\n",
       "</style>\n",
       "<table border=\"1\" class=\"dataframe\">\n",
       "  <thead>\n",
       "    <tr style=\"text-align: right;\">\n",
       "      <th></th>\n",
       "      <th>comedy</th>\n",
       "      <th>Action</th>\n",
       "      <th>drama</th>\n",
       "      <th>horror</th>\n",
       "    </tr>\n",
       "  </thead>\n",
       "  <tbody>\n",
       "    <tr>\n",
       "      <th>IMDB Rating</th>\n",
       "      <td>5.912583</td>\n",
       "      <td>6.337500</td>\n",
       "      <td>6.821339</td>\n",
       "      <td>6.144156</td>\n",
       "    </tr>\n",
       "    <tr>\n",
       "      <th>Rotten Tomatoes Rating</th>\n",
       "      <td>46.751656</td>\n",
       "      <td>51.988636</td>\n",
       "      <td>60.815900</td>\n",
       "      <td>42.422078</td>\n",
       "    </tr>\n",
       "  </tbody>\n",
       "</table>\n",
       "</div>"
      ],
      "text/plain": [
       "                           comedy     Action      drama     horror\n",
       "IMDB Rating              5.912583   6.337500   6.821339   6.144156\n",
       "Rotten Tomatoes Rating  46.751656  51.988636  60.815900  42.422078"
      ]
     },
     "execution_count": 71,
     "metadata": {},
     "output_type": "execute_result"
    }
   ],
   "source": [
    "#| echo: false\n",
    "#| output: false\n",
    "\n",
    "pd.DataFrame(ratings_sum_genre/movies_count_genre,columns = ['comedy','Action','drama','horror'],\n",
    "             index = ['IMDB Rating','Rotten Tomatoes Rating'])"
   ]
  },
  {
   "cell_type": "code",
   "execution_count": null,
   "id": "1c1720c2",
   "metadata": {},
   "outputs": [],
   "source": [
    "#| echo: false\n",
    "\n",
    "#IMDB users prefer *drama*, and are amused the least by *comedy* movies, on an average. However, Rotten tomatoes critics would rather watch *comedy* than *horror* movies, on an average."
   ]
  },
  {
   "cell_type": "markdown",
   "id": "12a675b2",
   "metadata": {},
   "source": [
    "## Pseudorandom number generation\n",
    "Random numbers often need to be generated to analyze processes or systems, especially in cases when these processes or systems are governed by known probability distrbutions. For example, the number of personnel required to answer calls at a call center can be analyzed by simulating occurence and duration of calls."
   ]
  },
  {
   "cell_type": "markdown",
   "id": "33f4355a",
   "metadata": {},
   "source": [
    "NumPy's [random](https://numpy.org/doc/stable/reference/random/index.html) module can be used to generate arrays of random numbers from several different probability distributions. For example, a `3x5` array of uniformly distributed random numbers can be generated using the `uniform` function of teh `random` module."
   ]
  },
  {
   "cell_type": "code",
   "execution_count": 81,
   "id": "ed3611f8",
   "metadata": {},
   "outputs": [
    {
     "data": {
      "text/plain": [
       "array([[0.69256322, 0.69259973, 0.03515058, 0.45186048, 0.43513769],\n",
       "       [0.07373366, 0.07465425, 0.92195975, 0.72915895, 0.8906299 ],\n",
       "       [0.15816734, 0.88144978, 0.05954028, 0.81403832, 0.97725557]])"
      ]
     },
     "execution_count": 81,
     "metadata": {},
     "output_type": "execute_result"
    }
   ],
   "source": [
    "np.random.uniform(size = (3,5))"
   ]
  },
  {
   "cell_type": "markdown",
   "id": "bd499590",
   "metadata": {},
   "source": [
    "Random numbers can also be generated by Python's built-in `random` module. However, it generates one random number at a time, which makes it much slower than NumPy's random module."
   ]
  },
  {
   "cell_type": "markdown",
   "id": "4a367367",
   "metadata": {},
   "source": [
    "**Example 3:** Suppose 500 people eat at Mod Pizza, and another 500 eat at Viet nom nom, everyday.\n",
    "\n",
    "The waiting time at Viet nom nom has a normal distribution with mean 8 minutes and standard deviation 3 minutes, while the waiting time at Mod Pizza has a uniform distribution with minimum 5 minutes and maximum 25 minutes. \n",
    "\n",
    "Simulate a dataset containing waiting times for 500 ppl for 30 days in each of the food joints. Assume that the waiting time is meansured simultaneously at a certain time in both places, i.e., the observations are paired.\n",
    "\n",
    "**On how many days is the average waiting time at Viet Nom Nom higher than that at Mod Pizza?**\n",
    "\n",
    "**What percentage of times the waiting time at Viet nom nom was higher than the waiting time at Mod Pizza?**\n",
    "\n",
    "Try both approaches: (1) Using loops to generate data, (2) numpy array to generate data. Compare the time taken in both approaches. "
   ]
  },
  {
   "cell_type": "code",
   "execution_count": 82,
   "id": "c9b2a545",
   "metadata": {},
   "outputs": [],
   "source": [
    "import time as tm"
   ]
  },
  {
   "cell_type": "code",
   "execution_count": 88,
   "id": "df145014",
   "metadata": {},
   "outputs": [
    {
     "name": "stdout",
     "output_type": "stream",
     "text": [
      "On  0  days, the average waiting time at Viet Nom Nom higher than that at Mod Pizza\n",
      "Percentage of times waiting time at Viet nom nom was greater than that at Mod Pizza =  16.58 %\n",
      "Time taken =  3.5454351902008057\n"
     ]
    }
   ],
   "source": [
    "#Method 1: Using loops\n",
    "start_time = tm.time() #Current system time\n",
    "\n",
    "#Initializing waiting times for 500 ppl over 30 days\n",
    "waiting_times_MOD = pd.DataFrame(0,index=range(500),columns=range(30)) #Mod pizza\n",
    "waiting_times_Vnom = pd.DataFrame(0,index=range(500),columns=range(30)) #Viet nom nom\n",
    "import random as rm\n",
    "for i in range(500):  #Iterating over 500 ppl\n",
    "    for j in range(30): #Iterating over 30 days\n",
    "        waiting_times_Vnom.iloc[i,j] = rm.gauss(8,3) #Simulating waiting time in Viet nom nom for the ith person on jth day\n",
    "        waiting_times_MOD.iloc[i,j] = rm.uniform(5,25) #Simulating waiting time in Mod pizza for the ith person on jth day\n",
    "time_diff = waiting_times_Vnom-waiting_times_MOD\n",
    "\n",
    "print(\"On \",sum(time_diff.mean()>0),\" days, the average waiting time at Viet Nom Nom higher than that at Mod Pizza\")\n",
    "print(\"Percentage of times waiting time at Viet nom nom was greater than that at Mod Pizza = \",100*(time_diff>0).sum().sum()/(30*500),\"%\")\n",
    "end_time = tm.time() #Current system time\n",
    "print(\"Time taken = \", end_time-start_time)"
   ]
  },
  {
   "cell_type": "code",
   "execution_count": 89,
   "id": "c5614fc3",
   "metadata": {},
   "outputs": [
    {
     "name": "stdout",
     "output_type": "stream",
     "text": [
      "On  0  days, the average waiting time at Viet Nom Nom higher than that at Mod Pizza\n",
      "Percentage of times waiting time at Viet nom nom was greater than that at Mod Pizza =  16.486666666666668 %\n",
      "Time taken =  0.001995563507080078\n"
     ]
    }
   ],
   "source": [
    "#Method 2: Using NumPy arrays\n",
    "start_time = tm.time()\n",
    "waiting_time_Vnom = np.random.normal(8,3,size = (500,30)) #Simultaneously generating the waiting times of 500 ppl over 30 days in Viet nom nom\n",
    "waiting_time_MOD = np.random.uniform(5,25,size = (500,30)) #Simultaneously generating the waiting times of 500 ppl over 30 days in MOD pizza\n",
    "time_diff = waiting_time_Vnom-waiting_time_MOD\n",
    "print(\"On \",(time_diff.mean()>0).sum(),\" days, the average waiting time at Viet Nom Nom higher than that at Mod Pizza\")\n",
    "print(\"Percentage of times waiting time at Viet nom nom was greater than that at Mod Pizza = \",100*(time_diff>0).sum()/15000,\"%\")\n",
    "end_time = tm.time()\n",
    "print(\"Time taken = \", end_time-start_time)"
   ]
  },
  {
   "cell_type": "markdown",
   "id": "bcc2f8d6",
   "metadata": {},
   "source": [
    "The approach with NumPy is much faster than the one with loops."
   ]
  },
  {
   "cell_type": "markdown",
   "id": "e992c467",
   "metadata": {},
   "source": [
    "### In-class exercise {-}"
   ]
  },
  {
   "cell_type": "markdown",
   "id": "17067391",
   "metadata": {},
   "source": [
    "**Lab Question**: Bootstrapping \\\n",
    "Question) Find the 95% confidence interval of Profit for 'Action' movies, using Bootstrapping \\\n",
    "Answer) Bootstrapping is a non-parametric method for obtaining confidence interval. The Bootstrapping method for finding the confidence interval is as follows.\\\n",
    "(a) Find the profit for each of the 'Action' movies. Suppose there are *N* such movies. We will have a *Profit* column with *N* values. \\\n",
    "(b) Randomly sample *N* values with replacement from the *Profit* column \\\n",
    "(c) Find the mean of the *N* values obtained in (b) \\\n",
    "(d) Repeat steps (b) and (c) *M=1000* times \\\n",
    "(e) The 95% Confidence interval is the range between the 2.5% and 97.5% percentile values of the 1000 means obtained in (c) \\\n",
    "Use the *movies_cleaned.csv* dataset. \\\n",
    "Go ahead, code this up, and find the confidence interval!"
   ]
  }
 ],
 "metadata": {
  "kernelspec": {
   "display_name": "Python 3",
   "language": "python",
   "name": "python3"
  },
  "language_info": {
   "codemirror_mode": {
    "name": "ipython",
    "version": 3
   },
   "file_extension": ".py",
   "mimetype": "text/x-python",
   "name": "python",
   "nbconvert_exporter": "python",
   "pygments_lexer": "ipython3",
   "version": "3.8.8"
  }
 },
 "nbformat": 4,
 "nbformat_minor": 5
}
