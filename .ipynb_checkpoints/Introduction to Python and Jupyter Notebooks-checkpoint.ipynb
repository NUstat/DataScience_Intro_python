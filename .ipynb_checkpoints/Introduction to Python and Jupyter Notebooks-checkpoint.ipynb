{
 "cells": [
  {
   "cell_type": "raw",
   "id": "6407ea8e",
   "metadata": {},
   "source": [
    "---\n",
    "title: \"Introduction to Python and Jupyter Notebooks\"\n",
    "format: \n",
    "  html:\n",
    "    code-fold: false\n",
    "jupyter: python3\n",
    "---"
   ]
  },
  {
   "cell_type": "markdown",
   "id": "2c2ec33d",
   "metadata": {},
   "source": [
    "This chapter is a very brief introduction to python and Jupyter notebooks. We only discuss the content relevant for applying python to analyze data."
   ]
  },
  {
   "cell_type": "markdown",
   "id": "98f283a8",
   "metadata": {},
   "source": [
    "## Installation"
   ]
  },
  {
   "cell_type": "markdown",
   "id": "278536c0",
   "metadata": {},
   "source": [
    "If you are new to python, we recommend downloading the [Anaconda installer](https://docs.anaconda.com/anaconda/install/) and following the instructions for installation. Once installed, we'll use the Jupyter Notebook interface to write code."
   ]
  },
  {
   "cell_type": "markdown",
   "id": "3669a619",
   "metadata": {},
   "source": [
    "## Jupyter notebook"
   ]
  },
  {
   "cell_type": "markdown",
   "id": "add89b06",
   "metadata": {},
   "source": [
    "### Introduction"
   ]
  },
  {
   "cell_type": "markdown",
   "id": "6b85a544",
   "metadata": {},
   "source": [
    "Jupyter notebook is an interactive platform, where you can write code and text, and make visualizations. You can access Jupyter notebook from the Anaconda Navigator, or directly open the Jupyter Notebook application itself. It should automatically open up in your default browser. The figure below shows a Jupyter Notebook opened with Google Chrome. This page is called the *landing page* of the notebook."
   ]
  },
  {
   "cell_type": "code",
   "execution_count": 16,
   "id": "2dd4a20a",
   "metadata": {},
   "outputs": [
    {
     "data": {
      "text/html": [
       "<img src=\"./Datasets/jupyter.jpg\" width=\"700\" height=\"400\"/>"
      ],
      "text/plain": [
       "<IPython.core.display.Image object>"
      ]
     },
     "execution_count": 16,
     "metadata": {},
     "output_type": "execute_result"
    }
   ],
   "source": [
    "#| echo: false\n",
    "\n",
    "# import image module\n",
    "from IPython.display import Image\n",
    "\n",
    "# get the image\n",
    "Image(url=\"./Datasets/jupyter.jpg\", width=700, height=400)"
   ]
  },
  {
   "cell_type": "markdown",
   "id": "830726a0",
   "metadata": {},
   "source": [
    "To create a new notebook, click on the `New` button and select the `Python 3` option. You should see a blank notebook as in the figure below."
   ]
  },
  {
   "cell_type": "code",
   "execution_count": 22,
   "id": "e7ab843d",
   "metadata": {},
   "outputs": [
    {
     "data": {
      "text/html": [
       "<img src=\"./Datasets/jupyter_newbook.jpg\" width=\"600\" height=\"150\"/>"
      ],
      "text/plain": [
       "<IPython.core.display.Image object>"
      ]
     },
     "execution_count": 22,
     "metadata": {},
     "output_type": "execute_result"
    }
   ],
   "source": [
    "#| echo: false\n",
    "\n",
    "# import image module\n",
    "from IPython.display import Image\n",
    "\n",
    "# get the image\n",
    "Image(url=\"./Datasets/jupyter_newbook.jpg\", width=600, height=150)"
   ]
  },
  {
   "cell_type": "markdown",
   "id": "afa1f40d",
   "metadata": {},
   "source": [
    "### Writing and executing code"
   ]
  },
  {
   "cell_type": "markdown",
   "id": "80ee6db6",
   "metadata": {},
   "source": [
    "**Code cell:**\n",
    "By default, a cell is of type *Code*, i.e., for typing code, as seen as the default choice in the dropdown menu below the *Widgets* tab. Try typing a line of python code (say, `2+3`) in an empty code cell and execute it by pressing *Shift+Enter*. This should execute the code, and create an new code cell. Pressing *Ctlr+Enter for Windows (or Cmd+Enter for Mac)* will execute the code without creating a new cell. "
   ]
  },
  {
   "cell_type": "markdown",
   "id": "5e90bc42",
   "metadata": {},
   "source": [
    "**Commenting code in a code cell:** Comments should be made while writing the code to explain the purpose of the code or a brief explanation of the tasks being performed by the code. A comment can be added in a code cell by preceding it with a # sign. For example, see the comment in the code below.\n",
    "\n",
    "Writing comments will help other users understand your code. It is also useful for the coder to keep track of the tasks being performed by their code. "
   ]
  },
  {
   "cell_type": "code",
   "execution_count": 51,
   "id": "37302504",
   "metadata": {},
   "outputs": [
    {
     "data": {
      "text/plain": [
       "8"
      ]
     },
     "execution_count": 51,
     "metadata": {},
     "output_type": "execute_result"
    }
   ],
   "source": [
    "#This code adds 3 and 5\n",
    "3+5"
   ]
  },
  {
   "cell_type": "markdown",
   "id": "c858e36a",
   "metadata": {},
   "source": [
    "**Markdown cell:** Although a comment can be written in a code cell, a code cell cannot be used for writing headings/sub-headings, and is not appropriate for writing lengthy chunks of text. In such cases, change the cell type to *Markdown* from the dropdown menu below the *Widgets* tab. Use any markdown cheat sheet found online, for example, [this one](https://www.markdownguide.org/cheat-sheet/) to format text in the markdown cells."
   ]
  },
  {
   "cell_type": "markdown",
   "id": "a3532afd",
   "metadata": {},
   "source": [
    "Give a name to te notebook by clicking on the text, which says 'Untitled'. "
   ]
  },
  {
   "cell_type": "markdown",
   "id": "398c16fa",
   "metadata": {},
   "source": [
    "### Saving and loading notebooks"
   ]
  },
  {
   "cell_type": "markdown",
   "id": "1eacedfb",
   "metadata": {},
   "source": [
    "Save the notebook by clicking on `File`, and selecting `Save as`, or clicking on the `Save and Checkpoint` icon (below the `File` tab). Your notebook will be saved as a file with an exptension *ipynb*. This file will contain all the code as well as the outputs, and can be loaded and edited by a Jupyter user. To load an existing Jupyter notebook, navigate to the folder of the notebook on the *landing page*, and then click on the file to open it."
   ]
  },
  {
   "cell_type": "markdown",
   "id": "3bb77626",
   "metadata": {},
   "source": [
    "## Python language basics"
   ]
  },
  {
   "cell_type": "markdown",
   "id": "59930b1a",
   "metadata": {},
   "source": [
    "### Object Oriented Programming"
   ]
  },
  {
   "cell_type": "markdown",
   "id": "b6ee10da",
   "metadata": {},
   "source": [
    "Python is an object-oriented programming language. In layman terms, it means that every number, string, data structure, function, class, module, etc., exists in the python interpreter as a python object. An object may have attributes and methods associated with it. For example, let us define a variable that stores an integer:"
   ]
  },
  {
   "cell_type": "code",
   "execution_count": 52,
   "id": "c563f7a5",
   "metadata": {},
   "outputs": [],
   "source": [
    "var = 2"
   ]
  },
  {
   "cell_type": "markdown",
   "id": "b283f963",
   "metadata": {},
   "source": [
    "The variable `var` is an object that has attributed and methods associated with it. For example a couple of its attributes are `real` and `imag`, which store the real and imaginary parts respectively, of the object `var`:"
   ]
  },
  {
   "cell_type": "code",
   "execution_count": 57,
   "id": "40ef60f7",
   "metadata": {},
   "outputs": [
    {
     "name": "stdout",
     "output_type": "stream",
     "text": [
      "Real part of 'var':  2\n",
      "Real part of 'var':  0\n"
     ]
    }
   ],
   "source": [
    "print(\"Real part of 'var': \",var.real)\n",
    "print(\"Real part of 'var': \",var.imag)"
   ]
  },
  {
   "cell_type": "markdown",
   "id": "0f9a7590",
   "metadata": {},
   "source": [
    "**Attribute:** An attribute is a value associated with an object, defined within the class of the object. \n",
    "\n",
    "**Method:** A method is a function associated with an object, defined within the class of the object, and has access to the attributes associated with the object.\n",
    "\n",
    "For looking at attributes and methods associated with an object, say `obj`, press tab key after typing `obj.`."
   ]
  },
  {
   "cell_type": "markdown",
   "id": "8522c29c",
   "metadata": {},
   "source": [
    "Consider the example below of a class *example_class*:"
   ]
  },
  {
   "cell_type": "code",
   "execution_count": 1,
   "id": "76994e15",
   "metadata": {},
   "outputs": [],
   "source": [
    "class example_class:\n",
    "    class_name = 'My Class'\n",
    "    def my_method(self):\n",
    "        print('Hello World!')\n",
    "\n",
    "e = example_class()"
   ]
  },
  {
   "cell_type": "markdown",
   "id": "d512f6d6",
   "metadata": {},
   "source": [
    "In the above class, `class_name` is an attribute, while `my_method` is a method."
   ]
  },
  {
   "cell_type": "markdown",
   "id": "e9e9e5f9",
   "metadata": {},
   "source": [
    "### Assigning variable name to object"
   ]
  },
  {
   "cell_type": "markdown",
   "id": "9a6d2ba8",
   "metadata": {},
   "source": [
    "When an object is assigned to a variable name, the variable name serves as a reference to the object. For example, consider the following assignment:"
   ]
  },
  {
   "cell_type": "code",
   "execution_count": 57,
   "id": "bd97adc0",
   "metadata": {},
   "outputs": [],
   "source": [
    "x = [5,3]"
   ]
  },
  {
   "cell_type": "markdown",
   "id": "848d099c",
   "metadata": {},
   "source": [
    "The variable name `x` is a reference to the memory location where the object `[5, 3]` is stored. Now, suppose assign `x` to a new variable `y`:"
   ]
  },
  {
   "cell_type": "code",
   "execution_count": 58,
   "id": "72952036",
   "metadata": {},
   "outputs": [],
   "source": [
    "y = x"
   ]
  },
  {
   "cell_type": "markdown",
   "id": "8cd5dd6f",
   "metadata": {},
   "source": [
    "In the above statement the variable name `y` now refers to the same object `[5,3]`. The object `[5,3]` does **not** get copied to a new memory location referred by `y`. To prove this, let us add an element to `y`:"
   ]
  },
  {
   "cell_type": "code",
   "execution_count": 59,
   "id": "96fbe234",
   "metadata": {},
   "outputs": [
    {
     "name": "stdout",
     "output_type": "stream",
     "text": [
      "[5, 3, 4]\n"
     ]
    }
   ],
   "source": [
    "y.append(4)\n",
    "print(y)"
   ]
  },
  {
   "cell_type": "code",
   "execution_count": 60,
   "id": "8341c5e8",
   "metadata": {},
   "outputs": [
    {
     "name": "stdout",
     "output_type": "stream",
     "text": [
      "[5, 3, 4]\n"
     ]
    }
   ],
   "source": [
    "print(x)"
   ]
  },
  {
   "cell_type": "markdown",
   "id": "48c24e8c",
   "metadata": {},
   "source": [
    "When we changed `y`, note that `x` also changed to the same object, showing that `x` and `y` refer to the same object, instead of referring to different copies of the same object."
   ]
  },
  {
   "cell_type": "markdown",
   "id": "fd592f8a",
   "metadata": {},
   "source": [
    "### Importing libraries"
   ]
  },
  {
   "cell_type": "markdown",
   "id": "8d099f45",
   "metadata": {},
   "source": [
    "There are several [built-in functions](https://docs.python.org/3/library/functions.html) in python like `print()`, `abs()`, `max()`, `sum()` etc., which do not require importing any library. However, these functions will typically be insufficient for a analyzing data. Some of the popular libraries and their primary purposes are as follows:\n",
    "\n",
    "1. NumPy: Performing numerical operations and efficiently storing numerical data.\n",
    "2. Pandas: Reading, cleaning and manipulating data.\n",
    "3. Matplotlib, Seaborn: Visualizing data.\n",
    "4. SciPy: Performing scientific computing such as solving differential equations, optimization, statistical tests, etc.\n",
    "5. Scikit-learn: Data pre-processing and machine learning, with a focus on prediction.\n",
    "6. Statsmodels: Developing statistical models with a focus on inference"
   ]
  },
  {
   "cell_type": "markdown",
   "id": "8614729a",
   "metadata": {},
   "source": [
    "A library can be imported using the `import` keyword. For example, a NumPy library can be imported as:"
   ]
  },
  {
   "cell_type": "code",
   "execution_count": 62,
   "id": "2125aa04",
   "metadata": {},
   "outputs": [],
   "source": [
    "import numpy as np"
   ]
  },
  {
   "cell_type": "markdown",
   "id": "f201f879",
   "metadata": {},
   "source": [
    "Using the `as` keyboard, the NumPy library has been given the name `np`. All the functions and attributes of the library can be called using the *'np.'* prefix. For example, let us generate a sequence of whole numbers upto `10` using the NumPy function [arange()](https://numpy.org/doc/stable/reference/generated/numpy.arange.html):"
   ]
  },
  {
   "cell_type": "code",
   "execution_count": 64,
   "id": "ba604907",
   "metadata": {},
   "outputs": [
    {
     "data": {
      "text/plain": [
       "array([0, 1, 2, 3, 4, 5, 6, 7])"
      ]
     },
     "execution_count": 64,
     "metadata": {},
     "output_type": "execute_result"
    }
   ],
   "source": [
    "np.arange(8)"
   ]
  },
  {
   "cell_type": "markdown",
   "id": "c9228df2",
   "metadata": {},
   "source": [
    "### Built-in objects"
   ]
  },
  {
   "cell_type": "markdown",
   "id": "6b69dd81",
   "metadata": {},
   "source": [
    "There are several [built-in objects, modules and functions in python](https://docs.python.org/3/library/stdtypes.html). Below are a few examples:"
   ]
  },
  {
   "cell_type": "markdown",
   "id": "876da1a7",
   "metadata": {},
   "source": [
    "**Scalar objects:** Python has some built-in datatypes for handling scalar objects such as number, string, boolean values, and date/time. The built-in function `type()` function can be used to determine the datatype of an object:"
   ]
  },
  {
   "cell_type": "code",
   "execution_count": 68,
   "id": "1c816988",
   "metadata": {},
   "outputs": [
    {
     "data": {
      "text/plain": [
       "float"
      ]
     },
     "execution_count": 68,
     "metadata": {},
     "output_type": "execute_result"
    }
   ],
   "source": [
    "var = 2.2\n",
    "type(var)"
   ]
  },
  {
   "cell_type": "markdown",
   "id": "e5603d1b",
   "metadata": {},
   "source": [
    "**Date time:** Python as a built-in [datetime](https://docs.python.org/3/library/datetime.html) module for handling date/time objects:"
   ]
  },
  {
   "cell_type": "code",
   "execution_count": 70,
   "id": "38e2456a",
   "metadata": {},
   "outputs": [],
   "source": [
    "import datetime as dt"
   ]
  },
  {
   "cell_type": "code",
   "execution_count": 72,
   "id": "963b22f5",
   "metadata": {},
   "outputs": [],
   "source": [
    "#Defining a date-time object \n",
    "dt_object = dt.datetime(2022, 9, 20, 11,30,0)"
   ]
  },
  {
   "cell_type": "markdown",
   "id": "7752641f",
   "metadata": {},
   "source": [
    "Information about date and time can be accessed with the relevant attribute of the `datetime` object."
   ]
  },
  {
   "cell_type": "markdown",
   "id": "72ed8ac7",
   "metadata": {},
   "source": [
    "**range():** The `range()` function returns a sequence of evenly-spaced integer values. It is commonly used in `for` loops to define the sequence of elements over which the iterations are performed."
   ]
  },
  {
   "cell_type": "markdown",
   "id": "07769ef8",
   "metadata": {},
   "source": [
    "Below is an example where the `range()` function is used to create a sequence of whole numbers upto 10:"
   ]
  },
  {
   "cell_type": "code",
   "execution_count": 108,
   "id": "207746ca",
   "metadata": {},
   "outputs": [
    {
     "name": "stdout",
     "output_type": "stream",
     "text": [
      "[1, 2, 3, 4, 5, 6, 7, 8, 9]\n"
     ]
    }
   ],
   "source": [
    "print(list(range(1,10)))"
   ]
  },
  {
   "cell_type": "code",
   "execution_count": 74,
   "id": "98f6ae72",
   "metadata": {},
   "outputs": [
    {
     "data": {
      "text/plain": [
       "20"
      ]
     },
     "execution_count": 74,
     "metadata": {},
     "output_type": "execute_result"
    }
   ],
   "source": [
    "dt_object.day"
   ]
  },
  {
   "cell_type": "code",
   "execution_count": 79,
   "id": "376e251c",
   "metadata": {},
   "outputs": [
    {
     "data": {
      "text/plain": [
       "2022"
      ]
     },
     "execution_count": 79,
     "metadata": {},
     "output_type": "execute_result"
    }
   ],
   "source": [
    "dt_object.year"
   ]
  },
  {
   "cell_type": "markdown",
   "id": "ec88c302",
   "metadata": {},
   "source": [
    "The `strftime` method of the `datetime` module formats a `datetime` object as a string. There are several types of formats for representing date as a string:"
   ]
  },
  {
   "cell_type": "code",
   "execution_count": 80,
   "id": "b7d53210",
   "metadata": {},
   "outputs": [
    {
     "data": {
      "text/plain": [
       "'09/20/2022'"
      ]
     },
     "execution_count": 80,
     "metadata": {},
     "output_type": "execute_result"
    }
   ],
   "source": [
    "dt_object.strftime('%m/%d/%Y')"
   ]
  },
  {
   "cell_type": "code",
   "execution_count": 100,
   "id": "b441d63d",
   "metadata": {},
   "outputs": [
    {
     "data": {
      "text/plain": [
       "'09/20/22 11:30'"
      ]
     },
     "execution_count": 100,
     "metadata": {},
     "output_type": "execute_result"
    }
   ],
   "source": [
    "dt_object.strftime('%m/%d/%y %H:%M')"
   ]
  },
  {
   "cell_type": "code",
   "execution_count": 99,
   "id": "a18c3b67",
   "metadata": {},
   "outputs": [
    {
     "data": {
      "text/plain": [
       "'Sep-20-2022'"
      ]
     },
     "execution_count": 99,
     "metadata": {},
     "output_type": "execute_result"
    }
   ],
   "source": [
    "dt_object.strftime('%h-%d-%Y')"
   ]
  },
  {
   "cell_type": "markdown",
   "id": "e07b1b97",
   "metadata": {},
   "source": [
    "### Control flow"
   ]
  },
  {
   "cell_type": "markdown",
   "id": "937528d5",
   "metadata": {},
   "source": [
    "As in other languages, python has [built-in keywords](https://docs.python.org/3/tutorial/controlflow.html) that provide conditional flow of control in the code. "
   ]
  },
  {
   "cell_type": "markdown",
   "id": "6ab2b234",
   "metadata": {},
   "source": [
    "**If-elif-else:** The `if-elif-else` statement can check several conditions, and execute the code corresponding to the condition that is true. Note that there can be as many `elif` statements as required."
   ]
  },
  {
   "cell_type": "code",
   "execution_count": 102,
   "id": "84e2c03a",
   "metadata": {},
   "outputs": [
    {
     "name": "stdout",
     "output_type": "stream",
     "text": [
      "x is positive\n"
     ]
    }
   ],
   "source": [
    "#Example of if-elif-else\n",
    "x = 5\n",
    "if x>0:\n",
    "    print(\"x is positive\")\n",
    "elif x==0:\n",
    "    print(\"x is zero\")\n",
    "else:\n",
    "    print(\"X is negative\")\n",
    "    print(\"This was the last condition checked\")"
   ]
  },
  {
   "cell_type": "markdown",
   "id": "e7c95682",
   "metadata": {},
   "source": [
    "**for loop:** A `for` loop iterates over the elements of an object, and executes the statements within the loop in each iteration. For example, below is a `for` loop that prints odd natural numbers upto 10:"
   ]
  },
  {
   "cell_type": "code",
   "execution_count": 103,
   "id": "53c5edf6",
   "metadata": {},
   "outputs": [
    {
     "name": "stdout",
     "output_type": "stream",
     "text": [
      "1\n",
      "3\n",
      "5\n",
      "7\n",
      "9\n"
     ]
    }
   ],
   "source": [
    "for i in range(10):\n",
    "    if i%2!=0:\n",
    "        print(i)"
   ]
  },
  {
   "cell_type": "markdown",
   "id": "889700a0",
   "metadata": {},
   "source": [
    "**while loop:** A `while` loop iterates over a set of statements *while* a condition is satisfied. For example, below is a `while` loop that prints odd numbers upto 10:"
   ]
  },
  {
   "cell_type": "code",
   "execution_count": 106,
   "id": "cc3f3054",
   "metadata": {},
   "outputs": [
    {
     "name": "stdout",
     "output_type": "stream",
     "text": [
      "1\n",
      "3\n",
      "5\n",
      "7\n",
      "9\n"
     ]
    }
   ],
   "source": [
    "i=0\n",
    "while i<10:\n",
    "    if i%2!=0:\n",
    "        print(i)\n",
    "    i=i+1"
   ]
  }
 ],
 "metadata": {
  "kernelspec": {
   "display_name": "Python 3",
   "language": "python",
   "name": "python3"
  },
  "language_info": {
   "codemirror_mode": {
    "name": "ipython",
    "version": 3
   },
   "file_extension": ".py",
   "mimetype": "text/x-python",
   "name": "python",
   "nbconvert_exporter": "python",
   "pygments_lexer": "ipython3",
   "version": "3.8.8"
  }
 },
 "nbformat": 4,
 "nbformat_minor": 5
}
