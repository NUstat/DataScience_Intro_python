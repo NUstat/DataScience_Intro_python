{
 "cells": [
  {
   "cell_type": "raw",
   "id": "24e5e2e9",
   "metadata": {},
   "source": [
    "---\n",
    "title: \"Data cleaning and preparation\"\n",
    "format: \n",
    "  html:\n",
    "    code-fold: false\n",
    "    toc-depth: 4\n",
    "jupyter: python3\n",
    "---"
   ]
  },
  {
   "cell_type": "markdown",
   "id": "82358191",
   "metadata": {},
   "source": [
    "## Handling missing data"
   ]
  },
  {
   "cell_type": "markdown",
   "id": "ae56a889",
   "metadata": {},
   "source": [
    "Missing values in a dataset can occur due to several reasons such as breakdown of measuring equipment, accidental removal of observations, lack of response by respondents, error on the part of the researcher, etc."
   ]
  },
  {
   "cell_type": "markdown",
   "id": "dc2e4435",
   "metadata": {},
   "source": [
    "Let us read the dataset *GDP_missing_data.csv*, in which we have randomly removed some values, or put missing values in some of the columns. \n",
    "\n",
    "We'll also read *GDP_complete_data.csv*, in which we have not removed any values. We'll use this data later to assess the accuracy of our guess or estimate of missing values in *GDP_missing_data.csv*."
   ]
  },
  {
   "cell_type": "code",
   "execution_count": 1,
   "id": "7d59f445",
   "metadata": {},
   "outputs": [],
   "source": [
    "import pandas as pd\n",
    "import numpy as np\n",
    "import matplotlib.pyplot as plt\n",
    "import sklearn as sk\n",
    "import seaborn as sns\n",
    "gdp_missing_values_data = pd.read_csv('./Datasets/GDP_missing_data.csv')\n",
    "gdp_complete_data = pd.read_csv('./Datasets/GDP_complete_data.csv')"
   ]
  },
  {
   "cell_type": "code",
   "execution_count": 2,
   "id": "bfb5b2fb",
   "metadata": {},
   "outputs": [
    {
     "data": {
      "text/html": [
       "<div>\n",
       "<style scoped>\n",
       "    .dataframe tbody tr th:only-of-type {\n",
       "        vertical-align: middle;\n",
       "    }\n",
       "\n",
       "    .dataframe tbody tr th {\n",
       "        vertical-align: top;\n",
       "    }\n",
       "\n",
       "    .dataframe thead th {\n",
       "        text-align: right;\n",
       "    }\n",
       "</style>\n",
       "<table border=\"1\" class=\"dataframe\">\n",
       "  <thead>\n",
       "    <tr style=\"text-align: right;\">\n",
       "      <th></th>\n",
       "      <th>economicActivityFemale</th>\n",
       "      <th>country</th>\n",
       "      <th>lifeMale</th>\n",
       "      <th>infantMortality</th>\n",
       "      <th>gdpPerCapita</th>\n",
       "      <th>economicActivityMale</th>\n",
       "      <th>illiteracyMale</th>\n",
       "      <th>illiteracyFemale</th>\n",
       "      <th>lifeFemale</th>\n",
       "      <th>geographic_location</th>\n",
       "      <th>contraception</th>\n",
       "      <th>continent</th>\n",
       "    </tr>\n",
       "  </thead>\n",
       "  <tbody>\n",
       "    <tr>\n",
       "      <th>0</th>\n",
       "      <td>7.2</td>\n",
       "      <td>Afghanistan</td>\n",
       "      <td>45.0</td>\n",
       "      <td>154.0</td>\n",
       "      <td>2474.0</td>\n",
       "      <td>87.5</td>\n",
       "      <td>NaN</td>\n",
       "      <td>85.0</td>\n",
       "      <td>46.0</td>\n",
       "      <td>Southern Asia</td>\n",
       "      <td>NaN</td>\n",
       "      <td>Asia</td>\n",
       "    </tr>\n",
       "    <tr>\n",
       "      <th>1</th>\n",
       "      <td>7.8</td>\n",
       "      <td>Algeria</td>\n",
       "      <td>67.5</td>\n",
       "      <td>44.0</td>\n",
       "      <td>11433.0</td>\n",
       "      <td>76.4</td>\n",
       "      <td>26.1</td>\n",
       "      <td>51.0</td>\n",
       "      <td>70.3</td>\n",
       "      <td>Northern Africa</td>\n",
       "      <td>NaN</td>\n",
       "      <td>Africa</td>\n",
       "    </tr>\n",
       "    <tr>\n",
       "      <th>2</th>\n",
       "      <td>41.3</td>\n",
       "      <td>Argentina</td>\n",
       "      <td>69.6</td>\n",
       "      <td>22.0</td>\n",
       "      <td>NaN</td>\n",
       "      <td>76.2</td>\n",
       "      <td>3.8</td>\n",
       "      <td>3.8</td>\n",
       "      <td>76.8</td>\n",
       "      <td>South America</td>\n",
       "      <td>NaN</td>\n",
       "      <td>South America</td>\n",
       "    </tr>\n",
       "    <tr>\n",
       "      <th>3</th>\n",
       "      <td>52.0</td>\n",
       "      <td>Armenia</td>\n",
       "      <td>67.2</td>\n",
       "      <td>25.0</td>\n",
       "      <td>13638.0</td>\n",
       "      <td>65.0</td>\n",
       "      <td>NaN</td>\n",
       "      <td>0.5</td>\n",
       "      <td>74.0</td>\n",
       "      <td>Western Asia</td>\n",
       "      <td>NaN</td>\n",
       "      <td>Asia</td>\n",
       "    </tr>\n",
       "    <tr>\n",
       "      <th>4</th>\n",
       "      <td>53.8</td>\n",
       "      <td>Australia</td>\n",
       "      <td>NaN</td>\n",
       "      <td>6.0</td>\n",
       "      <td>54891.0</td>\n",
       "      <td>NaN</td>\n",
       "      <td>1.0</td>\n",
       "      <td>1.0</td>\n",
       "      <td>81.2</td>\n",
       "      <td>Oceania</td>\n",
       "      <td>NaN</td>\n",
       "      <td>Oceania</td>\n",
       "    </tr>\n",
       "  </tbody>\n",
       "</table>\n",
       "</div>"
      ],
      "text/plain": [
       "   economicActivityFemale      country  lifeMale  infantMortality  \\\n",
       "0                     7.2  Afghanistan      45.0            154.0   \n",
       "1                     7.8      Algeria      67.5             44.0   \n",
       "2                    41.3    Argentina      69.6             22.0   \n",
       "3                    52.0      Armenia      67.2             25.0   \n",
       "4                    53.8    Australia       NaN              6.0   \n",
       "\n",
       "   gdpPerCapita  economicActivityMale  illiteracyMale  illiteracyFemale  \\\n",
       "0        2474.0                  87.5             NaN              85.0   \n",
       "1       11433.0                  76.4            26.1              51.0   \n",
       "2           NaN                  76.2             3.8               3.8   \n",
       "3       13638.0                  65.0             NaN               0.5   \n",
       "4       54891.0                   NaN             1.0               1.0   \n",
       "\n",
       "   lifeFemale geographic_location  contraception      continent  \n",
       "0        46.0       Southern Asia            NaN           Asia  \n",
       "1        70.3     Northern Africa            NaN         Africa  \n",
       "2        76.8       South America            NaN  South America  \n",
       "3        74.0        Western Asia            NaN           Asia  \n",
       "4        81.2             Oceania            NaN        Oceania  "
      ]
     },
     "execution_count": 2,
     "metadata": {},
     "output_type": "execute_result"
    }
   ],
   "source": [
    "gdp_missing_values_data.head()"
   ]
  },
  {
   "cell_type": "markdown",
   "id": "e97a9e81",
   "metadata": {},
   "source": [
    "Observe that the `gdp_missing_values_data` dataset consists of some missing values shown as NaN (Not a Number)."
   ]
  },
  {
   "cell_type": "markdown",
   "id": "78276c04",
   "metadata": {},
   "source": [
    "### Identifying missing values ([`isnull()`](https://pandas.pydata.org/docs/reference/api/pandas.DataFrame.isnull.html))\n",
    "Missing values in a Pandas DataFrame can be identified with the [`isnull()`](https://pandas.pydata.org/docs/reference/api/pandas.DataFrame.isnull.html) method. The Pandas Series object also consists of the [`isnull()`](https://pandas.pydata.org/docs/reference/api/pandas.Series.isnull.html) method. For finding the number of missing values in each column of `gdp_missing_values_data`, we will sum up the missing values in each column of the dataset:"
   ]
  },
  {
   "cell_type": "code",
   "execution_count": 10,
   "id": "df2fb313",
   "metadata": {},
   "outputs": [
    {
     "data": {
      "text/plain": [
       "economicActivityFemale    10\n",
       "country                    0\n",
       "lifeMale                  10\n",
       "infantMortality           10\n",
       "gdpPerCapita              10\n",
       "economicActivityMale      10\n",
       "illiteracyMale            10\n",
       "illiteracyFemale          10\n",
       "lifeFemale                10\n",
       "geographic_location        0\n",
       "contraception             71\n",
       "continent                  0\n",
       "dtype: int64"
      ]
     },
     "execution_count": 10,
     "metadata": {},
     "output_type": "execute_result"
    }
   ],
   "source": [
    "gdp_missing_values_data.isnull().sum()"
   ]
  },
  {
   "cell_type": "markdown",
   "id": "1c54e61a",
   "metadata": {},
   "source": [
    "Note that the descriptive statistics methods associated with Pandas objects ignore missing values by default. Consider the summary statistics of `gdp_missing_values_data`:"
   ]
  },
  {
   "cell_type": "code",
   "execution_count": 23,
   "id": "7941d12d",
   "metadata": {},
   "outputs": [
    {
     "data": {
      "text/html": [
       "<div>\n",
       "<style scoped>\n",
       "    .dataframe tbody tr th:only-of-type {\n",
       "        vertical-align: middle;\n",
       "    }\n",
       "\n",
       "    .dataframe tbody tr th {\n",
       "        vertical-align: top;\n",
       "    }\n",
       "\n",
       "    .dataframe thead th {\n",
       "        text-align: right;\n",
       "    }\n",
       "</style>\n",
       "<table border=\"1\" class=\"dataframe\">\n",
       "  <thead>\n",
       "    <tr style=\"text-align: right;\">\n",
       "      <th></th>\n",
       "      <th>economicActivityFemale</th>\n",
       "      <th>lifeMale</th>\n",
       "      <th>infantMortality</th>\n",
       "      <th>gdpPerCapita</th>\n",
       "      <th>economicActivityMale</th>\n",
       "      <th>illiteracyMale</th>\n",
       "      <th>illiteracyFemale</th>\n",
       "      <th>lifeFemale</th>\n",
       "      <th>contraception</th>\n",
       "    </tr>\n",
       "  </thead>\n",
       "  <tbody>\n",
       "    <tr>\n",
       "      <th>count</th>\n",
       "      <td>145.000000</td>\n",
       "      <td>145.000000</td>\n",
       "      <td>145.000000</td>\n",
       "      <td>145.000000</td>\n",
       "      <td>145.000000</td>\n",
       "      <td>145.000000</td>\n",
       "      <td>145.000000</td>\n",
       "      <td>145.000000</td>\n",
       "      <td>84.000000</td>\n",
       "    </tr>\n",
       "    <tr>\n",
       "      <th>mean</th>\n",
       "      <td>45.935172</td>\n",
       "      <td>65.491724</td>\n",
       "      <td>37.158621</td>\n",
       "      <td>24193.482759</td>\n",
       "      <td>76.563448</td>\n",
       "      <td>13.570028</td>\n",
       "      <td>21.448897</td>\n",
       "      <td>70.615862</td>\n",
       "      <td>51.773810</td>\n",
       "    </tr>\n",
       "    <tr>\n",
       "      <th>std</th>\n",
       "      <td>16.875922</td>\n",
       "      <td>9.099256</td>\n",
       "      <td>34.465699</td>\n",
       "      <td>22748.764444</td>\n",
       "      <td>7.854730</td>\n",
       "      <td>16.497954</td>\n",
       "      <td>25.497045</td>\n",
       "      <td>9.923791</td>\n",
       "      <td>31.930026</td>\n",
       "    </tr>\n",
       "    <tr>\n",
       "      <th>min</th>\n",
       "      <td>1.900000</td>\n",
       "      <td>36.000000</td>\n",
       "      <td>3.000000</td>\n",
       "      <td>772.000000</td>\n",
       "      <td>51.200000</td>\n",
       "      <td>0.000000</td>\n",
       "      <td>0.000000</td>\n",
       "      <td>39.100000</td>\n",
       "      <td>0.000000</td>\n",
       "    </tr>\n",
       "    <tr>\n",
       "      <th>25%</th>\n",
       "      <td>35.500000</td>\n",
       "      <td>62.900000</td>\n",
       "      <td>10.000000</td>\n",
       "      <td>6837.000000</td>\n",
       "      <td>72.000000</td>\n",
       "      <td>1.000000</td>\n",
       "      <td>2.300000</td>\n",
       "      <td>67.500000</td>\n",
       "      <td>17.000000</td>\n",
       "    </tr>\n",
       "    <tr>\n",
       "      <th>50%</th>\n",
       "      <td>47.600000</td>\n",
       "      <td>67.800000</td>\n",
       "      <td>24.000000</td>\n",
       "      <td>15184.000000</td>\n",
       "      <td>77.300000</td>\n",
       "      <td>6.600000</td>\n",
       "      <td>9.720000</td>\n",
       "      <td>73.900000</td>\n",
       "      <td>65.000000</td>\n",
       "    </tr>\n",
       "    <tr>\n",
       "      <th>75%</th>\n",
       "      <td>55.900000</td>\n",
       "      <td>72.400000</td>\n",
       "      <td>54.000000</td>\n",
       "      <td>35957.000000</td>\n",
       "      <td>81.600000</td>\n",
       "      <td>19.500000</td>\n",
       "      <td>30.200000</td>\n",
       "      <td>78.100000</td>\n",
       "      <td>77.000000</td>\n",
       "    </tr>\n",
       "    <tr>\n",
       "      <th>max</th>\n",
       "      <td>90.600000</td>\n",
       "      <td>77.400000</td>\n",
       "      <td>169.000000</td>\n",
       "      <td>122740.000000</td>\n",
       "      <td>93.000000</td>\n",
       "      <td>70.500000</td>\n",
       "      <td>90.800000</td>\n",
       "      <td>82.900000</td>\n",
       "      <td>79.000000</td>\n",
       "    </tr>\n",
       "  </tbody>\n",
       "</table>\n",
       "</div>"
      ],
      "text/plain": [
       "       economicActivityFemale    lifeMale  infantMortality   gdpPerCapita  \\\n",
       "count              145.000000  145.000000       145.000000     145.000000   \n",
       "mean                45.935172   65.491724        37.158621   24193.482759   \n",
       "std                 16.875922    9.099256        34.465699   22748.764444   \n",
       "min                  1.900000   36.000000         3.000000     772.000000   \n",
       "25%                 35.500000   62.900000        10.000000    6837.000000   \n",
       "50%                 47.600000   67.800000        24.000000   15184.000000   \n",
       "75%                 55.900000   72.400000        54.000000   35957.000000   \n",
       "max                 90.600000   77.400000       169.000000  122740.000000   \n",
       "\n",
       "       economicActivityMale  illiteracyMale  illiteracyFemale  lifeFemale  \\\n",
       "count            145.000000      145.000000        145.000000  145.000000   \n",
       "mean              76.563448       13.570028         21.448897   70.615862   \n",
       "std                7.854730       16.497954         25.497045    9.923791   \n",
       "min               51.200000        0.000000          0.000000   39.100000   \n",
       "25%               72.000000        1.000000          2.300000   67.500000   \n",
       "50%               77.300000        6.600000          9.720000   73.900000   \n",
       "75%               81.600000       19.500000         30.200000   78.100000   \n",
       "max               93.000000       70.500000         90.800000   82.900000   \n",
       "\n",
       "       contraception  \n",
       "count      84.000000  \n",
       "mean       51.773810  \n",
       "std        31.930026  \n",
       "min         0.000000  \n",
       "25%        17.000000  \n",
       "50%        65.000000  \n",
       "75%        77.000000  \n",
       "max        79.000000  "
      ]
     },
     "execution_count": 23,
     "metadata": {},
     "output_type": "execute_result"
    }
   ],
   "source": [
    "gdp_missing_values_data.describe()"
   ]
  },
  {
   "cell_type": "markdown",
   "id": "387c18da",
   "metadata": {},
   "source": [
    "Observe that the `count` statistics report the number of non-missing values of each column in the data, as the number of rows in the data (see code below) is more than the number of non-missing values of all the variables in the above table. Similarly, for the rest of the statistics, such as `mean`, `std`, etc., the missing values are ignored."
   ]
  },
  {
   "cell_type": "code",
   "execution_count": 26,
   "id": "fd044ff1",
   "metadata": {},
   "outputs": [
    {
     "data": {
      "text/plain": [
       "155"
      ]
     },
     "execution_count": 26,
     "metadata": {},
     "output_type": "execute_result"
    }
   ],
   "source": [
    "#The dataset gdp_missing_values_data has 155 rows\n",
    "gdp_missing_values_data.shape[0]"
   ]
  },
  {
   "cell_type": "markdown",
   "id": "71a3ad30",
   "metadata": {},
   "source": [
    "### Types of missing values"
   ]
  },
  {
   "cell_type": "markdown",
   "id": "a99fd0e9",
   "metadata": {},
   "source": [
    "\n",
    "Now that we know how to identify missing values in the dataset, let us learn about the types of missing values that can be there. @rubin1976inference classified missing values in three categories."
   ]
  },
  {
   "cell_type": "markdown",
   "id": "69659b06",
   "metadata": {},
   "source": [
    "#### Missing Completely at Random (MCAR)\n",
    "If the probability of being missing is the same for all cases, then the data are said to be missing completely at random. An example of MCAR is a weighing scale that ran out of batteries. Some of the data will be missing simply because of bad luck.\n",
    "\n",
    "#### Missing at Random (MAR)\n",
    "If the probability of being missing is the same only within groups defined by the observed data, then the data are missing at random (MAR). MAR is a much broader class than MCAR. For example, when placed on a soft surface, a weighing scale may produce more missing values than when placed on a hard surface. Such data are thus not MCAR. If, however, we know surface type and if we can assume MCAR within the type of surface, then the data are MAR\n",
    "\n",
    "#### Missing Not at Random (MNAR)\n",
    "MNAR means that the probability of being missing varies for reasons that are unknown to us. For example, the weighing scale mechanism may wear out over time, producing more missing data as time progresses, but we may fail to note this. If the heavier objects are measured later in time, then we obtain a distribution of the measurements that will be distorted. MNAR includes the possibility that the scale produces more missing values for the heavier objects (as above), a situation that might be difficult to recognize and handle.\n",
    "\n",
    "*Source: https://stefvanbuuren.name/fimd/sec-MCAR.html*"
   ]
  },
  {
   "cell_type": "markdown",
   "id": "bb7a2b8b",
   "metadata": {},
   "source": [
    "### Practice exercise 1"
   ]
  },
  {
   "cell_type": "markdown",
   "id": "751a3c46",
   "metadata": {},
   "source": [
    "#### \n",
    "In which of the above scenarios can we ignore the observations corresponding to missing values without the risk of skewing the analysis/trends in the data?"
   ]
  },
  {
   "cell_type": "markdown",
   "id": "9fbf8af2",
   "metadata": {},
   "source": [
    "#### \n",
    "In which of the above scenarios will it be the more risky to impute or estimate missing values?"
   ]
  },
  {
   "cell_type": "markdown",
   "id": "f1388585",
   "metadata": {},
   "source": [
    "#### \n",
    "For the datset consisting of GDP per capita, think of hypothetical scenarios in which the missing values of GDP per capita can correspond to MCAR / MAR / MNAR."
   ]
  },
  {
   "cell_type": "markdown",
   "id": "107b354f",
   "metadata": {},
   "source": [
    "### Dropping observations with missing values ([`dropna()`](https://pandas.pydata.org/docs/reference/api/pandas.DataFrame.dropna.html))\n",
    "Sometimes our analysis requires that there should be no missing values in the dataset. For example, while building statistical models, we may require the values of all the predictor variables. The quickest way is to use the `dropna()` method, which drops the observations that even have a single missing value, and leaves only complete observations in the data.\n",
    "\n",
    "Let us drop the rows containing even a single value from `gdp_missing_values_data`."
   ]
  },
  {
   "cell_type": "code",
   "execution_count": 30,
   "id": "13daeba7",
   "metadata": {},
   "outputs": [],
   "source": [
    "gdp_no_missing_data = gdp_missing_values_data.dropna()"
   ]
  },
  {
   "cell_type": "code",
   "execution_count": 31,
   "id": "a530dce3",
   "metadata": {},
   "outputs": [
    {
     "data": {
      "text/plain": [
       "(42, 12)"
      ]
     },
     "execution_count": 31,
     "metadata": {},
     "output_type": "execute_result"
    }
   ],
   "source": [
    "#Shape of gdp_no_missing_data\n",
    "gdp_no_missing_data.shape"
   ]
  },
  {
   "cell_type": "markdown",
   "id": "b803d179",
   "metadata": {},
   "source": [
    "Dropping rows with even a single missing value has reduced the number of rows from 155 to 42! However, earlier we saw that all the columns except `contraception` had at most 10 missing values. Removing all rows / columns with even a single missing value results in loss of data that is non-missing in the respective rows/columns. Thus, it is typically a bad idea to drop observations with even a single missing value, except in cases where we have a very small number of missing-value observations."
   ]
  },
  {
   "cell_type": "markdown",
   "id": "6c4b17d9",
   "metadata": {},
   "source": [
    "If a few values of a column are missing, we can possibly estimate them using the rest of the data, so that we can (hopefully) maximize the information that can be extracted from the data. However, if most of the values of a column are missing, it may be harder to estimate its values."
   ]
  },
  {
   "cell_type": "markdown",
   "id": "e9138c0f",
   "metadata": {},
   "source": [
    "In this case, we see that around 50% values of the `contraception` column is missing. Thus, we'll drop the column as it may be hard to impute its values based on a relatively small number of non-missing values."
   ]
  },
  {
   "cell_type": "code",
   "execution_count": 3,
   "id": "cf612818",
   "metadata": {},
   "outputs": [
    {
     "data": {
      "text/plain": [
       "(155, 11)"
      ]
     },
     "execution_count": 3,
     "metadata": {},
     "output_type": "execute_result"
    }
   ],
   "source": [
    "#Deleting column with missing values in almost half of the observations\n",
    "gdp_missing_values_data.drop(['contraception'],axis=1,inplace=True)\n",
    "gdp_missing_values_data.shape"
   ]
  },
  {
   "cell_type": "markdown",
   "id": "d590ee83",
   "metadata": {},
   "source": [
    "### Some methods to impute missing values\n",
    "There are an unlimited number of ways to impute missing values. Some imputation methods are provided in the [Pandas documentation](https://pandas.pydata.org/pandas-docs/stable/user_guide/missing_data.html).\n",
    "\n",
    "The best way to impute them will depend on the problem, and the assumptions taken. Below are just a few examples.\n",
    "\n"
   ]
  },
  {
   "cell_type": "markdown",
   "id": "5d214f53",
   "metadata": {},
   "source": [
    "#### Method 1: Naive Method\n",
    "Filling the missing value of a column by copying the value of the previous non-missing observation."
   ]
  },
  {
   "cell_type": "code",
   "execution_count": 37,
   "id": "4cce7c4f",
   "metadata": {},
   "outputs": [],
   "source": [
    "#Filling missing values: Method 1- Naive way\n",
    "gdp_imputed_data = gdp_missing_values_data.fillna(method = 'ffill')"
   ]
  },
  {
   "cell_type": "code",
   "execution_count": 42,
   "id": "08578d6d",
   "metadata": {},
   "outputs": [
    {
     "data": {
      "text/plain": [
       "economicActivityFemale    0\n",
       "country                   0\n",
       "lifeMale                  0\n",
       "infantMortality           0\n",
       "gdpPerCapita              0\n",
       "economicActivityMale      0\n",
       "illiteracyMale            1\n",
       "illiteracyFemale          0\n",
       "lifeFemale                0\n",
       "geographic_location       0\n",
       "continent                 0\n",
       "dtype: int64"
      ]
     },
     "execution_count": 42,
     "metadata": {},
     "output_type": "execute_result"
    }
   ],
   "source": [
    "#Checking if any missing values are remaining\n",
    "gdp_imputed_data.isnull().sum()"
   ]
  },
  {
   "cell_type": "markdown",
   "id": "7426b0ba",
   "metadata": {},
   "source": [
    "After imputing missing values, note there is still one missing value for *illiteracyMale*. Can you guess why one missing value remained?"
   ]
  },
  {
   "cell_type": "markdown",
   "id": "6748f28d",
   "metadata": {},
   "source": [
    "Let us check how good is this method in imputing missing values. We'll compare the imputed values of `gdpPerCapita` with the actual values. Recall that we had randomly put some missing values in `gdp_missing_values_data`, and we have the actual values in `gdp_complete_data`."
   ]
  },
  {
   "cell_type": "code",
   "execution_count": 8,
   "id": "d6594992",
   "metadata": {},
   "outputs": [],
   "source": [
    "#Index of rows with missing values for GDP per capita\n",
    "null_ind_gdpPC = gdp_missing_values_data.index[gdp_missing_values_data.gdpPerCapita.isnull()]"
   ]
  },
  {
   "cell_type": "code",
   "execution_count": 6,
   "id": "47bd62a0",
   "metadata": {},
   "outputs": [],
   "source": [
    "#Defining a function to plot the imputed values vs actual values \n",
    "def plot_actual_vs_predicted():\n",
    "    fig, ax = plt.subplots(figsize=(8, 6))\n",
    "    plt.rc('xtick', labelsize=15) \n",
    "    plt.rc('ytick', labelsize=15) \n",
    "    x = gdp_complete_data.loc[null_ind_gdpPC,'gdpPerCapita']\n",
    "    y = gdp_imputed_data.loc[null_ind_gdpPC,'gdpPerCapita']\n",
    "    plt.scatter(x,y)\n",
    "    z=np.polyfit(x,y,1)\n",
    "    p=np.poly1d(z)\n",
    "    plt.plot(x,x,color='orange')\n",
    "    plt.xlabel('Actual GDP per capita',fontsize=20)\n",
    "    plt.ylabel('Imputed GDP per capita',fontsize=20)\n",
    "    ax.xaxis.set_major_formatter('${x:,.0f}')\n",
    "    ax.yaxis.set_major_formatter('${x:,.0f}')\n",
    "    rmse = np.sqrt(((x-y).pow(2)).mean())\n",
    "    print(\"RMSE=\",rmse)"
   ]
  },
  {
   "cell_type": "code",
   "execution_count": 92,
   "id": "aef67af8",
   "metadata": {},
   "outputs": [
    {
     "name": "stdout",
     "output_type": "stream",
     "text": [
      "RMSE= 34843.91091137732\n"
     ]
    },
    {
     "data": {
      "image/png": "[encoded data removed]",
      "text/plain": [
       "<Figure size 576x432 with 1 Axes>"
      ]
     },
     "metadata": {
      "needs_background": "light"
     },
     "output_type": "display_data"
    }
   ],
   "source": [
    "#Plot comparing imputed values with actual values, and computing the Root mean square error (RMSE) of the imputed values\n",
    "plot_actual_vs_predicted()"
   ]
  },
  {
   "cell_type": "markdown",
   "id": "a82570f3",
   "metadata": {},
   "source": [
    "We observe that the accuracy of imputation is poor as GDP per capita can vary a lot across countries, and the data is not sorted by GDP per capita. There is no reason why the GDP per capita of a country should be close to the GDP per capita of the country in the observation above it."
   ]
  },
  {
   "cell_type": "markdown",
   "id": "5e9feca5",
   "metadata": {},
   "source": [
    "#### Method 2: Imputing missing values as the mean of non-missing values\n",
    "Let us impute missing values in the column as the average of the non-missing values of the column. The sum of squared differences between actual values and the imputed values is likely to be smaller if we impute using the mean. However, this may not be true in cases other than MCAR (Missing completely at random)."
   ]
  },
  {
   "cell_type": "code",
   "execution_count": 9,
   "id": "9b5a9a95",
   "metadata": {},
   "outputs": [],
   "source": [
    "#Filling missing values: Method 2\n",
    "gdp_imputed_data = gdp_missing_values_data.fillna(gdp_missing_values_data.mean())"
   ]
  },
  {
   "cell_type": "code",
   "execution_count": 10,
   "id": "f12eb9e8",
   "metadata": {},
   "outputs": [
    {
     "name": "stdout",
     "output_type": "stream",
     "text": [
      "RMSE= 30793.549983587087\n"
     ]
    },
    {
     "data": {
      "image/png": "[encoded data removed]",
      "text/plain": [
       "<Figure size 576x432 with 1 Axes>"
      ]
     },
     "metadata": {
      "needs_background": "light"
     },
     "output_type": "display_data"
    }
   ],
   "source": [
    "plot_actual_vs_predicted()"
   ]
  },
  {
   "cell_type": "markdown",
   "id": "cb15b142",
   "metadata": {},
   "source": [
    "Although this method of imputation doesn't seem impressive, the RMSE of the estimates is lower than that of the naive method. Since we had introduced missing values randomly in `gdp_missing_values_data`, the mean GDP per capita will be the closest constant to the GDP per capita values, in terms of squared error."
   ]
  },
  {
   "cell_type": "markdown",
   "id": "aa43797d",
   "metadata": {},
   "source": [
    "#### Method 3: Imputing missing values based on correlated variables in the data"
   ]
  },
  {
   "cell_type": "markdown",
   "id": "40ac1633",
   "metadata": {},
   "source": [
    "If a variable is highly correlated with another variable in the dataset, we can approximate its missing values using the trendline with the highly correlated variable."
   ]
  },
  {
   "cell_type": "markdown",
   "id": "cec27e44",
   "metadata": {},
   "source": [
    "Let us visualize the distribution of GDP per capita for different continents."
   ]
  },
  {
   "cell_type": "code",
   "execution_count": 102,
   "id": "a1bbbec5",
   "metadata": {},
   "outputs": [
    {
     "data": {
      "text/plain": [
       "<AxesSubplot:xlabel='continent', ylabel='gdpPerCapita'>"
      ]
     },
     "execution_count": 102,
     "metadata": {},
     "output_type": "execute_result"
    },
    {
     "data": {
      "image/png": "[encoded data removed]",
      "text/plain": [
       "<Figure size 864x432 with 1 Axes>"
      ]
     },
     "metadata": {
      "needs_background": "light"
     },
     "output_type": "display_data"
    }
   ],
   "source": [
    "plt.rcParams[\"figure.figsize\"] = (12,6)\n",
    "sns.boxplot(x = 'continent',y='gdpPerCapita',data = gdp_missing_values_data)"
   ]
  },
  {
   "cell_type": "markdown",
   "id": "38c5e180",
   "metadata": {},
   "source": [
    "We observe that there is a distinct difference between the GDPs per capita of some of the contents. Let us impute the missing GDP per capita of a country as the mean GDP per capita of the corresponding continent. This imputation should be better than imputing the missing GDP per capita as the mean of all the non-missing values, as the GDP per capita of a country is likely to be closer to the mean GDP per capita of the continent, rather the mean GDP per capita of the whole world."
   ]
  },
  {
   "cell_type": "code",
   "execution_count": 103,
   "id": "cb7e3da5",
   "metadata": {},
   "outputs": [
    {
     "data": {
      "text/plain": [
       "continent\n",
       "Africa            7638.178571\n",
       "Asia             25922.750000\n",
       "Europe           45455.303030\n",
       "North America    19625.210526\n",
       "Oceania          15385.857143\n",
       "South America    15360.909091\n",
       "Name: gdpPerCapita, dtype: float64"
      ]
     },
     "execution_count": 103,
     "metadata": {},
     "output_type": "execute_result"
    }
   ],
   "source": [
    "#Finding the mean GDP per capita of the continent - please differ the understanding of this code to chapter 9.\n",
    "avg_gdpPerCapita = gdp_missing_values_data['gdpPerCapita'].groupby(gdp_missing_values_data['continent']).mean()\n",
    "avg_gdpPerCapita"
   ]
  },
  {
   "cell_type": "code",
   "execution_count": 105,
   "id": "42887061",
   "metadata": {},
   "outputs": [],
   "source": [
    "#Creating a copy of missing data to impute missing values\n",
    "gdp_imputed_data = gdp_missing_values_data.copy()"
   ]
  },
  {
   "cell_type": "code",
   "execution_count": 107,
   "id": "13cbd9a1",
   "metadata": {},
   "outputs": [
    {
     "name": "stdout",
     "output_type": "stream",
     "text": [
      "RMSE= 25473.20645170116\n"
     ]
    },
    {
     "data": {
      "image/png": "[encoded data removed]",
      "text/plain": [
       "<Figure size 576x432 with 1 Axes>"
      ]
     },
     "metadata": {
      "needs_background": "light"
     },
     "output_type": "display_data"
    }
   ],
   "source": [
    "#Replacing missing GDP per capita with the mean GDP per capita for the corresponding continent\n",
    "for i in gdp_imputed_data.continent.unique():    \n",
    "    ind_miss = np.where(gdp_imputed_data.index.isin(null_ind_gdpPC) & gdp_imputed_data.continent.isin([i]))\n",
    "    gdp_imputed_data.iloc[ind_miss[0],4] = avg_gdpPerCapita[i]\n",
    "gdp_imputed_data\n",
    "plot_actual_vs_predicted()"
   ]
  },
  {
   "cell_type": "markdown",
   "id": "9a364051",
   "metadata": {},
   "source": [
    "Note that the imputed values are closer to the actual values, and the RMSE has further reduced as expected."
   ]
  },
  {
   "cell_type": "markdown",
   "id": "4e31051f",
   "metadata": {},
   "source": [
    "#### Practice exercise 2\n",
    "Find the numeric variable most strongly correlated with GDP per capita, and use it to impute its missing values. Find the RMSE of the imputed values."
   ]
  },
  {
   "cell_type": "code",
   "execution_count": 123,
   "id": "af455ccf",
   "metadata": {},
   "outputs": [],
   "source": [
    "#| eval: false\n",
    "#| echo: false\n",
    "\n",
    "#Let us identify the variable highly correlated with GDP per capita.\n",
    "gdp_missing_values_data.corrwith(gdp_missing_values_data.gdpPerCapita)\n",
    "#The variable *lifeFemale* has the strongest correlation with GDP per capita. Let us use it to impute missing values of GDP per capita.\n",
    "x = gdp_missing_values_data.lifeFemale\n",
    "y = gdp_missing_values_data.gdpPerCapita\n",
    "idx_non_missing = np.isfinite(x) & np.isfinite(y)\n",
    "slope_intercept_trendline = np.polyfit(x[idx_non_missing],y[idx_non_missing],1)   #Finding the slope and intercept for the trendline\n",
    "compute_y_given_x = np.poly1d(slope_intercept_trendline)\n",
    "#Creating a copy of missing data to impute missing values\n",
    "gdp_imputed_data = gdp_missing_values_data.copy()\n",
    "gdp_imputed_data.loc[null_ind_gdpPC,'gdpPerCapita']=compute_y_given_x(gdp_missing_values_data.loc[null_ind_gdpPC,'lifeFemale'])\n",
    "plot_actual_vs_predicted()"
   ]
  },
  {
   "cell_type": "markdown",
   "id": "23ee80d2",
   "metadata": {},
   "source": [
    "#### Method 4: KNN: K-nearest neighbor"
   ]
  },
  {
   "cell_type": "markdown",
   "id": "f62342d4",
   "metadata": {},
   "source": [
    "In this method, we'll impute the missing value of the variable as the mean value of the $K$-nearest neighbors having non-missing values for that variable. The neighbors to a data-point are identified based on their Euclidean distance to the point in terms of the standardized values of rest of the variables in the data."
   ]
  },
  {
   "cell_type": "code",
   "execution_count": 125,
   "id": "c2b668fb",
   "metadata": {},
   "outputs": [
    {
     "data": {
      "text/plain": [
       "array([[ 1.,  2., nan],\n",
       "       [ 3.,  4.,  3.],\n",
       "       [nan,  6.,  5.],\n",
       "       [ 8.,  8.,  7.]])"
      ]
     },
     "execution_count": 125,
     "metadata": {},
     "output_type": "execute_result"
    }
   ],
   "source": [
    "#Toy example\n",
    "nan = np.nan\n",
    "X = np.array([[1, 2, nan], [3, 4, 3], [nan, 6, 5], [8, 8, 7]])\n",
    "X"
   ]
  },
  {
   "cell_type": "code",
   "execution_count": 140,
   "id": "00acdd70",
   "metadata": {},
   "outputs": [],
   "source": [
    "from sklearn import metrics\n",
    "from sklearn import impute"
   ]
  },
  {
   "cell_type": "code",
   "execution_count": 131,
   "id": "e19fa62a",
   "metadata": {},
   "outputs": [
    {
     "data": {
      "text/plain": [
       "array([[ 0.        ,  3.46410162,  6.92820323, 11.29158979],\n",
       "       [ 3.46410162,  0.        ,  3.46410162,  7.54983444],\n",
       "       [ 6.92820323,  3.46410162,  0.        ,  3.46410162],\n",
       "       [11.29158979,  7.54983444,  3.46410162,  0.        ]])"
      ]
     },
     "execution_count": 131,
     "metadata": {},
     "output_type": "execute_result"
    }
   ],
   "source": [
    "#This is the distance matrix containng the distance of the ith observation from the jth observation at the (i,j) position in the matrix\n",
    "metrics.pairwise.nan_euclidean_distances(X,X)"
   ]
  },
  {
   "cell_type": "code",
   "execution_count": 132,
   "id": "008a7015",
   "metadata": {},
   "outputs": [
    {
     "data": {
      "text/plain": [
       "array([[1. , 2. , 4. ],\n",
       "       [3. , 4. , 3. ],\n",
       "       [5.5, 6. , 5. ],\n",
       "       [8. , 8. , 7. ]])"
      ]
     },
     "execution_count": 132,
     "metadata": {},
     "output_type": "execute_result"
    }
   ],
   "source": [
    "#imputing missing values with 2 nearest neighbors, where the neighbors have equal weights\n",
    "imputer = impute.KNNImputer(n_neighbors=2)\n",
    "imputer.fit_transform(X)"
   ]
  },
  {
   "cell_type": "code",
   "execution_count": 133,
   "id": "3f48d8c2",
   "metadata": {},
   "outputs": [
    {
     "data": {
      "text/plain": [
       "[0, 2, 3, 4, 5, 6, 7, 8]"
      ]
     },
     "execution_count": 133,
     "metadata": {},
     "output_type": "execute_result"
    }
   ],
   "source": [
    "#Considering numeric columns in the data to use KNN\n",
    "num_cols = list(range(0,1))+list(range(2,9))\n",
    "num_cols"
   ]
  },
  {
   "cell_type": "code",
   "execution_count": 134,
   "id": "62ab447a",
   "metadata": {},
   "outputs": [
    {
     "data": {
      "text/html": [
       "<div>\n",
       "<style scoped>\n",
       "    .dataframe tbody tr th:only-of-type {\n",
       "        vertical-align: middle;\n",
       "    }\n",
       "\n",
       "    .dataframe tbody tr th {\n",
       "        vertical-align: top;\n",
       "    }\n",
       "\n",
       "    .dataframe thead th {\n",
       "        text-align: right;\n",
       "    }\n",
       "</style>\n",
       "<table border=\"1\" class=\"dataframe\">\n",
       "  <thead>\n",
       "    <tr style=\"text-align: right;\">\n",
       "      <th></th>\n",
       "      <th>0</th>\n",
       "      <th>1</th>\n",
       "      <th>2</th>\n",
       "      <th>3</th>\n",
       "      <th>4</th>\n",
       "      <th>5</th>\n",
       "      <th>6</th>\n",
       "      <th>7</th>\n",
       "    </tr>\n",
       "  </thead>\n",
       "  <tbody>\n",
       "    <tr>\n",
       "      <th>0</th>\n",
       "      <td>0.059752</td>\n",
       "      <td>0.217391</td>\n",
       "      <td>0.909639</td>\n",
       "      <td>0.013954</td>\n",
       "      <td>0.868421</td>\n",
       "      <td>NaN</td>\n",
       "      <td>0.936123</td>\n",
       "      <td>0.157534</td>\n",
       "    </tr>\n",
       "    <tr>\n",
       "      <th>1</th>\n",
       "      <td>0.066516</td>\n",
       "      <td>0.760870</td>\n",
       "      <td>0.246988</td>\n",
       "      <td>0.087408</td>\n",
       "      <td>0.602871</td>\n",
       "      <td>0.370213</td>\n",
       "      <td>0.561674</td>\n",
       "      <td>0.712329</td>\n",
       "    </tr>\n",
       "    <tr>\n",
       "      <th>2</th>\n",
       "      <td>0.444194</td>\n",
       "      <td>0.811594</td>\n",
       "      <td>0.114458</td>\n",
       "      <td>NaN</td>\n",
       "      <td>0.598086</td>\n",
       "      <td>0.053901</td>\n",
       "      <td>0.041850</td>\n",
       "      <td>0.860731</td>\n",
       "    </tr>\n",
       "    <tr>\n",
       "      <th>3</th>\n",
       "      <td>0.564825</td>\n",
       "      <td>0.753623</td>\n",
       "      <td>0.132530</td>\n",
       "      <td>0.105487</td>\n",
       "      <td>0.330144</td>\n",
       "      <td>NaN</td>\n",
       "      <td>0.005507</td>\n",
       "      <td>0.796804</td>\n",
       "    </tr>\n",
       "    <tr>\n",
       "      <th>4</th>\n",
       "      <td>0.585118</td>\n",
       "      <td>NaN</td>\n",
       "      <td>0.018072</td>\n",
       "      <td>0.443715</td>\n",
       "      <td>NaN</td>\n",
       "      <td>0.014184</td>\n",
       "      <td>0.011013</td>\n",
       "      <td>0.961187</td>\n",
       "    </tr>\n",
       "    <tr>\n",
       "      <th>...</th>\n",
       "      <td>...</td>\n",
       "      <td>...</td>\n",
       "      <td>...</td>\n",
       "      <td>...</td>\n",
       "      <td>...</td>\n",
       "      <td>...</td>\n",
       "      <td>...</td>\n",
       "      <td>...</td>\n",
       "    </tr>\n",
       "    <tr>\n",
       "      <th>150</th>\n",
       "      <td>0.872604</td>\n",
       "      <td>0.712560</td>\n",
       "      <td>0.210843</td>\n",
       "      <td>0.015365</td>\n",
       "      <td>0.894737</td>\n",
       "      <td>0.495234</td>\n",
       "      <td>0.510661</td>\n",
       "      <td>0.694064</td>\n",
       "    </tr>\n",
       "    <tr>\n",
       "      <th>151</th>\n",
       "      <td>0.443067</td>\n",
       "      <td>0.821256</td>\n",
       "      <td>0.108434</td>\n",
       "      <td>0.036124</td>\n",
       "      <td>0.739234</td>\n",
       "      <td>0.116312</td>\n",
       "      <td>0.106828</td>\n",
       "      <td>NaN</td>\n",
       "    </tr>\n",
       "    <tr>\n",
       "      <th>152</th>\n",
       "      <td>0.813980</td>\n",
       "      <td>NaN</td>\n",
       "      <td>0.204819</td>\n",
       "      <td>0.089409</td>\n",
       "      <td>0.727273</td>\n",
       "      <td>0.049645</td>\n",
       "      <td>0.096916</td>\n",
       "      <td>0.696347</td>\n",
       "    </tr>\n",
       "    <tr>\n",
       "      <th>153</th>\n",
       "      <td>0.000000</td>\n",
       "      <td>0.516908</td>\n",
       "      <td>0.463855</td>\n",
       "      <td>0.009445</td>\n",
       "      <td>0.703349</td>\n",
       "      <td>0.459660</td>\n",
       "      <td>0.765991</td>\n",
       "      <td>0.440639</td>\n",
       "    </tr>\n",
       "    <tr>\n",
       "      <th>154</th>\n",
       "      <td>0.505073</td>\n",
       "      <td>0.280193</td>\n",
       "      <td>0.391566</td>\n",
       "      <td>0.015791</td>\n",
       "      <td>0.633971</td>\n",
       "      <td>0.136170</td>\n",
       "      <td>0.221366</td>\n",
       "      <td>NaN</td>\n",
       "    </tr>\n",
       "  </tbody>\n",
       "</table>\n",
       "<p>155 rows × 8 columns</p>\n",
       "</div>"
      ],
      "text/plain": [
       "            0         1         2         3         4         5         6  \\\n",
       "0    0.059752  0.217391  0.909639  0.013954  0.868421       NaN  0.936123   \n",
       "1    0.066516  0.760870  0.246988  0.087408  0.602871  0.370213  0.561674   \n",
       "2    0.444194  0.811594  0.114458       NaN  0.598086  0.053901  0.041850   \n",
       "3    0.564825  0.753623  0.132530  0.105487  0.330144       NaN  0.005507   \n",
       "4    0.585118       NaN  0.018072  0.443715       NaN  0.014184  0.011013   \n",
       "..        ...       ...       ...       ...       ...       ...       ...   \n",
       "150  0.872604  0.712560  0.210843  0.015365  0.894737  0.495234  0.510661   \n",
       "151  0.443067  0.821256  0.108434  0.036124  0.739234  0.116312  0.106828   \n",
       "152  0.813980       NaN  0.204819  0.089409  0.727273  0.049645  0.096916   \n",
       "153  0.000000  0.516908  0.463855  0.009445  0.703349  0.459660  0.765991   \n",
       "154  0.505073  0.280193  0.391566  0.015791  0.633971  0.136170  0.221366   \n",
       "\n",
       "            7  \n",
       "0    0.157534  \n",
       "1    0.712329  \n",
       "2    0.860731  \n",
       "3    0.796804  \n",
       "4    0.961187  \n",
       "..        ...  \n",
       "150  0.694064  \n",
       "151       NaN  \n",
       "152  0.696347  \n",
       "153  0.440639  \n",
       "154       NaN  \n",
       "\n",
       "[155 rows x 8 columns]"
      ]
     },
     "execution_count": 134,
     "metadata": {},
     "output_type": "execute_result"
    }
   ],
   "source": [
    "#Scaling data to compute equally weighted distances from the 'k' nearest neighbors\n",
    "scaler = sk.preprocessing.MinMaxScaler()\n",
    "scaled_data = pd.DataFrame(scaler.fit_transform(gdp_missing_values_data.iloc[:,num_cols]))\n",
    "scaled_data"
   ]
  },
  {
   "cell_type": "code",
   "execution_count": 139,
   "id": "75557f8c",
   "metadata": {},
   "outputs": [],
   "source": [
    "#Imputed scaled array\n",
    "imputer = impute.KNNImputer(n_neighbors=3, weights=\"uniform\")\n",
    "imputed_arr = imputer.fit_transform(scaled_data)"
   ]
  },
  {
   "cell_type": "code",
   "execution_count": 141,
   "id": "1d54122b",
   "metadata": {},
   "outputs": [],
   "source": [
    "#Scaling back the scaled array to obtain the data at the actual scale\n",
    "unscaled_data = scaler.inverse_transform(imputed_arr)"
   ]
  },
  {
   "cell_type": "code",
   "execution_count": 144,
   "id": "7d39ceb0",
   "metadata": {},
   "outputs": [],
   "source": [
    "#Imputed missing values\n",
    "gdp_imputed_data = gdp_missing_values_data.copy()\n",
    "gdp_imputed_data.loc[:,'gdpPerCapita'] = unscaled_data[:,3]"
   ]
  },
  {
   "cell_type": "code",
   "execution_count": 145,
   "id": "da69794b",
   "metadata": {},
   "outputs": [
    {
     "name": "stdout",
     "output_type": "stream",
     "text": [
      "RMSE= 16804.195967740387\n"
     ]
    },
    {
     "data": {
      "image/png": "[encoded data removed]",
      "text/plain": [
       "<Figure size 576x432 with 1 Axes>"
      ]
     },
     "metadata": {
      "needs_background": "light"
     },
     "output_type": "display_data"
    }
   ],
   "source": [
    "plot_actual_vs_predicted()"
   ]
  },
  {
   "cell_type": "markdown",
   "id": "ab3ea2e2",
   "metadata": {},
   "source": [
    "Note that the RMSE is the lowest in this method. It is because this method imputes missing values as the weighted average of the values of \"similar\" observations, which is smarter and more robust than the previous methods."
   ]
  }
 ],
 "metadata": {
  "kernelspec": {
   "display_name": "Python 3",
   "language": "python",
   "name": "python3"
  },
  "language_info": {
   "codemirror_mode": {
    "name": "ipython",
    "version": 3
   },
   "file_extension": ".py",
   "mimetype": "text/x-python",
   "name": "python",
   "nbconvert_exporter": "python",
   "pygments_lexer": "ipython3",
   "version": "3.8.8"
  }
 },
 "nbformat": 4,
 "nbformat_minor": 5
}
