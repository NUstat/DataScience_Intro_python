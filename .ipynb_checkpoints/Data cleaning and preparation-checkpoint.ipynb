{
 "cells": [
  {
   "cell_type": "raw",
   "id": "24e5e2e9",
   "metadata": {},
   "source": [
    "---\n",
    "title: \"Data cleaning and preparation\"\n",
    "format: \n",
    "  html:\n",
    "    code-fold: false\n",
    "    toc-depth: 4\n",
    "jupyter: python3\n",
    "---"
   ]
  },
  {
   "cell_type": "markdown",
   "id": "82358191",
   "metadata": {},
   "source": [
    "## Handling missing data"
   ]
  },
  {
   "cell_type": "markdown",
   "id": "ae56a889",
   "metadata": {},
   "source": [
    "Missing values in a dataset can occur due to several reasons such as breakdown of measuring equipment, accidental removal of observations, lack of response by respondents, error on the part of the reearcher, etc."
   ]
  },
  {
   "cell_type": "markdown",
   "id": "bf745138",
   "metadata": {},
   "source": [
    "Let us read the dataset *GDP_missing_data.csv*, in which we have randomly removed some values, or put missing values in some of the columns. \n",
    "\n",
    "We'll also read *GDP_complete_data.csv*, in which we have not removed any values. We'll use this data later to assess the accuracy of our guess or estimate of missing values in *GDP_missing_data.csv*."
   ]
  },
  {
   "cell_type": "code",
   "execution_count": 41,
   "id": "c35a7d24",
   "metadata": {},
   "outputs": [],
   "source": [
    "import pandas as pd\n",
    "import numpy as np\n",
    "import matplotlib.pyplot as plt\n",
    "import sklearn as sk\n",
    "gdp_missing_values_data = pd.read_csv('./Datasets/GDP_missing_data.csv')\n",
    "gdp_complete_data = pd.read_csv('./Datasets/GDP_complete_data.csv')"
   ]
  },
  {
   "cell_type": "code",
   "execution_count": 7,
   "id": "1c02ca28",
   "metadata": {},
   "outputs": [
    {
     "data": {
      "text/html": [
       "<div>\n",
       "<style scoped>\n",
       "    .dataframe tbody tr th:only-of-type {\n",
       "        vertical-align: middle;\n",
       "    }\n",
       "\n",
       "    .dataframe tbody tr th {\n",
       "        vertical-align: top;\n",
       "    }\n",
       "\n",
       "    .dataframe thead th {\n",
       "        text-align: right;\n",
       "    }\n",
       "</style>\n",
       "<table border=\"1\" class=\"dataframe\">\n",
       "  <thead>\n",
       "    <tr style=\"text-align: right;\">\n",
       "      <th></th>\n",
       "      <th>economicActivityFemale</th>\n",
       "      <th>country</th>\n",
       "      <th>lifeMale</th>\n",
       "      <th>infantMortality</th>\n",
       "      <th>gdpPerCapita</th>\n",
       "      <th>economicActivityMale</th>\n",
       "      <th>illiteracyMale</th>\n",
       "      <th>illiteracyFemale</th>\n",
       "      <th>lifeFemale</th>\n",
       "      <th>geographic_location</th>\n",
       "      <th>contraception</th>\n",
       "      <th>continent</th>\n",
       "    </tr>\n",
       "  </thead>\n",
       "  <tbody>\n",
       "    <tr>\n",
       "      <th>0</th>\n",
       "      <td>7.2</td>\n",
       "      <td>Afghanistan</td>\n",
       "      <td>45.0</td>\n",
       "      <td>154.0</td>\n",
       "      <td>2474.0</td>\n",
       "      <td>87.5</td>\n",
       "      <td>NaN</td>\n",
       "      <td>85.0</td>\n",
       "      <td>46.0</td>\n",
       "      <td>Southern Asia</td>\n",
       "      <td>NaN</td>\n",
       "      <td>Asia</td>\n",
       "    </tr>\n",
       "    <tr>\n",
       "      <th>1</th>\n",
       "      <td>7.8</td>\n",
       "      <td>Algeria</td>\n",
       "      <td>67.5</td>\n",
       "      <td>44.0</td>\n",
       "      <td>11433.0</td>\n",
       "      <td>76.4</td>\n",
       "      <td>26.1</td>\n",
       "      <td>51.0</td>\n",
       "      <td>70.3</td>\n",
       "      <td>Northern Africa</td>\n",
       "      <td>NaN</td>\n",
       "      <td>Africa</td>\n",
       "    </tr>\n",
       "    <tr>\n",
       "      <th>2</th>\n",
       "      <td>41.3</td>\n",
       "      <td>Argentina</td>\n",
       "      <td>69.6</td>\n",
       "      <td>22.0</td>\n",
       "      <td>NaN</td>\n",
       "      <td>76.2</td>\n",
       "      <td>3.8</td>\n",
       "      <td>3.8</td>\n",
       "      <td>76.8</td>\n",
       "      <td>South America</td>\n",
       "      <td>NaN</td>\n",
       "      <td>South America</td>\n",
       "    </tr>\n",
       "    <tr>\n",
       "      <th>3</th>\n",
       "      <td>52.0</td>\n",
       "      <td>Armenia</td>\n",
       "      <td>67.2</td>\n",
       "      <td>25.0</td>\n",
       "      <td>13638.0</td>\n",
       "      <td>65.0</td>\n",
       "      <td>NaN</td>\n",
       "      <td>0.5</td>\n",
       "      <td>74.0</td>\n",
       "      <td>Western Asia</td>\n",
       "      <td>NaN</td>\n",
       "      <td>Asia</td>\n",
       "    </tr>\n",
       "    <tr>\n",
       "      <th>4</th>\n",
       "      <td>53.8</td>\n",
       "      <td>Australia</td>\n",
       "      <td>NaN</td>\n",
       "      <td>6.0</td>\n",
       "      <td>54891.0</td>\n",
       "      <td>NaN</td>\n",
       "      <td>1.0</td>\n",
       "      <td>1.0</td>\n",
       "      <td>81.2</td>\n",
       "      <td>Oceania</td>\n",
       "      <td>NaN</td>\n",
       "      <td>Oceania</td>\n",
       "    </tr>\n",
       "  </tbody>\n",
       "</table>\n",
       "</div>"
      ],
      "text/plain": [
       "   economicActivityFemale      country  lifeMale  infantMortality  \\\n",
       "0                     7.2  Afghanistan      45.0            154.0   \n",
       "1                     7.8      Algeria      67.5             44.0   \n",
       "2                    41.3    Argentina      69.6             22.0   \n",
       "3                    52.0      Armenia      67.2             25.0   \n",
       "4                    53.8    Australia       NaN              6.0   \n",
       "\n",
       "   gdpPerCapita  economicActivityMale  illiteracyMale  illiteracyFemale  \\\n",
       "0        2474.0                  87.5             NaN              85.0   \n",
       "1       11433.0                  76.4            26.1              51.0   \n",
       "2           NaN                  76.2             3.8               3.8   \n",
       "3       13638.0                  65.0             NaN               0.5   \n",
       "4       54891.0                   NaN             1.0               1.0   \n",
       "\n",
       "   lifeFemale geographic_location  contraception      continent  \n",
       "0        46.0       Southern Asia            NaN           Asia  \n",
       "1        70.3     Northern Africa            NaN         Africa  \n",
       "2        76.8       South America            NaN  South America  \n",
       "3        74.0        Western Asia            NaN           Asia  \n",
       "4        81.2             Oceania            NaN        Oceania  "
      ]
     },
     "execution_count": 7,
     "metadata": {},
     "output_type": "execute_result"
    }
   ],
   "source": [
    "gdp_missing_values_data.head()"
   ]
  },
  {
   "cell_type": "markdown",
   "id": "99359ffb",
   "metadata": {},
   "source": [
    "Observe that the `gdp_missing_values_data` dataset consists of some missing values shown as NaN (Not a Number)."
   ]
  },
  {
   "cell_type": "markdown",
   "id": "6228ba20",
   "metadata": {},
   "source": [
    "### Identifying missing values ([`isnull()`](https://pandas.pydata.org/docs/reference/api/pandas.DataFrame.isnull.html))\n",
    "Missing values in a Pandas DataFrame can be identified with the [`isnull()`](https://pandas.pydata.org/docs/reference/api/pandas.DataFrame.isnull.html) method. The Pandas Series object also consists of the [`isnull()`](https://pandas.pydata.org/docs/reference/api/pandas.Series.isnull.html) method. For finding the number of missing values in each column of `gdp_missing_values_data`, we will sum up the missing values in each column of the dataset:"
   ]
  },
  {
   "cell_type": "code",
   "execution_count": 10,
   "id": "529ef97c",
   "metadata": {},
   "outputs": [
    {
     "data": {
      "text/plain": [
       "economicActivityFemale    10\n",
       "country                    0\n",
       "lifeMale                  10\n",
       "infantMortality           10\n",
       "gdpPerCapita              10\n",
       "economicActivityMale      10\n",
       "illiteracyMale            10\n",
       "illiteracyFemale          10\n",
       "lifeFemale                10\n",
       "geographic_location        0\n",
       "contraception             71\n",
       "continent                  0\n",
       "dtype: int64"
      ]
     },
     "execution_count": 10,
     "metadata": {},
     "output_type": "execute_result"
    }
   ],
   "source": [
    "gdp_missing_values_data.isnull().sum()"
   ]
  },
  {
   "cell_type": "markdown",
   "id": "b7ac66f1",
   "metadata": {},
   "source": [
    "Note that the descriptive statistics methods associated with Pandas objects ignore missing values by defaulty. Consider the summary statistics of `gdp_missing_values_data`:"
   ]
  },
  {
   "cell_type": "code",
   "execution_count": 23,
   "id": "1ffd5c5d",
   "metadata": {},
   "outputs": [
    {
     "data": {
      "text/html": [
       "<div>\n",
       "<style scoped>\n",
       "    .dataframe tbody tr th:only-of-type {\n",
       "        vertical-align: middle;\n",
       "    }\n",
       "\n",
       "    .dataframe tbody tr th {\n",
       "        vertical-align: top;\n",
       "    }\n",
       "\n",
       "    .dataframe thead th {\n",
       "        text-align: right;\n",
       "    }\n",
       "</style>\n",
       "<table border=\"1\" class=\"dataframe\">\n",
       "  <thead>\n",
       "    <tr style=\"text-align: right;\">\n",
       "      <th></th>\n",
       "      <th>economicActivityFemale</th>\n",
       "      <th>lifeMale</th>\n",
       "      <th>infantMortality</th>\n",
       "      <th>gdpPerCapita</th>\n",
       "      <th>economicActivityMale</th>\n",
       "      <th>illiteracyMale</th>\n",
       "      <th>illiteracyFemale</th>\n",
       "      <th>lifeFemale</th>\n",
       "      <th>contraception</th>\n",
       "    </tr>\n",
       "  </thead>\n",
       "  <tbody>\n",
       "    <tr>\n",
       "      <th>count</th>\n",
       "      <td>145.000000</td>\n",
       "      <td>145.000000</td>\n",
       "      <td>145.000000</td>\n",
       "      <td>145.000000</td>\n",
       "      <td>145.000000</td>\n",
       "      <td>145.000000</td>\n",
       "      <td>145.000000</td>\n",
       "      <td>145.000000</td>\n",
       "      <td>84.000000</td>\n",
       "    </tr>\n",
       "    <tr>\n",
       "      <th>mean</th>\n",
       "      <td>45.935172</td>\n",
       "      <td>65.491724</td>\n",
       "      <td>37.158621</td>\n",
       "      <td>24193.482759</td>\n",
       "      <td>76.563448</td>\n",
       "      <td>13.570028</td>\n",
       "      <td>21.448897</td>\n",
       "      <td>70.615862</td>\n",
       "      <td>51.773810</td>\n",
       "    </tr>\n",
       "    <tr>\n",
       "      <th>std</th>\n",
       "      <td>16.875922</td>\n",
       "      <td>9.099256</td>\n",
       "      <td>34.465699</td>\n",
       "      <td>22748.764444</td>\n",
       "      <td>7.854730</td>\n",
       "      <td>16.497954</td>\n",
       "      <td>25.497045</td>\n",
       "      <td>9.923791</td>\n",
       "      <td>31.930026</td>\n",
       "    </tr>\n",
       "    <tr>\n",
       "      <th>min</th>\n",
       "      <td>1.900000</td>\n",
       "      <td>36.000000</td>\n",
       "      <td>3.000000</td>\n",
       "      <td>772.000000</td>\n",
       "      <td>51.200000</td>\n",
       "      <td>0.000000</td>\n",
       "      <td>0.000000</td>\n",
       "      <td>39.100000</td>\n",
       "      <td>0.000000</td>\n",
       "    </tr>\n",
       "    <tr>\n",
       "      <th>25%</th>\n",
       "      <td>35.500000</td>\n",
       "      <td>62.900000</td>\n",
       "      <td>10.000000</td>\n",
       "      <td>6837.000000</td>\n",
       "      <td>72.000000</td>\n",
       "      <td>1.000000</td>\n",
       "      <td>2.300000</td>\n",
       "      <td>67.500000</td>\n",
       "      <td>17.000000</td>\n",
       "    </tr>\n",
       "    <tr>\n",
       "      <th>50%</th>\n",
       "      <td>47.600000</td>\n",
       "      <td>67.800000</td>\n",
       "      <td>24.000000</td>\n",
       "      <td>15184.000000</td>\n",
       "      <td>77.300000</td>\n",
       "      <td>6.600000</td>\n",
       "      <td>9.720000</td>\n",
       "      <td>73.900000</td>\n",
       "      <td>65.000000</td>\n",
       "    </tr>\n",
       "    <tr>\n",
       "      <th>75%</th>\n",
       "      <td>55.900000</td>\n",
       "      <td>72.400000</td>\n",
       "      <td>54.000000</td>\n",
       "      <td>35957.000000</td>\n",
       "      <td>81.600000</td>\n",
       "      <td>19.500000</td>\n",
       "      <td>30.200000</td>\n",
       "      <td>78.100000</td>\n",
       "      <td>77.000000</td>\n",
       "    </tr>\n",
       "    <tr>\n",
       "      <th>max</th>\n",
       "      <td>90.600000</td>\n",
       "      <td>77.400000</td>\n",
       "      <td>169.000000</td>\n",
       "      <td>122740.000000</td>\n",
       "      <td>93.000000</td>\n",
       "      <td>70.500000</td>\n",
       "      <td>90.800000</td>\n",
       "      <td>82.900000</td>\n",
       "      <td>79.000000</td>\n",
       "    </tr>\n",
       "  </tbody>\n",
       "</table>\n",
       "</div>"
      ],
      "text/plain": [
       "       economicActivityFemale    lifeMale  infantMortality   gdpPerCapita  \\\n",
       "count              145.000000  145.000000       145.000000     145.000000   \n",
       "mean                45.935172   65.491724        37.158621   24193.482759   \n",
       "std                 16.875922    9.099256        34.465699   22748.764444   \n",
       "min                  1.900000   36.000000         3.000000     772.000000   \n",
       "25%                 35.500000   62.900000        10.000000    6837.000000   \n",
       "50%                 47.600000   67.800000        24.000000   15184.000000   \n",
       "75%                 55.900000   72.400000        54.000000   35957.000000   \n",
       "max                 90.600000   77.400000       169.000000  122740.000000   \n",
       "\n",
       "       economicActivityMale  illiteracyMale  illiteracyFemale  lifeFemale  \\\n",
       "count            145.000000      145.000000        145.000000  145.000000   \n",
       "mean              76.563448       13.570028         21.448897   70.615862   \n",
       "std                7.854730       16.497954         25.497045    9.923791   \n",
       "min               51.200000        0.000000          0.000000   39.100000   \n",
       "25%               72.000000        1.000000          2.300000   67.500000   \n",
       "50%               77.300000        6.600000          9.720000   73.900000   \n",
       "75%               81.600000       19.500000         30.200000   78.100000   \n",
       "max               93.000000       70.500000         90.800000   82.900000   \n",
       "\n",
       "       contraception  \n",
       "count      84.000000  \n",
       "mean       51.773810  \n",
       "std        31.930026  \n",
       "min         0.000000  \n",
       "25%        17.000000  \n",
       "50%        65.000000  \n",
       "75%        77.000000  \n",
       "max        79.000000  "
      ]
     },
     "execution_count": 23,
     "metadata": {},
     "output_type": "execute_result"
    }
   ],
   "source": [
    "gdp_missing_values_data.describe()"
   ]
  },
  {
   "cell_type": "markdown",
   "id": "02147f64",
   "metadata": {},
   "source": [
    "Observe that the `count` statistics reports the number of non-missing values of each column in the data, as the number of rows in the data (see code below) are more than the number of non-missing values of all the variables in the above table. Similarly, for the rest of the statistics, such as `mean`, `std`, etc., the missing values are ignored."
   ]
  },
  {
   "cell_type": "code",
   "execution_count": 26,
   "id": "7617fc84",
   "metadata": {},
   "outputs": [
    {
     "data": {
      "text/plain": [
       "155"
      ]
     },
     "execution_count": 26,
     "metadata": {},
     "output_type": "execute_result"
    }
   ],
   "source": [
    "#The dataset gdp_missing_values_data has 155 rows\n",
    "gdp_missing_values_data.shape[0]"
   ]
  },
  {
   "cell_type": "markdown",
   "id": "009c6c5e",
   "metadata": {},
   "source": [
    "### Types of missing values"
   ]
  },
  {
   "cell_type": "markdown",
   "id": "0eae4dd8",
   "metadata": {},
   "source": [
    "\n",
    "Now that we know how to identify missing values in the dataset, let us learn about the types of missing values that can be there. @rubin1976inference classified missing values in three categories."
   ]
  },
  {
   "cell_type": "markdown",
   "id": "7155c7c0",
   "metadata": {},
   "source": [
    "#### Missing Completely at Random (MCAR)\n",
    "If the probability of being missing is the same for all cases, then the data are said to be missing completely at random. An example of MCAR is a weighing scale that ran out of batteries. Some of the data will be missing simply because of bad luck.\n",
    "\n",
    "#### Missing at Random (MAR)\n",
    "If the probability of being missing is the same only within groups defined by the observed data, then the data are missing at random (MAR). MAR is a much broader class than MCAR. For example, when placed on a soft surface, a weighing scale may produce more missing values than when placed on a hard surface. Such data are thus not MCAR. If, however, we know surface type and if we can assume MCAR within the type of surface, then the data are MAR\n",
    "\n",
    "#### Missing Not at Random (MNAR)\n",
    "MNAR means that the probability of being missing varies for reasons that are unknown to us. For example, the weighing scale mechanism may wear out over time, producing more missing data as time progresses, but we may fail to note this. If the heavier objects are measured later in time, then we obtain a distribution of the measurements that will be distorted. MNAR includes the possibility that the scale produces more missing values for the heavier objects (as above), a situation that might be difficult to recognize and handle.\n",
    "\n",
    "*Source: https://stefvanbuuren.name/fimd/sec-MCAR.html*"
   ]
  },
  {
   "cell_type": "markdown",
   "id": "60d32d3b",
   "metadata": {},
   "source": [
    "$\\color{red}{\\text{Q1}}$: In which of the above scenarios can we ignore the observations corresponding to missing values without the risk of skewing the analysis/trends in the data?"
   ]
  },
  {
   "cell_type": "markdown",
   "id": "db0cb156",
   "metadata": {},
   "source": [
    "$\\color{red}{\\text{Q2}}$: In which of the above scenario will it be the most risky to impute or estimate missing values?"
   ]
  },
  {
   "cell_type": "markdown",
   "id": "34a81ba8",
   "metadata": {},
   "source": [
    "### Dropping observations with missing values ([`dropna()`](https://pandas.pydata.org/docs/reference/api/pandas.DataFrame.dropna.html))\n",
    "Sometimes our analysis requires that there should be no missing values in the dataset. For example, while building statistical models, we may require the values of all the predictor variables. The quickest way is to use the `dropna()` method, which drops the observations that even have a single missing value, and leaves only complete observations in the data.\n",
    "\n",
    "Let us drop the rows containing even a single value from `gdp_missing_values_data`."
   ]
  },
  {
   "cell_type": "code",
   "execution_count": 30,
   "id": "a1d2ccf0",
   "metadata": {},
   "outputs": [],
   "source": [
    "gdp_no_missing_data = gdp_missing_values_data.dropna()"
   ]
  },
  {
   "cell_type": "code",
   "execution_count": 31,
   "id": "2fb41f5c",
   "metadata": {},
   "outputs": [
    {
     "data": {
      "text/plain": [
       "(42, 12)"
      ]
     },
     "execution_count": 31,
     "metadata": {},
     "output_type": "execute_result"
    }
   ],
   "source": [
    "#Shape of gdp_no_missing_data\n",
    "gdp_no_missing_data.shape"
   ]
  },
  {
   "cell_type": "markdown",
   "id": "3d9433d9",
   "metadata": {},
   "source": [
    "Dropping rows with even a single missing value has reduced the number of rows from 155 to 42! However, earlier we saw that all the columns except `contraception` had at most 10 missing values. Removing all rows / columns with even a single missing value results in loss of data that is non-missing in the respective rows/columns. Thus, it is typically a bad idea to drop observations with even a single missing value, except in cases where we have a very small number of missing-value observations."
   ]
  },
  {
   "cell_type": "markdown",
   "id": "f947cb45",
   "metadata": {},
   "source": [
    "If a few values of a column are missing, we can possibly estimate them using the rest of the data, so that we can (hopefully) maximize the information that can be extracted from the data. However, if most of the values of a column are missing, it may be harder to estimate its values."
   ]
  },
  {
   "cell_type": "markdown",
   "id": "1470af65",
   "metadata": {},
   "source": [
    "In this case, we see that around 50% values of the `contraception` column is missing. Thus, we'll drop the column as it may be hard to impute its values based on a relatively small number of non-missing values."
   ]
  },
  {
   "cell_type": "code",
   "execution_count": 36,
   "id": "5b687f7e",
   "metadata": {},
   "outputs": [
    {
     "data": {
      "text/plain": [
       "(155, 11)"
      ]
     },
     "execution_count": 36,
     "metadata": {},
     "output_type": "execute_result"
    }
   ],
   "source": [
    "#Deleting column with missing values in almost half of the observations\n",
    "gdp_missing_values_data.drop(['contraception'],axis=1,inplace=True)\n",
    "gdp_missing_values_data.shape"
   ]
  },
  {
   "cell_type": "markdown",
   "id": "2f402c91",
   "metadata": {},
   "source": [
    "### Some methods to impute missing values\n",
    "There are an unlimited number of ways to impute missing values. Some imputation methods are provided in the [Pandas documentation](https://pandas.pydata.org/pandas-docs/stable/user_guide/missing_data.html).\n",
    "\n",
    "The best way to impute them will depend on the problem, and the assumptions taken. Below are just a few examples.\n",
    "\n"
   ]
  },
  {
   "cell_type": "markdown",
   "id": "0580c8c7",
   "metadata": {},
   "source": [
    "#### Method 1: Naive Method\n",
    "Filling the missing value of a column by copying the value of the previous non-missing observation."
   ]
  },
  {
   "cell_type": "code",
   "execution_count": 37,
   "id": "b1ff8d95",
   "metadata": {},
   "outputs": [],
   "source": [
    "#Filling missing values: Method 1- Naive way\n",
    "gdp_imputed_data = gdp_missing_values_data.fillna(method = 'ffill')"
   ]
  },
  {
   "cell_type": "code",
   "execution_count": 42,
   "id": "9ccb7e4c",
   "metadata": {},
   "outputs": [
    {
     "data": {
      "text/plain": [
       "economicActivityFemale    0\n",
       "country                   0\n",
       "lifeMale                  0\n",
       "infantMortality           0\n",
       "gdpPerCapita              0\n",
       "economicActivityMale      0\n",
       "illiteracyMale            1\n",
       "illiteracyFemale          0\n",
       "lifeFemale                0\n",
       "geographic_location       0\n",
       "continent                 0\n",
       "dtype: int64"
      ]
     },
     "execution_count": 42,
     "metadata": {},
     "output_type": "execute_result"
    }
   ],
   "source": [
    "#Checking if any missing values are remaining\n",
    "gdp_imputed_data.isnull().sum()"
   ]
  },
  {
   "cell_type": "markdown",
   "id": "1cd3dec4",
   "metadata": {},
   "source": [
    "After imputing missing values, note there is still one missing value for *illiteracyMale*. Can you guess why one missing value remained?"
   ]
  },
  {
   "cell_type": "markdown",
   "id": "2f74de8e",
   "metadata": {},
   "source": [
    "Let us check how good is this method in imputing missing values. We'll compare the imputed values of `gdpPerCapita` with the actual values. Recall that we had randomly put some missing values in `gdp_missing_values_data`, and we have the actual values in `gdp_complete_data`."
   ]
  },
  {
   "cell_type": "code",
   "execution_count": 44,
   "id": "f0f1aea8",
   "metadata": {},
   "outputs": [],
   "source": [
    "#Index of rows with missing values for GDP per capita\n",
    "null_ind_gdpPC = gdp_missing_values_data.index[gdp_missing_values_data.gdpPerCapita.isnull()]"
   ]
  },
  {
   "cell_type": "code",
   "execution_count": 91,
   "id": "c1f81d42",
   "metadata": {},
   "outputs": [],
   "source": [
    "#Defining a function to plot the imputed values vs actual values \n",
    "def plot_actual_vs_predicted():\n",
    "    fig, ax = plt.subplots(figsize=(8, 6))\n",
    "    plt.rc('xtick', labelsize=15) \n",
    "    plt.rc('ytick', labelsize=15) \n",
    "    x = gdp_complete_data.loc[null_ind_gdpPC,'gdpPerCapita']\n",
    "    y = gdp_imputed_data.loc[null_ind_gdpPC,'gdpPerCapita']\n",
    "    plt.scatter(x,y)\n",
    "    z=np.polyfit(x,y,1)\n",
    "    p=np.poly1d(z)\n",
    "    plt.plot(x,x,color='orange')\n",
    "    plt.xlabel('Actual GDP per capita',fontsize=20)\n",
    "    plt.ylabel('Imputed GDP per capita',fontsize=20)\n",
    "    ax.xaxis.set_major_formatter('${x:,.0f}')\n",
    "    ax.yaxis.set_major_formatter('${x:,.0f}')\n",
    "    rmse = np.sqrt(((x-y).pow(2)).mean())\n",
    "    print(\"RMSE=\",rmse)"
   ]
  },
  {
   "cell_type": "code",
   "execution_count": 92,
   "id": "f86b6bcc",
   "metadata": {},
   "outputs": [
    {
     "name": "stdout",
     "output_type": "stream",
     "text": [
      "RMSE= 34843.91091137732\n"
     ]
    },
    {
     "data": {
      "image/png": "[encoded data removed]",
      "text/plain": [
       "<Figure size 576x432 with 1 Axes>"
      ]
     },
     "metadata": {
      "needs_background": "light"
     },
     "output_type": "display_data"
    }
   ],
   "source": [
    "#Plot comparing imputed values with actual values, and computing the Root mean square error (RMSE) of the imputed values\n",
    "plot_actual_vs_predicted()"
   ]
  },
  {
   "cell_type": "code",
   "execution_count": null,
   "id": "64ebb63d",
   "metadata": {},
   "outputs": [],
   "source": []
  }
 ],
 "metadata": {
  "kernelspec": {
   "display_name": "Python 3",
   "language": "python",
   "name": "python3"
  },
  "language_info": {
   "codemirror_mode": {
    "name": "ipython",
    "version": 3
   },
   "file_extension": ".py",
   "mimetype": "text/x-python",
   "name": "python",
   "nbconvert_exporter": "python",
   "pygments_lexer": "ipython3",
   "version": "3.8.8"
  }
 },
 "nbformat": 4,
 "nbformat_minor": 5
}
