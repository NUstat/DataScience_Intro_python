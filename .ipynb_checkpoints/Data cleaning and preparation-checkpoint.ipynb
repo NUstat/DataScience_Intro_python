{
 "cells": [
  {
   "cell_type": "raw",
   "id": "24e5e2e9",
   "metadata": {},
   "source": [
    "---\n",
    "title: \"Data cleaning and preparation\"\n",
    "format: \n",
    "  html:\n",
    "    code-fold: false\n",
    "    toc-depth: 4\n",
    "jupyter: python3\n",
    "---"
   ]
  },
  {
   "cell_type": "markdown",
   "id": "82358191",
   "metadata": {},
   "source": [
    "## Handling missing data"
   ]
  },
  {
   "cell_type": "markdown",
   "id": "ae56a889",
   "metadata": {},
   "source": [
    "Missing values in a dataset can occur due to several reasons such as breakdown of measuring equipment, accidental removal of observations, lack of response by respondents, error on the part of the researcher, etc."
   ]
  },
  {
   "cell_type": "markdown",
   "id": "dc2e4435",
   "metadata": {},
   "source": [
    "Let us read the dataset *GDP_missing_data.csv*, in which we have randomly removed some values, or put missing values in some of the columns. \n",
    "\n",
    "We'll also read *GDP_complete_data.csv*, in which we have not removed any values. We'll use this data later to assess the accuracy of our guess or estimate of missing values in *GDP_missing_data.csv*."
   ]
  },
  {
   "cell_type": "code",
   "execution_count": 121,
   "id": "7d59f445",
   "metadata": {},
   "outputs": [],
   "source": [
    "import pandas as pd\n",
    "import numpy as np\n",
    "import matplotlib.pyplot as plt\n",
    "import sklearn as sk\n",
    "import seaborn as sns\n",
    "gdp_missing_values_data = pd.read_csv('./Datasets/GDP_missing_data.csv')\n",
    "gdp_complete_data = pd.read_csv('./Datasets/GDP_complete_data.csv')"
   ]
  },
  {
   "cell_type": "code",
   "execution_count": 2,
   "id": "bfb5b2fb",
   "metadata": {},
   "outputs": [
    {
     "data": {
      "text/html": [
       "<div>\n",
       "<style scoped>\n",
       "    .dataframe tbody tr th:only-of-type {\n",
       "        vertical-align: middle;\n",
       "    }\n",
       "\n",
       "    .dataframe tbody tr th {\n",
       "        vertical-align: top;\n",
       "    }\n",
       "\n",
       "    .dataframe thead th {\n",
       "        text-align: right;\n",
       "    }\n",
       "</style>\n",
       "<table border=\"1\" class=\"dataframe\">\n",
       "  <thead>\n",
       "    <tr style=\"text-align: right;\">\n",
       "      <th></th>\n",
       "      <th>economicActivityFemale</th>\n",
       "      <th>country</th>\n",
       "      <th>lifeMale</th>\n",
       "      <th>infantMortality</th>\n",
       "      <th>gdpPerCapita</th>\n",
       "      <th>economicActivityMale</th>\n",
       "      <th>illiteracyMale</th>\n",
       "      <th>illiteracyFemale</th>\n",
       "      <th>lifeFemale</th>\n",
       "      <th>geographic_location</th>\n",
       "      <th>contraception</th>\n",
       "      <th>continent</th>\n",
       "    </tr>\n",
       "  </thead>\n",
       "  <tbody>\n",
       "    <tr>\n",
       "      <th>0</th>\n",
       "      <td>7.2</td>\n",
       "      <td>Afghanistan</td>\n",
       "      <td>45.0</td>\n",
       "      <td>154.0</td>\n",
       "      <td>2474.0</td>\n",
       "      <td>87.5</td>\n",
       "      <td>NaN</td>\n",
       "      <td>85.0</td>\n",
       "      <td>46.0</td>\n",
       "      <td>Southern Asia</td>\n",
       "      <td>NaN</td>\n",
       "      <td>Asia</td>\n",
       "    </tr>\n",
       "    <tr>\n",
       "      <th>1</th>\n",
       "      <td>7.8</td>\n",
       "      <td>Algeria</td>\n",
       "      <td>67.5</td>\n",
       "      <td>44.0</td>\n",
       "      <td>11433.0</td>\n",
       "      <td>76.4</td>\n",
       "      <td>26.1</td>\n",
       "      <td>51.0</td>\n",
       "      <td>70.3</td>\n",
       "      <td>Northern Africa</td>\n",
       "      <td>NaN</td>\n",
       "      <td>Africa</td>\n",
       "    </tr>\n",
       "    <tr>\n",
       "      <th>2</th>\n",
       "      <td>41.3</td>\n",
       "      <td>Argentina</td>\n",
       "      <td>69.6</td>\n",
       "      <td>22.0</td>\n",
       "      <td>NaN</td>\n",
       "      <td>76.2</td>\n",
       "      <td>3.8</td>\n",
       "      <td>3.8</td>\n",
       "      <td>76.8</td>\n",
       "      <td>South America</td>\n",
       "      <td>NaN</td>\n",
       "      <td>South America</td>\n",
       "    </tr>\n",
       "    <tr>\n",
       "      <th>3</th>\n",
       "      <td>52.0</td>\n",
       "      <td>Armenia</td>\n",
       "      <td>67.2</td>\n",
       "      <td>25.0</td>\n",
       "      <td>13638.0</td>\n",
       "      <td>65.0</td>\n",
       "      <td>NaN</td>\n",
       "      <td>0.5</td>\n",
       "      <td>74.0</td>\n",
       "      <td>Western Asia</td>\n",
       "      <td>NaN</td>\n",
       "      <td>Asia</td>\n",
       "    </tr>\n",
       "    <tr>\n",
       "      <th>4</th>\n",
       "      <td>53.8</td>\n",
       "      <td>Australia</td>\n",
       "      <td>NaN</td>\n",
       "      <td>6.0</td>\n",
       "      <td>54891.0</td>\n",
       "      <td>NaN</td>\n",
       "      <td>1.0</td>\n",
       "      <td>1.0</td>\n",
       "      <td>81.2</td>\n",
       "      <td>Oceania</td>\n",
       "      <td>NaN</td>\n",
       "      <td>Oceania</td>\n",
       "    </tr>\n",
       "  </tbody>\n",
       "</table>\n",
       "</div>"
      ],
      "text/plain": [
       "   economicActivityFemale      country  lifeMale  infantMortality  \\\n",
       "0                     7.2  Afghanistan      45.0            154.0   \n",
       "1                     7.8      Algeria      67.5             44.0   \n",
       "2                    41.3    Argentina      69.6             22.0   \n",
       "3                    52.0      Armenia      67.2             25.0   \n",
       "4                    53.8    Australia       NaN              6.0   \n",
       "\n",
       "   gdpPerCapita  economicActivityMale  illiteracyMale  illiteracyFemale  \\\n",
       "0        2474.0                  87.5             NaN              85.0   \n",
       "1       11433.0                  76.4            26.1              51.0   \n",
       "2           NaN                  76.2             3.8               3.8   \n",
       "3       13638.0                  65.0             NaN               0.5   \n",
       "4       54891.0                   NaN             1.0               1.0   \n",
       "\n",
       "   lifeFemale geographic_location  contraception      continent  \n",
       "0        46.0       Southern Asia            NaN           Asia  \n",
       "1        70.3     Northern Africa            NaN         Africa  \n",
       "2        76.8       South America            NaN  South America  \n",
       "3        74.0        Western Asia            NaN           Asia  \n",
       "4        81.2             Oceania            NaN        Oceania  "
      ]
     },
     "execution_count": 2,
     "metadata": {},
     "output_type": "execute_result"
    }
   ],
   "source": [
    "gdp_missing_values_data.head()"
   ]
  },
  {
   "cell_type": "markdown",
   "id": "e97a9e81",
   "metadata": {},
   "source": [
    "Observe that the `gdp_missing_values_data` dataset consists of some missing values shown as NaN (Not a Number)."
   ]
  },
  {
   "cell_type": "markdown",
   "id": "78276c04",
   "metadata": {},
   "source": [
    "### Identifying missing values ([`isnull()`](https://pandas.pydata.org/docs/reference/api/pandas.DataFrame.isnull.html))\n",
    "Missing values in a Pandas DataFrame can be identified with the [`isnull()`](https://pandas.pydata.org/docs/reference/api/pandas.DataFrame.isnull.html) method. The Pandas Series object also consists of the [`isnull()`](https://pandas.pydata.org/docs/reference/api/pandas.Series.isnull.html) method. For finding the number of missing values in each column of `gdp_missing_values_data`, we will sum up the missing values in each column of the dataset:"
   ]
  },
  {
   "cell_type": "code",
   "execution_count": 10,
   "id": "df2fb313",
   "metadata": {},
   "outputs": [
    {
     "data": {
      "text/plain": [
       "economicActivityFemale    10\n",
       "country                    0\n",
       "lifeMale                  10\n",
       "infantMortality           10\n",
       "gdpPerCapita              10\n",
       "economicActivityMale      10\n",
       "illiteracyMale            10\n",
       "illiteracyFemale          10\n",
       "lifeFemale                10\n",
       "geographic_location        0\n",
       "contraception             71\n",
       "continent                  0\n",
       "dtype: int64"
      ]
     },
     "execution_count": 10,
     "metadata": {},
     "output_type": "execute_result"
    }
   ],
   "source": [
    "gdp_missing_values_data.isnull().sum()"
   ]
  },
  {
   "cell_type": "markdown",
   "id": "1c54e61a",
   "metadata": {},
   "source": [
    "Note that the descriptive statistics methods associated with Pandas objects ignore missing values by default. Consider the summary statistics of `gdp_missing_values_data`:"
   ]
  },
  {
   "cell_type": "code",
   "execution_count": 23,
   "id": "7941d12d",
   "metadata": {},
   "outputs": [
    {
     "data": {
      "text/html": [
       "<div>\n",
       "<style scoped>\n",
       "    .dataframe tbody tr th:only-of-type {\n",
       "        vertical-align: middle;\n",
       "    }\n",
       "\n",
       "    .dataframe tbody tr th {\n",
       "        vertical-align: top;\n",
       "    }\n",
       "\n",
       "    .dataframe thead th {\n",
       "        text-align: right;\n",
       "    }\n",
       "</style>\n",
       "<table border=\"1\" class=\"dataframe\">\n",
       "  <thead>\n",
       "    <tr style=\"text-align: right;\">\n",
       "      <th></th>\n",
       "      <th>economicActivityFemale</th>\n",
       "      <th>lifeMale</th>\n",
       "      <th>infantMortality</th>\n",
       "      <th>gdpPerCapita</th>\n",
       "      <th>economicActivityMale</th>\n",
       "      <th>illiteracyMale</th>\n",
       "      <th>illiteracyFemale</th>\n",
       "      <th>lifeFemale</th>\n",
       "      <th>contraception</th>\n",
       "    </tr>\n",
       "  </thead>\n",
       "  <tbody>\n",
       "    <tr>\n",
       "      <th>count</th>\n",
       "      <td>145.000000</td>\n",
       "      <td>145.000000</td>\n",
       "      <td>145.000000</td>\n",
       "      <td>145.000000</td>\n",
       "      <td>145.000000</td>\n",
       "      <td>145.000000</td>\n",
       "      <td>145.000000</td>\n",
       "      <td>145.000000</td>\n",
       "      <td>84.000000</td>\n",
       "    </tr>\n",
       "    <tr>\n",
       "      <th>mean</th>\n",
       "      <td>45.935172</td>\n",
       "      <td>65.491724</td>\n",
       "      <td>37.158621</td>\n",
       "      <td>24193.482759</td>\n",
       "      <td>76.563448</td>\n",
       "      <td>13.570028</td>\n",
       "      <td>21.448897</td>\n",
       "      <td>70.615862</td>\n",
       "      <td>51.773810</td>\n",
       "    </tr>\n",
       "    <tr>\n",
       "      <th>std</th>\n",
       "      <td>16.875922</td>\n",
       "      <td>9.099256</td>\n",
       "      <td>34.465699</td>\n",
       "      <td>22748.764444</td>\n",
       "      <td>7.854730</td>\n",
       "      <td>16.497954</td>\n",
       "      <td>25.497045</td>\n",
       "      <td>9.923791</td>\n",
       "      <td>31.930026</td>\n",
       "    </tr>\n",
       "    <tr>\n",
       "      <th>min</th>\n",
       "      <td>1.900000</td>\n",
       "      <td>36.000000</td>\n",
       "      <td>3.000000</td>\n",
       "      <td>772.000000</td>\n",
       "      <td>51.200000</td>\n",
       "      <td>0.000000</td>\n",
       "      <td>0.000000</td>\n",
       "      <td>39.100000</td>\n",
       "      <td>0.000000</td>\n",
       "    </tr>\n",
       "    <tr>\n",
       "      <th>25%</th>\n",
       "      <td>35.500000</td>\n",
       "      <td>62.900000</td>\n",
       "      <td>10.000000</td>\n",
       "      <td>6837.000000</td>\n",
       "      <td>72.000000</td>\n",
       "      <td>1.000000</td>\n",
       "      <td>2.300000</td>\n",
       "      <td>67.500000</td>\n",
       "      <td>17.000000</td>\n",
       "    </tr>\n",
       "    <tr>\n",
       "      <th>50%</th>\n",
       "      <td>47.600000</td>\n",
       "      <td>67.800000</td>\n",
       "      <td>24.000000</td>\n",
       "      <td>15184.000000</td>\n",
       "      <td>77.300000</td>\n",
       "      <td>6.600000</td>\n",
       "      <td>9.720000</td>\n",
       "      <td>73.900000</td>\n",
       "      <td>65.000000</td>\n",
       "    </tr>\n",
       "    <tr>\n",
       "      <th>75%</th>\n",
       "      <td>55.900000</td>\n",
       "      <td>72.400000</td>\n",
       "      <td>54.000000</td>\n",
       "      <td>35957.000000</td>\n",
       "      <td>81.600000</td>\n",
       "      <td>19.500000</td>\n",
       "      <td>30.200000</td>\n",
       "      <td>78.100000</td>\n",
       "      <td>77.000000</td>\n",
       "    </tr>\n",
       "    <tr>\n",
       "      <th>max</th>\n",
       "      <td>90.600000</td>\n",
       "      <td>77.400000</td>\n",
       "      <td>169.000000</td>\n",
       "      <td>122740.000000</td>\n",
       "      <td>93.000000</td>\n",
       "      <td>70.500000</td>\n",
       "      <td>90.800000</td>\n",
       "      <td>82.900000</td>\n",
       "      <td>79.000000</td>\n",
       "    </tr>\n",
       "  </tbody>\n",
       "</table>\n",
       "</div>"
      ],
      "text/plain": [
       "       economicActivityFemale    lifeMale  infantMortality   gdpPerCapita  \\\n",
       "count              145.000000  145.000000       145.000000     145.000000   \n",
       "mean                45.935172   65.491724        37.158621   24193.482759   \n",
       "std                 16.875922    9.099256        34.465699   22748.764444   \n",
       "min                  1.900000   36.000000         3.000000     772.000000   \n",
       "25%                 35.500000   62.900000        10.000000    6837.000000   \n",
       "50%                 47.600000   67.800000        24.000000   15184.000000   \n",
       "75%                 55.900000   72.400000        54.000000   35957.000000   \n",
       "max                 90.600000   77.400000       169.000000  122740.000000   \n",
       "\n",
       "       economicActivityMale  illiteracyMale  illiteracyFemale  lifeFemale  \\\n",
       "count            145.000000      145.000000        145.000000  145.000000   \n",
       "mean              76.563448       13.570028         21.448897   70.615862   \n",
       "std                7.854730       16.497954         25.497045    9.923791   \n",
       "min               51.200000        0.000000          0.000000   39.100000   \n",
       "25%               72.000000        1.000000          2.300000   67.500000   \n",
       "50%               77.300000        6.600000          9.720000   73.900000   \n",
       "75%               81.600000       19.500000         30.200000   78.100000   \n",
       "max               93.000000       70.500000         90.800000   82.900000   \n",
       "\n",
       "       contraception  \n",
       "count      84.000000  \n",
       "mean       51.773810  \n",
       "std        31.930026  \n",
       "min         0.000000  \n",
       "25%        17.000000  \n",
       "50%        65.000000  \n",
       "75%        77.000000  \n",
       "max        79.000000  "
      ]
     },
     "execution_count": 23,
     "metadata": {},
     "output_type": "execute_result"
    }
   ],
   "source": [
    "gdp_missing_values_data.describe()"
   ]
  },
  {
   "cell_type": "markdown",
   "id": "387c18da",
   "metadata": {},
   "source": [
    "Observe that the `count` statistics report the number of non-missing values of each column in the data, as the number of rows in the data (see code below) is more than the number of non-missing values of all the variables in the above table. Similarly, for the rest of the statistics, such as `mean`, `std`, etc., the missing values are ignored."
   ]
  },
  {
   "cell_type": "code",
   "execution_count": 26,
   "id": "fd044ff1",
   "metadata": {},
   "outputs": [
    {
     "data": {
      "text/plain": [
       "155"
      ]
     },
     "execution_count": 26,
     "metadata": {},
     "output_type": "execute_result"
    }
   ],
   "source": [
    "#The dataset gdp_missing_values_data has 155 rows\n",
    "gdp_missing_values_data.shape[0]"
   ]
  },
  {
   "cell_type": "markdown",
   "id": "71a3ad30",
   "metadata": {},
   "source": [
    "### Types of missing values"
   ]
  },
  {
   "cell_type": "markdown",
   "id": "a99fd0e9",
   "metadata": {},
   "source": [
    "\n",
    "Now that we know how to identify missing values in the dataset, let us learn about the types of missing values that can be there. @rubin1976inference classified missing values in three categories."
   ]
  },
  {
   "cell_type": "markdown",
   "id": "69659b06",
   "metadata": {},
   "source": [
    "#### Missing Completely at Random (MCAR)\n",
    "If the probability of being missing is the same for all cases, then the data are said to be missing completely at random. An example of MCAR is a weighing scale that ran out of batteries. Some of the data will be missing simply because of bad luck.\n",
    "\n",
    "#### Missing at Random (MAR)\n",
    "If the probability of being missing is the same only within groups defined by the observed data, then the data are missing at random (MAR). MAR is a much broader class than MCAR. For example, when placed on a soft surface, a weighing scale may produce more missing values than when placed on a hard surface. Such data are thus not MCAR. If, however, we know surface type and if we can assume MCAR within the type of surface, then the data are MAR\n",
    "\n",
    "#### Missing Not at Random (MNAR)\n",
    "MNAR means that the probability of being missing varies for reasons that are unknown to us. For example, the weighing scale mechanism may wear out over time, producing more missing data as time progresses, but we may fail to note this. If the heavier objects are measured later in time, then we obtain a distribution of the measurements that will be distorted. MNAR includes the possibility that the scale produces more missing values for the heavier objects (as above), a situation that might be difficult to recognize and handle.\n",
    "\n",
    "*Source: https://stefvanbuuren.name/fimd/sec-MCAR.html*"
   ]
  },
  {
   "cell_type": "markdown",
   "id": "bb7a2b8b",
   "metadata": {},
   "source": [
    "### Practice exercise 1"
   ]
  },
  {
   "cell_type": "markdown",
   "id": "751a3c46",
   "metadata": {},
   "source": [
    "#### \n",
    "In which of the above scenarios can we ignore the observations corresponding to missing values without the risk of skewing the analysis/trends in the data?"
   ]
  },
  {
   "cell_type": "markdown",
   "id": "9fbf8af2",
   "metadata": {},
   "source": [
    "#### \n",
    "In which of the above scenarios will it be the more risky to impute or estimate missing values?"
   ]
  },
  {
   "cell_type": "markdown",
   "id": "f1388585",
   "metadata": {},
   "source": [
    "#### \n",
    "For the datset consisting of GDP per capita, think of hypothetical scenarios in which the missing values of GDP per capita can correspond to MCAR / MAR / MNAR."
   ]
  },
  {
   "cell_type": "markdown",
   "id": "107b354f",
   "metadata": {},
   "source": [
    "### Dropping observations with missing values ([`dropna()`](https://pandas.pydata.org/docs/reference/api/pandas.DataFrame.dropna.html))\n",
    "Sometimes our analysis requires that there should be no missing values in the dataset. For example, while building statistical models, we may require the values of all the predictor variables. The quickest way is to use the `dropna()` method, which drops the observations that even have a single missing value, and leaves only complete observations in the data.\n",
    "\n",
    "Let us drop the rows containing even a single value from `gdp_missing_values_data`."
   ]
  },
  {
   "cell_type": "code",
   "execution_count": 30,
   "id": "13daeba7",
   "metadata": {},
   "outputs": [],
   "source": [
    "gdp_no_missing_data = gdp_missing_values_data.dropna()"
   ]
  },
  {
   "cell_type": "code",
   "execution_count": 31,
   "id": "a530dce3",
   "metadata": {},
   "outputs": [
    {
     "data": {
      "text/plain": [
       "(42, 12)"
      ]
     },
     "execution_count": 31,
     "metadata": {},
     "output_type": "execute_result"
    }
   ],
   "source": [
    "#Shape of gdp_no_missing_data\n",
    "gdp_no_missing_data.shape"
   ]
  },
  {
   "cell_type": "markdown",
   "id": "b803d179",
   "metadata": {},
   "source": [
    "Dropping rows with even a single missing value has reduced the number of rows from 155 to 42! However, earlier we saw that all the columns except `contraception` had at most 10 missing values. Removing all rows / columns with even a single missing value results in loss of data that is non-missing in the respective rows/columns. Thus, it is typically a bad idea to drop observations with even a single missing value, except in cases where we have a very small number of missing-value observations."
   ]
  },
  {
   "cell_type": "markdown",
   "id": "6c4b17d9",
   "metadata": {},
   "source": [
    "If a few values of a column are missing, we can possibly estimate them using the rest of the data, so that we can (hopefully) maximize the information that can be extracted from the data. However, if most of the values of a column are missing, it may be harder to estimate its values."
   ]
  },
  {
   "cell_type": "markdown",
   "id": "e9138c0f",
   "metadata": {},
   "source": [
    "In this case, we see that around 50% values of the `contraception` column is missing. Thus, we'll drop the column as it may be hard to impute its values based on a relatively small number of non-missing values."
   ]
  },
  {
   "cell_type": "code",
   "execution_count": 3,
   "id": "cf612818",
   "metadata": {},
   "outputs": [
    {
     "data": {
      "text/plain": [
       "(155, 11)"
      ]
     },
     "execution_count": 3,
     "metadata": {},
     "output_type": "execute_result"
    }
   ],
   "source": [
    "#Deleting column with missing values in almost half of the observations\n",
    "gdp_missing_values_data.drop(['contraception'],axis=1,inplace=True)\n",
    "gdp_missing_values_data.shape"
   ]
  },
  {
   "cell_type": "markdown",
   "id": "d590ee83",
   "metadata": {},
   "source": [
    "### Some methods to impute missing values\n",
    "There are an unlimited number of ways to impute missing values. Some imputation methods are provided in the [Pandas documentation](https://pandas.pydata.org/pandas-docs/stable/user_guide/missing_data.html).\n",
    "\n",
    "The best way to impute them will depend on the problem, and the assumptions taken. Below are just a few examples.\n",
    "\n"
   ]
  },
  {
   "cell_type": "markdown",
   "id": "5d214f53",
   "metadata": {},
   "source": [
    "#### Method 1: Naive Method\n",
    "Filling the missing value of a column by copying the value of the previous non-missing observation."
   ]
  },
  {
   "cell_type": "code",
   "execution_count": 37,
   "id": "4cce7c4f",
   "metadata": {},
   "outputs": [],
   "source": [
    "#Filling missing values: Method 1- Naive way\n",
    "gdp_imputed_data = gdp_missing_values_data.fillna(method = 'ffill')"
   ]
  },
  {
   "cell_type": "code",
   "execution_count": 42,
   "id": "08578d6d",
   "metadata": {},
   "outputs": [
    {
     "data": {
      "text/plain": [
       "economicActivityFemale    0\n",
       "country                   0\n",
       "lifeMale                  0\n",
       "infantMortality           0\n",
       "gdpPerCapita              0\n",
       "economicActivityMale      0\n",
       "illiteracyMale            1\n",
       "illiteracyFemale          0\n",
       "lifeFemale                0\n",
       "geographic_location       0\n",
       "continent                 0\n",
       "dtype: int64"
      ]
     },
     "execution_count": 42,
     "metadata": {},
     "output_type": "execute_result"
    }
   ],
   "source": [
    "#Checking if any missing values are remaining\n",
    "gdp_imputed_data.isnull().sum()"
   ]
  },
  {
   "cell_type": "markdown",
   "id": "7426b0ba",
   "metadata": {},
   "source": [
    "After imputing missing values, note there is still one missing value for *illiteracyMale*. Can you guess why one missing value remained?"
   ]
  },
  {
   "cell_type": "markdown",
   "id": "6748f28d",
   "metadata": {},
   "source": [
    "Let us check how good is this method in imputing missing values. We'll compare the imputed values of `gdpPerCapita` with the actual values. Recall that we had randomly put some missing values in `gdp_missing_values_data`, and we have the actual values in `gdp_complete_data`."
   ]
  },
  {
   "cell_type": "code",
   "execution_count": 29,
   "id": "d6594992",
   "metadata": {},
   "outputs": [],
   "source": [
    "#Index of rows with missing values for GDP per capita\n",
    "null_ind_gdpPC = gdp_missing_values_data.index[gdp_missing_values_data.gdpPerCapita.isnull()]"
   ]
  },
  {
   "cell_type": "code",
   "execution_count": 30,
   "id": "47bd62a0",
   "metadata": {},
   "outputs": [],
   "source": [
    "#Defining a function to plot the imputed values vs actual values \n",
    "def plot_actual_vs_predicted():\n",
    "    fig, ax = plt.subplots(figsize=(8, 6))\n",
    "    plt.rc('xtick', labelsize=15) \n",
    "    plt.rc('ytick', labelsize=15) \n",
    "    x = gdp_complete_data.loc[null_ind_gdpPC,'gdpPerCapita']\n",
    "    y = gdp_imputed_data.loc[null_ind_gdpPC,'gdpPerCapita']\n",
    "    plt.scatter(x,y)\n",
    "    z=np.polyfit(x,y,1)\n",
    "    p=np.poly1d(z)\n",
    "    plt.plot(x,x,color='orange')\n",
    "    plt.xlabel('Actual GDP per capita',fontsize=20)\n",
    "    plt.ylabel('Imputed GDP per capita',fontsize=20)\n",
    "    ax.xaxis.set_major_formatter('${x:,.0f}')\n",
    "    ax.yaxis.set_major_formatter('${x:,.0f}')\n",
    "    rmse = np.sqrt(((x-y).pow(2)).mean())\n",
    "    print(\"RMSE=\",rmse)"
   ]
  },
  {
   "cell_type": "code",
   "execution_count": 92,
   "id": "aef67af8",
   "metadata": {},
   "outputs": [
    {
     "name": "stdout",
     "output_type": "stream",
     "text": [
      "RMSE= 34843.91091137732\n"
     ]
    },
    {
     "data": {
      "image/png": "[encoded data removed]",
      "text/plain": [
       "<Figure size 576x432 with 1 Axes>"
      ]
     },
     "metadata": {
      "needs_background": "light"
     },
     "output_type": "display_data"
    }
   ],
   "source": [
    "#Plot comparing imputed values with actual values, and computing the Root mean square error (RMSE) of the imputed values\n",
    "plot_actual_vs_predicted()"
   ]
  },
  {
   "cell_type": "markdown",
   "id": "a82570f3",
   "metadata": {},
   "source": [
    "We observe that the accuracy of imputation is poor as GDP per capita can vary a lot across countries, and the data is not sorted by GDP per capita. There is no reason why the GDP per capita of a country should be close to the GDP per capita of the country in the observation above it."
   ]
  },
  {
   "cell_type": "markdown",
   "id": "5e9feca5",
   "metadata": {},
   "source": [
    "#### Method 2: Imputing missing values as the mean of non-missing values\n",
    "Let us impute missing values in the column as the average of the non-missing values of the column. The sum of squared differences between actual values and the imputed values is likely to be smaller if we impute using the mean. However, this may not be true in cases other than MCAR (Missing completely at random)."
   ]
  },
  {
   "cell_type": "code",
   "execution_count": 9,
   "id": "9b5a9a95",
   "metadata": {},
   "outputs": [],
   "source": [
    "#Filling missing values: Method 2\n",
    "gdp_imputed_data = gdp_missing_values_data.fillna(gdp_missing_values_data.mean())"
   ]
  },
  {
   "cell_type": "code",
   "execution_count": 10,
   "id": "f12eb9e8",
   "metadata": {},
   "outputs": [
    {
     "name": "stdout",
     "output_type": "stream",
     "text": [
      "RMSE= 30793.549983587087\n"
     ]
    },
    {
     "data": {
      "image/png": "[encoded data removed]",
      "text/plain": [
       "<Figure size 576x432 with 1 Axes>"
      ]
     },
     "metadata": {
      "needs_background": "light"
     },
     "output_type": "display_data"
    }
   ],
   "source": [
    "plot_actual_vs_predicted()"
   ]
  },
  {
   "cell_type": "markdown",
   "id": "cb15b142",
   "metadata": {},
   "source": [
    "Although this method of imputation doesn't seem impressive, the RMSE of the estimates is lower than that of the naive method. Since we had introduced missing values randomly in `gdp_missing_values_data`, the mean GDP per capita will be the closest constant to the GDP per capita values, in terms of squared error."
   ]
  },
  {
   "cell_type": "markdown",
   "id": "aa43797d",
   "metadata": {},
   "source": [
    "#### Method 3: Imputing missing values based on correlated variables in the data"
   ]
  },
  {
   "cell_type": "markdown",
   "id": "40ac1633",
   "metadata": {},
   "source": [
    "If a variable is highly correlated with another variable in the dataset, we can approximate its missing values using the trendline with the highly correlated variable."
   ]
  },
  {
   "cell_type": "markdown",
   "id": "cec27e44",
   "metadata": {},
   "source": [
    "Let us visualize the distribution of GDP per capita for different continents."
   ]
  },
  {
   "cell_type": "code",
   "execution_count": 102,
   "id": "a1bbbec5",
   "metadata": {},
   "outputs": [
    {
     "data": {
      "text/plain": [
       "<AxesSubplot:xlabel='continent', ylabel='gdpPerCapita'>"
      ]
     },
     "execution_count": 102,
     "metadata": {},
     "output_type": "execute_result"
    },
    {
     "data": {
      "image/png": "[encoded data removed]",
      "text/plain": [
       "<Figure size 864x432 with 1 Axes>"
      ]
     },
     "metadata": {
      "needs_background": "light"
     },
     "output_type": "display_data"
    }
   ],
   "source": [
    "plt.rcParams[\"figure.figsize\"] = (12,6)\n",
    "sns.boxplot(x = 'continent',y='gdpPerCapita',data = gdp_missing_values_data)"
   ]
  },
  {
   "cell_type": "markdown",
   "id": "38c5e180",
   "metadata": {},
   "source": [
    "We observe that there is a distinct difference between the GDPs per capita of some of the contents. Let us impute the missing GDP per capita of a country as the mean GDP per capita of the corresponding continent. This imputation should be better than imputing the missing GDP per capita as the mean of all the non-missing values, as the GDP per capita of a country is likely to be closer to the mean GDP per capita of the continent, rather the mean GDP per capita of the whole world."
   ]
  },
  {
   "cell_type": "code",
   "execution_count": 31,
   "id": "cb7e3da5",
   "metadata": {},
   "outputs": [
    {
     "data": {
      "text/plain": [
       "continent\n",
       "Africa            7638.178571\n",
       "Asia             25922.750000\n",
       "Europe           45455.303030\n",
       "North America    19625.210526\n",
       "Oceania          15385.857143\n",
       "South America    15360.909091\n",
       "Name: gdpPerCapita, dtype: float64"
      ]
     },
     "execution_count": 31,
     "metadata": {},
     "output_type": "execute_result"
    }
   ],
   "source": [
    "#Finding the mean GDP per capita of the continent - please defer the understanding of this code to chapter 9.\n",
    "avg_gdpPerCapita = gdp_missing_values_data['gdpPerCapita'].groupby(gdp_missing_values_data['continent']).mean()\n",
    "avg_gdpPerCapita"
   ]
  },
  {
   "cell_type": "code",
   "execution_count": 32,
   "id": "42887061",
   "metadata": {},
   "outputs": [],
   "source": [
    "#Creating a copy of missing data to impute missing values\n",
    "gdp_imputed_data = gdp_missing_values_data.copy()"
   ]
  },
  {
   "cell_type": "code",
   "execution_count": 33,
   "id": "13cbd9a1",
   "metadata": {},
   "outputs": [
    {
     "name": "stdout",
     "output_type": "stream",
     "text": [
      "RMSE= 25473.20645170116\n"
     ]
    },
    {
     "data": {
      "image/png": "[encoded data removed]",
      "text/plain": [
       "<Figure size 576x432 with 1 Axes>"
      ]
     },
     "metadata": {
      "needs_background": "light"
     },
     "output_type": "display_data"
    }
   ],
   "source": [
    "#Replacing missing GDP per capita with the mean GDP per capita for the corresponding continent\n",
    "for cont in avg_gdpPerCapita.index:\n",
    "    gdp_imputed_data.loc[(gdp_imputed_data.continent==cont) & (gdp_imputed_data.gdpPerCapita.isnull()),\n",
    "                     'gdpPerCapita']=avg_gdpPerCapita[cont]\n",
    "plot_actual_vs_predicted()"
   ]
  },
  {
   "cell_type": "markdown",
   "id": "9a364051",
   "metadata": {},
   "source": [
    "Note that the imputed values are closer to the actual values, and the RMSE has further reduced as expected."
   ]
  },
  {
   "cell_type": "markdown",
   "id": "4e31051f",
   "metadata": {},
   "source": [
    "#### Practice exercise 2\n",
    "Find the numeric variable most strongly correlated with GDP per capita, and use it to impute its missing values. Find the RMSE of the imputed values."
   ]
  },
  {
   "cell_type": "markdown",
   "id": "4a97a90f",
   "metadata": {},
   "source": [
    "**Solution:**"
   ]
  },
  {
   "cell_type": "code",
   "execution_count": 115,
   "id": "a425e4d8",
   "metadata": {},
   "outputs": [
    {
     "data": {
      "text/plain": [
       "economicActivityFemale    0.078332\n",
       "lifeMale                  0.579850\n",
       "infantMortality          -0.572201\n",
       "gdpPerCapita              1.000000\n",
       "economicActivityMale     -0.134108\n",
       "illiteracyMale           -0.479143\n",
       "illiteracyFemale         -0.448273\n",
       "lifeFemale                0.615954\n",
       "contraception             0.057923\n",
       "dtype: float64"
      ]
     },
     "execution_count": 115,
     "metadata": {},
     "output_type": "execute_result"
    }
   ],
   "source": [
    "#Let us identify the variable highly correlated with GDP per capita.\n",
    "gdp_missing_values_data.corrwith(gdp_missing_values_data.gdpPerCapita)"
   ]
  },
  {
   "cell_type": "code",
   "execution_count": 116,
   "id": "af455ccf",
   "metadata": {},
   "outputs": [
    {
     "name": "stdout",
     "output_type": "stream",
     "text": [
      "RMSE= 25570.361516956993\n"
     ]
    },
    {
     "data": {
      "image/png": "[encoded data removed]",
      "text/plain": [
       "<Figure size 576x432 with 1 Axes>"
      ]
     },
     "metadata": {
      "needs_background": "light"
     },
     "output_type": "display_data"
    }
   ],
   "source": [
    "#The variable *lifeFemale* has the strongest correlation with GDP per capita. Let us use it to impute missing values of GDP per capita.\n",
    "x = gdp_missing_values_data.lifeFemale\n",
    "y = gdp_missing_values_data.gdpPerCapita\n",
    "idx_non_missing = np.isfinite(x) & np.isfinite(y)\n",
    "slope_intercept_trendline = np.polyfit(x[idx_non_missing],y[idx_non_missing],1)   #Finding the slope and intercept for the trendline\n",
    "compute_y_given_x = np.poly1d(slope_intercept_trendline)\n",
    "#Creating a copy of missing data to impute missing values\n",
    "gdp_imputed_data = gdp_missing_values_data.copy()\n",
    "gdp_imputed_data.loc[null_ind_gdpPC,'gdpPerCapita']=compute_y_given_x(gdp_missing_values_data.loc[null_ind_gdpPC,'lifeFemale'])\n",
    "plot_actual_vs_predicted()"
   ]
  },
  {
   "cell_type": "markdown",
   "id": "23ee80d2",
   "metadata": {},
   "source": [
    "#### Method 4: KNN: K-nearest neighbor"
   ]
  },
  {
   "cell_type": "markdown",
   "id": "f62342d4",
   "metadata": {},
   "source": [
    "In this method, we'll impute the missing value of the variable as the mean value of the $K$-nearest neighbors having non-missing values for that variable. The neighbors to a data-point are identified based on their Euclidean distance to the point in terms of the standardized values of rest of the variables in the data."
   ]
  },
  {
   "cell_type": "markdown",
   "id": "1167dfd0",
   "metadata": {},
   "source": [
    "Let's consider a toy example to understand missing value imputation by KNN. Suppose we have to impute missing values in a toy dataset, named as `toy_data` having 4 observations and 3 variables."
   ]
  },
  {
   "cell_type": "code",
   "execution_count": 66,
   "id": "c2b668fb",
   "metadata": {},
   "outputs": [
    {
     "data": {
      "text/plain": [
       "array([[ 1.,  2., nan],\n",
       "       [ 3.,  4.,  3.],\n",
       "       [nan,  6.,  5.],\n",
       "       [ 8.,  8.,  7.]])"
      ]
     },
     "execution_count": 66,
     "metadata": {},
     "output_type": "execute_result"
    }
   ],
   "source": [
    "#Toy example - A 4x3 array with missing values\n",
    "nan = np.nan\n",
    "toy_data = np.array([[1, 2, nan], [3, 4, 3], [nan, 6, 5], [8, 8, 7]])\n",
    "toy_data"
   ]
  },
  {
   "cell_type": "markdown",
   "id": "65fdde03",
   "metadata": {},
   "source": [
    "We'll use some functions from the *sklearn* library to perform the KNN imputation. It is much easier to directly use the algorithm from *sklearn*, instead of coding it from scratch."
   ]
  },
  {
   "cell_type": "code",
   "execution_count": 67,
   "id": "00acdd70",
   "metadata": {},
   "outputs": [],
   "source": [
    "#Library to compute pair-wise Euclidean distance between all observations in the data\n",
    "from sklearn import metrics\n",
    "\n",
    "#Library to impute missing values with the KNN algorithm\n",
    "from sklearn import impute"
   ]
  },
  {
   "cell_type": "markdown",
   "id": "a8399302",
   "metadata": {},
   "source": [
    "We'll use the *sklearn* function [nan_euclidean_distances()](https://scikit-learn.org/stable/modules/generated/sklearn.metrics.pairwise.nan_euclidean_distances.html) to compute the Euclidean distance between all pairs of observations in the data."
   ]
  },
  {
   "cell_type": "code",
   "execution_count": 69,
   "id": "e19fa62a",
   "metadata": {},
   "outputs": [
    {
     "data": {
      "text/plain": [
       "array([[ 0.        ,  3.46410162,  6.92820323, 11.29158979],\n",
       "       [ 3.46410162,  0.        ,  3.46410162,  7.54983444],\n",
       "       [ 6.92820323,  3.46410162,  0.        ,  3.46410162],\n",
       "       [11.29158979,  7.54983444,  3.46410162,  0.        ]])"
      ]
     },
     "execution_count": 69,
     "metadata": {},
     "output_type": "execute_result"
    }
   ],
   "source": [
    "#This is the distance matrix containing the distance of the ith observation from the jth observation at the (i,j) position in the matrix\n",
    "metrics.pairwise.nan_euclidean_distances(toy_data,toy_data)"
   ]
  },
  {
   "cell_type": "markdown",
   "id": "9e65e047",
   "metadata": {},
   "source": [
    "Note that the size of the above matrix is 4x4. This is because the $(i,j)^{th}$ element of the matrix is the distance of the $i^{th}$ observation from the $j^{th}$ observation. The matrix is symmetric because the distance of $i^{th}$ observation to the $j^{th}$ observation is the same as the distance of the $j^{th}$ observation to the $i^{th}$ observation."
   ]
  },
  {
   "cell_type": "markdown",
   "id": "7f166a78",
   "metadata": {},
   "source": [
    "We'll use the *sklearn* function [KNNImputer()](https://scikit-learn.org/stable/modules/generated/sklearn.impute.KNNImputer.html) to impute the missing value of a column in `toy_data` as the mean of the values of the $K$ nearest neighbors to the observation that have non-missing values for that column."
   ]
  },
  {
   "cell_type": "markdown",
   "id": "d3b90afc",
   "metadata": {},
   "source": [
    "Let us impute the missing values in `toy_data` using the values of $K=2$ nearest neighbors from the corresponding observation."
   ]
  },
  {
   "cell_type": "code",
   "execution_count": 71,
   "id": "008a7015",
   "metadata": {},
   "outputs": [
    {
     "data": {
      "text/plain": [
       "array([[1. , 2. , 4. ],\n",
       "       [3. , 4. , 3. ],\n",
       "       [5.5, 6. , 5. ],\n",
       "       [8. , 8. , 7. ]])"
      ]
     },
     "execution_count": 71,
     "metadata": {},
     "output_type": "execute_result"
    }
   ],
   "source": [
    "#imputing missing values with 2 nearest neighbors, where the neighbors have equal weights\n",
    "\n",
    "#Define an object of type KNNImputer\n",
    "imputer = impute.KNNImputer(n_neighbors=2)\n",
    "\n",
    "#Use the object method 'fit_transform' to impute missing values\n",
    "imputer.fit_transform(toy_data)"
   ]
  },
  {
   "cell_type": "markdown",
   "id": "195f2f21",
   "metadata": {},
   "source": [
    "The third observation was the closest to the $2nd$ and $4th$ observations based on the Euclidean distance matrix. Thus, the missing value in the $3rd$ row of the `toy_data` has been imputed as the mean of the values in the $2nd$ and $4th$ observations for the corresponding column. Similarly, the $1st$ observation is the closest to the $2nd$ and $3rd$ observations. Thus the missing value in the $1st$ row of `toy_data` has been imputed as the mean of the values in the $1st$ and $2nd$ observations for the corresponding column."
   ]
  },
  {
   "cell_type": "markdown",
   "id": "ce431a3b",
   "metadata": {},
   "source": [
    "Let us use KNN to impute the missing values of `gdpPerCapita` in `gdp_missing_values_data`. We'll use only the numeric columns of the data in imputing the missing values. Also, we'll ignore `contraception` as it has a lot of missing values, and thus may not be useful."
   ]
  },
  {
   "cell_type": "code",
   "execution_count": 133,
   "id": "3f48d8c2",
   "metadata": {},
   "outputs": [
    {
     "data": {
      "text/plain": [
       "[0, 2, 3, 4, 5, 6, 7, 8]"
      ]
     },
     "execution_count": 133,
     "metadata": {},
     "output_type": "execute_result"
    }
   ],
   "source": [
    "#Considering numeric columns in the data to use KNN\n",
    "num_cols = list(range(0,1))+list(range(2,9))\n",
    "num_cols"
   ]
  },
  {
   "cell_type": "markdown",
   "id": "18f12406",
   "metadata": {},
   "source": [
    "Before computing the pair-wise Euclidean distance of observations, we must standardize the data so that all columns are at the same scale. This will avoid columns with a higher magnitude of values having a higher weight in determining the Euclidean distance. Unless there is a reason to give a higher weight to a column, we assume all columns to have the same weight in the Euclidean distance computation."
   ]
  },
  {
   "cell_type": "markdown",
   "id": "95d81b60",
   "metadata": {},
   "source": [
    "We can use the code below to scale the data. However, after imputing the missing values, the data is to be scaled back to the original scale, so that each variable is in the same units as in the original dataset. However, if the code below is used, we'll lose the orginal scale of each of the columns."
   ]
  },
  {
   "cell_type": "code",
   "execution_count": 77,
   "id": "991638d1",
   "metadata": {},
   "outputs": [],
   "source": [
    "#Scaling data to compute equally weighted distances from the 'k' nearest neighbors\n",
    "scaled_data = gdp_missing_values_data.iloc[:,num_cols].apply(lambda x:(x-x.min())/(x.max()-x.min()))"
   ]
  },
  {
   "cell_type": "markdown",
   "id": "45f6e935",
   "metadata": {},
   "source": [
    "To alleviate the problem of losing the orignial scale of the data, we'll use the [MinMaxScaler](https://scikit-learn.org/stable/modules/generated/sklearn.preprocessing.MinMaxScaler.html) object of the *sklearn* library. The object will store the original scale of the data, which will help transform the data back to the original scale once the missing values have been imputed in the standardized data."
   ]
  },
  {
   "cell_type": "code",
   "execution_count": 82,
   "id": "62ab447a",
   "metadata": {},
   "outputs": [],
   "source": [
    "# Scaling data - using sklearn\n",
    "\n",
    "#Create an object of type MinMaxScaler\n",
    "scaler = sk.preprocessing.MinMaxScaler()\n",
    "\n",
    "#Use the object method 'fit_transform' to scale the values to a standard uniform distribution\n",
    "scaled_data = pd.DataFrame(scaler.fit_transform(gdp_missing_values_data.iloc[:,num_cols]))"
   ]
  },
  {
   "cell_type": "code",
   "execution_count": 99,
   "id": "75557f8c",
   "metadata": {},
   "outputs": [],
   "source": [
    "#Imputing missing values with KNNImputer\n",
    "\n",
    "#Define an object of type KNNImputer\n",
    "imputer = impute.KNNImputer(n_neighbors=3, weights=\"uniform\")\n",
    "\n",
    "#Use the object method 'fit_transform' to impute missing values\n",
    "imputed_arr = imputer.fit_transform(scaled_data)"
   ]
  },
  {
   "cell_type": "code",
   "execution_count": 100,
   "id": "1d54122b",
   "metadata": {},
   "outputs": [],
   "source": [
    "#Scaling back the scaled array to obtain the data at the original scale\n",
    "\n",
    "#Use the object method 'inverse_transform' to scale back the values to the original scale of the data\n",
    "unscaled_data = scaler.inverse_transform(imputed_arr)"
   ]
  },
  {
   "cell_type": "code",
   "execution_count": 101,
   "id": "7d39ceb0",
   "metadata": {},
   "outputs": [],
   "source": [
    "#Note the method imputes the missing value of all the columns\n",
    "#However, we are interested in imputing the missing values of only the 'gdpPerCapita' column\n",
    "gdp_imputed_data = gdp_missing_values_data.copy()\n",
    "gdp_imputed_data.loc[:,'gdpPerCapita'] = unscaled_data[:,3]"
   ]
  },
  {
   "cell_type": "code",
   "execution_count": 102,
   "id": "da69794b",
   "metadata": {},
   "outputs": [
    {
     "name": "stdout",
     "output_type": "stream",
     "text": [
      "RMSE= 16804.195967740387\n"
     ]
    },
    {
     "data": {
      "image/png": "[encoded data removed]",
      "text/plain": [
       "<Figure size 576x432 with 1 Axes>"
      ]
     },
     "metadata": {
      "needs_background": "light"
     },
     "output_type": "display_data"
    }
   ],
   "source": [
    "#Visualizing the accuracy of missing value imputation with KNN\n",
    "plot_actual_vs_predicted()"
   ]
  },
  {
   "cell_type": "markdown",
   "id": "ab3ea2e2",
   "metadata": {},
   "source": [
    "Note that the RMSE is the lowest in this method. It is because this method imputes missing values as the average of the values of \"similar\" observations, which is smarter and more robust than the previous methods."
   ]
  },
  {
   "cell_type": "markdown",
   "id": "e27dc2e5",
   "metadata": {},
   "source": [
    "We chose $K=3$ in the missing value imputation for GDP per capita. However, the value of $K$ is typically chosen using a method known as cross validation. We'll learn about cross-validation in the next course of the sequence."
   ]
  },
  {
   "cell_type": "markdown",
   "id": "729b98d3",
   "metadata": {},
   "source": [
    "## Data binning\n",
    "Data binning is a method to group values of a continuous / categorical variable into bins (or categories). Binning may help with \n",
    "\n",
    "(i) Better intepretation of data \\\n",
    "(ii) Making better recommendations \\\n",
    "(iii) Smooth data, reduce noise\n",
    "\n",
    "Examples:\n",
    "\n",
    "**Binning to better interpret data**\n",
    "\n",
    "1. The number of flu cases everyday may be binned to seasons such as fall, spring, winter and summer, to understand the effect of season on flu.\n",
    "\n",
    "**Binning to make recommendations:** \n",
    "\n",
    "2. A doctor may like to group patient age into bins. Grouping patient ages into categories such as Age <=12, 12<Age<=18, 18<Age<=65, Age>65 may help recommend the kind/doses of covid vaccine a patient needs.\n",
    "\n",
    "3. A credit card company may want to bin customers based on their spend, as \"High spenders\", \"Medium spenders\" and \"Low spenders\". Binning will help them design customized marketing campaigns for each bin, thereby increasing customer response (or revenue). On the other hand, they use the same campaign for customers withing the same bin, thus minimizng marketing costs.\n",
    "\n",
    "**Binning to smooth data, and reduce noise** \n",
    "\n",
    "4. A sales company may want to bin their total sales to a weekly / monthly / yearly level to reduce the noise in day-to-day sales. \n"
   ]
  },
  {
   "cell_type": "markdown",
   "id": "9dff1902",
   "metadata": {},
   "source": [
    "**Example:** The dataset *College.csv* contains information about US universities. The description of variables of the dataset can be found on page 54 of this [book](https://hastie.su.domains/ISLR2/ISLRv2_website.pdf). Let's see if we can apply binning to better interpret the association of instructional expenditure per student (`Expend`) with graduation rate (`Grad.Rate`) for US universities, and make recommendations."
   ]
  },
  {
   "cell_type": "code",
   "execution_count": 122,
   "id": "39e33278",
   "metadata": {},
   "outputs": [
    {
     "data": {
      "text/html": [
       "<div>\n",
       "<style scoped>\n",
       "    .dataframe tbody tr th:only-of-type {\n",
       "        vertical-align: middle;\n",
       "    }\n",
       "\n",
       "    .dataframe tbody tr th {\n",
       "        vertical-align: top;\n",
       "    }\n",
       "\n",
       "    .dataframe thead th {\n",
       "        text-align: right;\n",
       "    }\n",
       "</style>\n",
       "<table border=\"1\" class=\"dataframe\">\n",
       "  <thead>\n",
       "    <tr style=\"text-align: right;\">\n",
       "      <th></th>\n",
       "      <th>Unnamed: 0</th>\n",
       "      <th>Private</th>\n",
       "      <th>Apps</th>\n",
       "      <th>Accept</th>\n",
       "      <th>Enroll</th>\n",
       "      <th>Top10perc</th>\n",
       "      <th>Top25perc</th>\n",
       "      <th>F.Undergrad</th>\n",
       "      <th>P.Undergrad</th>\n",
       "      <th>Outstate</th>\n",
       "      <th>Room.Board</th>\n",
       "      <th>Books</th>\n",
       "      <th>Personal</th>\n",
       "      <th>PhD</th>\n",
       "      <th>Terminal</th>\n",
       "      <th>S.F.Ratio</th>\n",
       "      <th>perc.alumni</th>\n",
       "      <th>Expend</th>\n",
       "      <th>Grad.Rate</th>\n",
       "    </tr>\n",
       "  </thead>\n",
       "  <tbody>\n",
       "    <tr>\n",
       "      <th>0</th>\n",
       "      <td>Abilene Christian University</td>\n",
       "      <td>Yes</td>\n",
       "      <td>1660</td>\n",
       "      <td>1232</td>\n",
       "      <td>721</td>\n",
       "      <td>23</td>\n",
       "      <td>52</td>\n",
       "      <td>2885</td>\n",
       "      <td>537</td>\n",
       "      <td>7440</td>\n",
       "      <td>3300</td>\n",
       "      <td>450</td>\n",
       "      <td>2200</td>\n",
       "      <td>70</td>\n",
       "      <td>78</td>\n",
       "      <td>18.1</td>\n",
       "      <td>12</td>\n",
       "      <td>7041</td>\n",
       "      <td>60</td>\n",
       "    </tr>\n",
       "    <tr>\n",
       "      <th>1</th>\n",
       "      <td>Adelphi University</td>\n",
       "      <td>Yes</td>\n",
       "      <td>2186</td>\n",
       "      <td>1924</td>\n",
       "      <td>512</td>\n",
       "      <td>16</td>\n",
       "      <td>29</td>\n",
       "      <td>2683</td>\n",
       "      <td>1227</td>\n",
       "      <td>12280</td>\n",
       "      <td>6450</td>\n",
       "      <td>750</td>\n",
       "      <td>1500</td>\n",
       "      <td>29</td>\n",
       "      <td>30</td>\n",
       "      <td>12.2</td>\n",
       "      <td>16</td>\n",
       "      <td>10527</td>\n",
       "      <td>56</td>\n",
       "    </tr>\n",
       "    <tr>\n",
       "      <th>2</th>\n",
       "      <td>Adrian College</td>\n",
       "      <td>Yes</td>\n",
       "      <td>1428</td>\n",
       "      <td>1097</td>\n",
       "      <td>336</td>\n",
       "      <td>22</td>\n",
       "      <td>50</td>\n",
       "      <td>1036</td>\n",
       "      <td>99</td>\n",
       "      <td>11250</td>\n",
       "      <td>3750</td>\n",
       "      <td>400</td>\n",
       "      <td>1165</td>\n",
       "      <td>53</td>\n",
       "      <td>66</td>\n",
       "      <td>12.9</td>\n",
       "      <td>30</td>\n",
       "      <td>8735</td>\n",
       "      <td>54</td>\n",
       "    </tr>\n",
       "    <tr>\n",
       "      <th>3</th>\n",
       "      <td>Agnes Scott College</td>\n",
       "      <td>Yes</td>\n",
       "      <td>417</td>\n",
       "      <td>349</td>\n",
       "      <td>137</td>\n",
       "      <td>60</td>\n",
       "      <td>89</td>\n",
       "      <td>510</td>\n",
       "      <td>63</td>\n",
       "      <td>12960</td>\n",
       "      <td>5450</td>\n",
       "      <td>450</td>\n",
       "      <td>875</td>\n",
       "      <td>92</td>\n",
       "      <td>97</td>\n",
       "      <td>7.7</td>\n",
       "      <td>37</td>\n",
       "      <td>19016</td>\n",
       "      <td>59</td>\n",
       "    </tr>\n",
       "    <tr>\n",
       "      <th>4</th>\n",
       "      <td>Alaska Pacific University</td>\n",
       "      <td>Yes</td>\n",
       "      <td>193</td>\n",
       "      <td>146</td>\n",
       "      <td>55</td>\n",
       "      <td>16</td>\n",
       "      <td>44</td>\n",
       "      <td>249</td>\n",
       "      <td>869</td>\n",
       "      <td>7560</td>\n",
       "      <td>4120</td>\n",
       "      <td>800</td>\n",
       "      <td>1500</td>\n",
       "      <td>76</td>\n",
       "      <td>72</td>\n",
       "      <td>11.9</td>\n",
       "      <td>2</td>\n",
       "      <td>10922</td>\n",
       "      <td>15</td>\n",
       "    </tr>\n",
       "  </tbody>\n",
       "</table>\n",
       "</div>"
      ],
      "text/plain": [
       "                     Unnamed: 0 Private  Apps  Accept  Enroll  Top10perc  \\\n",
       "0  Abilene Christian University     Yes  1660    1232     721         23   \n",
       "1            Adelphi University     Yes  2186    1924     512         16   \n",
       "2                Adrian College     Yes  1428    1097     336         22   \n",
       "3           Agnes Scott College     Yes   417     349     137         60   \n",
       "4     Alaska Pacific University     Yes   193     146      55         16   \n",
       "\n",
       "   Top25perc  F.Undergrad  P.Undergrad  Outstate  Room.Board  Books  Personal  \\\n",
       "0         52         2885          537      7440        3300    450      2200   \n",
       "1         29         2683         1227     12280        6450    750      1500   \n",
       "2         50         1036           99     11250        3750    400      1165   \n",
       "3         89          510           63     12960        5450    450       875   \n",
       "4         44          249          869      7560        4120    800      1500   \n",
       "\n",
       "   PhD  Terminal  S.F.Ratio  perc.alumni  Expend  Grad.Rate  \n",
       "0   70        78       18.1           12    7041         60  \n",
       "1   29        30       12.2           16   10527         56  \n",
       "2   53        66       12.9           30    8735         54  \n",
       "3   92        97        7.7           37   19016         59  \n",
       "4   76        72       11.9            2   10922         15  "
      ]
     },
     "execution_count": 122,
     "metadata": {},
     "output_type": "execute_result"
    }
   ],
   "source": [
    "college = pd.read_csv('./Datasets/College.csv')\n",
    "college.head()"
   ]
  },
  {
   "cell_type": "markdown",
   "id": "10d7134f",
   "metadata": {},
   "source": [
    "To visualize the association between two numeric variables, we typically make a scatterplot. Let us make a scatterplot of graduation rate with expenditure per student, with a trendline."
   ]
  },
  {
   "cell_type": "code",
   "execution_count": 189,
   "id": "460318fe",
   "metadata": {},
   "outputs": [
    {
     "data": {
      "text/plain": [
       "Text(0, 0.5, 'Graduation rate')"
      ]
     },
     "execution_count": 189,
     "metadata": {},
     "output_type": "execute_result"
    },
    {
     "data": {
      "image/png": "[encoded data removed]",
      "text/plain": [
       "<Figure size 648x432 with 1 Axes>"
      ]
     },
     "metadata": {},
     "output_type": "display_data"
    }
   ],
   "source": [
    "#Let's make a scatterplot of 'Grad.Rate' vs 'Expend' with a trendline, to visualize any trend(s).\n",
    "sns.set(font_scale=1.5)\n",
    "ax=sns.regplot(data = college, x = \"Expend\", y = \"Grad.Rate\",scatter_kws={\"color\": \"orange\"}, line_kws={\"color\": \"blue\"})\n",
    "ax.xaxis.set_major_formatter('${x:,.0f}')\n",
    "ax.set_xlabel('Expenditure per student')\n",
    "ax.set_ylabel('Graduation rate')"
   ]
  },
  {
   "cell_type": "markdown",
   "id": "e1d23df6",
   "metadata": {},
   "source": [
    "The trendline indicates a positive correlation between `Expend` and `Grad.Rate`. However, there seems to be a lot of noise and presence of outliers in the data, which makes it hard to interpret the overall trend."
   ]
  },
  {
   "cell_type": "markdown",
   "id": "f5e019ca",
   "metadata": {},
   "source": [
    "We'll bin `Expend` to see if we can better analyze its association with `Grad.Rate`. However, let us first visualize the distribution of `Expend`."
   ]
  },
  {
   "cell_type": "code",
   "execution_count": 190,
   "id": "d213f73e",
   "metadata": {},
   "outputs": [
    {
     "data": {
      "image/png": "[encoded data removed]",
      "text/plain": [
       "<Figure size 648x432 with 1 Axes>"
      ]
     },
     "metadata": {},
     "output_type": "display_data"
    }
   ],
   "source": [
    "#Visualizing the distribution of expend\n",
    "ax=sns.histplot(data = college, x= 'Expend')\n",
    "ax.xaxis.set_major_formatter('${x:,.0f}')"
   ]
  },
  {
   "cell_type": "markdown",
   "id": "39664676",
   "metadata": {},
   "source": [
    "The distribution of `Extend` is right skewed with potentially some extremely high outlying values.\n",
    "\n",
    "### Binning with equal width bins\n",
    "\n",
    "We'll use the Pandas function [cut()](https://pandas.pydata.org/docs/reference/api/pandas.cut.html) to bin `Expend`. This function creates bins such that all bins have the same width."
   ]
  },
  {
   "cell_type": "code",
   "execution_count": 123,
   "id": "12622969",
   "metadata": {},
   "outputs": [
    {
     "data": {
      "text/plain": [
       "(0      (3132.953, 20868.333]\n",
       " 1      (3132.953, 20868.333]\n",
       " 2      (3132.953, 20868.333]\n",
       " 3      (3132.953, 20868.333]\n",
       " 4      (3132.953, 20868.333]\n",
       "                ...          \n",
       " 772    (3132.953, 20868.333]\n",
       " 773    (3132.953, 20868.333]\n",
       " 774    (3132.953, 20868.333]\n",
       " 775     (38550.667, 56233.0]\n",
       " 776    (3132.953, 20868.333]\n",
       " Name: Expend, Length: 777, dtype: category\n",
       " Categories (3, interval[float64]): [(3132.953, 20868.333] < (20868.333, 38550.667] < (38550.667, 56233.0]],\n",
       " array([ 3132.953     , 20868.33333333, 38550.66666667, 56233.        ]))"
      ]
     },
     "execution_count": 123,
     "metadata": {},
     "output_type": "execute_result"
    }
   ],
   "source": [
    "#Using the cut() function in Pandas to bin \"Expend\"\n",
    "Binned_expend = pd.cut(college['Expend'],3,retbins = True)\n",
    "Binned_expend"
   ]
  },
  {
   "cell_type": "markdown",
   "id": "fb0fa51b",
   "metadata": {},
   "source": [
    "The [cut()](https://pandas.pydata.org/docs/reference/api/pandas.cut.html) function returns a tuple of length 2. The first element of the tuple are the bins, while the second element is an array containing the cut-off values for the bins."
   ]
  },
  {
   "cell_type": "code",
   "execution_count": 124,
   "id": "2ae548ce",
   "metadata": {},
   "outputs": [
    {
     "data": {
      "text/plain": [
       "tuple"
      ]
     },
     "execution_count": 124,
     "metadata": {},
     "output_type": "execute_result"
    }
   ],
   "source": [
    "type(Binned_expend)"
   ]
  },
  {
   "cell_type": "code",
   "execution_count": 125,
   "id": "65b6c4ec",
   "metadata": {},
   "outputs": [
    {
     "data": {
      "text/plain": [
       "2"
      ]
     },
     "execution_count": 125,
     "metadata": {},
     "output_type": "execute_result"
    }
   ],
   "source": [
    "len(Binned_expend)"
   ]
  },
  {
   "cell_type": "markdown",
   "id": "ac00b104",
   "metadata": {},
   "source": [
    "Once the bins are obtained, we'll add a column in the dataset that indicates the bin for `Expend`."
   ]
  },
  {
   "cell_type": "code",
   "execution_count": 126,
   "id": "f6df228a",
   "metadata": {},
   "outputs": [
    {
     "data": {
      "text/html": [
       "<div>\n",
       "<style scoped>\n",
       "    .dataframe tbody tr th:only-of-type {\n",
       "        vertical-align: middle;\n",
       "    }\n",
       "\n",
       "    .dataframe tbody tr th {\n",
       "        vertical-align: top;\n",
       "    }\n",
       "\n",
       "    .dataframe thead th {\n",
       "        text-align: right;\n",
       "    }\n",
       "</style>\n",
       "<table border=\"1\" class=\"dataframe\">\n",
       "  <thead>\n",
       "    <tr style=\"text-align: right;\">\n",
       "      <th></th>\n",
       "      <th>Unnamed: 0</th>\n",
       "      <th>Private</th>\n",
       "      <th>Apps</th>\n",
       "      <th>Accept</th>\n",
       "      <th>Enroll</th>\n",
       "      <th>Top10perc</th>\n",
       "      <th>Top25perc</th>\n",
       "      <th>F.Undergrad</th>\n",
       "      <th>P.Undergrad</th>\n",
       "      <th>Outstate</th>\n",
       "      <th>Room.Board</th>\n",
       "      <th>Books</th>\n",
       "      <th>Personal</th>\n",
       "      <th>PhD</th>\n",
       "      <th>Terminal</th>\n",
       "      <th>S.F.Ratio</th>\n",
       "      <th>perc.alumni</th>\n",
       "      <th>Expend</th>\n",
       "      <th>Grad.Rate</th>\n",
       "      <th>Expend_bin</th>\n",
       "    </tr>\n",
       "  </thead>\n",
       "  <tbody>\n",
       "    <tr>\n",
       "      <th>0</th>\n",
       "      <td>Abilene Christian University</td>\n",
       "      <td>Yes</td>\n",
       "      <td>1660</td>\n",
       "      <td>1232</td>\n",
       "      <td>721</td>\n",
       "      <td>23</td>\n",
       "      <td>52</td>\n",
       "      <td>2885</td>\n",
       "      <td>537</td>\n",
       "      <td>7440</td>\n",
       "      <td>3300</td>\n",
       "      <td>450</td>\n",
       "      <td>2200</td>\n",
       "      <td>70</td>\n",
       "      <td>78</td>\n",
       "      <td>18.1</td>\n",
       "      <td>12</td>\n",
       "      <td>7041</td>\n",
       "      <td>60</td>\n",
       "      <td>(3132.953, 20868.333]</td>\n",
       "    </tr>\n",
       "    <tr>\n",
       "      <th>1</th>\n",
       "      <td>Adelphi University</td>\n",
       "      <td>Yes</td>\n",
       "      <td>2186</td>\n",
       "      <td>1924</td>\n",
       "      <td>512</td>\n",
       "      <td>16</td>\n",
       "      <td>29</td>\n",
       "      <td>2683</td>\n",
       "      <td>1227</td>\n",
       "      <td>12280</td>\n",
       "      <td>6450</td>\n",
       "      <td>750</td>\n",
       "      <td>1500</td>\n",
       "      <td>29</td>\n",
       "      <td>30</td>\n",
       "      <td>12.2</td>\n",
       "      <td>16</td>\n",
       "      <td>10527</td>\n",
       "      <td>56</td>\n",
       "      <td>(3132.953, 20868.333]</td>\n",
       "    </tr>\n",
       "    <tr>\n",
       "      <th>2</th>\n",
       "      <td>Adrian College</td>\n",
       "      <td>Yes</td>\n",
       "      <td>1428</td>\n",
       "      <td>1097</td>\n",
       "      <td>336</td>\n",
       "      <td>22</td>\n",
       "      <td>50</td>\n",
       "      <td>1036</td>\n",
       "      <td>99</td>\n",
       "      <td>11250</td>\n",
       "      <td>3750</td>\n",
       "      <td>400</td>\n",
       "      <td>1165</td>\n",
       "      <td>53</td>\n",
       "      <td>66</td>\n",
       "      <td>12.9</td>\n",
       "      <td>30</td>\n",
       "      <td>8735</td>\n",
       "      <td>54</td>\n",
       "      <td>(3132.953, 20868.333]</td>\n",
       "    </tr>\n",
       "    <tr>\n",
       "      <th>3</th>\n",
       "      <td>Agnes Scott College</td>\n",
       "      <td>Yes</td>\n",
       "      <td>417</td>\n",
       "      <td>349</td>\n",
       "      <td>137</td>\n",
       "      <td>60</td>\n",
       "      <td>89</td>\n",
       "      <td>510</td>\n",
       "      <td>63</td>\n",
       "      <td>12960</td>\n",
       "      <td>5450</td>\n",
       "      <td>450</td>\n",
       "      <td>875</td>\n",
       "      <td>92</td>\n",
       "      <td>97</td>\n",
       "      <td>7.7</td>\n",
       "      <td>37</td>\n",
       "      <td>19016</td>\n",
       "      <td>59</td>\n",
       "      <td>(3132.953, 20868.333]</td>\n",
       "    </tr>\n",
       "    <tr>\n",
       "      <th>4</th>\n",
       "      <td>Alaska Pacific University</td>\n",
       "      <td>Yes</td>\n",
       "      <td>193</td>\n",
       "      <td>146</td>\n",
       "      <td>55</td>\n",
       "      <td>16</td>\n",
       "      <td>44</td>\n",
       "      <td>249</td>\n",
       "      <td>869</td>\n",
       "      <td>7560</td>\n",
       "      <td>4120</td>\n",
       "      <td>800</td>\n",
       "      <td>1500</td>\n",
       "      <td>76</td>\n",
       "      <td>72</td>\n",
       "      <td>11.9</td>\n",
       "      <td>2</td>\n",
       "      <td>10922</td>\n",
       "      <td>15</td>\n",
       "      <td>(3132.953, 20868.333]</td>\n",
       "    </tr>\n",
       "  </tbody>\n",
       "</table>\n",
       "</div>"
      ],
      "text/plain": [
       "                     Unnamed: 0 Private  Apps  Accept  Enroll  Top10perc  \\\n",
       "0  Abilene Christian University     Yes  1660    1232     721         23   \n",
       "1            Adelphi University     Yes  2186    1924     512         16   \n",
       "2                Adrian College     Yes  1428    1097     336         22   \n",
       "3           Agnes Scott College     Yes   417     349     137         60   \n",
       "4     Alaska Pacific University     Yes   193     146      55         16   \n",
       "\n",
       "   Top25perc  F.Undergrad  P.Undergrad  Outstate  Room.Board  Books  Personal  \\\n",
       "0         52         2885          537      7440        3300    450      2200   \n",
       "1         29         2683         1227     12280        6450    750      1500   \n",
       "2         50         1036           99     11250        3750    400      1165   \n",
       "3         89          510           63     12960        5450    450       875   \n",
       "4         44          249          869      7560        4120    800      1500   \n",
       "\n",
       "   PhD  Terminal  S.F.Ratio  perc.alumni  Expend  Grad.Rate  \\\n",
       "0   70        78       18.1           12    7041         60   \n",
       "1   29        30       12.2           16   10527         56   \n",
       "2   53        66       12.9           30    8735         54   \n",
       "3   92        97        7.7           37   19016         59   \n",
       "4   76        72       11.9            2   10922         15   \n",
       "\n",
       "              Expend_bin  \n",
       "0  (3132.953, 20868.333]  \n",
       "1  (3132.953, 20868.333]  \n",
       "2  (3132.953, 20868.333]  \n",
       "3  (3132.953, 20868.333]  \n",
       "4  (3132.953, 20868.333]  "
      ]
     },
     "execution_count": 126,
     "metadata": {},
     "output_type": "execute_result"
    }
   ],
   "source": [
    "#Creating a categorical variable to store the level of expenditure on a student\n",
    "college['Expend_bin'] = Binned_expend[0]\n",
    "college.head()"
   ]
  },
  {
   "cell_type": "markdown",
   "id": "032c91fc",
   "metadata": {},
   "source": [
    "See the variable `Expend_bin` in the above dataset."
   ]
  },
  {
   "cell_type": "markdown",
   "id": "3be74901",
   "metadata": {},
   "source": [
    "Let us visualize the `Expend` bins over the distribution of the `Expend` variable."
   ]
  },
  {
   "cell_type": "code",
   "execution_count": 127,
   "id": "5277f959",
   "metadata": {},
   "outputs": [
    {
     "data": {
      "image/png": "[encoded data removed]",
      "text/plain": [
       "<Figure size 648x432 with 1 Axes>"
      ]
     },
     "metadata": {},
     "output_type": "display_data"
    }
   ],
   "source": [
    "#Visualizing the bins for instructional expediture on a student\n",
    "sns.set(font_scale=1.25)\n",
    "plt.rcParams[\"figure.figsize\"] = (9,6)\n",
    "ax=sns.histplot(data = college, x= 'Expend')\n",
    "plt.vlines(Binned_expend[1], 0,100,color='red')\n",
    "plt.xlabel('Expenditure per student');\n",
    "plt.ylabel('Graduation rate');\n",
    "ax.xaxis.set_major_formatter('${x:,.0f}')"
   ]
  },
  {
   "cell_type": "markdown",
   "id": "9d073970",
   "metadata": {},
   "source": [
    "By default, the bins created have equal width. They are created by dividing the range between the maximum and minimum value of `Expend` into the desired number of equal-width intervals. We can label the bins as well as follows."
   ]
  },
  {
   "cell_type": "code",
   "execution_count": 128,
   "id": "d3d52fdc",
   "metadata": {},
   "outputs": [
    {
     "data": {
      "text/plain": [
       "0       Low expend\n",
       "1       Low expend\n",
       "2       Low expend\n",
       "3       Low expend\n",
       "4       Low expend\n",
       "          ...     \n",
       "772     Low expend\n",
       "773     Low expend\n",
       "774     Low expend\n",
       "775    High expend\n",
       "776     Low expend\n",
       "Name: Expend_bin, Length: 777, dtype: category\n",
       "Categories (3, object): ['Low expend' < 'Med expend' < 'High expend']"
      ]
     },
     "execution_count": 128,
     "metadata": {},
     "output_type": "execute_result"
    }
   ],
   "source": [
    "college['Expend_bin'] = pd.cut(college['Expend'],3,labels = ['Low expend','Med expend','High expend'])\n",
    "college['Expend_bin']"
   ]
  },
  {
   "cell_type": "markdown",
   "id": "b269047c",
   "metadata": {},
   "source": [
    "Now that we have binned the variable `Expend`, let us see if we can better visualize the association of graduation rate with expenditure per student using `Expened_bin`."
   ]
  },
  {
   "cell_type": "code",
   "execution_count": 129,
   "id": "19f35cd9",
   "metadata": {},
   "outputs": [
    {
     "data": {
      "text/plain": [
       "<AxesSubplot:xlabel='Expend_bin', ylabel='Grad.Rate'>"
      ]
     },
     "execution_count": 129,
     "metadata": {},
     "output_type": "execute_result"
    },
    {
     "data": {
      "image/png": "[encoded data removed]",
      "text/plain": [
       "<Figure size 648x432 with 1 Axes>"
      ]
     },
     "metadata": {},
     "output_type": "display_data"
    }
   ],
   "source": [
    "#Visualizing average graduation rate vs categories of instructional expenditure per student\n",
    "sns.barplot(x = 'Expend_bin', y = 'Grad.Rate', data = college)"
   ]
  },
  {
   "cell_type": "markdown",
   "id": "067d1610",
   "metadata": {},
   "source": [
    "It seems that the graduation rate is the highest for universities with medium level of expenditure per student. This is different from the trend we saw earlier in the scatter plot. Let us investigate."
   ]
  },
  {
   "cell_type": "markdown",
   "id": "75052282",
   "metadata": {},
   "source": [
    "Let us find the number of universities in each bin."
   ]
  },
  {
   "cell_type": "code",
   "execution_count": 130,
   "id": "d310677f",
   "metadata": {},
   "outputs": [
    {
     "data": {
      "text/plain": [
       "Low expend     751\n",
       "Med expend      21\n",
       "High expend      5\n",
       "Name: Expend_bin, dtype: int64"
      ]
     },
     "execution_count": 130,
     "metadata": {},
     "output_type": "execute_result"
    }
   ],
   "source": [
    "pd.value_counts(college['Expend_bin'])"
   ]
  },
  {
   "cell_type": "markdown",
   "id": "1a02d6d3",
   "metadata": {},
   "source": [
    "The bin `High expend` consists of only 5 universities, or 0.6% of all the universities in the dataset. These universities may be outliers that are skewing the trend (as also evident in the histogram above). \n",
    "\n",
    "In such cases, we should bin observations such that all bins are of equal size, i.e., they have the same number of observations."
   ]
  },
  {
   "cell_type": "markdown",
   "id": "b5e8264b",
   "metadata": {},
   "source": [
    "### Binning with equal sized bins"
   ]
  },
  {
   "cell_type": "markdown",
   "id": "c9168a27",
   "metadata": {},
   "source": [
    "Let us bin the variable `Expend` such that each bin consists of the same number of observations."
   ]
  },
  {
   "cell_type": "markdown",
   "id": "ee43a599",
   "metadata": {},
   "source": [
    "We'll use the Pandas function [qcut()](https://pandas.pydata.org/pandas-docs/stable/reference/api/pandas.qcut.html) to make equal-sized bins (in contrast to equal-width bins in the previous section)."
   ]
  },
  {
   "cell_type": "code",
   "execution_count": 131,
   "id": "746ffd31",
   "metadata": {},
   "outputs": [],
   "source": [
    "#Using the Pandas function qcut() to create bins with the same number of observations\n",
    "Binned_expend = pd.qcut(college['Expend'],3,retbins = True)\n",
    "college['Expend_bin'] = Binned_expend[0]"
   ]
  },
  {
   "cell_type": "markdown",
   "id": "c9396dd3",
   "metadata": {},
   "source": [
    "Each bin has the same number of observations with `qcut()`:"
   ]
  },
  {
   "cell_type": "code",
   "execution_count": 132,
   "id": "6360ed6c",
   "metadata": {},
   "outputs": [
    {
     "data": {
      "text/plain": [
       "(3185.999, 7334.333]    259\n",
       "(7334.333, 9682.333]    259\n",
       "(9682.333, 56233.0]     259\n",
       "Name: Expend_bin, dtype: int64"
      ]
     },
     "execution_count": 132,
     "metadata": {},
     "output_type": "execute_result"
    }
   ],
   "source": [
    "pd.value_counts(college['Expend_bin'])"
   ]
  },
  {
   "cell_type": "markdown",
   "id": "6541d4ee",
   "metadata": {},
   "source": [
    "Let us visualize the `Expend` bins over the distribution of the `Expend` variable."
   ]
  },
  {
   "cell_type": "code",
   "execution_count": 133,
   "id": "ece240f6",
   "metadata": {},
   "outputs": [
    {
     "data": {
      "image/png": "[encoded data removed]",
      "text/plain": [
       "<Figure size 648x432 with 1 Axes>"
      ]
     },
     "metadata": {},
     "output_type": "display_data"
    }
   ],
   "source": [
    "#Visualizing the bins for instructional expediture on a student\n",
    "sns.set(font_scale=1.25)\n",
    "plt.rcParams[\"figure.figsize\"] = (9,6)\n",
    "ax=sns.histplot(data = college, x= 'Expend')\n",
    "plt.vlines(Binned_expend[1], 0,100,color='red')\n",
    "plt.xlabel('Expenditure per student');\n",
    "plt.ylabel('Graduation rate');\n",
    "ax.xaxis.set_major_formatter('${x:,.0f}')"
   ]
  },
  {
   "cell_type": "markdown",
   "id": "097ac784",
   "metadata": {},
   "source": [
    "Note that the bin-widths have been adjusted to have the same number of observations in each bin. The bins are narrower in domains of high density, and wider in domains of sparse density."
   ]
  },
  {
   "cell_type": "markdown",
   "id": "7e6f64d9",
   "metadata": {},
   "source": [
    "Let us again make the barplot visualizing the average graduate rate with level of instructional expenditure per student."
   ]
  },
  {
   "cell_type": "code",
   "execution_count": 134,
   "id": "4be0c171",
   "metadata": {},
   "outputs": [
    {
     "data": {
      "image/png": "[encoded data removed]",
      "text/plain": [
       "<Figure size 648x432 with 1 Axes>"
      ]
     },
     "metadata": {},
     "output_type": "display_data"
    }
   ],
   "source": [
    "college['Expend_bin'] = pd.qcut(college['Expend'],3,labels = ['Low expend','Med expend','High expend'])\n",
    "a=sns.barplot(x = 'Expend_bin', y = 'Grad.Rate', data = college)"
   ]
  },
  {
   "cell_type": "markdown",
   "id": "d49882a5",
   "metadata": {},
   "source": [
    "Now we see the same trend that we saw in the scatterplot, but without the noise. We have smoothed the data. Note that making equal-sized bins helps reduce the effect of outliers in the overall trend.\n",
    "\n",
    "Suppose this analysis was done to provide recommendations to universities for increasing their graduation rate. With binning, we can can provide one recommendation to *'Low expend'* universities, and another one to *'Med expend'* universities. For example, the recommendations can be: \n",
    "\n",
    "1. *'Low expend'* universities can expect an increase of 9 percentage points in `Grad.Rate`, if they migrate to the *'Med expend'* category.\n",
    "2. *'Med expend'* universities can expect an increase of 7 percentage points in `Grad.Rate`, if they migrate to the *'High expend'* category.\n",
    "\n",
    "The numbers in the above recommendations are based on the table below."
   ]
  },
  {
   "cell_type": "code",
   "execution_count": 135,
   "id": "f9d9831d",
   "metadata": {},
   "outputs": [
    {
     "data": {
      "text/plain": [
       "Expend_bin\n",
       "Low expend     57.343629\n",
       "Med expend     66.057915\n",
       "High expend    72.988417\n",
       "Name: Grad.Rate, dtype: float64"
      ]
     },
     "execution_count": 135,
     "metadata": {},
     "output_type": "execute_result"
    }
   ],
   "source": [
    "college['Grad.Rate'].groupby(college.Expend_bin).mean()"
   ]
  },
  {
   "cell_type": "markdown",
   "id": "731474da",
   "metadata": {},
   "source": [
    "We can also make recommendations based on the confidence intervals of mean Grad.Rate. Confidence intervals are computed below. We are finding confidence intervals based on a method known as bootstrapping. Refer https://en.wikipedia.org/wiki/Bootstrapping_(statistics) for a detailed description of Bootstrapping."
   ]
  },
  {
   "cell_type": "code",
   "execution_count": 136,
   "id": "191961d0",
   "metadata": {},
   "outputs": [
    {
     "name": "stdout",
     "output_type": "stream",
     "text": [
      "95% Confidence interval of Grad.Rate for Low expend univeristies = [55.34,59.34]\n",
      "95% Confidence interval of Grad.Rate for High expend univeristies = [71.01,74.92]\n",
      "95% Confidence interval of Grad.Rate for Med expend univeristies = [64.22,67.93]\n"
     ]
    }
   ],
   "source": [
    "#Bootstrapping to find 95% confidence intervals of Graduation Rate of US universities based on average expenditure per student\n",
    "for expend_bin in college.Expend_bin.unique():\n",
    "    data_sub = college.loc[college.Expend_bin==expend_bin,:]\n",
    "    samples = np.random.choice(data_sub['Grad.Rate'], size=(10000,data_sub.shape[0]))\n",
    "    print(\"95% Confidence interval of Grad.Rate for \"+expend_bin+\" univeristies = [\"+str(np.round(np.percentile(samples.mean(axis=1),2.5),2))+\",\"+str(np.round(np.percentile(samples.mean(axis=1),97.5),2))+\"]\")"
   ]
  },
  {
   "cell_type": "markdown",
   "id": "82c357a9",
   "metadata": {},
   "source": [
    "Apart from equal-width and equal-sized bins, custom bins can be created using the *bins* argument. Suppose, bins are to be created for `Expend` with cutoffs $\\$10,000, \\$20,000, \\$30,000... \\$60,000$. Then, we can use the *bins* argument as in the code below:"
   ]
  },
  {
   "cell_type": "markdown",
   "id": "71ab1308",
   "metadata": {},
   "source": [
    "### Binning with custom bins"
   ]
  },
  {
   "cell_type": "code",
   "execution_count": 18,
   "id": "8db5bf15",
   "metadata": {},
   "outputs": [],
   "source": [
    "Binned_expend = pd.cut(college.Expend,bins = list(range(0,70000,10000)),retbins=True)"
   ]
  },
  {
   "cell_type": "code",
   "execution_count": 19,
   "id": "d5bd2e5f",
   "metadata": {},
   "outputs": [
    {
     "data": {
      "image/png": "[encoded data removed]",
      "text/plain": [
       "<Figure size 648x432 with 1 Axes>"
      ]
     },
     "metadata": {},
     "output_type": "display_data"
    }
   ],
   "source": [
    "#Visualizing the bins for instructional expediture on a student\n",
    "ax=sns.histplot(data = college, x= 'Expend')\n",
    "plt.vlines(Binned_expend[1], 0,100,color='red')\n",
    "plt.xlabel('Expenditure per student');\n",
    "plt.ylabel('Graduation rate');\n",
    "ax.xaxis.set_major_formatter('${x:,.0f}')"
   ]
  },
  {
   "cell_type": "markdown",
   "id": "2941287b",
   "metadata": {},
   "source": [
    "As custom bin-cutoffs can be specified with the `cut()` function, custom bin quantiles can be specified with the `qcut()` function."
   ]
  },
  {
   "cell_type": "markdown",
   "id": "990627e4",
   "metadata": {},
   "source": [
    "## Dummy / Indicator variables"
   ]
  },
  {
   "cell_type": "markdown",
   "id": "ccc86e6f",
   "metadata": {},
   "source": [
    "Dummy variables (or indicator variables) take only the values of 0 and 1 to indicate the presence or absence of a catagorical effect. They are particularly useful in regression modeling to help explain the dependent variable. \n",
    "\n",
    "If a column in a DataFrame has $k$ distinct values, we will get a DataFrame with $k$ columns containing 0s and 1s with the Pandas [`get_dummies()`](https://pandas.pydata.org/docs/reference/api/pandas.get_dummies.html) function."
   ]
  },
  {
   "cell_type": "markdown",
   "id": "0cefe654",
   "metadata": {},
   "source": [
    "Let us make dummy variables with the equal-sized bins we created for the average instruction expenditure per student."
   ]
  },
  {
   "cell_type": "code",
   "execution_count": 96,
   "id": "603c56cf",
   "metadata": {},
   "outputs": [],
   "source": [
    "#Using the Pandas function qcut() to create bins with the same number of observations\n",
    "Binned_expend = pd.qcut(college['Expend'],3,retbins = True,labels = ['Low_expend','Med_expend','High_expend'])\n",
    "college['Expend_bin'] = Binned_expend[0]"
   ]
  },
  {
   "cell_type": "code",
   "execution_count": 97,
   "id": "b258d11e",
   "metadata": {},
   "outputs": [],
   "source": [
    "#Making dummy variables based on the levels (categories) of the 'Expend_bin' variable\n",
    "dummy_Expend = pd.get_dummies(college['Expend_bin'])"
   ]
  },
  {
   "cell_type": "markdown",
   "id": "e3cc38ad",
   "metadata": {},
   "source": [
    "The dummy data `dummy_Expend` has a value of $1$ if the observation corresponds to the category referenced by the column name."
   ]
  },
  {
   "cell_type": "code",
   "execution_count": 98,
   "id": "f5679e2b",
   "metadata": {},
   "outputs": [
    {
     "data": {
      "text/html": [
       "<div>\n",
       "<style scoped>\n",
       "    .dataframe tbody tr th:only-of-type {\n",
       "        vertical-align: middle;\n",
       "    }\n",
       "\n",
       "    .dataframe tbody tr th {\n",
       "        vertical-align: top;\n",
       "    }\n",
       "\n",
       "    .dataframe thead th {\n",
       "        text-align: right;\n",
       "    }\n",
       "</style>\n",
       "<table border=\"1\" class=\"dataframe\">\n",
       "  <thead>\n",
       "    <tr style=\"text-align: right;\">\n",
       "      <th></th>\n",
       "      <th>Low_expend</th>\n",
       "      <th>Med_expend</th>\n",
       "      <th>High_expend</th>\n",
       "    </tr>\n",
       "  </thead>\n",
       "  <tbody>\n",
       "    <tr>\n",
       "      <th>0</th>\n",
       "      <td>1</td>\n",
       "      <td>0</td>\n",
       "      <td>0</td>\n",
       "    </tr>\n",
       "    <tr>\n",
       "      <th>1</th>\n",
       "      <td>0</td>\n",
       "      <td>0</td>\n",
       "      <td>1</td>\n",
       "    </tr>\n",
       "    <tr>\n",
       "      <th>2</th>\n",
       "      <td>0</td>\n",
       "      <td>1</td>\n",
       "      <td>0</td>\n",
       "    </tr>\n",
       "    <tr>\n",
       "      <th>3</th>\n",
       "      <td>0</td>\n",
       "      <td>0</td>\n",
       "      <td>1</td>\n",
       "    </tr>\n",
       "    <tr>\n",
       "      <th>4</th>\n",
       "      <td>0</td>\n",
       "      <td>0</td>\n",
       "      <td>1</td>\n",
       "    </tr>\n",
       "  </tbody>\n",
       "</table>\n",
       "</div>"
      ],
      "text/plain": [
       "   Low_expend  Med_expend  High_expend\n",
       "0           1           0            0\n",
       "1           0           0            1\n",
       "2           0           1            0\n",
       "3           0           0            1\n",
       "4           0           0            1"
      ]
     },
     "execution_count": 98,
     "metadata": {},
     "output_type": "execute_result"
    }
   ],
   "source": [
    "dummy_Expend.head()"
   ]
  },
  {
   "cell_type": "markdown",
   "id": "3359235c",
   "metadata": {},
   "source": [
    "We can find the correlation between the dummy variables and graduation rate to identify if any of the dummy variables will be useful to estimate graduation rate (`Grad.Rate`)."
   ]
  },
  {
   "cell_type": "code",
   "execution_count": 114,
   "id": "463bfc04",
   "metadata": {},
   "outputs": [
    {
     "data": {
      "text/plain": [
       "Low_expend    -0.334456\n",
       "Med_expend     0.024492\n",
       "High_expend    0.309964\n",
       "dtype: float64"
      ]
     },
     "execution_count": 114,
     "metadata": {},
     "output_type": "execute_result"
    }
   ],
   "source": [
    "#Finding if dummy variables will be useful to estimate 'Grad.Rate'\n",
    "dummy_Expend.corrwith(college['Grad.Rate'])"
   ]
  },
  {
   "cell_type": "markdown",
   "id": "07273029",
   "metadata": {},
   "source": [
    "The dummy variables `Low expend` and `High expend` may contribute in explaining `Grad.Rate` in a regression model."
   ]
  },
  {
   "cell_type": "markdown",
   "id": "cad5d98a",
   "metadata": {},
   "source": [
    "### Practice exercise 3"
   ]
  },
  {
   "cell_type": "markdown",
   "id": "f51374b5",
   "metadata": {},
   "source": [
    "Read *survey_data_clean.csv*. Split the columns of the dataset, such that all columns with categorical values transform into dummy variables with each category corresponding to a column of 0s and 1s. Leave the *Timestamp* column. \n",
    "\n",
    "As all categorical columns are transformed to dummy variables, all columns have numeric values. \n",
    "\n",
    "What is the total number of columns in the transformed data? What is the total number of columns of the original data?\n",
    "\n",
    "Find the:\n",
    "\n",
    "1. Top 5 variables having the highest positive correlation with `NU_GPA`.\n",
    "\n",
    "2. Top 5 variables having the highest negative correlation with `NU_GPA`."
   ]
  },
  {
   "cell_type": "markdown",
   "id": "6485a0af",
   "metadata": {},
   "source": [
    "**Solution:**"
   ]
  },
  {
   "cell_type": "code",
   "execution_count": 23,
   "id": "887e6be9",
   "metadata": {},
   "outputs": [
    {
     "name": "stdout",
     "output_type": "stream",
     "text": [
      "The total number of columns in the transformed data are 308\n",
      "The total number of columns in the original data are 192\n"
     ]
    }
   ],
   "source": [
    "survey_data = pd.read_csv('./Datasets/survey_data_clean.csv')\n",
    "survey_dummies=pd.get_dummies(survey_data.iloc[:,1:])\n",
    "print(\"The total number of columns in the transformed data are\", survey_dummies.shape[1])\n",
    "print(\"The total number of columns in the original data are\", survey_dummies.shape[0])"
   ]
  },
  {
   "cell_type": "markdown",
   "id": "58a2919c",
   "metadata": {},
   "source": [
    "Below are the top 5 variables having the highest positive correlation with `NU_GPA`:"
   ]
  },
  {
   "cell_type": "code",
   "execution_count": 30,
   "id": "b644a209",
   "metadata": {},
   "outputs": [
    {
     "data": {
      "text/plain": [
       "fav_letter_o                                                                              0.367140\n",
       "fav_sport_Dance!                                                                          0.367140\n",
       "major_Humanities / Communications;Physical Sciences / Natural Sciences / Engineering      0.271019\n",
       "fav_alcohol_I don't drink                                                                 0.213118\n",
       "learning_style_Reading/Writing (learn best through words often note-taking or reading)    0.207451\n",
       "dtype: float64"
      ]
     },
     "execution_count": 30,
     "metadata": {},
     "output_type": "execute_result"
    }
   ],
   "source": [
    "survey_dummies.corrwith(survey_dummies.NU_GPA).drop(index = 'NU_GPA').sort_values(ascending=False)[0:5]"
   ]
  },
  {
   "cell_type": "markdown",
   "id": "ffcc2bfc",
   "metadata": {},
   "source": [
    "Below are the top 5 variables having the highest negative correlation with `NU_GPA`:"
   ]
  },
  {
   "cell_type": "code",
   "execution_count": 31,
   "id": "2c4dde38",
   "metadata": {},
   "outputs": [
    {
     "data": {
      "text/plain": [
       "fav_number                                         -0.307656\n",
       "procrastinator                                     -0.269552\n",
       "fav_sport_Underwater Basketweaving                 -0.224237\n",
       "birth_month_February                               -0.222141\n",
       "streaming_platforms_Netflix;Amazon Prime;HBO Max   -0.221099\n",
       "dtype: float64"
      ]
     },
     "execution_count": 31,
     "metadata": {},
     "output_type": "execute_result"
    }
   ],
   "source": [
    "survey_dummies.corrwith(survey_dummies.NU_GPA).drop(index = 'NU_GPA').sort_values(ascending=True)[0:5]"
   ]
  },
  {
   "cell_type": "markdown",
   "id": "3d7e6747",
   "metadata": {},
   "source": [
    "## Outlier detection"
   ]
  },
  {
   "cell_type": "markdown",
   "id": "d4aace2a",
   "metadata": {},
   "source": [
    "An outlier is an observation that is significantly different from the rest of the data. Detection of outliers is important as they may distort the general trends in data."
   ]
  },
  {
   "cell_type": "markdown",
   "id": "1f7e801c",
   "metadata": {},
   "source": [
    "Let us visualize outliers in average instructional expenditure per student given by the variable `Expend`."
   ]
  },
  {
   "cell_type": "code",
   "execution_count": 135,
   "id": "f8ce3e73",
   "metadata": {},
   "outputs": [
    {
     "data": {
      "image/png": "[encoded data removed]",
      "text/plain": [
       "<Figure size 864x432 with 1 Axes>"
      ]
     },
     "metadata": {
      "needs_background": "light"
     },
     "output_type": "display_data"
    }
   ],
   "source": [
    "ax=college.boxplot(column = 'Expend')\n",
    "ax.yaxis.set_major_formatter('${x:,.0f}')"
   ]
  },
  {
   "cell_type": "markdown",
   "id": "26fa12b3",
   "metadata": {},
   "source": [
    "There are several outliers (shown as circles in the above boxplot), which correspond to high values of average instructional expenditure per student. Boxplot identifies outliers based on the [Tukey's fences](https://en.wikipedia.org/wiki/Outlier) criterion:"
   ]
  },
  {
   "cell_type": "markdown",
   "id": "4b600c91",
   "metadata": {},
   "source": [
    "**Tukey's fences:**\n",
    "John Tukey proposed that observations outside the range $[Q1 - 1.5(Q3-Q1), Q3+1.5(Q3-Q1)]$ are outliers, where $Q1$ and $Q3$ are the lower $(25\\%)$ and upper $(75\\%)$ quartiles respectively. Let us detect outliers based on Tukey's fences."
   ]
  },
  {
   "cell_type": "code",
   "execution_count": 137,
   "id": "e3eadc7c",
   "metadata": {},
   "outputs": [],
   "source": [
    "#Finding upper and lower quartiles and interquartile range\n",
    "q1 = np.percentile(college['Expend'],25)\n",
    "q3 = np.percentile(college['Expend'],75)\n",
    "intQ_range = q3-q1"
   ]
  },
  {
   "cell_type": "code",
   "execution_count": 138,
   "id": "b836df0f",
   "metadata": {},
   "outputs": [],
   "source": [
    "#Tukey's fences\n",
    "Lower_fence = q1 - 1.5*intQ_range\n",
    "Upper_fence = q3 + 1.5*intQ_range"
   ]
  },
  {
   "cell_type": "code",
   "execution_count": 139,
   "id": "2a664bcd",
   "metadata": {},
   "outputs": [],
   "source": [
    "#These are the outlying observations - those outside of Tukey's fences\n",
    "Outlying_obs = college[(college.Expend<Lower_fence) | (college.Expend>Upper_fence)]"
   ]
  },
  {
   "cell_type": "code",
   "execution_count": 140,
   "id": "3c003a6f",
   "metadata": {},
   "outputs": [],
   "source": [
    "#Data without outliers\n",
    "college_data_without_outliers = college[((college.Expend>=Lower_fence) & (college.Expend<=Upper_fence))]"
   ]
  },
  {
   "cell_type": "markdown",
   "id": "06e926e0",
   "metadata": {},
   "source": [
    "Earlier, the trend was distorted by outliers when we created bins of equal width. Let us see if we get the correct trend with the outliers removed from the data."
   ]
  },
  {
   "cell_type": "code",
   "execution_count": 144,
   "id": "c3ecdf44",
   "metadata": {},
   "outputs": [],
   "source": [
    "Binned_data = pd.cut(college_data_without_outliers['Expend'],3,labels = ['Low expend','Med expend','High expend'],retbins = True)\n",
    "college_data_without_outliers.loc[:,'Expend_bin'] = Binned_data[0]"
   ]
  },
  {
   "cell_type": "code",
   "execution_count": 146,
   "id": "b02aa090",
   "metadata": {},
   "outputs": [
    {
     "data": {
      "text/plain": [
       "<AxesSubplot:xlabel='Expend_bin', ylabel='Grad.Rate'>"
      ]
     },
     "execution_count": 146,
     "metadata": {},
     "output_type": "execute_result"
    },
    {
     "data": {
      "image/png": "[encoded data removed]",
      "text/plain": [
       "<Figure size 864x432 with 1 Axes>"
      ]
     },
     "metadata": {
      "needs_background": "light"
     },
     "output_type": "display_data"
    }
   ],
   "source": [
    "sns.barplot(x = 'Expend_bin', y = 'Grad.Rate', data = college_data_without_outliers)"
   ]
  },
  {
   "cell_type": "markdown",
   "id": "9b3f457a",
   "metadata": {},
   "source": [
    "With the outliers removed, we obtain the correct overall trend, even in the case of equal-width bins. Note that these bins have unequal number of observations as shown below."
   ]
  },
  {
   "cell_type": "code",
   "execution_count": 151,
   "id": "a1501aa3",
   "metadata": {},
   "outputs": [
    {
     "data": {
      "image/png": "[encoded data removed]",
      "text/plain": [
       "<Figure size 864x432 with 1 Axes>"
      ]
     },
     "metadata": {},
     "output_type": "display_data"
    }
   ],
   "source": [
    "sns.set(font_scale=1.35)\n",
    "ax=sns.histplot(data = college_data_without_outliers, x= 'Expend')\n",
    "for i in range(4):\n",
    "    plt.axvline(Binned_data[1][i], 0,100,color='red')\n",
    "plt.xlabel('Expenditure per student');\n",
    "plt.ylabel('Graduation rate');\n",
    "ax.xaxis.set_major_formatter('${x:,.0f}')"
   ]
  },
  {
   "cell_type": "markdown",
   "id": "679d67e6",
   "metadata": {},
   "source": [
    "Note that the right tail of the histogram has disappered since we removed outliers."
   ]
  },
  {
   "cell_type": "code",
   "execution_count": 152,
   "id": "63ebe89d",
   "metadata": {},
   "outputs": [
    {
     "data": {
      "text/plain": [
       "Med expend     327\n",
       "Low expend     314\n",
       "High expend     88\n",
       "Name: Expend_bin, dtype: int64"
      ]
     },
     "execution_count": 152,
     "metadata": {},
     "output_type": "execute_result"
    }
   ],
   "source": [
    "college_data_without_outliers['Expend_bin'].value_counts()"
   ]
  },
  {
   "cell_type": "markdown",
   "id": "53b0d233",
   "metadata": {},
   "source": [
    "### Practice exercise 4"
   ]
  },
  {
   "cell_type": "markdown",
   "id": "f6246221",
   "metadata": {},
   "source": [
    "Consider the dataset created for *survey_data_clean.csv* in [Practice exercise 3](https://nustat.github.io/DataScience_Intro_python/Data%20cleaning%20and%20preparation.html#practice-exercise-3), which includes dummy variables for all the categorical variables. Find the number of outliers in each column of the dataset based on the Tukey's fences criterion. Do not use a `for` loop.\n",
    "\n",
    "Which column(s) have the maximum number of outliers?\n",
    "\n",
    "Do you think the outlying observations identified with the Tukey's fences criterion for those columns(s) should be considered as outliers? If not, then which type of columns should be considered when finding outliers?"
   ]
  },
  {
   "cell_type": "markdown",
   "id": "b409b845",
   "metadata": {},
   "source": [
    "**Solution:**"
   ]
  },
  {
   "cell_type": "code",
   "execution_count": 32,
   "id": "2978a9be",
   "metadata": {},
   "outputs": [
    {
     "data": {
      "text/plain": [
       "learning_style_Reading/Writing (learn best through words often note-taking or reading)    48\n",
       "much_effort_is_lack_of_talent                                                             48\n",
       "left_right_brained_Left-brained (logic, science, critical thinking, numbers)              47\n",
       "left_right_brained_Right-brained (creative, art, imaginative, intuitive)                  47\n",
       "fav_season_Spring                                                                         47\n",
       "                                                                                          ..\n",
       "love_first_sight                                                                           0\n",
       "birthdate_odd_even_Odd                                                                     0\n",
       "procrastinator                                                                             0\n",
       "birthdate_odd_even_Even                                                                    0\n",
       "how_happy_Pretty happy                                                                     0\n",
       "Length: 308, dtype: int64"
      ]
     },
     "execution_count": 32,
     "metadata": {},
     "output_type": "execute_result"
    }
   ],
   "source": [
    "#Function to identify outliers based on Tukey's fences\n",
    "def rem_outliers(x):\n",
    "    q1 =x.quantile(0.25)\n",
    "    q3 = x.quantile(0.75)\n",
    "    intQ_range = q3-q1\n",
    "\n",
    "    #Tukey's fences\n",
    "    Lower_fence = q1 - 1.5*intQ_range\n",
    "    Upper_fence = q3 + 1.5*intQ_range\n",
    "    \n",
    "    #The object returned will be a data frame with bool values - True or False. 'True' will indicate that the value is an outlier\n",
    "    return ((x<Lower_fence) | (x>Upper_fence))\n",
    "\n",
    "survey_dummies.apply(rem_outliers).sum().sort_values(ascending=False)"
   ]
  },
  {
   "cell_type": "markdown",
   "id": "db944d16",
   "metadata": {},
   "source": [
    "Using Tukey's criterion, the variables `learning_style_Reading/Writing (learn best through words often note-taking or reading)` and `much_effort_is_lack_of_talent` have the most number of outliers."
   ]
  },
  {
   "cell_type": "markdown",
   "id": "f1e8e881",
   "metadata": {},
   "source": [
    "However, these two variables only have 0s and 1s. For instance, let us consider `learning_style_Reading/Writing (learn best through words often note-taking or reading)`."
   ]
  },
  {
   "cell_type": "code",
   "execution_count": 34,
   "id": "f30b7a0c",
   "metadata": {},
   "outputs": [
    {
     "data": {
      "text/plain": [
       "0    144\n",
       "1     48\n",
       "Name: learning_style_Reading/Writing (learn best through words often note-taking or reading), dtype: int64"
      ]
     },
     "execution_count": 34,
     "metadata": {},
     "output_type": "execute_result"
    }
   ],
   "source": [
    "survey_dummies['learning_style_Reading/Writing (learn best through words often note-taking or reading)'].value_counts()"
   ]
  },
  {
   "cell_type": "markdown",
   "id": "a9773919",
   "metadata": {},
   "source": [
    "As the percentage of 1s are $\\frac{48}{48+144}=25\\%$, the $75^{th}$ percentile value is 0.25, and the upper Tukey's fence is $0.25+0.25*1.25 = 0.625$, which makes the value $1$ an outlier. However, we should not consider this value as an outlier, as a considerable fraction of the data (25%) has the value $1$ for this variable. \n",
    "\n",
    "Furthermore, Tukey's fences are developed for continuous variables. However, the variable `learning_style_Reading/Writing (learn best through words often note-taking or reading)` is discrete with only two levels. Thus, while finding outliers we must consider only continuous variables."
   ]
  },
  {
   "cell_type": "code",
   "execution_count": 105,
   "id": "750eacb7",
   "metadata": {},
   "outputs": [],
   "source": [
    "#Finding continuous variables: Assuming numeric variables that have more than 2 distinct values are continuous\n",
    "continuous_variables = [x for x in list(survey_data.apply(lambda x: x.name if ((len(x.value_counts())>2) & (x.dtype!='O')) else '')) if x!='']"
   ]
  },
  {
   "cell_type": "code",
   "execution_count": 107,
   "id": "edefd86b",
   "metadata": {},
   "outputs": [
    {
     "data": {
      "text/plain": [
       "num_clubs                      22\n",
       "fav_number                     19\n",
       "parties_per_month              12\n",
       "internet_hours_per_day         11\n",
       "sleep_hours_per_day            10\n",
       "expected_marriage_age          10\n",
       "expected_starting_salary        8\n",
       "high_school_GPA                 8\n",
       "height_mother                   7\n",
       "num_insta_followers             6\n",
       "height_father                   6\n",
       "NU_GPA                          5\n",
       "minutes_ex_per_week             4\n",
       "height                          3\n",
       "farthest_distance_travelled     2\n",
       "age                             1\n",
       "num_majors_minors               0\n",
       "dtype: int64"
      ]
     },
     "execution_count": 107,
     "metadata": {},
     "output_type": "execute_result"
    }
   ],
   "source": [
    "#Finding number of outliers for only continuous variables\n",
    "survey_data.loc[:,continuous_variables].apply(rem_outliers).sum().sort_values(ascending=False)"
   ]
  },
  {
   "cell_type": "markdown",
   "id": "4e781fc1",
   "metadata": {},
   "source": [
    "The variable `num_clubs` has the maximum number of outliers."
   ]
  },
  {
   "cell_type": "code",
   "execution_count": 114,
   "id": "769cbda7",
   "metadata": {},
   "outputs": [
    {
     "name": "stdout",
     "output_type": "stream",
     "text": [
      "Tukeys fences = [ 0.5 4.5 ]\n"
     ]
    }
   ],
   "source": [
    "#Finding how many clubs makes a person an outlier\n",
    "q3_num_clubs = survey_data.num_clubs.quantile(0.75)\n",
    "q1_num_clubs = survey_data.num_clubs.quantile(0.25)\n",
    "print(\"Tukeys fences = [\",q1_num_clubs-1.5*(q3_num_clubs-q1_num_clubs),q3_num_clubs+1.5*(q3_num_clubs-q1_num_clubs),\"]\")"
   ]
  },
  {
   "cell_type": "markdown",
   "id": "5b923b75",
   "metadata": {},
   "source": [
    "People joining no club, or more than 4 clubs are outliers."
   ]
  }
 ],
 "metadata": {
  "kernelspec": {
   "display_name": "Python 3",
   "language": "python",
   "name": "python3"
  },
  "language_info": {
   "codemirror_mode": {
    "name": "ipython",
    "version": 3
   },
   "file_extension": ".py",
   "mimetype": "text/x-python",
   "name": "python",
   "nbconvert_exporter": "python",
   "pygments_lexer": "ipython3",
   "version": "3.8.8"
  }
 },
 "nbformat": 4,
 "nbformat_minor": 5
}
