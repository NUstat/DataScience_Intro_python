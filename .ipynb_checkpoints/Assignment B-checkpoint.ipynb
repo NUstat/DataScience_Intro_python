{
 "cells": [
  {
   "cell_type": "raw",
   "id": "33dd6c4c",
   "metadata": {},
   "source": [
    "---\n",
    "title: \"Assignment B\"\n",
    "subtitle: NumPy\n",
    "format: \n",
    "  html:\n",
    "    toc: true\n",
    "    toc-title: Contents\n",
    "    code-fold: show\n",
    "    self-contained: true\n",
    "jupyter: python3\n",
    "---"
   ]
  },
  {
   "cell_type": "markdown",
   "id": "0116f49b",
   "metadata": {},
   "source": [
    "## Instructions {-}\n",
    "\n",
    "1. You may talk to a friend, discuss the questions and potential directions for solving them. However, you need to write your own solutions and code separately, and not as a group activity. \n",
    "\n",
    "2. Write your code in the *Code* cells and your answer in the *Markdown* cells of the Jupyter notebook. Ensure that the solution is written neatly enough to understand and grade.\n",
    "\n",
    "3. Use [Quarto](https://quarto.org/docs/output-formats/html-basics.html) to print the *.ipynb* file as HTML. You will need to open the command prompt, navigate to the directory containing the file, and use the command: `quarto render filename.ipynb --to html`. Submit the HTML file.\n",
    "\n",
    "4. The assignment is worth 100 points, and is due on **15th October 2023 at 11:59 pm**. \n",
    "\n",
    "5. **Five points are properly formatting the assignment**. The breakdown is as follows:\n",
    "- Must be an HTML file rendered using Quarto (2 pts).\n",
    "- There aren’t excessively long outputs of extraneous information (e.g. no printouts of entire data frames without good reason, there aren’t long printouts of which iteration a loop is on, there aren’t long sections of commented-out code, etc.) (1 pt)\n",
    "- Final answers of each question are written in Markdown cells (1 pt).\n",
    "- There is no piece of unnecessary / redundant code, and no unnecessary / redundant text (1 pt)"
   ]
  },
  {
   "cell_type": "markdown",
   "id": "fe7ea9bb",
   "metadata": {},
   "source": [
    "## Air quality sensors \n",
    "**(An application of broadcasting NumPy arrays)**\n",
    "\n",
    "Air quality sensors are used to measure the amount of contaminants in air. This question will guide you in finding the location of installing 50 air quality sensors in the State of Colorado, such that they are as far away from each other as possible. The approach below is a greedy algorithm to find an approximate [Maximin design](https://www.sciencedirect.com/science/article/abs/pii/037837589090122B).\n",
    "\n",
    "The file *colorado_coordinate_grid.txt* contains the coordinate-pairs (latitude and longitude) of potential locations for installing  an air quality sensor. "
   ]
  },
  {
   "cell_type": "markdown",
   "id": "45d064b2",
   "metadata": {},
   "source": [
    "### Data\n",
    "\n",
    "Read the file with NumPy. How many coordinate-pairs are there in the file?\n",
    "\n",
    "Note that:\n",
    "\n",
    "1. A coordinate-pair means a latitude-longitude pair.\n",
    "\n",
    "2. 'Air quality sensor' will be referred as 'sensor' in the questions below for brevity.\n",
    "\n",
    "*(4 points)*"
   ]
  },
  {
   "cell_type": "markdown",
   "id": "16fccc9b",
   "metadata": {},
   "source": [
    "### First sensor\n",
    "The first sensor is to be installed closest to Denver *(closest in terms of Euclidean distance)*. Find the coordinate-pair of the location where the first sensor will be installed. The coordinate-pair of Denver is: [39.7392$^{\\circ}$ N, 104.9903$^{\\circ}$ W] \n",
    "\n",
    "Note that the suffixes $^{\\circ}$ N and $^{\\circ}$ W are omitted in the file *colorado_coordinate_grid.txt*.\n",
    "\n",
    "**Hint:** Broadcasting\n",
    "\n",
    "*(4 points)*"
   ]
  },
  {
   "cell_type": "markdown",
   "id": "16c1a490",
   "metadata": {},
   "source": [
    "### Second sensor\n",
    "Find the coordinate-pair of the installation of the next sensor, such that it is as far as possible from the first sensor installed near Denver.\n",
    "\n",
    "**Hint:** Broadcasting\n",
    "\n",
    "*(4 points)*"
   ]
  },
  {
   "cell_type": "markdown",
   "id": "9403cdfb",
   "metadata": {},
   "source": [
    "### First two sensors \n",
    "Stack the coordinate-pairs of the first and second sensors vertically to obtain a 2 x 2 NumPy array. Name the array as `air_sensor_coordinates`. \n",
    "\n",
    "Run the code below to check if your results seem correct. The coordinate-pairs of the two air quality sensors will be marked as blue dots.\n",
    "\n",
    "*(4 points)*"
   ]
  },
  {
   "cell_type": "code",
   "execution_count": null,
   "id": "baee033f",
   "metadata": {},
   "outputs": [],
   "source": [
    "import matplotlib.pyplot as plt\n",
    "def sensor_viz():\n",
    "    img = plt.imread(\"colorado.jpg\")\n",
    "    fig, ax = plt.subplots(figsize=(10, 100),dpi=80)\n",
    "    fig.set_size_inches(10.5, 15)\n",
    "    ax.imshow(img,extent=[-109, -102, 37, 41])\n",
    "    plt.scatter(y = air_sensor_coordinates[:,0], x = -air_sensor_coordinates[:,1])\n",
    "    plt.xlim(-109.05,-101.95)\n",
    "    plt.ylim(36.95,41.05)\n",
    "    plt.xlabel(\"Longitude\")\n",
    "    plt.ylabel(\"Latitude\")\n",
    "sensor_viz()"
   ]
  },
  {
   "cell_type": "markdown",
   "id": "51a7babb",
   "metadata": {},
   "source": [
    "### Third sensor\n",
    "\n",
    "Now you need to find the coordinate-pair for installing the third sensor such that it is far away from the two already-installed sensors. Proceed as follows:\n",
    "\n",
    "1. Find the minimum distance of each coordinate-pair in *colorado_coordinate_grid.txt* from the two already installed sensors. For example, if a coordinate-pair is at a distance of 5 units from the first sensor, and 10 units from the second sensor, then its minimum distance from the sensors will be $\\min(5,10) = 5$ units. \n",
    "\n",
    "\n",
    "2. Select the coordinate-pair (from *colorado_coordinate_grid.txt*) whose minimum distance from the two already installed sensors is the maximum. \n",
    "\n",
    "\n",
    "3. Stack the coordinate-pair of the third air quality sensor vertically on the array `air_sensor_coordinates`. \n",
    "\n",
    "Call the function `sensor_viz()` to check if your results seem correct. The coordinate-pairs of the three air quality sensors will be marked as blue dots.\n",
    "\n",
    "**Hint:**\n",
    "\n",
    "For step (1) above:\n",
    "\n",
    "1. Define a function which computes the distances of a coordinate-pair from all the coordinates of `air_sensor_coordinates`, and returns the minimum distance.\n",
    "\n",
    "2. Apply the function on all the coordinate-pairs in *colorado_coordinate_grid.txt* using the NumPy function `apply_along_axis()`.\n",
    "\n",
    "*(20 points)*"
   ]
  },
  {
   "cell_type": "markdown",
   "id": "3eb2d4f2",
   "metadata": {},
   "source": [
    "### All 50 sensors\n",
    "\n",
    "You need to find 47 more coordinate-pairs to install air quality sensors well-spread across Colorado. We will generalize the steps in the previous question to proceed as follows:\n",
    "\n",
    "1. Suppose you have already found the coordinate-pairs for the installation of *i* sensors.\n",
    "\n",
    "\n",
    "2. Find the minimum distance of each coordinate in *colorado_coordinate_grid.txt* from the *i* already installed sensors. For example, if a coordinate-pair is at a distance of $d_1$ from the first sensor, $d_2$ from the second sensor,..., and $d_i$ from the $i^{th}$ sensor, then its minimum distance from the sensors will be $min(d_1, d_2, ..., d_i$). \n",
    "\n",
    "\n",
    "3. Select the $i+1^{th}$ coordinate-pair (from *colorado_coordinate_grid.txt*) as the one whose minimum distance from the $i$ already installed sensors is the maximum. \n",
    "\n",
    "Call the function `sensor_viz()` to check if your results seem correct. You should see 50 blue dots well spread across Colorado.\n",
    "\n",
    "*(10 points)*"
   ]
  },
  {
   "cell_type": "markdown",
   "id": "cb8a845f",
   "metadata": {},
   "source": [
    "## Sales\n",
    "**(An application of matrix multiplication with NumPy arrays)**"
   ]
  },
  {
   "cell_type": "markdown",
   "id": "d39c782c",
   "metadata": {},
   "source": [
    "When the monthly sales of a product are subject to seasonal fluctuations, a curve that approximates the sales formula might have the form:\n",
    "\n",
    "$$y = a + b*x + c*\\sin\\bigg(2*\\pi*\\frac{x}{12}\\bigg),$$\n",
    "\n",
    "where $x$ is the time since the starting point in months and $y$ is the monthly sales in USD (million). The term $a + b*x$ gives the basic sales trend and the $\\sin$ term reflects the seasonal changes in sales. Suppose the model parameters (i.e., $a$, $b$, and $c$) are estimated and put on the list below for the sales of a certain brand of sunscreen starting June 1, 2017."
   ]
  },
  {
   "cell_type": "code",
   "execution_count": 1,
   "id": "65ca4645",
   "metadata": {},
   "outputs": [],
   "source": [
    "model_parameters = [2, 5, 18]"
   ]
  },
  {
   "cell_type": "markdown",
   "id": "b427a9c4",
   "metadata": {},
   "source": [
    "Then, the total monthly sales in June 2017 will be calculated by plugging 1 as $x$ into the equation."
   ]
  },
  {
   "cell_type": "markdown",
   "id": "9fef75aa",
   "metadata": {},
   "source": [
    "Using matrix multiplication with NumPy, we wish to estimate the total sales between June 1 2017 and March 1, 2020. *(So many models failed to predict sales after that - probably due to covid.)*\n",
    "\n",
    "Proceed as follows.\n",
    "\n",
    "### Create first array\n",
    "Create a numpy array where the first column is all $1$s, the second column is a range of numbers from 1 to the total number of months from June 1 2017 to March 1 2020 and the third column is $\\sin(2*\\pi*x/12)$ values with $x$ values as plugged-in in the second column.\n",
    "\n",
    "*(10 points)*"
   ]
  },
  {
   "cell_type": "markdown",
   "id": "57e41b2a",
   "metadata": {},
   "source": [
    "### Create second array \n",
    "Create an array from the list `model_parameters`.\n",
    "\n",
    "*(3 points)*"
   ]
  },
  {
   "cell_type": "markdown",
   "id": "bfc4579e",
   "metadata": {},
   "source": [
    "### Multiply arrays\n",
    "Use matrix multiplication to get the monthly sales estimates for each month in the range: June 1 2017 and March 1, 2020.\n",
    "\n",
    "*(8 points)*"
   ]
  },
  {
   "cell_type": "markdown",
   "id": "7e215e6d",
   "metadata": {},
   "source": [
    "### Sum array elements \n",
    "Find the total sales between June 1 2017 and March 1, 2020.\n",
    "\n",
    "*(3 points)*"
   ]
  },
  {
   "cell_type": "markdown",
   "id": "61e85404",
   "metadata": {},
   "source": [
    "## Exercise minutes\n",
    "**(An application of parallel computation with NumPy)**"
   ]
  },
  {
   "cell_type": "markdown",
   "id": "498b0a1c",
   "metadata": {},
   "source": [
    "This problem demonstrates the benefit of generating pseudo random number matrix with NumPy.\n",
    "\n",
    "The list `exercise_minutes` below consists of exercise minutes per week of the students of STAT303-1 Fall 2022 class.\n",
    "\n",
    "We wish to find the **95% confidence interval** of mean `exercise_minutes`, using [Bootstrapping](https://en.wikipedia.org/wiki/Bootstrapping_(statistics)).  \n",
    "\n",
    "Bootstrapping is a non-parametric method for obtaining confidence interval. The method is as follows.  \n",
    "\n",
    "(a) Suppose the list `exercise_minutes` has $N$ values.\n",
    "\n",
    "(b) Randomly sample $N$ values with replacement from `exercise_minutes`\n",
    "\n",
    "(c) Find the mean of the $N$ values obtained in (b) \n",
    "\n",
    "(d) Repeat steps (b) and (c) 10,000 times \n",
    "\n",
    "(e) The 95% Confidence interval is the range between the 2.5% and 97.5% percentile values of the 10,000 means obtained in (c)"
   ]
  },
  {
   "cell_type": "code",
   "execution_count": 102,
   "id": "6ddc1e73",
   "metadata": {},
   "outputs": [],
   "source": [
    "exercise_minutes=[240, 180, 60, 300, 0, 360, 60, 140, 60, 0, 150, 60, 0, 6, 60, 300, 90, 100, 250, 240, 300, 630, 420, 50, 0, 60, 240, 300, 180, 420, 90, 8, 180, 15, 8, 150, 180, 240, 60, 1200, 210, 360, 720, 240, 360, 240, 250, 180, 600, 120, 60, 200, 360, 120, 20, 250, 60, 420, 420, 150, 350, 180, 14, 60, 450, 180, 300, 1, 180, 7, 180, 300, 70, 40, 300, 60, 180, 225, 90, 300, 240, 200, 60, 200, 360, 3, 200, 300, 90, 60, 180, 120, 10, 0, 200, 700, 300, 300, 5, 60, 420, 300, 240, 200, 180, 180, 120, 300, 375, 60, 240, 180, 180, 90, 240, 180, 15, 300, 60, 120, 120, 240, 400, 200, 60, 480, 120, 300, 180, 250, 280, 7, 600, 240, 0, 420, 60, 2, 280, 300, 60, 0, 250, 180, 540, 30, 210, 2, 90, 120, 180, 240, 540, 400, 120, 150, 360, 180, 200, 180, 30, 60, 300, 80, 60, 210, 315, 360, 275, 200, 150, 180, 200, 150, 0, 1200, 240, 120, 300, 360, 180, 240, 630, 250, 240, 5, 30, 0, 300, 60, 90]"
   ]
  },
  {
   "cell_type": "markdown",
   "id": "045e0924",
   "metadata": {},
   "source": [
    "Answer the following questions."
   ]
  },
  {
   "cell_type": "markdown",
   "id": "3fb1a713",
   "metadata": {},
   "source": [
    "### Sequential computation without NumPy \n",
    "Without using NumPy, compute the:\n",
    "\n",
    "1. Confidence interval of mean `exercise_minutes`, and \n",
    "\n",
    "2. Time taken to execute the code\n",
    "\n",
    "**Hints:** \n",
    "\n",
    "1. You may use the library `random`.\n",
    "\n",
    "2. You may use the library `time` for computing the time taken to execute the code.\n",
    "\n",
    "*(12 points)*"
   ]
  },
  {
   "cell_type": "markdown",
   "id": "7d2fcf66",
   "metadata": {},
   "source": [
    "### Parallel computation with NumPy\n",
    "Using NumPy, and without using loops, compute the:\n",
    "\n",
    "1. Confidence interval of mean `exercise_minutes`, and \n",
    "2. Time taken to execute the code\n",
    "\n",
    "*(12 points)*"
   ]
  },
  {
   "cell_type": "markdown",
   "id": "5be23160",
   "metadata": {},
   "source": [
    "### Time saving with NumPy\n",
    "Report the ratio of time taken to execute the code wihout NumPy to the time taken to execute the code with NumPy.\n",
    "\n",
    "*(1 point)*"
   ]
  }
 ],
 "metadata": {
  "kernelspec": {
   "display_name": "Python 3 (ipykernel)",
   "language": "python",
   "name": "python3"
  },
  "language_info": {
   "codemirror_mode": {
    "name": "ipython",
    "version": 3
   },
   "file_extension": ".py",
   "mimetype": "text/x-python",
   "name": "python",
   "nbconvert_exporter": "python",
   "pygments_lexer": "ipython3",
   "version": "3.8.17"
  }
 },
 "nbformat": 4,
 "nbformat_minor": 5
}
