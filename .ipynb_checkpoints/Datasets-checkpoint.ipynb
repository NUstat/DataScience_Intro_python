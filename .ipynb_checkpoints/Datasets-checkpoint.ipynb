{
 "cells": [
  {
   "cell_type": "raw",
   "id": "5a169952",
   "metadata": {},
   "source": [
    "---\n",
    "title: \"Datasets & Templates\"\n",
    "format: \n",
    "  html:\n",
    "    code-fold: false\n",
    "jupyter: python3\n",
    "---"
   ]
  },
  {
   "cell_type": "markdown",
   "id": "ecf28294",
   "metadata": {},
   "source": [
    "Datasets used in the book, and assignment / project templates can be found [here](https://nuwildcat-my.sharepoint.com/:f:/g/personal/akl0407_ads_northwestern_edu/EoONY3NSVQpMgqIT-w6__NQBchihJMDlXXQCrI6GLQiPMw?e=G3hnnt)"
   ]
  }
 ],
 "metadata": {
  "kernelspec": {
   "display_name": "Python 3",
   "language": "python",
   "name": "python3"
  },
  "language_info": {
   "codemirror_mode": {
    "name": "ipython",
    "version": 3
   },
   "file_extension": ".py",
   "mimetype": "text/x-python",
   "name": "python",
   "nbconvert_exporter": "python",
   "pygments_lexer": "ipython3",
   "version": "3.8.8"
  }
 },
 "nbformat": 4,
 "nbformat_minor": 5
}
