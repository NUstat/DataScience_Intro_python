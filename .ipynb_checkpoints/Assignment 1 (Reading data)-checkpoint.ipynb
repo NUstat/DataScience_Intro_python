{
 "cells": [
  {
   "cell_type": "raw",
   "id": "9650927d",
   "metadata": {},
   "source": [
    "---\n",
    "title: \"Assignment 1 (Reading data)\"\n",
    "format: \n",
    "  html:\n",
    "    toc: true\n",
    "    toc-title: Contents\n",
    "    code-fold: show\n",
    "    self-contained: true\n",
    "jupyter: python3\n",
    "---"
   ]
  },
  {
   "cell_type": "markdown",
   "id": "b9640654",
   "metadata": {},
   "source": [
    "## Instructions {-}\n",
    "\n",
    "1. You may talk to a friend, discuss the questions and potential directions for solving them. However, you need to write your own solutions and code separately, and not as a group activity. \n",
    "\n",
    "2. Do not write your name on the assignment.\n",
    "\n",
    "3. Write your code in the *Code* cells and your answer in the *Markdown* cells of the Jupyter notebook. Ensure that the solution is written neatly enough to understand and grade.\n",
    "\n",
    "4. Use [Quarto](https://quarto.org/docs/output-formats/html-basics.html) to print the *.ipynb* file as HTML. You will need to open the command prompt, navigate to the directory containing the file, and use the command: `quarto render filename.ipynb --to html`. Submit the HTML file.\n",
    "\n",
    "5. The assignment is worth 100 points, and is due on **6th October 2022 at 11:59 pm**. "
   ]
  },
  {
   "cell_type": "markdown",
   "id": "cd445613",
   "metadata": {},
   "source": [
    "# I\n",
    "USA's GDP per capita from 1960 to 2021 is given by the tuple `T` in the code cell below. The values are arranged in ascending order of the year, i.e., the first value is for 1960, the second value is for 1961, and so on."
   ]
  },
  {
   "cell_type": "code",
   "execution_count": 222,
   "id": "c7711724",
   "metadata": {},
   "outputs": [],
   "source": [
    "T = (3007, 3067, 3244, 3375,3574, 3828, 4146, 4336, 4696, 5032,5234,5609,6094,6726,7226,7801,8592,9453,10565,11674,12575,13976,14434,15544,17121,18237,19071,20039,21417,22857,23889,24342,25419,26387,27695,28691,29968,31459,32854,34515,36330,37134,37998,39490,41725,44123,46302,48050,48570,47195,48651,50066,51784,53291,55124,56763,57867,59915,62805,65095,63028,69288)"
   ]
  },
  {
   "cell_type": "markdown",
   "id": "5f88d0a2",
   "metadata": {},
   "source": [
    "## I-1.\n",
    "### I-1(a)\n",
    "Use list comprehension to produce a list of the gaps between consecutive entries in `T`, i.e, the increase in GDP per capita with respect to the previous year. The list with gaps should look like: [60, 177, ...].\n",
    "\n",
    "*(6 points)*"
   ]
  },
  {
   "cell_type": "markdown",
   "id": "d8af2fb4",
   "metadata": {},
   "source": [
    "### I-1(b)\n",
    "Use the list comprehension developed in (a) to find the maximum gap size, i.e, the maximum increase in GDP per capita.\n",
    "\n",
    "*(2 points)*"
   ]
  },
  {
   "cell_type": "markdown",
   "id": "f8333eb6",
   "metadata": {},
   "source": [
    "### I-1(c)\n",
    "Use the list comprehension developed in (a) to find the percentage of gaps higher than $1000.\n",
    "\n",
    "*(5 points)*"
   ]
  },
  {
   "cell_type": "markdown",
   "id": "705ceac3",
   "metadata": {},
   "source": [
    "## I-2 \n",
    "### I-2(a)\n",
    "Create a dictionary `D`, where the `key` is the year, and `value` for the `key` is the increase in GDP per capita in that year with respect to the previous year, i.e., the gaps computed in part (1). \n",
    "\n",
    "*(6 points)*"
   ]
  },
  {
   "cell_type": "markdown",
   "id": "a6f263a2",
   "metadata": {},
   "source": [
    "### I-2(b)\n",
    "Use the dictionary `D` to find the year when the GDP per capita increase from the previous year was the maximum.\n",
    "\n",
    "*(4 points)*"
   ]
  },
  {
   "cell_type": "markdown",
   "id": "75808d4a",
   "metadata": {},
   "source": [
    "### I-2(c)\n",
    "Use the dictionary `D` to find the years when the GDP per capita decreased with respect to the previous year.\n",
    "\n",
    "*(4 points)*"
   ]
  },
  {
   "cell_type": "markdown",
   "id": "7464a84c",
   "metadata": {},
   "source": [
    "# II\n",
    "## II-1\n",
    "Read the [data](https://raw.githubusercontent.com/cwkenwaysun/TEDmap/master/data/TED_Talks.json) on ted talks.\n",
    "\n",
    "*(2 points)*"
   ]
  },
  {
   "cell_type": "markdown",
   "id": "99877931",
   "metadata": {},
   "source": [
    "## II-2\n",
    "Find the number of talks in the dataset.\n",
    "\n",
    "*(2 points)*"
   ]
  },
  {
   "cell_type": "markdown",
   "id": "7ba3d3db",
   "metadata": {},
   "source": [
    "## II-3 \n",
    "Find the `headline`, `speaker` and `year_filmed` of the talk with the highest number of views.\n",
    "\n",
    "*(5 points)*"
   ]
  },
  {
   "cell_type": "markdown",
   "id": "845aa3b7",
   "metadata": {},
   "source": [
    "##  II-4 \n",
    "Do the majority of talks have less views than the average number of views for a talk? Justify your answer.\n",
    "\n",
    "*(4 points)*\n",
    "\n",
    "**Hint:** Print summary statistics for questions (4) and (5)."
   ]
  },
  {
   "cell_type": "markdown",
   "id": "ce2ec388",
   "metadata": {},
   "source": [
    "## II-5 \n",
    "Do at least 25% of the talks have more views than the average number of views for a talk? Justify your answer.\n",
    "\n",
    "*(4 points)*"
   ]
  },
  {
   "cell_type": "markdown",
   "id": "34922431",
   "metadata": {},
   "source": [
    "## II-6 \n",
    "\n",
    "### II-6(a)\n",
    "The last column of the dataset consists of votes obtained by the talk under different categories, such as *Funny, Confusing, Fascinating, etc.* For each category, create a new column in the dataset that contains the votes obtained by the tedtalk in that category. Print the first 5 rows of the updated dataset.\n",
    "\n",
    "*(20 points)*"
   ]
  },
  {
   "cell_type": "markdown",
   "id": "ca050868",
   "metadata": {},
   "source": [
    "### II-6(b)\n",
    "With the data created in (a), find the `headline` of the talk that received the highest number of *Confusing* votes.\n",
    "\n",
    "*(5 points)*"
   ]
  },
  {
   "cell_type": "markdown",
   "id": "af8c64aa",
   "metadata": {},
   "source": [
    "### II-6(c)\n",
    "With the data created in (a), find the `headline` and the `year` of the talk that received the highest percentage of votes in the *Fascinating* category. \n",
    "\n",
    "$$\\text{Percentage of } \\textit{Fascinating} \\text{ votes for a ted talk} = \\frac{Number \\ of \\  votes \\ in \\ the \\ category - \\ Fascinating}{Total \\ votes \\ in \\ all  \\ categories}$$\n",
    "\n",
    "*(10 points)*"
   ]
  },
  {
   "cell_type": "markdown",
   "id": "3808e384",
   "metadata": {},
   "source": [
    "# III"
   ]
  },
  {
   "cell_type": "markdown",
   "id": "f6ebb90e",
   "metadata": {},
   "source": [
    "## III-1\n",
    "Download the data set “univ.txt”. Read it with python.\n",
    "\n",
    "*(2 points)*"
   ]
  },
  {
   "cell_type": "markdown",
   "id": "c9c72ce0",
   "metadata": {},
   "source": [
    "## III-2 \n",
    "### III-2(a) \n",
    "Find summary statistics of the data. Based on the statistics, answer parts b-e.\n",
    "\n",
    "*(1 point)*"
   ]
  },
  {
   "cell_type": "markdown",
   "id": "4f6efebe",
   "metadata": {},
   "source": [
    "### III-2(b) \n",
    "How many universities are there in the data set?\n",
    "\n",
    "*(2 points)*"
   ]
  },
  {
   "cell_type": "markdown",
   "id": "cd1464ca",
   "metadata": {},
   "source": [
    "### III-2(c) \n",
    "Estimate the maximum `Tuition and fees` among universities that are in the bottom 25% when ranked by total tuition and fees.\n",
    "\n",
    "*(3 points)*"
   ]
  },
  {
   "cell_type": "markdown",
   "id": "1d971a64",
   "metadata": {},
   "source": [
    "### III-2(d) \n",
    "How many universities share the ranking of 220? (If `s` universities share the same rank, say `r`, then the next lower rank is `r+s`, and all the ranks in between `r` and `r+s` are dropped)\n",
    "\n",
    "*(5 points)*"
   ]
  },
  {
   "cell_type": "markdown",
   "id": "060e2558",
   "metadata": {},
   "source": [
    "### III-2(e)\n",
    "Can you find the mean `Tuition and fees` for an undergrad student in the US from the summary statistics? Justify your answer.\n",
    "\n",
    "*(3 points)*"
   ]
  },
  {
   "cell_type": "markdown",
   "id": "932efb8d",
   "metadata": {},
   "source": [
    "## III-3\t\n",
    "Find the average `Tuition and fees` for an undergrad student in the US.\n",
    "\n",
    "*(5 points)*"
   ]
  }
 ],
 "metadata": {
  "kernelspec": {
   "display_name": "Python 3",
   "language": "python",
   "name": "python3"
  },
  "language_info": {
   "codemirror_mode": {
    "name": "ipython",
    "version": 3
   },
   "file_extension": ".py",
   "mimetype": "text/x-python",
   "name": "python",
   "nbconvert_exporter": "python",
   "pygments_lexer": "ipython3",
   "version": "3.8.8"
  }
 },
 "nbformat": 4,
 "nbformat_minor": 5
}
