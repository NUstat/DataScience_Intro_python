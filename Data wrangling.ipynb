{
 "cells": [
  {
   "cell_type": "raw",
   "id": "beb29e48",
   "metadata": {},
   "source": [
    "---\n",
    "title: \"Data wrangling\"\n",
    "format: \n",
    "  html:\n",
    "    code-fold: false\n",
    "    toc-depth: 4\n",
    "jupyter: python3\n",
    "---"
   ]
  },
  {
   "cell_type": "markdown",
   "id": "e0e77e4c",
   "metadata": {},
   "source": [
    "Data wrangling refers to combining, transforming, and re-arranging data to make it suitable for further analysis. We'll use Pandas for all data wrangling operations."
   ]
  },
  {
   "cell_type": "code",
   "execution_count": 372,
   "id": "f81c8fa7",
   "metadata": {},
   "outputs": [],
   "source": [
    "import pandas as pd\n",
    "import numpy as np\n",
    "import seaborn as sns"
   ]
  },
  {
   "cell_type": "markdown",
   "id": "a62dc209",
   "metadata": {},
   "source": [
    "## Hierarchical indexing"
   ]
  },
  {
   "cell_type": "markdown",
   "id": "09f05fd8",
   "metadata": {},
   "source": [
    "Until now we have seen only a single level of indexing in the rows and columns of a Pandas DataFrame. Hierarchical indexing refers to having multiple index levels on an axis (row / column) of a Pandas DataFrame. It helps us to work with a higher dimensional data in a lower dimensional form. "
   ]
  },
  {
   "cell_type": "markdown",
   "id": "23609994",
   "metadata": {},
   "source": [
    "### Hierarchical indexing in Pandas Series"
   ]
  },
  {
   "cell_type": "markdown",
   "id": "cdd38937",
   "metadata": {},
   "source": [
    "Let use define Pandas Series as we defined in Chapter 5:"
   ]
  },
  {
   "cell_type": "code",
   "execution_count": 43,
   "id": "364bfad3",
   "metadata": {},
   "outputs": [
    {
     "data": {
      "text/plain": [
       "0        these\n",
       "1          are\n",
       "2      english\n",
       "3        words\n",
       "4        estas\n",
       "5          son\n",
       "6     palabras\n",
       "7           en\n",
       "8      español\n",
       "9           ce\n",
       "10        sont\n",
       "11         des\n",
       "12     françai\n",
       "13        mots\n",
       "dtype: object"
      ]
     },
     "execution_count": 43,
     "metadata": {},
     "output_type": "execute_result"
    }
   ],
   "source": [
    "#Defining a Pandas Series\n",
    "series_example = pd.Series(['these','are','english','words','estas','son','palabras','en','español',\n",
    "                            'ce','sont','des','françai','mots'])\n",
    "series_example"
   ]
  },
  {
   "cell_type": "markdown",
   "id": "368f792e",
   "metadata": {},
   "source": [
    "Let us use the attribute `nlevels` to find the number of levels of the row indices of this Series:"
   ]
  },
  {
   "cell_type": "code",
   "execution_count": 5,
   "id": "e0ebe567",
   "metadata": {},
   "outputs": [
    {
     "data": {
      "text/plain": [
       "1"
      ]
     },
     "execution_count": 5,
     "metadata": {},
     "output_type": "execute_result"
    }
   ],
   "source": [
    "series_example.index.nlevels"
   ]
  },
  {
   "cell_type": "markdown",
   "id": "a02f8ee6",
   "metadata": {},
   "source": [
    "The Series `series_example` has only one level of row indices."
   ]
  },
  {
   "cell_type": "markdown",
   "id": "5cf3b90f",
   "metadata": {},
   "source": [
    "Let us introduce another level of row indices while defining the Series:"
   ]
  },
  {
   "cell_type": "code",
   "execution_count": 45,
   "id": "b8ac1c50",
   "metadata": {},
   "outputs": [
    {
     "data": {
      "text/plain": [
       "English  1       these\n",
       "         2         are\n",
       "         3     english\n",
       "         4       words\n",
       "Spanish  1       estas\n",
       "         2         son\n",
       "         3    palabras\n",
       "         4          en\n",
       "         5     español\n",
       "French   1          ce\n",
       "         2        sont\n",
       "         3         des\n",
       "         4     françai\n",
       "         5        mots\n",
       "dtype: object"
      ]
     },
     "execution_count": 45,
     "metadata": {},
     "output_type": "execute_result"
    }
   ],
   "source": [
    "#Defining a Pandas Series with multiple levels of row indices\n",
    "series_example = pd.Series(['these','are','english','words','estas','son','palabras','en','español',\n",
    "                           'ce','sont','des','françai','mots'], \n",
    "                          index=[['English']*4+['Spanish']*5+['French']*5,list(range(1,5))+list(range(1,6))*2])\n",
    "series_example"
   ]
  },
  {
   "cell_type": "markdown",
   "id": "81e7ff27",
   "metadata": {},
   "source": [
    "In the above Series, there are two levels of row indices:"
   ]
  },
  {
   "cell_type": "code",
   "execution_count": 46,
   "id": "7b7e5594",
   "metadata": {},
   "outputs": [
    {
     "data": {
      "text/plain": [
       "2"
      ]
     },
     "execution_count": 46,
     "metadata": {},
     "output_type": "execute_result"
    }
   ],
   "source": [
    "series_example.index.nlevels"
   ]
  },
  {
   "cell_type": "markdown",
   "id": "7e9b12f5",
   "metadata": {},
   "source": [
    "### Hierarchical indexing in Pandas DataFrame"
   ]
  },
  {
   "cell_type": "markdown",
   "id": "83c0862e",
   "metadata": {},
   "source": [
    "In a Pandas DataFrame, both the row and the columns can have hierarchical indexing. For example, consider the DataFrame below:"
   ]
  },
  {
   "cell_type": "code",
   "execution_count": 134,
   "id": "06b042f3",
   "metadata": {},
   "outputs": [
    {
     "data": {
      "text/html": [
       "<div>\n",
       "<style scoped>\n",
       "    .dataframe tbody tr th:only-of-type {\n",
       "        vertical-align: middle;\n",
       "    }\n",
       "\n",
       "    .dataframe tbody tr th {\n",
       "        vertical-align: top;\n",
       "    }\n",
       "\n",
       "    .dataframe thead tr th {\n",
       "        text-align: left;\n",
       "    }\n",
       "</style>\n",
       "<table border=\"1\" class=\"dataframe\">\n",
       "  <thead>\n",
       "    <tr>\n",
       "      <th></th>\n",
       "      <th></th>\n",
       "      <th colspan=\"2\" halign=\"left\">Illinois</th>\n",
       "      <th colspan=\"2\" halign=\"left\">California</th>\n",
       "    </tr>\n",
       "    <tr>\n",
       "      <th></th>\n",
       "      <th></th>\n",
       "      <th>Evanston</th>\n",
       "      <th>Chicago</th>\n",
       "      <th>San Francisco</th>\n",
       "      <th>Los Angeles</th>\n",
       "    </tr>\n",
       "  </thead>\n",
       "  <tbody>\n",
       "    <tr>\n",
       "      <th rowspan=\"2\" valign=\"top\">Demographics</th>\n",
       "      <th>Population</th>\n",
       "      <td>771517.0</td>\n",
       "      <td>2697000.0</td>\n",
       "      <td>815201.0</td>\n",
       "      <td>3849000.0</td>\n",
       "    </tr>\n",
       "    <tr>\n",
       "      <th>Unemployement (%)</th>\n",
       "      <td>4.2</td>\n",
       "      <td>5.6</td>\n",
       "      <td>2.8</td>\n",
       "      <td>4.6</td>\n",
       "    </tr>\n",
       "    <tr>\n",
       "      <th rowspan=\"2\" valign=\"top\">Geography</th>\n",
       "      <th>Area (mile-sq)</th>\n",
       "      <td>7.8</td>\n",
       "      <td>234.5</td>\n",
       "      <td>46.9</td>\n",
       "      <td>502.0</td>\n",
       "    </tr>\n",
       "    <tr>\n",
       "      <th>Elevation (feet)</th>\n",
       "      <td>6749.0</td>\n",
       "      <td>597.0</td>\n",
       "      <td>52.0</td>\n",
       "      <td>305.0</td>\n",
       "    </tr>\n",
       "  </tbody>\n",
       "</table>\n",
       "</div>"
      ],
      "text/plain": [
       "                                Illinois               California            \n",
       "                                Evanston    Chicago San Francisco Los Angeles\n",
       "Demographics Population         771517.0  2697000.0      815201.0   3849000.0\n",
       "             Unemployement (%)       4.2        5.6           2.8         4.6\n",
       "Geography    Area (mile-sq)          7.8      234.5          46.9       502.0\n",
       "             Elevation (feet)     6749.0      597.0          52.0       305.0"
      ]
     },
     "execution_count": 134,
     "metadata": {},
     "output_type": "execute_result"
    }
   ],
   "source": [
    "data=np.array([[771517,2697000,815201,3849000],[4.2,5.6,2.8,4.6],\n",
    "             [7.8,234.5,46.9,502],[6749, 597, 52, 305]])\n",
    "df_example = pd.DataFrame(data,index = [['Demographics']*2+['Geography']*2,\n",
    "                                      ['Population','Unemployement (%)','Area (mile-sq)','Elevation (feet)']],\n",
    "                    columns = [['Illinois']*2+['California']*2,['Evanston','Chicago','San Francisco','Los Angeles']])\n",
    "df_example"
   ]
  },
  {
   "cell_type": "markdown",
   "id": "9a7e3a56",
   "metadata": {},
   "source": [
    "In the above DataFrame, both the rows and columns have 2 levels of indexing. The number of levels of column indices can be found using the attribute `nlevels`:"
   ]
  },
  {
   "cell_type": "code",
   "execution_count": 135,
   "id": "31bd0f96",
   "metadata": {},
   "outputs": [
    {
     "data": {
      "text/plain": [
       "2"
      ]
     },
     "execution_count": 135,
     "metadata": {},
     "output_type": "execute_result"
    }
   ],
   "source": [
    "df_example.columns.nlevels"
   ]
  },
  {
   "cell_type": "markdown",
   "id": "8248c4d7",
   "metadata": {},
   "source": [
    "The `columns` attribute will now have a *MultiIndex* datatype in contrast to the *Index* datatype with single level of indexing. The same holds for row indices."
   ]
  },
  {
   "cell_type": "code",
   "execution_count": 141,
   "id": "ed8779bd",
   "metadata": {},
   "outputs": [
    {
     "data": {
      "text/plain": [
       "pandas.core.indexes.multi.MultiIndex"
      ]
     },
     "execution_count": 141,
     "metadata": {},
     "output_type": "execute_result"
    }
   ],
   "source": [
    "type(df_example.columns)"
   ]
  },
  {
   "cell_type": "code",
   "execution_count": 140,
   "id": "a45bf06b",
   "metadata": {},
   "outputs": [
    {
     "data": {
      "text/plain": [
       "MultiIndex([(  'Illinois',      'Evanston'),\n",
       "            (  'Illinois',       'Chicago'),\n",
       "            ('California', 'San Francisco'),\n",
       "            ('California',   'Los Angeles')],\n",
       "           )"
      ]
     },
     "execution_count": 140,
     "metadata": {},
     "output_type": "execute_result"
    }
   ],
   "source": [
    "df_example.columns"
   ]
  },
  {
   "cell_type": "markdown",
   "id": "ed2ad646",
   "metadata": {},
   "source": [
    "The hierarchical levels can have names. Let us assign names to the each level of the row and column labels:"
   ]
  },
  {
   "cell_type": "code",
   "execution_count": 173,
   "id": "5aa9c70d",
   "metadata": {},
   "outputs": [
    {
     "data": {
      "text/html": [
       "<div>\n",
       "<style scoped>\n",
       "    .dataframe tbody tr th:only-of-type {\n",
       "        vertical-align: middle;\n",
       "    }\n",
       "\n",
       "    .dataframe tbody tr th {\n",
       "        vertical-align: top;\n",
       "    }\n",
       "\n",
       "    .dataframe thead tr th {\n",
       "        text-align: left;\n",
       "    }\n",
       "\n",
       "    .dataframe thead tr:last-of-type th {\n",
       "        text-align: right;\n",
       "    }\n",
       "</style>\n",
       "<table border=\"1\" class=\"dataframe\">\n",
       "  <thead>\n",
       "    <tr>\n",
       "      <th></th>\n",
       "      <th>State</th>\n",
       "      <th colspan=\"2\" halign=\"left\">Illinois</th>\n",
       "      <th colspan=\"2\" halign=\"left\">California</th>\n",
       "    </tr>\n",
       "    <tr>\n",
       "      <th></th>\n",
       "      <th>City</th>\n",
       "      <th>Evanston</th>\n",
       "      <th>Chicago</th>\n",
       "      <th>San Francisco</th>\n",
       "      <th>Los Angeles</th>\n",
       "    </tr>\n",
       "    <tr>\n",
       "      <th>Information type</th>\n",
       "      <th>Statistic</th>\n",
       "      <th></th>\n",
       "      <th></th>\n",
       "      <th></th>\n",
       "      <th></th>\n",
       "    </tr>\n",
       "  </thead>\n",
       "  <tbody>\n",
       "    <tr>\n",
       "      <th rowspan=\"2\" valign=\"top\">Demographics</th>\n",
       "      <th>Population</th>\n",
       "      <td>771517.0</td>\n",
       "      <td>2697000.0</td>\n",
       "      <td>815201.0</td>\n",
       "      <td>3849000.0</td>\n",
       "    </tr>\n",
       "    <tr>\n",
       "      <th>Unemployement (%)</th>\n",
       "      <td>4.2</td>\n",
       "      <td>5.6</td>\n",
       "      <td>2.8</td>\n",
       "      <td>4.6</td>\n",
       "    </tr>\n",
       "    <tr>\n",
       "      <th rowspan=\"2\" valign=\"top\">Geography</th>\n",
       "      <th>Area (mile-sq)</th>\n",
       "      <td>7.8</td>\n",
       "      <td>234.5</td>\n",
       "      <td>46.9</td>\n",
       "      <td>502.0</td>\n",
       "    </tr>\n",
       "    <tr>\n",
       "      <th>Elevation (feet)</th>\n",
       "      <td>6749.0</td>\n",
       "      <td>597.0</td>\n",
       "      <td>52.0</td>\n",
       "      <td>305.0</td>\n",
       "    </tr>\n",
       "  </tbody>\n",
       "</table>\n",
       "</div>"
      ],
      "text/plain": [
       "State                               Illinois               California  \\\n",
       "City                                Evanston    Chicago San Francisco   \n",
       "Information type Statistic                                              \n",
       "Demographics     Population         771517.0  2697000.0      815201.0   \n",
       "                 Unemployement (%)       4.2        5.6           2.8   \n",
       "Geography        Area (mile-sq)          7.8      234.5          46.9   \n",
       "                 Elevation (feet)     6749.0      597.0          52.0   \n",
       "\n",
       "State                                           \n",
       "City                               Los Angeles  \n",
       "Information type Statistic                      \n",
       "Demographics     Population          3849000.0  \n",
       "                 Unemployement (%)         4.6  \n",
       "Geography        Area (mile-sq)          502.0  \n",
       "                 Elevation (feet)        305.0  "
      ]
     },
     "execution_count": 173,
     "metadata": {},
     "output_type": "execute_result"
    }
   ],
   "source": [
    "#Naming the row indices levels\n",
    "df_example.index.names=['Information type', 'Statistic']\n",
    "\n",
    "#Naming the column indices levels\n",
    "df_example.columns.names=['State', 'City']\n",
    "\n",
    "#Viewing the DataFrame\n",
    "df_example"
   ]
  },
  {
   "cell_type": "markdown",
   "id": "4c737255",
   "metadata": {},
   "source": [
    "Observe that the names of the row and column labels appear when we view the DataFrame."
   ]
  },
  {
   "cell_type": "markdown",
   "id": "b143112c",
   "metadata": {},
   "source": [
    "#### [`get_level_values()`](https://pandas.pydata.org/docs/reference/api/pandas.Index.get_level_values.html)\n",
    "\n",
    "The names of the column levels can be obained using the function `get_level_values()`. The outer-most level corresponds to the *level = 0*, and it increses as we go to the inner levels."
   ]
  },
  {
   "cell_type": "code",
   "execution_count": 217,
   "id": "58919266",
   "metadata": {},
   "outputs": [
    {
     "data": {
      "text/plain": [
       "Index(['Illinois', 'Illinois', 'California', 'California'], dtype='object', name='State')"
      ]
     },
     "execution_count": 217,
     "metadata": {},
     "output_type": "execute_result"
    }
   ],
   "source": [
    "#Column levels at level 0 (the outer level)\n",
    "df_example.columns.get_level_values(0)"
   ]
  },
  {
   "cell_type": "code",
   "execution_count": 218,
   "id": "6b2a46d5",
   "metadata": {},
   "outputs": [
    {
     "data": {
      "text/plain": [
       "Index(['Evanston', 'Chicago', 'San Francisco', 'Los Angeles'], dtype='object', name='City')"
      ]
     },
     "execution_count": 218,
     "metadata": {},
     "output_type": "execute_result"
    }
   ],
   "source": [
    "#Column levels at level 1 (the inner level)\n",
    "df_example.columns.get_level_values(1)"
   ]
  },
  {
   "cell_type": "markdown",
   "id": "9b1dc6f1",
   "metadata": {},
   "source": [
    "### Subsetting data"
   ]
  },
  {
   "cell_type": "markdown",
   "id": "f622fdf4",
   "metadata": {},
   "source": [
    "We can use the indices at the outer levels to concisely subset a Series / DataFrame."
   ]
  },
  {
   "cell_type": "markdown",
   "id": "ae3ee5b3",
   "metadata": {},
   "source": [
    "The first four observations of the Series `series_example` correspond to the outer row index `English`, while the last 5 rows correspond to the outer row index `Spanish`. Let us subset all the observation corresponding to the outer row index `English`:"
   ]
  },
  {
   "cell_type": "code",
   "execution_count": 47,
   "id": "c4108d6b",
   "metadata": {},
   "outputs": [
    {
     "data": {
      "text/plain": [
       "1      these\n",
       "2        are\n",
       "3    english\n",
       "4      words\n",
       "dtype: object"
      ]
     },
     "execution_count": 47,
     "metadata": {},
     "output_type": "execute_result"
    }
   ],
   "source": [
    "#Subsetting data by row-index\n",
    "series_example['English']"
   ]
  },
  {
   "cell_type": "markdown",
   "id": "fed071be",
   "metadata": {},
   "source": [
    "Just like in the case of single level indices, if we wish to subset corresponding to multiple outer-level indices, we put the indices within an additional box bracket `[]`. For example, let us subset all the observations corresponding to the row-indices `English` and `French`:"
   ]
  },
  {
   "cell_type": "code",
   "execution_count": 48,
   "id": "7a7d49fe",
   "metadata": {},
   "outputs": [
    {
     "data": {
      "text/plain": [
       "English  1      these\n",
       "         2        are\n",
       "         3    english\n",
       "         4      words\n",
       "French   1         ce\n",
       "         2       sont\n",
       "         3        des\n",
       "         4    françai\n",
       "         5       mots\n",
       "dtype: object"
      ]
     },
     "execution_count": 48,
     "metadata": {},
     "output_type": "execute_result"
    }
   ],
   "source": [
    "#Subsetting data by multiple row-indices\n",
    "series_example[['English','French']]"
   ]
  },
  {
   "cell_type": "markdown",
   "id": "ac2194a4",
   "metadata": {},
   "source": [
    "We can also subset data using the inner row index. However, we will need to put a `:` sign to indicate that the row label at the inner level is being used."
   ]
  },
  {
   "cell_type": "code",
   "execution_count": 161,
   "id": "e7144319",
   "metadata": {},
   "outputs": [
    {
     "data": {
      "text/plain": [
       "English     are\n",
       "Spanish     son\n",
       "French     sont\n",
       "dtype: object"
      ]
     },
     "execution_count": 161,
     "metadata": {},
     "output_type": "execute_result"
    }
   ],
   "source": [
    "#Subsetting data by row-index\n",
    "series_example[:,2]"
   ]
  },
  {
   "cell_type": "code",
   "execution_count": 50,
   "id": "47fda9ae",
   "metadata": {},
   "outputs": [
    {
     "data": {
      "text/plain": [
       "English  1    these\n",
       "Spanish  1    estas\n",
       "French   1       ce\n",
       "English  2      are\n",
       "Spanish  2      son\n",
       "French   2     sont\n",
       "dtype: object"
      ]
     },
     "execution_count": 50,
     "metadata": {},
     "output_type": "execute_result"
    }
   ],
   "source": [
    "#Subsetting data by mutiple row-indices\n",
    "series_example.loc[:,[1,2]]"
   ]
  },
  {
   "cell_type": "markdown",
   "id": "6af946e3",
   "metadata": {},
   "source": [
    "As in Series, we can concisely subset rows / columns in a DataFrame based on the index at the outer levels."
   ]
  },
  {
   "cell_type": "code",
   "execution_count": 170,
   "id": "12755289",
   "metadata": {},
   "outputs": [
    {
     "data": {
      "text/html": [
       "<div>\n",
       "<style scoped>\n",
       "    .dataframe tbody tr th:only-of-type {\n",
       "        vertical-align: middle;\n",
       "    }\n",
       "\n",
       "    .dataframe tbody tr th {\n",
       "        vertical-align: top;\n",
       "    }\n",
       "\n",
       "    .dataframe thead th {\n",
       "        text-align: right;\n",
       "    }\n",
       "</style>\n",
       "<table border=\"1\" class=\"dataframe\">\n",
       "  <thead>\n",
       "    <tr style=\"text-align: right;\">\n",
       "      <th></th>\n",
       "      <th></th>\n",
       "      <th>Evanston</th>\n",
       "      <th>Chicago</th>\n",
       "    </tr>\n",
       "  </thead>\n",
       "  <tbody>\n",
       "    <tr>\n",
       "      <th rowspan=\"2\" valign=\"top\">Demographics</th>\n",
       "      <th>Population</th>\n",
       "      <td>771517.0</td>\n",
       "      <td>2697000.0</td>\n",
       "    </tr>\n",
       "    <tr>\n",
       "      <th>Unemployement (%)</th>\n",
       "      <td>4.2</td>\n",
       "      <td>5.6</td>\n",
       "    </tr>\n",
       "    <tr>\n",
       "      <th rowspan=\"2\" valign=\"top\">Geography</th>\n",
       "      <th>Area (mile-sq)</th>\n",
       "      <td>7.8</td>\n",
       "      <td>234.5</td>\n",
       "    </tr>\n",
       "    <tr>\n",
       "      <th>Elevation (feet)</th>\n",
       "      <td>6749.0</td>\n",
       "      <td>597.0</td>\n",
       "    </tr>\n",
       "  </tbody>\n",
       "</table>\n",
       "</div>"
      ],
      "text/plain": [
       "                                Evanston    Chicago\n",
       "Demographics Population         771517.0  2697000.0\n",
       "             Unemployement (%)       4.2        5.6\n",
       "Geography    Area (mile-sq)          7.8      234.5\n",
       "             Elevation (feet)     6749.0      597.0"
      ]
     },
     "execution_count": 170,
     "metadata": {},
     "output_type": "execute_result"
    }
   ],
   "source": [
    "df_example['Illinois']"
   ]
  },
  {
   "cell_type": "markdown",
   "id": "b3352808",
   "metadata": {},
   "source": [
    "Note that the dataype of each column name is a tuple. For example, let us find the datatype of the $1^{st}$ column name:"
   ]
  },
  {
   "cell_type": "code",
   "execution_count": 223,
   "id": "6f856782",
   "metadata": {},
   "outputs": [
    {
     "data": {
      "text/plain": [
       "('Illinois', 'Evanston')"
      ]
     },
     "execution_count": 223,
     "metadata": {},
     "output_type": "execute_result"
    }
   ],
   "source": [
    "#First column name\n",
    "df_example.columns[0]"
   ]
  },
  {
   "cell_type": "code",
   "execution_count": 220,
   "id": "5d5c4e86",
   "metadata": {},
   "outputs": [
    {
     "data": {
      "text/plain": [
       "tuple"
      ]
     },
     "execution_count": 220,
     "metadata": {},
     "output_type": "execute_result"
    }
   ],
   "source": [
    "#Datatype of first column name\n",
    "type(df_example.columns[0])"
   ]
  },
  {
   "cell_type": "markdown",
   "id": "8b8f5123",
   "metadata": {},
   "source": [
    "Thus columns at the inner levels can be accessed by specifying the name as a tuple. For example, let us subset the column `Evanston`:"
   ]
  },
  {
   "cell_type": "code",
   "execution_count": 225,
   "id": "7e62af80",
   "metadata": {},
   "outputs": [
    {
     "data": {
      "text/plain": [
       "Information type  Statistic        \n",
       "Demographics      Population           771517.0\n",
       "                  Unemployement (%)         4.2\n",
       "Geography         Area (mile-sq)            7.8\n",
       "                  Elevation (feet)       6749.0\n",
       "Name: (Illinois, Evanston), dtype: float64"
      ]
     },
     "execution_count": 225,
     "metadata": {},
     "output_type": "execute_result"
    }
   ],
   "source": [
    "#Subsetting the column 'Evanston'\n",
    "df_example[('Illinois','Evanston')]"
   ]
  },
  {
   "cell_type": "code",
   "execution_count": 254,
   "id": "84bc3bc5",
   "metadata": {},
   "outputs": [
    {
     "data": {
      "text/html": [
       "<div>\n",
       "<style scoped>\n",
       "    .dataframe tbody tr th:only-of-type {\n",
       "        vertical-align: middle;\n",
       "    }\n",
       "\n",
       "    .dataframe tbody tr th {\n",
       "        vertical-align: top;\n",
       "    }\n",
       "\n",
       "    .dataframe thead tr th {\n",
       "        text-align: left;\n",
       "    }\n",
       "\n",
       "    .dataframe thead tr:last-of-type th {\n",
       "        text-align: right;\n",
       "    }\n",
       "</style>\n",
       "<table border=\"1\" class=\"dataframe\">\n",
       "  <thead>\n",
       "    <tr>\n",
       "      <th></th>\n",
       "      <th>State</th>\n",
       "      <th colspan=\"2\" halign=\"left\">Illinois</th>\n",
       "    </tr>\n",
       "    <tr>\n",
       "      <th></th>\n",
       "      <th>City</th>\n",
       "      <th>Evanston</th>\n",
       "      <th>Chicago</th>\n",
       "    </tr>\n",
       "    <tr>\n",
       "      <th>Information type</th>\n",
       "      <th>Statistic</th>\n",
       "      <th></th>\n",
       "      <th></th>\n",
       "    </tr>\n",
       "  </thead>\n",
       "  <tbody>\n",
       "    <tr>\n",
       "      <th rowspan=\"2\" valign=\"top\">Demographics</th>\n",
       "      <th>Population</th>\n",
       "      <td>771517.0</td>\n",
       "      <td>2697000.0</td>\n",
       "    </tr>\n",
       "    <tr>\n",
       "      <th>Unemployement (%)</th>\n",
       "      <td>4.2</td>\n",
       "      <td>5.6</td>\n",
       "    </tr>\n",
       "    <tr>\n",
       "      <th rowspan=\"2\" valign=\"top\">Geography</th>\n",
       "      <th>Area (mile-sq)</th>\n",
       "      <td>7.8</td>\n",
       "      <td>234.5</td>\n",
       "    </tr>\n",
       "    <tr>\n",
       "      <th>Elevation (feet)</th>\n",
       "      <td>6749.0</td>\n",
       "      <td>597.0</td>\n",
       "    </tr>\n",
       "  </tbody>\n",
       "</table>\n",
       "</div>"
      ],
      "text/plain": [
       "State                               Illinois           \n",
       "City                                Evanston    Chicago\n",
       "Information type Statistic                             \n",
       "Demographics     Population         771517.0  2697000.0\n",
       "                 Unemployement (%)       4.2        5.6\n",
       "Geography        Area (mile-sq)          7.8      234.5\n",
       "                 Elevation (feet)     6749.0      597.0"
      ]
     },
     "execution_count": 254,
     "metadata": {},
     "output_type": "execute_result"
    }
   ],
   "source": [
    "#Subsetting the columns 'Evanston' and 'Chicago' of the outer column level 'Illinois'\n",
    "df_example.loc[:,('Illinois',['Evanston','Chicago'])]"
   ]
  },
  {
   "cell_type": "markdown",
   "id": "a86f0815",
   "metadata": {},
   "source": [
    "### Practice exercise 1"
   ]
  },
  {
   "cell_type": "markdown",
   "id": "45366d6e",
   "metadata": {},
   "source": [
    "Read the table consisting of GDP per capita of countries from the webpage: https://en.wikipedia.org/wiki/List_of_countries_by_GDP_(nominal)_per_capita . \n",
    "\n",
    "To only read the relevant table, read the tables that contain the word *'Country'*. \n",
    "\n",
    "#### \n",
    "How many levels of indexing are there in the rows and columns?"
   ]
  },
  {
   "cell_type": "code",
   "execution_count": null,
   "id": "ffe96485",
   "metadata": {},
   "outputs": [],
   "source": [
    "#| echo: false\n",
    "#| eval: false\n",
    "\n",
    "dfs = pd.read_html('https://en.wikipedia.org/wiki/List_of_countries_by_GDP_(nominal)_per_capita', match = 'Country')\n",
    "gdp_per_capita = dfs[0]\n",
    "gdp_per_capita"
   ]
  },
  {
   "cell_type": "markdown",
   "id": "da827cbc",
   "metadata": {},
   "source": [
    "#### \n",
    "Subset a DataFrame that select the country, and the United Nations estimates of GDP per capita with the corresponding year."
   ]
  },
  {
   "cell_type": "code",
   "execution_count": null,
   "id": "ef3d8d1e",
   "metadata": {},
   "outputs": [],
   "source": [
    "#| echo: false\n",
    "#| eval: false\n",
    "gdp_per_capita.loc[:,['Country/Territory','United Nations[6]']]"
   ]
  },
  {
   "cell_type": "markdown",
   "id": "4962c32b",
   "metadata": {},
   "source": [
    "#### \n",
    "Subset a DataFrame that select only the World Bank and United Nations estimates of GDP per capita without the corresponding year or country."
   ]
  },
  {
   "cell_type": "code",
   "execution_count": null,
   "id": "ad696437",
   "metadata": {},
   "outputs": [],
   "source": [
    "#| echo: false\n",
    "#| eval: false\n",
    "gdp_per_capita.loc[:,(['World Bank[5]','United Nations[6]'],'Estimate')]"
   ]
  },
  {
   "cell_type": "markdown",
   "id": "63eb32d4",
   "metadata": {},
   "source": [
    "#### \n",
    "Subset a DataFrame that select the country and only the World Bank and United Nations estimates of GDP per capita without the corresponding year or country."
   ]
  },
  {
   "cell_type": "code",
   "execution_count": null,
   "id": "3a67d3da",
   "metadata": {},
   "outputs": [],
   "source": [
    "#| echo: false\n",
    "#| eval: false\n",
    "gdp_per_capita.loc[:,[('Country/Territory','Country/Territory'),('United Nations[6]','Estimate'),('World Bank[5]','Estimate')]]"
   ]
  },
  {
   "cell_type": "markdown",
   "id": "f0281c1b",
   "metadata": {},
   "source": [
    "#### \n",
    "Drop all columns consisting of years. Use the `level` argument of the `drop()` method."
   ]
  },
  {
   "cell_type": "code",
   "execution_count": null,
   "id": "1b00819e",
   "metadata": {},
   "outputs": [],
   "source": [
    "#| echo: false\n",
    "#| eval: false\n",
    "gdp_per_capita = gdp_per_capita.drop(columns='Year',level=1)\n",
    "gdp_per_capita"
   ]
  },
  {
   "cell_type": "markdown",
   "id": "208fbd95",
   "metadata": {},
   "source": [
    "#### \n",
    "In the dataset obtained above, drop the outer level of the column labels. Use the [`droplevel()`](https://pandas.pydata.org/docs/reference/api/pandas.DataFrame.droplevel.html) method."
   ]
  },
  {
   "cell_type": "code",
   "execution_count": null,
   "id": "e2438f4f",
   "metadata": {},
   "outputs": [],
   "source": [
    "#| echo: false\n",
    "#| eval: false\n",
    "gdp_per_capita.droplevel(1,axis=1)"
   ]
  },
  {
   "cell_type": "markdown",
   "id": "7736a83f",
   "metadata": {},
   "source": [
    "### Practice exercise 2"
   ]
  },
  {
   "cell_type": "markdown",
   "id": "55b3177d",
   "metadata": {},
   "source": [
    "Recall problem [2(e)](https://nustat.github.io/DataScience_Intro_python/Assignment%203%20(Pandas).html#e-1) from assignment 3 on Pandas, where we needed to find the African country that is the closest to country $G$ (Luxembourg) with regard to social indicators. \n",
    "\n",
    "We will solve the question with the regular way in which we use single level of indexing (as you probably did during this assignment), and see if it is easier to do with hierarchical indexing."
   ]
  },
  {
   "cell_type": "markdown",
   "id": "de75a7ce",
   "metadata": {},
   "source": [
    "Execute the code below that we used to pre-process data to make it suitable for answering this question."
   ]
  },
  {
   "cell_type": "code",
   "execution_count": 346,
   "id": "89994966",
   "metadata": {},
   "outputs": [],
   "source": [
    "#Pre-processing data - execute this code\n",
    "social_indicator = pd.read_csv(\"./Datasets/social_indicator.txt\",sep=\"\\t\",index_col = 0)\n",
    "social_indicator.geographic_location = social_indicator.geographic_location.apply(lambda x: 'Asia' if 'Asia' in x else 'Europe' if 'Europe' in x else 'Africa' if 'Africa' in x else x)\n",
    "social_indicator.rename(columns={'geographic_location':'continent'},inplace=True)\n",
    "social_indicator = social_indicator.sort_index(axis=1)\n",
    "social_indicator.drop(columns=['region','contraception'],inplace=True)"
   ]
  },
  {
   "cell_type": "markdown",
   "id": "95398f87",
   "metadata": {},
   "source": [
    "Below is the code to find the African country that is the closest to country $G$ (Luxembourg) using single level of indexing. Your code in the assignment is probably similar to the one below:"
   ]
  },
  {
   "cell_type": "code",
   "execution_count": 344,
   "id": "7e6fd002",
   "metadata": {},
   "outputs": [
    {
     "data": {
      "text/plain": [
       "'Reunion'"
      ]
     },
     "execution_count": 344,
     "metadata": {},
     "output_type": "execute_result"
    }
   ],
   "source": [
    "#Finding the index of the country G (Luxembourg) that has the maximum GDP per capita\n",
    "country_max_gdp_position = social_indicator.gdpPerCapita.argmax()\n",
    "\n",
    "#Scaling the social indicator dataset\n",
    "social_indicator_scaled = social_indicator.iloc[:,2:].apply(lambda x: (x-x.mean())/(x.std()))\n",
    "\n",
    "#Computing the manhattan distances of all countries from country G (Luxembourg)\n",
    "manhattan_distances = (social_indicator_scaled-social_indicator_scaled.iloc[country_max_gdp_position,:]).abs().sum(axis=1)\n",
    "\n",
    "#Finding the indices of African countries\n",
    "african_countries_indices = social_indicator.loc[social_indicator.continent=='Africa',:].index\n",
    "\n",
    "#Filtering the manhattan distances of African countries from country G (Luxembourg)\n",
    "manhattan_distances_African = manhattan_distances[african_countries_indices]\n",
    "\n",
    "#Finding the country among African countries that has the least Manhattan distance to country G (Luxembourg)\n",
    "social_indicator.loc[manhattan_distances_African.idxmin(),'country']"
   ]
  },
  {
   "cell_type": "markdown",
   "id": "afc97bb3",
   "metadata": {},
   "source": [
    "#### \n",
    "\n",
    "Use the method [`set_index()`](https://pandas.pydata.org/docs/reference/api/pandas.DataFrame.set_index.html) to set `continent` and `country` as hierarchical indices of rows. Find the African country that is the closest to country $G$ (Luxembourg) using this hierarchically indexed data. How many lines will be eliminated from the code above? Which lines will be eliminated?\n",
    "\n",
    "**Hint:** Since `continent` and `country` are row indices, you don't need to explicitly find:\n",
    "\n",
    "1. The row index of country $G$ (Luxembourg),\n",
    "\n",
    "2. The row indices of African countries.\n",
    "\n",
    "3. The Manhattan distances for African countries."
   ]
  },
  {
   "cell_type": "code",
   "execution_count": null,
   "id": "d39796d9",
   "metadata": {},
   "outputs": [],
   "source": [
    "#| echo: false\n",
    "#| eval: false\n",
    "\n",
    "social_indicator.set_index(['continent','country'],inplace = True)\n",
    "social_indicator_scaled = social_indicator.apply(lambda x: (x-x.mean())/(x.std()))\n",
    "manhattan_distances = (social_indicator_scaled-social_indicator_scaled.loc[('Europe','Luxembourg'),:]).abs().sum(axis=1)\n",
    "manhattan_distances['Africa'].idxmin()"
   ]
  },
  {
   "cell_type": "markdown",
   "id": "8496c2a7",
   "metadata": {},
   "source": [
    "#### \n",
    "Use the Pandas DataFrame method [`mean()`](https://pandas.pydata.org/docs/reference/api/pandas.DataFrame.mean.html) with the *level* argument to find the mean value of all social indicators for each continent."
   ]
  },
  {
   "cell_type": "code",
   "execution_count": 350,
   "id": "9c9144cd",
   "metadata": {},
   "outputs": [
    {
     "data": {
      "text/html": [
       "<div>\n",
       "<style scoped>\n",
       "    .dataframe tbody tr th:only-of-type {\n",
       "        vertical-align: middle;\n",
       "    }\n",
       "\n",
       "    .dataframe tbody tr th {\n",
       "        vertical-align: top;\n",
       "    }\n",
       "\n",
       "    .dataframe thead th {\n",
       "        text-align: right;\n",
       "    }\n",
       "</style>\n",
       "<table border=\"1\" class=\"dataframe\">\n",
       "  <thead>\n",
       "    <tr style=\"text-align: right;\">\n",
       "      <th></th>\n",
       "      <th>economicActivityFemale</th>\n",
       "      <th>economicActivityMale</th>\n",
       "      <th>gdpPerCapita</th>\n",
       "      <th>illiteracyFemale</th>\n",
       "      <th>illiteracyMale</th>\n",
       "      <th>infantMortality</th>\n",
       "      <th>lifeFemale</th>\n",
       "      <th>lifeMale</th>\n",
       "      <th>totalfertilityrate</th>\n",
       "    </tr>\n",
       "    <tr>\n",
       "      <th>continent</th>\n",
       "      <th></th>\n",
       "      <th></th>\n",
       "      <th></th>\n",
       "      <th></th>\n",
       "      <th></th>\n",
       "      <th></th>\n",
       "      <th></th>\n",
       "      <th></th>\n",
       "      <th></th>\n",
       "    </tr>\n",
       "  </thead>\n",
       "  <tbody>\n",
       "    <tr>\n",
       "      <th>Asia</th>\n",
       "      <td>41.592683</td>\n",
       "      <td>79.282927</td>\n",
       "      <td>27796.390244</td>\n",
       "      <td>23.635951</td>\n",
       "      <td>13.780878</td>\n",
       "      <td>39.853659</td>\n",
       "      <td>70.724390</td>\n",
       "      <td>66.575610</td>\n",
       "      <td>3.482927</td>\n",
       "    </tr>\n",
       "    <tr>\n",
       "      <th>Africa</th>\n",
       "      <td>46.732258</td>\n",
       "      <td>79.445161</td>\n",
       "      <td>7127.483871</td>\n",
       "      <td>52.907226</td>\n",
       "      <td>33.673548</td>\n",
       "      <td>77.967742</td>\n",
       "      <td>56.841935</td>\n",
       "      <td>53.367742</td>\n",
       "      <td>4.889677</td>\n",
       "    </tr>\n",
       "    <tr>\n",
       "      <th>Oceania</th>\n",
       "      <td>51.280000</td>\n",
       "      <td>77.953333</td>\n",
       "      <td>14525.666667</td>\n",
       "      <td>9.666667</td>\n",
       "      <td>6.585200</td>\n",
       "      <td>23.666667</td>\n",
       "      <td>72.406667</td>\n",
       "      <td>67.813333</td>\n",
       "      <td>3.509333</td>\n",
       "    </tr>\n",
       "    <tr>\n",
       "      <th>North America</th>\n",
       "      <td>45.238095</td>\n",
       "      <td>77.166667</td>\n",
       "      <td>18609.047619</td>\n",
       "      <td>17.390286</td>\n",
       "      <td>14.609905</td>\n",
       "      <td>22.904762</td>\n",
       "      <td>75.457143</td>\n",
       "      <td>70.161905</td>\n",
       "      <td>2.804286</td>\n",
       "    </tr>\n",
       "    <tr>\n",
       "      <th>South America</th>\n",
       "      <td>42.008333</td>\n",
       "      <td>75.575000</td>\n",
       "      <td>15925.916667</td>\n",
       "      <td>9.991667</td>\n",
       "      <td>6.750000</td>\n",
       "      <td>34.750000</td>\n",
       "      <td>72.691667</td>\n",
       "      <td>66.975000</td>\n",
       "      <td>2.872500</td>\n",
       "    </tr>\n",
       "    <tr>\n",
       "      <th>Europe</th>\n",
       "      <td>52.060000</td>\n",
       "      <td>70.291429</td>\n",
       "      <td>45438.200000</td>\n",
       "      <td>2.308343</td>\n",
       "      <td>1.413543</td>\n",
       "      <td>10.571429</td>\n",
       "      <td>77.757143</td>\n",
       "      <td>70.374286</td>\n",
       "      <td>1.581714</td>\n",
       "    </tr>\n",
       "  </tbody>\n",
       "</table>\n",
       "</div>"
      ],
      "text/plain": [
       "               economicActivityFemale  economicActivityMale  gdpPerCapita  \\\n",
       "continent                                                                   \n",
       "Asia                        41.592683             79.282927  27796.390244   \n",
       "Africa                      46.732258             79.445161   7127.483871   \n",
       "Oceania                     51.280000             77.953333  14525.666667   \n",
       "North America               45.238095             77.166667  18609.047619   \n",
       "South America               42.008333             75.575000  15925.916667   \n",
       "Europe                      52.060000             70.291429  45438.200000   \n",
       "\n",
       "               illiteracyFemale  illiteracyMale  infantMortality  lifeFemale  \\\n",
       "continent                                                                      \n",
       "Asia                  23.635951       13.780878        39.853659   70.724390   \n",
       "Africa                52.907226       33.673548        77.967742   56.841935   \n",
       "Oceania                9.666667        6.585200        23.666667   72.406667   \n",
       "North America         17.390286       14.609905        22.904762   75.457143   \n",
       "South America          9.991667        6.750000        34.750000   72.691667   \n",
       "Europe                 2.308343        1.413543        10.571429   77.757143   \n",
       "\n",
       "                lifeMale  totalfertilityrate  \n",
       "continent                                     \n",
       "Asia           66.575610            3.482927  \n",
       "Africa         53.367742            4.889677  \n",
       "Oceania        67.813333            3.509333  \n",
       "North America  70.161905            2.804286  \n",
       "South America  66.975000            2.872500  \n",
       "Europe         70.374286            1.581714  "
      ]
     },
     "execution_count": 350,
     "metadata": {},
     "output_type": "execute_result"
    }
   ],
   "source": [
    "social_indicator.mean(level=0)"
   ]
  },
  {
   "cell_type": "markdown",
   "id": "803c0fea",
   "metadata": {},
   "source": [
    "### Practice exercise 3"
   ]
  },
  {
   "cell_type": "markdown",
   "id": "13720211",
   "metadata": {},
   "source": [
    "Let us try to find the areas where NU students lack in diversity. Read *survey_data_clean.csv*. Use hierarchical indexing to classify the columns as follows:"
   ]
  },
  {
   "cell_type": "markdown",
   "id": "6ebace37",
   "metadata": {},
   "source": [
    "Classify the following variables as *lifestyle*:"
   ]
  },
  {
   "cell_type": "code",
   "execution_count": 213,
   "id": "e989b8e3",
   "metadata": {},
   "outputs": [],
   "source": [
    "lifestyle = ['fav_alcohol', 'parties_per_month', 'smoke', 'weed','streaming_platforms', 'minutes_ex_per_week',\n",
    "       'sleep_hours_per_day', 'internet_hours_per_day', 'procrastinator', 'num_clubs','student_athlete','social_media']"
   ]
  },
  {
   "cell_type": "markdown",
   "id": "66e737e3",
   "metadata": {},
   "source": [
    "Classify the following variables as *personality*:"
   ]
  },
  {
   "cell_type": "code",
   "execution_count": null,
   "id": "b2e65740",
   "metadata": {},
   "outputs": [],
   "source": [
    "personality = ['introvert_extrovert', 'left_right_brained', 'personality_type', \n",
    "       'num_insta_followers', 'fav_sport','learning_style','dominant_hand']"
   ]
  },
  {
   "cell_type": "markdown",
   "id": "cac89de7",
   "metadata": {},
   "source": [
    "Classify the following variables as *opinion*:"
   ]
  },
  {
   "cell_type": "code",
   "execution_count": null,
   "id": "7652d669",
   "metadata": {},
   "outputs": [],
   "source": [
    "opinion = ['love_first_sight', 'expected_marriage_age',  'expected_starting_salary', 'how_happy', \n",
    "       'fav_number', 'fav_letter', 'fav_season',   'political_affliation', 'cant_change_math_ability',\n",
    "       'can_change_math_ability', 'math_is_genetic', 'much_effort_is_lack_of_talent']"
   ]
  },
  {
   "cell_type": "markdown",
   "id": "f40727a3",
   "metadata": {},
   "source": [
    "Classify the following variables as *academic information*:"
   ]
  },
  {
   "cell_type": "code",
   "execution_count": null,
   "id": "5ad0788b",
   "metadata": {},
   "outputs": [],
   "source": [
    "academic_info = ['major', 'num_majors_minors',\n",
    "       'high_school_GPA', 'NU_GPA', 'school_year','AP_stats', 'used_python_before']"
   ]
  },
  {
   "cell_type": "markdown",
   "id": "a850ccc7",
   "metadata": {},
   "source": [
    "Classify the following variables as *demographics*:"
   ]
  },
  {
   "cell_type": "code",
   "execution_count": 214,
   "id": "4e3150d0",
   "metadata": {},
   "outputs": [],
   "source": [
    "demographics = [ 'only_child','birth_month', \n",
    "       'living_location_on_campus', 'age', 'height', 'height_father',\n",
    "       'height_mother',  'childhood_in_US', 'gender', 'region_of_residence']"
   ]
  },
  {
   "cell_type": "markdown",
   "id": "b6673375",
   "metadata": {},
   "source": [
    "Write a function that finds the number of variables having outliers in a dataset. Apply the function on each of the 5 categories of variables in the dataset. Our hypothesis is that the category that has the maximum number of variables with outliers has the least amount of diversity."
   ]
  },
  {
   "cell_type": "markdown",
   "id": "24ec465e",
   "metadata": {},
   "source": [
    "### Reshaping data"
   ]
  },
  {
   "cell_type": "markdown",
   "id": "13e363ad",
   "metadata": {},
   "source": [
    "Apart from ease in subsetting data, hierarchical indexing also plays a role in reshaping data."
   ]
  },
  {
   "cell_type": "markdown",
   "id": "28da384f",
   "metadata": {},
   "source": [
    "#### [`unstack()`](https://pandas.pydata.org/docs/reference/api/pandas.Series.unstack.html) (Pandas Series method)\n",
    "The Pandas Series method `unstack()` pivots the desired level of row indices to columns, thereby creating a DataFrame. By default, the inner-most level of the row labels is pivoed."
   ]
  },
  {
   "cell_type": "code",
   "execution_count": 52,
   "id": "e92dc45a",
   "metadata": {},
   "outputs": [
    {
     "data": {
      "text/html": [
       "<div>\n",
       "<style scoped>\n",
       "    .dataframe tbody tr th:only-of-type {\n",
       "        vertical-align: middle;\n",
       "    }\n",
       "\n",
       "    .dataframe tbody tr th {\n",
       "        vertical-align: top;\n",
       "    }\n",
       "\n",
       "    .dataframe thead th {\n",
       "        text-align: right;\n",
       "    }\n",
       "</style>\n",
       "<table border=\"1\" class=\"dataframe\">\n",
       "  <thead>\n",
       "    <tr style=\"text-align: right;\">\n",
       "      <th></th>\n",
       "      <th>1</th>\n",
       "      <th>2</th>\n",
       "      <th>3</th>\n",
       "      <th>4</th>\n",
       "      <th>5</th>\n",
       "    </tr>\n",
       "  </thead>\n",
       "  <tbody>\n",
       "    <tr>\n",
       "      <th>English</th>\n",
       "      <td>these</td>\n",
       "      <td>are</td>\n",
       "      <td>english</td>\n",
       "      <td>words</td>\n",
       "      <td>NaN</td>\n",
       "    </tr>\n",
       "    <tr>\n",
       "      <th>French</th>\n",
       "      <td>ce</td>\n",
       "      <td>sont</td>\n",
       "      <td>des</td>\n",
       "      <td>françai</td>\n",
       "      <td>mots</td>\n",
       "    </tr>\n",
       "    <tr>\n",
       "      <th>Spanish</th>\n",
       "      <td>estas</td>\n",
       "      <td>son</td>\n",
       "      <td>palabras</td>\n",
       "      <td>en</td>\n",
       "      <td>español</td>\n",
       "    </tr>\n",
       "  </tbody>\n",
       "</table>\n",
       "</div>"
      ],
      "text/plain": [
       "             1     2         3        4        5\n",
       "English  these   are   english    words      NaN\n",
       "French      ce  sont       des  françai     mots\n",
       "Spanish  estas   son  palabras       en  español"
      ]
     },
     "execution_count": 52,
     "metadata": {},
     "output_type": "execute_result"
    }
   ],
   "source": [
    "#Pivoting the inner-most Series row index to column labels\n",
    "series_example_unstack = series_example.unstack()\n",
    "series_example_unstack"
   ]
  },
  {
   "cell_type": "markdown",
   "id": "250d1a43",
   "metadata": {},
   "source": [
    "We can pivot the outer level of the row labels by specifying it in the `level` argument:"
   ]
  },
  {
   "cell_type": "code",
   "execution_count": 192,
   "id": "a58e87c7",
   "metadata": {},
   "outputs": [
    {
     "data": {
      "text/html": [
       "<div>\n",
       "<style scoped>\n",
       "    .dataframe tbody tr th:only-of-type {\n",
       "        vertical-align: middle;\n",
       "    }\n",
       "\n",
       "    .dataframe tbody tr th {\n",
       "        vertical-align: top;\n",
       "    }\n",
       "\n",
       "    .dataframe thead th {\n",
       "        text-align: right;\n",
       "    }\n",
       "</style>\n",
       "<table border=\"1\" class=\"dataframe\">\n",
       "  <thead>\n",
       "    <tr style=\"text-align: right;\">\n",
       "      <th></th>\n",
       "      <th>English</th>\n",
       "      <th>French</th>\n",
       "      <th>Spanish</th>\n",
       "    </tr>\n",
       "  </thead>\n",
       "  <tbody>\n",
       "    <tr>\n",
       "      <th>1</th>\n",
       "      <td>these</td>\n",
       "      <td>ce</td>\n",
       "      <td>estas</td>\n",
       "    </tr>\n",
       "    <tr>\n",
       "      <th>2</th>\n",
       "      <td>are</td>\n",
       "      <td>sont</td>\n",
       "      <td>son</td>\n",
       "    </tr>\n",
       "    <tr>\n",
       "      <th>3</th>\n",
       "      <td>english</td>\n",
       "      <td>des</td>\n",
       "      <td>palabras</td>\n",
       "    </tr>\n",
       "    <tr>\n",
       "      <th>4</th>\n",
       "      <td>words</td>\n",
       "      <td>françai</td>\n",
       "      <td>en</td>\n",
       "    </tr>\n",
       "    <tr>\n",
       "      <th>5</th>\n",
       "      <td>NaN</td>\n",
       "      <td>mots</td>\n",
       "      <td>español</td>\n",
       "    </tr>\n",
       "  </tbody>\n",
       "</table>\n",
       "</div>"
      ],
      "text/plain": [
       "   English   French   Spanish\n",
       "1    these       ce     estas\n",
       "2      are     sont       son\n",
       "3  english      des  palabras\n",
       "4    words  françai        en\n",
       "5      NaN     mots   español"
      ]
     },
     "execution_count": 192,
     "metadata": {},
     "output_type": "execute_result"
    }
   ],
   "source": [
    "#Pivoting the outer row indices to column labels\n",
    "series_example_unstack = series_example.unstack(level=0)\n",
    "series_example_unstack"
   ]
  },
  {
   "cell_type": "markdown",
   "id": "463caada",
   "metadata": {},
   "source": [
    "#### [`unstack()`](https://pandas.pydata.org/docs/reference/api/pandas.DataFrame.unstack.html) (Pandas DataFrame method)\n",
    "The Pandas DataFrame method `unstack()` pivots the specifid level of row indices to the new innemost level of column labels. By-default, the inner-most level of the row labels is pivoted."
   ]
  },
  {
   "cell_type": "code",
   "execution_count": 181,
   "id": "df00f48c",
   "metadata": {},
   "outputs": [
    {
     "data": {
      "text/html": [
       "<div>\n",
       "<style scoped>\n",
       "    .dataframe tbody tr th:only-of-type {\n",
       "        vertical-align: middle;\n",
       "    }\n",
       "\n",
       "    .dataframe tbody tr th {\n",
       "        vertical-align: top;\n",
       "    }\n",
       "\n",
       "    .dataframe thead tr th {\n",
       "        text-align: left;\n",
       "    }\n",
       "\n",
       "    .dataframe thead tr:last-of-type th {\n",
       "        text-align: right;\n",
       "    }\n",
       "</style>\n",
       "<table border=\"1\" class=\"dataframe\">\n",
       "  <thead>\n",
       "    <tr>\n",
       "      <th>State</th>\n",
       "      <th colspan=\"8\" halign=\"left\">Illinois</th>\n",
       "      <th colspan=\"8\" halign=\"left\">California</th>\n",
       "    </tr>\n",
       "    <tr>\n",
       "      <th>City</th>\n",
       "      <th colspan=\"4\" halign=\"left\">Evanston</th>\n",
       "      <th colspan=\"4\" halign=\"left\">Chicago</th>\n",
       "      <th colspan=\"4\" halign=\"left\">San Francisco</th>\n",
       "      <th colspan=\"4\" halign=\"left\">Los Angeles</th>\n",
       "    </tr>\n",
       "    <tr>\n",
       "      <th>Statistic</th>\n",
       "      <th>Area (mile-sq)</th>\n",
       "      <th>Elevation (feet)</th>\n",
       "      <th>Population</th>\n",
       "      <th>Unemployement (%)</th>\n",
       "      <th>Area (mile-sq)</th>\n",
       "      <th>Elevation (feet)</th>\n",
       "      <th>Population</th>\n",
       "      <th>Unemployement (%)</th>\n",
       "      <th>Area (mile-sq)</th>\n",
       "      <th>Elevation (feet)</th>\n",
       "      <th>Population</th>\n",
       "      <th>Unemployement (%)</th>\n",
       "      <th>Area (mile-sq)</th>\n",
       "      <th>Elevation (feet)</th>\n",
       "      <th>Population</th>\n",
       "      <th>Unemployement (%)</th>\n",
       "    </tr>\n",
       "    <tr>\n",
       "      <th>Information type</th>\n",
       "      <th></th>\n",
       "      <th></th>\n",
       "      <th></th>\n",
       "      <th></th>\n",
       "      <th></th>\n",
       "      <th></th>\n",
       "      <th></th>\n",
       "      <th></th>\n",
       "      <th></th>\n",
       "      <th></th>\n",
       "      <th></th>\n",
       "      <th></th>\n",
       "      <th></th>\n",
       "      <th></th>\n",
       "      <th></th>\n",
       "      <th></th>\n",
       "    </tr>\n",
       "  </thead>\n",
       "  <tbody>\n",
       "    <tr>\n",
       "      <th>Demographics</th>\n",
       "      <td>NaN</td>\n",
       "      <td>NaN</td>\n",
       "      <td>771517.0</td>\n",
       "      <td>4.2</td>\n",
       "      <td>NaN</td>\n",
       "      <td>NaN</td>\n",
       "      <td>2697000.0</td>\n",
       "      <td>5.6</td>\n",
       "      <td>NaN</td>\n",
       "      <td>NaN</td>\n",
       "      <td>815201.0</td>\n",
       "      <td>2.8</td>\n",
       "      <td>NaN</td>\n",
       "      <td>NaN</td>\n",
       "      <td>3849000.0</td>\n",
       "      <td>4.6</td>\n",
       "    </tr>\n",
       "    <tr>\n",
       "      <th>Geography</th>\n",
       "      <td>7.8</td>\n",
       "      <td>6749.0</td>\n",
       "      <td>NaN</td>\n",
       "      <td>NaN</td>\n",
       "      <td>234.5</td>\n",
       "      <td>597.0</td>\n",
       "      <td>NaN</td>\n",
       "      <td>NaN</td>\n",
       "      <td>46.9</td>\n",
       "      <td>52.0</td>\n",
       "      <td>NaN</td>\n",
       "      <td>NaN</td>\n",
       "      <td>502.0</td>\n",
       "      <td>305.0</td>\n",
       "      <td>NaN</td>\n",
       "      <td>NaN</td>\n",
       "    </tr>\n",
       "  </tbody>\n",
       "</table>\n",
       "</div>"
      ],
      "text/plain": [
       "State                  Illinois                                                \\\n",
       "City                   Evanston                                                 \n",
       "Statistic        Area (mile-sq) Elevation (feet) Population Unemployement (%)   \n",
       "Information type                                                                \n",
       "Demographics                NaN              NaN   771517.0               4.2   \n",
       "Geography                   7.8           6749.0        NaN               NaN   \n",
       "\n",
       "State                                                                          \\\n",
       "City                    Chicago                                                 \n",
       "Statistic        Area (mile-sq) Elevation (feet) Population Unemployement (%)   \n",
       "Information type                                                                \n",
       "Demographics                NaN              NaN  2697000.0               5.6   \n",
       "Geography                 234.5            597.0        NaN               NaN   \n",
       "\n",
       "State                California                                                \\\n",
       "City              San Francisco                                                 \n",
       "Statistic        Area (mile-sq) Elevation (feet) Population Unemployement (%)   \n",
       "Information type                                                                \n",
       "Demographics                NaN              NaN   815201.0               2.8   \n",
       "Geography                  46.9             52.0        NaN               NaN   \n",
       "\n",
       "State                                                                          \n",
       "City                Los Angeles                                                \n",
       "Statistic        Area (mile-sq) Elevation (feet) Population Unemployement (%)  \n",
       "Information type                                                               \n",
       "Demographics                NaN              NaN  3849000.0               4.6  \n",
       "Geography                 502.0            305.0        NaN               NaN  "
      ]
     },
     "execution_count": 181,
     "metadata": {},
     "output_type": "execute_result"
    }
   ],
   "source": [
    "#Pivoting the inner level of row labels to the inner-most level of column labels\n",
    "df_example.unstack()"
   ]
  },
  {
   "cell_type": "markdown",
   "id": "4d904961",
   "metadata": {},
   "source": [
    "As with Series, we can pivot the outer level of the row labels by specifying it in the `level` argument:"
   ]
  },
  {
   "cell_type": "code",
   "execution_count": 188,
   "id": "6346aa03",
   "metadata": {},
   "outputs": [
    {
     "data": {
      "text/html": [
       "<div>\n",
       "<style scoped>\n",
       "    .dataframe tbody tr th:only-of-type {\n",
       "        vertical-align: middle;\n",
       "    }\n",
       "\n",
       "    .dataframe tbody tr th {\n",
       "        vertical-align: top;\n",
       "    }\n",
       "\n",
       "    .dataframe thead tr th {\n",
       "        text-align: left;\n",
       "    }\n",
       "\n",
       "    .dataframe thead tr:last-of-type th {\n",
       "        text-align: right;\n",
       "    }\n",
       "</style>\n",
       "<table border=\"1\" class=\"dataframe\">\n",
       "  <thead>\n",
       "    <tr>\n",
       "      <th>State</th>\n",
       "      <th colspan=\"4\" halign=\"left\">Illinois</th>\n",
       "      <th colspan=\"4\" halign=\"left\">California</th>\n",
       "    </tr>\n",
       "    <tr>\n",
       "      <th>City</th>\n",
       "      <th colspan=\"2\" halign=\"left\">Evanston</th>\n",
       "      <th colspan=\"2\" halign=\"left\">Chicago</th>\n",
       "      <th colspan=\"2\" halign=\"left\">San Francisco</th>\n",
       "      <th colspan=\"2\" halign=\"left\">Los Angeles</th>\n",
       "    </tr>\n",
       "    <tr>\n",
       "      <th>Information type</th>\n",
       "      <th>Demographics</th>\n",
       "      <th>Geography</th>\n",
       "      <th>Demographics</th>\n",
       "      <th>Geography</th>\n",
       "      <th>Demographics</th>\n",
       "      <th>Geography</th>\n",
       "      <th>Demographics</th>\n",
       "      <th>Geography</th>\n",
       "    </tr>\n",
       "    <tr>\n",
       "      <th>Statistic</th>\n",
       "      <th></th>\n",
       "      <th></th>\n",
       "      <th></th>\n",
       "      <th></th>\n",
       "      <th></th>\n",
       "      <th></th>\n",
       "      <th></th>\n",
       "      <th></th>\n",
       "    </tr>\n",
       "  </thead>\n",
       "  <tbody>\n",
       "    <tr>\n",
       "      <th>Area (mile-sq)</th>\n",
       "      <td>NaN</td>\n",
       "      <td>7.8</td>\n",
       "      <td>NaN</td>\n",
       "      <td>234.5</td>\n",
       "      <td>NaN</td>\n",
       "      <td>46.9</td>\n",
       "      <td>NaN</td>\n",
       "      <td>502.0</td>\n",
       "    </tr>\n",
       "    <tr>\n",
       "      <th>Elevation (feet)</th>\n",
       "      <td>NaN</td>\n",
       "      <td>6749.0</td>\n",
       "      <td>NaN</td>\n",
       "      <td>597.0</td>\n",
       "      <td>NaN</td>\n",
       "      <td>52.0</td>\n",
       "      <td>NaN</td>\n",
       "      <td>305.0</td>\n",
       "    </tr>\n",
       "    <tr>\n",
       "      <th>Population</th>\n",
       "      <td>771517.0</td>\n",
       "      <td>NaN</td>\n",
       "      <td>2697000.0</td>\n",
       "      <td>NaN</td>\n",
       "      <td>815201.0</td>\n",
       "      <td>NaN</td>\n",
       "      <td>3849000.0</td>\n",
       "      <td>NaN</td>\n",
       "    </tr>\n",
       "    <tr>\n",
       "      <th>Unemployement (%)</th>\n",
       "      <td>4.2</td>\n",
       "      <td>NaN</td>\n",
       "      <td>5.6</td>\n",
       "      <td>NaN</td>\n",
       "      <td>2.8</td>\n",
       "      <td>NaN</td>\n",
       "      <td>4.6</td>\n",
       "      <td>NaN</td>\n",
       "    </tr>\n",
       "  </tbody>\n",
       "</table>\n",
       "</div>"
      ],
      "text/plain": [
       "State                 Illinois                                     California  \\\n",
       "City                  Evanston                Chicago           San Francisco   \n",
       "Information type  Demographics Geography Demographics Geography  Demographics   \n",
       "Statistic                                                                       \n",
       "Area (mile-sq)             NaN       7.8          NaN     234.5           NaN   \n",
       "Elevation (feet)           NaN    6749.0          NaN     597.0           NaN   \n",
       "Population            771517.0       NaN    2697000.0       NaN      815201.0   \n",
       "Unemployement (%)          4.2       NaN          5.6       NaN           2.8   \n",
       "\n",
       "State                                               \n",
       "City                         Los Angeles            \n",
       "Information type  Geography Demographics Geography  \n",
       "Statistic                                           \n",
       "Area (mile-sq)         46.9          NaN     502.0  \n",
       "Elevation (feet)       52.0          NaN     305.0  \n",
       "Population              NaN    3849000.0       NaN  \n",
       "Unemployement (%)       NaN          4.6       NaN  "
      ]
     },
     "execution_count": 188,
     "metadata": {},
     "output_type": "execute_result"
    }
   ],
   "source": [
    "#Pivoting the outer level (level = 0) of row labels to the inner-most level of column labels\n",
    "df_example.unstack(level=0)"
   ]
  },
  {
   "cell_type": "markdown",
   "id": "efa6f39b",
   "metadata": {},
   "source": [
    "#### `stack()`\n",
    "\n",
    "The inverse of `unstack()` is the [`stack()`](https://pandas.pydata.org/pandas-docs/stable/reference/api/pandas.DataFrame.stack.html) method, which creates the inner-most level of row indices by pivoting the column labels of the prescribed level."
   ]
  },
  {
   "cell_type": "markdown",
   "id": "aa643f78",
   "metadata": {},
   "source": [
    "Note that if the column labels have only one level, so we don't need to specify a level. "
   ]
  },
  {
   "cell_type": "code",
   "execution_count": 66,
   "id": "e9ea68d2",
   "metadata": {},
   "outputs": [
    {
     "data": {
      "text/plain": [
       "English  1       these\n",
       "         2         are\n",
       "         3     english\n",
       "         4       words\n",
       "French   1          ce\n",
       "         2        sont\n",
       "         3         des\n",
       "         4     françai\n",
       "         5        mots\n",
       "Spanish  1       estas\n",
       "         2         son\n",
       "         3    palabras\n",
       "         4          en\n",
       "         5     español\n",
       "dtype: object"
      ]
     },
     "execution_count": 66,
     "metadata": {},
     "output_type": "execute_result"
    }
   ],
   "source": [
    "#Stacking the columns of a DataFrame\n",
    "series_example_unstack.stack()"
   ]
  },
  {
   "cell_type": "markdown",
   "id": "5a9131b3",
   "metadata": {},
   "source": [
    "However, if the columns have multiple levels, we can specify the level to stack as the inner-most row level. By default, inner-most column level is stacked."
   ]
  },
  {
   "cell_type": "code",
   "execution_count": 195,
   "id": "5300ecb5",
   "metadata": {},
   "outputs": [
    {
     "data": {
      "text/html": [
       "<div>\n",
       "<style scoped>\n",
       "    .dataframe tbody tr th:only-of-type {\n",
       "        vertical-align: middle;\n",
       "    }\n",
       "\n",
       "    .dataframe tbody tr th {\n",
       "        vertical-align: top;\n",
       "    }\n",
       "\n",
       "    .dataframe thead th {\n",
       "        text-align: right;\n",
       "    }\n",
       "</style>\n",
       "<table border=\"1\" class=\"dataframe\">\n",
       "  <thead>\n",
       "    <tr style=\"text-align: right;\">\n",
       "      <th></th>\n",
       "      <th></th>\n",
       "      <th>State</th>\n",
       "      <th>California</th>\n",
       "      <th>Illinois</th>\n",
       "    </tr>\n",
       "    <tr>\n",
       "      <th>Information type</th>\n",
       "      <th>Statistic</th>\n",
       "      <th>City</th>\n",
       "      <th></th>\n",
       "      <th></th>\n",
       "    </tr>\n",
       "  </thead>\n",
       "  <tbody>\n",
       "    <tr>\n",
       "      <th rowspan=\"8\" valign=\"top\">Demographics</th>\n",
       "      <th rowspan=\"4\" valign=\"top\">Population</th>\n",
       "      <th>Chicago</th>\n",
       "      <td>NaN</td>\n",
       "      <td>2697000.0</td>\n",
       "    </tr>\n",
       "    <tr>\n",
       "      <th>Evanston</th>\n",
       "      <td>NaN</td>\n",
       "      <td>771517.0</td>\n",
       "    </tr>\n",
       "    <tr>\n",
       "      <th>Los Angeles</th>\n",
       "      <td>3849000.0</td>\n",
       "      <td>NaN</td>\n",
       "    </tr>\n",
       "    <tr>\n",
       "      <th>San Francisco</th>\n",
       "      <td>815201.0</td>\n",
       "      <td>NaN</td>\n",
       "    </tr>\n",
       "    <tr>\n",
       "      <th rowspan=\"4\" valign=\"top\">Unemployement (%)</th>\n",
       "      <th>Chicago</th>\n",
       "      <td>NaN</td>\n",
       "      <td>5.6</td>\n",
       "    </tr>\n",
       "    <tr>\n",
       "      <th>Evanston</th>\n",
       "      <td>NaN</td>\n",
       "      <td>4.2</td>\n",
       "    </tr>\n",
       "    <tr>\n",
       "      <th>Los Angeles</th>\n",
       "      <td>4.6</td>\n",
       "      <td>NaN</td>\n",
       "    </tr>\n",
       "    <tr>\n",
       "      <th>San Francisco</th>\n",
       "      <td>2.8</td>\n",
       "      <td>NaN</td>\n",
       "    </tr>\n",
       "    <tr>\n",
       "      <th rowspan=\"8\" valign=\"top\">Geography</th>\n",
       "      <th rowspan=\"4\" valign=\"top\">Area (mile-sq)</th>\n",
       "      <th>Chicago</th>\n",
       "      <td>NaN</td>\n",
       "      <td>234.5</td>\n",
       "    </tr>\n",
       "    <tr>\n",
       "      <th>Evanston</th>\n",
       "      <td>NaN</td>\n",
       "      <td>7.8</td>\n",
       "    </tr>\n",
       "    <tr>\n",
       "      <th>Los Angeles</th>\n",
       "      <td>502.0</td>\n",
       "      <td>NaN</td>\n",
       "    </tr>\n",
       "    <tr>\n",
       "      <th>San Francisco</th>\n",
       "      <td>46.9</td>\n",
       "      <td>NaN</td>\n",
       "    </tr>\n",
       "    <tr>\n",
       "      <th rowspan=\"4\" valign=\"top\">Elevation (feet)</th>\n",
       "      <th>Chicago</th>\n",
       "      <td>NaN</td>\n",
       "      <td>597.0</td>\n",
       "    </tr>\n",
       "    <tr>\n",
       "      <th>Evanston</th>\n",
       "      <td>NaN</td>\n",
       "      <td>6749.0</td>\n",
       "    </tr>\n",
       "    <tr>\n",
       "      <th>Los Angeles</th>\n",
       "      <td>305.0</td>\n",
       "      <td>NaN</td>\n",
       "    </tr>\n",
       "    <tr>\n",
       "      <th>San Francisco</th>\n",
       "      <td>52.0</td>\n",
       "      <td>NaN</td>\n",
       "    </tr>\n",
       "  </tbody>\n",
       "</table>\n",
       "</div>"
      ],
      "text/plain": [
       "State                                             California   Illinois\n",
       "Information type Statistic         City                                \n",
       "Demographics     Population        Chicago               NaN  2697000.0\n",
       "                                   Evanston              NaN   771517.0\n",
       "                                   Los Angeles     3849000.0        NaN\n",
       "                                   San Francisco    815201.0        NaN\n",
       "                 Unemployement (%) Chicago               NaN        5.6\n",
       "                                   Evanston              NaN        4.2\n",
       "                                   Los Angeles           4.6        NaN\n",
       "                                   San Francisco         2.8        NaN\n",
       "Geography        Area (mile-sq)    Chicago               NaN      234.5\n",
       "                                   Evanston              NaN        7.8\n",
       "                                   Los Angeles         502.0        NaN\n",
       "                                   San Francisco        46.9        NaN\n",
       "                 Elevation (feet)  Chicago               NaN      597.0\n",
       "                                   Evanston              NaN     6749.0\n",
       "                                   Los Angeles         305.0        NaN\n",
       "                                   San Francisco        52.0        NaN"
      ]
     },
     "execution_count": 195,
     "metadata": {},
     "output_type": "execute_result"
    }
   ],
   "source": [
    "#Stacking the inner-most column labels inner-most row indices\n",
    "df_example.stack()"
   ]
  },
  {
   "cell_type": "code",
   "execution_count": 196,
   "id": "abd0a5cf",
   "metadata": {},
   "outputs": [
    {
     "data": {
      "text/html": [
       "<div>\n",
       "<style scoped>\n",
       "    .dataframe tbody tr th:only-of-type {\n",
       "        vertical-align: middle;\n",
       "    }\n",
       "\n",
       "    .dataframe tbody tr th {\n",
       "        vertical-align: top;\n",
       "    }\n",
       "\n",
       "    .dataframe thead th {\n",
       "        text-align: right;\n",
       "    }\n",
       "</style>\n",
       "<table border=\"1\" class=\"dataframe\">\n",
       "  <thead>\n",
       "    <tr style=\"text-align: right;\">\n",
       "      <th></th>\n",
       "      <th></th>\n",
       "      <th>City</th>\n",
       "      <th>Chicago</th>\n",
       "      <th>Evanston</th>\n",
       "      <th>Los Angeles</th>\n",
       "      <th>San Francisco</th>\n",
       "    </tr>\n",
       "    <tr>\n",
       "      <th>Information type</th>\n",
       "      <th>Statistic</th>\n",
       "      <th>State</th>\n",
       "      <th></th>\n",
       "      <th></th>\n",
       "      <th></th>\n",
       "      <th></th>\n",
       "    </tr>\n",
       "  </thead>\n",
       "  <tbody>\n",
       "    <tr>\n",
       "      <th rowspan=\"4\" valign=\"top\">Demographics</th>\n",
       "      <th rowspan=\"2\" valign=\"top\">Population</th>\n",
       "      <th>California</th>\n",
       "      <td>NaN</td>\n",
       "      <td>NaN</td>\n",
       "      <td>3849000.0</td>\n",
       "      <td>815201.0</td>\n",
       "    </tr>\n",
       "    <tr>\n",
       "      <th>Illinois</th>\n",
       "      <td>2697000.0</td>\n",
       "      <td>771517.0</td>\n",
       "      <td>NaN</td>\n",
       "      <td>NaN</td>\n",
       "    </tr>\n",
       "    <tr>\n",
       "      <th rowspan=\"2\" valign=\"top\">Unemployement (%)</th>\n",
       "      <th>California</th>\n",
       "      <td>NaN</td>\n",
       "      <td>NaN</td>\n",
       "      <td>4.6</td>\n",
       "      <td>2.8</td>\n",
       "    </tr>\n",
       "    <tr>\n",
       "      <th>Illinois</th>\n",
       "      <td>5.6</td>\n",
       "      <td>4.2</td>\n",
       "      <td>NaN</td>\n",
       "      <td>NaN</td>\n",
       "    </tr>\n",
       "    <tr>\n",
       "      <th rowspan=\"4\" valign=\"top\">Geography</th>\n",
       "      <th rowspan=\"2\" valign=\"top\">Area (mile-sq)</th>\n",
       "      <th>California</th>\n",
       "      <td>NaN</td>\n",
       "      <td>NaN</td>\n",
       "      <td>502.0</td>\n",
       "      <td>46.9</td>\n",
       "    </tr>\n",
       "    <tr>\n",
       "      <th>Illinois</th>\n",
       "      <td>234.5</td>\n",
       "      <td>7.8</td>\n",
       "      <td>NaN</td>\n",
       "      <td>NaN</td>\n",
       "    </tr>\n",
       "    <tr>\n",
       "      <th rowspan=\"2\" valign=\"top\">Elevation (feet)</th>\n",
       "      <th>California</th>\n",
       "      <td>NaN</td>\n",
       "      <td>NaN</td>\n",
       "      <td>305.0</td>\n",
       "      <td>52.0</td>\n",
       "    </tr>\n",
       "    <tr>\n",
       "      <th>Illinois</th>\n",
       "      <td>597.0</td>\n",
       "      <td>6749.0</td>\n",
       "      <td>NaN</td>\n",
       "      <td>NaN</td>\n",
       "    </tr>\n",
       "  </tbody>\n",
       "</table>\n",
       "</div>"
      ],
      "text/plain": [
       "City                                             Chicago  Evanston  \\\n",
       "Information type Statistic         State                             \n",
       "Demographics     Population        California        NaN       NaN   \n",
       "                                   Illinois    2697000.0  771517.0   \n",
       "                 Unemployement (%) California        NaN       NaN   \n",
       "                                   Illinois          5.6       4.2   \n",
       "Geography        Area (mile-sq)    California        NaN       NaN   \n",
       "                                   Illinois        234.5       7.8   \n",
       "                 Elevation (feet)  California        NaN       NaN   \n",
       "                                   Illinois        597.0    6749.0   \n",
       "\n",
       "City                                           Los Angeles  San Francisco  \n",
       "Information type Statistic         State                                   \n",
       "Demographics     Population        California    3849000.0       815201.0  \n",
       "                                   Illinois            NaN            NaN  \n",
       "                 Unemployement (%) California          4.6            2.8  \n",
       "                                   Illinois            NaN            NaN  \n",
       "Geography        Area (mile-sq)    California        502.0           46.9  \n",
       "                                   Illinois            NaN            NaN  \n",
       "                 Elevation (feet)  California        305.0           52.0  \n",
       "                                   Illinois            NaN            NaN  "
      ]
     },
     "execution_count": 196,
     "metadata": {},
     "output_type": "execute_result"
    }
   ],
   "source": [
    "#Stacking the outer column labels inner-most row indices\n",
    "df_example.stack(level=0)"
   ]
  },
  {
   "cell_type": "markdown",
   "id": "abaeec37",
   "metadata": {},
   "source": [
    "## Merging data"
   ]
  },
  {
   "cell_type": "markdown",
   "id": "291bb894",
   "metadata": {},
   "source": [
    "The Pandas DataFrame method [merge()](https://pandas.pydata.org/docs/reference/api/pandas.DataFrame.merge.html) uses columns defined as *key* column(s) to merge two datasets. In case the *key* column(s) are not defined, the overlapping column(s) are considered as the *key* columns."
   ]
  },
  {
   "cell_type": "markdown",
   "id": "dceeeb1e",
   "metadata": {},
   "source": [
    "### Join types\n",
    "(i) One-to-one, (ii) Many-to-one, (iii) One-to-Many, and (iv) Many-to-many"
   ]
  },
  {
   "cell_type": "code",
   "execution_count": 351,
   "id": "a29ffade",
   "metadata": {},
   "outputs": [],
   "source": [
    "data1 = pd.read_csv('./Datasets/student_one.csv')\n",
    "data2 = pd.read_csv('./Datasets/skills_one.csv')"
   ]
  },
  {
   "cell_type": "markdown",
   "id": "4dec2c0f",
   "metadata": {},
   "source": [
    "#### One-to-one join\n",
    "Each row in one table is linked (or related) to a single row in another table using the key column(s). "
   ]
  },
  {
   "cell_type": "code",
   "execution_count": 352,
   "id": "9f9e1382",
   "metadata": {},
   "outputs": [
    {
     "data": {
      "text/html": [
       "<div>\n",
       "<style scoped>\n",
       "    .dataframe tbody tr th:only-of-type {\n",
       "        vertical-align: middle;\n",
       "    }\n",
       "\n",
       "    .dataframe tbody tr th {\n",
       "        vertical-align: top;\n",
       "    }\n",
       "\n",
       "    .dataframe thead th {\n",
       "        text-align: right;\n",
       "    }\n",
       "</style>\n",
       "<table border=\"1\" class=\"dataframe\">\n",
       "  <thead>\n",
       "    <tr style=\"text-align: right;\">\n",
       "      <th></th>\n",
       "      <th>Student</th>\n",
       "      <th>Major</th>\n",
       "    </tr>\n",
       "  </thead>\n",
       "  <tbody>\n",
       "    <tr>\n",
       "      <th>0</th>\n",
       "      <td>Kitana</td>\n",
       "      <td>Statistics</td>\n",
       "    </tr>\n",
       "    <tr>\n",
       "      <th>1</th>\n",
       "      <td>Jax</td>\n",
       "      <td>Computer Science</td>\n",
       "    </tr>\n",
       "    <tr>\n",
       "      <th>2</th>\n",
       "      <td>Sonya</td>\n",
       "      <td>Material Science</td>\n",
       "    </tr>\n",
       "    <tr>\n",
       "      <th>3</th>\n",
       "      <td>Johnny</td>\n",
       "      <td>Music</td>\n",
       "    </tr>\n",
       "  </tbody>\n",
       "</table>\n",
       "</div>"
      ],
      "text/plain": [
       "  Student             Major\n",
       "0  Kitana        Statistics\n",
       "1     Jax  Computer Science\n",
       "2   Sonya  Material Science\n",
       "3  Johnny             Music"
      ]
     },
     "execution_count": 352,
     "metadata": {},
     "output_type": "execute_result"
    }
   ],
   "source": [
    "data1"
   ]
  },
  {
   "cell_type": "code",
   "execution_count": 353,
   "id": "5315ee33",
   "metadata": {},
   "outputs": [
    {
     "data": {
      "text/html": [
       "<div>\n",
       "<style scoped>\n",
       "    .dataframe tbody tr th:only-of-type {\n",
       "        vertical-align: middle;\n",
       "    }\n",
       "\n",
       "    .dataframe tbody tr th {\n",
       "        vertical-align: top;\n",
       "    }\n",
       "\n",
       "    .dataframe thead th {\n",
       "        text-align: right;\n",
       "    }\n",
       "</style>\n",
       "<table border=\"1\" class=\"dataframe\">\n",
       "  <thead>\n",
       "    <tr style=\"text-align: right;\">\n",
       "      <th></th>\n",
       "      <th>Major</th>\n",
       "      <th>Skills</th>\n",
       "    </tr>\n",
       "  </thead>\n",
       "  <tbody>\n",
       "    <tr>\n",
       "      <th>0</th>\n",
       "      <td>Statistics</td>\n",
       "      <td>Inference</td>\n",
       "    </tr>\n",
       "    <tr>\n",
       "      <th>1</th>\n",
       "      <td>Computer Science</td>\n",
       "      <td>Machine learning</td>\n",
       "    </tr>\n",
       "    <tr>\n",
       "      <th>2</th>\n",
       "      <td>Material Science</td>\n",
       "      <td>Structure prediction</td>\n",
       "    </tr>\n",
       "    <tr>\n",
       "      <th>3</th>\n",
       "      <td>Music</td>\n",
       "      <td>Opera</td>\n",
       "    </tr>\n",
       "  </tbody>\n",
       "</table>\n",
       "</div>"
      ],
      "text/plain": [
       "              Major                Skills\n",
       "0        Statistics             Inference\n",
       "1  Computer Science      Machine learning\n",
       "2  Material Science  Structure prediction\n",
       "3             Music                 Opera"
      ]
     },
     "execution_count": 353,
     "metadata": {},
     "output_type": "execute_result"
    }
   ],
   "source": [
    "data2"
   ]
  },
  {
   "cell_type": "code",
   "execution_count": 354,
   "id": "faeae394",
   "metadata": {},
   "outputs": [
    {
     "data": {
      "text/html": [
       "<div>\n",
       "<style scoped>\n",
       "    .dataframe tbody tr th:only-of-type {\n",
       "        vertical-align: middle;\n",
       "    }\n",
       "\n",
       "    .dataframe tbody tr th {\n",
       "        vertical-align: top;\n",
       "    }\n",
       "\n",
       "    .dataframe thead th {\n",
       "        text-align: right;\n",
       "    }\n",
       "</style>\n",
       "<table border=\"1\" class=\"dataframe\">\n",
       "  <thead>\n",
       "    <tr style=\"text-align: right;\">\n",
       "      <th></th>\n",
       "      <th>Student</th>\n",
       "      <th>Major</th>\n",
       "      <th>Skills</th>\n",
       "    </tr>\n",
       "  </thead>\n",
       "  <tbody>\n",
       "    <tr>\n",
       "      <th>0</th>\n",
       "      <td>Kitana</td>\n",
       "      <td>Statistics</td>\n",
       "      <td>Inference</td>\n",
       "    </tr>\n",
       "    <tr>\n",
       "      <th>1</th>\n",
       "      <td>Jax</td>\n",
       "      <td>Computer Science</td>\n",
       "      <td>Machine learning</td>\n",
       "    </tr>\n",
       "    <tr>\n",
       "      <th>2</th>\n",
       "      <td>Sonya</td>\n",
       "      <td>Material Science</td>\n",
       "      <td>Structure prediction</td>\n",
       "    </tr>\n",
       "    <tr>\n",
       "      <th>3</th>\n",
       "      <td>Johnny</td>\n",
       "      <td>Music</td>\n",
       "      <td>Opera</td>\n",
       "    </tr>\n",
       "  </tbody>\n",
       "</table>\n",
       "</div>"
      ],
      "text/plain": [
       "  Student             Major                Skills\n",
       "0  Kitana        Statistics             Inference\n",
       "1     Jax  Computer Science      Machine learning\n",
       "2   Sonya  Material Science  Structure prediction\n",
       "3  Johnny             Music                 Opera"
      ]
     },
     "execution_count": 354,
     "metadata": {},
     "output_type": "execute_result"
    }
   ],
   "source": [
    "pd.merge(data1,data2)"
   ]
  },
  {
   "cell_type": "markdown",
   "id": "9dbc0fa1",
   "metadata": {},
   "source": [
    "#### Many-to-one join\n",
    "One or more rows in one table is linked (or related) to a single row in another table using the key column(s)."
   ]
  },
  {
   "cell_type": "code",
   "execution_count": 380,
   "id": "b88fe4a6",
   "metadata": {},
   "outputs": [],
   "source": [
    "data1 = pd.read_csv('student_many.csv')\n",
    "data2 = pd.read_csv('skills_one.csv')"
   ]
  },
  {
   "cell_type": "code",
   "execution_count": 381,
   "id": "9d505214",
   "metadata": {},
   "outputs": [
    {
     "data": {
      "text/html": [
       "<div>\n",
       "<style scoped>\n",
       "    .dataframe tbody tr th:only-of-type {\n",
       "        vertical-align: middle;\n",
       "    }\n",
       "\n",
       "    .dataframe tbody tr th {\n",
       "        vertical-align: top;\n",
       "    }\n",
       "\n",
       "    .dataframe thead th {\n",
       "        text-align: right;\n",
       "    }\n",
       "</style>\n",
       "<table border=\"1\" class=\"dataframe\">\n",
       "  <thead>\n",
       "    <tr style=\"text-align: right;\">\n",
       "      <th></th>\n",
       "      <th>Student</th>\n",
       "      <th>Major</th>\n",
       "    </tr>\n",
       "  </thead>\n",
       "  <tbody>\n",
       "    <tr>\n",
       "      <th>0</th>\n",
       "      <td>Kitana</td>\n",
       "      <td>Statistics</td>\n",
       "    </tr>\n",
       "    <tr>\n",
       "      <th>1</th>\n",
       "      <td>Kitana</td>\n",
       "      <td>Computer Science</td>\n",
       "    </tr>\n",
       "    <tr>\n",
       "      <th>2</th>\n",
       "      <td>Jax</td>\n",
       "      <td>Computer Science</td>\n",
       "    </tr>\n",
       "    <tr>\n",
       "      <th>3</th>\n",
       "      <td>Sonya</td>\n",
       "      <td>Material Science</td>\n",
       "    </tr>\n",
       "    <tr>\n",
       "      <th>4</th>\n",
       "      <td>Johnny</td>\n",
       "      <td>Music</td>\n",
       "    </tr>\n",
       "    <tr>\n",
       "      <th>5</th>\n",
       "      <td>Johnny</td>\n",
       "      <td>Statistics</td>\n",
       "    </tr>\n",
       "  </tbody>\n",
       "</table>\n",
       "</div>"
      ],
      "text/plain": [
       "  Student             Major\n",
       "0  Kitana        Statistics\n",
       "1  Kitana  Computer Science\n",
       "2     Jax  Computer Science\n",
       "3   Sonya  Material Science\n",
       "4  Johnny             Music\n",
       "5  Johnny        Statistics"
      ]
     },
     "execution_count": 381,
     "metadata": {},
     "output_type": "execute_result"
    }
   ],
   "source": [
    "data1"
   ]
  },
  {
   "cell_type": "code",
   "execution_count": 382,
   "id": "92c739b8",
   "metadata": {},
   "outputs": [
    {
     "data": {
      "text/html": [
       "<div>\n",
       "<style scoped>\n",
       "    .dataframe tbody tr th:only-of-type {\n",
       "        vertical-align: middle;\n",
       "    }\n",
       "\n",
       "    .dataframe tbody tr th {\n",
       "        vertical-align: top;\n",
       "    }\n",
       "\n",
       "    .dataframe thead th {\n",
       "        text-align: right;\n",
       "    }\n",
       "</style>\n",
       "<table border=\"1\" class=\"dataframe\">\n",
       "  <thead>\n",
       "    <tr style=\"text-align: right;\">\n",
       "      <th></th>\n",
       "      <th>Major</th>\n",
       "      <th>Skills</th>\n",
       "    </tr>\n",
       "  </thead>\n",
       "  <tbody>\n",
       "    <tr>\n",
       "      <th>0</th>\n",
       "      <td>Statistics</td>\n",
       "      <td>Inference</td>\n",
       "    </tr>\n",
       "    <tr>\n",
       "      <th>1</th>\n",
       "      <td>Computer Science</td>\n",
       "      <td>Machine learning</td>\n",
       "    </tr>\n",
       "    <tr>\n",
       "      <th>2</th>\n",
       "      <td>Material Science</td>\n",
       "      <td>Structure prediction</td>\n",
       "    </tr>\n",
       "    <tr>\n",
       "      <th>3</th>\n",
       "      <td>Music</td>\n",
       "      <td>Opera</td>\n",
       "    </tr>\n",
       "  </tbody>\n",
       "</table>\n",
       "</div>"
      ],
      "text/plain": [
       "              Major                Skills\n",
       "0        Statistics             Inference\n",
       "1  Computer Science      Machine learning\n",
       "2  Material Science  Structure prediction\n",
       "3             Music                 Opera"
      ]
     },
     "execution_count": 382,
     "metadata": {},
     "output_type": "execute_result"
    }
   ],
   "source": [
    "data2"
   ]
  },
  {
   "cell_type": "code",
   "execution_count": 383,
   "id": "9f87e76b",
   "metadata": {
    "scrolled": true
   },
   "outputs": [
    {
     "data": {
      "text/html": [
       "<div>\n",
       "<style scoped>\n",
       "    .dataframe tbody tr th:only-of-type {\n",
       "        vertical-align: middle;\n",
       "    }\n",
       "\n",
       "    .dataframe tbody tr th {\n",
       "        vertical-align: top;\n",
       "    }\n",
       "\n",
       "    .dataframe thead th {\n",
       "        text-align: right;\n",
       "    }\n",
       "</style>\n",
       "<table border=\"1\" class=\"dataframe\">\n",
       "  <thead>\n",
       "    <tr style=\"text-align: right;\">\n",
       "      <th></th>\n",
       "      <th>Student</th>\n",
       "      <th>Major</th>\n",
       "      <th>Skills</th>\n",
       "    </tr>\n",
       "  </thead>\n",
       "  <tbody>\n",
       "    <tr>\n",
       "      <th>0</th>\n",
       "      <td>Kitana</td>\n",
       "      <td>Statistics</td>\n",
       "      <td>Inference</td>\n",
       "    </tr>\n",
       "    <tr>\n",
       "      <th>1</th>\n",
       "      <td>Johnny</td>\n",
       "      <td>Statistics</td>\n",
       "      <td>Inference</td>\n",
       "    </tr>\n",
       "    <tr>\n",
       "      <th>2</th>\n",
       "      <td>Kitana</td>\n",
       "      <td>Computer Science</td>\n",
       "      <td>Machine learning</td>\n",
       "    </tr>\n",
       "    <tr>\n",
       "      <th>3</th>\n",
       "      <td>Jax</td>\n",
       "      <td>Computer Science</td>\n",
       "      <td>Machine learning</td>\n",
       "    </tr>\n",
       "    <tr>\n",
       "      <th>4</th>\n",
       "      <td>Sonya</td>\n",
       "      <td>Material Science</td>\n",
       "      <td>Structure prediction</td>\n",
       "    </tr>\n",
       "    <tr>\n",
       "      <th>5</th>\n",
       "      <td>Johnny</td>\n",
       "      <td>Music</td>\n",
       "      <td>Opera</td>\n",
       "    </tr>\n",
       "  </tbody>\n",
       "</table>\n",
       "</div>"
      ],
      "text/plain": [
       "  Student             Major                Skills\n",
       "0  Kitana        Statistics             Inference\n",
       "1  Johnny        Statistics             Inference\n",
       "2  Kitana  Computer Science      Machine learning\n",
       "3     Jax  Computer Science      Machine learning\n",
       "4   Sonya  Material Science  Structure prediction\n",
       "5  Johnny             Music                 Opera"
      ]
     },
     "execution_count": 383,
     "metadata": {},
     "output_type": "execute_result"
    }
   ],
   "source": [
    "pd.merge(data1,data2)"
   ]
  },
  {
   "cell_type": "markdown",
   "id": "68e033bb",
   "metadata": {},
   "source": [
    "#### One-to-many join\n",
    "Each row in one table is linked (or related) to one, or more, rows in another table using the key column(s)."
   ]
  },
  {
   "cell_type": "code",
   "execution_count": 384,
   "id": "408e2fb9",
   "metadata": {},
   "outputs": [],
   "source": [
    "data1 = pd.read_csv('student_one.csv')\n",
    "data2 = pd.read_csv('skills_many.csv')"
   ]
  },
  {
   "cell_type": "code",
   "execution_count": 385,
   "id": "a86df1cd",
   "metadata": {},
   "outputs": [
    {
     "data": {
      "text/html": [
       "<div>\n",
       "<style scoped>\n",
       "    .dataframe tbody tr th:only-of-type {\n",
       "        vertical-align: middle;\n",
       "    }\n",
       "\n",
       "    .dataframe tbody tr th {\n",
       "        vertical-align: top;\n",
       "    }\n",
       "\n",
       "    .dataframe thead th {\n",
       "        text-align: right;\n",
       "    }\n",
       "</style>\n",
       "<table border=\"1\" class=\"dataframe\">\n",
       "  <thead>\n",
       "    <tr style=\"text-align: right;\">\n",
       "      <th></th>\n",
       "      <th>Student</th>\n",
       "      <th>Major</th>\n",
       "    </tr>\n",
       "  </thead>\n",
       "  <tbody>\n",
       "    <tr>\n",
       "      <th>0</th>\n",
       "      <td>Kitana</td>\n",
       "      <td>Statistics</td>\n",
       "    </tr>\n",
       "    <tr>\n",
       "      <th>1</th>\n",
       "      <td>Jax</td>\n",
       "      <td>Computer Science</td>\n",
       "    </tr>\n",
       "    <tr>\n",
       "      <th>2</th>\n",
       "      <td>Sonya</td>\n",
       "      <td>Material Science</td>\n",
       "    </tr>\n",
       "    <tr>\n",
       "      <th>3</th>\n",
       "      <td>Johnny</td>\n",
       "      <td>Music</td>\n",
       "    </tr>\n",
       "  </tbody>\n",
       "</table>\n",
       "</div>"
      ],
      "text/plain": [
       "  Student             Major\n",
       "0  Kitana        Statistics\n",
       "1     Jax  Computer Science\n",
       "2   Sonya  Material Science\n",
       "3  Johnny             Music"
      ]
     },
     "execution_count": 385,
     "metadata": {},
     "output_type": "execute_result"
    }
   ],
   "source": [
    "data1"
   ]
  },
  {
   "cell_type": "code",
   "execution_count": 386,
   "id": "dc1876a2",
   "metadata": {},
   "outputs": [
    {
     "data": {
      "text/html": [
       "<div>\n",
       "<style scoped>\n",
       "    .dataframe tbody tr th:only-of-type {\n",
       "        vertical-align: middle;\n",
       "    }\n",
       "\n",
       "    .dataframe tbody tr th {\n",
       "        vertical-align: top;\n",
       "    }\n",
       "\n",
       "    .dataframe thead th {\n",
       "        text-align: right;\n",
       "    }\n",
       "</style>\n",
       "<table border=\"1\" class=\"dataframe\">\n",
       "  <thead>\n",
       "    <tr style=\"text-align: right;\">\n",
       "      <th></th>\n",
       "      <th>Major</th>\n",
       "      <th>Skills</th>\n",
       "    </tr>\n",
       "  </thead>\n",
       "  <tbody>\n",
       "    <tr>\n",
       "      <th>0</th>\n",
       "      <td>Statistics</td>\n",
       "      <td>Inference</td>\n",
       "    </tr>\n",
       "    <tr>\n",
       "      <th>1</th>\n",
       "      <td>Statistics</td>\n",
       "      <td>Modeling</td>\n",
       "    </tr>\n",
       "    <tr>\n",
       "      <th>2</th>\n",
       "      <td>Computer Science</td>\n",
       "      <td>Machine learning</td>\n",
       "    </tr>\n",
       "    <tr>\n",
       "      <th>3</th>\n",
       "      <td>Computer Science</td>\n",
       "      <td>Computing</td>\n",
       "    </tr>\n",
       "    <tr>\n",
       "      <th>4</th>\n",
       "      <td>Material Science</td>\n",
       "      <td>Structure prediction</td>\n",
       "    </tr>\n",
       "    <tr>\n",
       "      <th>5</th>\n",
       "      <td>Music</td>\n",
       "      <td>Opera</td>\n",
       "    </tr>\n",
       "    <tr>\n",
       "      <th>6</th>\n",
       "      <td>Music</td>\n",
       "      <td>Pop</td>\n",
       "    </tr>\n",
       "    <tr>\n",
       "      <th>7</th>\n",
       "      <td>Music</td>\n",
       "      <td>Classical</td>\n",
       "    </tr>\n",
       "  </tbody>\n",
       "</table>\n",
       "</div>"
      ],
      "text/plain": [
       "              Major                Skills\n",
       "0        Statistics             Inference\n",
       "1        Statistics              Modeling\n",
       "2  Computer Science      Machine learning\n",
       "3  Computer Science             Computing\n",
       "4  Material Science  Structure prediction\n",
       "5             Music                 Opera\n",
       "6             Music                   Pop\n",
       "7             Music             Classical"
      ]
     },
     "execution_count": 386,
     "metadata": {},
     "output_type": "execute_result"
    }
   ],
   "source": [
    "data2"
   ]
  },
  {
   "cell_type": "code",
   "execution_count": 387,
   "id": "1b72e197",
   "metadata": {},
   "outputs": [
    {
     "data": {
      "text/html": [
       "<div>\n",
       "<style scoped>\n",
       "    .dataframe tbody tr th:only-of-type {\n",
       "        vertical-align: middle;\n",
       "    }\n",
       "\n",
       "    .dataframe tbody tr th {\n",
       "        vertical-align: top;\n",
       "    }\n",
       "\n",
       "    .dataframe thead th {\n",
       "        text-align: right;\n",
       "    }\n",
       "</style>\n",
       "<table border=\"1\" class=\"dataframe\">\n",
       "  <thead>\n",
       "    <tr style=\"text-align: right;\">\n",
       "      <th></th>\n",
       "      <th>Student</th>\n",
       "      <th>Major</th>\n",
       "      <th>Skills</th>\n",
       "    </tr>\n",
       "  </thead>\n",
       "  <tbody>\n",
       "    <tr>\n",
       "      <th>0</th>\n",
       "      <td>Kitana</td>\n",
       "      <td>Statistics</td>\n",
       "      <td>Inference</td>\n",
       "    </tr>\n",
       "    <tr>\n",
       "      <th>1</th>\n",
       "      <td>Kitana</td>\n",
       "      <td>Statistics</td>\n",
       "      <td>Modeling</td>\n",
       "    </tr>\n",
       "    <tr>\n",
       "      <th>2</th>\n",
       "      <td>Jax</td>\n",
       "      <td>Computer Science</td>\n",
       "      <td>Machine learning</td>\n",
       "    </tr>\n",
       "    <tr>\n",
       "      <th>3</th>\n",
       "      <td>Jax</td>\n",
       "      <td>Computer Science</td>\n",
       "      <td>Computing</td>\n",
       "    </tr>\n",
       "    <tr>\n",
       "      <th>4</th>\n",
       "      <td>Sonya</td>\n",
       "      <td>Material Science</td>\n",
       "      <td>Structure prediction</td>\n",
       "    </tr>\n",
       "    <tr>\n",
       "      <th>5</th>\n",
       "      <td>Johnny</td>\n",
       "      <td>Music</td>\n",
       "      <td>Opera</td>\n",
       "    </tr>\n",
       "    <tr>\n",
       "      <th>6</th>\n",
       "      <td>Johnny</td>\n",
       "      <td>Music</td>\n",
       "      <td>Pop</td>\n",
       "    </tr>\n",
       "    <tr>\n",
       "      <th>7</th>\n",
       "      <td>Johnny</td>\n",
       "      <td>Music</td>\n",
       "      <td>Classical</td>\n",
       "    </tr>\n",
       "  </tbody>\n",
       "</table>\n",
       "</div>"
      ],
      "text/plain": [
       "  Student             Major                Skills\n",
       "0  Kitana        Statistics             Inference\n",
       "1  Kitana        Statistics              Modeling\n",
       "2     Jax  Computer Science      Machine learning\n",
       "3     Jax  Computer Science             Computing\n",
       "4   Sonya  Material Science  Structure prediction\n",
       "5  Johnny             Music                 Opera\n",
       "6  Johnny             Music                   Pop\n",
       "7  Johnny             Music             Classical"
      ]
     },
     "execution_count": 387,
     "metadata": {},
     "output_type": "execute_result"
    }
   ],
   "source": [
    "pd.merge(data1,data2)"
   ]
  },
  {
   "cell_type": "markdown",
   "id": "5088d6d3",
   "metadata": {},
   "source": [
    "#### Many-to-many join\n",
    "One, or more, rows in one table is linked (or related) to one, or more, rows in another table using the key column(s)."
   ]
  },
  {
   "cell_type": "code",
   "execution_count": 388,
   "id": "6c665895",
   "metadata": {},
   "outputs": [],
   "source": [
    "data1 = pd.read_csv('student_many.csv')\n",
    "data2 = pd.read_csv('skills_many.csv')"
   ]
  },
  {
   "cell_type": "code",
   "execution_count": 389,
   "id": "fe880aa6",
   "metadata": {
    "scrolled": true
   },
   "outputs": [
    {
     "data": {
      "text/html": [
       "<div>\n",
       "<style scoped>\n",
       "    .dataframe tbody tr th:only-of-type {\n",
       "        vertical-align: middle;\n",
       "    }\n",
       "\n",
       "    .dataframe tbody tr th {\n",
       "        vertical-align: top;\n",
       "    }\n",
       "\n",
       "    .dataframe thead th {\n",
       "        text-align: right;\n",
       "    }\n",
       "</style>\n",
       "<table border=\"1\" class=\"dataframe\">\n",
       "  <thead>\n",
       "    <tr style=\"text-align: right;\">\n",
       "      <th></th>\n",
       "      <th>Student</th>\n",
       "      <th>Major</th>\n",
       "    </tr>\n",
       "  </thead>\n",
       "  <tbody>\n",
       "    <tr>\n",
       "      <th>0</th>\n",
       "      <td>Kitana</td>\n",
       "      <td>Statistics</td>\n",
       "    </tr>\n",
       "    <tr>\n",
       "      <th>1</th>\n",
       "      <td>Kitana</td>\n",
       "      <td>Computer Science</td>\n",
       "    </tr>\n",
       "    <tr>\n",
       "      <th>2</th>\n",
       "      <td>Jax</td>\n",
       "      <td>Computer Science</td>\n",
       "    </tr>\n",
       "    <tr>\n",
       "      <th>3</th>\n",
       "      <td>Sonya</td>\n",
       "      <td>Material Science</td>\n",
       "    </tr>\n",
       "    <tr>\n",
       "      <th>4</th>\n",
       "      <td>Johnny</td>\n",
       "      <td>Music</td>\n",
       "    </tr>\n",
       "    <tr>\n",
       "      <th>5</th>\n",
       "      <td>Johnny</td>\n",
       "      <td>Statistics</td>\n",
       "    </tr>\n",
       "  </tbody>\n",
       "</table>\n",
       "</div>"
      ],
      "text/plain": [
       "  Student             Major\n",
       "0  Kitana        Statistics\n",
       "1  Kitana  Computer Science\n",
       "2     Jax  Computer Science\n",
       "3   Sonya  Material Science\n",
       "4  Johnny             Music\n",
       "5  Johnny        Statistics"
      ]
     },
     "execution_count": 389,
     "metadata": {},
     "output_type": "execute_result"
    }
   ],
   "source": [
    "data1"
   ]
  },
  {
   "cell_type": "code",
   "execution_count": 390,
   "id": "970d396f",
   "metadata": {
    "scrolled": true
   },
   "outputs": [
    {
     "data": {
      "text/html": [
       "<div>\n",
       "<style scoped>\n",
       "    .dataframe tbody tr th:only-of-type {\n",
       "        vertical-align: middle;\n",
       "    }\n",
       "\n",
       "    .dataframe tbody tr th {\n",
       "        vertical-align: top;\n",
       "    }\n",
       "\n",
       "    .dataframe thead th {\n",
       "        text-align: right;\n",
       "    }\n",
       "</style>\n",
       "<table border=\"1\" class=\"dataframe\">\n",
       "  <thead>\n",
       "    <tr style=\"text-align: right;\">\n",
       "      <th></th>\n",
       "      <th>Major</th>\n",
       "      <th>Skills</th>\n",
       "    </tr>\n",
       "  </thead>\n",
       "  <tbody>\n",
       "    <tr>\n",
       "      <th>0</th>\n",
       "      <td>Statistics</td>\n",
       "      <td>Inference</td>\n",
       "    </tr>\n",
       "    <tr>\n",
       "      <th>1</th>\n",
       "      <td>Statistics</td>\n",
       "      <td>Modeling</td>\n",
       "    </tr>\n",
       "    <tr>\n",
       "      <th>2</th>\n",
       "      <td>Computer Science</td>\n",
       "      <td>Machine learning</td>\n",
       "    </tr>\n",
       "    <tr>\n",
       "      <th>3</th>\n",
       "      <td>Computer Science</td>\n",
       "      <td>Computing</td>\n",
       "    </tr>\n",
       "    <tr>\n",
       "      <th>4</th>\n",
       "      <td>Material Science</td>\n",
       "      <td>Structure prediction</td>\n",
       "    </tr>\n",
       "    <tr>\n",
       "      <th>5</th>\n",
       "      <td>Music</td>\n",
       "      <td>Opera</td>\n",
       "    </tr>\n",
       "    <tr>\n",
       "      <th>6</th>\n",
       "      <td>Music</td>\n",
       "      <td>Pop</td>\n",
       "    </tr>\n",
       "    <tr>\n",
       "      <th>7</th>\n",
       "      <td>Music</td>\n",
       "      <td>Classical</td>\n",
       "    </tr>\n",
       "  </tbody>\n",
       "</table>\n",
       "</div>"
      ],
      "text/plain": [
       "              Major                Skills\n",
       "0        Statistics             Inference\n",
       "1        Statistics              Modeling\n",
       "2  Computer Science      Machine learning\n",
       "3  Computer Science             Computing\n",
       "4  Material Science  Structure prediction\n",
       "5             Music                 Opera\n",
       "6             Music                   Pop\n",
       "7             Music             Classical"
      ]
     },
     "execution_count": 390,
     "metadata": {},
     "output_type": "execute_result"
    }
   ],
   "source": [
    "data2"
   ]
  },
  {
   "cell_type": "code",
   "execution_count": 391,
   "id": "69d9abe0",
   "metadata": {},
   "outputs": [
    {
     "data": {
      "text/html": [
       "<div>\n",
       "<style scoped>\n",
       "    .dataframe tbody tr th:only-of-type {\n",
       "        vertical-align: middle;\n",
       "    }\n",
       "\n",
       "    .dataframe tbody tr th {\n",
       "        vertical-align: top;\n",
       "    }\n",
       "\n",
       "    .dataframe thead th {\n",
       "        text-align: right;\n",
       "    }\n",
       "</style>\n",
       "<table border=\"1\" class=\"dataframe\">\n",
       "  <thead>\n",
       "    <tr style=\"text-align: right;\">\n",
       "      <th></th>\n",
       "      <th>Student</th>\n",
       "      <th>Major</th>\n",
       "      <th>Skills</th>\n",
       "    </tr>\n",
       "  </thead>\n",
       "  <tbody>\n",
       "    <tr>\n",
       "      <th>0</th>\n",
       "      <td>Kitana</td>\n",
       "      <td>Statistics</td>\n",
       "      <td>Inference</td>\n",
       "    </tr>\n",
       "    <tr>\n",
       "      <th>1</th>\n",
       "      <td>Kitana</td>\n",
       "      <td>Statistics</td>\n",
       "      <td>Modeling</td>\n",
       "    </tr>\n",
       "    <tr>\n",
       "      <th>2</th>\n",
       "      <td>Johnny</td>\n",
       "      <td>Statistics</td>\n",
       "      <td>Inference</td>\n",
       "    </tr>\n",
       "    <tr>\n",
       "      <th>3</th>\n",
       "      <td>Johnny</td>\n",
       "      <td>Statistics</td>\n",
       "      <td>Modeling</td>\n",
       "    </tr>\n",
       "    <tr>\n",
       "      <th>4</th>\n",
       "      <td>Kitana</td>\n",
       "      <td>Computer Science</td>\n",
       "      <td>Machine learning</td>\n",
       "    </tr>\n",
       "    <tr>\n",
       "      <th>5</th>\n",
       "      <td>Kitana</td>\n",
       "      <td>Computer Science</td>\n",
       "      <td>Computing</td>\n",
       "    </tr>\n",
       "    <tr>\n",
       "      <th>6</th>\n",
       "      <td>Jax</td>\n",
       "      <td>Computer Science</td>\n",
       "      <td>Machine learning</td>\n",
       "    </tr>\n",
       "    <tr>\n",
       "      <th>7</th>\n",
       "      <td>Jax</td>\n",
       "      <td>Computer Science</td>\n",
       "      <td>Computing</td>\n",
       "    </tr>\n",
       "    <tr>\n",
       "      <th>8</th>\n",
       "      <td>Sonya</td>\n",
       "      <td>Material Science</td>\n",
       "      <td>Structure prediction</td>\n",
       "    </tr>\n",
       "    <tr>\n",
       "      <th>9</th>\n",
       "      <td>Johnny</td>\n",
       "      <td>Music</td>\n",
       "      <td>Opera</td>\n",
       "    </tr>\n",
       "    <tr>\n",
       "      <th>10</th>\n",
       "      <td>Johnny</td>\n",
       "      <td>Music</td>\n",
       "      <td>Pop</td>\n",
       "    </tr>\n",
       "    <tr>\n",
       "      <th>11</th>\n",
       "      <td>Johnny</td>\n",
       "      <td>Music</td>\n",
       "      <td>Classical</td>\n",
       "    </tr>\n",
       "  </tbody>\n",
       "</table>\n",
       "</div>"
      ],
      "text/plain": [
       "   Student             Major                Skills\n",
       "0   Kitana        Statistics             Inference\n",
       "1   Kitana        Statistics              Modeling\n",
       "2   Johnny        Statistics             Inference\n",
       "3   Johnny        Statistics              Modeling\n",
       "4   Kitana  Computer Science      Machine learning\n",
       "5   Kitana  Computer Science             Computing\n",
       "6      Jax  Computer Science      Machine learning\n",
       "7      Jax  Computer Science             Computing\n",
       "8    Sonya  Material Science  Structure prediction\n",
       "9   Johnny             Music                 Opera\n",
       "10  Johnny             Music                   Pop\n",
       "11  Johnny             Music             Classical"
      ]
     },
     "execution_count": 391,
     "metadata": {},
     "output_type": "execute_result"
    }
   ],
   "source": [
    "pd.merge(data1,data2)"
   ]
  },
  {
   "cell_type": "markdown",
   "id": "62d48083",
   "metadata": {},
   "source": [
    "Note that there are two 'Statistics' rows in data1, and two 'Statistics' rows in data2, resulting in 2x2 = 4 'Statistics' rows in the merged data"
   ]
  },
  {
   "cell_type": "markdown",
   "id": "620970de",
   "metadata": {},
   "source": [
    "### Join types with 'how' argument\n",
    "(i) inner, (ii) left, (iii) right, (iv) 'outer"
   ]
  },
  {
   "cell_type": "markdown",
   "id": "5abc8248",
   "metadata": {},
   "source": [
    "#### inner join\n",
    "Use only the key combinations observed in both tables."
   ]
  },
  {
   "cell_type": "code",
   "execution_count": 392,
   "id": "6d443b0f",
   "metadata": {},
   "outputs": [],
   "source": [
    "data1 = pd.read_csv('student_how.csv')\n",
    "data2 = pd.read_csv('skills_how.csv')"
   ]
  },
  {
   "cell_type": "code",
   "execution_count": 393,
   "id": "719f5b02",
   "metadata": {},
   "outputs": [
    {
     "data": {
      "text/html": [
       "<div>\n",
       "<style scoped>\n",
       "    .dataframe tbody tr th:only-of-type {\n",
       "        vertical-align: middle;\n",
       "    }\n",
       "\n",
       "    .dataframe tbody tr th {\n",
       "        vertical-align: top;\n",
       "    }\n",
       "\n",
       "    .dataframe thead th {\n",
       "        text-align: right;\n",
       "    }\n",
       "</style>\n",
       "<table border=\"1\" class=\"dataframe\">\n",
       "  <thead>\n",
       "    <tr style=\"text-align: right;\">\n",
       "      <th></th>\n",
       "      <th>Student</th>\n",
       "      <th>Major</th>\n",
       "    </tr>\n",
       "  </thead>\n",
       "  <tbody>\n",
       "    <tr>\n",
       "      <th>0</th>\n",
       "      <td>Kitana</td>\n",
       "      <td>Statistics</td>\n",
       "    </tr>\n",
       "    <tr>\n",
       "      <th>1</th>\n",
       "      <td>Jax</td>\n",
       "      <td>Computer Science</td>\n",
       "    </tr>\n",
       "    <tr>\n",
       "      <th>2</th>\n",
       "      <td>Sonya</td>\n",
       "      <td>Material Science</td>\n",
       "    </tr>\n",
       "  </tbody>\n",
       "</table>\n",
       "</div>"
      ],
      "text/plain": [
       "  Student             Major\n",
       "0  Kitana        Statistics\n",
       "1     Jax  Computer Science\n",
       "2   Sonya  Material Science"
      ]
     },
     "execution_count": 393,
     "metadata": {},
     "output_type": "execute_result"
    }
   ],
   "source": [
    "data1"
   ]
  },
  {
   "cell_type": "code",
   "execution_count": 394,
   "id": "16a3a30a",
   "metadata": {},
   "outputs": [
    {
     "data": {
      "text/html": [
       "<div>\n",
       "<style scoped>\n",
       "    .dataframe tbody tr th:only-of-type {\n",
       "        vertical-align: middle;\n",
       "    }\n",
       "\n",
       "    .dataframe tbody tr th {\n",
       "        vertical-align: top;\n",
       "    }\n",
       "\n",
       "    .dataframe thead th {\n",
       "        text-align: right;\n",
       "    }\n",
       "</style>\n",
       "<table border=\"1\" class=\"dataframe\">\n",
       "  <thead>\n",
       "    <tr style=\"text-align: right;\">\n",
       "      <th></th>\n",
       "      <th>Major</th>\n",
       "      <th>Skills</th>\n",
       "    </tr>\n",
       "  </thead>\n",
       "  <tbody>\n",
       "    <tr>\n",
       "      <th>0</th>\n",
       "      <td>Statistics</td>\n",
       "      <td>Inference</td>\n",
       "    </tr>\n",
       "    <tr>\n",
       "      <th>1</th>\n",
       "      <td>Computer Science</td>\n",
       "      <td>Machine learning</td>\n",
       "    </tr>\n",
       "    <tr>\n",
       "      <th>2</th>\n",
       "      <td>Music</td>\n",
       "      <td>Opera</td>\n",
       "    </tr>\n",
       "  </tbody>\n",
       "</table>\n",
       "</div>"
      ],
      "text/plain": [
       "              Major            Skills\n",
       "0        Statistics         Inference\n",
       "1  Computer Science  Machine learning\n",
       "2             Music             Opera"
      ]
     },
     "execution_count": 394,
     "metadata": {},
     "output_type": "execute_result"
    }
   ],
   "source": [
    "data2"
   ]
  },
  {
   "cell_type": "code",
   "execution_count": 395,
   "id": "1e963930",
   "metadata": {},
   "outputs": [
    {
     "data": {
      "text/html": [
       "<div>\n",
       "<style scoped>\n",
       "    .dataframe tbody tr th:only-of-type {\n",
       "        vertical-align: middle;\n",
       "    }\n",
       "\n",
       "    .dataframe tbody tr th {\n",
       "        vertical-align: top;\n",
       "    }\n",
       "\n",
       "    .dataframe thead th {\n",
       "        text-align: right;\n",
       "    }\n",
       "</style>\n",
       "<table border=\"1\" class=\"dataframe\">\n",
       "  <thead>\n",
       "    <tr style=\"text-align: right;\">\n",
       "      <th></th>\n",
       "      <th>Student</th>\n",
       "      <th>Major</th>\n",
       "      <th>Skills</th>\n",
       "    </tr>\n",
       "  </thead>\n",
       "  <tbody>\n",
       "    <tr>\n",
       "      <th>0</th>\n",
       "      <td>Kitana</td>\n",
       "      <td>Statistics</td>\n",
       "      <td>Inference</td>\n",
       "    </tr>\n",
       "    <tr>\n",
       "      <th>1</th>\n",
       "      <td>Jax</td>\n",
       "      <td>Computer Science</td>\n",
       "      <td>Machine learning</td>\n",
       "    </tr>\n",
       "  </tbody>\n",
       "</table>\n",
       "</div>"
      ],
      "text/plain": [
       "  Student             Major            Skills\n",
       "0  Kitana        Statistics         Inference\n",
       "1     Jax  Computer Science  Machine learning"
      ]
     },
     "execution_count": 395,
     "metadata": {},
     "output_type": "execute_result"
    }
   ],
   "source": [
    "pd.merge(data1,data2)"
   ]
  },
  {
   "cell_type": "markdown",
   "id": "8fd0c8a5",
   "metadata": {},
   "source": [
    "**When you may use inner join?**\n",
    "You should use inner join when you cannot carry out the analysis unless the observation corresponding to the *key column(s)* is present in both the tables.\n",
    "\n",
    "**Example:** Suppose you wish to analyze the association between vaccinations and covid infection rate based on country-level data. In one of the datasets, you have the infection rate for each country, while in the other one you have the number of vaccinations in each country. The countries which have either the vaccination or the infection rate missing, cannot help analyze the association. In such as case you may be interested only in countries that have values for both the variables. Thus, you will  use inner join to discard the countries with either value missing."
   ]
  },
  {
   "cell_type": "markdown",
   "id": "6488b7a9",
   "metadata": {},
   "source": [
    "#### left join\n",
    "Use all the key combinations observed in the left table."
   ]
  },
  {
   "cell_type": "code",
   "execution_count": 85,
   "id": "1d8a4573",
   "metadata": {
    "scrolled": true
   },
   "outputs": [
    {
     "data": {
      "text/html": [
       "<div>\n",
       "<style scoped>\n",
       "    .dataframe tbody tr th:only-of-type {\n",
       "        vertical-align: middle;\n",
       "    }\n",
       "\n",
       "    .dataframe tbody tr th {\n",
       "        vertical-align: top;\n",
       "    }\n",
       "\n",
       "    .dataframe thead th {\n",
       "        text-align: right;\n",
       "    }\n",
       "</style>\n",
       "<table border=\"1\" class=\"dataframe\">\n",
       "  <thead>\n",
       "    <tr style=\"text-align: right;\">\n",
       "      <th></th>\n",
       "      <th>Student</th>\n",
       "      <th>Major</th>\n",
       "      <th>Skills</th>\n",
       "    </tr>\n",
       "  </thead>\n",
       "  <tbody>\n",
       "    <tr>\n",
       "      <th>0</th>\n",
       "      <td>Kitana</td>\n",
       "      <td>Statistics</td>\n",
       "      <td>Inference</td>\n",
       "    </tr>\n",
       "    <tr>\n",
       "      <th>1</th>\n",
       "      <td>Jax</td>\n",
       "      <td>Computer Science</td>\n",
       "      <td>Machine learning</td>\n",
       "    </tr>\n",
       "    <tr>\n",
       "      <th>2</th>\n",
       "      <td>Sonya</td>\n",
       "      <td>Material Science</td>\n",
       "      <td>NaN</td>\n",
       "    </tr>\n",
       "  </tbody>\n",
       "</table>\n",
       "</div>"
      ],
      "text/plain": [
       "  Student             Major            Skills\n",
       "0  Kitana        Statistics         Inference\n",
       "1     Jax  Computer Science  Machine learning\n",
       "2   Sonya  Material Science               NaN"
      ]
     },
     "execution_count": 85,
     "metadata": {},
     "output_type": "execute_result"
    }
   ],
   "source": [
    "pd.merge(data1,data2,how='left')"
   ]
  },
  {
   "cell_type": "markdown",
   "id": "3f7dc203",
   "metadata": {},
   "source": [
    "**When you may use left join?**\n",
    "You should use left join when the primary variable(s) of interest are present in the one of the datasets, and whose missing values cannot be imputed. The variable(s) in the other dataset may not be as important or it may be possible to reasonably impute their values, if missing corresponding to the observation in the primary dataset.\n",
    "\n",
    "**Examples:** \n",
    "\n",
    "1) Suppose you wish to analyze the association between the covid infection rate and the government effectiveness score (a metric used to determine the effectiveness of the government in implementing policies, upholding law and order etc.) based on the data of all countries. Let us say that one of the datasets contains the covid infection rate, while the other one contains the government effectiveness score for each country. If the infection rate for a country is missing, it might be hard to impute. However, the government effectiveness score may be easier to impute based on GDP per capita, crime rate etc. - information that is easily available online. In such a case, you may wish to use a left join where you keep all the countries for which the infection rate is known.\n",
    "\n",
    "2) Suppose you wish to analyze the association between demographics such as age, income etc. and the amount of credit card spend. Let us say one of the datasets contains the demographic information of each customer, while the other one contains the credit card spend for the customers who made at least one purchase. In such as case, you may want to do a left join as customers not making any purchase might be absent in the card spend data. Their spend can be imputed as zero after merging the datasets."
   ]
  },
  {
   "cell_type": "markdown",
   "id": "e874c3e0",
   "metadata": {},
   "source": [
    "#### right join\n",
    "Use all the key combinations observed in the right table."
   ]
  },
  {
   "cell_type": "code",
   "execution_count": 86,
   "id": "f41b386e",
   "metadata": {
    "scrolled": true
   },
   "outputs": [
    {
     "data": {
      "text/html": [
       "<div>\n",
       "<style scoped>\n",
       "    .dataframe tbody tr th:only-of-type {\n",
       "        vertical-align: middle;\n",
       "    }\n",
       "\n",
       "    .dataframe tbody tr th {\n",
       "        vertical-align: top;\n",
       "    }\n",
       "\n",
       "    .dataframe thead th {\n",
       "        text-align: right;\n",
       "    }\n",
       "</style>\n",
       "<table border=\"1\" class=\"dataframe\">\n",
       "  <thead>\n",
       "    <tr style=\"text-align: right;\">\n",
       "      <th></th>\n",
       "      <th>Student</th>\n",
       "      <th>Major</th>\n",
       "      <th>Skills</th>\n",
       "    </tr>\n",
       "  </thead>\n",
       "  <tbody>\n",
       "    <tr>\n",
       "      <th>0</th>\n",
       "      <td>Kitana</td>\n",
       "      <td>Statistics</td>\n",
       "      <td>Inference</td>\n",
       "    </tr>\n",
       "    <tr>\n",
       "      <th>1</th>\n",
       "      <td>Jax</td>\n",
       "      <td>Computer Science</td>\n",
       "      <td>Machine learning</td>\n",
       "    </tr>\n",
       "    <tr>\n",
       "      <th>2</th>\n",
       "      <td>NaN</td>\n",
       "      <td>Music</td>\n",
       "      <td>Opera</td>\n",
       "    </tr>\n",
       "  </tbody>\n",
       "</table>\n",
       "</div>"
      ],
      "text/plain": [
       "  Student             Major            Skills\n",
       "0  Kitana        Statistics         Inference\n",
       "1     Jax  Computer Science  Machine learning\n",
       "2     NaN             Music             Opera"
      ]
     },
     "execution_count": 86,
     "metadata": {},
     "output_type": "execute_result"
    }
   ],
   "source": [
    "pd.merge(data1,data2,how='right')"
   ]
  },
  {
   "cell_type": "markdown",
   "id": "f1b5dfdd",
   "metadata": {},
   "source": [
    "**When you may use right join?**\n",
    "You can always use a left join instead of a right join. Their purpose is the same."
   ]
  },
  {
   "cell_type": "markdown",
   "id": "f18d9265",
   "metadata": {},
   "source": [
    "#### outer join\n",
    "Use all key combinations observed in both the tables together."
   ]
  },
  {
   "cell_type": "code",
   "execution_count": 335,
   "id": "eb135e3d",
   "metadata": {
    "scrolled": false
   },
   "outputs": [
    {
     "data": {
      "text/html": [
       "<div>\n",
       "<style scoped>\n",
       "    .dataframe tbody tr th:only-of-type {\n",
       "        vertical-align: middle;\n",
       "    }\n",
       "\n",
       "    .dataframe tbody tr th {\n",
       "        vertical-align: top;\n",
       "    }\n",
       "\n",
       "    .dataframe thead th {\n",
       "        text-align: right;\n",
       "    }\n",
       "</style>\n",
       "<table border=\"1\" class=\"dataframe\">\n",
       "  <thead>\n",
       "    <tr style=\"text-align: right;\">\n",
       "      <th></th>\n",
       "      <th>Student</th>\n",
       "      <th>Major</th>\n",
       "      <th>Skills</th>\n",
       "    </tr>\n",
       "  </thead>\n",
       "  <tbody>\n",
       "    <tr>\n",
       "      <th>0</th>\n",
       "      <td>Kitana</td>\n",
       "      <td>Statistics</td>\n",
       "      <td>Inference</td>\n",
       "    </tr>\n",
       "    <tr>\n",
       "      <th>1</th>\n",
       "      <td>Jax</td>\n",
       "      <td>Computer Science</td>\n",
       "      <td>Machine learning</td>\n",
       "    </tr>\n",
       "    <tr>\n",
       "      <th>2</th>\n",
       "      <td>Sonya</td>\n",
       "      <td>Material Science</td>\n",
       "      <td>NaN</td>\n",
       "    </tr>\n",
       "    <tr>\n",
       "      <th>3</th>\n",
       "      <td>NaN</td>\n",
       "      <td>Music</td>\n",
       "      <td>Opera</td>\n",
       "    </tr>\n",
       "  </tbody>\n",
       "</table>\n",
       "</div>"
      ],
      "text/plain": [
       "  Student             Major            Skills\n",
       "0  Kitana        Statistics         Inference\n",
       "1     Jax  Computer Science  Machine learning\n",
       "2   Sonya  Material Science               NaN\n",
       "3     NaN             Music             Opera"
      ]
     },
     "execution_count": 335,
     "metadata": {},
     "output_type": "execute_result"
    }
   ],
   "source": [
    "pd.merge(data1,data2,how='outer')"
   ]
  },
  {
   "cell_type": "markdown",
   "id": "58baee84",
   "metadata": {},
   "source": [
    "**When you may use outer join?**\n",
    "You should use an outer join when you cannot afford to lose data present in either of the tables. All the other joins may result in loss of data.\n",
    "\n",
    "**Example:**\n",
    "Suppose I took two course surveys for this course. If I need to analyze student sentiment during the course, I will take an outer join of both the surveys. Assume that each survey is a dataset, where each row corresponds to a unique student. Even if a student has answered one of the two surverys, it will be indicative of the sentiment, and will be useful to keep in the merged dataset."
   ]
  },
  {
   "cell_type": "markdown",
   "id": "96aa16f8",
   "metadata": {},
   "source": [
    "## Concatenating datasets"
   ]
  },
  {
   "cell_type": "markdown",
   "id": "097ee2b2",
   "metadata": {},
   "source": [
    "The Pandas DataFrame method [`concat()`](https://pandas.pydata.org/pandas-docs/stable/reference/api/pandas.concat.html) is used to stack datasets along an axis. The method is similar to NumPy's `concatenate()` method."
   ]
  },
  {
   "cell_type": "markdown",
   "id": "f7b6d44c",
   "metadata": {},
   "source": [
    "**Example**: You are given the life expectancy data of each continent as a separate \\*.csv file. Visualize the change of life expectancy over time for different continents."
   ]
  },
  {
   "cell_type": "code",
   "execution_count": 355,
   "id": "290efdd4",
   "metadata": {},
   "outputs": [],
   "source": [
    "data_asia = pd.read_csv('./Datasets/gdp_lifeExpec_Asia.csv')\n",
    "data_europe = pd.read_csv('./Datasets/gdp_lifeExpec_Europe.csv')\n",
    "data_africa = pd.read_csv('./Datasets/gdp_lifeExpec_Africa.csv')\n",
    "data_oceania = pd.read_csv('./Datasets/gdp_lifeExpec_Oceania.csv')\n",
    "data_americas = pd.read_csv('./Datasets/gdp_lifeExpec_Americas.csv')"
   ]
  },
  {
   "cell_type": "code",
   "execution_count": 365,
   "id": "15ce6ce8",
   "metadata": {},
   "outputs": [
    {
     "data": {
      "text/html": [
       "<div>\n",
       "<style scoped>\n",
       "    .dataframe tbody tr th:only-of-type {\n",
       "        vertical-align: middle;\n",
       "    }\n",
       "\n",
       "    .dataframe tbody tr th {\n",
       "        vertical-align: top;\n",
       "    }\n",
       "\n",
       "    .dataframe thead th {\n",
       "        text-align: right;\n",
       "    }\n",
       "</style>\n",
       "<table border=\"1\" class=\"dataframe\">\n",
       "  <thead>\n",
       "    <tr style=\"text-align: right;\">\n",
       "      <th></th>\n",
       "      <th></th>\n",
       "      <th>country</th>\n",
       "      <th>year</th>\n",
       "      <th>lifeExp</th>\n",
       "      <th>pop</th>\n",
       "      <th>gdpPercap</th>\n",
       "    </tr>\n",
       "  </thead>\n",
       "  <tbody>\n",
       "    <tr>\n",
       "      <th rowspan=\"5\" valign=\"top\">Asia</th>\n",
       "      <th>0</th>\n",
       "      <td>Afghanistan</td>\n",
       "      <td>1952</td>\n",
       "      <td>28.801</td>\n",
       "      <td>8425333</td>\n",
       "      <td>779.445314</td>\n",
       "    </tr>\n",
       "    <tr>\n",
       "      <th>1</th>\n",
       "      <td>Afghanistan</td>\n",
       "      <td>1957</td>\n",
       "      <td>30.332</td>\n",
       "      <td>9240934</td>\n",
       "      <td>820.853030</td>\n",
       "    </tr>\n",
       "    <tr>\n",
       "      <th>2</th>\n",
       "      <td>Afghanistan</td>\n",
       "      <td>1962</td>\n",
       "      <td>31.997</td>\n",
       "      <td>10267083</td>\n",
       "      <td>853.100710</td>\n",
       "    </tr>\n",
       "    <tr>\n",
       "      <th>3</th>\n",
       "      <td>Afghanistan</td>\n",
       "      <td>1967</td>\n",
       "      <td>34.020</td>\n",
       "      <td>11537966</td>\n",
       "      <td>836.197138</td>\n",
       "    </tr>\n",
       "    <tr>\n",
       "      <th>4</th>\n",
       "      <td>Afghanistan</td>\n",
       "      <td>1972</td>\n",
       "      <td>36.088</td>\n",
       "      <td>13079460</td>\n",
       "      <td>739.981106</td>\n",
       "    </tr>\n",
       "    <tr>\n",
       "      <th>...</th>\n",
       "      <th>...</th>\n",
       "      <td>...</td>\n",
       "      <td>...</td>\n",
       "      <td>...</td>\n",
       "      <td>...</td>\n",
       "      <td>...</td>\n",
       "    </tr>\n",
       "    <tr>\n",
       "      <th rowspan=\"5\" valign=\"top\">Americas</th>\n",
       "      <th>295</th>\n",
       "      <td>Venezuela</td>\n",
       "      <td>1987</td>\n",
       "      <td>70.190</td>\n",
       "      <td>17910182</td>\n",
       "      <td>9883.584648</td>\n",
       "    </tr>\n",
       "    <tr>\n",
       "      <th>296</th>\n",
       "      <td>Venezuela</td>\n",
       "      <td>1992</td>\n",
       "      <td>71.150</td>\n",
       "      <td>20265563</td>\n",
       "      <td>10733.926310</td>\n",
       "    </tr>\n",
       "    <tr>\n",
       "      <th>297</th>\n",
       "      <td>Venezuela</td>\n",
       "      <td>1997</td>\n",
       "      <td>72.146</td>\n",
       "      <td>22374398</td>\n",
       "      <td>10165.495180</td>\n",
       "    </tr>\n",
       "    <tr>\n",
       "      <th>298</th>\n",
       "      <td>Venezuela</td>\n",
       "      <td>2002</td>\n",
       "      <td>72.766</td>\n",
       "      <td>24287670</td>\n",
       "      <td>8605.047831</td>\n",
       "    </tr>\n",
       "    <tr>\n",
       "      <th>299</th>\n",
       "      <td>Venezuela</td>\n",
       "      <td>2007</td>\n",
       "      <td>73.747</td>\n",
       "      <td>26084662</td>\n",
       "      <td>11415.805690</td>\n",
       "    </tr>\n",
       "  </tbody>\n",
       "</table>\n",
       "<p>1704 rows × 5 columns</p>\n",
       "</div>"
      ],
      "text/plain": [
       "                  country  year  lifeExp       pop     gdpPercap\n",
       "Asia     0    Afghanistan  1952   28.801   8425333    779.445314\n",
       "         1    Afghanistan  1957   30.332   9240934    820.853030\n",
       "         2    Afghanistan  1962   31.997  10267083    853.100710\n",
       "         3    Afghanistan  1967   34.020  11537966    836.197138\n",
       "         4    Afghanistan  1972   36.088  13079460    739.981106\n",
       "...                   ...   ...      ...       ...           ...\n",
       "Americas 295    Venezuela  1987   70.190  17910182   9883.584648\n",
       "         296    Venezuela  1992   71.150  20265563  10733.926310\n",
       "         297    Venezuela  1997   72.146  22374398  10165.495180\n",
       "         298    Venezuela  2002   72.766  24287670   8605.047831\n",
       "         299    Venezuela  2007   73.747  26084662  11415.805690\n",
       "\n",
       "[1704 rows x 5 columns]"
      ]
     },
     "execution_count": 365,
     "metadata": {},
     "output_type": "execute_result"
    }
   ],
   "source": [
    "#Appending all the data files, i.e., stacking them on top of each other\n",
    "data_all_continents = pd.concat([data_asia,data_europe,data_africa,data_oceania,data_americas],keys = ['Asia','Europe','Africa','Oceania','Americas'])\n",
    "data_all_continents"
   ]
  },
  {
   "cell_type": "markdown",
   "id": "106289a5",
   "metadata": {},
   "source": [
    "Let's have the continent as a column as we need to use that in the visualization."
   ]
  },
  {
   "cell_type": "code",
   "execution_count": 366,
   "id": "edb40222",
   "metadata": {},
   "outputs": [],
   "source": [
    "data_all_continents.reset_index(inplace = True)"
   ]
  },
  {
   "cell_type": "code",
   "execution_count": 368,
   "id": "65b1e47a",
   "metadata": {},
   "outputs": [
    {
     "data": {
      "text/html": [
       "<div>\n",
       "<style scoped>\n",
       "    .dataframe tbody tr th:only-of-type {\n",
       "        vertical-align: middle;\n",
       "    }\n",
       "\n",
       "    .dataframe tbody tr th {\n",
       "        vertical-align: top;\n",
       "    }\n",
       "\n",
       "    .dataframe thead th {\n",
       "        text-align: right;\n",
       "    }\n",
       "</style>\n",
       "<table border=\"1\" class=\"dataframe\">\n",
       "  <thead>\n",
       "    <tr style=\"text-align: right;\">\n",
       "      <th></th>\n",
       "      <th>level_0</th>\n",
       "      <th>level_1</th>\n",
       "      <th>country</th>\n",
       "      <th>year</th>\n",
       "      <th>lifeExp</th>\n",
       "      <th>pop</th>\n",
       "      <th>gdpPercap</th>\n",
       "    </tr>\n",
       "  </thead>\n",
       "  <tbody>\n",
       "    <tr>\n",
       "      <th>0</th>\n",
       "      <td>Asia</td>\n",
       "      <td>0</td>\n",
       "      <td>Afghanistan</td>\n",
       "      <td>1952</td>\n",
       "      <td>28.801</td>\n",
       "      <td>8425333</td>\n",
       "      <td>779.445314</td>\n",
       "    </tr>\n",
       "    <tr>\n",
       "      <th>1</th>\n",
       "      <td>Asia</td>\n",
       "      <td>1</td>\n",
       "      <td>Afghanistan</td>\n",
       "      <td>1957</td>\n",
       "      <td>30.332</td>\n",
       "      <td>9240934</td>\n",
       "      <td>820.853030</td>\n",
       "    </tr>\n",
       "    <tr>\n",
       "      <th>2</th>\n",
       "      <td>Asia</td>\n",
       "      <td>2</td>\n",
       "      <td>Afghanistan</td>\n",
       "      <td>1962</td>\n",
       "      <td>31.997</td>\n",
       "      <td>10267083</td>\n",
       "      <td>853.100710</td>\n",
       "    </tr>\n",
       "    <tr>\n",
       "      <th>3</th>\n",
       "      <td>Asia</td>\n",
       "      <td>3</td>\n",
       "      <td>Afghanistan</td>\n",
       "      <td>1967</td>\n",
       "      <td>34.020</td>\n",
       "      <td>11537966</td>\n",
       "      <td>836.197138</td>\n",
       "    </tr>\n",
       "    <tr>\n",
       "      <th>4</th>\n",
       "      <td>Asia</td>\n",
       "      <td>4</td>\n",
       "      <td>Afghanistan</td>\n",
       "      <td>1972</td>\n",
       "      <td>36.088</td>\n",
       "      <td>13079460</td>\n",
       "      <td>739.981106</td>\n",
       "    </tr>\n",
       "  </tbody>\n",
       "</table>\n",
       "</div>"
      ],
      "text/plain": [
       "  level_0  level_1      country  year  lifeExp       pop   gdpPercap\n",
       "0    Asia        0  Afghanistan  1952   28.801   8425333  779.445314\n",
       "1    Asia        1  Afghanistan  1957   30.332   9240934  820.853030\n",
       "2    Asia        2  Afghanistan  1962   31.997  10267083  853.100710\n",
       "3    Asia        3  Afghanistan  1967   34.020  11537966  836.197138\n",
       "4    Asia        4  Afghanistan  1972   36.088  13079460  739.981106"
      ]
     },
     "execution_count": 368,
     "metadata": {},
     "output_type": "execute_result"
    }
   ],
   "source": [
    "data_all_continents.head()"
   ]
  },
  {
   "cell_type": "code",
   "execution_count": 369,
   "id": "477a9c62",
   "metadata": {},
   "outputs": [
    {
     "data": {
      "text/html": [
       "<div>\n",
       "<style scoped>\n",
       "    .dataframe tbody tr th:only-of-type {\n",
       "        vertical-align: middle;\n",
       "    }\n",
       "\n",
       "    .dataframe tbody tr th {\n",
       "        vertical-align: top;\n",
       "    }\n",
       "\n",
       "    .dataframe thead th {\n",
       "        text-align: right;\n",
       "    }\n",
       "</style>\n",
       "<table border=\"1\" class=\"dataframe\">\n",
       "  <thead>\n",
       "    <tr style=\"text-align: right;\">\n",
       "      <th></th>\n",
       "      <th>continent</th>\n",
       "      <th>country</th>\n",
       "      <th>year</th>\n",
       "      <th>lifeExp</th>\n",
       "      <th>pop</th>\n",
       "      <th>gdpPercap</th>\n",
       "    </tr>\n",
       "  </thead>\n",
       "  <tbody>\n",
       "    <tr>\n",
       "      <th>0</th>\n",
       "      <td>Asia</td>\n",
       "      <td>Afghanistan</td>\n",
       "      <td>1952</td>\n",
       "      <td>28.801</td>\n",
       "      <td>8425333</td>\n",
       "      <td>779.445314</td>\n",
       "    </tr>\n",
       "    <tr>\n",
       "      <th>1</th>\n",
       "      <td>Asia</td>\n",
       "      <td>Afghanistan</td>\n",
       "      <td>1957</td>\n",
       "      <td>30.332</td>\n",
       "      <td>9240934</td>\n",
       "      <td>820.853030</td>\n",
       "    </tr>\n",
       "    <tr>\n",
       "      <th>2</th>\n",
       "      <td>Asia</td>\n",
       "      <td>Afghanistan</td>\n",
       "      <td>1962</td>\n",
       "      <td>31.997</td>\n",
       "      <td>10267083</td>\n",
       "      <td>853.100710</td>\n",
       "    </tr>\n",
       "    <tr>\n",
       "      <th>3</th>\n",
       "      <td>Asia</td>\n",
       "      <td>Afghanistan</td>\n",
       "      <td>1967</td>\n",
       "      <td>34.020</td>\n",
       "      <td>11537966</td>\n",
       "      <td>836.197138</td>\n",
       "    </tr>\n",
       "    <tr>\n",
       "      <th>4</th>\n",
       "      <td>Asia</td>\n",
       "      <td>Afghanistan</td>\n",
       "      <td>1972</td>\n",
       "      <td>36.088</td>\n",
       "      <td>13079460</td>\n",
       "      <td>739.981106</td>\n",
       "    </tr>\n",
       "  </tbody>\n",
       "</table>\n",
       "</div>"
      ],
      "text/plain": [
       "  continent      country  year  lifeExp       pop   gdpPercap\n",
       "0      Asia  Afghanistan  1952   28.801   8425333  779.445314\n",
       "1      Asia  Afghanistan  1957   30.332   9240934  820.853030\n",
       "2      Asia  Afghanistan  1962   31.997  10267083  853.100710\n",
       "3      Asia  Afghanistan  1967   34.020  11537966  836.197138\n",
       "4      Asia  Afghanistan  1972   36.088  13079460  739.981106"
      ]
     },
     "execution_count": 369,
     "metadata": {},
     "output_type": "execute_result"
    }
   ],
   "source": [
    "data_all_continents.drop(columns = 'level_1',inplace = True)\n",
    "data_all_continents.rename(columns = {'level_0':'continent'},inplace = True)\n",
    "data_all_continents.head()"
   ]
  },
  {
   "cell_type": "code",
   "execution_count": 373,
   "id": "bdad9828",
   "metadata": {},
   "outputs": [
    {
     "data": {
      "text/plain": [
       "<seaborn.axisgrid.FacetGrid at 0x2348dab5430>"
      ]
     },
     "execution_count": 373,
     "metadata": {},
     "output_type": "execute_result"
    },
    {
     "data": {
      "image/png": "[encoded data removed]",
      "text/plain": [
       "<Figure size 980x648 with 5 Axes>"
      ]
     },
     "metadata": {
      "needs_background": "light"
     },
     "output_type": "display_data"
    }
   ],
   "source": [
    "#change of life expectancy over time for different continents\n",
    "a = sns.FacetGrid(data_all_continents,col = 'continent',col_wrap = 3,height = 4.5,aspect = 1)#height = 3,aspect = 0.8)\n",
    "a.map(sns.lineplot,'year','gdpPercap')\n",
    "a.add_legend()"
   ]
  },
  {
   "cell_type": "markdown",
   "id": "3bdce1e4",
   "metadata": {},
   "source": [
    "In the above example, datasets were appended (or stacked on top of each other).\n",
    "\n",
    "Datasets can also be concatenated side-by-side (by providing the argument *axis = 1* with the *concat()* function) as we saw with the *merge* function."
   ]
  },
  {
   "cell_type": "markdown",
   "id": "3b12321e",
   "metadata": {},
   "source": [
    "### Practice exercise 4"
   ]
  },
  {
   "cell_type": "markdown",
   "id": "74a28be0",
   "metadata": {},
   "source": [
    "Read the documentations of the Pandas DataFrame methods `merge()` and `concat()`, and identify the differences. Mention examples when you can use (i) either, (ii) only `concat()`, (iii) only `merge()`"
   ]
  }
 ],
 "metadata": {
  "kernelspec": {
   "display_name": "Python 3",
   "language": "python",
   "name": "python3"
  },
  "language_info": {
   "codemirror_mode": {
    "name": "ipython",
    "version": 3
   },
   "file_extension": ".py",
   "mimetype": "text/x-python",
   "name": "python",
   "nbconvert_exporter": "python",
   "pygments_lexer": "ipython3",
   "version": "3.8.8"
  }
 },
 "nbformat": 4,
 "nbformat_minor": 5
}
