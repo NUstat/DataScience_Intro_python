{
 "cells": [
  {
   "cell_type": "raw",
   "id": "43442d44",
   "metadata": {},
   "source": [
    "---\n",
    "title: \"NumPy\"\n",
    "format: \n",
    "  html:\n",
    "    code-fold: false\n",
    "jupyter: python3\n",
    "---"
   ]
  },
  {
   "cell_type": "code",
   "execution_count": 36,
   "id": "a97f924c",
   "metadata": {},
   "outputs": [
    {
     "data": {
      "text/html": [
       "<img src=\"./Datasets/numpy_image.png\" width=\"740\" height=\"280\"/>"
      ],
      "text/plain": [
       "<IPython.core.display.Image object>"
      ]
     },
     "execution_count": 36,
     "metadata": {},
     "output_type": "execute_result"
    }
   ],
   "source": [
    "#| echo: false\n",
    "\n",
    "# import image module\n",
    "from IPython.display import Image\n",
    "\n",
    "# get the image\n",
    "Image(url=\"./Datasets/numpy_image.png\", width=740, height=280)"
   ]
  },
  {
   "cell_type": "markdown",
   "id": "689fae0f",
   "metadata": {},
   "source": [
    "**NumPy**, short for Numerical Python is used to analyze numeric data with Python. NumPy arrays are primarily used to create homogeneous $n$-dimensional arrays ($n = 1,...,n$). Let us import the NumPy library to use its methods and functions, and the NumPy function *array()* to define a NumPy array."
   ]
  },
  {
   "cell_type": "code",
   "execution_count": 1,
   "id": "4e04b4cc",
   "metadata": {},
   "outputs": [],
   "source": [
    "import numpy as np"
   ]
  },
  {
   "cell_type": "code",
   "execution_count": 103,
   "id": "ad531af3",
   "metadata": {},
   "outputs": [
    {
     "data": {
      "text/plain": [
       "array([[1, 2],\n",
       "       [3, 4]])"
      ]
     },
     "execution_count": 103,
     "metadata": {},
     "output_type": "execute_result"
    }
   ],
   "source": [
    "#Using the NumPy function array() to define a NumPy array\n",
    "numpy_array = np.array([[1,2],[3,4]])\n",
    "numpy_array"
   ]
  },
  {
   "cell_type": "code",
   "execution_count": 123,
   "id": "a9a58e87",
   "metadata": {},
   "outputs": [
    {
     "data": {
      "text/plain": [
       "numpy.ndarray"
      ]
     },
     "execution_count": 123,
     "metadata": {},
     "output_type": "execute_result"
    }
   ],
   "source": [
    "type(numpy_array)"
   ]
  },
  {
   "cell_type": "markdown",
   "id": "4b6db78f",
   "metadata": {},
   "source": [
    "The NumPy function *array()* creates an object of type `numpy.ndarray`."
   ]
  },
  {
   "cell_type": "markdown",
   "id": "79edd966",
   "metadata": {},
   "source": [
    "## Why do we need NumPy arrays?"
   ]
  },
  {
   "cell_type": "markdown",
   "id": "00c78572",
   "metadata": {},
   "source": [
    "NumPy arrays can store data just like other data stuctures such as such as lists, tuples, and Pandas DataFrame. Computations performed using NumPy arrays can also be performed with data stored in the other data structures. However, NumPy is preferred for its efficiency, especially when working with large arrays of data."
   ]
  },
  {
   "cell_type": "markdown",
   "id": "86e35a6e",
   "metadata": {},
   "source": [
    "### Numpy arrays are memory efficient"
   ]
  },
  {
   "cell_type": "markdown",
   "id": "7387ab9a",
   "metadata": {},
   "source": [
    "A NumPy array is a collection of homogeneous data-types that are stored in contiguous memory locations. On the other hand, data structures such as lists are a collection of heterogeneous data types stored in non-contiguous memory locations. Homogenous data elements let the NumPy array be densely packed resulting in lesser memory consumption. The following example illustrates the smaller size of NumPy arrays as compared to other data structures."
   ]
  },
  {
   "cell_type": "code",
   "execution_count": 110,
   "id": "986fedc9",
   "metadata": {},
   "outputs": [
    {
     "name": "stdout",
     "output_type": "stream",
     "text": [
      "Space taken by tuple = 8024  bytes\n",
      "Space taken by list = 8040  bytes\n",
      "Space taken by Pandas DataFrame = 8128  bytes\n",
      "Space taken by NumPy array = 4120  bytes\n"
     ]
    }
   ],
   "source": [
    "#Example showing NumPy arrays take less storage space than lists, tuples and Pandas DataFrame for the same elements\n",
    "tuple_ex = tuple(range(1000))\n",
    "list_ex = list(range(1000))\n",
    "numpy_ex = np.array([range(1000)])\n",
    "pandas_df = pd.DataFrame(range(1000))\n",
    "print(\"Space taken by tuple =\",tuple_ex.__sizeof__(),\" bytes\")\n",
    "print(\"Space taken by list =\",list_ex.__sizeof__(),\" bytes\")\n",
    "print(\"Space taken by Pandas DataFrame =\",pandas_df.__sizeof__(),\" bytes\")\n",
    "print(\"Space taken by NumPy array =\",numpy_ex.__sizeof__(),\" bytes\")"
   ]
  },
  {
   "cell_type": "markdown",
   "id": "42dfe3a0",
   "metadata": {},
   "source": [
    "Note that NumPy arrays are memory efficient as long as they are homogenous. They will lose the memory efficiency if they are used to store elements of multiple data types. \n",
    "\n",
    "The example below compares the size of a homogenous NumPy array to that of a similar heterogenous NumPy array to illustrate the point."
   ]
  },
  {
   "cell_type": "code",
   "execution_count": 113,
   "id": "2888133d",
   "metadata": {},
   "outputs": [
    {
     "name": "stdout",
     "output_type": "stream",
     "text": [
      "Size of homogenous numpy array =  136 bytes\n"
     ]
    }
   ],
   "source": [
    "numpy_homogenous = np.array([[1,2],[3,3]])\n",
    "print(\"Size of a homogenous numpy array = \",numpy_homogenous.__sizeof__(), \"bytes\")"
   ]
  },
  {
   "cell_type": "markdown",
   "id": "537d91cd",
   "metadata": {},
   "source": [
    "Now let us convert an element of the above array to a string, and check the size of the array."
   ]
  },
  {
   "cell_type": "code",
   "execution_count": 114,
   "id": "dd9a6a4d",
   "metadata": {},
   "outputs": [
    {
     "name": "stdout",
     "output_type": "stream",
     "text": [
      "Size of a heterogenous numpy array =  296 bytes\n"
     ]
    }
   ],
   "source": [
    "numpy_homogenous = np.array([[1,'2'],[3,3]])\n",
    "print(\"Size of a heterogenous numpy array = \",numpy_homogenous.__sizeof__(), \"bytes\")"
   ]
  },
  {
   "cell_type": "markdown",
   "id": "495c869c",
   "metadata": {},
   "source": [
    "The size of the homogenous NumPy array is much lesser than that of the one with heterogenous data. Thus, NumPy arrays are primarily used for storing homogenous data."
   ]
  },
  {
   "cell_type": "markdown",
   "id": "8b6679fd",
   "metadata": {},
   "source": [
    "On the other hand, the size of other data structures, such as a list, does not depend on whether the elements in them are homogenous or heterogenous, as shown by the example below."
   ]
  },
  {
   "cell_type": "code",
   "execution_count": 117,
   "id": "3515ab0f",
   "metadata": {},
   "outputs": [
    {
     "name": "stdout",
     "output_type": "stream",
     "text": [
      "Size of a homogenous list =  72 bytes\n",
      "Size of a heterogenous list =  72 bytes\n"
     ]
    }
   ],
   "source": [
    "list_homogenous = list([1,2,3,4])\n",
    "print(\"Size of a homogenous list = \",list_homogenous.__sizeof__(), \"bytes\")\n",
    "list_heterogenous = list([1,'2',3,4])\n",
    "print(\"Size of a heterogenous list = \",list_heterogenous.__sizeof__(), \"bytes\")"
   ]
  },
  {
   "cell_type": "markdown",
   "id": "c9cabdb4",
   "metadata": {},
   "source": [
    "Note that the memory efficiency of NumPy arrays does not come into play with a very small amount of data. Thus, a list with four elements - 1,2,3 and 4, has a lesser size than a NumPy array with the same elements. However, with larger datasets, such as the one shown earlier (sequence of integers from 0 to 999), the memory efficiency of NumPy arrays can be seen."
   ]
  },
  {
   "cell_type": "markdown",
   "id": "ba37df0f",
   "metadata": {},
   "source": [
    "Unlike data structures such as lists, tuples, and dictionary, all elements of a NumPy array should be of same type to leverage the memory efficiency of NumPy arrays."
   ]
  },
  {
   "cell_type": "markdown",
   "id": "2ba47842",
   "metadata": {},
   "source": [
    "### NumPy arrays are fast"
   ]
  },
  {
   "cell_type": "markdown",
   "id": "d1a75f01",
   "metadata": {},
   "source": [
    "With NumPy arrays, mathematical computations can be performed faster, as compared to other data structures, due to the following reasons:"
   ]
  },
  {
   "cell_type": "markdown",
   "id": "1f79ff3c",
   "metadata": {},
   "source": [
    "1. As the NumPy array is **densely packed** with homogenous data, it helps retrieve the data faster as well, thereby making computations faster.\n",
    "\n",
    "2. With NumPy, **vectorized computations** can replace the relatively more expensive python `for` loops. The NumPy package breaks down the vectorized computations into multiple fragments and then processes all the fragments parallelly. However, with a `for` loop, computations will be one at a time.\n",
    "\n",
    "3. The NumPy package **integrates C**, and **C++** codes in Python. These programming languages have very little execution time as compared to Python."
   ]
  },
  {
   "cell_type": "markdown",
   "id": "86a16ecd",
   "metadata": {},
   "source": [
    "We'll see the faster speed on NumPy computations in the example below."
   ]
  },
  {
   "cell_type": "markdown",
   "id": "472541b8",
   "metadata": {},
   "source": [
    "**Example:** This example shows that computations using NumPy arrays are typically much faster than computations with other data structures.\n",
    "\n",
    "**Q:** Multiply whole numbers upto 1 million by an integer, say 2. Compare the time taken for the computation if the numbers are stored in a NumPy array vs a list.\n",
    "\n",
    "Use the numpy function [arange()](https://numpy.org/doc/stable/reference/generated/numpy.arange.html) to define a one-dimensional NumPy array."
   ]
  },
  {
   "cell_type": "code",
   "execution_count": 118,
   "id": "1dbde4fe",
   "metadata": {},
   "outputs": [
    {
     "name": "stdout",
     "output_type": "stream",
     "text": [
      "Time take to multiply numbers in a list =  0.023949384689331055\n",
      "Time take to multiply numbers in a tuple =  0.03192734718322754\n",
      "Time take to multiply numbers in a Pandas DataFrame =  0.047330617904663086\n",
      "Time take to multiply numbers in a NumPy array =  0.0\n"
     ]
    }
   ],
   "source": [
    "#Examples showing NumPy arrays are more efficient for numerical computation\n",
    "import time as tm\n",
    "start_time = tm.time()\n",
    "list_ex = list(range(1000000)) #List containinig whole numbers upto 1 million\n",
    "a=(list_ex*2)\n",
    "print(\"Time take to multiply numbers in a list = \", tm.time()-start_time)\n",
    "\n",
    "start_time = tm.time()\n",
    "tuple_ex = tuple(range(1000000)) #Tuple containinig whole numbers upto 1 million\n",
    "a=(tuple_ex*2)\n",
    "print(\"Time take to multiply numbers in a tuple = \", tm.time()-start_time)\n",
    "\n",
    "start_time = tm.time()\n",
    "df_ex = pd.DataFrame(range(1000000)) #Pandas DataFrame containinig whole numbers upto 1 million\n",
    "a=(df_ex*2)\n",
    "print(\"Time take to multiply numbers in a Pandas DataFrame = \", tm.time()-start_time)\n",
    "\n",
    "start_time = tm.time()\n",
    "numpy_ex = np.arange(1000000) #NumPy array containinig whole numbers upto 1 million\n",
    "a=(numpy_ex*2)\n",
    "print(\"Time take to multiply numbers in a NumPy array = \", tm.time()-start_time)"
   ]
  },
  {
   "cell_type": "markdown",
   "id": "fb8b8a93",
   "metadata": {},
   "source": [
    "## NumPy array: Basic attributes"
   ]
  },
  {
   "cell_type": "markdown",
   "id": "85bd8104",
   "metadata": {},
   "source": [
    "Let us define a NumPy array:"
   ]
  },
  {
   "cell_type": "code",
   "execution_count": 125,
   "id": "96440e0a",
   "metadata": {},
   "outputs": [
    {
     "data": {
      "text/plain": [
       "array([[1, 2, 3],\n",
       "       [4, 5, 6]])"
      ]
     },
     "execution_count": 125,
     "metadata": {},
     "output_type": "execute_result"
    }
   ],
   "source": [
    "numpy_ex = np.array([[1,2,3],[4,5,6]])\n",
    "numpy_ex"
   ]
  },
  {
   "cell_type": "markdown",
   "id": "e0b9cb6a",
   "metadata": {},
   "source": [
    "The attributes of `numpy_ex` can be seen by typing `numpy_ex` followed by a `.`, and then pressing the *tab* key."
   ]
  },
  {
   "cell_type": "markdown",
   "id": "4de2dcd3",
   "metadata": {},
   "source": [
    "Some of the basic attributes of a NumPy array are the following:"
   ]
  },
  {
   "cell_type": "markdown",
   "id": "0e425969",
   "metadata": {},
   "source": [
    "1. `ndim`: Shows the number of dimensions (or axes) of the array."
   ]
  },
  {
   "cell_type": "code",
   "execution_count": 120,
   "id": "c4905a86",
   "metadata": {},
   "outputs": [
    {
     "data": {
      "text/plain": [
       "2"
      ]
     },
     "execution_count": 120,
     "metadata": {},
     "output_type": "execute_result"
    }
   ],
   "source": [
    "numpy_ex.ndim"
   ]
  },
  {
   "cell_type": "markdown",
   "id": "9e2143cd",
   "metadata": {},
   "source": [
    "2. `shape`: This is a tuple of integers indicating the size of the array in each dimension. For a matrix with *n* rows and *m* columns, the shape will be *(n,m)*. The length of the shape tuple is therefore the rank, or the number of dimensions, `ndim`."
   ]
  },
  {
   "cell_type": "code",
   "execution_count": 124,
   "id": "f5d86d6f",
   "metadata": {},
   "outputs": [
    {
     "data": {
      "text/plain": [
       "(2, 3)"
      ]
     },
     "execution_count": 124,
     "metadata": {},
     "output_type": "execute_result"
    }
   ],
   "source": [
    "numpy_ex.shape"
   ]
  },
  {
   "cell_type": "markdown",
   "id": "11e0c03e",
   "metadata": {},
   "source": [
    "3. `size`: This is the total number of elements of the array, which is the product of the elements of shape."
   ]
  },
  {
   "cell_type": "code",
   "execution_count": 126,
   "id": "d53da60e",
   "metadata": {},
   "outputs": [
    {
     "data": {
      "text/plain": [
       "6"
      ]
     },
     "execution_count": 126,
     "metadata": {},
     "output_type": "execute_result"
    }
   ],
   "source": [
    "numpy_ex.size"
   ]
  },
  {
   "cell_type": "markdown",
   "id": "147ef248",
   "metadata": {},
   "source": [
    "4. `dtype`: This is an object describing the type of the elements in the array. One can create or specify dtype's using standard Python types. NumPy provides many, for example bool_, character, int_, int8, int16, int32, int64, float_, float8, float16, float32, float64, complex_, complex64, object_."
   ]
  },
  {
   "cell_type": "code",
   "execution_count": 127,
   "id": "5fb52004",
   "metadata": {},
   "outputs": [
    {
     "data": {
      "text/plain": [
       "dtype('int32')"
      ]
     },
     "execution_count": 127,
     "metadata": {},
     "output_type": "execute_result"
    }
   ],
   "source": [
    "numpy_ex.dtype"
   ]
  },
  {
   "cell_type": "markdown",
   "id": "c7b83e44",
   "metadata": {},
   "source": [
    "## Arithematic operations"
   ]
  },
  {
   "cell_type": "markdown",
   "id": "6043342f",
   "metadata": {},
   "source": [
    "Numpy arrays support arithmetic operators like `+`, `-`, `*`, etc. We can perform an arithmetic operation on an array either with a single number (also called scalar) or with another array of the same shape. However, we cannot perform an arithematic operation on an array with an array of a different shape. "
   ]
  },
  {
   "cell_type": "markdown",
   "id": "7b834a11",
   "metadata": {},
   "source": [
    "Below are some examples of arithematic operations on arrays."
   ]
  },
  {
   "cell_type": "code",
   "execution_count": 8,
   "id": "29d3ec75",
   "metadata": {},
   "outputs": [],
   "source": [
    "#Defining two arrays of the same shape\n",
    "arr1 = np.array([[1, 2, 3, 4], \n",
    "                 [5, 6, 7, 8], \n",
    "                 [9, 1, 2, 3]])\n",
    "arr2 = np.array([[11, 12, 13, 14], \n",
    "                 [15, 16, 17, 18], \n",
    "                 [19, 11, 12, 13]])"
   ]
  },
  {
   "cell_type": "code",
   "execution_count": 9,
   "id": "35d9c9f8",
   "metadata": {},
   "outputs": [
    {
     "data": {
      "text/plain": [
       "array([[12, 14, 16, 18],\n",
       "       [20, 22, 24, 26],\n",
       "       [28, 12, 14, 16]])"
      ]
     },
     "execution_count": 9,
     "metadata": {},
     "output_type": "execute_result"
    }
   ],
   "source": [
    "#Element-wise summation of arrays\n",
    "arr1 + arr2"
   ]
  },
  {
   "cell_type": "code",
   "execution_count": 11,
   "id": "21986c83",
   "metadata": {},
   "outputs": [
    {
     "data": {
      "text/plain": [
       "array([[10, 10, 10, 10],\n",
       "       [10, 10, 10, 10],\n",
       "       [10, 10, 10, 10]])"
      ]
     },
     "execution_count": 11,
     "metadata": {},
     "output_type": "execute_result"
    }
   ],
   "source": [
    "# Element-wise subtraction\n",
    "arr2 - arr1"
   ]
  },
  {
   "cell_type": "code",
   "execution_count": 10,
   "id": "39548bd4",
   "metadata": {},
   "outputs": [
    {
     "data": {
      "text/plain": [
       "array([[ 4,  5,  6,  7],\n",
       "       [ 8,  9, 10, 11],\n",
       "       [12,  4,  5,  6]])"
      ]
     },
     "execution_count": 10,
     "metadata": {},
     "output_type": "execute_result"
    }
   ],
   "source": [
    "# Adding a scalar to an array adds the scalar to each element of the array\n",
    "arr1 + 3"
   ]
  },
  {
   "cell_type": "code",
   "execution_count": 14,
   "id": "49740c06",
   "metadata": {},
   "outputs": [
    {
     "data": {
      "text/plain": [
       "array([[0.5, 1. , 1.5, 2. ],\n",
       "       [2.5, 3. , 3.5, 4. ],\n",
       "       [4.5, 0.5, 1. , 1.5]])"
      ]
     },
     "execution_count": 14,
     "metadata": {},
     "output_type": "execute_result"
    }
   ],
   "source": [
    "# Dividing an array by a scalar divides all elements of the array by the scalar\n",
    "arr1 / 2"
   ]
  },
  {
   "cell_type": "code",
   "execution_count": 15,
   "id": "99a18133",
   "metadata": {},
   "outputs": [
    {
     "data": {
      "text/plain": [
       "array([[ 11,  24,  39,  56],\n",
       "       [ 75,  96, 119, 144],\n",
       "       [171,  11,  24,  39]])"
      ]
     },
     "execution_count": 15,
     "metadata": {},
     "output_type": "execute_result"
    }
   ],
   "source": [
    "# Element-wise multiplication\n",
    "arr1 * arr2"
   ]
  },
  {
   "cell_type": "code",
   "execution_count": 16,
   "id": "ab118b9a",
   "metadata": {},
   "outputs": [
    {
     "data": {
      "text/plain": [
       "array([[1, 2, 3, 0],\n",
       "       [1, 2, 3, 0],\n",
       "       [1, 1, 2, 3]], dtype=int32)"
      ]
     },
     "execution_count": 16,
     "metadata": {},
     "output_type": "execute_result"
    }
   ],
   "source": [
    "# Modulus operator with scalar\n",
    "arr1 % 4"
   ]
  },
  {
   "cell_type": "markdown",
   "id": "b9134a0a",
   "metadata": {},
   "source": [
    "## Broadcasting"
   ]
  },
  {
   "cell_type": "markdown",
   "id": "89c53d6c",
   "metadata": {},
   "source": [
    "Broadcasting allows arithmetic operations between two arrays with different numbers of dimensions but compatible shapes.\n",
    "\n",
    "The [Broadcasting documentation](https://numpy.org/doc/stable/user/basics.broadcasting.html) succinctly explains it as the following:\n",
    "\n",
    "\"The term broadcasting describes how NumPy treats arrays with different shapes during arithmetic operations. Subject to certain constraints, the smaller array is *broadcast* across the larger array so that they have compatible shapes. Broadcasting provides a means of vectorizing array operations so that looping occurs in C instead of Python. It does this without making needless copies of data and usually leads to efficient algorithm implementations.\"\n",
    "\n",
    "The example below shows the broadcasting of two arrays."
   ]
  },
  {
   "cell_type": "code",
   "execution_count": 19,
   "id": "9e281c3f",
   "metadata": {},
   "outputs": [],
   "source": [
    "arr1 = np.array([[1, 2, 3, 4], \n",
    "                 [5, 6, 7, 8], \n",
    "                 [9, 1, 2, 3]])\n",
    "arr2 = np.array([4, 5, 6, 7])"
   ]
  },
  {
   "cell_type": "code",
   "execution_count": 20,
   "id": "a77aa5ea",
   "metadata": {},
   "outputs": [
    {
     "data": {
      "text/plain": [
       "array([[ 5,  7,  9, 11],\n",
       "       [ 9, 11, 13, 15],\n",
       "       [13,  6,  8, 10]])"
      ]
     },
     "execution_count": 20,
     "metadata": {},
     "output_type": "execute_result"
    }
   ],
   "source": [
    "arr1 + arr2"
   ]
  },
  {
   "cell_type": "markdown",
   "id": "abeaeae9",
   "metadata": {},
   "source": [
    "When the expression `arr1 + arr2` is evaluated, `arr2` (which has the shape `(4,)`) is replicated three times to match the shape `(3, 4)` of `arr1`. Numpy performs the replication without actually creating three copies of the smaller dimension array, thus improving performance and using lower memory."
   ]
  },
  {
   "cell_type": "markdown",
   "id": "c1bdaa2e",
   "metadata": {},
   "source": [
    "In the above addition of arrays, `arr2` was *stretched* or *broadcast* to the shape of `arr1`. However, this broadcasting was possible only because the right dimension of both the arrays is 4, and the left dimension of one of the arrays is 1. \n",
    "\n",
    "See the [broadcasting documentation](https://numpy.org/doc/stable/user/basics.broadcasting.html) to understand the rules for broadcasting:\n",
    "\n",
    "\"When operating on two arrays, NumPy compares their shapes element-wise. It starts with the trailing (i.e. rightmost) dimensions and works its way left. Two dimensions are compatible when:\n",
    "\n",
    "- they are equal, or\n",
    "- one of them is 1\"\n",
    "\n",
    "If the rightmost dimension of `arr2` is 3, broadcasting will not occur, as it is not equal to the rightmost dimension of `arr1`:"
   ]
  },
  {
   "cell_type": "code",
   "execution_count": 23,
   "id": "a19f3dcf",
   "metadata": {},
   "outputs": [],
   "source": [
    "#Defining arr2 as an array of shape (3,)\n",
    "arr2 = np.array([4, 5, 6])"
   ]
  },
  {
   "cell_type": "code",
   "execution_count": 24,
   "id": "fbd437a9",
   "metadata": {},
   "outputs": [
    {
     "ename": "ValueError",
     "evalue": "operands could not be broadcast together with shapes (3,4) (3,) ",
     "output_type": "error",
     "traceback": [
      "\u001b[1;31m---------------------------------------------------------------------------\u001b[0m",
      "\u001b[1;31mValueError\u001b[0m                                Traceback (most recent call last)",
      "\u001b[1;32m<ipython-input-24-d972d21b639e>\u001b[0m in \u001b[0;36m<module>\u001b[1;34m\u001b[0m\n\u001b[1;32m----> 1\u001b[1;33m \u001b[0marr1\u001b[0m \u001b[1;33m+\u001b[0m \u001b[0marr2\u001b[0m\u001b[1;33m\u001b[0m\u001b[1;33m\u001b[0m\u001b[0m\n\u001b[0m",
      "\u001b[1;31mValueError\u001b[0m: operands could not be broadcast together with shapes (3,4) (3,) "
     ]
    }
   ],
   "source": [
    "#Broadcasting will not happen when the broadcasting rules are violated\n",
    "arr1 + arr2"
   ]
  },
  {
   "cell_type": "markdown",
   "id": "0a46c920",
   "metadata": {},
   "source": [
    "## Comparison"
   ]
  },
  {
   "cell_type": "markdown",
   "id": "ebd90b0e",
   "metadata": {},
   "source": [
    "Numpy arrays support comparison operations like `==`, `!=`, `>` etc. The result is an array of booleans."
   ]
  },
  {
   "cell_type": "code",
   "execution_count": 26,
   "id": "237ddd57",
   "metadata": {},
   "outputs": [],
   "source": [
    "arr1 = np.array([[1, 2, 3], [3, 4, 5]])\n",
    "arr2 = np.array([[2, 2, 3], [1, 2, 5]])"
   ]
  },
  {
   "cell_type": "code",
   "execution_count": 27,
   "id": "e8716350",
   "metadata": {},
   "outputs": [
    {
     "data": {
      "text/plain": [
       "array([[False,  True,  True],\n",
       "       [False, False,  True]])"
      ]
     },
     "execution_count": 27,
     "metadata": {},
     "output_type": "execute_result"
    }
   ],
   "source": [
    "arr1 == arr2"
   ]
  },
  {
   "cell_type": "code",
   "execution_count": 43,
   "id": "dc097ecd",
   "metadata": {},
   "outputs": [
    {
     "data": {
      "text/plain": [
       "array([[ True, False, False],\n",
       "       [ True,  True, False]])"
      ]
     },
     "execution_count": 43,
     "metadata": {},
     "output_type": "execute_result"
    }
   ],
   "source": [
    "arr1 != arr2"
   ]
  },
  {
   "cell_type": "code",
   "execution_count": 44,
   "id": "2aadd953",
   "metadata": {},
   "outputs": [
    {
     "data": {
      "text/plain": [
       "array([[False,  True,  True],\n",
       "       [ True,  True,  True]])"
      ]
     },
     "execution_count": 44,
     "metadata": {},
     "output_type": "execute_result"
    }
   ],
   "source": [
    "arr1 >= arr2"
   ]
  },
  {
   "cell_type": "code",
   "execution_count": 45,
   "id": "9476fd97",
   "metadata": {},
   "outputs": [
    {
     "data": {
      "text/plain": [
       "array([[ True, False, False],\n",
       "       [False, False, False]])"
      ]
     },
     "execution_count": 45,
     "metadata": {},
     "output_type": "execute_result"
    }
   ],
   "source": [
    "arr1 < arr2"
   ]
  },
  {
   "cell_type": "markdown",
   "id": "26620e44",
   "metadata": {},
   "source": [
    "Array comparison is frequently used to count the number of equal elements in two arrays using the `sum` method. Remember that `True` evaluates to `1` and `False` evaluates to `0` when booleans are used in arithmetic operations."
   ]
  },
  {
   "cell_type": "code",
   "execution_count": 46,
   "id": "990a8429",
   "metadata": {},
   "outputs": [
    {
     "data": {
      "text/plain": [
       "3"
      ]
     },
     "execution_count": 46,
     "metadata": {},
     "output_type": "execute_result"
    }
   ],
   "source": [
    "(arr1 == arr2).sum()"
   ]
  },
  {
   "cell_type": "markdown",
   "id": "238ab132",
   "metadata": {},
   "source": [
    "## Concatenating arrays"
   ]
  },
  {
   "cell_type": "markdown",
   "id": "661017b9",
   "metadata": {},
   "source": [
    "Arrays can be concatenated along an axis with NumPy's [concatenate](https://numpy.org/doc/stable/reference/generated/numpy.concatenate.html) function. The `axis` argument specifies the dimension for concatenation. The arrays should have the same number of dimensions, and the same length along each axis except the axis used for concatenation."
   ]
  },
  {
   "cell_type": "markdown",
   "id": "0dc9052d",
   "metadata": {},
   "source": [
    "The examples below show concatenation of arrays."
   ]
  },
  {
   "cell_type": "code",
   "execution_count": 4,
   "id": "bb77eff2",
   "metadata": {},
   "outputs": [
    {
     "name": "stdout",
     "output_type": "stream",
     "text": [
      "Array 1:\n",
      " [[1 2 3]\n",
      " [3 4 5]]\n",
      "Array 2:\n",
      " [[2 2 3]\n",
      " [1 2 5]]\n"
     ]
    }
   ],
   "source": [
    "arr1 = np.array([[1, 2, 3], [3, 4, 5]])\n",
    "arr2 = np.array([[2, 2, 3], [1, 2, 5]])\n",
    "print(\"Array 1:\\n\",arr1)\n",
    "print(\"Array 2:\\n\",arr2)"
   ]
  },
  {
   "cell_type": "code",
   "execution_count": 5,
   "id": "bbe81e5d",
   "metadata": {},
   "outputs": [
    {
     "data": {
      "text/plain": [
       "array([[1, 2, 3],\n",
       "       [3, 4, 5],\n",
       "       [2, 2, 3],\n",
       "       [1, 2, 5]])"
      ]
     },
     "execution_count": 5,
     "metadata": {},
     "output_type": "execute_result"
    }
   ],
   "source": [
    "#Concatenating the arrays along the default axis: axis=0\n",
    "np.concatenate((arr1,arr2))"
   ]
  },
  {
   "cell_type": "code",
   "execution_count": 6,
   "id": "a538a500",
   "metadata": {},
   "outputs": [
    {
     "data": {
      "text/plain": [
       "array([[1, 2, 3, 2, 2, 3],\n",
       "       [3, 4, 5, 1, 2, 5]])"
      ]
     },
     "execution_count": 6,
     "metadata": {},
     "output_type": "execute_result"
    }
   ],
   "source": [
    "#Concatenating the arrays along axis = 1\n",
    "np.concatenate((arr1,arr2),axis=1)"
   ]
  },
  {
   "cell_type": "markdown",
   "id": "b631398f",
   "metadata": {},
   "source": [
    "Since the arrays need to have the same dimension only along the axis of concatenation, let us try concatenate the array below (`arr3`) with `arr1`, along axis = 0."
   ]
  },
  {
   "cell_type": "code",
   "execution_count": 41,
   "id": "c57d00ac",
   "metadata": {},
   "outputs": [],
   "source": [
    "arr3 = np.array([2, 2, 3])"
   ]
  },
  {
   "cell_type": "code",
   "execution_count": 43,
   "id": "4e1bf7fc",
   "metadata": {},
   "outputs": [
    {
     "ename": "ValueError",
     "evalue": "all the input arrays must have same number of dimensions, but the array at index 0 has 2 dimension(s) and the array at index 1 has 1 dimension(s)",
     "output_type": "error",
     "traceback": [
      "\u001b[1;31m---------------------------------------------------------------------------\u001b[0m",
      "\u001b[1;31mValueError\u001b[0m                                Traceback (most recent call last)",
      "\u001b[1;32m<ipython-input-43-33ac676c1fdf>\u001b[0m in \u001b[0;36m<module>\u001b[1;34m\u001b[0m\n\u001b[1;32m----> 1\u001b[1;33m \u001b[0mnp\u001b[0m\u001b[1;33m.\u001b[0m\u001b[0mconcatenate\u001b[0m\u001b[1;33m(\u001b[0m\u001b[1;33m(\u001b[0m\u001b[0marr1\u001b[0m\u001b[1;33m,\u001b[0m\u001b[0marr3\u001b[0m\u001b[1;33m)\u001b[0m\u001b[1;33m,\u001b[0m\u001b[0maxis\u001b[0m\u001b[1;33m=\u001b[0m\u001b[1;36m0\u001b[0m\u001b[1;33m)\u001b[0m\u001b[1;33m\u001b[0m\u001b[1;33m\u001b[0m\u001b[0m\n\u001b[0m",
      "\u001b[1;32m<__array_function__ internals>\u001b[0m in \u001b[0;36mconcatenate\u001b[1;34m(*args, **kwargs)\u001b[0m\n",
      "\u001b[1;31mValueError\u001b[0m: all the input arrays must have same number of dimensions, but the array at index 0 has 2 dimension(s) and the array at index 1 has 1 dimension(s)"
     ]
    }
   ],
   "source": [
    "np.concatenate((arr1,arr3),axis=0)"
   ]
  },
  {
   "cell_type": "markdown",
   "id": "ed0633a4",
   "metadata": {},
   "source": [
    "Note the above error, which indicates that `arr3` has only one dimension. Let us check the shape of `arr3`."
   ]
  },
  {
   "cell_type": "code",
   "execution_count": 44,
   "id": "fa845379",
   "metadata": {},
   "outputs": [
    {
     "data": {
      "text/plain": [
       "(3,)"
      ]
     },
     "execution_count": 44,
     "metadata": {},
     "output_type": "execute_result"
    }
   ],
   "source": [
    "arr3.shape"
   ]
  },
  {
   "cell_type": "markdown",
   "id": "596b83a2",
   "metadata": {},
   "source": [
    "We can reshape `arr3` to a shape of (1,3) to make it compatible for concatenation with `arr1` along axis = 0. "
   ]
  },
  {
   "cell_type": "code",
   "execution_count": 45,
   "id": "993124c4",
   "metadata": {},
   "outputs": [
    {
     "data": {
      "text/plain": [
       "array([[2, 2, 3]])"
      ]
     },
     "execution_count": 45,
     "metadata": {},
     "output_type": "execute_result"
    }
   ],
   "source": [
    "arr3_reshaped = arr3.reshape(1,3)\n",
    "arr3_reshaped"
   ]
  },
  {
   "cell_type": "markdown",
   "id": "0f000579",
   "metadata": {},
   "source": [
    "Now we can concatenate the reshaped `arr3` with `arr1` along axis = 0."
   ]
  },
  {
   "cell_type": "code",
   "execution_count": 47,
   "id": "f9eb2182",
   "metadata": {},
   "outputs": [
    {
     "data": {
      "text/plain": [
       "array([[1, 2, 3],\n",
       "       [3, 4, 5],\n",
       "       [2, 2, 3]])"
      ]
     },
     "execution_count": 47,
     "metadata": {},
     "output_type": "execute_result"
    }
   ],
   "source": [
    "np.concatenate((arr1,arr3_reshaped),axis=0)"
   ]
  },
  {
   "cell_type": "markdown",
   "id": "74424cff",
   "metadata": {},
   "source": [
    "## Practice exercise 1"
   ]
  },
  {
   "cell_type": "markdown",
   "id": "28e19bce",
   "metadata": {},
   "source": [
    "#### \n",
    "Read the coordinates of the capital cities of the world from http://techslides.com/list-of-countries-and-capitals . Use NumPy to print the name and coordinates of the capital city closest to the US capital - Washington DC. \n",
    "\n",
    "Note that:\n",
    "\n",
    "1. The *Country Name* for US is given as *United States* in the data.\n",
    "2. The 'closeness' of capital cities from the US capital is based on the Euclidean distance of their coordinates to those of the US capital.\n",
    "\n",
    "**Hints:**\n",
    "\n",
    "1. Use *read_html()* from the *Pandas* library to read the table.\n",
    "2. Use the *to_numpy()* function of the *Pandas DataFrame* class to convert a DataFrame to a Numpy array\n",
    "3. Use *broadcasting* to compute the euclidean distance of capital cities from Washington DC."
   ]
  },
  {
   "cell_type": "markdown",
   "id": "d9ef6d15",
   "metadata": {},
   "source": [
    "**Solution:**"
   ]
  },
  {
   "cell_type": "code",
   "execution_count": 7,
   "id": "ad1fe3d5",
   "metadata": {},
   "outputs": [
    {
     "name": "stdout",
     "output_type": "stream",
     "text": [
      "Closest capital city is: Ottawa\n",
      "Coordinates of the closest capital city are: [ 45.41666667 -75.7       ]\n"
     ]
    }
   ],
   "source": [
    "import pandas as pd\n",
    "capital_cities = pd.read_html('http://techslides.com/list-of-countries-and-capitals',header=0)[0]\n",
    "coordinates_capital_cities = capital_cities.iloc[:,2:4].to_numpy()\n",
    "us_coordinates = capital_cities.loc[capital_cities['Country Name']=='United States',['Capital Latitude','Capital Longitude']].to_numpy()\n",
    "\n",
    "#Broadcasting\n",
    "distance_from_DC = np.sqrt(np.sum((us_coordinates-coordinates_capital_cities)**2,axis=1))\n",
    "\n",
    "#Assigning a high value of distance to DC, otherwise it will itself be selected as being closest to DC\n",
    "distance_from_DC[distance_from_DC==0]=9999\n",
    "closest_capital_index = np.argmin(distance_from_DC)\n",
    "print(\"Closest capital city is:\" ,capital_cities.loc[closest_capital_index,'Capital Name'])\n",
    "print(\"Coordinates of the closest capital city are:\",coordinates_capital_cities[closest_capital_index,:])"
   ]
  },
  {
   "cell_type": "markdown",
   "id": "9e19a6f9",
   "metadata": {},
   "source": [
    "#### \n",
    "Use NumPy to:\n",
    "\n",
    "1. Print the names of the countries of the top 10 capital cities closest to the US capital - Washington DC. \n",
    "\n",
    "2. Create and print a NumPy array containing the coordinates of the top 10 cities.\n",
    "\n",
    "\n",
    "**Hint:**\n",
    "Use the *concatenate()* function from the *NumPy* library to stack the coordinates of the top 10 cities."
   ]
  },
  {
   "cell_type": "code",
   "execution_count": 8,
   "id": "d6733eeb",
   "metadata": {},
   "outputs": [
    {
     "name": "stdout",
     "output_type": "stream",
     "text": [
      "Top 10 countries closest to Washington DC are:\n",
      " Canada\n",
      "Bahamas\n",
      "Bermuda\n",
      "Cuba\n",
      "Turks and Caicos Islands\n",
      "Cayman Islands\n",
      "Haiti\n",
      "Jamaica\n",
      "Dominican Republic\n",
      "Saint Pierre and Miquelon\n",
      "Coordinates of the top 10 cities closest to US are: \n",
      " [[ 45.41666667 -75.7       ]\n",
      " [ 25.08333333 -77.35      ]\n",
      " [ 32.28333333 -64.783333  ]\n",
      " [ 23.11666667 -82.35      ]\n",
      " [ 21.46666667 -71.133333  ]\n",
      " [ 19.3        -81.383333  ]\n",
      " [ 18.53333333 -72.333333  ]\n",
      " [ 18.         -76.8       ]\n",
      " [ 18.46666667 -69.9       ]\n",
      " [ 46.76666667 -56.183333  ]]\n"
     ]
    }
   ],
   "source": [
    "top10_cities_coordinates = coordinates_capital_cities[closest_capital_index,:].reshape(1,2)\n",
    "print(\"Top 10 countries closest to Washington DC are:\\n Canada\")\n",
    "for i in range(9):\n",
    "    distance_from_DC[closest_capital_index]=9999\n",
    "    closest_capital_index = np.argmin(distance_from_DC)\n",
    "    print(capital_cities.loc[closest_capital_index,'Country Name'])\n",
    "    top10_cities_coordinates=np.concatenate((top10_cities_coordinates,coordinates_capital_cities[closest_capital_index,:].reshape(1,2)))\n",
    "print(\"Coordinates of the top 10 cities closest to US are: \\n\",top10_cities_coordinates)"
   ]
  },
  {
   "cell_type": "markdown",
   "id": "d29644c9",
   "metadata": {},
   "source": [
    "## Vectorized computation with NumPy"
   ]
  },
  {
   "cell_type": "markdown",
   "id": "552dea11",
   "metadata": {},
   "source": [
    "Several matrix algebra operations such as multiplications, decompositions, determinants, etc. can be performed conveniently with NumPy. However, we'll focus on matrix multiplication as it is very commonly used to avoid python `for` loops and make computations faster. The [dot](https://numpy.org/doc/stable/reference/generated/numpy.dot.html) function is used to multiply matrices:"
   ]
  },
  {
   "cell_type": "code",
   "execution_count": 98,
   "id": "f03800da",
   "metadata": {},
   "outputs": [
    {
     "data": {
      "text/plain": [
       "array([[0, 1],\n",
       "       [3, 4]])"
      ]
     },
     "execution_count": 98,
     "metadata": {},
     "output_type": "execute_result"
    }
   ],
   "source": [
    "#Defining a 2x2 matrix\n",
    "a = np.array([[0,1],[3,4]])\n",
    "a"
   ]
  },
  {
   "cell_type": "code",
   "execution_count": 99,
   "id": "b252878f",
   "metadata": {},
   "outputs": [
    {
     "data": {
      "text/plain": [
       "array([[ 6, -1],\n",
       "       [ 2,  1]])"
      ]
     },
     "execution_count": 99,
     "metadata": {},
     "output_type": "execute_result"
    }
   ],
   "source": [
    "#Defining a 2x2 matrix\n",
    "b = np.array([[6,-1],[2,1]])\n",
    "b"
   ]
  },
  {
   "cell_type": "code",
   "execution_count": 100,
   "id": "8fd20de3",
   "metadata": {},
   "outputs": [
    {
     "data": {
      "text/plain": [
       "array([[ 2,  1],\n",
       "       [26,  1]])"
      ]
     },
     "execution_count": 100,
     "metadata": {},
     "output_type": "execute_result"
    }
   ],
   "source": [
    "#Multiplying matrices 'a' and 'b' using the dot function\n",
    "a.dot(b)"
   ]
  },
  {
   "cell_type": "code",
   "execution_count": 101,
   "id": "abf64560",
   "metadata": {},
   "outputs": [
    {
     "data": {
      "text/plain": [
       "array([[ 0, -1],\n",
       "       [ 6,  4]])"
      ]
     },
     "execution_count": 101,
     "metadata": {},
     "output_type": "execute_result"
    }
   ],
   "source": [
    "#Note that * results in element-wise multiplication\n",
    "a*b"
   ]
  },
  {
   "cell_type": "markdown",
   "id": "8c6a2555",
   "metadata": {},
   "source": [
    "**Example 2:** This example will show vectorized computations with NumPy. Vectorized computations help perform computations more efficiently, and also make the code concise.\n",
    "\n",
    "**Q:** Read the (1) quantities of roll, bun, cake and bread required by 3 people - Ben, Barbara & Beth, from *food_quantity.csv*, (2) price of these food items in two shops - Target and Kroger, from *price.csv*. Find out which shop should each person go to minimize their expenses."
   ]
  },
  {
   "cell_type": "code",
   "execution_count": 32,
   "id": "fe23bb25",
   "metadata": {},
   "outputs": [],
   "source": [
    "#Reading the datasets on food quantity and price\n",
    "import pandas as pd\n",
    "food_qty = pd.read_csv('./Datasets/food_quantity.csv')\n",
    "price = pd.read_csv('./Datasets/price.csv')"
   ]
  },
  {
   "cell_type": "code",
   "execution_count": 33,
   "id": "ff5d77cd",
   "metadata": {},
   "outputs": [
    {
     "data": {
      "text/html": [
       "<div>\n",
       "<style scoped>\n",
       "    .dataframe tbody tr th:only-of-type {\n",
       "        vertical-align: middle;\n",
       "    }\n",
       "\n",
       "    .dataframe tbody tr th {\n",
       "        vertical-align: top;\n",
       "    }\n",
       "\n",
       "    .dataframe thead th {\n",
       "        text-align: right;\n",
       "    }\n",
       "</style>\n",
       "<table border=\"1\" class=\"dataframe\">\n",
       "  <thead>\n",
       "    <tr style=\"text-align: right;\">\n",
       "      <th></th>\n",
       "      <th>Person</th>\n",
       "      <th>roll</th>\n",
       "      <th>bun</th>\n",
       "      <th>cake</th>\n",
       "      <th>bread</th>\n",
       "    </tr>\n",
       "  </thead>\n",
       "  <tbody>\n",
       "    <tr>\n",
       "      <th>0</th>\n",
       "      <td>Ben</td>\n",
       "      <td>6</td>\n",
       "      <td>5</td>\n",
       "      <td>3</td>\n",
       "      <td>1</td>\n",
       "    </tr>\n",
       "    <tr>\n",
       "      <th>1</th>\n",
       "      <td>Barbara</td>\n",
       "      <td>3</td>\n",
       "      <td>6</td>\n",
       "      <td>2</td>\n",
       "      <td>2</td>\n",
       "    </tr>\n",
       "    <tr>\n",
       "      <th>2</th>\n",
       "      <td>Beth</td>\n",
       "      <td>3</td>\n",
       "      <td>4</td>\n",
       "      <td>3</td>\n",
       "      <td>1</td>\n",
       "    </tr>\n",
       "  </tbody>\n",
       "</table>\n",
       "</div>"
      ],
      "text/plain": [
       "    Person  roll  bun  cake  bread\n",
       "0      Ben     6    5     3      1\n",
       "1  Barbara     3    6     2      2\n",
       "2     Beth     3    4     3      1"
      ]
     },
     "execution_count": 33,
     "metadata": {},
     "output_type": "execute_result"
    }
   ],
   "source": [
    "food_qty"
   ]
  },
  {
   "cell_type": "code",
   "execution_count": 34,
   "id": "c618f543",
   "metadata": {},
   "outputs": [
    {
     "data": {
      "text/html": [
       "<div>\n",
       "<style scoped>\n",
       "    .dataframe tbody tr th:only-of-type {\n",
       "        vertical-align: middle;\n",
       "    }\n",
       "\n",
       "    .dataframe tbody tr th {\n",
       "        vertical-align: top;\n",
       "    }\n",
       "\n",
       "    .dataframe thead th {\n",
       "        text-align: right;\n",
       "    }\n",
       "</style>\n",
       "<table border=\"1\" class=\"dataframe\">\n",
       "  <thead>\n",
       "    <tr style=\"text-align: right;\">\n",
       "      <th></th>\n",
       "      <th>Item</th>\n",
       "      <th>Target</th>\n",
       "      <th>Kroger</th>\n",
       "    </tr>\n",
       "  </thead>\n",
       "  <tbody>\n",
       "    <tr>\n",
       "      <th>0</th>\n",
       "      <td>roll</td>\n",
       "      <td>1.5</td>\n",
       "      <td>1.0</td>\n",
       "    </tr>\n",
       "    <tr>\n",
       "      <th>1</th>\n",
       "      <td>bun</td>\n",
       "      <td>2.0</td>\n",
       "      <td>2.5</td>\n",
       "    </tr>\n",
       "    <tr>\n",
       "      <th>2</th>\n",
       "      <td>cake</td>\n",
       "      <td>5.0</td>\n",
       "      <td>4.5</td>\n",
       "    </tr>\n",
       "    <tr>\n",
       "      <th>3</th>\n",
       "      <td>bread</td>\n",
       "      <td>16.0</td>\n",
       "      <td>17.0</td>\n",
       "    </tr>\n",
       "  </tbody>\n",
       "</table>\n",
       "</div>"
      ],
      "text/plain": [
       "    Item  Target  Kroger\n",
       "0   roll     1.5     1.0\n",
       "1    bun     2.0     2.5\n",
       "2   cake     5.0     4.5\n",
       "3  bread    16.0    17.0"
      ]
     },
     "execution_count": 34,
     "metadata": {},
     "output_type": "execute_result"
    }
   ],
   "source": [
    "price"
   ]
  },
  {
   "cell_type": "markdown",
   "id": "24a4ee1b",
   "metadata": {},
   "source": [
    "First, let's start from a simple problem. We'll compute the expenses of Ben if he prefers to buy all food items from Target"
   ]
  },
  {
   "cell_type": "code",
   "execution_count": 36,
   "id": "f35a8a58",
   "metadata": {},
   "outputs": [
    {
     "data": {
      "text/plain": [
       "50.0"
      ]
     },
     "execution_count": 36,
     "metadata": {},
     "output_type": "execute_result"
    }
   ],
   "source": [
    "#Method 1: Using loop\n",
    "bens_target_expense = 0 #Initializing Ben's expenses to 0\n",
    "for k in range(4):   #Iterating over all the four desired food items\n",
    "    bens_target_expense += food_qty.iloc[0,k+1]*price.iloc[k,1] #Total expenses on the kth item\n",
    "bens_target_expense    #Total expenses for Ben if he goes to Target"
   ]
  },
  {
   "cell_type": "code",
   "execution_count": 37,
   "id": "62ef09bb",
   "metadata": {},
   "outputs": [
    {
     "data": {
      "text/plain": [
       "50.0"
      ]
     },
     "execution_count": 37,
     "metadata": {},
     "output_type": "execute_result"
    }
   ],
   "source": [
    "#Method 2: Using NumPy array\n",
    "food_num = food_qty.iloc[0,1:].to_numpy()  #Converting food quantity (for Ben) dataframe to NumPy array\n",
    "price_num = price.iloc[:,1].to_numpy()     #Converting price (for Target) dataframe to NumPy array\n",
    "food_num.dot(price_num)   #Matrix multiplication of the quantity vector with the price vector directly yields the result"
   ]
  },
  {
   "cell_type": "markdown",
   "id": "814f4dfb",
   "metadata": {},
   "source": [
    "Ben will spend $50 if he goes to Target"
   ]
  },
  {
   "cell_type": "markdown",
   "id": "12b6a800",
   "metadata": {},
   "source": [
    "Now, let's add another layer of complication. We'll compute Ben's expenses for both stores - Target and Kroger"
   ]
  },
  {
   "cell_type": "code",
   "execution_count": 38,
   "id": "0b578411",
   "metadata": {},
   "outputs": [
    {
     "data": {
      "text/plain": [
       "Target    50.0\n",
       "Kroger    49.0\n",
       "dtype: float64"
      ]
     },
     "execution_count": 38,
     "metadata": {},
     "output_type": "execute_result"
    }
   ],
   "source": [
    "#Method 1: Using loops\n",
    "\n",
    "#Initializing a Series of length two to store the expenses in Target and Kroger for Ben\n",
    "bens_store_expense = pd.Series(0.0,index=price.columns[1:3])\n",
    "for j in range(2):      #Iterating over both the stores - Target and Kroger\n",
    "    for k in range(4):        #Iterating over all the four desired food items\n",
    "        bens_store_expense[j] += food_qty.iloc[0,k+1]*price.iloc[k,j+1]\n",
    "bens_store_expense"
   ]
  },
  {
   "cell_type": "code",
   "execution_count": 39,
   "id": "4aaf0371",
   "metadata": {},
   "outputs": [
    {
     "data": {
      "text/plain": [
       "array([50.0, 49.0], dtype=object)"
      ]
     },
     "execution_count": 39,
     "metadata": {},
     "output_type": "execute_result"
    }
   ],
   "source": [
    "#Method 2: Using NumPy array\n",
    "food_num = food_qty.iloc[0,1:].to_numpy()  #Converting food quantity (for Ben) dataframe to NumPy array\n",
    "price_num = price.iloc[:,1:].to_numpy()    #Converting price dataframe to NumPy array\n",
    "food_num.dot(price_num)      #Matrix multiplication of the quantity vector with the price matrix directly yields the result"
   ]
  },
  {
   "cell_type": "markdown",
   "id": "b5b0f461",
   "metadata": {},
   "source": [
    "Ben will spend \\\\$50 if he goes to Target, and $49 if he goes to Kroger. Thus, he should choose Kroger."
   ]
  },
  {
   "cell_type": "markdown",
   "id": "0a2bf0d6",
   "metadata": {},
   "source": [
    "Now, let's add the final layer of complication, and solve the problem. We'll compute everyone's expenses for both stores - Target and Kroger"
   ]
  },
  {
   "cell_type": "code",
   "execution_count": 40,
   "id": "ea2864d1",
   "metadata": {},
   "outputs": [
    {
     "data": {
      "text/html": [
       "<div>\n",
       "<style scoped>\n",
       "    .dataframe tbody tr th:only-of-type {\n",
       "        vertical-align: middle;\n",
       "    }\n",
       "\n",
       "    .dataframe tbody tr th {\n",
       "        vertical-align: top;\n",
       "    }\n",
       "\n",
       "    .dataframe thead th {\n",
       "        text-align: right;\n",
       "    }\n",
       "</style>\n",
       "<table border=\"1\" class=\"dataframe\">\n",
       "  <thead>\n",
       "    <tr style=\"text-align: right;\">\n",
       "      <th>Person</th>\n",
       "      <th>Ben</th>\n",
       "      <th>Barbara</th>\n",
       "      <th>Beth</th>\n",
       "    </tr>\n",
       "  </thead>\n",
       "  <tbody>\n",
       "    <tr>\n",
       "      <th>Target</th>\n",
       "      <td>50.0</td>\n",
       "      <td>58.5</td>\n",
       "      <td>43.5</td>\n",
       "    </tr>\n",
       "    <tr>\n",
       "      <th>Kroger</th>\n",
       "      <td>49.0</td>\n",
       "      <td>61.0</td>\n",
       "      <td>43.5</td>\n",
       "    </tr>\n",
       "  </tbody>\n",
       "</table>\n",
       "</div>"
      ],
      "text/plain": [
       "Person   Ben  Barbara  Beth\n",
       "Target  50.0     58.5  43.5\n",
       "Kroger  49.0     61.0  43.5"
      ]
     },
     "execution_count": 40,
     "metadata": {},
     "output_type": "execute_result"
    }
   ],
   "source": [
    "#Method 1: Using loops\n",
    "store_expense = pd.DataFrame(0.0,index=price.columns[1:3],columns = food_qty['Person'])\n",
    "for i in range(3):    #Iterating over all the three people - Ben, Barbara, and Beth\n",
    "    for j in range(2):     #Iterating over both the stores - Target and Kroger\n",
    "        for k in range(4):        #Iterating over all the four desired food items\n",
    "            store_expense.iloc[j,i] += food_qty.iloc[i,k+1]*price.iloc[k,j+1]\n",
    "store_expense"
   ]
  },
  {
   "cell_type": "code",
   "execution_count": 41,
   "id": "a6b22162",
   "metadata": {},
   "outputs": [
    {
     "data": {
      "text/plain": [
       "array([[50. , 49. ],\n",
       "       [58.5, 61. ],\n",
       "       [43.5, 43.5]])"
      ]
     },
     "execution_count": 41,
     "metadata": {},
     "output_type": "execute_result"
    }
   ],
   "source": [
    "#Method 2: Using NumPy array\n",
    "food_num = food_qty.iloc[:,1:].to_numpy() #Converting food quantity dataframe to NumPy array\n",
    "price_num = price.iloc[:,1:].to_numpy()  #Converting price dataframe to NumPy array\n",
    "food_num.dot(price_num)  #Matrix multiplication of the quantity matrix with the price matrix directly yields the result"
   ]
  },
  {
   "cell_type": "markdown",
   "id": "4b41dd9b",
   "metadata": {},
   "source": [
    "Based on the above table, Ben should go to Kroger, Barbara to Target and Beth can go to either store.  \\\n",
    "Note that, with each layer of complication, the number of for loops keep increasing, thereby increasing the complexity of Method 1, while the method with NumPy array does not change much. Vectorized computations with arrays are much more efficient."
   ]
  },
  {
   "cell_type": "markdown",
   "id": "42fc9c17",
   "metadata": {},
   "source": [
    "### Practice exercise 2\n",
    "\n",
    "Use matrix multiplication to find the average IMDB rating and average Rotten tomatoes rating for each genre - comedy, action, drama and horror. Use the data: *movies_cleaned.csv*. Which is the most preferred genre for IMDB users, and which is the least preferred genre for Rotten Tomatoes users?\n",
    "\n",
    "**Hint:** \n",
    "1. Create two matrices - one containing the IMDB and Rotten Tomatoes ratings, and the other containing the genre flags (comedy/action/drama/horror). \n",
    "\n",
    "2. Multiply the two matrices created in 1.\n",
    "\n",
    "3. Divide each row/column of the resulting matrix by a vector having the number of ratings in each genre to get the average rating for the genre."
   ]
  },
  {
   "cell_type": "markdown",
   "id": "4a0337db",
   "metadata": {},
   "source": [
    "**Solution:**"
   ]
  },
  {
   "cell_type": "code",
   "execution_count": 4,
   "id": "0b1f5c96",
   "metadata": {},
   "outputs": [
    {
     "data": {
      "text/html": [
       "<div>\n",
       "<style scoped>\n",
       "    .dataframe tbody tr th:only-of-type {\n",
       "        vertical-align: middle;\n",
       "    }\n",
       "\n",
       "    .dataframe tbody tr th {\n",
       "        vertical-align: top;\n",
       "    }\n",
       "\n",
       "    .dataframe thead th {\n",
       "        text-align: right;\n",
       "    }\n",
       "</style>\n",
       "<table border=\"1\" class=\"dataframe\">\n",
       "  <thead>\n",
       "    <tr style=\"text-align: right;\">\n",
       "      <th></th>\n",
       "      <th>Title</th>\n",
       "      <th>IMDB Rating</th>\n",
       "      <th>Rotten Tomatoes Rating</th>\n",
       "      <th>Running Time min</th>\n",
       "      <th>Release Date</th>\n",
       "      <th>US Gross</th>\n",
       "      <th>Worldwide Gross</th>\n",
       "      <th>Production Budget</th>\n",
       "      <th>comedy</th>\n",
       "      <th>Action</th>\n",
       "      <th>drama</th>\n",
       "      <th>horror</th>\n",
       "    </tr>\n",
       "  </thead>\n",
       "  <tbody>\n",
       "    <tr>\n",
       "      <th>0</th>\n",
       "      <td>Broken Arrow</td>\n",
       "      <td>5.8</td>\n",
       "      <td>55</td>\n",
       "      <td>108</td>\n",
       "      <td>Feb 09 1996</td>\n",
       "      <td>70645997</td>\n",
       "      <td>148345997</td>\n",
       "      <td>65000000</td>\n",
       "      <td>0</td>\n",
       "      <td>1</td>\n",
       "      <td>0</td>\n",
       "      <td>0</td>\n",
       "    </tr>\n",
       "    <tr>\n",
       "      <th>1</th>\n",
       "      <td>Brazil</td>\n",
       "      <td>8.0</td>\n",
       "      <td>98</td>\n",
       "      <td>136</td>\n",
       "      <td>Dec 18 1985</td>\n",
       "      <td>9929135</td>\n",
       "      <td>9929135</td>\n",
       "      <td>15000000</td>\n",
       "      <td>1</td>\n",
       "      <td>0</td>\n",
       "      <td>0</td>\n",
       "      <td>0</td>\n",
       "    </tr>\n",
       "    <tr>\n",
       "      <th>2</th>\n",
       "      <td>The Cable Guy</td>\n",
       "      <td>5.8</td>\n",
       "      <td>52</td>\n",
       "      <td>95</td>\n",
       "      <td>Jun 14 1996</td>\n",
       "      <td>60240295</td>\n",
       "      <td>102825796</td>\n",
       "      <td>47000000</td>\n",
       "      <td>1</td>\n",
       "      <td>0</td>\n",
       "      <td>0</td>\n",
       "      <td>0</td>\n",
       "    </tr>\n",
       "    <tr>\n",
       "      <th>3</th>\n",
       "      <td>Chain Reaction</td>\n",
       "      <td>5.2</td>\n",
       "      <td>13</td>\n",
       "      <td>106</td>\n",
       "      <td>Aug 02 1996</td>\n",
       "      <td>21226204</td>\n",
       "      <td>60209334</td>\n",
       "      <td>55000000</td>\n",
       "      <td>0</td>\n",
       "      <td>1</td>\n",
       "      <td>0</td>\n",
       "      <td>0</td>\n",
       "    </tr>\n",
       "    <tr>\n",
       "      <th>4</th>\n",
       "      <td>Clash of the Titans</td>\n",
       "      <td>5.9</td>\n",
       "      <td>65</td>\n",
       "      <td>108</td>\n",
       "      <td>Jun 12 1981</td>\n",
       "      <td>30000000</td>\n",
       "      <td>30000000</td>\n",
       "      <td>15000000</td>\n",
       "      <td>0</td>\n",
       "      <td>1</td>\n",
       "      <td>0</td>\n",
       "      <td>0</td>\n",
       "    </tr>\n",
       "  </tbody>\n",
       "</table>\n",
       "</div>"
      ],
      "text/plain": [
       "                 Title  IMDB Rating  Rotten Tomatoes Rating  Running Time min  \\\n",
       "0         Broken Arrow          5.8                      55               108   \n",
       "1               Brazil          8.0                      98               136   \n",
       "2        The Cable Guy          5.8                      52                95   \n",
       "3       Chain Reaction          5.2                      13               106   \n",
       "4  Clash of the Titans          5.9                      65               108   \n",
       "\n",
       "  Release Date  US Gross  Worldwide Gross  Production Budget  comedy  Action  \\\n",
       "0  Feb 09 1996  70645997        148345997           65000000       0       1   \n",
       "1  Dec 18 1985   9929135          9929135           15000000       1       0   \n",
       "2  Jun 14 1996  60240295        102825796           47000000       1       0   \n",
       "3  Aug 02 1996  21226204         60209334           55000000       0       1   \n",
       "4  Jun 12 1981  30000000         30000000           15000000       0       1   \n",
       "\n",
       "   drama  horror  \n",
       "0      0       0  \n",
       "1      0       0  \n",
       "2      0       0  \n",
       "3      0       0  \n",
       "4      0       0  "
      ]
     },
     "execution_count": 4,
     "metadata": {},
     "output_type": "execute_result"
    }
   ],
   "source": [
    "import pandas as pd\n",
    "data = pd.read_csv('./Datasets/movies_cleaned.csv')\n",
    "data.head()"
   ]
  },
  {
   "cell_type": "code",
   "execution_count": 8,
   "id": "47710e17",
   "metadata": {},
   "outputs": [
    {
     "data": {
      "text/plain": [
       "array([[ 5.8, 55. ],\n",
       "       [ 8. , 98. ],\n",
       "       [ 5.8, 52. ],\n",
       "       ...,\n",
       "       [ 7. , 65. ],\n",
       "       [ 5.7, 26. ],\n",
       "       [ 6.7, 82. ]])"
      ]
     },
     "execution_count": 8,
     "metadata": {},
     "output_type": "execute_result"
    }
   ],
   "source": [
    "# Getting ratings of all movies\n",
    "drating = data[['IMDB Rating','Rotten Tomatoes Rating']]\n",
    "drating_num = drating.to_numpy() #Converting the data to NumPy array\n",
    "drating_num"
   ]
  },
  {
   "cell_type": "code",
   "execution_count": 6,
   "id": "33c243e9",
   "metadata": {},
   "outputs": [
    {
     "data": {
      "text/plain": [
       "array([[0, 1, 0, 0],\n",
       "       [1, 0, 0, 0],\n",
       "       [1, 0, 0, 0],\n",
       "       ...,\n",
       "       [1, 0, 0, 0],\n",
       "       [0, 1, 0, 0],\n",
       "       [0, 1, 0, 0]], dtype=int64)"
      ]
     },
     "execution_count": 6,
     "metadata": {},
     "output_type": "execute_result"
    }
   ],
   "source": [
    "# Getting the matrix indicating the genre of all movies\n",
    "dgenre = data.iloc[:,8:12]\n",
    "dgenre_num = dgenre.to_numpy() #Converting the data to NumPy array\n",
    "dgenre_num"
   ]
  },
  {
   "cell_type": "code",
   "execution_count": 9,
   "id": "29c9f347",
   "metadata": {},
   "outputs": [
    {
     "data": {
      "text/plain": [
       "array([[ 1785.6,  1673.1,  1630.3,   946.2],\n",
       "       [14119. , 13725. , 14535. ,  6533. ]])"
      ]
     },
     "execution_count": 9,
     "metadata": {},
     "output_type": "execute_result"
    }
   ],
   "source": [
    "#Total IMDB and Rotten tomatoes ratings for each genre\n",
    "ratings_sum_genre = drating_num.T.dot(dgenre_num)\n",
    "ratings_sum_genre"
   ]
  },
  {
   "cell_type": "code",
   "execution_count": 11,
   "id": "38d4ee04",
   "metadata": {},
   "outputs": [],
   "source": [
    "#Number of movies in the data will be stored in 'rows', and number of columns stored in 'cols'\n",
    "rows, cols = data.shape"
   ]
  },
  {
   "cell_type": "code",
   "execution_count": 12,
   "id": "a93df8cd",
   "metadata": {},
   "outputs": [
    {
     "data": {
      "text/plain": [
       "array([302., 264., 239., 154.])"
      ]
     },
     "execution_count": 12,
     "metadata": {},
     "output_type": "execute_result"
    }
   ],
   "source": [
    "#Getting number of movies in each genre\n",
    "movies_count_genre = dgenre_num.T.dot(np.ones(rows))\n",
    "movies_count_genre"
   ]
  },
  {
   "cell_type": "code",
   "execution_count": 13,
   "id": "cb066251",
   "metadata": {},
   "outputs": [
    {
     "data": {
      "text/plain": [
       "array([[ 5.91258278,  6.3375    ,  6.82133891,  6.14415584],\n",
       "       [46.75165563, 51.98863636, 60.81589958, 42.42207792]])"
      ]
     },
     "execution_count": 13,
     "metadata": {},
     "output_type": "execute_result"
    }
   ],
   "source": [
    "#Finding the average IMDB and average Rotten tomatoes ratings for each genre\n",
    "ratings_sum_genre/movies_count_genre"
   ]
  },
  {
   "cell_type": "code",
   "execution_count": 14,
   "id": "06ae04ec",
   "metadata": {},
   "outputs": [
    {
     "data": {
      "text/html": [
       "<div>\n",
       "<style scoped>\n",
       "    .dataframe tbody tr th:only-of-type {\n",
       "        vertical-align: middle;\n",
       "    }\n",
       "\n",
       "    .dataframe tbody tr th {\n",
       "        vertical-align: top;\n",
       "    }\n",
       "\n",
       "    .dataframe thead th {\n",
       "        text-align: right;\n",
       "    }\n",
       "</style>\n",
       "<table border=\"1\" class=\"dataframe\">\n",
       "  <thead>\n",
       "    <tr style=\"text-align: right;\">\n",
       "      <th></th>\n",
       "      <th>comedy</th>\n",
       "      <th>Action</th>\n",
       "      <th>drama</th>\n",
       "      <th>horror</th>\n",
       "    </tr>\n",
       "  </thead>\n",
       "  <tbody>\n",
       "    <tr>\n",
       "      <th>IMDB Rating</th>\n",
       "      <td>5.912583</td>\n",
       "      <td>6.337500</td>\n",
       "      <td>6.821339</td>\n",
       "      <td>6.144156</td>\n",
       "    </tr>\n",
       "    <tr>\n",
       "      <th>Rotten Tomatoes Rating</th>\n",
       "      <td>46.751656</td>\n",
       "      <td>51.988636</td>\n",
       "      <td>60.815900</td>\n",
       "      <td>42.422078</td>\n",
       "    </tr>\n",
       "  </tbody>\n",
       "</table>\n",
       "</div>"
      ],
      "text/plain": [
       "                           comedy     Action      drama     horror\n",
       "IMDB Rating              5.912583   6.337500   6.821339   6.144156\n",
       "Rotten Tomatoes Rating  46.751656  51.988636  60.815900  42.422078"
      ]
     },
     "execution_count": 14,
     "metadata": {},
     "output_type": "execute_result"
    }
   ],
   "source": [
    "pd.DataFrame(ratings_sum_genre/movies_count_genre,columns = ['comedy','Action','drama','horror'],\n",
    "             index = ['IMDB Rating','Rotten Tomatoes Rating'])"
   ]
  },
  {
   "cell_type": "markdown",
   "id": "57e6b24a",
   "metadata": {},
   "source": [
    "IMDB users prefer *drama*, and are amused the least by *comedy* movies, on an average. However, Rotten tomatoes critics would rather watch *comedy* than *horror* movies, on an average."
   ]
  },
  {
   "cell_type": "markdown",
   "id": "59729cfe",
   "metadata": {},
   "source": [
    "## Pseudorandom number generation\n",
    "Random numbers often need to be generated to analyze processes or systems, especially in cases when these processes or systems are governed by known probability distrbutions. For example, the number of personnel required to answer calls at a call center can be analyzed by simulating occurence and duration of calls."
   ]
  },
  {
   "cell_type": "markdown",
   "id": "17d66bf4",
   "metadata": {},
   "source": [
    "NumPy's [random](https://numpy.org/doc/stable/reference/random/index.html) module can be used to generate arrays of random numbers from several different probability distributions. For example, a `3x5` array of uniformly distributed random numbers can be generated using the `uniform` function of the `random` module."
   ]
  },
  {
   "cell_type": "code",
   "execution_count": 81,
   "id": "cff1bf6d",
   "metadata": {},
   "outputs": [
    {
     "data": {
      "text/plain": [
       "array([[0.69256322, 0.69259973, 0.03515058, 0.45186048, 0.43513769],\n",
       "       [0.07373366, 0.07465425, 0.92195975, 0.72915895, 0.8906299 ],\n",
       "       [0.15816734, 0.88144978, 0.05954028, 0.81403832, 0.97725557]])"
      ]
     },
     "execution_count": 81,
     "metadata": {},
     "output_type": "execute_result"
    }
   ],
   "source": [
    "np.random.uniform(size = (3,5))"
   ]
  },
  {
   "cell_type": "markdown",
   "id": "0e13ff9d",
   "metadata": {},
   "source": [
    "Random numbers can also be generated by Python's built-in [random](https://docs.python.org/3/library/random.html) module. However, it generates one random number at a time, which makes it much slower than NumPy's random module."
   ]
  },
  {
   "cell_type": "markdown",
   "id": "edc21536",
   "metadata": {},
   "source": [
    "**Example:** Suppose 500 people eat at Food cart 1, and another 500 eat at Food cart 2, everyday.\n",
    "\n",
    "The waiting time at Food cart 2 has a normal distribution with mean 8 minutes and standard deviation 3 minutes, while the waiting time at Food cart 1 has a uniform distribution with minimum 5 minutes and maximum 25 minutes. \n",
    "\n",
    "Simulate a dataset containing waiting times for 500 ppl for 30 days in each of the food joints. Assume that the waiting times are measured simultaneously at a certain time in both places, i.e., the observations are paired.\n",
    "\n",
    "**On how many days is the average waiting time at Food cart 2 higher than that at Food cart 1?**\n",
    "\n",
    "**What percentage of times the waiting time at Food cart 2 was higher than the waiting time at Food cart 1?**\n",
    "\n",
    "Try both approaches: (1) Using loops to generate data, (2) numpy array to generate data. Compare the time taken in both approaches. "
   ]
  },
  {
   "cell_type": "code",
   "execution_count": 49,
   "id": "ac8f7a1a",
   "metadata": {},
   "outputs": [],
   "source": [
    "import time as tm"
   ]
  },
  {
   "cell_type": "code",
   "execution_count": 52,
   "id": "e49ca4cc",
   "metadata": {},
   "outputs": [
    {
     "name": "stdout",
     "output_type": "stream",
     "text": [
      "On  0  days, the average waiting time at FoodCart2 higher than that at FoodCart1\n",
      "Percentage of times waiting time at FoodCart2 was greater than that at FoodCart1 =  16.226666666666667 %\n",
      "Time taken =  4.521248817443848\n"
     ]
    }
   ],
   "source": [
    "#Method 1: Using loops\n",
    "start_time = tm.time() #Current system time\n",
    "\n",
    "#Initializing waiting times for 500 ppl over 30 days\n",
    "waiting_times_FoodCart1 = pd.DataFrame(0,index=range(500),columns=range(30)) #FoodCart1\n",
    "waiting_times_FoodCart2 = pd.DataFrame(0,index=range(500),columns=range(30)) #FoodCart2\n",
    "import random as rm\n",
    "for i in range(500):  #Iterating over 500 ppl\n",
    "    for j in range(30): #Iterating over 30 days\n",
    "        waiting_times_FoodCart2.iloc[i,j] = rm.gauss(8,3) #Simulating waiting time in FoodCart2 for the ith person on jth day\n",
    "        waiting_times_FoodCart1.iloc[i,j] = rm.uniform(5,25) #Simulating waiting time in FoodCart1 for the ith person on jth day\n",
    "time_diff = waiting_times_FoodCart2-waiting_times_FoodCart1\n",
    "\n",
    "print(\"On \",sum(time_diff.mean()>0),\" days, the average waiting time at FoodCart2 higher than that at FoodCart1\")\n",
    "print(\"Percentage of times waiting time at FoodCart2 was greater than that at FoodCart1 = \",100*(time_diff>0).sum().sum()/(30*500),\"%\")\n",
    "end_time = tm.time() #Current system time\n",
    "print(\"Time taken = \", end_time-start_time)"
   ]
  },
  {
   "cell_type": "code",
   "execution_count": 53,
   "id": "2308730c",
   "metadata": {},
   "outputs": [
    {
     "name": "stdout",
     "output_type": "stream",
     "text": [
      "On  0  days, the average waiting time at FoodCart2 higher than that at FoodCart1\n",
      "Percentage of times waiting time at FoodCart2 was greater than that at FoodCart1 =  16.52 %\n",
      "Time taken =  0.008000850677490234\n"
     ]
    }
   ],
   "source": [
    "#Method 2: Using NumPy arrays\n",
    "start_time = tm.time()\n",
    "waiting_time_FoodCart2 = np.random.normal(8,3,size = (500,30)) #Simultaneously generating the waiting times of 500 ppl over 30 days in FoodCart2\n",
    "waiting_time_FoodCart1 = np.random.uniform(5,25,size = (500,30)) #Simultaneously generating the waiting times of 500 ppl over 30 days in FoodCart1\n",
    "time_diff = waiting_time_FoodCart2-waiting_time_FoodCart1\n",
    "print(\"On \",(time_diff.mean()>0).sum(),\" days, the average waiting time at FoodCart2 higher than that at FoodCart1\")\n",
    "print(\"Percentage of times waiting time at FoodCart2 was greater than that at FoodCart1 = \",100*(time_diff>0).sum()/15000,\"%\")\n",
    "end_time = tm.time()\n",
    "print(\"Time taken = \", end_time-start_time)"
   ]
  },
  {
   "cell_type": "markdown",
   "id": "39eb9315",
   "metadata": {},
   "source": [
    "The approach with NumPy is much faster than the one with loops."
   ]
  },
  {
   "cell_type": "markdown",
   "id": "4570eafe",
   "metadata": {},
   "source": [
    "### Practice exercise 3"
   ]
  },
  {
   "cell_type": "markdown",
   "id": "ce54a3f8",
   "metadata": {},
   "source": [
    "**Bootstrapping:** Find the 95% confidence interval of mean profit for 'Action' movies, using Bootstrapping.\n",
    "\n",
    "Bootstrapping is a non-parametric method for obtaining confidence interval. Use the algorithm below to find the confidence interval:\n",
    "\n",
    "1. Find the profit for each of the 'Action' movies. Suppose there are *N* such movies. We will have a *Profit* column with *N* values. \\\n",
    "2. Randomly sample *N* values with replacement from the *Profit* column \\\n",
    "3. Find the mean of the *N* values obtained in (b) \\\n",
    "4. Repeat steps (b) and (c) *M=1000* times \\\n",
    "5. The 95% Confidence interval is the range between the 2.5% and 97.5% percentile values of the 1000 means obtained in (c) \\\n",
    "Use the *movies_cleaned.csv* dataset. "
   ]
  },
  {
   "cell_type": "markdown",
   "id": "c34c52ee",
   "metadata": {},
   "source": [
    "**Solution:**"
   ]
  },
  {
   "cell_type": "code",
   "execution_count": 44,
   "id": "0422d661",
   "metadata": {},
   "outputs": [
    {
     "name": "stdout",
     "output_type": "stream",
     "text": [
      "Confidence interval = [$132.53 million, $182.69 million]\n"
     ]
    }
   ],
   "source": [
    "#Reading data\n",
    "movies = pd.read_csv('./Datasets/movies_cleaned.csv')\n",
    "\n",
    "#Filtering action movies\n",
    "movies_action = movies.loc[data['Action']==1,:]\n",
    "\n",
    "#Computing profit of movies\n",
    "movies_action.loc[:,'Profit'] = movies_action.loc[:,'Worldwide Gross'] - movies_action.loc[:,'Production Budget']\n",
    "\n",
    "#Subsetting the profit column\n",
    "profit_vec = movies_action['Profit']\n",
    "\n",
    "#Creating a matrix of 1000 samples with replacement from the profit column\n",
    "bootstrap_samples=np.random.choice(profit_vec,size = (1000,len(profit_vec)))\n",
    "\n",
    "#Computing the mean of each of the 1000 samples\n",
    "bootstrap_sample_means = bootstrap_samples.mean(axis=1)\n",
    "\n",
    "#The confidence interval is the 2.5th and 97.5th percentile of the mean of the 1000 samples\n",
    "print(\"Confidence interval = [$\"+str(np.round(np.percentile(bootstrap_sample_means,2.5)/1e6,2))+\" million, $\"+str(np.round(np.percentile(bootstrap_sample_means,97.5)/1e6,2))+\" million]\")"
   ]
  }
 ],
 "metadata": {
  "kernelspec": {
   "display_name": "Python 3",
   "language": "python",
   "name": "python3"
  },
  "language_info": {
   "codemirror_mode": {
    "name": "ipython",
    "version": 3
   },
   "file_extension": ".py",
   "mimetype": "text/x-python",
   "name": "python",
   "nbconvert_exporter": "python",
   "pygments_lexer": "ipython3",
   "version": "3.8.8"
  }
 },
 "nbformat": 4,
 "nbformat_minor": 5
}
